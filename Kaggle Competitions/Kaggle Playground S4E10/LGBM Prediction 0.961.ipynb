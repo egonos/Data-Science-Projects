{
 "cells": [
  {
   "cell_type": "code",
   "execution_count": 1,
   "id": "cf5f7e92",
   "metadata": {
    "execution": {
     "iopub.execute_input": "2024-10-24T08:51:18.935091Z",
     "iopub.status.busy": "2024-10-24T08:51:18.934518Z",
     "iopub.status.idle": "2024-10-24T08:51:23.979131Z",
     "shell.execute_reply": "2024-10-24T08:51:23.977809Z"
    },
    "papermill": {
     "duration": 5.06382,
     "end_time": "2024-10-24T08:51:23.982115",
     "exception": false,
     "start_time": "2024-10-24T08:51:18.918295",
     "status": "completed"
    },
    "tags": []
   },
   "outputs": [],
   "source": [
    "import numpy as np\n",
    "import pandas as pd\n",
    "import matplotlib.pyplot as plt\n",
    "import seaborn as sns\n",
    "import scipy.stats as stats\n",
    "import lightgbm as lgb\n",
    "import random \n",
    "from tqdm import tqdm\n",
    "from sklearn.preprocessing import OneHotEncoder, OrdinalEncoder\n",
    "from sklearn.compose import ColumnTransformer\n",
    "from sklearn.model_selection import StratifiedKFold,train_test_split\n",
    "from sklearn.metrics import roc_auc_score\n",
    "import catboost as cat\n",
    "import xgboost as xgb\n",
    "import matplotlib as mpl\n",
    "import optuna\n",
    "import json\n",
    "\n",
    "mpl.rcParams['axes.spines.right'] = False\n",
    "mpl.rcParams['axes.spines.top'] = False\n",
    "\n",
    "random.seed(42)\n",
    "np.random.seed(42)"
   ]
  },
  {
   "cell_type": "markdown",
   "id": "12803bfb",
   "metadata": {
    "papermill": {
     "duration": 0.01581,
     "end_time": "2024-10-24T08:51:24.013740",
     "exception": false,
     "start_time": "2024-10-24T08:51:23.997930",
     "status": "completed"
    },
    "tags": []
   },
   "source": [
    "# Introduction\n",
    "\n",
    "This kernel attempts to reflect my thought process while preparing for the competition. It involves many data science methods that are frequently applied on Kaggle competitions. The processes I conducted derived from my experience in data science as well as from this [book](https://www.amazon.com/Data-Analysis-Machine-Learning-Kaggle/dp/1801817472). I hope the viewer find this notebook useful. That being said, I'm new in the Kaggle Competitions, therefore I'm open for the suggestions and potential improvements. Thank you in advance."
   ]
  },
  {
   "cell_type": "markdown",
   "id": "14fd11ec",
   "metadata": {
    "papermill": {
     "duration": 0.014402,
     "end_time": "2024-10-24T08:51:24.041998",
     "exception": false,
     "start_time": "2024-10-24T08:51:24.027596",
     "status": "completed"
    },
    "tags": []
   },
   "source": [
    "# 1. The First Look"
   ]
  },
  {
   "cell_type": "code",
   "execution_count": 2,
   "id": "92c035da",
   "metadata": {
    "execution": {
     "iopub.execute_input": "2024-10-24T08:51:24.084029Z",
     "iopub.status.busy": "2024-10-24T08:51:24.082241Z",
     "iopub.status.idle": "2024-10-24T08:51:24.563513Z",
     "shell.execute_reply": "2024-10-24T08:51:24.562291Z"
    },
    "papermill": {
     "duration": 0.505132,
     "end_time": "2024-10-24T08:51:24.566357",
     "exception": false,
     "start_time": "2024-10-24T08:51:24.061225",
     "status": "completed"
    },
    "tags": []
   },
   "outputs": [
    {
     "data": {
      "text/html": [
       "<div>\n",
       "<style scoped>\n",
       "    .dataframe tbody tr th:only-of-type {\n",
       "        vertical-align: middle;\n",
       "    }\n",
       "\n",
       "    .dataframe tbody tr th {\n",
       "        vertical-align: top;\n",
       "    }\n",
       "\n",
       "    .dataframe thead th {\n",
       "        text-align: right;\n",
       "    }\n",
       "</style>\n",
       "<table border=\"1\" class=\"dataframe\">\n",
       "  <thead>\n",
       "    <tr style=\"text-align: right;\">\n",
       "      <th></th>\n",
       "      <th>person_age</th>\n",
       "      <th>person_income</th>\n",
       "      <th>person_home_ownership</th>\n",
       "      <th>person_emp_length</th>\n",
       "      <th>loan_intent</th>\n",
       "      <th>loan_grade</th>\n",
       "      <th>loan_amnt</th>\n",
       "      <th>loan_int_rate</th>\n",
       "      <th>loan_percent_income</th>\n",
       "      <th>cb_person_default_on_file</th>\n",
       "      <th>cb_person_cred_hist_length</th>\n",
       "    </tr>\n",
       "  </thead>\n",
       "  <tbody>\n",
       "    <tr>\n",
       "      <th>0</th>\n",
       "      <td>37</td>\n",
       "      <td>35000</td>\n",
       "      <td>RENT</td>\n",
       "      <td>0.0</td>\n",
       "      <td>EDUCATION</td>\n",
       "      <td>B</td>\n",
       "      <td>6000</td>\n",
       "      <td>11.49</td>\n",
       "      <td>0.17</td>\n",
       "      <td>N</td>\n",
       "      <td>14</td>\n",
       "    </tr>\n",
       "    <tr>\n",
       "      <th>1</th>\n",
       "      <td>22</td>\n",
       "      <td>56000</td>\n",
       "      <td>OWN</td>\n",
       "      <td>6.0</td>\n",
       "      <td>MEDICAL</td>\n",
       "      <td>C</td>\n",
       "      <td>4000</td>\n",
       "      <td>13.35</td>\n",
       "      <td>0.07</td>\n",
       "      <td>N</td>\n",
       "      <td>2</td>\n",
       "    </tr>\n",
       "    <tr>\n",
       "      <th>2</th>\n",
       "      <td>29</td>\n",
       "      <td>28800</td>\n",
       "      <td>OWN</td>\n",
       "      <td>8.0</td>\n",
       "      <td>PERSONAL</td>\n",
       "      <td>A</td>\n",
       "      <td>6000</td>\n",
       "      <td>8.90</td>\n",
       "      <td>0.21</td>\n",
       "      <td>N</td>\n",
       "      <td>10</td>\n",
       "    </tr>\n",
       "    <tr>\n",
       "      <th>3</th>\n",
       "      <td>30</td>\n",
       "      <td>70000</td>\n",
       "      <td>RENT</td>\n",
       "      <td>14.0</td>\n",
       "      <td>VENTURE</td>\n",
       "      <td>B</td>\n",
       "      <td>12000</td>\n",
       "      <td>11.11</td>\n",
       "      <td>0.17</td>\n",
       "      <td>N</td>\n",
       "      <td>5</td>\n",
       "    </tr>\n",
       "    <tr>\n",
       "      <th>4</th>\n",
       "      <td>22</td>\n",
       "      <td>60000</td>\n",
       "      <td>RENT</td>\n",
       "      <td>2.0</td>\n",
       "      <td>MEDICAL</td>\n",
       "      <td>A</td>\n",
       "      <td>6000</td>\n",
       "      <td>6.92</td>\n",
       "      <td>0.10</td>\n",
       "      <td>N</td>\n",
       "      <td>3</td>\n",
       "    </tr>\n",
       "  </tbody>\n",
       "</table>\n",
       "</div>"
      ],
      "text/plain": [
       "   person_age  person_income person_home_ownership  person_emp_length  \\\n",
       "0          37          35000                  RENT                0.0   \n",
       "1          22          56000                   OWN                6.0   \n",
       "2          29          28800                   OWN                8.0   \n",
       "3          30          70000                  RENT               14.0   \n",
       "4          22          60000                  RENT                2.0   \n",
       "\n",
       "  loan_intent loan_grade  loan_amnt  loan_int_rate  loan_percent_income  \\\n",
       "0   EDUCATION          B       6000          11.49                 0.17   \n",
       "1     MEDICAL          C       4000          13.35                 0.07   \n",
       "2    PERSONAL          A       6000           8.90                 0.21   \n",
       "3     VENTURE          B      12000          11.11                 0.17   \n",
       "4     MEDICAL          A       6000           6.92                 0.10   \n",
       "\n",
       "  cb_person_default_on_file  cb_person_cred_hist_length  \n",
       "0                         N                          14  \n",
       "1                         N                           2  \n",
       "2                         N                          10  \n",
       "3                         N                           5  \n",
       "4                         N                           3  "
      ]
     },
     "execution_count": 2,
     "metadata": {},
     "output_type": "execute_result"
    }
   ],
   "source": [
    "X = pd.read_csv(\"/kaggle/input/playground-series-s4e10/train.csv\").iloc[:, 1:-1]\n",
    "y = pd.read_csv(\"/kaggle/input/playground-series-s4e10/train.csv\").iloc[:, -1]\n",
    "test = pd.read_csv(\"/kaggle/input/playground-series-s4e10/test.csv\").iloc[:, 1:]\n",
    "\n",
    "X.head()"
   ]
  },
  {
   "cell_type": "code",
   "execution_count": 3,
   "id": "3a66f822",
   "metadata": {
    "execution": {
     "iopub.execute_input": "2024-10-24T08:51:24.597370Z",
     "iopub.status.busy": "2024-10-24T08:51:24.596441Z",
     "iopub.status.idle": "2024-10-24T08:51:24.653636Z",
     "shell.execute_reply": "2024-10-24T08:51:24.652522Z"
    },
    "papermill": {
     "duration": 0.075633,
     "end_time": "2024-10-24T08:51:24.656205",
     "exception": false,
     "start_time": "2024-10-24T08:51:24.580572",
     "status": "completed"
    },
    "tags": []
   },
   "outputs": [
    {
     "data": {
      "text/html": [
       "<div>\n",
       "<style scoped>\n",
       "    .dataframe tbody tr th:only-of-type {\n",
       "        vertical-align: middle;\n",
       "    }\n",
       "\n",
       "    .dataframe tbody tr th {\n",
       "        vertical-align: top;\n",
       "    }\n",
       "\n",
       "    .dataframe thead th {\n",
       "        text-align: right;\n",
       "    }\n",
       "</style>\n",
       "<table border=\"1\" class=\"dataframe\">\n",
       "  <thead>\n",
       "    <tr style=\"text-align: right;\">\n",
       "      <th></th>\n",
       "      <th>count</th>\n",
       "      <th>mean</th>\n",
       "      <th>std</th>\n",
       "      <th>min</th>\n",
       "      <th>25%</th>\n",
       "      <th>50%</th>\n",
       "      <th>75%</th>\n",
       "      <th>max</th>\n",
       "    </tr>\n",
       "  </thead>\n",
       "  <tbody>\n",
       "    <tr>\n",
       "      <th>person_age</th>\n",
       "      <td>58645.0</td>\n",
       "      <td>27.550857</td>\n",
       "      <td>6.033216</td>\n",
       "      <td>20.00</td>\n",
       "      <td>23.00</td>\n",
       "      <td>26.00</td>\n",
       "      <td>30.00</td>\n",
       "      <td>123.00</td>\n",
       "    </tr>\n",
       "    <tr>\n",
       "      <th>person_income</th>\n",
       "      <td>58645.0</td>\n",
       "      <td>64046.172871</td>\n",
       "      <td>37931.106978</td>\n",
       "      <td>4200.00</td>\n",
       "      <td>42000.00</td>\n",
       "      <td>58000.00</td>\n",
       "      <td>75600.00</td>\n",
       "      <td>1900000.00</td>\n",
       "    </tr>\n",
       "    <tr>\n",
       "      <th>person_emp_length</th>\n",
       "      <td>58645.0</td>\n",
       "      <td>4.701015</td>\n",
       "      <td>3.959784</td>\n",
       "      <td>0.00</td>\n",
       "      <td>2.00</td>\n",
       "      <td>4.00</td>\n",
       "      <td>7.00</td>\n",
       "      <td>123.00</td>\n",
       "    </tr>\n",
       "    <tr>\n",
       "      <th>loan_amnt</th>\n",
       "      <td>58645.0</td>\n",
       "      <td>9217.556518</td>\n",
       "      <td>5563.807384</td>\n",
       "      <td>500.00</td>\n",
       "      <td>5000.00</td>\n",
       "      <td>8000.00</td>\n",
       "      <td>12000.00</td>\n",
       "      <td>35000.00</td>\n",
       "    </tr>\n",
       "    <tr>\n",
       "      <th>loan_int_rate</th>\n",
       "      <td>58645.0</td>\n",
       "      <td>10.677874</td>\n",
       "      <td>3.034697</td>\n",
       "      <td>5.42</td>\n",
       "      <td>7.88</td>\n",
       "      <td>10.75</td>\n",
       "      <td>12.99</td>\n",
       "      <td>23.22</td>\n",
       "    </tr>\n",
       "    <tr>\n",
       "      <th>loan_percent_income</th>\n",
       "      <td>58645.0</td>\n",
       "      <td>0.159238</td>\n",
       "      <td>0.091692</td>\n",
       "      <td>0.00</td>\n",
       "      <td>0.09</td>\n",
       "      <td>0.14</td>\n",
       "      <td>0.21</td>\n",
       "      <td>0.83</td>\n",
       "    </tr>\n",
       "    <tr>\n",
       "      <th>cb_person_cred_hist_length</th>\n",
       "      <td>58645.0</td>\n",
       "      <td>5.813556</td>\n",
       "      <td>4.029196</td>\n",
       "      <td>2.00</td>\n",
       "      <td>3.00</td>\n",
       "      <td>4.00</td>\n",
       "      <td>8.00</td>\n",
       "      <td>30.00</td>\n",
       "    </tr>\n",
       "  </tbody>\n",
       "</table>\n",
       "</div>"
      ],
      "text/plain": [
       "                              count          mean           std      min  \\\n",
       "person_age                  58645.0     27.550857      6.033216    20.00   \n",
       "person_income               58645.0  64046.172871  37931.106978  4200.00   \n",
       "person_emp_length           58645.0      4.701015      3.959784     0.00   \n",
       "loan_amnt                   58645.0   9217.556518   5563.807384   500.00   \n",
       "loan_int_rate               58645.0     10.677874      3.034697     5.42   \n",
       "loan_percent_income         58645.0      0.159238      0.091692     0.00   \n",
       "cb_person_cred_hist_length  58645.0      5.813556      4.029196     2.00   \n",
       "\n",
       "                                 25%       50%       75%         max  \n",
       "person_age                     23.00     26.00     30.00      123.00  \n",
       "person_income               42000.00  58000.00  75600.00  1900000.00  \n",
       "person_emp_length               2.00      4.00      7.00      123.00  \n",
       "loan_amnt                    5000.00   8000.00  12000.00    35000.00  \n",
       "loan_int_rate                   7.88     10.75     12.99       23.22  \n",
       "loan_percent_income             0.09      0.14      0.21        0.83  \n",
       "cb_person_cred_hist_length      3.00      4.00      8.00       30.00  "
      ]
     },
     "execution_count": 3,
     "metadata": {},
     "output_type": "execute_result"
    }
   ],
   "source": [
    "X.describe().T"
   ]
  },
  {
   "cell_type": "code",
   "execution_count": 4,
   "id": "72161831",
   "metadata": {
    "execution": {
     "iopub.execute_input": "2024-10-24T08:51:24.687741Z",
     "iopub.status.busy": "2024-10-24T08:51:24.687265Z",
     "iopub.status.idle": "2024-10-24T08:51:24.731954Z",
     "shell.execute_reply": "2024-10-24T08:51:24.730800Z"
    },
    "papermill": {
     "duration": 0.063697,
     "end_time": "2024-10-24T08:51:24.734654",
     "exception": false,
     "start_time": "2024-10-24T08:51:24.670957",
     "status": "completed"
    },
    "tags": []
   },
   "outputs": [
    {
     "data": {
      "text/html": [
       "<div>\n",
       "<style scoped>\n",
       "    .dataframe tbody tr th:only-of-type {\n",
       "        vertical-align: middle;\n",
       "    }\n",
       "\n",
       "    .dataframe tbody tr th {\n",
       "        vertical-align: top;\n",
       "    }\n",
       "\n",
       "    .dataframe thead th {\n",
       "        text-align: right;\n",
       "    }\n",
       "</style>\n",
       "<table border=\"1\" class=\"dataframe\">\n",
       "  <thead>\n",
       "    <tr style=\"text-align: right;\">\n",
       "      <th></th>\n",
       "      <th>count</th>\n",
       "      <th>mean</th>\n",
       "      <th>std</th>\n",
       "      <th>min</th>\n",
       "      <th>25%</th>\n",
       "      <th>50%</th>\n",
       "      <th>75%</th>\n",
       "      <th>max</th>\n",
       "    </tr>\n",
       "  </thead>\n",
       "  <tbody>\n",
       "    <tr>\n",
       "      <th>person_age</th>\n",
       "      <td>39098.0</td>\n",
       "      <td>27.566781</td>\n",
       "      <td>6.032761</td>\n",
       "      <td>20.00</td>\n",
       "      <td>23.00</td>\n",
       "      <td>26.00</td>\n",
       "      <td>30.00</td>\n",
       "      <td>94.00</td>\n",
       "    </tr>\n",
       "    <tr>\n",
       "      <th>person_income</th>\n",
       "      <td>39098.0</td>\n",
       "      <td>64060.460842</td>\n",
       "      <td>37955.828705</td>\n",
       "      <td>4000.00</td>\n",
       "      <td>42000.00</td>\n",
       "      <td>58000.00</td>\n",
       "      <td>75885.00</td>\n",
       "      <td>1900000.00</td>\n",
       "    </tr>\n",
       "    <tr>\n",
       "      <th>person_emp_length</th>\n",
       "      <td>39098.0</td>\n",
       "      <td>4.687068</td>\n",
       "      <td>3.868395</td>\n",
       "      <td>0.00</td>\n",
       "      <td>2.00</td>\n",
       "      <td>4.00</td>\n",
       "      <td>7.00</td>\n",
       "      <td>42.00</td>\n",
       "    </tr>\n",
       "    <tr>\n",
       "      <th>loan_amnt</th>\n",
       "      <td>39098.0</td>\n",
       "      <td>9251.466188</td>\n",
       "      <td>5576.254680</td>\n",
       "      <td>700.00</td>\n",
       "      <td>5000.00</td>\n",
       "      <td>8000.00</td>\n",
       "      <td>12000.00</td>\n",
       "      <td>35000.00</td>\n",
       "    </tr>\n",
       "    <tr>\n",
       "      <th>loan_int_rate</th>\n",
       "      <td>39098.0</td>\n",
       "      <td>10.661216</td>\n",
       "      <td>3.020220</td>\n",
       "      <td>5.42</td>\n",
       "      <td>7.88</td>\n",
       "      <td>10.75</td>\n",
       "      <td>12.99</td>\n",
       "      <td>22.11</td>\n",
       "    </tr>\n",
       "    <tr>\n",
       "      <th>loan_percent_income</th>\n",
       "      <td>39098.0</td>\n",
       "      <td>0.159573</td>\n",
       "      <td>0.091633</td>\n",
       "      <td>0.00</td>\n",
       "      <td>0.09</td>\n",
       "      <td>0.14</td>\n",
       "      <td>0.21</td>\n",
       "      <td>0.73</td>\n",
       "    </tr>\n",
       "    <tr>\n",
       "      <th>cb_person_cred_hist_length</th>\n",
       "      <td>39098.0</td>\n",
       "      <td>5.830707</td>\n",
       "      <td>4.072157</td>\n",
       "      <td>2.00</td>\n",
       "      <td>3.00</td>\n",
       "      <td>4.00</td>\n",
       "      <td>8.00</td>\n",
       "      <td>30.00</td>\n",
       "    </tr>\n",
       "  </tbody>\n",
       "</table>\n",
       "</div>"
      ],
      "text/plain": [
       "                              count          mean           std      min  \\\n",
       "person_age                  39098.0     27.566781      6.032761    20.00   \n",
       "person_income               39098.0  64060.460842  37955.828705  4000.00   \n",
       "person_emp_length           39098.0      4.687068      3.868395     0.00   \n",
       "loan_amnt                   39098.0   9251.466188   5576.254680   700.00   \n",
       "loan_int_rate               39098.0     10.661216      3.020220     5.42   \n",
       "loan_percent_income         39098.0      0.159573      0.091633     0.00   \n",
       "cb_person_cred_hist_length  39098.0      5.830707      4.072157     2.00   \n",
       "\n",
       "                                 25%       50%       75%         max  \n",
       "person_age                     23.00     26.00     30.00       94.00  \n",
       "person_income               42000.00  58000.00  75885.00  1900000.00  \n",
       "person_emp_length               2.00      4.00      7.00       42.00  \n",
       "loan_amnt                    5000.00   8000.00  12000.00    35000.00  \n",
       "loan_int_rate                   7.88     10.75     12.99       22.11  \n",
       "loan_percent_income             0.09      0.14      0.21        0.73  \n",
       "cb_person_cred_hist_length      3.00      4.00      8.00       30.00  "
      ]
     },
     "execution_count": 4,
     "metadata": {},
     "output_type": "execute_result"
    }
   ],
   "source": [
    "test.describe().T"
   ]
  },
  {
   "cell_type": "code",
   "execution_count": 5,
   "id": "4638d8f2",
   "metadata": {
    "execution": {
     "iopub.execute_input": "2024-10-24T08:51:24.766343Z",
     "iopub.status.busy": "2024-10-24T08:51:24.765880Z",
     "iopub.status.idle": "2024-10-24T08:51:24.781491Z",
     "shell.execute_reply": "2024-10-24T08:51:24.780102Z"
    },
    "papermill": {
     "duration": 0.034968,
     "end_time": "2024-10-24T08:51:24.784380",
     "exception": false,
     "start_time": "2024-10-24T08:51:24.749412",
     "status": "completed"
    },
    "tags": []
   },
   "outputs": [
    {
     "data": {
      "text/plain": [
       "loan_status\n",
       "0    50295\n",
       "1     8350\n",
       "Name: count, dtype: int64"
      ]
     },
     "execution_count": 5,
     "metadata": {},
     "output_type": "execute_result"
    }
   ],
   "source": [
    "y.value_counts()"
   ]
  },
  {
   "cell_type": "code",
   "execution_count": 6,
   "id": "613f8fe8",
   "metadata": {
    "execution": {
     "iopub.execute_input": "2024-10-24T08:51:24.816799Z",
     "iopub.status.busy": "2024-10-24T08:51:24.816299Z",
     "iopub.status.idle": "2024-10-24T08:51:24.868542Z",
     "shell.execute_reply": "2024-10-24T08:51:24.867374Z"
    },
    "papermill": {
     "duration": 0.071938,
     "end_time": "2024-10-24T08:51:24.871525",
     "exception": false,
     "start_time": "2024-10-24T08:51:24.799587",
     "status": "completed"
    },
    "tags": []
   },
   "outputs": [
    {
     "data": {
      "text/html": [
       "<div>\n",
       "<style scoped>\n",
       "    .dataframe tbody tr th:only-of-type {\n",
       "        vertical-align: middle;\n",
       "    }\n",
       "\n",
       "    .dataframe tbody tr th {\n",
       "        vertical-align: top;\n",
       "    }\n",
       "\n",
       "    .dataframe thead th {\n",
       "        text-align: right;\n",
       "    }\n",
       "</style>\n",
       "<table border=\"1\" class=\"dataframe\">\n",
       "  <thead>\n",
       "    <tr style=\"text-align: right;\">\n",
       "      <th></th>\n",
       "      <th>Unique_Counts_Train</th>\n",
       "      <th>Unique_Counts_Test</th>\n",
       "    </tr>\n",
       "    <tr>\n",
       "      <th>Categorical Features</th>\n",
       "      <th></th>\n",
       "      <th></th>\n",
       "    </tr>\n",
       "  </thead>\n",
       "  <tbody>\n",
       "    <tr>\n",
       "      <th>person_home_ownership</th>\n",
       "      <td>4</td>\n",
       "      <td>4</td>\n",
       "    </tr>\n",
       "    <tr>\n",
       "      <th>loan_intent</th>\n",
       "      <td>6</td>\n",
       "      <td>6</td>\n",
       "    </tr>\n",
       "    <tr>\n",
       "      <th>loan_grade</th>\n",
       "      <td>7</td>\n",
       "      <td>7</td>\n",
       "    </tr>\n",
       "    <tr>\n",
       "      <th>cb_person_default_on_file</th>\n",
       "      <td>2</td>\n",
       "      <td>2</td>\n",
       "    </tr>\n",
       "  </tbody>\n",
       "</table>\n",
       "</div>"
      ],
      "text/plain": [
       "                           Unique_Counts_Train  Unique_Counts_Test\n",
       "Categorical Features                                              \n",
       "person_home_ownership                        4                   4\n",
       "loan_intent                                  6                   6\n",
       "loan_grade                                   7                   7\n",
       "cb_person_default_on_file                    2                   2"
      ]
     },
     "execution_count": 6,
     "metadata": {},
     "output_type": "execute_result"
    }
   ],
   "source": [
    "categorical_features = ['person_home_ownership', 'loan_intent', 'loan_grade', 'cb_person_default_on_file']\n",
    "unique_counts_train = []\n",
    "unique_counts_test = []\n",
    "\n",
    "for categorical_feature in categorical_features:\n",
    "    unique_counts_train.append(X[categorical_feature].nunique())\n",
    "    unique_counts_test.append(test[categorical_feature].nunique())\n",
    "\n",
    "categorical_counts = pd.DataFrame({\"Categorical Features\": categorical_features,\n",
    "             \"Unique_Counts_Train\": unique_counts_train,\n",
    "             \"Unique_Counts_Test\": unique_counts_test}).set_index(\"Categorical Features\")\n",
    "\n",
    "categorical_counts"
   ]
  },
  {
   "cell_type": "code",
   "execution_count": 7,
   "id": "154ccdb4",
   "metadata": {
    "execution": {
     "iopub.execute_input": "2024-10-24T08:51:24.904207Z",
     "iopub.status.busy": "2024-10-24T08:51:24.903742Z",
     "iopub.status.idle": "2024-10-24T08:51:27.286377Z",
     "shell.execute_reply": "2024-10-24T08:51:27.285070Z"
    },
    "papermill": {
     "duration": 2.40267,
     "end_time": "2024-10-24T08:51:27.289783",
     "exception": false,
     "start_time": "2024-10-24T08:51:24.887113",
     "status": "completed"
    },
    "tags": []
   },
   "outputs": [
    {
     "data": {
      "image/png": "[encoded data removed]",
      "text/plain": [
       "<Figure size 1000x2000 with 14 Axes>"
      ]
     },
     "metadata": {},
     "output_type": "display_data"
    }
   ],
   "source": [
    "numerical_features = [column for column in X.columns if column not in categorical_features]\n",
    "fig,ax = plt.subplots(ncols = 2,nrows = 7,figsize = (10,20))\n",
    "row_no = 0\n",
    "\n",
    "for numerical_feature in numerical_features:\n",
    "    sns.boxplot(x = numerical_feature, data = X, ax = ax[row_no][0])\n",
    "    sns.boxplot(x = numerical_feature, data = test, ax = ax[row_no][1])\n",
    "    row_no+=1\n",
    "\n",
    "plt.tight_layout()\n",
    "fig.show()"
   ]
  },
  {
   "cell_type": "markdown",
   "id": "9aed223e",
   "metadata": {
    "papermill": {
     "duration": 0.016437,
     "end_time": "2024-10-24T08:51:27.322786",
     "exception": false,
     "start_time": "2024-10-24T08:51:27.306349",
     "status": "completed"
    },
    "tags": []
   },
   "source": [
    "The dataset of this challenge includes 58645 data points for training and 39098 data points for testing. It contains both categorical and numerical features. The training dataset is imbalanced meaning that data points having `loan_status = 0` lot more that the data points having `loan_status = 1`. We have to deal with this situation later on. The unique number of categorical features are identical in train and test sets and they have low cardinality. Since the cardinality is low, we can encode them in variety of ways without encountering `the curse of dimensionality` problem. Also the datasets do not contain any empty values therefore we don't need to to work on this area.\n",
    "\n",
    "The train dataset has extreme data points in terms of `person_age` and `person_emph_length`. A person who lives 123 years might be possible but its unlikely. There is a possibility that the data was entered incorrectly, therefore I dropped that data point."
   ]
  },
  {
   "cell_type": "code",
   "execution_count": 8,
   "id": "3674bec0",
   "metadata": {
    "execution": {
     "iopub.execute_input": "2024-10-24T08:51:27.357968Z",
     "iopub.status.busy": "2024-10-24T08:51:27.357469Z",
     "iopub.status.idle": "2024-10-24T08:51:27.382808Z",
     "shell.execute_reply": "2024-10-24T08:51:27.381520Z"
    },
    "papermill": {
     "duration": 0.04624,
     "end_time": "2024-10-24T08:51:27.385908",
     "exception": false,
     "start_time": "2024-10-24T08:51:27.339668",
     "status": "completed"
    },
    "tags": []
   },
   "outputs": [],
   "source": [
    "drop_idx = [\n",
    "    X.loc[X.person_age == X.person_age.max()].index[0],\n",
    "    X.loc[X.person_emp_length == X.person_emp_length.max()].index[0]\n",
    "]\n",
    "\n",
    "X = X.drop(drop_idx).reset_index(drop = True)\n",
    "y = y.drop(drop_idx).reset_index(drop = True)"
   ]
  },
  {
   "cell_type": "markdown",
   "id": "d2deec86",
   "metadata": {
    "papermill": {
     "duration": 0.015973,
     "end_time": "2024-10-24T08:51:27.418202",
     "exception": false,
     "start_time": "2024-10-24T08:51:27.402229",
     "status": "completed"
    },
    "tags": []
   },
   "source": [
    "# 2. Adversarial Validation\n",
    "\n",
    "In order to build a successful model, the train and test sets have to come from the same distributions. We can always plot all the features side by side for comparison but it is exhausting. Rather we can use `Adversarial Validation`.\n",
    "\n",
    "In this method,\n",
    "\n",
    "* The labels of the train and test datasets are dropped.\n",
    "* The datasets are labeled as 0 and 1 respectively.\n",
    "* The datasets are combined\n",
    "* A model is trained on the combined data set.\n",
    "\n",
    "If the model successfully predicts the fake labels then it means one of the following:\n",
    "\n",
    "* There is a data leakage.\n",
    "* The train and test sets are not coming from the same distributions.\n",
    "\n",
    "The code below applies this process. I chose `lightgbm` due to its categorical feature support and fast convergence."
   ]
  },
  {
   "cell_type": "code",
   "execution_count": 9,
   "id": "1e1568c2",
   "metadata": {
    "execution": {
     "iopub.execute_input": "2024-10-24T08:51:27.453583Z",
     "iopub.status.busy": "2024-10-24T08:51:27.453088Z",
     "iopub.status.idle": "2024-10-24T08:51:28.575587Z",
     "shell.execute_reply": "2024-10-24T08:51:28.574324Z"
    },
    "papermill": {
     "duration": 1.143948,
     "end_time": "2024-10-24T08:51:28.578404",
     "exception": false,
     "start_time": "2024-10-24T08:51:27.434456",
     "status": "completed"
    },
    "tags": []
   },
   "outputs": [
    {
     "name": "stdout",
     "output_type": "stream",
     "text": [
      "[LightGBM] [Info] Number of positive: 31321, number of negative: 46871\n",
      "[LightGBM] [Info] Auto-choosing row-wise multi-threading, the overhead of testing was 0.007511 seconds.\n",
      "You can set `force_row_wise=true` to remove the overhead.\n",
      "And if memory is not enough, you can set `force_col_wise=true`.\n",
      "[LightGBM] [Info] Total Bins 851\n",
      "[LightGBM] [Info] Number of data points in the train set: 78192, number of used features: 11\n",
      "[LightGBM] [Info] [binary:BoostFromScore]: pavg=0.400565 -> initscore=-0.403110\n",
      "[LightGBM] [Info] Start training from score -0.403110\n",
      "ROC AUC Score: 0.5\n"
     ]
    }
   ],
   "source": [
    "X['label'] = 0\n",
    "test['label'] = 1\n",
    "\n",
    "categorical_features = ['person_home_ownership', 'loan_intent', 'loan_grade', 'cb_person_default_on_file']\n",
    "for feature in categorical_features:\n",
    "    X[feature] = X[feature].astype('category')\n",
    "    test[feature] = test[feature].astype('category')\n",
    "\n",
    "concat_data = pd.concat([X, test]).sample(frac=1, replace=False)\n",
    "X_train, X_test, y_train, y_test = train_test_split(concat_data.iloc[:, :-1], concat_data['label'], test_size=0.2, random_state=42)\n",
    "\n",
    "model = lgb.LGBMClassifier()\n",
    "model.fit(X_train, y_train)\n",
    "roc_auc = roc_auc_score(y_test, model.predict_proba(X_test)[:, 1])\n",
    "\n",
    "print(\"ROC AUC Score:\", np.round(roc_auc,2))"
   ]
  },
  {
   "cell_type": "markdown",
   "id": "97ef0b6f",
   "metadata": {
    "papermill": {
     "duration": 0.016226,
     "end_time": "2024-10-24T08:51:28.611328",
     "exception": false,
     "start_time": "2024-10-24T08:51:28.595102",
     "status": "completed"
    },
    "tags": []
   },
   "source": [
    "ROC AUC score of 0.5 implies that train and test sets are identical."
   ]
  },
  {
   "cell_type": "markdown",
   "id": "ebbad378",
   "metadata": {
    "papermill": {
     "duration": 0.016237,
     "end_time": "2024-10-24T08:51:28.644147",
     "exception": false,
     "start_time": "2024-10-24T08:51:28.627910",
     "status": "completed"
    },
    "tags": []
   },
   "source": [
    "<!-- # 3. Obtaining Baseline Performance -->\n",
    "\n",
    "To obtain a baseline performance, I again used an untuned `LGBMClassifier`. To obtain a reliable performance data, I ran `StratifiedKFold` cross validation in 5 different random state settings. After that, I stored the results and commented the code below for the convenience."
   ]
  },
  {
   "cell_type": "code",
   "execution_count": 10,
   "id": "915cdbdc",
   "metadata": {
    "execution": {
     "iopub.execute_input": "2024-10-24T08:51:28.679693Z",
     "iopub.status.busy": "2024-10-24T08:51:28.679229Z",
     "iopub.status.idle": "2024-10-24T08:51:28.686473Z",
     "shell.execute_reply": "2024-10-24T08:51:28.685295Z"
    },
    "papermill": {
     "duration": 0.028223,
     "end_time": "2024-10-24T08:51:28.689134",
     "exception": false,
     "start_time": "2024-10-24T08:51:28.660911",
     "status": "completed"
    },
    "tags": []
   },
   "outputs": [],
   "source": [
    "# X = pd.read_csv(\"/kaggle/input/playground-series-s4e10/train.csv\").iloc[:, 1:-1]\n",
    "# y = pd.read_csv(\"/kaggle/input/playground-series-s4e10/train.csv\").iloc[:, -1]\n",
    "\n",
    "# drop_idx = [\n",
    "#     X.loc[X.person_age == X.person_age.max()].index[0],\n",
    "#     X.loc[X.person_emp_length == X.person_emp_length.max()].index[0]\n",
    "# ]\n",
    "\n",
    "# X = X.drop(drop_idx).reset_index(drop = True)\n",
    "# y = y.drop(drop_idx).reset_index(drop = True)\n",
    "\n",
    "# X['person_home_ownership'] = X['person_home_ownership'].astype('category')\n",
    "# X['loan_intent'] = X['loan_intent'].astype('category')\n",
    "# X['loan_grade'] = X['loan_grade'].astype('category')\n",
    "# X['cb_person_default_on_file'] = X['cb_person_default_on_file'].astype('category')\n",
    "\n",
    "# random_states = [1, 2, 3, 4, 5]\n",
    "# baseline_scores = []\n",
    "# categorical_features = ['person_home_ownership', 'loan_intent', 'loan_grade', 'cb_person_default_on_file']\n",
    "\n",
    "# base_params = {\n",
    "#     'objective': 'binary',\n",
    "#     'metric': 'auc',\n",
    "#     'is_unbalance': 'true',\n",
    "#     'boosting_type': 'gbdt',\n",
    "#     'seed': 42,\n",
    "#     'verbose': 0\n",
    "# }\n",
    "\n",
    "# for rnd_state in tqdm(random_states):\n",
    "#     kf = StratifiedKFold(n_splits=5, shuffle=True, random_state=rnd_state)\n",
    "#     for train_index, test_index in kf.split(X, y):\n",
    "#         X_,y_ = X.loc[train_index],y.loc[train_index]\n",
    "#         X_tst,y_tst = X.loc[test_index],y.loc[test_index]\n",
    "#         X_train,X_val,y_train,y_val = train_test_split(X_,y_,random_state = rnd_state, stratify = y_)\n",
    "        \n",
    "#         train_dataset = lgb.Dataset(data = X_train,\n",
    "#                                     label = y_train,\n",
    "#                                     categorical_feature = categorical_features)\n",
    "        \n",
    "#         validation_dataset = lgb.Dataset(data = X_val,\n",
    "#                                         label = y_val,\n",
    "#                                         categorical_feature = categorical_features)\n",
    "        \n",
    "#         lgbm_model = lgb.train(base_params, train_dataset, num_boost_round=1000, valid_sets=[validation_dataset])\n",
    "#         proba_preds = lgbm_model.predict(X_tst)\n",
    "#         baseline_scores.append(roc_auc_score(y_tst, proba_preds))\n",
    "\n",
    "# np.savetxt(\"lgbm_baseline.txt\",baseline_scores)"
   ]
  },
  {
   "cell_type": "markdown",
   "id": "e4f48d29",
   "metadata": {
    "papermill": {
     "duration": 0.016914,
     "end_time": "2024-10-24T08:51:28.722878",
     "exception": false,
     "start_time": "2024-10-24T08:51:28.705964",
     "status": "completed"
    },
    "tags": []
   },
   "source": [
    "# 3. Adding New Features\n",
    "\n",
    "Creating more features can potentially improve the model performance because by doing so the model enables to capture nonlinear relationships between predictors. This procedure does not have strict rules. You can do a lot of thing using your imagination. That being said, the most frequent processes are \n",
    "\n",
    "1. Binning the numerical predictors\n",
    "2. Creating meta features of rows and columns (sum, mean, median, std etc.)\n",
    "3. Numerical operations using the predictors (summing, multiplying and dividing the predictors)\n",
    "\n",
    "I used second and third method to create features. After that I ran the same untuned `lgbm` base model on the data."
   ]
  },
  {
   "cell_type": "code",
   "execution_count": 11,
   "id": "4d591943",
   "metadata": {
    "execution": {
     "iopub.execute_input": "2024-10-24T08:51:28.759202Z",
     "iopub.status.busy": "2024-10-24T08:51:28.758745Z",
     "iopub.status.idle": "2024-10-24T08:51:28.766926Z",
     "shell.execute_reply": "2024-10-24T08:51:28.765416Z"
    },
    "papermill": {
     "duration": 0.028896,
     "end_time": "2024-10-24T08:51:28.769440",
     "exception": false,
     "start_time": "2024-10-24T08:51:28.740544",
     "status": "completed"
    },
    "tags": []
   },
   "outputs": [],
   "source": [
    "# X = pd.read_csv(\"/kaggle/input/playground-series-s4e10/train.csv\").iloc[:, 1:-1]\n",
    "# y = pd.read_csv(\"/kaggle/input/playground-series-s4e10/train.csv\").iloc[:, -1]\n",
    "\n",
    "# drop_idx = [\n",
    "#     X.loc[X.person_age == X.person_age.max()].index[0],\n",
    "#     X.loc[X.person_emp_length == X.person_emp_length.max()].index[0]\n",
    "# ]\n",
    "\n",
    "# X = X.drop(drop_idx).reset_index(drop = True)\n",
    "# y = y.drop(drop_idx).reset_index(drop = True)\n",
    "\n",
    "# #creating meta features\n",
    "# numerical_features = ['person_age', 'person_income','person_emp_length',\"loan_amnt\",\"loan_int_rate\",\"loan_percent_income\",\"cb_person_cred_hist_length\"]\n",
    "# X[\"Numeric Sum\"] = X[numerical_features].sum(axis = 1)\n",
    "# X[\"Numeric Mean\"] = X[numerical_features].mean(axis = 1)\n",
    "# X[\"Numeric Std\"] = X[numerical_features].std(axis = 1)\n",
    "\n",
    "# #creating features from the existing ones\n",
    "# X['income_loan_ratio'] = X['person_income'] / X['loan_amnt']\n",
    "# X['emp_length_to_age_ratio'] = X['person_emp_length'] / X['person_age']\n",
    "\n",
    "# X['person_home_ownership'] = X['person_home_ownership'].astype('category')\n",
    "# X['loan_intent'] = X['loan_intent'].astype('category')\n",
    "# X['loan_grade'] = X['loan_grade'].astype('category')\n",
    "# X['cb_person_default_on_file'] = X['cb_person_default_on_file'].astype('category')\n",
    "\n",
    "# random_states = [1, 2, 3, 4, 5]\n",
    "# feature_added_scores = []\n",
    "# categorical_features = ['person_home_ownership', 'loan_intent', 'loan_grade', 'cb_person_default_on_file']\n",
    "\n",
    "# base_params = {\n",
    "#     'objective': 'binary',\n",
    "#     'metric': 'auc',\n",
    "#     'is_unbalance': 'true',\n",
    "#     'boosting_type': 'gbdt',\n",
    "#     'seed': 42,\n",
    "#     'verbose': 0\n",
    "# }\n",
    "\n",
    "# for rnd_state in tqdm(random_states):\n",
    "#     kf = StratifiedKFold(n_splits=5, shuffle=True, random_state=rnd_state)\n",
    "#     for train_index, test_index in kf.split(X, y):\n",
    "#         X_,y_ = X.loc[train_index],y.loc[train_index]\n",
    "#         X_tst,y_tst = X.loc[test_index],y.loc[test_index]\n",
    "#         X_train,X_val,y_train,y_val = train_test_split(X_,y_,random_state = rnd_state, stratify = y_)\n",
    "        \n",
    "#         train_dataset = lgb.Dataset(data = X_train,\n",
    "#                                     label = y_train,\n",
    "#                                     categorical_feature = categorical_features)\n",
    "        \n",
    "#         validation_dataset = lgb.Dataset(data = X_val,\n",
    "#                                         label = y_val,\n",
    "#                                         categorical_feature = categorical_features)\n",
    "        \n",
    "#         lgbm_model = lgb.train(base_params, train_dataset, num_boost_round=1000, valid_sets=[validation_dataset])\n",
    "#         proba_preds = lgbm_model.predict(X_tst)\n",
    "#         feature_added_scores.append(roc_auc_score(y_tst, proba_preds))\n",
    "\n",
    "# np.savetxt(\"lgbm_feature_added_scores.txt\",feature_added_scores)"
   ]
  },
  {
   "cell_type": "markdown",
   "id": "93b96493",
   "metadata": {
    "papermill": {
     "duration": 0.016687,
     "end_time": "2024-10-24T08:51:28.802916",
     "exception": false,
     "start_time": "2024-10-24T08:51:28.786229",
     "status": "completed"
    },
    "tags": []
   },
   "source": [
    "# 4. Does Adding New Features Contribute to the Modeling?\n",
    "\n",
    "While adding more features can be beneficial, if this process does not contribute to the model performance, it should be avoided. Simple is always better. Adding more redundant features only blurs the learning process. In this section I compared the performance outcomes of these models. I used bootstrapping to get the confidence interval."
   ]
  },
  {
   "cell_type": "code",
   "execution_count": 12,
   "id": "07454493",
   "metadata": {
    "execution": {
     "iopub.execute_input": "2024-10-24T08:51:28.838609Z",
     "iopub.status.busy": "2024-10-24T08:51:28.837438Z",
     "iopub.status.idle": "2024-10-24T08:51:28.853319Z",
     "shell.execute_reply": "2024-10-24T08:51:28.852061Z"
    },
    "papermill": {
     "duration": 0.036804,
     "end_time": "2024-10-24T08:51:28.856208",
     "exception": false,
     "start_time": "2024-10-24T08:51:28.819404",
     "status": "completed"
    },
    "tags": []
   },
   "outputs": [],
   "source": [
    "lgbm_baseline = np.loadtxt(\"/kaggle/input/competition-prep/lgbm_baseline.txt\")\n",
    "lgbm_added_features = np.loadtxt(\"/kaggle/input/competition-prep/lgbm_feature_added_scores.txt\")"
   ]
  },
  {
   "cell_type": "markdown",
   "id": "42b8d7d9",
   "metadata": {
    "papermill": {
     "duration": 0.016677,
     "end_time": "2024-10-24T08:51:28.890054",
     "exception": false,
     "start_time": "2024-10-24T08:51:28.873377",
     "status": "completed"
    },
    "tags": []
   },
   "source": [
    "* $H_0:$ The difference between the scores is not statistically significant. ($\\mu_1 = \\mu_2$)\n",
    "* $H_A:$ The difference between the scores is not statistically significant. ($\\mu_1 \\neq \\mu_2$)"
   ]
  },
  {
   "cell_type": "code",
   "execution_count": 13,
   "id": "3808ddd8",
   "metadata": {
    "execution": {
     "iopub.execute_input": "2024-10-24T08:51:28.925729Z",
     "iopub.status.busy": "2024-10-24T08:51:28.925245Z",
     "iopub.status.idle": "2024-10-24T08:51:29.690295Z",
     "shell.execute_reply": "2024-10-24T08:51:29.688984Z"
    },
    "papermill": {
     "duration": 0.787054,
     "end_time": "2024-10-24T08:51:29.693872",
     "exception": false,
     "start_time": "2024-10-24T08:51:28.906818",
     "status": "completed"
    },
    "tags": []
   },
   "outputs": [
    {
     "data": {
      "image/png": "[encoded data removed]",
      "text/plain": [
       "<Figure size 1000x500 with 2 Axes>"
      ]
     },
     "metadata": {},
     "output_type": "display_data"
    }
   ],
   "source": [
    "fig,ax = plt.subplots(ncols = 2,nrows = 1,figsize = (10,5))\n",
    "ax[0].hist(lgbm_baseline, bins = 15, edgecolor = \"white\")\n",
    "ax[1].hist(lgbm_added_features, bins = 15, edgecolor = \"white\")\n",
    "\n",
    "ax[0].set_title(\"Base Performance\", loc = \"left\")\n",
    "ax[1].set_title(\"Feature Added Performance\", loc = \"left\")\n",
    "\n",
    "ax[0].set_ylabel(\"Frequency\")\n",
    "ax[0].set_xlabel(\"ROC AUC Score\")\n",
    "ax[1].set_xlabel(\"ROC AUC Score\")\n",
    "\n",
    "fig.show()"
   ]
  },
  {
   "cell_type": "code",
   "execution_count": 14,
   "id": "40a47d43",
   "metadata": {
    "execution": {
     "iopub.execute_input": "2024-10-24T08:51:29.734174Z",
     "iopub.status.busy": "2024-10-24T08:51:29.733692Z",
     "iopub.status.idle": "2024-10-24T08:51:29.751180Z",
     "shell.execute_reply": "2024-10-24T08:51:29.749954Z"
    },
    "papermill": {
     "duration": 0.041619,
     "end_time": "2024-10-24T08:51:29.753941",
     "exception": false,
     "start_time": "2024-10-24T08:51:29.712322",
     "status": "completed"
    },
    "tags": []
   },
   "outputs": [
    {
     "data": {
      "text/plain": [
       "ConfidenceInterval(low=-0.0007969152725608606, high=5.593525018410446e-05)"
      ]
     },
     "execution_count": 14,
     "metadata": {},
     "output_type": "execute_result"
    }
   ],
   "source": [
    "diff = lgbm_added_features - lgbm_baseline\n",
    "diff_simulation = stats.bootstrap((diff,),\n",
    "                                 statistic = np.mean,\n",
    "                                 n_resamples = 10000,\n",
    "                                 random_state=42)\n",
    "diff_simulation.confidence_interval"
   ]
  },
  {
   "cell_type": "code",
   "execution_count": 15,
   "id": "d8721782",
   "metadata": {
    "execution": {
     "iopub.execute_input": "2024-10-24T08:51:29.791606Z",
     "iopub.status.busy": "2024-10-24T08:51:29.791122Z",
     "iopub.status.idle": "2024-10-24T08:51:30.157311Z",
     "shell.execute_reply": "2024-10-24T08:51:30.155904Z"
    },
    "papermill": {
     "duration": 0.388404,
     "end_time": "2024-10-24T08:51:30.159994",
     "exception": false,
     "start_time": "2024-10-24T08:51:29.771590",
     "status": "completed"
    },
    "tags": []
   },
   "outputs": [
    {
     "data": {
      "image/png": "[encoded data removed]",
      "text/plain": [
       "<Figure size 640x480 with 1 Axes>"
      ]
     },
     "metadata": {},
     "output_type": "display_data"
    }
   ],
   "source": [
    "plt.figure()\n",
    "plt.hist(diff_simulation.bootstrap_distribution,bins = 15,edgecolor = \"white\")\n",
    "plt.axvline(diff_simulation.confidence_interval[0], linestyle = \"--\", alpha = 0.5, color = \"grey\")\n",
    "plt.axvline(diff_simulation.confidence_interval[1], linestyle = \"--\", alpha = 0.5, color = \"grey\")\n",
    "plt.title(\"Simulation Distribution\", loc = \"left\")\n",
    "plt.ylabel(\"Frequency\")\n",
    "plt.xlabel(\"Difference\")\n",
    "plt.xticks(rotation = 30)\n",
    "plt.show()"
   ]
  },
  {
   "cell_type": "markdown",
   "id": "d912bd45",
   "metadata": {
    "papermill": {
     "duration": 0.017985,
     "end_time": "2024-10-24T08:51:30.196435",
     "exception": false,
     "start_time": "2024-10-24T08:51:30.178450",
     "status": "completed"
    },
    "tags": []
   },
   "source": [
    "**Conclusion:** Since 0 is in the confidence interval, we can conclude that we need more evidence to prove that adding new features contribute to the statistical modeling."
   ]
  },
  {
   "cell_type": "markdown",
   "id": "ab971b79",
   "metadata": {
    "papermill": {
     "duration": 0.017911,
     "end_time": "2024-10-24T08:51:30.233311",
     "exception": false,
     "start_time": "2024-10-24T08:51:30.215400",
     "status": "completed"
    },
    "tags": []
   },
   "source": [
    "# 5. Model Optimization\n",
    "\n",
    "In this section, I optimized the state of art algorithms for tabular data using `Optuna`. My goal is to compare these optimized models. Depending on the comparison results, we will have two options:\n",
    "\n",
    "* If the models perform similarly, we could use a meta learner to improve the final performance.\n",
    "* If one model beats all the others, then we could use it as our final prediction model.\n",
    "\n",
    "Again, I ran the cells below and stored the results in elsewhere for the convenience. Feel free to uncomment these cells to get the parameters I obtained.  "
   ]
  },
  {
   "cell_type": "markdown",
   "id": "aff91127",
   "metadata": {
    "papermill": {
     "duration": 0.017571,
     "end_time": "2024-10-24T08:51:30.268827",
     "exception": false,
     "start_time": "2024-10-24T08:51:30.251256",
     "status": "completed"
    },
    "tags": []
   },
   "source": [
    "## 5.1. LGBM Optimization"
   ]
  },
  {
   "cell_type": "code",
   "execution_count": 16,
   "id": "a8d4ba7a",
   "metadata": {
    "execution": {
     "iopub.execute_input": "2024-10-24T08:51:30.308258Z",
     "iopub.status.busy": "2024-10-24T08:51:30.307417Z",
     "iopub.status.idle": "2024-10-24T08:51:30.315902Z",
     "shell.execute_reply": "2024-10-24T08:51:30.314481Z"
    },
    "papermill": {
     "duration": 0.030904,
     "end_time": "2024-10-24T08:51:30.318358",
     "exception": false,
     "start_time": "2024-10-24T08:51:30.287454",
     "status": "completed"
    },
    "tags": []
   },
   "outputs": [],
   "source": [
    "# !pip install optuna-integration[lightgbm]\n",
    "# from optuna.integration import LightGBMPruningCallback\n",
    "\n",
    "\n",
    "# X = pd.read_csv(\"/kaggle/input/playground-series-s4e10/train.csv\").iloc[:, 1:-1]\n",
    "# y = pd.read_csv(\"/kaggle/input/playground-series-s4e10/train.csv\").iloc[:, -1]\n",
    "\n",
    "# drop_idx = [\n",
    "#     X.loc[X.person_age == X.person_age.max()].index[0],\n",
    "#     X.loc[X.person_emp_length == X.person_emp_length.max()].index[0]\n",
    "# ]\n",
    "\n",
    "# X = X.drop(drop_idx).reset_index(drop = True)\n",
    "# y = y.drop(drop_idx).reset_index(drop = True)\n",
    "\n",
    "# categorical_features = ['person_home_ownership', 'loan_intent', 'loan_grade', 'cb_person_default_on_file']\n",
    "# for feature in categorical_features:\n",
    "#     X[feature] = X[feature].astype('category')\n",
    "\n",
    "# X_,X_test,y_,y_test = train_test_split(X,y,stratify = y, random_state = 42, test_size = 0.15)\n",
    "# X_train,X_val,y_train,y_val = train_test_split(X_,y_,stratify = y_, random_state = 42, test_size = 0.1)\n",
    "\n",
    "# def objective(trial):\n",
    "    \n",
    "#     param = {\n",
    "#         'objective': 'binary',  \n",
    "#         'metric': 'auc',\n",
    "#         'is_unbalance': 'true',\n",
    "#         'verbosity': -1,  \n",
    "#         'seed': 42,\n",
    "#         'boosting_type': 'gbdt',  \n",
    "#         'lambda_l1': trial.suggest_float('lambda_l1', 1e-8, 10.0, log = True),  \n",
    "#         'lambda_l2': trial.suggest_float('lambda_l2', 1e-8, 10.0, log = True), \n",
    "#         'num_leaves': trial.suggest_int('num_leaves', 20, 100),  \n",
    "#         'feature_fraction': trial.suggest_float('feature_fraction', 0.4, 1.0),  \n",
    "#         'bagging_fraction': trial.suggest_float('bagging_fraction', 0.4, 1.0), \n",
    "#         'bagging_freq': trial.suggest_int('bagging_freq', 1, 7),  \n",
    "#         'min_child_samples': trial.suggest_int('min_child_samples', 5, 100),  \n",
    "#         'learning_rate': trial.suggest_float('learning_rate', 1e-4, 0.1, log = True),\n",
    "#         'num_boost_round': trial.suggest_int(\"num_boost_round\",10,5000)\n",
    "#     }\n",
    "    \n",
    "    \n",
    "#     dtrain = lgb.Dataset(X_train, label=y_train)\n",
    "#     dval = lgb.Dataset(X_val,label = y_val)\n",
    "    \n",
    "    \n",
    "#     gbm = lgb.train(\n",
    "#         param, dtrain, \n",
    "#         valid_sets=[dval],  \n",
    "#         callbacks=[LightGBMPruningCallback(trial, 'auc')]  \n",
    "#     )\n",
    "    \n",
    "#     y_pred = gbm.predict(X_test, num_iteration=gbm.best_iteration)\n",
    "    \n",
    "    \n",
    "#     auc_score = roc_auc_score(y_test, y_pred)\n",
    "    \n",
    "#     return auc_score\n",
    "\n",
    "# study = optuna.create_study(direction='maximize')  \n",
    "# study.optimize(objective, n_trials=150, timeout=900) \n",
    "\n",
    "# best_params = study.best_params\n",
    "\n",
    "# with open(\"lgbm_best_params.json\", \"w\") as f:\n",
    "#     json.dump(best_params, f, indent=4)"
   ]
  },
  {
   "cell_type": "markdown",
   "id": "619602bb",
   "metadata": {
    "papermill": {
     "duration": 0.018004,
     "end_time": "2024-10-24T08:51:30.354283",
     "exception": false,
     "start_time": "2024-10-24T08:51:30.336279",
     "status": "completed"
    },
    "tags": []
   },
   "source": [
    "## 5.2. CatBoost Optimization"
   ]
  },
  {
   "cell_type": "code",
   "execution_count": 17,
   "id": "85d66cc7",
   "metadata": {
    "execution": {
     "iopub.execute_input": "2024-10-24T08:51:30.393438Z",
     "iopub.status.busy": "2024-10-24T08:51:30.392954Z",
     "iopub.status.idle": "2024-10-24T08:51:30.401295Z",
     "shell.execute_reply": "2024-10-24T08:51:30.399845Z"
    },
    "papermill": {
     "duration": 0.031146,
     "end_time": "2024-10-24T08:51:30.403996",
     "exception": false,
     "start_time": "2024-10-24T08:51:30.372850",
     "status": "completed"
    },
    "tags": []
   },
   "outputs": [],
   "source": [
    "# X = pd.read_csv(\"/kaggle/input/playground-series-s4e10/train.csv\").iloc[:,1:-1]\n",
    "# y = pd.read_csv(\"/kaggle/input/playground-series-s4e10/train.csv\").iloc[:,-1]\n",
    "# categorical_features = ['person_home_ownership', 'loan_intent', 'loan_grade', 'cb_person_default_on_file']\n",
    "\n",
    "# drop_idx = [\n",
    "#     X.loc[X.person_age == X.person_age.max()].index[0],\n",
    "#     X.loc[X.person_emp_length == X.person_emp_length.max()].index[0]\n",
    "# ]\n",
    "\n",
    "# X = X.drop(drop_idx).reset_index(drop = True)\n",
    "# y = y.drop(drop_idx).reset_index(drop = True)\n",
    "\n",
    "# X_,X_test,y_,y_test = train_test_split(X,y,stratify = y, random_state = 42, test_size = 0.15)\n",
    "# X_train,X_val,y_train,y_val = train_test_split(X_,y_,stratify = y_, random_state = 42, test_size = 0.1)\n",
    "\n",
    "# def objective(trial):\n",
    "\n",
    "#     param = {\n",
    "#         'iterations': trial.suggest_int('iterations', 10, 5000),  \n",
    "#         'depth': trial.suggest_int('depth', 4, 10),  \n",
    "#         'learning_rate': trial.suggest_float('learning_rate', 1e-4, 1.0,log = True), \n",
    "#         'l2_leaf_reg': trial.suggest_float('l2_leaf_reg', 1e-3, 10.0,log = True),  \n",
    "#         'random_strength': trial.suggest_float('random_strength', 0.1, 10.0),  \n",
    "#         'bagging_temperature': trial.suggest_float('bagging_temperature', 0.0, 10.0),  \n",
    "#         'border_count': trial.suggest_int('border_count', 1, 255),  \n",
    "#         'loss_function': 'Logloss',\n",
    "#         'task_type': 'CPU',\n",
    "#         'scale_pos_weight': (sum(y_train == 0) / sum(y_train == 1)),\n",
    "#         'random_state': 42,\n",
    "#         'early_stopping_rounds': 100,\n",
    "#         'use_best_model':True,\n",
    "#         'eval_metric':'AUC',\n",
    "#         'cat_features': categorical_features\n",
    "        \n",
    "        \n",
    "#     }\n",
    "\n",
    "    \n",
    "\n",
    "#     dtrain = cat.Pool(X_train,\n",
    "#                       label = y_train,\n",
    "#                       cat_features = categorical_features)\n",
    "\n",
    "#     dval = cat.Pool(X_val,\n",
    "#                    label = y_val,\n",
    "#                    cat_features = categorical_features)\n",
    "\n",
    "#     cat_model = cat.CatBoostClassifier(**param)\n",
    "#     cat_model.fit(dtrain,\n",
    "#                  eval_set = (dval))\n",
    "                              \n",
    "\n",
    "#     preds = cat_model.predict_proba(X_test)[:,1]\n",
    "#     auc_score = roc_auc_score(y_test,preds)\n",
    "#     return auc_score\n",
    "\n",
    "# study = optuna.create_study(direction = \"maximize\")\n",
    "# study.optimize(objective,n_trials = 100, timeout = 600)\n",
    "\n",
    "# best_params = study.best_params\n",
    "\n",
    "# with open(\"catboost_best_params.json\", \"w\") as f:\n",
    "#     json.dump(best_params, f, indent=4)"
   ]
  },
  {
   "cell_type": "markdown",
   "id": "60049ab2",
   "metadata": {
    "papermill": {
     "duration": 0.017962,
     "end_time": "2024-10-24T08:51:30.440237",
     "exception": false,
     "start_time": "2024-10-24T08:51:30.422275",
     "status": "completed"
    },
    "tags": []
   },
   "source": [
    "## 5.3. XGBoost Optimization"
   ]
  },
  {
   "cell_type": "code",
   "execution_count": 18,
   "id": "c04776e2",
   "metadata": {
    "execution": {
     "iopub.execute_input": "2024-10-24T08:51:30.478469Z",
     "iopub.status.busy": "2024-10-24T08:51:30.478035Z",
     "iopub.status.idle": "2024-10-24T08:51:30.486010Z",
     "shell.execute_reply": "2024-10-24T08:51:30.484854Z"
    },
    "papermill": {
     "duration": 0.030024,
     "end_time": "2024-10-24T08:51:30.488392",
     "exception": false,
     "start_time": "2024-10-24T08:51:30.458368",
     "status": "completed"
    },
    "tags": []
   },
   "outputs": [],
   "source": [
    "# X = pd.read_csv(\"/kaggle/input/playground-series-s4e10/train.csv\").iloc[:,1:-1]\n",
    "# y = pd.read_csv(\"/kaggle/input/playground-series-s4e10/train.csv\").iloc[:,-1]\n",
    "\n",
    "# drop_idx = [\n",
    "#     X.loc[X.person_age == X.person_age.max()].index[0],\n",
    "#     X.loc[X.person_emp_length == X.person_emp_length.max()].index[0]\n",
    "# ]\n",
    "\n",
    "# X = X.drop(drop_idx).reset_index(drop = True)\n",
    "# y = y.drop(drop_idx).reset_index(drop = True)\n",
    "\n",
    "\n",
    "\n",
    "\n",
    "# categorical_features = ['person_home_ownership', 'loan_intent', 'loan_grade', 'cb_person_default_on_file']\n",
    "# ohe_features = categorical_features[:-1]  \n",
    "\n",
    "\n",
    "# ct = ColumnTransformer(\n",
    "#     transformers=[\n",
    "#         ('ohe', OneHotEncoder(), ohe_features),\n",
    "#         ('oe', OrdinalEncoder(),[\"cb_person_default_on_file\"])\n",
    "#     ],\n",
    "#     remainder='passthrough'  \n",
    "# )\n",
    "\n",
    "\n",
    "# X_transformed = ct.fit_transform(X)\n",
    "\n",
    "# X_,X_test,y_,y_test = train_test_split(X_transformed,y,stratify = y, random_state = 42, test_size = 0.15)\n",
    "# X_train,X_val,y_train,y_val = train_test_split(X_,y_,stratify = y_, random_state = 42, test_size = 0.1)\n",
    "\n",
    "# def objective(trial):\n",
    "\n",
    "#     param = {\n",
    "#         'verbosity': 0,  \n",
    "#         'objective': 'binary:logistic',  \n",
    "#         'eval_metric': 'auc',\n",
    "#         'tree_method': 'auto',\n",
    "#         'max_delta_step': trial.suggest_int('max_delta_step', 0, 20),\n",
    "#         'booster': 'gbtree',  \n",
    "#         'lambda': trial.suggest_float('lambda', 1e-3, 10.0,log = True),  \n",
    "#         'alpha': trial.suggest_float('alpha', 1e-3, 10.0,log = True),  \n",
    "#         'eta': trial.suggest_float('eta', 1e-2, 1,log = True),  \n",
    "#         'max_depth': trial.suggest_int('max_depth', 1, 50),  \n",
    "#         'min_child_weight': trial.suggest_int('min_child_weight', 1, 10), \n",
    "#         'subsample': trial.suggest_float('subsample', 0.1, 1.0),  \n",
    "#         'colsample_bytree': trial.suggest_float('colsample_bytree', 0.1, 1.0), \n",
    "#         'colsample_bylevel': trial.suggest_float('colsample_bylevel', 0.1, 1.0),\n",
    "#         'n_estimators': trial.suggest_int('n_estimators', 10, 5000) ,\n",
    "#         'scale_pos_weight': (sum(y_train == 0) / sum(y_train == 1)),\n",
    "#         'random_state': 42\n",
    "#     }\n",
    "\n",
    "#     xgb_model = xgb.XGBClassifier(**param)\n",
    "#     xgb_model.fit(X_train,y_train,\n",
    "#                  eval_set=[(X_val, y_val)],\n",
    "#                  early_stopping_rounds=100, verbose=False)\n",
    "\n",
    "#     preds = xgb_model.predict_proba(X_test)[:,1]\n",
    "#     auc_score = roc_auc_score(y_test,preds)\n",
    "\n",
    "#     return auc_score\n",
    "\n",
    "# study = optuna.create_study(direction = 'maximize')\n",
    "# study.optimize(objective,n_trials = 150,timeout = 900)\n",
    "\n",
    "# best_params = study.best_params\n",
    "\n",
    "# with open(\"xgboost_best_params.json\", \"w\") as f:\n",
    "#     json.dump(best_params, f, indent=4)"
   ]
  },
  {
   "cell_type": "markdown",
   "id": "49faf245",
   "metadata": {
    "papermill": {
     "duration": 0.01863,
     "end_time": "2024-10-24T08:51:30.525078",
     "exception": false,
     "start_time": "2024-10-24T08:51:30.506448",
     "status": "completed"
    },
    "tags": []
   },
   "source": [
    "# 6. Optimized Model Comparison\n",
    "\n",
    "First I loaded the best parameters and combine them with the constant ones."
   ]
  },
  {
   "cell_type": "code",
   "execution_count": 19,
   "id": "d24e9043",
   "metadata": {
    "execution": {
     "iopub.execute_input": "2024-10-24T08:51:30.563347Z",
     "iopub.status.busy": "2024-10-24T08:51:30.562892Z",
     "iopub.status.idle": "2024-10-24T08:51:30.631641Z",
     "shell.execute_reply": "2024-10-24T08:51:30.630445Z"
    },
    "papermill": {
     "duration": 0.091408,
     "end_time": "2024-10-24T08:51:30.634657",
     "exception": false,
     "start_time": "2024-10-24T08:51:30.543249",
     "status": "completed"
    },
    "tags": []
   },
   "outputs": [],
   "source": [
    "#load the optimized parameters for each model\n",
    "with open(\"/kaggle/input/competition-prep/catboost_best_params.json\", 'r') as f:\n",
    "    cat_best_params = json.load(f)\n",
    "\n",
    "with open(\"/kaggle/input/competition-prep/lgbm_best_params.json\", 'r') as f:\n",
    "    lgbm_best_params = json.load(f)\n",
    "\n",
    "with open(\"/kaggle/input/competition-prep/xgboost_best_params.json\", 'r') as f:\n",
    "    xgb_best_params = json.load(f)\n",
    "\n",
    "\n",
    "#complete the parameter dictionaries\n",
    "lgbm_rest = {'objective': 'binary',  \n",
    "        'metric': 'auc',\n",
    "        'is_unbalance': 'true',\n",
    "        'verbosity': -1,  \n",
    "        'seed': 42,\n",
    "        'boosting_type': 'gbdt'}\n",
    "\n",
    "lgbm_best_params.update(lgbm_rest) \n",
    "\n",
    "cat_rest = {'loss_function': 'Logloss',\n",
    "            'task_type': 'CPU',\n",
    "            'scale_pos_weight': (sum(y_train == 0) / sum(y_train == 1)),\n",
    "            'random_state': 42,\n",
    "            'early_stopping_rounds': 100,\n",
    "           'use_best_model':True,\n",
    "           'eval_metric':'AUC',\n",
    "            'cat_features': categorical_features}\n",
    "\n",
    "cat_best_params.update(cat_rest)\n",
    "\n",
    "xgb_rest = {'verbosity': 0,\n",
    "            'objective': 'binary:logistic',\n",
    "            'scale_pos_weight': (sum(y_train == 0) / sum(y_train == 1)),\n",
    "            'random_state': 42,\n",
    "            'eval_metric': 'auc',\n",
    "            'tree_method': 'auto',\n",
    "            'booster': 'gbtree',\n",
    "          }\n",
    "\n",
    "xgb_best_params.update(xgb_rest)"
   ]
  },
  {
   "cell_type": "markdown",
   "id": "ece12670",
   "metadata": {
    "papermill": {
     "duration": 0.017645,
     "end_time": "2024-10-24T08:51:30.670597",
     "exception": false,
     "start_time": "2024-10-24T08:51:30.652952",
     "status": "completed"
    },
    "tags": []
   },
   "source": [
    "Then I prepared the training dataset for the models."
   ]
  },
  {
   "cell_type": "code",
   "execution_count": 20,
   "id": "33dd4926",
   "metadata": {
    "execution": {
     "iopub.execute_input": "2024-10-24T08:51:30.708332Z",
     "iopub.status.busy": "2024-10-24T08:51:30.707877Z",
     "iopub.status.idle": "2024-10-24T08:51:31.132011Z",
     "shell.execute_reply": "2024-10-24T08:51:31.130995Z"
    },
    "papermill": {
     "duration": 0.446373,
     "end_time": "2024-10-24T08:51:31.134874",
     "exception": false,
     "start_time": "2024-10-24T08:51:30.688501",
     "status": "completed"
    },
    "tags": []
   },
   "outputs": [],
   "source": [
    "X = pd.read_csv(\"/kaggle/input/playground-series-s4e10/train.csv\").iloc[:,1:-1]\n",
    "y = pd.read_csv(\"/kaggle/input/playground-series-s4e10/train.csv\").iloc[:,-1]\n",
    "\n",
    "drop_idx = [\n",
    "    X.loc[X.person_age == X.person_age.max()].index[0],\n",
    "    X.loc[X.person_emp_length == X.person_emp_length.max()].index[0]\n",
    "]\n",
    "\n",
    "X = X.drop(drop_idx).reset_index(drop = True)\n",
    "y = y.drop(drop_idx).reset_index(drop = True)\n",
    "\n",
    "categorical_features = ['person_home_ownership', 'loan_intent', 'loan_grade', 'cb_person_default_on_file']\n",
    "ohe_features = categorical_features[:-1]  \n",
    "\n",
    "\n",
    "ct = ColumnTransformer(\n",
    "    transformers=[\n",
    "        ('ohe', OneHotEncoder(), ohe_features),\n",
    "        ('oe', OrdinalEncoder(),[\"cb_person_default_on_file\"])],remainder='passthrough')\n",
    "\n",
    "X_xgboost = ct.fit_transform(X.copy())\n",
    "\n",
    "for feature in categorical_features:\n",
    "    X[feature] = X[feature].astype('category')"
   ]
  },
  {
   "cell_type": "markdown",
   "id": "b251a1da",
   "metadata": {
    "papermill": {
     "duration": 0.018021,
     "end_time": "2024-10-24T08:51:31.170844",
     "exception": false,
     "start_time": "2024-10-24T08:51:31.152823",
     "status": "completed"
    },
    "tags": []
   },
   "source": [
    "Finally, I trained all the models using `StratifiedKFold` cross validation."
   ]
  },
  {
   "cell_type": "code",
   "execution_count": 21,
   "id": "ab5eb9b0",
   "metadata": {
    "collapsed": true,
    "execution": {
     "iopub.execute_input": "2024-10-24T08:51:31.209429Z",
     "iopub.status.busy": "2024-10-24T08:51:31.208974Z",
     "iopub.status.idle": "2024-10-24T08:51:31.214860Z",
     "shell.execute_reply": "2024-10-24T08:51:31.213798Z"
    },
    "jupyter": {
     "outputs_hidden": true
    },
    "papermill": {
     "duration": 0.027625,
     "end_time": "2024-10-24T08:51:31.217215",
     "exception": false,
     "start_time": "2024-10-24T08:51:31.189590",
     "status": "completed"
    },
    "tags": []
   },
   "outputs": [],
   "source": [
    "# lgbm_performances = []\n",
    "# random_states = [1,2,3,4,5]\n",
    "# for rnd_state in tqdm(random_states):\n",
    "#     skf = StratifiedKFold(n_splits = 5, random_state = rnd_state,shuffle = True)\n",
    "#     for train_index, test_index in skf.split(X, y):\n",
    "#         X_,y_ = X.loc[train_index],y.loc[train_index]\n",
    "#         X_tst,y_tst = X.loc[test_index],y.loc[test_index]\n",
    "#         X_train,X_val,y_train,y_val = train_test_split(X_,y_,random_state = rnd_state, stratify = y_)\n",
    "        \n",
    "#         dtrain = lgb.Dataset(X_train,label = y_train,\n",
    "#                             categorical_feature = categorical_features)\n",
    "#         dval = lgb.Dataset(X_val,label = y_val,\n",
    "#                           categorical_feature = categorical_features)\n",
    "        \n",
    "#         gbm = lgb.train(lgbm_best_params,\n",
    "#                        dtrain,\n",
    "#                        valid_sets = [dval],\n",
    "#                        )\n",
    "\n",
    "#         preds = gbm.predict(X_tst, num_iteration=gbm.best_iteration)\n",
    "#         auc_score = roc_auc_score(y_tst,preds)\n",
    "#         lgbm_performances.append(auc_score)\n",
    "        \n",
    "# np.savetxt(\"lgbm_best_performances.txt\",lgbm_performances)"
   ]
  },
  {
   "cell_type": "code",
   "execution_count": 22,
   "id": "ad67c43c",
   "metadata": {
    "execution": {
     "iopub.execute_input": "2024-10-24T08:51:31.254816Z",
     "iopub.status.busy": "2024-10-24T08:51:31.254333Z",
     "iopub.status.idle": "2024-10-24T08:51:31.260403Z",
     "shell.execute_reply": "2024-10-24T08:51:31.259232Z"
    },
    "papermill": {
     "duration": 0.02774,
     "end_time": "2024-10-24T08:51:31.262868",
     "exception": false,
     "start_time": "2024-10-24T08:51:31.235128",
     "status": "completed"
    },
    "tags": []
   },
   "outputs": [],
   "source": [
    "# cat_performances = []\n",
    "\n",
    "# random_states = [1,2,3,4,5]\n",
    "# for rnd_state in tqdm(random_states):\n",
    "#     skf = StratifiedKFold(n_splits = 5, random_state = rnd_state,shuffle = True)\n",
    "    \n",
    "#     for train_index, test_index in skf.split(X, y):\n",
    "#         lgb_model = lgb.LGBMClassifier(**lgbm_best_params)\n",
    "#         cat_model = cat.CatBoostClassifier(**cat_best_params)\n",
    "\n",
    "#         X_,y_ = X.loc[train_index],y.loc[train_index]\n",
    "#         X_tst,y_tst = X.loc[test_index],y.loc[test_index]\n",
    "#         X_train,X_val,y_train,y_val = train_test_split(X_,y_,random_state = rnd_state, stratify = y_)\n",
    "        \n",
    "#         cat_model.fit(X_train,y_train,\n",
    "#                      eval_set = [(X_val,y_val)])\n",
    "\n",
    "#         cat_preds = cat_model.predict_proba(X_tst)[:,1]\n",
    "#         cat_performances.append(roc_auc_score(y_tst,cat_preds))\n",
    "\n",
    "# np.savetxt(\"cat_best_performaces.txt\",cat_performances)"
   ]
  },
  {
   "cell_type": "code",
   "execution_count": 23,
   "id": "5993ebad",
   "metadata": {
    "execution": {
     "iopub.execute_input": "2024-10-24T08:51:31.301262Z",
     "iopub.status.busy": "2024-10-24T08:51:31.300817Z",
     "iopub.status.idle": "2024-10-24T08:51:31.306775Z",
     "shell.execute_reply": "2024-10-24T08:51:31.305650Z"
    },
    "papermill": {
     "duration": 0.0285,
     "end_time": "2024-10-24T08:51:31.309209",
     "exception": false,
     "start_time": "2024-10-24T08:51:31.280709",
     "status": "completed"
    },
    "tags": []
   },
   "outputs": [],
   "source": [
    "# xgb_performances = []\n",
    "\n",
    "# random_states = [1,2,3,4,5]\n",
    "# for rnd_state in tqdm(random_states):\n",
    "#     skf = StratifiedKFold(n_splits = 5, random_state = rnd_state,shuffle = True)\n",
    "    \n",
    "#     for train_index, test_index in skf.split(X_xgboost, y):\n",
    "#         xgb_model = xgb.XGBClassifier(**xgb_best_params)\n",
    "\n",
    "#         X_,y_ = X_xgboost[train_index],y.loc[train_index]\n",
    "#         X_tst,y_tst = X_xgboost[test_index],y.loc[test_index]\n",
    "#         X_train,X_val,y_train,y_val = train_test_split(X_,y_,random_state = rnd_state, stratify = y_)\n",
    "\n",
    "#         xgb_model.fit(X_train,y_train,\n",
    "#                      eval_set = [(X_val,y_val)],\n",
    "#                      early_stopping_rounds = 100)\n",
    "\n",
    "#         xgb_preds = xgb_model.predict_proba(X_tst)[:,1]\n",
    "#         xgb_performances.append(roc_auc_score(y_tst,xgb_preds))\n",
    "        \n",
    "# np.savetxt(\"xgb_best_performaces.txt\",xgb_performances)"
   ]
  },
  {
   "cell_type": "code",
   "execution_count": 24,
   "id": "9a465d32",
   "metadata": {
    "execution": {
     "iopub.execute_input": "2024-10-24T08:51:31.347061Z",
     "iopub.status.busy": "2024-10-24T08:51:31.346588Z",
     "iopub.status.idle": "2024-10-24T08:51:31.375615Z",
     "shell.execute_reply": "2024-10-24T08:51:31.374151Z"
    },
    "papermill": {
     "duration": 0.051337,
     "end_time": "2024-10-24T08:51:31.378356",
     "exception": false,
     "start_time": "2024-10-24T08:51:31.327019",
     "status": "completed"
    },
    "tags": []
   },
   "outputs": [],
   "source": [
    "catboost_performance = np.loadtxt(\"/kaggle/input/competition-prep/cat_best_performaces.txt\")\n",
    "lgbm_performance = np.loadtxt(\"/kaggle/input/competition-prep/lgbm_best_performances.txt\")\n",
    "xgb_performance = np.loadtxt(\"/kaggle/input/competition-prep/xgb_best_performaces.txt\")"
   ]
  },
  {
   "cell_type": "code",
   "execution_count": 25,
   "id": "28d8566b",
   "metadata": {
    "execution": {
     "iopub.execute_input": "2024-10-24T08:51:31.418293Z",
     "iopub.status.busy": "2024-10-24T08:51:31.415891Z",
     "iopub.status.idle": "2024-10-24T08:51:31.700734Z",
     "shell.execute_reply": "2024-10-24T08:51:31.699360Z"
    },
    "papermill": {
     "duration": 0.30697,
     "end_time": "2024-10-24T08:51:31.703563",
     "exception": false,
     "start_time": "2024-10-24T08:51:31.396593",
     "status": "completed"
    },
    "tags": []
   },
   "outputs": [
    {
     "data": {
      "image/png": "[encoded data removed]",
      "text/plain": [
       "<Figure size 640x480 with 1 Axes>"
      ]
     },
     "metadata": {},
     "output_type": "display_data"
    }
   ],
   "source": [
    "plt.figure()\n",
    "sns.boxplot([catboost_performance,xgb_performance,lgbm_performance])\n",
    "plt.xticks([0,1,2],[\"cat\",\"xgb\",\"lgbm\"])\n",
    "plt.title(\"Model Comparison\", loc = \"left\")\n",
    "plt.show()\n"
   ]
  },
  {
   "cell_type": "code",
   "execution_count": 26,
   "id": "7109f197",
   "metadata": {
    "execution": {
     "iopub.execute_input": "2024-10-24T08:51:31.743432Z",
     "iopub.status.busy": "2024-10-24T08:51:31.742375Z",
     "iopub.status.idle": "2024-10-24T08:51:32.069539Z",
     "shell.execute_reply": "2024-10-24T08:51:32.068326Z"
    },
    "papermill": {
     "duration": 0.350344,
     "end_time": "2024-10-24T08:51:32.072391",
     "exception": false,
     "start_time": "2024-10-24T08:51:31.722047",
     "status": "completed"
    },
    "tags": []
   },
   "outputs": [
    {
     "name": "stdout",
     "output_type": "stream",
     "text": [
      "ANOVA Results:\n",
      "Test statistic: 14.46517381860073\n",
      "P-value: 5.238249541199847e-06\n",
      "\n",
      "Tukey's HSD Pairwise Group Comparisons (95.0% Confidence Interval)\n",
      "Comparison  Statistic  p-value  Lower CI  Upper CI\n",
      " (0 - 1)     -0.003     0.001    -0.005    -0.001\n",
      " (0 - 2)     -0.004     0.000    -0.005    -0.002\n",
      " (1 - 0)      0.003     0.001     0.001     0.005\n",
      " (1 - 2)     -0.001     0.415    -0.003     0.001\n",
      " (2 - 0)      0.004     0.000     0.002     0.005\n",
      " (2 - 1)      0.001     0.415    -0.001     0.003\n",
      "\n"
     ]
    }
   ],
   "source": [
    "test_results = stats.f_oneway(catboost_performance,xgb_performance,lgbm_performance)\n",
    "print(\"ANOVA Results:\")\n",
    "print(\"Test statistic:\", test_results[0])\n",
    "print(\"P-value:\", test_results[1])\n",
    "print()\n",
    "print(stats.tukey_hsd(catboost_performance,xgb_performance,lgbm_performance))"
   ]
  },
  {
   "cell_type": "markdown",
   "id": "03c9caad",
   "metadata": {
    "papermill": {
     "duration": 0.018242,
     "end_time": "2024-10-24T08:51:32.109223",
     "exception": false,
     "start_time": "2024-10-24T08:51:32.090981",
     "status": "completed"
    },
    "tags": []
   },
   "source": [
    "From the boxplots and statistical tests, we can confidently say that `lgbm` model is better than the others. Therefore, we don't need to use a meta learner. We can opt for `lgbm` model as our final prediction model instead."
   ]
  },
  {
   "cell_type": "markdown",
   "id": "7e4ec3b1",
   "metadata": {
    "papermill": {
     "duration": 0.018827,
     "end_time": "2024-10-24T08:51:32.148097",
     "exception": false,
     "start_time": "2024-10-24T08:51:32.129270",
     "status": "completed"
    },
    "tags": []
   },
   "source": [
    "# 7. Final Training and Submission"
   ]
  },
  {
   "cell_type": "code",
   "execution_count": 27,
   "id": "7ac76d32",
   "metadata": {
    "execution": {
     "iopub.execute_input": "2024-10-24T08:51:32.188436Z",
     "iopub.status.busy": "2024-10-24T08:51:32.187621Z",
     "iopub.status.idle": "2024-10-24T08:53:02.006358Z",
     "shell.execute_reply": "2024-10-24T08:53:02.004515Z"
    },
    "papermill": {
     "duration": 89.842772,
     "end_time": "2024-10-24T08:53:02.009511",
     "exception": false,
     "start_time": "2024-10-24T08:51:32.166739",
     "status": "completed"
    },
    "tags": []
   },
   "outputs": [
    {
     "name": "stderr",
     "output_type": "stream",
     "text": [
      "/opt/conda/lib/python3.10/site-packages/lightgbm/engine.py:172: UserWarning: Found `num_boost_round` in params. Will use it instead of argument\n",
      "  _log_warning(f\"Found `{alias}` in params. Will use it instead of argument\")\n"
     ]
    }
   ],
   "source": [
    "X = pd.read_csv(\"/kaggle/input/playground-series-s4e10/train.csv\").iloc[:,1:-1]\n",
    "y = pd.read_csv(\"/kaggle/input/playground-series-s4e10/train.csv\").iloc[:,-1]\n",
    "test = pd.read_csv(\"/kaggle/input/playground-series-s4e10/test.csv\")\n",
    "\n",
    "drop_idx = [\n",
    "    X.loc[X.person_age == X.person_age.max()].index[0],\n",
    "    X.loc[X.person_emp_length == X.person_emp_length.max()].index[0]\n",
    "]\n",
    "\n",
    "X = X.drop(drop_idx).reset_index(drop = True)\n",
    "y = y.drop(drop_idx).reset_index(drop = True)\n",
    "\n",
    "categorical_features = ['person_home_ownership', 'loan_intent', 'loan_grade', 'cb_person_default_on_file']\n",
    "for feature in categorical_features:\n",
    "    X[feature] = X[feature].astype('category')\n",
    "    test[feature] = test[feature].astype('category')\n",
    "    \n",
    "dtrain = lgb.Dataset(X,label = y,categorical_feature = categorical_features)\n",
    "lgb_model = lgb.train(lgbm_best_params,dtrain)\n",
    "preds = lgb_model.predict(test.iloc[:,1:], num_iteration=lgb_model.best_iteration)\n",
    "submission = pd.DataFrame({'id':test.iloc[:,0],\n",
    "                          'loan_status':preds})\n",
    "submission.to_csv('submission.csv',index = False)"
   ]
  },
  {
   "cell_type": "markdown",
   "id": "fc298e5a",
   "metadata": {
    "papermill": {
     "duration": 0.020881,
     "end_time": "2024-10-24T08:53:02.049361",
     "exception": false,
     "start_time": "2024-10-24T08:53:02.028480",
     "status": "completed"
    },
    "tags": []
   },
   "source": [
    "And that's all about it. Thank you for your time."
   ]
  }
 ],
 "metadata": {
  "kaggle": {
   "accelerator": "none",
   "dataSources": [
    {
     "databundleVersionId": 9709193,
     "sourceId": 84894,
     "sourceType": "competition"
    },
    {
     "databundleVersionId": 9943162,
     "datasetId": 5923794,
     "sourceId": 9709210,
     "sourceType": "datasetVersion"
    }
   ],
   "dockerImageVersionId": 30786,
   "isGpuEnabled": false,
   "isInternetEnabled": true,
   "language": "python",
   "sourceType": "notebook"
  },
  "kernelspec": {
   "display_name": "Python 3",
   "language": "python",
   "name": "python3"
  },
  "language_info": {
   "codemirror_mode": {
    "name": "ipython",
    "version": 3
   },
   "file_extension": ".py",
   "mimetype": "text/x-python",
   "name": "python",
   "nbconvert_exporter": "python",
   "pygments_lexer": "ipython3",
   "version": "3.10.14"
  },
  "papermill": {
   "default_parameters": {},
   "duration": 107.259772,
   "end_time": "2024-10-24T08:53:02.992985",
   "environment_variables": {},
   "exception": null,
   "input_path": "__notebook__.ipynb",
   "output_path": "__notebook__.ipynb",
   "parameters": {},
   "start_time": "2024-10-24T08:51:15.733213",
   "version": "2.6.0"
  }
 },
 "nbformat": 4,
 "nbformat_minor": 5
}
