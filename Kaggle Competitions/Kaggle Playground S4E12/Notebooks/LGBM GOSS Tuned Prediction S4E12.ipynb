{
 "cells": [
  {
   "cell_type": "code",
   "execution_count": 1,
   "id": "219ca48c",
   "metadata": {
    "execution": {
     "iopub.execute_input": "2024-12-03T07:11:30.122376Z",
     "iopub.status.busy": "2024-12-03T07:11:30.121861Z",
     "iopub.status.idle": "2024-12-03T07:11:33.575837Z",
     "shell.execute_reply": "2024-12-03T07:11:33.574674Z"
    },
    "papermill": {
     "duration": 3.461205,
     "end_time": "2024-12-03T07:11:33.578504",
     "exception": false,
     "start_time": "2024-12-03T07:11:30.117299",
     "status": "completed"
    },
    "tags": []
   },
   "outputs": [],
   "source": [
    "import numpy as np\n",
    "import pandas as pd\n",
    "import lightgbm as lgb\n",
    "from sklearn.model_selection import KFold\n",
    "from sklearn.metrics import mean_squared_error"
   ]
  },
  {
   "cell_type": "code",
   "execution_count": 2,
   "id": "2263c90d",
   "metadata": {
    "execution": {
     "iopub.execute_input": "2024-12-03T07:11:33.585513Z",
     "iopub.status.busy": "2024-12-03T07:11:33.584913Z",
     "iopub.status.idle": "2024-12-03T07:11:44.585035Z",
     "shell.execute_reply": "2024-12-03T07:11:44.583942Z"
    },
    "papermill": {
     "duration": 11.006388,
     "end_time": "2024-12-03T07:11:44.587626",
     "exception": false,
     "start_time": "2024-12-03T07:11:33.581238",
     "status": "completed"
    },
    "tags": []
   },
   "outputs": [],
   "source": [
    "train = pd.read_csv('/kaggle/input/playground-series-s4e12/train.csv',index_col = \"id\")\n",
    "test = pd.read_csv('/kaggle/input/playground-series-s4e12/test.csv',index_col = \"id\")\n",
    "sample_submission = pd.read_csv('/kaggle/input/playground-series-s4e12/sample_submission.csv',index_col = \"id\")\n",
    "\n",
    "train.columns = [col.replace(\" \", \"_\") for col in train.columns]\n",
    "test.columns = [col.replace(\" \", \"_\") for col in test.columns]"
   ]
  },
  {
   "cell_type": "code",
   "execution_count": 3,
   "id": "dc918d62",
   "metadata": {
    "execution": {
     "iopub.execute_input": "2024-12-03T07:11:44.593831Z",
     "iopub.status.busy": "2024-12-03T07:11:44.593452Z",
     "iopub.status.idle": "2024-12-03T07:11:46.925693Z",
     "shell.execute_reply": "2024-12-03T07:11:46.924644Z"
    },
    "papermill": {
     "duration": 2.338166,
     "end_time": "2024-12-03T07:11:46.928188",
     "exception": false,
     "start_time": "2024-12-03T07:11:44.590022",
     "status": "completed"
    },
    "tags": []
   },
   "outputs": [],
   "source": [
    "def date_preprocessing(df, yearT = 360):\n",
    "    df = df.copy()\n",
    "    df[\"Policy_Start_Date\"] = pd.to_datetime(df[\"Policy_Start_Date\"])\n",
    "    days_in_month = df[\"Policy_Start_Date\"].dt.days_in_month\n",
    "    \n",
    "    df[\"Year\"] = df[\"Policy_Start_Date\"].dt.year\n",
    "    df[\"Month\"] = df[\"Policy_Start_Date\"].dt.month\n",
    "    df[\"Day\"] = df[\"Policy_Start_Date\"].dt.day\n",
    "    \n",
    "    df[\"Sin_Month\"] = np.sin(df[\"Month\"] * np.pi * 2 / 12)\n",
    "    df[\"Cos_Month\"] = np.cos(df[\"Month\"] * np.pi * 2 / 12)\n",
    "    \n",
    "\n",
    "    df[\"Day_of_Year\"] = df[\"Policy_Start_Date\"].dt.dayofyear\n",
    "    df[\"Sin_Year_Day\"] = np.sin(df[\"Day_of_Year\"] * np.pi * 2 / yearT)\n",
    "    df[\"Cos_Year_Day\"] = np.cos(df[\"Day_of_Year\"] * np.pi * 2 / yearT)\n",
    "    \n",
    "    df[\"Sin_Day\"] = np.sin(df[\"Day\"] * np.pi * 2 / days_in_month)\n",
    "    df[\"Cos_Day\"] = np.cos(df[\"Day\"] * np.pi * 2 / days_in_month)\n",
    "\n",
    "    df.drop(\"Policy_Start_Date\",axis = 1,inplace = True)\n",
    "\n",
    "    return df\n",
    "\n",
    "\n",
    "train = date_preprocessing(train)\n",
    "test = date_preprocessing(test)"
   ]
  },
  {
   "cell_type": "code",
   "execution_count": 4,
   "id": "e3a712e5",
   "metadata": {
    "execution": {
     "iopub.execute_input": "2024-12-03T07:11:46.934255Z",
     "iopub.status.busy": "2024-12-03T07:11:46.933862Z",
     "iopub.status.idle": "2024-12-03T07:11:49.362941Z",
     "shell.execute_reply": "2024-12-03T07:11:49.361757Z"
    },
    "papermill": {
     "duration": 2.435133,
     "end_time": "2024-12-03T07:11:49.365670",
     "exception": false,
     "start_time": "2024-12-03T07:11:46.930537",
     "status": "completed"
    },
    "tags": []
   },
   "outputs": [],
   "source": [
    "cat_features = [col for col in train.columns if train[col].dtype == 'object']\n",
    "\n",
    "for col in cat_features:\n",
    "    train[col] = train[col].fillna(\"None\").astype(\"category\")\n",
    "    test[col] = test[col].fillna(\"None\").astype(\"category\")"
   ]
  },
  {
   "cell_type": "code",
   "execution_count": 5,
   "id": "532ec76a",
   "metadata": {
    "execution": {
     "iopub.execute_input": "2024-12-03T07:11:49.372021Z",
     "iopub.status.busy": "2024-12-03T07:11:49.371621Z",
     "iopub.status.idle": "2024-12-03T07:27:02.366751Z",
     "shell.execute_reply": "2024-12-03T07:27:02.365552Z"
    },
    "papermill": {
     "duration": 913.003353,
     "end_time": "2024-12-03T07:27:02.371485",
     "exception": false,
     "start_time": "2024-12-03T07:11:49.368132",
     "status": "completed"
    },
    "tags": []
   },
   "outputs": [
    {
     "name": "stdout",
     "output_type": "stream",
     "text": [
      "--------------\n",
      "Training until validation scores don't improve for 50 rounds\n",
      "Early stopping, best iteration is:\n",
      "[1601]\tTraining's rmse: 1.04027\tValidation's rmse: 1.04638\n",
      "Fold: 1 RMSLE: 1.0463806788678711\n",
      "--------------\n",
      "Training until validation scores don't improve for 50 rounds\n",
      "Early stopping, best iteration is:\n",
      "[1273]\tTraining's rmse: 1.04155\tValidation's rmse: 1.04578\n",
      "Fold: 2 RMSLE: 1.045777652377558\n",
      "--------------\n",
      "Training until validation scores don't improve for 50 rounds\n",
      "Early stopping, best iteration is:\n",
      "[1306]\tTraining's rmse: 1.0412\tValidation's rmse: 1.04658\n",
      "Fold: 3 RMSLE: 1.0465811786110704\n",
      "--------------\n",
      "Training until validation scores don't improve for 50 rounds\n",
      "Early stopping, best iteration is:\n",
      "[1190]\tTraining's rmse: 1.04183\tValidation's rmse: 1.04427\n",
      "Fold: 4 RMSLE: 1.0442654779298344\n",
      "--------------\n",
      "Training until validation scores don't improve for 50 rounds\n",
      "Early stopping, best iteration is:\n",
      "[1317]\tTraining's rmse: 1.04127\tValidation's rmse: 1.04609\n",
      "Fold: 5 RMSLE: 1.0460878907365552\n",
      "Mean RMSLE: 1.045818575704578 ± 0.0008226592444301086\n"
     ]
    }
   ],
   "source": [
    "X,y = train.drop(\"Premium_Amount\",axis = 1).copy(),train[\"Premium_Amount\"].copy()\n",
    "kf = KFold(n_splits = 5,random_state = 42,shuffle = True)\n",
    "\n",
    "lgb_oof_preds = np.zeros(len(y))\n",
    "lgb_test_preds = np.zeros(len(test))\n",
    "lgb_train_scores =[]\n",
    "\n",
    "\n",
    "lgb_params = {\n",
    "                'random_state': 42,\n",
    "                'objective': 'regression',\n",
    "                'metric': 'rmse',\n",
    "                'boosting_type': 'goss',\n",
    "                'verbosity': -1,\n",
    "                'enable_categorical': True, \n",
    "                'learning_rate': 0.0074316004574371255,\n",
    "                'num_leaves': 48,\n",
    "                 'max_depth': 13,\n",
    "                 'min_data_in_leaf': 25,\n",
    "                 'feature_fraction': 0.8859387413757838,\n",
    "                 'lambda_l1': 7.427838968787608,\n",
    "                 'lambda_l2': 2.9930367783188713e-05,\n",
    "                 'min_gain_to_split': 0.7980368381910301\n",
    "             }\n",
    "\n",
    "\n",
    "for fold, (train_idx, val_idx) in enumerate(kf.split(X, y)):\n",
    "    y_log = np.log1p(y)\n",
    "    X_train, X_valid = X.iloc[train_idx], X.iloc[val_idx]\n",
    "    y_train, y_valid = y_log.iloc[train_idx], y_log.iloc[val_idx]\n",
    "\n",
    "\n",
    "    lgb_train = lgb.Dataset(X_train, y_train, categorical_feature=cat_features)\n",
    "    lgb_valid = lgb.Dataset(X_valid, y_valid, categorical_feature=cat_features, reference=lgb_train)\n",
    "\n",
    "    \n",
    "    print(\"--------------\")\n",
    "    model = lgb.train(\n",
    "        lgb_params,\n",
    "        lgb_train,\n",
    "        valid_sets=[lgb_train,lgb_valid],\n",
    "        valid_names=[\"Training\",\"Validation\"],\n",
    "        num_boost_round = 3000,\n",
    "        callbacks=[lgb.early_stopping(stopping_rounds=50)],  \n",
    "    )\n",
    "\n",
    "    y_pred = model.predict(X_valid, num_iteration=model.best_iteration)\n",
    "    \n",
    "    y_pred = np.maximum(0,y_pred)\n",
    "    y_valid = np.maximum(0,y_valid)\n",
    "    \n",
    "    rmsle = mean_squared_error(y_valid, y_pred,squared=False)\n",
    "    print(\"Fold:\", fold + 1,\"RMSLE:\", rmsle)\n",
    "    lgb_train_scores.append(rmsle)\n",
    "\n",
    "    y_test_preds = model.predict(test)\n",
    "    lgb_oof_preds[val_idx] = y_pred\n",
    "    lgb_test_preds += np.expm1(y_test_preds)\n",
    "\n",
    "lgb_test_preds /= kf.get_n_splits()\n",
    "print(\"Mean RMSLE:\", np.mean(lgb_train_scores),\"±\", np.std(lgb_train_scores))"
   ]
  },
  {
   "cell_type": "code",
   "execution_count": null,
   "id": "c79b8381",
   "metadata": {
    "_cell_guid": "b1076dfc-b9ad-4769-8c92-a6c4dae69d19",
    "_uuid": "8f2839f25d086af736a60e9eeb907d3b93b6e0e5",
    "execution": {
     "iopub.execute_input": "2024-12-03T07:27:02.382044Z",
     "iopub.status.busy": "2024-12-03T07:27:02.380970Z",
     "iopub.status.idle": "2024-12-03T07:27:06.882221Z",
     "shell.execute_reply": "2024-12-03T07:27:06.880761Z"
    },
    "papermill": {
     "duration": 4.50979,
     "end_time": "2024-12-03T07:27:06.884658",
     "exception": false,
     "start_time": "2024-12-03T07:27:02.374868",
     "status": "completed"
    },
    "tags": []
   },
   "outputs": [
    {
     "name": "stdout",
     "output_type": "stream",
     "text": [
      "                   Fold_1    Fold_2    Fold_3    Fold_4    Fold_5\n",
      "LGBM GOSS Tuned  1.046381  1.045778  1.046581  1.044265  1.046088\n"
     ]
    }
   ],
   "source": [
    "experiment_results = pd.DataFrame(data = [lgb_train_scores],\n",
    "                                  columns = [f\"Fold_{i}\" for i in range(1,6)],\n",
    "                                  index = [\"LGBM GOSS Tuned\"])\n",
    "\n",
    "np.savetxt(\"lgb_goss_tuned_oof.txt\",lgb_oof_preds)\n",
    "np.savetxt(\"lgb_goss_tuned_test.txt\",lgb_test_preds)\n",
    "\n",
    "print(experiment_results)\n",
    "experiment_results.to_csv(\"goss_tuned_results.csv\")"
   ]
  }
 ],
 "metadata": {
  "kaggle": {
   "accelerator": "none",
   "dataSources": [
    {
     "databundleVersionId": 10305135,
     "sourceId": 84896,
     "sourceType": "competition"
    }
   ],
   "dockerImageVersionId": 30804,
   "isGpuEnabled": false,
   "isInternetEnabled": true,
   "language": "python",
   "sourceType": "notebook"
  },
  "kernelspec": {
   "display_name": "Python 3",
   "language": "python",
   "name": "python3"
  },
  "language_info": {
   "codemirror_mode": {
    "name": "ipython",
    "version": 3
   },
   "file_extension": ".py",
   "mimetype": "text/x-python",
   "name": "python",
   "nbconvert_exporter": "python",
   "pygments_lexer": "ipython3",
   "version": "3.10.14"
  },
  "papermill": {
   "default_parameters": {},
   "duration": 940.242103,
   "end_time": "2024-12-03T07:27:07.611167",
   "environment_variables": {},
   "exception": null,
   "input_path": "__notebook__.ipynb",
   "output_path": "__notebook__.ipynb",
   "parameters": {},
   "start_time": "2024-12-03T07:11:27.369064",
   "version": "2.6.0"
  }
 },
 "nbformat": 4,
 "nbformat_minor": 5
}
