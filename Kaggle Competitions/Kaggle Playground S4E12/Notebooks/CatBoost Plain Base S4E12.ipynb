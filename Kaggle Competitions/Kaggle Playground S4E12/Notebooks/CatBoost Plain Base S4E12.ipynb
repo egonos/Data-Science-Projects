{
 "cells": [
  {
   "cell_type": "code",
   "execution_count": 1,
   "id": "e0e98a6d",
   "metadata": {
    "_cell_guid": "b1076dfc-b9ad-4769-8c92-a6c4dae69d19",
    "_uuid": "8f2839f25d086af736a60e9eeb907d3b93b6e0e5",
    "execution": {
     "iopub.execute_input": "2024-12-03T04:15:35.067168Z",
     "iopub.status.busy": "2024-12-03T04:15:35.066839Z",
     "iopub.status.idle": "2024-12-03T04:15:37.319107Z",
     "shell.execute_reply": "2024-12-03T04:15:37.318441Z"
    },
    "papermill": {
     "duration": 2.257597,
     "end_time": "2024-12-03T04:15:37.321079",
     "exception": false,
     "start_time": "2024-12-03T04:15:35.063482",
     "status": "completed"
    },
    "tags": []
   },
   "outputs": [],
   "source": [
    "import numpy as np\n",
    "import pandas as pd\n",
    "import catboost as cat\n",
    "from sklearn.model_selection import KFold\n",
    "from sklearn.metrics import mean_squared_error"
   ]
  },
  {
   "cell_type": "code",
   "execution_count": 2,
   "id": "26f26125",
   "metadata": {
    "execution": {
     "iopub.execute_input": "2024-12-03T04:15:37.326333Z",
     "iopub.status.busy": "2024-12-03T04:15:37.325941Z",
     "iopub.status.idle": "2024-12-03T04:15:46.032864Z",
     "shell.execute_reply": "2024-12-03T04:15:46.032195Z"
    },
    "papermill": {
     "duration": 8.711468,
     "end_time": "2024-12-03T04:15:46.034798",
     "exception": false,
     "start_time": "2024-12-03T04:15:37.323330",
     "status": "completed"
    },
    "tags": []
   },
   "outputs": [],
   "source": [
    "train = pd.read_csv('/kaggle/input/playground-series-s4e12/train.csv',index_col = \"id\")\n",
    "test = pd.read_csv('/kaggle/input/playground-series-s4e12/test.csv',index_col = \"id\")\n",
    "sample_submission = pd.read_csv('/kaggle/input/playground-series-s4e12/sample_submission.csv',index_col = \"id\")\n",
    "\n",
    "train.columns = [col.replace(\" \", \"_\") for col in train.columns]\n",
    "test.columns = [col.replace(\" \", \"_\") for col in test.columns]"
   ]
  },
  {
   "cell_type": "code",
   "execution_count": 3,
   "id": "29b05774",
   "metadata": {
    "execution": {
     "iopub.execute_input": "2024-12-03T04:15:46.039675Z",
     "iopub.status.busy": "2024-12-03T04:15:46.039420Z",
     "iopub.status.idle": "2024-12-03T04:15:47.954889Z",
     "shell.execute_reply": "2024-12-03T04:15:47.953887Z"
    },
    "papermill": {
     "duration": 1.920214,
     "end_time": "2024-12-03T04:15:47.957045",
     "exception": false,
     "start_time": "2024-12-03T04:15:46.036831",
     "status": "completed"
    },
    "tags": []
   },
   "outputs": [],
   "source": [
    "def date_preprocessing(df, yearT = 360):\n",
    "    df = df.copy()\n",
    "    df[\"Policy_Start_Date\"] = pd.to_datetime(df[\"Policy_Start_Date\"])\n",
    "    days_in_month = df[\"Policy_Start_Date\"].dt.days_in_month\n",
    "    \n",
    "    df[\"Year\"] = df[\"Policy_Start_Date\"].dt.year\n",
    "    df[\"Month\"] = df[\"Policy_Start_Date\"].dt.month\n",
    "    df[\"Day\"] = df[\"Policy_Start_Date\"].dt.day\n",
    "    \n",
    "    df[\"Sin_Month\"] = np.sin(df[\"Month\"] * np.pi * 2 / 12)\n",
    "    df[\"Cos_Month\"] = np.cos(df[\"Month\"] * np.pi * 2 / 12)\n",
    "    \n",
    "\n",
    "    df[\"Day_of_Year\"] = df[\"Policy_Start_Date\"].dt.dayofyear\n",
    "    df[\"Sin_Year_Day\"] = np.sin(df[\"Day_of_Year\"] * np.pi * 2 / yearT)\n",
    "    df[\"Cos_Year_Day\"] = np.cos(df[\"Day_of_Year\"] * np.pi * 2 / yearT)\n",
    "    \n",
    "    df[\"Sin_Day\"] = np.sin(df[\"Day\"] * np.pi * 2 / days_in_month)\n",
    "    df[\"Cos_Day\"] = np.cos(df[\"Day\"] * np.pi * 2 / days_in_month)\n",
    "\n",
    "    df.drop(\"Policy_Start_Date\",axis = 1,inplace = True)\n",
    "\n",
    "    return df\n",
    "\n",
    "\n",
    "train = date_preprocessing(train)\n",
    "test = date_preprocessing(test)"
   ]
  },
  {
   "cell_type": "code",
   "execution_count": 4,
   "id": "b13cd43a",
   "metadata": {
    "execution": {
     "iopub.execute_input": "2024-12-03T04:15:47.962371Z",
     "iopub.status.busy": "2024-12-03T04:15:47.961683Z",
     "iopub.status.idle": "2024-12-03T04:15:49.156985Z",
     "shell.execute_reply": "2024-12-03T04:15:49.156298Z"
    },
    "papermill": {
     "duration": 1.199889,
     "end_time": "2024-12-03T04:15:49.158961",
     "exception": false,
     "start_time": "2024-12-03T04:15:47.959072",
     "status": "completed"
    },
    "tags": []
   },
   "outputs": [],
   "source": [
    "cat_features = [col for col in train.columns if train[col].dtype == 'object']\n",
    "\n",
    "for col in cat_features:\n",
    "    train[col] = train[col].fillna(\"None\").astype(\"str\")\n",
    "    test[col] = test[col].fillna(\"None\").astype(\"str\")"
   ]
  },
  {
   "cell_type": "code",
   "execution_count": 5,
   "id": "3910fbe9",
   "metadata": {
    "execution": {
     "iopub.execute_input": "2024-12-03T04:15:49.164276Z",
     "iopub.status.busy": "2024-12-03T04:15:49.163677Z",
     "iopub.status.idle": "2024-12-03T04:18:55.469933Z",
     "shell.execute_reply": "2024-12-03T04:18:55.468892Z"
    },
    "papermill": {
     "duration": 186.310848,
     "end_time": "2024-12-03T04:18:55.471849",
     "exception": false,
     "start_time": "2024-12-03T04:15:49.161001",
     "status": "completed"
    },
    "tags": []
   },
   "outputs": [
    {
     "name": "stdout",
     "output_type": "stream",
     "text": [
      "--------------\n",
      "Fold: 1 RMSLE: 1.0487697868203678\n",
      "--------------\n",
      "Fold: 2 RMSLE: 1.0481439607707566\n",
      "--------------\n",
      "Fold: 3 RMSLE: 1.0487131338513997\n",
      "--------------\n",
      "Fold: 4 RMSLE: 1.046949432229331\n",
      "--------------\n",
      "Fold: 5 RMSLE: 1.0482351287173692\n",
      "Mean RMSLE: 1.048162288477845 ± 0.0006556137195994901\n"
     ]
    }
   ],
   "source": [
    "X,y = train.drop(\"Premium_Amount\",axis = 1).copy(),train[\"Premium_Amount\"].copy()\n",
    "kf = KFold(n_splits = 5,random_state = 42,shuffle = True)\n",
    "\n",
    "cat_oof_preds = np.zeros(len(y))\n",
    "cat_test_preds = np.zeros(len(test))\n",
    "cat_train_scores =[]\n",
    "\n",
    "\n",
    "cat_params = {\n",
    "              'random_state': 42,\n",
    "                'objective': 'RMSE',\n",
    "                'boosting_type': 'Plain',\n",
    "                'use_best_model': True, \n",
    "                'task_type': \"GPU\"\n",
    "             }\n",
    "\n",
    "\n",
    "for fold, (train_idx, val_idx) in enumerate(kf.split(X, y)):\n",
    "    y_log = np.log1p(y)\n",
    "    X_train, X_valid = X.iloc[train_idx], X.iloc[val_idx]\n",
    "    y_train, y_valid = y_log.iloc[train_idx], y_log.iloc[val_idx]\n",
    "\n",
    "\n",
    "    cat_train = cat.Pool(X_train, y_train, cat_features=cat_features)\n",
    "    cat_valid = cat.Pool(X_valid, y_valid, cat_features=cat_features)\n",
    "\n",
    "    \n",
    "    print(\"--------------\")\n",
    "    model = cat.train(\n",
    "        cat_train,\n",
    "        cat_params,\n",
    "        eval_set=[cat_valid],\n",
    "        num_boost_round = 3000,\n",
    "        early_stopping_rounds = 50,\n",
    "        verbose = 0\n",
    "        \n",
    "    )\n",
    "\n",
    "    y_pred = model.predict(X_valid)\n",
    "    \n",
    "    y_pred = np.maximum(0,y_pred)\n",
    "    y_valid = np.maximum(0,y_valid)\n",
    "    \n",
    "    rmsle = mean_squared_error(y_valid, y_pred,squared=False)\n",
    "    print(\"Fold:\", fold + 1,\"RMSLE:\", rmsle)\n",
    "    cat_train_scores.append(rmsle)\n",
    "\n",
    "    y_test_preds = model.predict(test)\n",
    "    cat_oof_preds[val_idx] = y_pred\n",
    "    cat_test_preds += y_test_preds\n",
    "\n",
    "cat_test_preds /= kf.get_n_splits()\n",
    "print(\"Mean RMSLE:\", np.mean(cat_train_scores),\"±\", np.std(cat_train_scores))"
   ]
  },
  {
   "cell_type": "code",
   "execution_count": 6,
   "id": "fdc360cd",
   "metadata": {
    "execution": {
     "iopub.execute_input": "2024-12-03T04:18:55.477711Z",
     "iopub.status.busy": "2024-12-03T04:18:55.477417Z",
     "iopub.status.idle": "2024-12-03T04:18:59.098894Z",
     "shell.execute_reply": "2024-12-03T04:18:59.097592Z"
    },
    "papermill": {
     "duration": 3.627361,
     "end_time": "2024-12-03T04:18:59.101683",
     "exception": false,
     "start_time": "2024-12-03T04:18:55.474322",
     "status": "completed"
    },
    "tags": []
   },
   "outputs": [
    {
     "name": "stdout",
     "output_type": "stream",
     "text": [
      "                 Fold_1    Fold_2    Fold_3    Fold_4    Fold_5\n",
      "CAT Plain Base  1.04877  1.048144  1.048713  1.046949  1.048235\n"
     ]
    }
   ],
   "source": [
    "experiment_results = pd.DataFrame(\n",
    "    data=[cat_train_scores],  \n",
    "    columns=[f\"Fold_{i}\" for i in range(1, len(cat_train_scores) + 1)],  \n",
    "    index=[\"CAT Plain Base\"]  \n",
    ")\n",
    "\n",
    "np.savetxt(\"cat_plain_base_oof.txt\",cat_oof_preds)\n",
    "np.savetxt(\"cat_plain_base_test.txt\",cat_test_preds)\n",
    "\n",
    "\n",
    "print(experiment_results)\n",
    "experiment_results.to_csv(\"CAT_Plain_Base.csv\")"
   ]
  }
 ],
 "metadata": {
  "kaggle": {
   "accelerator": "nvidiaTeslaT4",
   "dataSources": [
    {
     "databundleVersionId": 10305135,
     "sourceId": 84896,
     "sourceType": "competition"
    }
   ],
   "dockerImageVersionId": 30786,
   "isGpuEnabled": true,
   "isInternetEnabled": true,
   "language": "python",
   "sourceType": "notebook"
  },
  "kernelspec": {
   "display_name": "Python 3",
   "language": "python",
   "name": "python3"
  },
  "language_info": {
   "codemirror_mode": {
    "name": "ipython",
    "version": 3
   },
   "file_extension": ".py",
   "mimetype": "text/x-python",
   "name": "python",
   "nbconvert_exporter": "python",
   "pygments_lexer": "ipython3",
   "version": "3.10.14"
  },
  "papermill": {
   "default_parameters": {},
   "duration": 207.054685,
   "end_time": "2024-12-03T04:18:59.723901",
   "environment_variables": {},
   "exception": null,
   "input_path": "__notebook__.ipynb",
   "output_path": "__notebook__.ipynb",
   "parameters": {},
   "start_time": "2024-12-03T04:15:32.669216",
   "version": "2.6.0"
  }
 },
 "nbformat": 4,
 "nbformat_minor": 5
}
