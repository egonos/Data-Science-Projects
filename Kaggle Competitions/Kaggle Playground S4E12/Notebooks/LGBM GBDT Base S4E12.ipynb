{
 "cells": [
  {
   "cell_type": "code",
   "execution_count": 1,
   "id": "a938a942",
   "metadata": {
    "_cell_guid": "b1076dfc-b9ad-4769-8c92-a6c4dae69d19",
    "_uuid": "8f2839f25d086af736a60e9eeb907d3b93b6e0e5",
    "execution": {
     "iopub.execute_input": "2024-12-03T04:19:28.796832Z",
     "iopub.status.busy": "2024-12-03T04:19:28.796362Z",
     "iopub.status.idle": "2024-12-03T04:19:31.756131Z",
     "shell.execute_reply": "2024-12-03T04:19:31.755127Z"
    },
    "papermill": {
     "duration": 2.967454,
     "end_time": "2024-12-03T04:19:31.758515",
     "exception": false,
     "start_time": "2024-12-03T04:19:28.791061",
     "status": "completed"
    },
    "tags": []
   },
   "outputs": [],
   "source": [
    "import numpy as np\n",
    "import pandas as pd\n",
    "import lightgbm as lgb\n",
    "from sklearn.model_selection import KFold\n",
    "from sklearn.metrics import mean_squared_error"
   ]
  },
  {
   "cell_type": "code",
   "execution_count": 2,
   "id": "70b1218b",
   "metadata": {
    "execution": {
     "iopub.execute_input": "2024-12-03T04:19:31.765179Z",
     "iopub.status.busy": "2024-12-03T04:19:31.764620Z",
     "iopub.status.idle": "2024-12-03T04:19:42.639639Z",
     "shell.execute_reply": "2024-12-03T04:19:42.638678Z"
    },
    "papermill": {
     "duration": 10.88063,
     "end_time": "2024-12-03T04:19:42.641948",
     "exception": false,
     "start_time": "2024-12-03T04:19:31.761318",
     "status": "completed"
    },
    "tags": []
   },
   "outputs": [],
   "source": [
    "train = pd.read_csv('/kaggle/input/playground-series-s4e12/train.csv',index_col = \"id\")\n",
    "test = pd.read_csv('/kaggle/input/playground-series-s4e12/test.csv',index_col = \"id\")\n",
    "sample_submission = pd.read_csv('/kaggle/input/playground-series-s4e12/sample_submission.csv',index_col = \"id\")\n",
    "\n",
    "train.columns = [col.replace(\" \", \"_\") for col in train.columns]\n",
    "test.columns = [col.replace(\" \", \"_\") for col in test.columns]"
   ]
  },
  {
   "cell_type": "code",
   "execution_count": 3,
   "id": "6b34ee7a",
   "metadata": {
    "execution": {
     "iopub.execute_input": "2024-12-03T04:19:42.648407Z",
     "iopub.status.busy": "2024-12-03T04:19:42.648028Z",
     "iopub.status.idle": "2024-12-03T04:19:45.009038Z",
     "shell.execute_reply": "2024-12-03T04:19:45.007876Z"
    },
    "papermill": {
     "duration": 2.366975,
     "end_time": "2024-12-03T04:19:45.011479",
     "exception": false,
     "start_time": "2024-12-03T04:19:42.644504",
     "status": "completed"
    },
    "tags": []
   },
   "outputs": [],
   "source": [
    "def date_preprocessing(df, yearT = 360):\n",
    "    df = df.copy()\n",
    "    df[\"Policy_Start_Date\"] = pd.to_datetime(df[\"Policy_Start_Date\"])\n",
    "    days_in_month = df[\"Policy_Start_Date\"].dt.days_in_month\n",
    "    \n",
    "    df[\"Year\"] = df[\"Policy_Start_Date\"].dt.year\n",
    "    df[\"Month\"] = df[\"Policy_Start_Date\"].dt.month\n",
    "    df[\"Day\"] = df[\"Policy_Start_Date\"].dt.day\n",
    "    \n",
    "    df[\"Sin_Month\"] = np.sin(df[\"Month\"] * np.pi * 2 / 12)\n",
    "    df[\"Cos_Month\"] = np.cos(df[\"Month\"] * np.pi * 2 / 12)\n",
    "    \n",
    "\n",
    "    df[\"Day_of_Year\"] = df[\"Policy_Start_Date\"].dt.dayofyear\n",
    "    df[\"Sin_Year_Day\"] = np.sin(df[\"Day_of_Year\"] * np.pi * 2 / yearT)\n",
    "    df[\"Cos_Year_Day\"] = np.cos(df[\"Day_of_Year\"] * np.pi * 2 / yearT)\n",
    "    \n",
    "    df[\"Sin_Day\"] = np.sin(df[\"Day\"] * np.pi * 2 / days_in_month)\n",
    "    df[\"Cos_Day\"] = np.cos(df[\"Day\"] * np.pi * 2 / days_in_month)\n",
    "\n",
    "    df.drop(\"Policy_Start_Date\",axis = 1,inplace = True)\n",
    "\n",
    "    return df\n",
    "\n",
    "\n",
    "train = date_preprocessing(train)\n",
    "test = date_preprocessing(test)"
   ]
  },
  {
   "cell_type": "code",
   "execution_count": 4,
   "id": "4d3a51f5",
   "metadata": {
    "execution": {
     "iopub.execute_input": "2024-12-03T04:19:45.017900Z",
     "iopub.status.busy": "2024-12-03T04:19:45.017518Z",
     "iopub.status.idle": "2024-12-03T04:19:47.425432Z",
     "shell.execute_reply": "2024-12-03T04:19:47.424384Z"
    },
    "papermill": {
     "duration": 2.413826,
     "end_time": "2024-12-03T04:19:47.427902",
     "exception": false,
     "start_time": "2024-12-03T04:19:45.014076",
     "status": "completed"
    },
    "tags": []
   },
   "outputs": [],
   "source": [
    "cat_features = [col for col in train.columns if train[col].dtype == 'object']\n",
    "\n",
    "for col in cat_features:\n",
    "    train[col] = train[col].fillna(\"None\").astype(\"category\")\n",
    "    test[col] = test[col].fillna(\"None\").astype(\"category\")"
   ]
  },
  {
   "cell_type": "code",
   "execution_count": 5,
   "id": "c61d770e",
   "metadata": {
    "execution": {
     "iopub.execute_input": "2024-12-03T04:19:47.434495Z",
     "iopub.status.busy": "2024-12-03T04:19:47.433619Z",
     "iopub.status.idle": "2024-12-03T04:21:03.772437Z",
     "shell.execute_reply": "2024-12-03T04:21:03.771251Z"
    },
    "papermill": {
     "duration": 76.344401,
     "end_time": "2024-12-03T04:21:03.774665",
     "exception": false,
     "start_time": "2024-12-03T04:19:47.430264",
     "status": "completed"
    },
    "tags": []
   },
   "outputs": [
    {
     "name": "stdout",
     "output_type": "stream",
     "text": [
      "--------------\n",
      "Training until validation scores don't improve for 50 rounds\n",
      "Early stopping, best iteration is:\n",
      "[109]\tTraining RMSE's rmse: 1.04238\tValidation RMSE's rmse: 1.04638\n",
      "Fold: 1 RMSLE: 1.0463792354037862\n",
      "--------------\n",
      "Training until validation scores don't improve for 50 rounds\n",
      "Early stopping, best iteration is:\n",
      "[91]\tTraining RMSE's rmse: 1.04318\tValidation RMSE's rmse: 1.04581\n",
      "Fold: 2 RMSLE: 1.0458055132955775\n",
      "--------------\n",
      "Training until validation scores don't improve for 50 rounds\n",
      "Early stopping, best iteration is:\n",
      "[185]\tTraining RMSE's rmse: 1.03993\tValidation RMSE's rmse: 1.04665\n",
      "Fold: 3 RMSLE: 1.0466473906682658\n",
      "--------------\n",
      "Training until validation scores don't improve for 50 rounds\n",
      "Early stopping, best iteration is:\n",
      "[133]\tTraining RMSE's rmse: 1.04183\tValidation RMSE's rmse: 1.04421\n",
      "Fold: 4 RMSLE: 1.0442111729008912\n",
      "--------------\n",
      "Training until validation scores don't improve for 50 rounds\n",
      "Early stopping, best iteration is:\n",
      "[184]\tTraining RMSE's rmse: 1.03992\tValidation RMSE's rmse: 1.04592\n",
      "Fold: 5 RMSLE: 1.045917165209278\n",
      "Mean RMSLE: 1.0457920954955597 ± 0.0008475142270507379\n"
     ]
    }
   ],
   "source": [
    "X,y = train.drop(\"Premium_Amount\",axis = 1).copy(),train[\"Premium_Amount\"].copy()\n",
    "kf = KFold(n_splits = 5,random_state = 42,shuffle = True)\n",
    "\n",
    "lgb_oof_preds = np.zeros(len(y))\n",
    "lgb_test_preds = np.zeros(len(test))\n",
    "lgb_train_scores =[]\n",
    "\n",
    "\n",
    "lgb_params = {\n",
    "              'random_state': 42,\n",
    "                'objective': 'regression',\n",
    "                'metric': 'rmse',\n",
    "                'boosting_type': 'gbdt',\n",
    "                'verbosity': -1,\n",
    "                'enable_categorical': True,  \n",
    "             }\n",
    "\n",
    "\n",
    "for fold, (train_idx, val_idx) in enumerate(kf.split(X, y)):\n",
    "    y_log = np.log1p(y)\n",
    "    X_train, X_valid = X.iloc[train_idx], X.iloc[val_idx]\n",
    "    y_train, y_valid = y_log.iloc[train_idx], y_log.iloc[val_idx]\n",
    "\n",
    "\n",
    "    lgb_train = lgb.Dataset(X_train, y_train, categorical_feature=cat_features)\n",
    "    lgb_valid = lgb.Dataset(X_valid, y_valid, categorical_feature=cat_features, reference=lgb_train)\n",
    "\n",
    "    \n",
    "    print(\"--------------\")\n",
    "    model = lgb.train(\n",
    "        lgb_params,\n",
    "        lgb_train,\n",
    "        valid_sets=[lgb_train,lgb_valid],\n",
    "        valid_names=[\"Training RMSE\",\"Validation RMSE\"],\n",
    "        num_boost_round = 3000,\n",
    "        callbacks=[lgb.early_stopping(stopping_rounds=50)],  \n",
    "    )\n",
    "\n",
    "    y_pred = model.predict(X_valid, num_iteration=model.best_iteration)\n",
    "    \n",
    "    y_pred = np.maximum(0,y_pred)\n",
    "    y_valid = np.maximum(0,y_valid)\n",
    "    \n",
    "    rmsle = mean_squared_error(y_valid, y_pred,squared=False)\n",
    "    print(\"Fold:\", fold + 1,\"RMSLE:\", rmsle)\n",
    "    lgb_train_scores.append(rmsle)\n",
    "\n",
    "    y_test_preds = model.predict(test)\n",
    "    lgb_oof_preds[val_idx] = y_pred\n",
    "    lgb_test_preds += y_test_preds\n",
    "\n",
    "lgb_test_preds /= kf.get_n_splits()\n",
    "print(\"Mean RMSLE:\", np.mean(lgb_train_scores),\"±\", np.std(lgb_train_scores))"
   ]
  },
  {
   "cell_type": "code",
   "execution_count": 6,
   "id": "228d5bae",
   "metadata": {
    "execution": {
     "iopub.execute_input": "2024-12-03T04:21:03.783869Z",
     "iopub.status.busy": "2024-12-03T04:21:03.782912Z",
     "iopub.status.idle": "2024-12-03T04:21:08.065586Z",
     "shell.execute_reply": "2024-12-03T04:21:08.064411Z"
    },
    "papermill": {
     "duration": 4.289667,
     "end_time": "2024-12-03T04:21:08.067935",
     "exception": false,
     "start_time": "2024-12-03T04:21:03.778268",
     "status": "completed"
    },
    "tags": []
   },
   "outputs": [
    {
     "name": "stdout",
     "output_type": "stream",
     "text": [
      "                  Fold_1    Fold_2    Fold_3    Fold_4    Fold_5\n",
      "LGBM GBDT Base  1.046379  1.045806  1.046647  1.044211  1.045917\n"
     ]
    }
   ],
   "source": [
    "experiment_results = pd.DataFrame(\n",
    "    data=[lgb_train_scores],  #\n",
    "    columns=[f\"Fold_{i}\" for i in range(1, len(lgb_train_scores) + 1)],  \n",
    "    index=[\"LGBM GBDT Base\"]  \n",
    ")\n",
    "\n",
    "np.savetxt(\"lgb_gbdt_base_oof.txt\",lgb_oof_preds)\n",
    "np.savetxt(\"lgb_gbdt_base_test.txt\",lgb_test_preds)\n",
    "\n",
    "print(experiment_results)\n",
    "experiment_results.to_csv(\"LGBM_GBDT_Base.csv\")"
   ]
  },
  {
   "cell_type": "code",
   "execution_count": 7,
   "id": "a6d55f58",
   "metadata": {
    "execution": {
     "iopub.execute_input": "2024-12-03T04:21:08.076211Z",
     "iopub.status.busy": "2024-12-03T04:21:08.075846Z",
     "iopub.status.idle": "2024-12-03T04:21:09.649449Z",
     "shell.execute_reply": "2024-12-03T04:21:09.648357Z"
    },
    "papermill": {
     "duration": 1.580447,
     "end_time": "2024-12-03T04:21:09.651947",
     "exception": false,
     "start_time": "2024-12-03T04:21:08.071500",
     "status": "completed"
    },
    "tags": []
   },
   "outputs": [],
   "source": [
    "sample_submission[\"Premium Amount\"] = lgb_test_preds\n",
    "sample_submission.to_csv(\"submission.csv\")"
   ]
  }
 ],
 "metadata": {
  "kaggle": {
   "accelerator": "none",
   "dataSources": [
    {
     "databundleVersionId": 10305135,
     "sourceId": 84896,
     "sourceType": "competition"
    }
   ],
   "dockerImageVersionId": 30786,
   "isGpuEnabled": false,
   "isInternetEnabled": true,
   "language": "python",
   "sourceType": "notebook"
  },
  "kernelspec": {
   "display_name": "Python 3",
   "language": "python",
   "name": "python3"
  },
  "language_info": {
   "codemirror_mode": {
    "name": "ipython",
    "version": 3
   },
   "file_extension": ".py",
   "mimetype": "text/x-python",
   "name": "python",
   "nbconvert_exporter": "python",
   "pygments_lexer": "ipython3",
   "version": "3.10.14"
  },
  "papermill": {
   "default_parameters": {},
   "duration": 104.132264,
   "end_time": "2024-12-03T04:21:10.376489",
   "environment_variables": {},
   "exception": null,
   "input_path": "__notebook__.ipynb",
   "output_path": "__notebook__.ipynb",
   "parameters": {},
   "start_time": "2024-12-03T04:19:26.244225",
   "version": "2.6.0"
  }
 },
 "nbformat": 4,
 "nbformat_minor": 5
}
