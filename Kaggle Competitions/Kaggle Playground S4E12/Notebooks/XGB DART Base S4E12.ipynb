{
 "cells": [
  {
   "cell_type": "code",
   "execution_count": 1,
   "id": "ad63b535",
   "metadata": {
    "_cell_guid": "b1076dfc-b9ad-4769-8c92-a6c4dae69d19",
    "_uuid": "8f2839f25d086af736a60e9eeb907d3b93b6e0e5",
    "execution": {
     "iopub.execute_input": "2024-12-03T11:25:23.320367Z",
     "iopub.status.busy": "2024-12-03T11:25:23.319865Z",
     "iopub.status.idle": "2024-12-03T11:25:26.054991Z",
     "shell.execute_reply": "2024-12-03T11:25:26.053727Z"
    },
    "papermill": {
     "duration": 2.742241,
     "end_time": "2024-12-03T11:25:26.057617",
     "exception": false,
     "start_time": "2024-12-03T11:25:23.315376",
     "status": "completed"
    },
    "tags": []
   },
   "outputs": [],
   "source": [
    "import numpy as np\n",
    "import pandas as pd\n",
    "import xgboost as xgb\n",
    "from sklearn.model_selection import KFold\n",
    "from sklearn.metrics import mean_squared_error"
   ]
  },
  {
   "cell_type": "code",
   "execution_count": 2,
   "id": "ffe05dc5",
   "metadata": {
    "execution": {
     "iopub.execute_input": "2024-12-03T11:25:26.063807Z",
     "iopub.status.busy": "2024-12-03T11:25:26.063257Z",
     "iopub.status.idle": "2024-12-03T11:25:42.236992Z",
     "shell.execute_reply": "2024-12-03T11:25:42.235841Z"
    },
    "papermill": {
     "duration": 16.179409,
     "end_time": "2024-12-03T11:25:42.239305",
     "exception": false,
     "start_time": "2024-12-03T11:25:26.059896",
     "status": "completed"
    },
    "tags": []
   },
   "outputs": [],
   "source": [
    "train = pd.read_csv('/kaggle/input/playground-series-s4e12/train.csv',index_col = \"id\")\n",
    "test = pd.read_csv('/kaggle/input/playground-series-s4e12/test.csv',index_col = \"id\")\n",
    "sample_submission = pd.read_csv('/kaggle/input/playground-series-s4e12/sample_submission.csv',index_col = \"id\").iloc[:1000]\n",
    "\n",
    "train.columns = [col.replace(\" \", \"_\") for col in train.columns]\n",
    "test.columns = [col.replace(\" \", \"_\") for col in test.columns]\n",
    "\n",
    "def date_preprocessing(df, yearT = 360):\n",
    "    df = df.copy()\n",
    "    df[\"Policy_Start_Date\"] = pd.to_datetime(df[\"Policy_Start_Date\"])\n",
    "    days_in_month = df[\"Policy_Start_Date\"].dt.days_in_month\n",
    "    \n",
    "    df[\"Year\"] = df[\"Policy_Start_Date\"].dt.year\n",
    "    df[\"Month\"] = df[\"Policy_Start_Date\"].dt.month\n",
    "    df[\"Day\"] = df[\"Policy_Start_Date\"].dt.day\n",
    "    \n",
    "    df[\"Sin_Month\"] = np.sin(df[\"Month\"] * np.pi * 2 / 12)\n",
    "    df[\"Cos_Month\"] = np.cos(df[\"Month\"] * np.pi * 2 / 12)\n",
    "    \n",
    "\n",
    "    df[\"Day_of_Year\"] = df[\"Policy_Start_Date\"].dt.dayofyear\n",
    "    df[\"Sin_Year_Day\"] = np.sin(df[\"Day_of_Year\"] * np.pi * 2 / yearT)\n",
    "    df[\"Cos_Year_Day\"] = np.cos(df[\"Day_of_Year\"] * np.pi * 2 / yearT)\n",
    "    \n",
    "    df[\"Sin_Day\"] = np.sin(df[\"Day\"] * np.pi * 2 / days_in_month)\n",
    "    df[\"Cos_Day\"] = np.cos(df[\"Day\"] * np.pi * 2 / days_in_month)\n",
    "\n",
    "    df.drop(\"Policy_Start_Date\",axis = 1,inplace = True)\n",
    "\n",
    "    return df\n",
    "\n",
    "\n",
    "train = date_preprocessing(train)\n",
    "test = date_preprocessing(test)\n",
    "\n",
    "cat_features = [col for col in train.columns if train[col].dtype == 'object']\n",
    "\n",
    "for col in cat_features:\n",
    "    train[col] = train[col].fillna(\"None\").astype(\"category\")\n",
    "    test[col] = test[col].fillna(\"None\").astype(\"category\")"
   ]
  },
  {
   "cell_type": "code",
   "execution_count": 3,
   "id": "a538361d",
   "metadata": {
    "execution": {
     "iopub.execute_input": "2024-12-03T11:25:42.245588Z",
     "iopub.status.busy": "2024-12-03T11:25:42.244492Z",
     "iopub.status.idle": "2024-12-03T11:46:26.105989Z",
     "shell.execute_reply": "2024-12-03T11:46:26.104925Z"
    },
    "papermill": {
     "duration": 1243.867029,
     "end_time": "2024-12-03T11:46:26.108322",
     "exception": false,
     "start_time": "2024-12-03T11:25:42.241293",
     "status": "completed"
    },
    "tags": []
   },
   "outputs": [
    {
     "name": "stdout",
     "output_type": "stream",
     "text": [
      "--------------\n",
      "Fold: 1 RMSLE: 1.0469992863275432\n",
      "--------------\n",
      "Fold: 2 RMSLE: 1.0461114440610348\n",
      "--------------\n",
      "Fold: 3 RMSLE: 1.0471152432996285\n",
      "--------------\n",
      "Fold: 4 RMSLE: 1.0452340735032741\n",
      "--------------\n",
      "Fold: 5 RMSLE: 1.0466784588548186\n",
      "Mean RMSLE: 1.0464277012092598 ± 0.000690951337588659\n"
     ]
    }
   ],
   "source": [
    "xgb_params = {'booster': \"dart\",\n",
    "             'verbosity': 0,\n",
    "             'tree_method': \"hist\",\n",
    "             'objective': 'reg:squarederror',\n",
    "             'eval_metric': \"rmse\",\n",
    "             'seed':42,\n",
    "             'enable_categorical': True}\n",
    "\n",
    "X,y = train.drop(\"Premium_Amount\",axis = 1).copy(),train[\"Premium_Amount\"].copy()\n",
    "kf = KFold(n_splits = 5,random_state = 42,shuffle = True)\n",
    "\n",
    "xgb_oof_preds = np.zeros(len(y))\n",
    "xgb_test_preds = np.zeros(len(test))\n",
    "xgb_train_scores =[]\n",
    "\n",
    "\n",
    "for fold, (train_idx, val_idx) in enumerate(kf.split(X, y)):\n",
    "    y_log = np.log1p(y)\n",
    "    X_train, X_valid = X.iloc[train_idx], X.iloc[val_idx]\n",
    "    y_train, y_valid = y_log.iloc[train_idx], y_log.iloc[val_idx]\n",
    "\n",
    "\n",
    "    xgb_train = xgb.DMatrix(X_train, y_train, enable_categorical = True)\n",
    "    xgb_valid = xgb.DMatrix(X_valid, y_valid, enable_categorical = True)\n",
    "\n",
    "    \n",
    "    print(\"--------------\")\n",
    "    model = xgb.train(\n",
    "        xgb_params,\n",
    "        xgb_train,\n",
    "        evals=[(xgb_train, \"train\"), (xgb_valid, \"valid\")],\n",
    "        verbose_eval=0,\n",
    "        num_boost_round = 3000,\n",
    "        early_stopping_rounds=50,\n",
    "    )\n",
    "\n",
    "    y_pred = model.predict(xgb.DMatrix(X_valid,enable_categorical=True),\n",
    "                           iteration_range=(0, model.best_iteration + 1))\n",
    "    \n",
    "    y_pred = np.maximum(0,y_pred)\n",
    "    y_valid = np.maximum(0,y_valid)\n",
    "    \n",
    "    rmsle = mean_squared_error(y_valid, y_pred,squared=False)\n",
    "    print(\"Fold:\", fold + 1,\"RMSLE:\", rmsle)\n",
    "    xgb_train_scores.append(rmsle)\n",
    "\n",
    "    xgb_test = xgb.DMatrix(test, enable_categorical=True)\n",
    "    y_test_preds = model.predict(xgb_test, iteration_range=(0, model.best_iteration + 1))\n",
    "    xgb_oof_preds[val_idx] = y_pred\n",
    "    xgb_test_preds += np.expm1(y_test_preds)\n",
    "\n",
    "xgb_test_preds /= kf.get_n_splits()\n",
    "print(\"Mean RMSLE:\", np.mean(xgb_train_scores),\"±\", np.std(xgb_train_scores))"
   ]
  },
  {
   "cell_type": "code",
   "execution_count": 4,
   "id": "3643f7b5",
   "metadata": {
    "execution": {
     "iopub.execute_input": "2024-12-03T11:46:26.114893Z",
     "iopub.status.busy": "2024-12-03T11:46:26.114511Z",
     "iopub.status.idle": "2024-12-03T11:46:30.374824Z",
     "shell.execute_reply": "2024-12-03T11:46:30.373434Z"
    },
    "papermill": {
     "duration": 4.267237,
     "end_time": "2024-12-03T11:46:30.378132",
     "exception": false,
     "start_time": "2024-12-03T11:46:26.110895",
     "status": "completed"
    },
    "tags": []
   },
   "outputs": [
    {
     "name": "stdout",
     "output_type": "stream",
     "text": [
      "                 Fold_1    Fold_2    Fold_3    Fold_4    Fold_5\n",
      "XGB DART Base  1.046999  1.046111  1.047115  1.045234  1.046678\n"
     ]
    }
   ],
   "source": [
    "experiment_results = pd.DataFrame(\n",
    "    data=[xgb_train_scores],  #\n",
    "    columns=[f\"Fold_{i}\" for i in range(1, len(xgb_train_scores) + 1)],  \n",
    "    index=[\"XGB DART Base\"]  \n",
    ")\n",
    "\n",
    "np.savetxt(\"xgb_dart_oof.txt\",xgb_oof_preds)\n",
    "np.savetxt(\"xgb_dart_test.txt\",xgb_test_preds)\n",
    "\n",
    "print(experiment_results)\n",
    "experiment_results.to_csv(\"XGB_DART_Base.csv\")"
   ]
  }
 ],
 "metadata": {
  "kaggle": {
   "accelerator": "none",
   "dataSources": [
    {
     "databundleVersionId": 10305135,
     "sourceId": 84896,
     "sourceType": "competition"
    }
   ],
   "dockerImageVersionId": 30804,
   "isGpuEnabled": false,
   "isInternetEnabled": true,
   "language": "python",
   "sourceType": "notebook"
  },
  "kernelspec": {
   "display_name": "Python 3",
   "language": "python",
   "name": "python3"
  },
  "language_info": {
   "codemirror_mode": {
    "name": "ipython",
    "version": 3
   },
   "file_extension": ".py",
   "mimetype": "text/x-python",
   "name": "python",
   "nbconvert_exporter": "python",
   "pygments_lexer": "ipython3",
   "version": "3.10.14"
  },
  "papermill": {
   "default_parameters": {},
   "duration": 1270.535276,
   "end_time": "2024-12-03T11:46:31.104769",
   "environment_variables": {},
   "exception": null,
   "input_path": "__notebook__.ipynb",
   "output_path": "__notebook__.ipynb",
   "parameters": {},
   "start_time": "2024-12-03T11:25:20.569493",
   "version": "2.6.0"
  }
 },
 "nbformat": 4,
 "nbformat_minor": 5
}
