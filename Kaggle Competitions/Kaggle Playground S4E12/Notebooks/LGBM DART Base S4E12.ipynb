{
 "cells": [
  {
   "cell_type": "code",
   "execution_count": 1,
   "id": "98107bee",
   "metadata": {
    "_cell_guid": "b1076dfc-b9ad-4769-8c92-a6c4dae69d19",
    "_uuid": "8f2839f25d086af736a60e9eeb907d3b93b6e0e5",
    "execution": {
     "iopub.execute_input": "2024-12-03T08:49:20.413945Z",
     "iopub.status.busy": "2024-12-03T08:49:20.413500Z",
     "iopub.status.idle": "2024-12-03T08:49:23.911996Z",
     "shell.execute_reply": "2024-12-03T08:49:23.910887Z"
    },
    "papermill": {
     "duration": 3.505404,
     "end_time": "2024-12-03T08:49:23.914516",
     "exception": false,
     "start_time": "2024-12-03T08:49:20.409112",
     "status": "completed"
    },
    "tags": []
   },
   "outputs": [],
   "source": [
    "import numpy as np\n",
    "import pandas as pd\n",
    "import lightgbm as lgb\n",
    "from sklearn.model_selection import KFold\n",
    "from sklearn.metrics import mean_squared_error"
   ]
  },
  {
   "cell_type": "code",
   "execution_count": 2,
   "id": "f42effed",
   "metadata": {
    "execution": {
     "iopub.execute_input": "2024-12-03T08:49:23.921062Z",
     "iopub.status.busy": "2024-12-03T08:49:23.920496Z",
     "iopub.status.idle": "2024-12-03T08:49:35.347271Z",
     "shell.execute_reply": "2024-12-03T08:49:35.346024Z"
    },
    "papermill": {
     "duration": 11.432925,
     "end_time": "2024-12-03T08:49:35.350006",
     "exception": false,
     "start_time": "2024-12-03T08:49:23.917081",
     "status": "completed"
    },
    "tags": []
   },
   "outputs": [],
   "source": [
    "train = pd.read_csv('/kaggle/input/playground-series-s4e12/train.csv',index_col = \"id\")\n",
    "test = pd.read_csv('/kaggle/input/playground-series-s4e12/test.csv',index_col = \"id\")\n",
    "sample_submission = pd.read_csv('/kaggle/input/playground-series-s4e12/sample_submission.csv',index_col = \"id\")\n",
    "\n",
    "train.columns = [col.replace(\" \", \"_\") for col in train.columns]\n",
    "test.columns = [col.replace(\" \", \"_\") for col in test.columns]"
   ]
  },
  {
   "cell_type": "code",
   "execution_count": 3,
   "id": "5331ff6b",
   "metadata": {
    "execution": {
     "iopub.execute_input": "2024-12-03T08:49:35.356335Z",
     "iopub.status.busy": "2024-12-03T08:49:35.355930Z",
     "iopub.status.idle": "2024-12-03T08:49:37.766772Z",
     "shell.execute_reply": "2024-12-03T08:49:37.765776Z"
    },
    "papermill": {
     "duration": 2.416862,
     "end_time": "2024-12-03T08:49:37.769221",
     "exception": false,
     "start_time": "2024-12-03T08:49:35.352359",
     "status": "completed"
    },
    "tags": []
   },
   "outputs": [],
   "source": [
    "def date_preprocessing(df, yearT = 360):\n",
    "    df = df.copy()\n",
    "    df[\"Policy_Start_Date\"] = pd.to_datetime(df[\"Policy_Start_Date\"])\n",
    "    days_in_month = df[\"Policy_Start_Date\"].dt.days_in_month\n",
    "    \n",
    "    df[\"Year\"] = df[\"Policy_Start_Date\"].dt.year\n",
    "    df[\"Month\"] = df[\"Policy_Start_Date\"].dt.month\n",
    "    df[\"Day\"] = df[\"Policy_Start_Date\"].dt.day\n",
    "    \n",
    "    df[\"Sin_Month\"] = np.sin(df[\"Month\"] * np.pi * 2 / 12)\n",
    "    df[\"Cos_Month\"] = np.cos(df[\"Month\"] * np.pi * 2 / 12)\n",
    "    \n",
    "\n",
    "    df[\"Day_of_Year\"] = df[\"Policy_Start_Date\"].dt.dayofyear\n",
    "    df[\"Sin_Year_Day\"] = np.sin(df[\"Day_of_Year\"] * np.pi * 2 / yearT)\n",
    "    df[\"Cos_Year_Day\"] = np.cos(df[\"Day_of_Year\"] * np.pi * 2 / yearT)\n",
    "    \n",
    "    df[\"Sin_Day\"] = np.sin(df[\"Day\"] * np.pi * 2 / days_in_month)\n",
    "    df[\"Cos_Day\"] = np.cos(df[\"Day\"] * np.pi * 2 / days_in_month)\n",
    "\n",
    "    df.drop(\"Policy_Start_Date\",axis = 1,inplace = True)\n",
    "\n",
    "    return df\n",
    "\n",
    "\n",
    "train = date_preprocessing(train)\n",
    "test = date_preprocessing(test)"
   ]
  },
  {
   "cell_type": "code",
   "execution_count": 4,
   "id": "5096ce98",
   "metadata": {
    "execution": {
     "iopub.execute_input": "2024-12-03T08:49:37.775715Z",
     "iopub.status.busy": "2024-12-03T08:49:37.775346Z",
     "iopub.status.idle": "2024-12-03T08:49:40.182310Z",
     "shell.execute_reply": "2024-12-03T08:49:40.181130Z"
    },
    "papermill": {
     "duration": 2.412838,
     "end_time": "2024-12-03T08:49:40.184769",
     "exception": false,
     "start_time": "2024-12-03T08:49:37.771931",
     "status": "completed"
    },
    "tags": []
   },
   "outputs": [],
   "source": [
    "cat_features = [col for col in train.columns if train[col].dtype == 'object']\n",
    "\n",
    "for col in cat_features:\n",
    "    train[col] = train[col].fillna(\"None\").astype(\"category\")\n",
    "    test[col] = test[col].fillna(\"None\").astype(\"category\")"
   ]
  },
  {
   "cell_type": "code",
   "execution_count": 5,
   "id": "816896d5",
   "metadata": {
    "execution": {
     "iopub.execute_input": "2024-12-03T08:49:40.191300Z",
     "iopub.status.busy": "2024-12-03T08:49:40.190735Z",
     "iopub.status.idle": "2024-12-03T09:56:19.782353Z",
     "shell.execute_reply": "2024-12-03T09:56:19.780898Z"
    },
    "papermill": {
     "duration": 3999.597611,
     "end_time": "2024-12-03T09:56:19.784838",
     "exception": false,
     "start_time": "2024-12-03T08:49:40.187227",
     "status": "completed"
    },
    "tags": []
   },
   "outputs": [
    {
     "name": "stdout",
     "output_type": "stream",
     "text": [
      "--------------\n",
      "Fold: 1 RMSLE: 1.0482929720203522\n",
      "--------------\n",
      "Fold: 2 RMSLE: 1.0477688808753955\n",
      "--------------\n",
      "Fold: 3 RMSLE: 1.0488384362520802\n",
      "--------------\n",
      "Fold: 4 RMSLE: 1.0461930884880029\n",
      "--------------\n",
      "Fold: 5 RMSLE: 1.0479891116528794\n",
      "Mean RMSLE: 1.047816497857742 ± 0.0008875704581039159\n"
     ]
    }
   ],
   "source": [
    "X,y = train.drop(\"Premium_Amount\",axis = 1).copy(),train[\"Premium_Amount\"].copy()\n",
    "kf = KFold(n_splits = 5,random_state = 42,shuffle = True)\n",
    "\n",
    "lgb_oof_preds = np.zeros(len(y))\n",
    "lgb_test_preds = np.zeros(len(test))\n",
    "lgb_train_scores =[]\n",
    "\n",
    "\n",
    "lgb_params = {\n",
    "              'random_state': 42,\n",
    "                'objective': 'regression',\n",
    "                'metric': 'rmse',\n",
    "                'boosting_type': 'dart',\n",
    "                'verbosity': -1,\n",
    "                'enable_categorical': True,  \n",
    "             }\n",
    "\n",
    "\n",
    "for fold, (train_idx, val_idx) in enumerate(kf.split(X, y)):\n",
    "    y_log = np.log1p(y)\n",
    "    X_train, X_valid = X.iloc[train_idx], X.iloc[val_idx]\n",
    "    y_train, y_valid = y_log.iloc[train_idx], y_log.iloc[val_idx]\n",
    "\n",
    "\n",
    "    lgb_train = lgb.Dataset(X_train, y_train, categorical_feature=cat_features)\n",
    "    lgb_valid = lgb.Dataset(X_valid, y_valid, categorical_feature=cat_features, reference=lgb_train)\n",
    "\n",
    "    \n",
    "    print(\"--------------\")\n",
    "    model = lgb.train(\n",
    "        lgb_params,\n",
    "        lgb_train,\n",
    "        valid_sets=[lgb_train,lgb_valid],\n",
    "        valid_names=[\"Training\",\"Validation\"],\n",
    "        num_boost_round = 1000,  \n",
    "    )\n",
    "\n",
    "    y_pred = model.predict(X_valid, num_iteration=model.best_iteration)\n",
    "    \n",
    "    y_pred = np.maximum(0,y_pred)\n",
    "    y_valid = np.maximum(0,y_valid)\n",
    "    \n",
    "    rmsle = mean_squared_error(y_valid, y_pred,squared=False)\n",
    "    print(\"Fold:\", fold + 1,\"RMSLE:\", rmsle)\n",
    "    lgb_train_scores.append(rmsle)\n",
    "\n",
    "    y_test_preds = model.predict(test)\n",
    "    lgb_oof_preds[val_idx] = y_pred\n",
    "    lgb_test_preds += y_test_preds\n",
    "\n",
    "lgb_test_preds /= kf.get_n_splits()\n",
    "print(\"Mean RMSLE:\", np.mean(lgb_train_scores),\"±\", np.std(lgb_train_scores))"
   ]
  },
  {
   "cell_type": "code",
   "execution_count": 6,
   "id": "f35a944e",
   "metadata": {
    "execution": {
     "iopub.execute_input": "2024-12-03T09:56:19.792357Z",
     "iopub.status.busy": "2024-12-03T09:56:19.791959Z",
     "iopub.status.idle": "2024-12-03T09:56:24.092405Z",
     "shell.execute_reply": "2024-12-03T09:56:24.091013Z"
    },
    "papermill": {
     "duration": 4.30685,
     "end_time": "2024-12-03T09:56:24.094618",
     "exception": false,
     "start_time": "2024-12-03T09:56:19.787768",
     "status": "completed"
    },
    "tags": []
   },
   "outputs": [
    {
     "name": "stdout",
     "output_type": "stream",
     "text": [
      "                  Fold_1    Fold_2    Fold_3    Fold_4    Fold_5\n",
      "LGBM DART Base  1.048293  1.047769  1.048838  1.046193  1.047989\n"
     ]
    }
   ],
   "source": [
    "experiment_results = pd.DataFrame(\n",
    "    data=[lgb_train_scores],  #\n",
    "    columns=[f\"Fold_{i}\" for i in range(1, len(lgb_train_scores) + 1)],  \n",
    "    index=[\"LGBM DART Base\"]  \n",
    ")\n",
    "\n",
    "np.savetxt(\"lgb_dart_base_oof.txt\",lgb_oof_preds)\n",
    "np.savetxt(\"lgb_dart_base_test.txt\",lgb_test_preds)\n",
    "\n",
    "print(experiment_results)\n",
    "experiment_results.to_csv(\"LGBM_DART_Base.csv\")"
   ]
  }
 ],
 "metadata": {
  "kaggle": {
   "accelerator": "none",
   "dataSources": [
    {
     "databundleVersionId": 10305135,
     "sourceId": 84896,
     "sourceType": "competition"
    }
   ],
   "dockerImageVersionId": 30804,
   "isGpuEnabled": false,
   "isInternetEnabled": true,
   "language": "python",
   "sourceType": "notebook"
  },
  "kernelspec": {
   "display_name": "Python 3",
   "language": "python",
   "name": "python3"
  },
  "language_info": {
   "codemirror_mode": {
    "name": "ipython",
    "version": 3
   },
   "file_extension": ".py",
   "mimetype": "text/x-python",
   "name": "python",
   "nbconvert_exporter": "python",
   "pygments_lexer": "ipython3",
   "version": "3.10.14"
  },
  "papermill": {
   "default_parameters": {},
   "duration": 4027.310539,
   "end_time": "2024-12-03T09:56:24.922430",
   "environment_variables": {},
   "exception": null,
   "input_path": "__notebook__.ipynb",
   "output_path": "__notebook__.ipynb",
   "parameters": {},
   "start_time": "2024-12-03T08:49:17.611891",
   "version": "2.6.0"
  }
 },
 "nbformat": 4,
 "nbformat_minor": 5
}
