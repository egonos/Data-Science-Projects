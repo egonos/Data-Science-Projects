{
 "cells": [
  {
   "cell_type": "code",
   "execution_count": 1,
   "id": "985ae6a6",
   "metadata": {
    "_cell_guid": "b1076dfc-b9ad-4769-8c92-a6c4dae69d19",
    "_uuid": "8f2839f25d086af736a60e9eeb907d3b93b6e0e5",
    "execution": {
     "iopub.execute_input": "2024-12-02T13:04:24.413018Z",
     "iopub.status.busy": "2024-12-02T13:04:24.412478Z",
     "iopub.status.idle": "2024-12-02T13:04:56.147173Z",
     "shell.execute_reply": "2024-12-02T13:04:56.145796Z"
    },
    "papermill": {
     "duration": 31.741642,
     "end_time": "2024-12-02T13:04:56.150015",
     "exception": false,
     "start_time": "2024-12-02T13:04:24.408373",
     "status": "completed"
    },
    "tags": []
   },
   "outputs": [
    {
     "name": "stdout",
     "output_type": "stream",
     "text": [
      "Collecting optuna-integration[lightgbm]\r\n",
      "  Downloading optuna_integration-4.1.0-py3-none-any.whl.metadata (12 kB)\r\n",
      "Requirement already satisfied: optuna in /opt/conda/lib/python3.10/site-packages (from optuna-integration[lightgbm]) (4.0.0)\r\n",
      "Requirement already satisfied: lightgbm in /opt/conda/lib/python3.10/site-packages (from optuna-integration[lightgbm]) (4.2.0)\r\n",
      "Requirement already satisfied: scikit-learn in /opt/conda/lib/python3.10/site-packages (from optuna-integration[lightgbm]) (1.2.2)\r\n",
      "Requirement already satisfied: numpy in /opt/conda/lib/python3.10/site-packages (from lightgbm->optuna-integration[lightgbm]) (1.26.4)\r\n",
      "Requirement already satisfied: scipy in /opt/conda/lib/python3.10/site-packages (from lightgbm->optuna-integration[lightgbm]) (1.14.1)\r\n",
      "Requirement already satisfied: alembic>=1.5.0 in /opt/conda/lib/python3.10/site-packages (from optuna->optuna-integration[lightgbm]) (1.13.3)\r\n",
      "Requirement already satisfied: colorlog in /opt/conda/lib/python3.10/site-packages (from optuna->optuna-integration[lightgbm]) (6.8.2)\r\n",
      "Requirement already satisfied: packaging>=20.0 in /opt/conda/lib/python3.10/site-packages (from optuna->optuna-integration[lightgbm]) (21.3)\r\n",
      "Requirement already satisfied: sqlalchemy>=1.3.0 in /opt/conda/lib/python3.10/site-packages (from optuna->optuna-integration[lightgbm]) (2.0.30)\r\n",
      "Requirement already satisfied: tqdm in /opt/conda/lib/python3.10/site-packages (from optuna->optuna-integration[lightgbm]) (4.66.4)\r\n",
      "Requirement already satisfied: PyYAML in /opt/conda/lib/python3.10/site-packages (from optuna->optuna-integration[lightgbm]) (6.0.2)\r\n",
      "Requirement already satisfied: joblib>=1.1.1 in /opt/conda/lib/python3.10/site-packages (from scikit-learn->optuna-integration[lightgbm]) (1.4.2)\r\n",
      "Requirement already satisfied: threadpoolctl>=2.0.0 in /opt/conda/lib/python3.10/site-packages (from scikit-learn->optuna-integration[lightgbm]) (3.5.0)\r\n",
      "Requirement already satisfied: Mako in /opt/conda/lib/python3.10/site-packages (from alembic>=1.5.0->optuna->optuna-integration[lightgbm]) (1.3.5)\r\n",
      "Requirement already satisfied: typing-extensions>=4 in /opt/conda/lib/python3.10/site-packages (from alembic>=1.5.0->optuna->optuna-integration[lightgbm]) (4.12.2)\r\n",
      "Requirement already satisfied: pyparsing!=3.0.5,>=2.0.2 in /opt/conda/lib/python3.10/site-packages (from packaging>=20.0->optuna->optuna-integration[lightgbm]) (3.1.2)\r\n",
      "Requirement already satisfied: greenlet!=0.4.17 in /opt/conda/lib/python3.10/site-packages (from sqlalchemy>=1.3.0->optuna->optuna-integration[lightgbm]) (3.0.3)\r\n",
      "Requirement already satisfied: MarkupSafe>=0.9.2 in /opt/conda/lib/python3.10/site-packages (from Mako->alembic>=1.5.0->optuna->optuna-integration[lightgbm]) (2.1.5)\r\n",
      "Downloading optuna_integration-4.1.0-py3-none-any.whl (97 kB)\r\n",
      "\u001b[2K   \u001b[90m━━━━━━━━━━━━━━━━━━━━━━━━━━━━━━━━━━━━━━━━\u001b[0m \u001b[32m97.4/97.4 kB\u001b[0m \u001b[31m2.4 MB/s\u001b[0m eta \u001b[36m0:00:00\u001b[0m\r\n",
      "\u001b[?25hInstalling collected packages: optuna-integration\r\n",
      "Successfully installed optuna-integration-4.1.0\r\n"
     ]
    }
   ],
   "source": [
    "!pip install optuna-integration[lightgbm]\n",
    "\n",
    "import numpy as np\n",
    "import pandas as pd\n",
    "import lightgbm as lgb\n",
    "import optuna\n",
    "import optuna.integration.lightgbm as lgbm\n",
    "from lightgbm import early_stopping,log_evaluation\n",
    "from sklearn.model_selection import KFold\n",
    "from sklearn.metrics import mean_squared_error\n",
    "\n",
    "train = pd.read_csv('/kaggle/input/playground-series-s4e12/train.csv',index_col = \"id\")\n",
    "test = pd.read_csv('/kaggle/input/playground-series-s4e12/test.csv',index_col = \"id\")\n",
    "sample_submission = pd.read_csv('/kaggle/input/playground-series-s4e12/sample_submission.csv',index_col = \"id\")\n",
    "\n",
    "train.columns = [col.replace(\" \", \"_\") for col in train.columns]\n",
    "test.columns = [col.replace(\" \", \"_\") for col in test.columns]\n",
    "\n",
    "def date_preprocessing(df, yearT = 360):\n",
    "    df = df.copy()\n",
    "    df[\"Policy_Start_Date\"] = pd.to_datetime(df[\"Policy_Start_Date\"])\n",
    "    days_in_month = df[\"Policy_Start_Date\"].dt.days_in_month\n",
    "    \n",
    "    df[\"Year\"] = df[\"Policy_Start_Date\"].dt.year\n",
    "    df[\"Month\"] = df[\"Policy_Start_Date\"].dt.month\n",
    "    df[\"Day\"] = df[\"Policy_Start_Date\"].dt.day\n",
    "    \n",
    "    df[\"Sin_Month\"] = np.sin(df[\"Month\"] * np.pi * 2 / 12)\n",
    "    df[\"Cos_Month\"] = np.cos(df[\"Month\"] * np.pi * 2 / 12)\n",
    "    \n",
    "\n",
    "    df[\"Day_of_Year\"] = df[\"Policy_Start_Date\"].dt.dayofyear\n",
    "    df[\"Sin_Year_Day\"] = np.sin(df[\"Day_of_Year\"] * np.pi * 2 / yearT)\n",
    "    df[\"Cos_Year_Day\"] = np.cos(df[\"Day_of_Year\"] * np.pi * 2 / yearT)\n",
    "    \n",
    "    df[\"Sin_Day\"] = np.sin(df[\"Day\"] * np.pi * 2 / days_in_month)\n",
    "    df[\"Cos_Day\"] = np.cos(df[\"Day\"] * np.pi * 2 / days_in_month)\n",
    "\n",
    "    df.drop(\"Policy_Start_Date\",axis = 1,inplace = True)\n",
    "\n",
    "    return df\n",
    "\n",
    "\n",
    "train = date_preprocessing(train)\n",
    "test = date_preprocessing(test)\n",
    "\n",
    "cat_features = [col for col in train.columns if train[col].dtype == 'object']\n",
    "\n",
    "for col in cat_features:\n",
    "    train[col] = train[col].fillna(\"None\").astype(\"category\")\n",
    "    test[col] = test[col].fillna(\"None\").astype(\"category\")"
   ]
  },
  {
   "cell_type": "code",
   "execution_count": 2,
   "id": "ad5bc024",
   "metadata": {
    "execution": {
     "iopub.execute_input": "2024-12-02T13:04:56.157299Z",
     "iopub.status.busy": "2024-12-02T13:04:56.156887Z",
     "iopub.status.idle": "2024-12-02T16:08:07.393805Z",
     "shell.execute_reply": "2024-12-02T16:08:07.392625Z"
    },
    "papermill": {
     "duration": 10991.25048,
     "end_time": "2024-12-02T16:08:07.403358",
     "exception": false,
     "start_time": "2024-12-02T13:04:56.152878",
     "status": "completed"
    },
    "tags": []
   },
   "outputs": [
    {
     "name": "stderr",
     "output_type": "stream",
     "text": [
      "[I 2024-12-02 13:04:56,167] A new study created in memory with name: no-name-bd9f3c9e-3e3b-4eda-9fe9-414f573f5a22\n"
     ]
    },
    {
     "name": "stdout",
     "output_type": "stream",
     "text": [
      "Training until validation scores don't improve for 50 rounds\n",
      "Did not meet early stopping. Best iteration is:\n",
      "[3000]\tTraining's rmse: 1.04883\tValidation's rmse: 1.05343\n",
      "Training until validation scores don't improve for 50 rounds\n",
      "Did not meet early stopping. Best iteration is:\n",
      "[3000]\tTraining's rmse: 1.04976\tValidation's rmse: 1.05079\n",
      "Training until validation scores don't improve for 50 rounds\n",
      "Did not meet early stopping. Best iteration is:\n",
      "[3000]\tTraining's rmse: 1.04974\tValidation's rmse: 1.0519\n"
     ]
    },
    {
     "name": "stderr",
     "output_type": "stream",
     "text": [
      "[I 2024-12-02 13:24:17,408] Trial 0 finished with value: 1.0520406411045409 and parameters: {'learning_rate': 0.000975650712612266, 'num_leaves': 115, 'max_depth': 7, 'min_data_in_leaf': 84, 'feature_fraction': 0.6560268657630726, 'lambda_l1': 0.001055515495359659, 'lambda_l2': 0.1398323136718019, 'min_gain_to_split': 0.562399352061678}. Best is trial 0 with value: 1.0520406411045409.\n"
     ]
    },
    {
     "name": "stdout",
     "output_type": "stream",
     "text": [
      "Training until validation scores don't improve for 50 rounds\n",
      "Did not meet early stopping. Best iteration is:\n",
      "[3000]\tTraining's rmse: 1.06529\tValidation's rmse: 1.06721\n",
      "Training until validation scores don't improve for 50 rounds\n",
      "Did not meet early stopping. Best iteration is:\n",
      "[3000]\tTraining's rmse: 1.06634\tValidation's rmse: 1.06451\n",
      "Training until validation scores don't improve for 50 rounds\n",
      "Did not meet early stopping. Best iteration is:\n",
      "[3000]\tTraining's rmse: 1.06606\tValidation's rmse: 1.06612\n"
     ]
    },
    {
     "name": "stderr",
     "output_type": "stream",
     "text": [
      "[I 2024-12-02 13:31:09,648] Trial 1 finished with value: 1.0659500472107395 and parameters: {'learning_rate': 0.0013552196200012042, 'num_leaves': 45, 'max_depth': 2, 'min_data_in_leaf': 35, 'feature_fraction': 0.6318921741523428, 'lambda_l1': 2.717712769107199e-06, 'lambda_l2': 0.01127212730807297, 'min_gain_to_split': 0.2453836544899739}. Best is trial 0 with value: 1.0520406411045409.\n"
     ]
    },
    {
     "name": "stdout",
     "output_type": "stream",
     "text": [
      "Training until validation scores don't improve for 50 rounds\n",
      "Did not meet early stopping. Best iteration is:\n",
      "[3000]\tTraining's rmse: 1.08008\tValidation's rmse: 1.08192\n",
      "Training until validation scores don't improve for 50 rounds\n",
      "Did not meet early stopping. Best iteration is:\n",
      "[3000]\tTraining's rmse: 1.0812\tValidation's rmse: 1.07919\n",
      "Training until validation scores don't improve for 50 rounds\n",
      "Did not meet early stopping. Best iteration is:\n",
      "[3000]\tTraining's rmse: 1.08069\tValidation's rmse: 1.08108\n"
     ]
    },
    {
     "name": "stderr",
     "output_type": "stream",
     "text": [
      "[I 2024-12-02 13:45:11,723] Trial 2 finished with value: 1.0807304079400497 and parameters: {'learning_rate': 0.0001147007291964683, 'num_leaves': 90, 'max_depth': 5, 'min_data_in_leaf': 73, 'feature_fraction': 0.7717417455800069, 'lambda_l1': 5.079849034864797e-06, 'lambda_l2': 5.67571996977698e-07, 'min_gain_to_split': 0.053787858662044497}. Best is trial 0 with value: 1.0520406411045409.\n"
     ]
    },
    {
     "name": "stdout",
     "output_type": "stream",
     "text": [
      "Training until validation scores don't improve for 50 rounds\n",
      "Did not meet early stopping. Best iteration is:\n",
      "[3000]\tTraining's rmse: 1.04242\tValidation's rmse: 1.04974\n",
      "Training until validation scores don't improve for 50 rounds\n",
      "Did not meet early stopping. Best iteration is:\n",
      "[2999]\tTraining's rmse: 1.04324\tValidation's rmse: 1.04718\n",
      "Training until validation scores don't improve for 50 rounds\n",
      "Did not meet early stopping. Best iteration is:\n",
      "[3000]\tTraining's rmse: 1.04333\tValidation's rmse: 1.04795\n"
     ]
    },
    {
     "name": "stderr",
     "output_type": "stream",
     "text": [
      "[I 2024-12-02 13:59:50,277] Trial 3 finished with value: 1.0482927301648095 and parameters: {'learning_rate': 0.003425396687646092, 'num_leaves': 52, 'max_depth': 18, 'min_data_in_leaf': 46, 'feature_fraction': 0.5046459144740114, 'lambda_l1': 0.018840684289445495, 'lambda_l2': 1.0490048012421692e-06, 'min_gain_to_split': 0.5697426063694268}. Best is trial 3 with value: 1.0482927301648095.\n"
     ]
    },
    {
     "name": "stdout",
     "output_type": "stream",
     "text": [
      "Training until validation scores don't improve for 50 rounds\n",
      "Did not meet early stopping. Best iteration is:\n",
      "[3000]\tTraining's rmse: 1.04975\tValidation's rmse: 1.0524\n",
      "Training until validation scores don't improve for 50 rounds\n",
      "Did not meet early stopping. Best iteration is:\n",
      "[3000]\tTraining's rmse: 1.05069\tValidation's rmse: 1.04942\n",
      "Training until validation scores don't improve for 50 rounds\n",
      "Did not meet early stopping. Best iteration is:\n",
      "[3000]\tTraining's rmse: 1.05078\tValidation's rmse: 1.05064\n"
     ]
    },
    {
     "name": "stderr",
     "output_type": "stream",
     "text": [
      "[I 2024-12-02 14:13:32,627] Trial 4 finished with value: 1.0508194157862911 and parameters: {'learning_rate': 0.0007197411185695668, 'num_leaves': 101, 'max_depth': 5, 'min_data_in_leaf': 38, 'feature_fraction': 0.9723703684118694, 'lambda_l1': 0.004169330644532124, 'lambda_l2': 4.985596820004779e-08, 'min_gain_to_split': 0.6208492023857983}. Best is trial 3 with value: 1.0482927301648095.\n"
     ]
    },
    {
     "name": "stdout",
     "output_type": "stream",
     "text": [
      "Training until validation scores don't improve for 50 rounds\n",
      "Did not meet early stopping. Best iteration is:\n",
      "[3000]\tTraining's rmse: 1.04233\tValidation's rmse: 1.04758\n",
      "Training until validation scores don't improve for 50 rounds\n",
      "Did not meet early stopping. Best iteration is:\n",
      "[2998]\tTraining's rmse: 1.04315\tValidation's rmse: 1.04491\n",
      "Training until validation scores don't improve for 50 rounds\n",
      "Did not meet early stopping. Best iteration is:\n",
      "[2999]\tTraining's rmse: 1.04326\tValidation's rmse: 1.04561\n"
     ]
    },
    {
     "name": "stderr",
     "output_type": "stream",
     "text": [
      "[I 2024-12-02 14:29:18,055] Trial 5 finished with value: 1.046030621678699 and parameters: {'learning_rate': 0.0016122415986355863, 'num_leaves': 51, 'max_depth': 13, 'min_data_in_leaf': 50, 'feature_fraction': 0.9102663606182569, 'lambda_l1': 0.3431540884629721, 'lambda_l2': 0.0009095518208902767, 'min_gain_to_split': 0.46853279746593046}. Best is trial 5 with value: 1.046030621678699.\n"
     ]
    },
    {
     "name": "stdout",
     "output_type": "stream",
     "text": [
      "Training until validation scores don't improve for 50 rounds\n",
      "Early stopping, best iteration is:\n",
      "[567]\tTraining's rmse: 1.03739\tValidation's rmse: 1.04766\n",
      "Training until validation scores don't improve for 50 rounds\n",
      "Early stopping, best iteration is:\n",
      "[558]\tTraining's rmse: 1.03823\tValidation's rmse: 1.04505\n",
      "Training until validation scores don't improve for 50 rounds\n",
      "Early stopping, best iteration is:\n",
      "[656]\tTraining's rmse: 1.03714\tValidation's rmse: 1.04565\n"
     ]
    },
    {
     "name": "stderr",
     "output_type": "stream",
     "text": [
      "[I 2024-12-02 14:33:11,464] Trial 6 finished with value: 1.0461180564004977 and parameters: {'learning_rate': 0.012815451869924515, 'num_leaves': 90, 'max_depth': 17, 'min_data_in_leaf': 74, 'feature_fraction': 0.7759741091446384, 'lambda_l1': 6.656541726017007e-08, 'lambda_l2': 2.2048646173173525, 'min_gain_to_split': 0.5744549637007111}. Best is trial 5 with value: 1.046030621678699.\n"
     ]
    },
    {
     "name": "stdout",
     "output_type": "stream",
     "text": [
      "Training until validation scores don't improve for 50 rounds\n",
      "Early stopping, best iteration is:\n",
      "[1130]\tTraining's rmse: 1.03694\tValidation's rmse: 1.04877\n",
      "Training until validation scores don't improve for 50 rounds\n",
      "Early stopping, best iteration is:\n",
      "[1128]\tTraining's rmse: 1.03801\tValidation's rmse: 1.04613\n",
      "Training until validation scores don't improve for 50 rounds\n",
      "Early stopping, best iteration is:\n",
      "[1142]\tTraining's rmse: 1.0379\tValidation's rmse: 1.04686\n"
     ]
    },
    {
     "name": "stderr",
     "output_type": "stream",
     "text": [
      "[I 2024-12-02 14:40:24,027] Trial 7 finished with value: 1.04725407717294 and parameters: {'learning_rate': 0.012186685764281148, 'num_leaves': 95, 'max_depth': 7, 'min_data_in_leaf': 93, 'feature_fraction': 0.582564274023877, 'lambda_l1': 0.003242728668476384, 'lambda_l2': 0.38560627548670257, 'min_gain_to_split': 0.29374352669617265}. Best is trial 5 with value: 1.046030621678699.\n"
     ]
    },
    {
     "name": "stdout",
     "output_type": "stream",
     "text": [
      "Training until validation scores don't improve for 50 rounds\n",
      "Did not meet early stopping. Best iteration is:\n",
      "[3000]\tTraining's rmse: 1.04317\tValidation's rmse: 1.04824\n",
      "Training until validation scores don't improve for 50 rounds\n",
      "Did not meet early stopping. Best iteration is:\n",
      "[3000]\tTraining's rmse: 1.04397\tValidation's rmse: 1.0456\n",
      "Training until validation scores don't improve for 50 rounds\n",
      "Did not meet early stopping. Best iteration is:\n",
      "[3000]\tTraining's rmse: 1.04411\tValidation's rmse: 1.0464\n"
     ]
    },
    {
     "name": "stderr",
     "output_type": "stream",
     "text": [
      "[I 2024-12-02 14:59:07,799] Trial 8 finished with value: 1.0467475207868482 and parameters: {'learning_rate': 0.000997883791851457, 'num_leaves': 75, 'max_depth': 16, 'min_data_in_leaf': 99, 'feature_fraction': 0.8711985371518296, 'lambda_l1': 1.1984810163997405e-06, 'lambda_l2': 4.9638256634862966e-08, 'min_gain_to_split': 0.07728312036446072}. Best is trial 5 with value: 1.046030621678699.\n"
     ]
    },
    {
     "name": "stdout",
     "output_type": "stream",
     "text": [
      "Training until validation scores don't improve for 50 rounds\n",
      "Did not meet early stopping. Best iteration is:\n",
      "[3000]\tTraining's rmse: 1.0622\tValidation's rmse: 1.06425\n",
      "Training until validation scores don't improve for 50 rounds\n",
      "Did not meet early stopping. Best iteration is:\n",
      "[3000]\tTraining's rmse: 1.06318\tValidation's rmse: 1.06147\n",
      "Training until validation scores don't improve for 50 rounds\n",
      "Did not meet early stopping. Best iteration is:\n",
      "[3000]\tTraining's rmse: 1.06305\tValidation's rmse: 1.063\n"
     ]
    },
    {
     "name": "stderr",
     "output_type": "stream",
     "text": [
      "[I 2024-12-02 15:07:55,720] Trial 9 finished with value: 1.0629072005846696 and parameters: {'learning_rate': 0.0009416832201990159, 'num_leaves': 146, 'max_depth': 3, 'min_data_in_leaf': 64, 'feature_fraction': 0.5701671304975583, 'lambda_l1': 0.3730131710181061, 'lambda_l2': 0.00012018582407097452, 'min_gain_to_split': 0.3616151267088912}. Best is trial 5 with value: 1.046030621678699.\n"
     ]
    },
    {
     "name": "stdout",
     "output_type": "stream",
     "text": [
      "Training until validation scores don't improve for 50 rounds\n",
      "Early stopping, best iteration is:\n",
      "[289]\tTraining's rmse: 1.0425\tValidation's rmse: 1.04765\n",
      "Training until validation scores don't improve for 50 rounds\n",
      "Early stopping, best iteration is:\n",
      "[356]\tTraining's rmse: 1.04256\tValidation's rmse: 1.04502\n",
      "Training until validation scores don't improve for 50 rounds\n",
      "Early stopping, best iteration is:\n",
      "[346]\tTraining's rmse: 1.04276\tValidation's rmse: 1.04561\n"
     ]
    },
    {
     "name": "stderr",
     "output_type": "stream",
     "text": [
      "[I 2024-12-02 15:09:23,421] Trial 10 finished with value: 1.0460934618851663 and parameters: {'learning_rate': 0.03542657145132098, 'num_leaves': 26, 'max_depth': 12, 'min_data_in_leaf': 15, 'feature_fraction': 0.9800408004035949, 'lambda_l1': 0.4458660608216733, 'lambda_l2': 0.0002755840317661732, 'min_gain_to_split': 0.9591796645282334}. Best is trial 5 with value: 1.046030621678699.\n"
     ]
    },
    {
     "name": "stdout",
     "output_type": "stream",
     "text": [
      "Training until validation scores don't improve for 50 rounds\n",
      "Early stopping, best iteration is:\n",
      "[90]\tTraining's rmse: 1.04422\tValidation's rmse: 1.04798\n",
      "Training until validation scores don't improve for 50 rounds\n",
      "Early stopping, best iteration is:\n",
      "[84]\tTraining's rmse: 1.04513\tValidation's rmse: 1.0453\n",
      "Training until validation scores don't improve for 50 rounds\n",
      "Early stopping, best iteration is:\n",
      "[155]\tTraining's rmse: 1.04382\tValidation's rmse: 1.04589\n"
     ]
    },
    {
     "name": "stderr",
     "output_type": "stream",
     "text": [
      "[I 2024-12-02 15:10:00,944] Trial 11 finished with value: 1.0463916199238248 and parameters: {'learning_rate': 0.09691277751855445, 'num_leaves': 20, 'max_depth': 12, 'min_data_in_leaf': 11, 'feature_fraction': 0.9740316099409866, 'lambda_l1': 9.488809070242187, 'lambda_l2': 0.00026096131684290324, 'min_gain_to_split': 0.9981127666069013}. Best is trial 5 with value: 1.046030621678699.\n"
     ]
    },
    {
     "name": "stdout",
     "output_type": "stream",
     "text": [
      "Training until validation scores don't improve for 50 rounds\n",
      "Early stopping, best iteration is:\n",
      "[493]\tTraining's rmse: 1.04228\tValidation's rmse: 1.04795\n",
      "Training until validation scores don't improve for 50 rounds\n",
      "Early stopping, best iteration is:\n",
      "[348]\tTraining's rmse: 1.04422\tValidation's rmse: 1.04532\n",
      "Training until validation scores don't improve for 50 rounds\n",
      "Early stopping, best iteration is:\n",
      "[499]\tTraining's rmse: 1.04307\tValidation's rmse: 1.04593\n"
     ]
    },
    {
     "name": "stderr",
     "output_type": "stream",
     "text": [
      "[I 2024-12-02 15:11:45,369] Trial 12 finished with value: 1.046403159309197 and parameters: {'learning_rate': 0.03288321603952487, 'num_leaves': 20, 'max_depth': 12, 'min_data_in_leaf': 10, 'feature_fraction': 0.8786580910072568, 'lambda_l1': 0.4154610302843644, 'lambda_l2': 0.007992024457787272, 'min_gain_to_split': 0.8210727200847164}. Best is trial 5 with value: 1.046030621678699.\n"
     ]
    },
    {
     "name": "stdout",
     "output_type": "stream",
     "text": [
      "Training until validation scores don't improve for 50 rounds\n",
      "Early stopping, best iteration is:\n",
      "[1210]\tTraining's rmse: 1.04036\tValidation's rmse: 1.04749\n",
      "Training until validation scores don't improve for 50 rounds\n",
      "Early stopping, best iteration is:\n",
      "[1317]\tTraining's rmse: 1.04072\tValidation's rmse: 1.04482\n",
      "Training until validation scores don't improve for 50 rounds\n",
      "Early stopping, best iteration is:\n",
      "[1351]\tTraining's rmse: 1.0407\tValidation's rmse: 1.04541\n"
     ]
    },
    {
     "name": "stderr",
     "output_type": "stream",
     "text": [
      "[I 2024-12-02 15:18:23,668] Trial 13 finished with value: 1.0459058765680267 and parameters: {'learning_rate': 0.0074316004574371255, 'num_leaves': 48, 'max_depth': 13, 'min_data_in_leaf': 25, 'feature_fraction': 0.8859387413757838, 'lambda_l1': 7.427838968787608, 'lambda_l2': 2.9930367783188713e-05, 'min_gain_to_split': 0.7980368381910301}. Best is trial 13 with value: 1.0459058765680267.\n"
     ]
    },
    {
     "name": "stdout",
     "output_type": "stream",
     "text": [
      "Training until validation scores don't improve for 50 rounds\n",
      "Early stopping, best iteration is:\n",
      "[2100]\tTraining's rmse: 1.03969\tValidation's rmse: 1.04757\n",
      "Training until validation scores don't improve for 50 rounds\n",
      "Early stopping, best iteration is:\n",
      "[1857]\tTraining's rmse: 1.04108\tValidation's rmse: 1.04494\n",
      "Training until validation scores don't improve for 50 rounds\n",
      "Early stopping, best iteration is:\n",
      "[2156]\tTraining's rmse: 1.04044\tValidation's rmse: 1.04559\n"
     ]
    },
    {
     "name": "stderr",
     "output_type": "stream",
     "text": [
      "[I 2024-12-02 15:29:28,121] Trial 14 finished with value: 1.0460332388755076 and parameters: {'learning_rate': 0.003979697120474634, 'num_leaves': 59, 'max_depth': -1, 'min_data_in_leaf': 29, 'feature_fraction': 0.8377042010683275, 'lambda_l1': 8.190396291658363, 'lambda_l2': 1.0495644745540572e-05, 'min_gain_to_split': 0.7488356050493857}. Best is trial 13 with value: 1.0459058765680267.\n"
     ]
    },
    {
     "name": "stdout",
     "output_type": "stream",
     "text": [
      "Training until validation scores don't improve for 50 rounds\n",
      "Did not meet early stopping. Best iteration is:\n",
      "[3000]\tTraining's rmse: 1.08475\tValidation's rmse: 1.08676\n",
      "Training until validation scores don't improve for 50 rounds\n",
      "Did not meet early stopping. Best iteration is:\n",
      "[3000]\tTraining's rmse: 1.08592\tValidation's rmse: 1.08418\n",
      "Training until validation scores don't improve for 50 rounds\n",
      "Did not meet early stopping. Best iteration is:\n",
      "[3000]\tTraining's rmse: 1.08521\tValidation's rmse: 1.08595\n"
     ]
    },
    {
     "name": "stderr",
     "output_type": "stream",
     "text": [
      "[I 2024-12-02 15:48:23,523] Trial 15 finished with value: 1.0856280198413228 and parameters: {'learning_rate': 0.00018620952040628407, 'num_leaves': 63, 'max_depth': 20, 'min_data_in_leaf': 53, 'feature_fraction': 0.41315296956757797, 'lambda_l1': 0.0482166942976701, 'lambda_l2': 1.667737129938963e-05, 'min_gain_to_split': 0.4130842640870702}. Best is trial 13 with value: 1.0459058765680267.\n"
     ]
    },
    {
     "name": "stdout",
     "output_type": "stream",
     "text": [
      "Training until validation scores don't improve for 50 rounds\n",
      "Early stopping, best iteration is:\n",
      "[1405]\tTraining's rmse: 1.04063\tValidation's rmse: 1.04787\n",
      "Training until validation scores don't improve for 50 rounds\n",
      "Early stopping, best iteration is:\n",
      "[1173]\tTraining's rmse: 1.04229\tValidation's rmse: 1.04524\n",
      "Training until validation scores don't improve for 50 rounds\n",
      "Early stopping, best iteration is:\n",
      "[1257]\tTraining's rmse: 1.04208\tValidation's rmse: 1.04589\n"
     ]
    },
    {
     "name": "stderr",
     "output_type": "stream",
     "text": [
      "[I 2024-12-02 15:53:55,680] Trial 16 finished with value: 1.0463342177153396 and parameters: {'learning_rate': 0.007848805418326386, 'num_leaves': 40, 'max_depth': 14, 'min_data_in_leaf': 26, 'feature_fraction': 0.7661082183511994, 'lambda_l1': 7.05505307355849e-05, 'lambda_l2': 0.003963981978794984, 'min_gain_to_split': 0.7448560908725992}. Best is trial 13 with value: 1.0459058765680267.\n"
     ]
    },
    {
     "name": "stdout",
     "output_type": "stream",
     "text": [
      "Training until validation scores don't improve for 50 rounds\n",
      "Did not meet early stopping. Best iteration is:\n",
      "[3000]\tTraining's rmse: 1.04291\tValidation's rmse: 1.04765\n",
      "Training until validation scores don't improve for 50 rounds\n",
      "Did not meet early stopping. Best iteration is:\n",
      "[3000]\tTraining's rmse: 1.04377\tValidation's rmse: 1.04496\n",
      "Training until validation scores don't improve for 50 rounds\n",
      "Did not meet early stopping. Best iteration is:\n",
      "[3000]\tTraining's rmse: 1.04386\tValidation's rmse: 1.0456\n"
     ]
    },
    {
     "name": "stderr",
     "output_type": "stream",
     "text": [
      "[I 2024-12-02 16:08:07,385] Trial 17 finished with value: 1.0460696356037935 and parameters: {'learning_rate': 0.002139725571524349, 'num_leaves': 37, 'max_depth': 9, 'min_data_in_leaf': 48, 'feature_fraction': 0.9048540411600601, 'lambda_l1': 1.6999343673904734, 'lambda_l2': 2.618744607760069e-05, 'min_gain_to_split': 0.8601458666753529}. Best is trial 13 with value: 1.0459058765680267.\n"
     ]
    },
    {
     "name": "stdout",
     "output_type": "stream",
     "text": [
      "{'learning_rate': 0.0074316004574371255, 'num_leaves': 48, 'max_depth': 13, 'min_data_in_leaf': 25, 'feature_fraction': 0.8859387413757838, 'lambda_l1': 7.427838968787608, 'lambda_l2': 2.9930367783188713e-05, 'min_gain_to_split': 0.7980368381910301}\n"
     ]
    }
   ],
   "source": [
    "\n",
    "def objective(trial):\n",
    "    goss_params = {\n",
    "                'random_state': 42,\n",
    "                'objective': 'regression',\n",
    "                'metric': 'rmse',\n",
    "                'boosting_type': 'goss',\n",
    "                'verbosity': -1,\n",
    "                \"verbose_eval\": -1,\n",
    "                'enable_categorical': True, \n",
    "                 \"learning_rate\": trial.suggest_float(\"learning_rate\", 1e-4, 0.1, log=True),\n",
    "                \"num_leaves\": trial.suggest_int(\"num_leaves\", 20, 150),\n",
    "                \"max_depth\": trial.suggest_int(\"max_depth\", -1, 20), \n",
    "                \"min_data_in_leaf\": trial.suggest_int(\"min_data_in_leaf\", 10, 100),\n",
    "                \"feature_fraction\": trial.suggest_float(\"feature_fraction\", 0.4, 1.0),\n",
    "                \"lambda_l1\": trial.suggest_float(\"lambda_l1\", 1e-8, 10.0, log=True),\n",
    "                \"lambda_l2\": trial.suggest_float(\"lambda_l2\", 1e-8, 10.0, log=True),\n",
    "                \"min_gain_to_split\": trial.suggest_float(\"min_gain_to_split\", 0.0, 1.0)}\n",
    "\n",
    "    X,y = train.drop(\"Premium_Amount\",axis = 1).copy(),train[\"Premium_Amount\"].copy()\n",
    "    kf = KFold(n_splits = 3,random_state = 42,shuffle = True)\n",
    "    lgb_train_scores = []\n",
    "    for fold, (train_idx, val_idx) in enumerate(kf.split(X, y)):\n",
    "        y_log = np.log1p(y)\n",
    "        X_train, X_valid = X.iloc[train_idx], X.iloc[val_idx]\n",
    "        y_train, y_valid = y_log.iloc[train_idx], y_log.iloc[val_idx]\n",
    "    \n",
    "    \n",
    "        lgb_train = lgb.Dataset(X_train, y_train, categorical_feature=cat_features)\n",
    "        lgb_valid = lgb.Dataset(X_valid, y_valid, categorical_feature=cat_features, reference=lgb_train)\n",
    "\n",
    "        model = lgb.train(\n",
    "            goss_params,\n",
    "            lgb_train,\n",
    "            valid_sets=[lgb_train,lgb_valid],\n",
    "            valid_names=[\"Training\",\"Validation\"],\n",
    "            num_boost_round = 3000,\n",
    "            callbacks=[lgb.early_stopping(stopping_rounds=50)])\n",
    "         \n",
    "        y_pred = model.predict(X_valid, num_iteration=model.best_iteration)\n",
    "    \n",
    "        y_pred = np.maximum(0,y_pred)\n",
    "        y_valid = np.maximum(0,y_valid)\n",
    "        \n",
    "        rmsle = mean_squared_error(y_valid, y_pred,squared=False)\n",
    "        lgb_train_scores.append(rmsle)\n",
    "\n",
    "    return np.mean(lgb_train_scores)\n",
    "\n",
    "study = optuna.create_study(sampler = optuna.samplers.TPESampler(),direction = \"minimize\")\n",
    "study.optimize(objective,timeout = 3600 * 3)\n",
    "print(study.best_params)"
   ]
  },
  {
   "cell_type": "code",
   "execution_count": null,
   "id": "7c7404b4",
   "metadata": {
    "papermill": {
     "duration": 0.008692,
     "end_time": "2024-12-02T16:08:07.420973",
     "exception": false,
     "start_time": "2024-12-02T16:08:07.412281",
     "status": "completed"
    },
    "tags": []
   },
   "outputs": [],
   "source": []
  }
 ],
 "metadata": {
  "kaggle": {
   "accelerator": "none",
   "dataSources": [
    {
     "databundleVersionId": 10305135,
     "sourceId": 84896,
     "sourceType": "competition"
    }
   ],
   "dockerImageVersionId": 30786,
   "isGpuEnabled": false,
   "isInternetEnabled": true,
   "language": "python",
   "sourceType": "notebook"
  },
  "kernelspec": {
   "display_name": "Python 3",
   "language": "python",
   "name": "python3"
  },
  "language_info": {
   "codemirror_mode": {
    "name": "ipython",
    "version": 3
   },
   "file_extension": ".py",
   "mimetype": "text/x-python",
   "name": "python",
   "nbconvert_exporter": "python",
   "pygments_lexer": "ipython3",
   "version": "3.10.14"
  },
  "papermill": {
   "default_parameters": {},
   "duration": 11026.747778,
   "end_time": "2024-12-02T16:08:08.353841",
   "environment_variables": {},
   "exception": null,
   "input_path": "__notebook__.ipynb",
   "output_path": "__notebook__.ipynb",
   "parameters": {},
   "start_time": "2024-12-02T13:04:21.606063",
   "version": "2.6.0"
  }
 },
 "nbformat": 4,
 "nbformat_minor": 5
}
