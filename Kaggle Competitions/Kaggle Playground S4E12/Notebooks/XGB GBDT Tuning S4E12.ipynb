{
 "cells": [
  {
   "cell_type": "code",
   "execution_count": 1,
   "id": "70c3bbe5",
   "metadata": {
    "_cell_guid": "b1076dfc-b9ad-4769-8c92-a6c4dae69d19",
    "_uuid": "8f2839f25d086af736a60e9eeb907d3b93b6e0e5",
    "execution": {
     "iopub.execute_input": "2024-12-02T14:34:03.539496Z",
     "iopub.status.busy": "2024-12-02T14:34:03.539108Z",
     "iopub.status.idle": "2024-12-02T14:34:06.129656Z",
     "shell.execute_reply": "2024-12-02T14:34:06.128527Z"
    },
    "papermill": {
     "duration": 2.596876,
     "end_time": "2024-12-02T14:34:06.132215",
     "exception": false,
     "start_time": "2024-12-02T14:34:03.535339",
     "status": "completed"
    },
    "tags": []
   },
   "outputs": [],
   "source": [
    "import numpy as np\n",
    "import pandas as pd\n",
    "import xgboost as xgb\n",
    "from sklearn.model_selection import KFold\n",
    "from sklearn.metrics import mean_squared_error\n",
    "import optuna"
   ]
  },
  {
   "cell_type": "code",
   "execution_count": 2,
   "id": "c580f0b5",
   "metadata": {
    "execution": {
     "iopub.execute_input": "2024-12-02T14:34:06.138876Z",
     "iopub.status.busy": "2024-12-02T14:34:06.137673Z",
     "iopub.status.idle": "2024-12-02T14:34:21.178536Z",
     "shell.execute_reply": "2024-12-02T14:34:21.177334Z"
    },
    "papermill": {
     "duration": 15.046471,
     "end_time": "2024-12-02T14:34:21.180897",
     "exception": false,
     "start_time": "2024-12-02T14:34:06.134426",
     "status": "completed"
    },
    "tags": []
   },
   "outputs": [],
   "source": [
    "train = pd.read_csv('/kaggle/input/playground-series-s4e12/train.csv',index_col = \"id\")\n",
    "test = pd.read_csv('/kaggle/input/playground-series-s4e12/test.csv',index_col = \"id\")\n",
    "sample_submission = pd.read_csv('/kaggle/input/playground-series-s4e12/sample_submission.csv',index_col = \"id\").iloc[:1000]\n",
    "\n",
    "train.columns = [col.replace(\" \", \"_\") for col in train.columns]\n",
    "test.columns = [col.replace(\" \", \"_\") for col in test.columns]\n",
    "\n",
    "def date_preprocessing(df, yearT = 360):\n",
    "    df = df.copy()\n",
    "    df[\"Policy_Start_Date\"] = pd.to_datetime(df[\"Policy_Start_Date\"])\n",
    "    days_in_month = df[\"Policy_Start_Date\"].dt.days_in_month\n",
    "    \n",
    "    df[\"Year\"] = df[\"Policy_Start_Date\"].dt.year\n",
    "    df[\"Month\"] = df[\"Policy_Start_Date\"].dt.month\n",
    "    df[\"Day\"] = df[\"Policy_Start_Date\"].dt.day\n",
    "    \n",
    "    df[\"Sin_Month\"] = np.sin(df[\"Month\"] * np.pi * 2 / 12)\n",
    "    df[\"Cos_Month\"] = np.cos(df[\"Month\"] * np.pi * 2 / 12)\n",
    "    \n",
    "\n",
    "    df[\"Day_of_Year\"] = df[\"Policy_Start_Date\"].dt.dayofyear\n",
    "    df[\"Sin_Year_Day\"] = np.sin(df[\"Day_of_Year\"] * np.pi * 2 / yearT)\n",
    "    df[\"Cos_Year_Day\"] = np.cos(df[\"Day_of_Year\"] * np.pi * 2 / yearT)\n",
    "    \n",
    "    df[\"Sin_Day\"] = np.sin(df[\"Day\"] * np.pi * 2 / days_in_month)\n",
    "    df[\"Cos_Day\"] = np.cos(df[\"Day\"] * np.pi * 2 / days_in_month)\n",
    "\n",
    "    df.drop(\"Policy_Start_Date\",axis = 1,inplace = True)\n",
    "\n",
    "    return df\n",
    "\n",
    "\n",
    "train = date_preprocessing(train)\n",
    "test = date_preprocessing(test)\n",
    "\n",
    "cat_features = [col for col in train.columns if train[col].dtype == 'object']\n",
    "\n",
    "for col in cat_features:\n",
    "    train[col] = train[col].fillna(\"None\").astype(\"category\")\n",
    "    test[col] = test[col].fillna(\"None\").astype(\"category\")"
   ]
  },
  {
   "cell_type": "code",
   "execution_count": 3,
   "id": "113e9087",
   "metadata": {
    "execution": {
     "iopub.execute_input": "2024-12-02T14:34:21.186268Z",
     "iopub.status.busy": "2024-12-02T14:34:21.185890Z",
     "iopub.status.idle": "2024-12-02T17:40:49.468717Z",
     "shell.execute_reply": "2024-12-02T17:40:49.466701Z"
    },
    "papermill": {
     "duration": 11188.290049,
     "end_time": "2024-12-02T17:40:49.472936",
     "exception": false,
     "start_time": "2024-12-02T14:34:21.182887",
     "status": "completed"
    },
    "tags": []
   },
   "outputs": [
    {
     "name": "stderr",
     "output_type": "stream",
     "text": [
      "[I 2024-12-02 14:34:21,264] A new study created in memory with name: no-name-ccd843a5-9360-4929-bf12-4dc10d8c3645\n",
      "[I 2024-12-02 15:05:47,490] Trial 0 finished with value: 1.0474665543902593 and parameters: {'learning_rate': 0.005186447414713202, 'max_depth': 11, 'min_child_weight': 0.3594033461623969, 'gamma': 0.20057682792761367, 'subsample': 0.5859619765729993, 'colsample_bytree': 0.6244270994263428, 'reg_alpha': 0.005264193725502624, 'reg_lambda': 0.020627177088206744}. Best is trial 0 with value: 1.0474665543902593.\n",
      "[I 2024-12-02 15:13:09,999] Trial 1 finished with value: 1.0480629278876166 and parameters: {'learning_rate': 0.0304296085105073, 'max_depth': 4, 'min_child_weight': 0.2940394479748326, 'gamma': 0.6664161460255262, 'subsample': 0.5809026494818321, 'colsample_bytree': 0.938211817842243, 'reg_alpha': 0.00045435432412761236, 'reg_lambda': 0.0012505635415755749}. Best is trial 0 with value: 1.0474665543902593.\n",
      "[I 2024-12-02 15:36:43,002] Trial 2 finished with value: 1.0474856803381971 and parameters: {'learning_rate': 0.0051804079344633745, 'max_depth': 11, 'min_child_weight': 0.05158732021562345, 'gamma': 5.61812658417112, 'subsample': 0.7259736306086775, 'colsample_bytree': 0.521006960004076, 'reg_alpha': 0.0071369832121359516, 'reg_lambda': 0.052089369509161355}. Best is trial 0 with value: 1.0474665543902593.\n",
      "[I 2024-12-02 15:38:29,896] Trial 3 finished with value: 1.0475463920084822 and parameters: {'learning_rate': 0.07347168265954539, 'max_depth': 5, 'min_child_weight': 0.10423738766443667, 'gamma': 6.579367907385289, 'subsample': 0.8623645177054026, 'colsample_bytree': 0.6868667838309508, 'reg_alpha': 0.003842349746347937, 'reg_lambda': 0.0018116207812072563}. Best is trial 0 with value: 1.0474665543902593.\n",
      "[I 2024-12-02 16:53:12,746] Trial 4 finished with value: 1.055728551221032 and parameters: {'learning_rate': 0.0008088131002092085, 'max_depth': 13, 'min_child_weight': 0.008663224653390776, 'gamma': 0.8241000821850629, 'subsample': 0.85535077394571, 'colsample_bytree': 0.6350576297670573, 'reg_alpha': 0.0012591174533505452, 'reg_lambda': 0.0052047316948620565}. Best is trial 0 with value: 1.0474665543902593.\n",
      "[I 2024-12-02 16:57:04,233] Trial 5 finished with value: 1.046269915123041 and parameters: {'learning_rate': 0.02171923819904943, 'max_depth': 9, 'min_child_weight': 0.0316557821270838, 'gamma': 1.4120959725363444, 'subsample': 0.6903485027200728, 'colsample_bytree': 0.8136345780495537, 'reg_alpha': 0.00015390129213025162, 'reg_lambda': 0.0014684563381986906}. Best is trial 5 with value: 1.046269915123041.\n",
      "[I 2024-12-02 17:40:49,456] Trial 6 finished with value: 1.060575039696294 and parameters: {'learning_rate': 0.00022102110377355375, 'max_depth': 10, 'min_child_weight': 1.2014528235814224, 'gamma': 1.635634240167836, 'subsample': 0.6565988597465199, 'colsample_bytree': 0.9935068740884829, 'reg_alpha': 0.017463547859948577, 'reg_lambda': 0.0023604037477259316}. Best is trial 5 with value: 1.046269915123041.\n"
     ]
    },
    {
     "name": "stdout",
     "output_type": "stream",
     "text": [
      "Best Parameters: {'learning_rate': 0.02171923819904943, 'max_depth': 9, 'min_child_weight': 0.0316557821270838, 'gamma': 1.4120959725363444, 'subsample': 0.6903485027200728, 'colsample_bytree': 0.8136345780495537, 'reg_alpha': 0.00015390129213025162, 'reg_lambda': 0.0014684563381986906}\n",
      "Best RMSLE: 1.046269915123041\n"
     ]
    }
   ],
   "source": [
    "X, y = train.drop(\"Premium_Amount\", axis=1), train[\"Premium_Amount\"]\n",
    "kf = KFold(n_splits=3, random_state=42, shuffle=True)\n",
    "\n",
    "\n",
    "def objective(trial):\n",
    "    \n",
    "    xgb_params = {\n",
    "        'booster': \"gbtree\",\n",
    "        'verbosity': 0,\n",
    "        'tree_method': \"hist\",\n",
    "        'objective': 'reg:squarederror',\n",
    "        'eval_metric': \"rmse\",\n",
    "        'seed': 42,\n",
    "        'enable_categorical': True,\n",
    "        \"learning_rate\": trial.suggest_float(\"learning_rate\", 1e-4, 0.1, log=True),\n",
    "        \"max_depth\": trial.suggest_int(\"max_depth\", 3, 15),\n",
    "        \"min_child_weight\": trial.suggest_float(\"min_child_weight\", 1e-3, 10, log=True),\n",
    "        \"gamma\": trial.suggest_float(\"gamma\", 1e-3, 10, log=True),\n",
    "        \"subsample\": trial.suggest_float(\"subsample\", 0.5, 1.0),\n",
    "        \"colsample_bytree\": trial.suggest_float(\"colsample_bytree\", 0.4, 1.0),\n",
    "        \"reg_alpha\": trial.suggest_float(\"reg_alpha\", 1e-4, 1e-1, log=True),\n",
    "        \"reg_lambda\": trial.suggest_float(\"reg_lambda\", 1e-4, 1e-1, log=True),\n",
    "    }\n",
    "\n",
    "    xgb_train_scores = []\n",
    "    for fold, (train_idx, val_idx) in enumerate(kf.split(X, y)):\n",
    "        y_log = np.log1p(y)\n",
    "        X_train, X_valid = X.iloc[train_idx], X.iloc[val_idx]\n",
    "        y_train, y_valid = y_log.iloc[train_idx], y_log.iloc[val_idx]\n",
    "\n",
    "        xgb_train = xgb.DMatrix(X_train, y_train, enable_categorical=True)\n",
    "        xgb_valid = xgb.DMatrix(X_valid, y_valid, enable_categorical=True)\n",
    "\n",
    "        model = xgb.train(\n",
    "            xgb_params,\n",
    "            xgb_train,\n",
    "            evals=[(xgb_train, \"train\"), (xgb_valid, \"valid\")],\n",
    "            verbose_eval=False,\n",
    "            early_stopping_rounds=50,\n",
    "            num_boost_round = 3000\n",
    "        )\n",
    "\n",
    "        y_pred = model.predict(xgb.DMatrix(X_valid, enable_categorical=True),\n",
    "                               iteration_range=(0, model.best_iteration + 1))\n",
    "        y_pred = np.maximum(0, y_pred)\n",
    "        y_valid = np.maximum(0, y_valid)\n",
    "\n",
    "        rmsle = mean_squared_error(y_valid, y_pred, squared=False)\n",
    "        xgb_train_scores.append(rmsle)\n",
    "\n",
    "    return np.mean(xgb_train_scores)\n",
    "\n",
    "study = optuna.create_study(direction=\"minimize\", sampler=optuna.samplers.TPESampler())\n",
    "study.optimize(objective, timeout = 3600 * 3)\n",
    "\n",
    "\n",
    "print(\"Best Parameters:\", study.best_params)\n",
    "print(\"Best RMSLE:\", study.best_value)"
   ]
  },
  {
   "cell_type": "code",
   "execution_count": null,
   "id": "7be1d856",
   "metadata": {
    "papermill": {
     "duration": 0.003037,
     "end_time": "2024-12-02T17:40:49.479148",
     "exception": false,
     "start_time": "2024-12-02T17:40:49.476111",
     "status": "completed"
    },
    "tags": []
   },
   "outputs": [],
   "source": []
  }
 ],
 "metadata": {
  "kaggle": {
   "accelerator": "none",
   "dataSources": [
    {
     "databundleVersionId": 10305135,
     "sourceId": 84896,
     "sourceType": "competition"
    }
   ],
   "dockerImageVersionId": 30786,
   "isGpuEnabled": false,
   "isInternetEnabled": true,
   "language": "python",
   "sourceType": "notebook"
  },
  "kernelspec": {
   "display_name": "Python 3",
   "language": "python",
   "name": "python3"
  },
  "language_info": {
   "codemirror_mode": {
    "name": "ipython",
    "version": 3
   },
   "file_extension": ".py",
   "mimetype": "text/x-python",
   "name": "python",
   "nbconvert_exporter": "python",
   "pygments_lexer": "ipython3",
   "version": "3.10.14"
  },
  "papermill": {
   "default_parameters": {},
   "duration": 11209.940717,
   "end_time": "2024-12-02T17:40:50.817883",
   "environment_variables": {},
   "exception": null,
   "input_path": "__notebook__.ipynb",
   "output_path": "__notebook__.ipynb",
   "parameters": {},
   "start_time": "2024-12-02T14:34:00.877166",
   "version": "2.6.0"
  }
 },
 "nbformat": 4,
 "nbformat_minor": 5
}
