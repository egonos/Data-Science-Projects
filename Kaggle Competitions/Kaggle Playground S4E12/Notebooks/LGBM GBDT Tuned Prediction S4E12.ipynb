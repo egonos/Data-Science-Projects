{
 "cells": [
  {
   "cell_type": "code",
   "execution_count": 1,
   "id": "395f8a6e",
   "metadata": {
    "_cell_guid": "b1076dfc-b9ad-4769-8c92-a6c4dae69d19",
    "_uuid": "8f2839f25d086af736a60e9eeb907d3b93b6e0e5",
    "execution": {
     "iopub.execute_input": "2024-12-03T04:05:24.501130Z",
     "iopub.status.busy": "2024-12-03T04:05:24.500728Z",
     "iopub.status.idle": "2024-12-03T04:05:27.781094Z",
     "shell.execute_reply": "2024-12-03T04:05:27.780230Z"
    },
    "papermill": {
     "duration": 3.287042,
     "end_time": "2024-12-03T04:05:27.783463",
     "exception": false,
     "start_time": "2024-12-03T04:05:24.496421",
     "status": "completed"
    },
    "tags": []
   },
   "outputs": [],
   "source": [
    "import numpy as np\n",
    "import pandas as pd\n",
    "import lightgbm as lgb\n",
    "from sklearn.model_selection import KFold\n",
    "from sklearn.metrics import mean_squared_error"
   ]
  },
  {
   "cell_type": "code",
   "execution_count": 2,
   "id": "c0a97dca",
   "metadata": {
    "execution": {
     "iopub.execute_input": "2024-12-03T04:05:27.790089Z",
     "iopub.status.busy": "2024-12-03T04:05:27.789508Z",
     "iopub.status.idle": "2024-12-03T04:05:38.644063Z",
     "shell.execute_reply": "2024-12-03T04:05:38.643114Z"
    },
    "papermill": {
     "duration": 10.860468,
     "end_time": "2024-12-03T04:05:38.646561",
     "exception": false,
     "start_time": "2024-12-03T04:05:27.786093",
     "status": "completed"
    },
    "tags": []
   },
   "outputs": [],
   "source": [
    "train = pd.read_csv('/kaggle/input/playground-series-s4e12/train.csv',index_col = \"id\")\n",
    "test = pd.read_csv('/kaggle/input/playground-series-s4e12/test.csv',index_col = \"id\")\n",
    "sample_submission = pd.read_csv('/kaggle/input/playground-series-s4e12/sample_submission.csv',index_col = \"id\")\n",
    "\n",
    "train.columns = [col.replace(\" \", \"_\") for col in train.columns]\n",
    "test.columns = [col.replace(\" \", \"_\") for col in test.columns]"
   ]
  },
  {
   "cell_type": "code",
   "execution_count": 3,
   "id": "1182ce4c",
   "metadata": {
    "execution": {
     "iopub.execute_input": "2024-12-03T04:05:38.652816Z",
     "iopub.status.busy": "2024-12-03T04:05:38.652451Z",
     "iopub.status.idle": "2024-12-03T04:05:41.020474Z",
     "shell.execute_reply": "2024-12-03T04:05:41.019548Z"
    },
    "papermill": {
     "duration": 2.373894,
     "end_time": "2024-12-03T04:05:41.022896",
     "exception": false,
     "start_time": "2024-12-03T04:05:38.649002",
     "status": "completed"
    },
    "tags": []
   },
   "outputs": [],
   "source": [
    "def date_preprocessing(df, yearT = 360):\n",
    "    df = df.copy()\n",
    "    df[\"Policy_Start_Date\"] = pd.to_datetime(df[\"Policy_Start_Date\"])\n",
    "    days_in_month = df[\"Policy_Start_Date\"].dt.days_in_month\n",
    "    \n",
    "    df[\"Year\"] = df[\"Policy_Start_Date\"].dt.year\n",
    "    df[\"Month\"] = df[\"Policy_Start_Date\"].dt.month\n",
    "    df[\"Day\"] = df[\"Policy_Start_Date\"].dt.day\n",
    "    \n",
    "    df[\"Sin_Month\"] = np.sin(df[\"Month\"] * np.pi * 2 / 12)\n",
    "    df[\"Cos_Month\"] = np.cos(df[\"Month\"] * np.pi * 2 / 12)\n",
    "    \n",
    "\n",
    "    df[\"Day_of_Year\"] = df[\"Policy_Start_Date\"].dt.dayofyear\n",
    "    df[\"Sin_Year_Day\"] = np.sin(df[\"Day_of_Year\"] * np.pi * 2 / yearT)\n",
    "    df[\"Cos_Year_Day\"] = np.cos(df[\"Day_of_Year\"] * np.pi * 2 / yearT)\n",
    "    \n",
    "    df[\"Sin_Day\"] = np.sin(df[\"Day\"] * np.pi * 2 / days_in_month)\n",
    "    df[\"Cos_Day\"] = np.cos(df[\"Day\"] * np.pi * 2 / days_in_month)\n",
    "\n",
    "    df.drop(\"Policy_Start_Date\",axis = 1,inplace = True)\n",
    "\n",
    "    return df\n",
    "\n",
    "\n",
    "train = date_preprocessing(train)\n",
    "test = date_preprocessing(test)"
   ]
  },
  {
   "cell_type": "code",
   "execution_count": 4,
   "id": "43b2f4b1",
   "metadata": {
    "execution": {
     "iopub.execute_input": "2024-12-03T04:05:41.029126Z",
     "iopub.status.busy": "2024-12-03T04:05:41.028736Z",
     "iopub.status.idle": "2024-12-03T04:05:43.406805Z",
     "shell.execute_reply": "2024-12-03T04:05:43.405804Z"
    },
    "papermill": {
     "duration": 2.383771,
     "end_time": "2024-12-03T04:05:43.409093",
     "exception": false,
     "start_time": "2024-12-03T04:05:41.025322",
     "status": "completed"
    },
    "tags": []
   },
   "outputs": [],
   "source": [
    "cat_features = [col for col in train.columns if train[col].dtype == 'object']\n",
    "\n",
    "for col in cat_features:\n",
    "    train[col] = train[col].fillna(\"None\").astype(\"category\")\n",
    "    test[col] = test[col].fillna(\"None\").astype(\"category\")"
   ]
  },
  {
   "cell_type": "code",
   "execution_count": 5,
   "id": "2db73425",
   "metadata": {
    "execution": {
     "iopub.execute_input": "2024-12-03T04:05:43.415014Z",
     "iopub.status.busy": "2024-12-03T04:05:43.414651Z",
     "iopub.status.idle": "2024-12-03T04:06:44.148756Z",
     "shell.execute_reply": "2024-12-03T04:06:44.147448Z"
    },
    "papermill": {
     "duration": 60.739735,
     "end_time": "2024-12-03T04:06:44.151108",
     "exception": false,
     "start_time": "2024-12-03T04:05:43.411373",
     "status": "completed"
    },
    "tags": []
   },
   "outputs": [
    {
     "name": "stdout",
     "output_type": "stream",
     "text": [
      "--------------\n",
      "Training until validation scores don't improve for 50 rounds\n",
      "Early stopping, best iteration is:\n",
      "[50]\tTraining's rmse: 1.04108\tValidation's rmse: 1.04632\n",
      "Fold: 1 RMSLE: 1.0463204322636546\n",
      "--------------\n",
      "Training until validation scores don't improve for 50 rounds\n",
      "Early stopping, best iteration is:\n",
      "[76]\tTraining's rmse: 1.03931\tValidation's rmse: 1.04567\n",
      "Fold: 2 RMSLE: 1.045665457539552\n",
      "--------------\n",
      "Training until validation scores don't improve for 50 rounds\n",
      "Early stopping, best iteration is:\n",
      "[52]\tTraining's rmse: 1.04083\tValidation's rmse: 1.04652\n",
      "Fold: 3 RMSLE: 1.0465176152208147\n",
      "--------------\n",
      "Training until validation scores don't improve for 50 rounds\n",
      "Early stopping, best iteration is:\n",
      "[69]\tTraining's rmse: 1.03976\tValidation's rmse: 1.04403\n",
      "Fold: 4 RMSLE: 1.0440267680848214\n",
      "--------------\n",
      "Training until validation scores don't improve for 50 rounds\n",
      "Early stopping, best iteration is:\n",
      "[52]\tTraining's rmse: 1.04085\tValidation's rmse: 1.04599\n",
      "Fold: 5 RMSLE: 1.0459949548731495\n",
      "Mean RMSLE: 1.0457050455963983 ± 0.000887828829630675\n"
     ]
    }
   ],
   "source": [
    "X,y = train.drop(\"Premium_Amount\",axis = 1).copy(),train[\"Premium_Amount\"].copy()\n",
    "kf = KFold(n_splits = 5,random_state = 42,shuffle = True)\n",
    "\n",
    "lgb_oof_preds = np.zeros(len(y))\n",
    "lgb_test_preds = np.zeros(len(test))\n",
    "lgb_train_scores =[]\n",
    "\n",
    "lgb_params = {\n",
    "                'random_state': 42,\n",
    "                'objective': 'regression',\n",
    "                'metric': 'rmse',\n",
    "                'boosting_type': 'gbdt',\n",
    "                'verbosity': -1,\n",
    "                'enable_categorical': True, \n",
    "                \"feature_pre_filter\": False,\n",
    "                \"lambda_l1\": 4.940290299092639e-08,\n",
    "                \"lambda_l2\": 4.624768708621535,\n",
    "                \"num_leaves\": 73,\n",
    "                \"feature_fraction\": 1.0,\n",
    "                \"bagging_fraction\": 1.0,\n",
    "                \"bagging_freq\": 0,\n",
    "                \"min_child_samples\": 50,\n",
    "             }\n",
    "\n",
    "for fold, (train_idx, val_idx) in enumerate(kf.split(X, y)):\n",
    "    y_log = np.log1p(y)\n",
    "    X_train, X_valid = X.iloc[train_idx], X.iloc[val_idx]\n",
    "    y_train, y_valid = y_log.iloc[train_idx], y_log.iloc[val_idx]\n",
    "\n",
    "\n",
    "    lgb_train = lgb.Dataset(X_train, y_train, categorical_feature=cat_features)\n",
    "    lgb_valid = lgb.Dataset(X_valid, y_valid, categorical_feature=cat_features, reference=lgb_train)\n",
    "\n",
    "    \n",
    "    print(\"--------------\")\n",
    "    model = lgb.train(\n",
    "        lgb_params,\n",
    "        lgb_train,\n",
    "        valid_sets=[lgb_train,lgb_valid],\n",
    "        valid_names=[\"Training\",\"Validation\"],\n",
    "        num_boost_round = 3000,\n",
    "        callbacks=[lgb.early_stopping(stopping_rounds=50)],  \n",
    "    )\n",
    "\n",
    "    y_pred = model.predict(X_valid, num_iteration=model.best_iteration)\n",
    "    \n",
    "    y_pred = np.maximum(0,y_pred)\n",
    "    y_valid = np.maximum(0,y_valid)\n",
    "    \n",
    "    rmsle = mean_squared_error(y_valid, y_pred,squared=False)\n",
    "    print(\"Fold:\", fold + 1,\"RMSLE:\", rmsle)\n",
    "    lgb_train_scores.append(rmsle)\n",
    "\n",
    "    y_test_preds = np.expm1(model.predict(test))\n",
    "    lgb_oof_preds[val_idx] = y_pred\n",
    "    lgb_test_preds += y_test_preds\n",
    "\n",
    "lgb_test_preds /= kf.get_n_splits()\n",
    "print(\"Mean RMSLE:\", np.mean(lgb_train_scores),\"±\", np.std(lgb_train_scores))"
   ]
  },
  {
   "cell_type": "code",
   "execution_count": 6,
   "id": "ef29348f",
   "metadata": {
    "execution": {
     "iopub.execute_input": "2024-12-03T04:06:44.160145Z",
     "iopub.status.busy": "2024-12-03T04:06:44.159163Z",
     "iopub.status.idle": "2024-12-03T04:06:49.997389Z",
     "shell.execute_reply": "2024-12-03T04:06:49.996487Z"
    },
    "papermill": {
     "duration": 5.845203,
     "end_time": "2024-12-03T04:06:49.999865",
     "exception": false,
     "start_time": "2024-12-03T04:06:44.154662",
     "status": "completed"
    },
    "tags": []
   },
   "outputs": [
    {
     "name": "stdout",
     "output_type": "stream",
     "text": [
      "                  Fold_1    Fold_2    Fold_3    Fold_4    Fold_5\n",
      "LGBM GBDT Tuned  1.04632  1.045665  1.046518  1.044027  1.045995\n"
     ]
    }
   ],
   "source": [
    "experiment_results = pd.DataFrame(\n",
    "    data=[lgb_train_scores],\n",
    "    columns=[f\"Fold_{i}\" for i in range(1, len(lgb_train_scores) + 1)],  \n",
    "    index=[\"LGBM GBDT Tuned\"]  \n",
    ")\n",
    "\n",
    "np.savetxt(\"lgb_gbdt_tuned_oof.txt\",lgb_oof_preds)\n",
    "np.savetxt(\"lgb_gbdt_tuned_test.txt\",lgb_test_preds)\n",
    "print(experiment_results)\n",
    "\n",
    "experiment_results.to_csv(\"LGBM_GBDT_Tuned.csv\")\n",
    "\n",
    "sample_submission[\"Premium Amount\"] = lgb_test_preds\n",
    "sample_submission.to_csv(\"submission.csv\")"
   ]
  }
 ],
 "metadata": {
  "kaggle": {
   "accelerator": "none",
   "dataSources": [
    {
     "databundleVersionId": 10305135,
     "sourceId": 84896,
     "sourceType": "competition"
    }
   ],
   "dockerImageVersionId": 30786,
   "isGpuEnabled": false,
   "isInternetEnabled": true,
   "language": "python",
   "sourceType": "notebook"
  },
  "kernelspec": {
   "display_name": "Python 3",
   "language": "python",
   "name": "python3"
  },
  "language_info": {
   "codemirror_mode": {
    "name": "ipython",
    "version": 3
   },
   "file_extension": ".py",
   "mimetype": "text/x-python",
   "name": "python",
   "nbconvert_exporter": "python",
   "pygments_lexer": "ipython3",
   "version": "3.10.14"
  },
  "papermill": {
   "default_parameters": {},
   "duration": 88.965341,
   "end_time": "2024-12-03T04:06:50.724314",
   "environment_variables": {},
   "exception": null,
   "input_path": "__notebook__.ipynb",
   "output_path": "__notebook__.ipynb",
   "parameters": {},
   "start_time": "2024-12-03T04:05:21.758973",
   "version": "2.6.0"
  }
 },
 "nbformat": 4,
 "nbformat_minor": 5
}
