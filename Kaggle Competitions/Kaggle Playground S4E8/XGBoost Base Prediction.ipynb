{
 "cells": [
  {
   "cell_type": "code",
   "execution_count": 1,
   "id": "b122ec0c",
   "metadata": {
    "_cell_guid": "b1076dfc-b9ad-4769-8c92-a6c4dae69d19",
    "_uuid": "8f2839f25d086af736a60e9eeb907d3b93b6e0e5",
    "execution": {
     "iopub.execute_input": "2024-11-21T09:57:50.786658Z",
     "iopub.status.busy": "2024-11-21T09:57:50.786142Z",
     "iopub.status.idle": "2024-11-21T09:57:53.381153Z",
     "shell.execute_reply": "2024-11-21T09:57:53.380220Z"
    },
    "papermill": {
     "duration": 2.601977,
     "end_time": "2024-11-21T09:57:53.383617",
     "exception": false,
     "start_time": "2024-11-21T09:57:50.781640",
     "status": "completed"
    },
    "tags": []
   },
   "outputs": [],
   "source": [
    "import numpy as np\n",
    "import pandas as pd\n",
    "import xgboost as xgb\n",
    "from sklearn.model_selection import StratifiedKFold\n",
    "from sklearn.metrics import matthews_corrcoef"
   ]
  },
  {
   "cell_type": "code",
   "execution_count": 2,
   "id": "d0b8785b",
   "metadata": {
    "execution": {
     "iopub.execute_input": "2024-11-21T09:57:53.390144Z",
     "iopub.status.busy": "2024-11-21T09:57:53.389601Z",
     "iopub.status.idle": "2024-11-21T09:58:08.434173Z",
     "shell.execute_reply": "2024-11-21T09:58:08.432623Z"
    },
    "papermill": {
     "duration": 15.050574,
     "end_time": "2024-11-21T09:58:08.436803",
     "exception": false,
     "start_time": "2024-11-21T09:57:53.386229",
     "status": "completed"
    },
    "tags": []
   },
   "outputs": [],
   "source": [
    "train = pd.read_csv(\"/kaggle/input/playground-series-s4e8/train.csv\",index_col = \"id\")\n",
    "test = pd.read_csv(\"/kaggle/input/playground-series-s4e8/test.csv\",index_col = \"id\")"
   ]
  },
  {
   "cell_type": "code",
   "execution_count": 3,
   "id": "4bc1a759",
   "metadata": {
    "execution": {
     "iopub.execute_input": "2024-11-21T09:58:08.442946Z",
     "iopub.status.busy": "2024-11-21T09:58:08.442540Z",
     "iopub.status.idle": "2024-11-21T09:58:16.135105Z",
     "shell.execute_reply": "2024-11-21T09:58:16.133946Z"
    },
    "papermill": {
     "duration": 7.698503,
     "end_time": "2024-11-21T09:58:16.137616",
     "exception": false,
     "start_time": "2024-11-21T09:58:08.439113",
     "status": "completed"
    },
    "tags": []
   },
   "outputs": [],
   "source": [
    "X = train.drop(\"class\",axis = 1)\n",
    "y = train[\"class\"]\n",
    "\n",
    "#--------\n",
    "from sklearn.preprocessing import LabelEncoder\n",
    "le = LabelEncoder()\n",
    "y = pd.Series(le.fit_transform(y))\n",
    "#--------\n",
    "\n",
    "cat_cols = list(X.select_dtypes(include = \"object\").columns)\n",
    "X[cat_cols] = X[cat_cols].astype(\"category\")\n",
    "test[cat_cols] = test[cat_cols].astype(\"category\")"
   ]
  },
  {
   "cell_type": "code",
   "execution_count": null,
   "id": "4289a292",
   "metadata": {
    "execution": {
     "iopub.execute_input": "2024-11-21T09:58:16.143992Z",
     "iopub.status.busy": "2024-11-21T09:58:16.143203Z",
     "iopub.status.idle": "2024-11-21T10:12:27.171523Z",
     "shell.execute_reply": "2024-11-21T10:12:27.170492Z"
    },
    "papermill": {
     "duration": 851.036499,
     "end_time": "2024-11-21T10:12:27.176472",
     "exception": false,
     "start_time": "2024-11-21T09:58:16.139973",
     "status": "completed"
    },
    "tags": []
   },
   "outputs": [
    {
     "name": "stdout",
     "output_type": "stream",
     "text": [
      "XGB Base Score Fold 1: 0.9842329418307897\n",
      "XGB Base Score Fold 2: 0.9841183883719626\n",
      "XGB Base Score Fold 3: 0.9844344847206048\n",
      "XGB Base Score Fold 4: 0.9840393760018963\n",
      "XGB Base Score Fold 5: 0.9842480252523854\n",
      "XGB Base Average Score: 0.9842146432355279\n"
     ]
    }
   ],
   "source": [
    "N_SPLITS = 5\n",
    "skf = StratifiedKFold(n_splits=N_SPLITS,random_state = 0, shuffle = True)\n",
    "\n",
    "base_params = {\"random_state\":42,\n",
    "               \"objective\": \"binary:logistic\",\n",
    "              \"verbosity\": 0,\n",
    "               \"enable_categorical\": True\n",
    "              }\n",
    "scores = []\n",
    "test_predictions = []\n",
    "\n",
    "for fold,(train_idx,val_idx) in enumerate(skf.split(X,y)):\n",
    "    X_train,X_val = X.iloc[train_idx],X.iloc[val_idx]\n",
    "    y_train,y_val = y.iloc[train_idx],y.iloc[val_idx]\n",
    "\n",
    "    dtrain = xgb.DMatrix(data = X_train, label = y_train,enable_categorical = True)\n",
    "    dval = xgb.DMatrix(data = X_val, label = y_val,enable_categorical = True)\n",
    "\n",
    "    base_model = xgb.train(base_params,\n",
    "                          dtrain,\n",
    "                          num_boost_round = 1000,\n",
    "                          evals = [(dval, 'validation')],\n",
    "                           verbose_eval = False,\n",
    "                       \n",
    "                          early_stopping_rounds = 50,\n",
    "                          # callbacks= [xgb.callback.EvaluationMonitor(rank = 0,period = 100)]\n",
    "                          )\n",
    "                           \n",
    "\n",
    "    preds = np.round(base_model.predict(dval))\n",
    "    score = matthews_corrcoef(y_val,preds)\n",
    "    scores.append(score)\n",
    "    \n",
    "    print(f\"XGB Base Score Fold {fold+1}:\", score)\n",
    "\n",
    "    test_dmatrix = xgb.DMatrix(data=test, enable_categorical=True)\n",
    "    test_preds = base_model.predict(test_dmatrix) #should be np.round(base_model.predict(test_dmatrix))\n",
    "    test_predictions.append(test_preds)\n",
    "\n",
    "print(\"XGB Base Average Score:\", np.mean(scores))"
   ]
  },
  {
   "cell_type": "code",
   "execution_count": 5,
   "id": "0699f92b",
   "metadata": {
    "execution": {
     "iopub.execute_input": "2024-11-21T10:12:27.189693Z",
     "iopub.status.busy": "2024-11-21T10:12:27.189260Z",
     "iopub.status.idle": "2024-11-21T10:12:27.223566Z",
     "shell.execute_reply": "2024-11-21T10:12:27.222848Z"
    },
    "papermill": {
     "duration": 0.042931,
     "end_time": "2024-11-21T10:12:27.227379",
     "exception": false,
     "start_time": "2024-11-21T10:12:27.184448",
     "status": "completed"
    },
    "tags": []
   },
   "outputs": [
    {
     "data": {
      "text/html": [
       "<div>\n",
       "<style scoped>\n",
       "    .dataframe tbody tr th:only-of-type {\n",
       "        vertical-align: middle;\n",
       "    }\n",
       "\n",
       "    .dataframe tbody tr th {\n",
       "        vertical-align: top;\n",
       "    }\n",
       "\n",
       "    .dataframe thead th {\n",
       "        text-align: right;\n",
       "    }\n",
       "</style>\n",
       "<table border=\"1\" class=\"dataframe\">\n",
       "  <thead>\n",
       "    <tr style=\"text-align: right;\">\n",
       "      <th></th>\n",
       "      <th>Fold1</th>\n",
       "      <th>Fold2</th>\n",
       "      <th>Fold3</th>\n",
       "      <th>Fold4</th>\n",
       "      <th>Fold5</th>\n",
       "    </tr>\n",
       "  </thead>\n",
       "  <tbody>\n",
       "    <tr>\n",
       "      <th>0</th>\n",
       "      <td>0.901372</td>\n",
       "      <td>0.114438</td>\n",
       "      <td>0.328848</td>\n",
       "      <td>0.649806</td>\n",
       "      <td>0.151351</td>\n",
       "    </tr>\n",
       "    <tr>\n",
       "      <th>1</th>\n",
       "      <td>0.390922</td>\n",
       "      <td>0.587641</td>\n",
       "      <td>0.591598</td>\n",
       "      <td>0.783078</td>\n",
       "      <td>0.984415</td>\n",
       "    </tr>\n",
       "    <tr>\n",
       "      <th>2</th>\n",
       "      <td>0.515817</td>\n",
       "      <td>0.020015</td>\n",
       "      <td>0.251042</td>\n",
       "      <td>0.320157</td>\n",
       "      <td>0.334768</td>\n",
       "    </tr>\n",
       "    <tr>\n",
       "      <th>3</th>\n",
       "      <td>0.974140</td>\n",
       "      <td>0.983644</td>\n",
       "      <td>0.996471</td>\n",
       "      <td>0.999300</td>\n",
       "      <td>0.996139</td>\n",
       "    </tr>\n",
       "    <tr>\n",
       "      <th>4</th>\n",
       "      <td>0.203687</td>\n",
       "      <td>0.507700</td>\n",
       "      <td>0.775405</td>\n",
       "      <td>0.254841</td>\n",
       "      <td>0.227267</td>\n",
       "    </tr>\n",
       "  </tbody>\n",
       "</table>\n",
       "</div>"
      ],
      "text/plain": [
       "      Fold1     Fold2     Fold3     Fold4     Fold5\n",
       "0  0.901372  0.114438  0.328848  0.649806  0.151351\n",
       "1  0.390922  0.587641  0.591598  0.783078  0.984415\n",
       "2  0.515817  0.020015  0.251042  0.320157  0.334768\n",
       "3  0.974140  0.983644  0.996471  0.999300  0.996139\n",
       "4  0.203687  0.507700  0.775405  0.254841  0.227267"
      ]
     },
     "execution_count": 5,
     "metadata": {},
     "output_type": "execute_result"
    }
   ],
   "source": [
    "test_results = pd.DataFrame(np.array(test_predictions).T,columns = [\"Fold1\",\"Fold2\",\"Fold3\",\"Fold4\",\"Fold5\"])\n",
    "test_results.head()"
   ]
  },
  {
   "cell_type": "code",
   "execution_count": 6,
   "id": "be94d75d",
   "metadata": {
    "execution": {
     "iopub.execute_input": "2024-11-21T10:12:27.235932Z",
     "iopub.status.busy": "2024-11-21T10:12:27.235262Z",
     "iopub.status.idle": "2024-11-21T10:17:55.444613Z",
     "shell.execute_reply": "2024-11-21T10:17:55.443568Z"
    },
    "papermill": {
     "duration": 328.216941,
     "end_time": "2024-11-21T10:17:55.447451",
     "exception": false,
     "start_time": "2024-11-21T10:12:27.230510",
     "status": "completed"
    },
    "tags": []
   },
   "outputs": [],
   "source": [
    "submission = pd.read_csv(\"/kaggle/input/playground-series-s4e8/sample_submission.csv\")\n",
    "submission[\"class\"] = le.inverse_transform(test_results.mode(axis = 1)[0].values.astype(int))\n",
    "submission.to_csv(\"submission.csv\", index=False)"
   ]
  }
 ],
 "metadata": {
  "kaggle": {
   "accelerator": "none",
   "dataSources": [
    {
     "databundleVersionId": 9045607,
     "sourceId": 76727,
     "sourceType": "competition"
    }
   ],
   "dockerImageVersionId": 30786,
   "isGpuEnabled": false,
   "isInternetEnabled": true,
   "language": "python",
   "sourceType": "notebook"
  },
  "kernelspec": {
   "display_name": "Python 3",
   "language": "python",
   "name": "python3"
  },
  "language_info": {
   "codemirror_mode": {
    "name": "ipython",
    "version": 3
   },
   "file_extension": ".py",
   "mimetype": "text/x-python",
   "name": "python",
   "nbconvert_exporter": "python",
   "pygments_lexer": "ipython3",
   "version": "3.10.14"
  },
  "papermill": {
   "default_parameters": {},
   "duration": 1208.540664,
   "end_time": "2024-11-21T10:17:56.474227",
   "environment_variables": {},
   "exception": null,
   "input_path": "__notebook__.ipynb",
   "output_path": "__notebook__.ipynb",
   "parameters": {},
   "start_time": "2024-11-21T09:57:47.933563",
   "version": "2.6.0"
  }
 },
 "nbformat": 4,
 "nbformat_minor": 5
}
