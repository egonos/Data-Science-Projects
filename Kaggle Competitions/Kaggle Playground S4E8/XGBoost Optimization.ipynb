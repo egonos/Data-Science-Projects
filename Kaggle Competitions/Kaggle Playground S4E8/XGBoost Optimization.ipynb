{
 "cells": [
  {
   "cell_type": "code",
   "execution_count": 1,
   "id": "5eadcd38",
   "metadata": {
    "_cell_guid": "b1076dfc-b9ad-4769-8c92-a6c4dae69d19",
    "_uuid": "8f2839f25d086af736a60e9eeb907d3b93b6e0e5",
    "execution": {
     "iopub.execute_input": "2024-11-21T12:11:33.517118Z",
     "iopub.status.busy": "2024-11-21T12:11:33.516713Z",
     "iopub.status.idle": "2024-11-21T12:11:47.947200Z",
     "shell.execute_reply": "2024-11-21T12:11:47.946225Z"
    },
    "papermill": {
     "duration": 14.437476,
     "end_time": "2024-11-21T12:11:47.949564",
     "exception": false,
     "start_time": "2024-11-21T12:11:33.512088",
     "status": "completed"
    },
    "tags": []
   },
   "outputs": [
    {
     "name": "stdout",
     "output_type": "stream",
     "text": [
      "Collecting optuna-integration[xgboost]\r\n",
      "  Downloading optuna_integration-4.1.0-py3-none-any.whl.metadata (12 kB)\r\n",
      "Requirement already satisfied: optuna in /opt/conda/lib/python3.10/site-packages (from optuna-integration[xgboost]) (4.0.0)\r\n",
      "Requirement already satisfied: xgboost in /opt/conda/lib/python3.10/site-packages (from optuna-integration[xgboost]) (2.0.3)\r\n",
      "Requirement already satisfied: alembic>=1.5.0 in /opt/conda/lib/python3.10/site-packages (from optuna->optuna-integration[xgboost]) (1.13.3)\r\n",
      "Requirement already satisfied: colorlog in /opt/conda/lib/python3.10/site-packages (from optuna->optuna-integration[xgboost]) (6.8.2)\r\n",
      "Requirement already satisfied: numpy in /opt/conda/lib/python3.10/site-packages (from optuna->optuna-integration[xgboost]) (1.26.4)\r\n",
      "Requirement already satisfied: packaging>=20.0 in /opt/conda/lib/python3.10/site-packages (from optuna->optuna-integration[xgboost]) (21.3)\r\n",
      "Requirement already satisfied: sqlalchemy>=1.3.0 in /opt/conda/lib/python3.10/site-packages (from optuna->optuna-integration[xgboost]) (2.0.30)\r\n",
      "Requirement already satisfied: tqdm in /opt/conda/lib/python3.10/site-packages (from optuna->optuna-integration[xgboost]) (4.66.4)\r\n",
      "Requirement already satisfied: PyYAML in /opt/conda/lib/python3.10/site-packages (from optuna->optuna-integration[xgboost]) (6.0.2)\r\n",
      "Requirement already satisfied: scipy in /opt/conda/lib/python3.10/site-packages (from xgboost->optuna-integration[xgboost]) (1.14.1)\r\n",
      "Requirement already satisfied: Mako in /opt/conda/lib/python3.10/site-packages (from alembic>=1.5.0->optuna->optuna-integration[xgboost]) (1.3.5)\r\n",
      "Requirement already satisfied: typing-extensions>=4 in /opt/conda/lib/python3.10/site-packages (from alembic>=1.5.0->optuna->optuna-integration[xgboost]) (4.12.2)\r\n",
      "Requirement already satisfied: pyparsing!=3.0.5,>=2.0.2 in /opt/conda/lib/python3.10/site-packages (from packaging>=20.0->optuna->optuna-integration[xgboost]) (3.1.2)\r\n",
      "Requirement already satisfied: greenlet!=0.4.17 in /opt/conda/lib/python3.10/site-packages (from sqlalchemy>=1.3.0->optuna->optuna-integration[xgboost]) (3.0.3)\r\n",
      "Requirement already satisfied: MarkupSafe>=0.9.2 in /opt/conda/lib/python3.10/site-packages (from Mako->alembic>=1.5.0->optuna->optuna-integration[xgboost]) (2.1.5)\r\n",
      "Downloading optuna_integration-4.1.0-py3-none-any.whl (97 kB)\r\n",
      "\u001b[2K   \u001b[90m━━━━━━━━━━━━━━━━━━━━━━━━━━━━━━━━━━━━━━━━\u001b[0m \u001b[32m97.4/97.4 kB\u001b[0m \u001b[31m2.4 MB/s\u001b[0m eta \u001b[36m0:00:00\u001b[0m\r\n",
      "\u001b[?25hInstalling collected packages: optuna-integration\r\n",
      "Successfully installed optuna-integration-4.1.0\r\n"
     ]
    }
   ],
   "source": [
    "import numpy as np\n",
    "import pandas as pd\n",
    "import xgboost as xgb\n",
    "from sklearn.model_selection import StratifiedKFold, train_test_split\n",
    "from sklearn.metrics import matthews_corrcoef\n",
    "\n",
    "!pip install optuna-integration[xgboost]\n",
    "import optuna\n",
    "\n",
    "#keeps optuna silent\n",
    "import logging\n",
    "logging.getLogger('optuna').setLevel(logging.WARNING)"
   ]
  },
  {
   "cell_type": "code",
   "execution_count": 2,
   "id": "bd3cff87",
   "metadata": {
    "execution": {
     "iopub.execute_input": "2024-11-21T12:11:47.957289Z",
     "iopub.status.busy": "2024-11-21T12:11:47.956607Z",
     "iopub.status.idle": "2024-11-21T12:11:47.961902Z",
     "shell.execute_reply": "2024-11-21T12:11:47.960853Z"
    },
    "papermill": {
     "duration": 0.011543,
     "end_time": "2024-11-21T12:11:47.964151",
     "exception": false,
     "start_time": "2024-11-21T12:11:47.952608",
     "status": "completed"
    },
    "tags": []
   },
   "outputs": [],
   "source": [
    "import logging\n"
   ]
  },
  {
   "cell_type": "code",
   "execution_count": 3,
   "id": "f6803c85",
   "metadata": {
    "execution": {
     "iopub.execute_input": "2024-11-21T12:11:47.971450Z",
     "iopub.status.busy": "2024-11-21T12:11:47.970995Z",
     "iopub.status.idle": "2024-11-21T12:12:03.208672Z",
     "shell.execute_reply": "2024-11-21T12:12:03.207509Z"
    },
    "papermill": {
     "duration": 15.243818,
     "end_time": "2024-11-21T12:12:03.210995",
     "exception": false,
     "start_time": "2024-11-21T12:11:47.967177",
     "status": "completed"
    },
    "tags": []
   },
   "outputs": [],
   "source": [
    "train = pd.read_csv(\"/kaggle/input/playground-series-s4e8/train.csv\",index_col = \"id\")\n",
    "test = pd.read_csv(\"/kaggle/input/playground-series-s4e8/test.csv\",index_col = \"id\")"
   ]
  },
  {
   "cell_type": "code",
   "execution_count": 4,
   "id": "6ab90cbe",
   "metadata": {
    "execution": {
     "iopub.execute_input": "2024-11-21T12:12:03.218118Z",
     "iopub.status.busy": "2024-11-21T12:12:03.217728Z",
     "iopub.status.idle": "2024-11-21T12:12:10.737536Z",
     "shell.execute_reply": "2024-11-21T12:12:10.736323Z"
    },
    "papermill": {
     "duration": 7.526309,
     "end_time": "2024-11-21T12:12:10.740236",
     "exception": false,
     "start_time": "2024-11-21T12:12:03.213927",
     "status": "completed"
    },
    "tags": []
   },
   "outputs": [],
   "source": [
    "X = train.drop(\"class\",axis = 1)\n",
    "y = train[\"class\"]\n",
    "\n",
    "#--------\n",
    "from sklearn.preprocessing import LabelEncoder\n",
    "le = LabelEncoder()\n",
    "y = pd.Series(le.fit_transform(y))\n",
    "#--------\n",
    "\n",
    "cat_cols = list(X.select_dtypes(include = \"object\").columns)\n",
    "X[cat_cols] = X[cat_cols].astype(\"category\")\n",
    "test[cat_cols] = test[cat_cols].astype(\"category\")"
   ]
  },
  {
   "cell_type": "code",
   "execution_count": 5,
   "id": "aee1318a",
   "metadata": {
    "execution": {
     "iopub.execute_input": "2024-11-21T12:12:10.747803Z",
     "iopub.status.busy": "2024-11-21T12:12:10.747421Z",
     "iopub.status.idle": "2024-11-21T12:23:25.522834Z",
     "shell.execute_reply": "2024-11-21T12:23:25.521689Z"
    },
    "papermill": {
     "duration": 674.784861,
     "end_time": "2024-11-21T12:23:25.528083",
     "exception": false,
     "start_time": "2024-11-21T12:12:10.743222",
     "status": "completed"
    },
    "tags": []
   },
   "outputs": [
    {
     "name": "stdout",
     "output_type": "stream",
     "text": [
      "FrozenTrial(number=36, state=TrialState.COMPLETE, values=[0.9782625620625603], datetime_start=datetime.datetime(2024, 11, 21, 12, 19, 21, 824947), datetime_complete=datetime.datetime(2024, 11, 21, 12, 19, 45, 983069), params={'booster': 'dart', 'lambda': 9.39318378907274e-06, 'alpha': 0.010873857185666884, 'max_depth': 9, 'eta': 0.3416204570494483, 'gamma': 1.4735242024551962e-07, 'grow_policy': 'depthwise', 'sample_type': 'uniform', 'normalize_type': 'forest', 'rate_drop': 0.0042143607743783725, 'skip_drop': 0.058401354559312106}, user_attrs={}, system_attrs={}, intermediate_values={0: 0.9793558589823413, 1: 0.9889632852146755, 2: 0.9913047481759562, 3: 0.9934122440799413, 4: 0.994043845685501, 5: 0.9949120513069023, 6: 0.9952616745819369, 7: 0.9955571863479221, 8: 0.9957309773856846, 9: 0.9958972810077009}, distributions={'booster': CategoricalDistribution(choices=('gbtree', 'gblinear', 'dart')), 'lambda': FloatDistribution(high=1.0, log=True, low=1e-08, step=None), 'alpha': FloatDistribution(high=1.0, log=True, low=1e-08, step=None), 'max_depth': IntDistribution(high=9, log=False, low=1, step=1), 'eta': FloatDistribution(high=1.0, log=True, low=1e-08, step=None), 'gamma': FloatDistribution(high=1.0, log=True, low=1e-08, step=None), 'grow_policy': CategoricalDistribution(choices=('depthwise', 'lossguide')), 'sample_type': CategoricalDistribution(choices=('uniform', 'weighted')), 'normalize_type': CategoricalDistribution(choices=('tree', 'forest')), 'rate_drop': FloatDistribution(high=1.0, log=True, low=1e-08, step=None), 'skip_drop': FloatDistribution(high=1.0, log=True, low=1e-08, step=None)}, trial_id=36, value=None)\n",
      "{'booster': 'dart', 'lambda': 9.39318378907274e-06, 'alpha': 0.010873857185666884, 'max_depth': 9, 'eta': 0.3416204570494483, 'gamma': 1.4735242024551962e-07, 'grow_policy': 'depthwise', 'sample_type': 'uniform', 'normalize_type': 'forest', 'rate_drop': 0.0042143607743783725, 'skip_drop': 0.058401354559312106}\n"
     ]
    }
   ],
   "source": [
    "#adapted from https://github.com/optuna/optuna-examples/blob/main/xgboost/xgboost_integration.py\n",
    "def objective(trial):\n",
    "    train_x, valid_x, train_y, valid_y = train_test_split(X, y, stratify = y, random_state =42 )\n",
    "    dtrain = xgb.DMatrix(train_x, label=train_y,enable_categorical=True)\n",
    "    dvalid = xgb.DMatrix(valid_x, label=valid_y,enable_categorical=True)\n",
    "    param = {\n",
    "        \"verbosity\": 0,\n",
    "        \"objective\": \"binary:logistic\",\n",
    "        \"eval_metric\": \"auc\",\n",
    "        \n",
    "        \"booster\": trial.suggest_categorical(\"booster\", [\"gbtree\", \"gblinear\", \"dart\"]),\n",
    "        \"lambda\": trial.suggest_float(\"lambda\", 1e-8, 1.0, log=True),\n",
    "        \"alpha\": trial.suggest_float(\"alpha\", 1e-8, 1.0, log=True),\n",
    "        \"enable_categorical\": True\n",
    "    }\n",
    "\n",
    "    if param[\"booster\"] == \"gbtree\" or param[\"booster\"] == \"dart\":\n",
    "            param[\"max_depth\"] = trial.suggest_int(\"max_depth\", 1, 9)\n",
    "            param[\"eta\"] = trial.suggest_float(\"eta\", 1e-8, 1.0, log=True)\n",
    "            param[\"gamma\"] = trial.suggest_float(\"gamma\", 1e-8, 1.0, log=True)\n",
    "            param[\"grow_policy\"] = trial.suggest_categorical(\"grow_policy\", [\"depthwise\", \"lossguide\"])\n",
    "    if param[\"booster\"] == \"dart\":\n",
    "        param[\"sample_type\"] = trial.suggest_categorical(\"sample_type\", [\"uniform\", \"weighted\"])\n",
    "        param[\"normalize_type\"] = trial.suggest_categorical(\"normalize_type\", [\"tree\", \"forest\"])\n",
    "        param[\"rate_drop\"] = trial.suggest_float(\"rate_drop\", 1e-8, 1.0, log=True)\n",
    "        param[\"skip_drop\"] = trial.suggest_float(\"skip_drop\", 1e-8, 1.0, log=True)\n",
    "\n",
    "   \n",
    "    pruning_callback = optuna.integration.XGBoostPruningCallback(trial, \"validation-auc\")\n",
    "    bst = xgb.train(param, dtrain, evals=[(dvalid, \"validation\")],\n",
    "                    verbose_eval = False,\n",
    "                    callbacks=[pruning_callback])\n",
    "    preds = bst.predict(dvalid)\n",
    "    pred_labels = np.rint(preds)\n",
    "    score = matthews_corrcoef(valid_y, pred_labels)\n",
    "    return score\n",
    "\n",
    "study = optuna.create_study(\n",
    "        pruner=optuna.pruners.MedianPruner(n_warmup_steps=5), direction=\"maximize\"\n",
    "    )\n",
    "\n",
    "study.optimize(objective, n_trials=50)\n",
    "print(study.best_trial)\n",
    "print(study.best_params)"
   ]
  },
  {
   "cell_type": "code",
   "execution_count": null,
   "id": "fc0e016d",
   "metadata": {
    "papermill": {
     "duration": 0.002551,
     "end_time": "2024-11-21T12:23:25.533529",
     "exception": false,
     "start_time": "2024-11-21T12:23:25.530978",
     "status": "completed"
    },
    "tags": []
   },
   "outputs": [],
   "source": []
  }
 ],
 "metadata": {
  "kaggle": {
   "accelerator": "none",
   "dataSources": [
    {
     "databundleVersionId": 9045607,
     "sourceId": 76727,
     "sourceType": "competition"
    }
   ],
   "dockerImageVersionId": 30786,
   "isGpuEnabled": false,
   "isInternetEnabled": true,
   "language": "python",
   "sourceType": "notebook"
  },
  "kernelspec": {
   "display_name": "Python 3",
   "language": "python",
   "name": "python3"
  },
  "language_info": {
   "codemirror_mode": {
    "name": "ipython",
    "version": 3
   },
   "file_extension": ".py",
   "mimetype": "text/x-python",
   "name": "python",
   "nbconvert_exporter": "python",
   "pygments_lexer": "ipython3",
   "version": "3.10.14"
  },
  "papermill": {
   "default_parameters": {},
   "duration": 715.621801,
   "end_time": "2024-11-21T12:23:26.459508",
   "environment_variables": {},
   "exception": null,
   "input_path": "__notebook__.ipynb",
   "output_path": "__notebook__.ipynb",
   "parameters": {},
   "start_time": "2024-11-21T12:11:30.837707",
   "version": "2.6.0"
  }
 },
 "nbformat": 4,
 "nbformat_minor": 5
}
