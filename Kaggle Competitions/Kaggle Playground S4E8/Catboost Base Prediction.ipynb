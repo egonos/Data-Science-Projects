{
 "cells": [
  {
   "cell_type": "code",
   "execution_count": 1,
   "id": "e3313b6c",
   "metadata": {
    "_cell_guid": "b1076dfc-b9ad-4769-8c92-a6c4dae69d19",
    "_uuid": "8f2839f25d086af736a60e9eeb907d3b93b6e0e5",
    "execution": {
     "iopub.execute_input": "2024-11-20T08:53:32.023342Z",
     "iopub.status.busy": "2024-11-20T08:53:32.023069Z",
     "iopub.status.idle": "2024-11-20T08:53:33.920289Z",
     "shell.execute_reply": "2024-11-20T08:53:33.919594Z"
    },
    "papermill": {
     "duration": 1.902999,
     "end_time": "2024-11-20T08:53:33.922390",
     "exception": false,
     "start_time": "2024-11-20T08:53:32.019391",
     "status": "completed"
    },
    "tags": []
   },
   "outputs": [],
   "source": [
    "import numpy as np\n",
    "import pandas as pd\n",
    "import catboost as cat\n",
    "from sklearn.model_selection import StratifiedKFold\n",
    "from sklearn.metrics import matthews_corrcoef\n",
    "from scipy.stats import mode"
   ]
  },
  {
   "cell_type": "code",
   "execution_count": 2,
   "id": "b6a6ef9c",
   "metadata": {
    "execution": {
     "iopub.execute_input": "2024-11-20T08:53:33.928617Z",
     "iopub.status.busy": "2024-11-20T08:53:33.928219Z",
     "iopub.status.idle": "2024-11-20T08:53:46.303729Z",
     "shell.execute_reply": "2024-11-20T08:53:46.303035Z"
    },
    "papermill": {
     "duration": 12.3805,
     "end_time": "2024-11-20T08:53:46.305607",
     "exception": false,
     "start_time": "2024-11-20T08:53:33.925107",
     "status": "completed"
    },
    "tags": []
   },
   "outputs": [],
   "source": [
    "train = pd.read_csv(\"/kaggle/input/playground-series-s4e8/train.csv\")\n",
    "test = pd.read_csv(\"/kaggle/input/playground-series-s4e8/test.csv\")"
   ]
  },
  {
   "cell_type": "code",
   "execution_count": 3,
   "id": "21dd44f7",
   "metadata": {
    "execution": {
     "iopub.execute_input": "2024-11-20T08:53:46.311790Z",
     "iopub.status.busy": "2024-11-20T08:53:46.311103Z",
     "iopub.status.idle": "2024-11-20T08:53:46.341043Z",
     "shell.execute_reply": "2024-11-20T08:53:46.340269Z"
    },
    "papermill": {
     "duration": 0.034737,
     "end_time": "2024-11-20T08:53:46.342797",
     "exception": false,
     "start_time": "2024-11-20T08:53:46.308060",
     "status": "completed"
    },
    "tags": []
   },
   "outputs": [
    {
     "data": {
      "text/html": [
       "<div>\n",
       "<style scoped>\n",
       "    .dataframe tbody tr th:only-of-type {\n",
       "        vertical-align: middle;\n",
       "    }\n",
       "\n",
       "    .dataframe tbody tr th {\n",
       "        vertical-align: top;\n",
       "    }\n",
       "\n",
       "    .dataframe thead th {\n",
       "        text-align: right;\n",
       "    }\n",
       "</style>\n",
       "<table border=\"1\" class=\"dataframe\">\n",
       "  <thead>\n",
       "    <tr style=\"text-align: right;\">\n",
       "      <th></th>\n",
       "      <th>id</th>\n",
       "      <th>class</th>\n",
       "      <th>cap-diameter</th>\n",
       "      <th>cap-shape</th>\n",
       "      <th>cap-surface</th>\n",
       "      <th>cap-color</th>\n",
       "      <th>does-bruise-or-bleed</th>\n",
       "      <th>gill-attachment</th>\n",
       "      <th>gill-spacing</th>\n",
       "      <th>gill-color</th>\n",
       "      <th>...</th>\n",
       "      <th>stem-root</th>\n",
       "      <th>stem-surface</th>\n",
       "      <th>stem-color</th>\n",
       "      <th>veil-type</th>\n",
       "      <th>veil-color</th>\n",
       "      <th>has-ring</th>\n",
       "      <th>ring-type</th>\n",
       "      <th>spore-print-color</th>\n",
       "      <th>habitat</th>\n",
       "      <th>season</th>\n",
       "    </tr>\n",
       "  </thead>\n",
       "  <tbody>\n",
       "    <tr>\n",
       "      <th>0</th>\n",
       "      <td>0</td>\n",
       "      <td>e</td>\n",
       "      <td>8.80</td>\n",
       "      <td>f</td>\n",
       "      <td>s</td>\n",
       "      <td>u</td>\n",
       "      <td>f</td>\n",
       "      <td>a</td>\n",
       "      <td>c</td>\n",
       "      <td>w</td>\n",
       "      <td>...</td>\n",
       "      <td>NaN</td>\n",
       "      <td>NaN</td>\n",
       "      <td>w</td>\n",
       "      <td>NaN</td>\n",
       "      <td>NaN</td>\n",
       "      <td>f</td>\n",
       "      <td>f</td>\n",
       "      <td>NaN</td>\n",
       "      <td>d</td>\n",
       "      <td>a</td>\n",
       "    </tr>\n",
       "    <tr>\n",
       "      <th>1</th>\n",
       "      <td>1</td>\n",
       "      <td>p</td>\n",
       "      <td>4.51</td>\n",
       "      <td>x</td>\n",
       "      <td>h</td>\n",
       "      <td>o</td>\n",
       "      <td>f</td>\n",
       "      <td>a</td>\n",
       "      <td>c</td>\n",
       "      <td>n</td>\n",
       "      <td>...</td>\n",
       "      <td>NaN</td>\n",
       "      <td>y</td>\n",
       "      <td>o</td>\n",
       "      <td>NaN</td>\n",
       "      <td>NaN</td>\n",
       "      <td>t</td>\n",
       "      <td>z</td>\n",
       "      <td>NaN</td>\n",
       "      <td>d</td>\n",
       "      <td>w</td>\n",
       "    </tr>\n",
       "    <tr>\n",
       "      <th>2</th>\n",
       "      <td>2</td>\n",
       "      <td>e</td>\n",
       "      <td>6.94</td>\n",
       "      <td>f</td>\n",
       "      <td>s</td>\n",
       "      <td>b</td>\n",
       "      <td>f</td>\n",
       "      <td>x</td>\n",
       "      <td>c</td>\n",
       "      <td>w</td>\n",
       "      <td>...</td>\n",
       "      <td>NaN</td>\n",
       "      <td>s</td>\n",
       "      <td>n</td>\n",
       "      <td>NaN</td>\n",
       "      <td>NaN</td>\n",
       "      <td>f</td>\n",
       "      <td>f</td>\n",
       "      <td>NaN</td>\n",
       "      <td>l</td>\n",
       "      <td>w</td>\n",
       "    </tr>\n",
       "    <tr>\n",
       "      <th>3</th>\n",
       "      <td>3</td>\n",
       "      <td>e</td>\n",
       "      <td>3.88</td>\n",
       "      <td>f</td>\n",
       "      <td>y</td>\n",
       "      <td>g</td>\n",
       "      <td>f</td>\n",
       "      <td>s</td>\n",
       "      <td>NaN</td>\n",
       "      <td>g</td>\n",
       "      <td>...</td>\n",
       "      <td>NaN</td>\n",
       "      <td>NaN</td>\n",
       "      <td>w</td>\n",
       "      <td>NaN</td>\n",
       "      <td>NaN</td>\n",
       "      <td>f</td>\n",
       "      <td>f</td>\n",
       "      <td>NaN</td>\n",
       "      <td>d</td>\n",
       "      <td>u</td>\n",
       "    </tr>\n",
       "    <tr>\n",
       "      <th>4</th>\n",
       "      <td>4</td>\n",
       "      <td>e</td>\n",
       "      <td>5.85</td>\n",
       "      <td>x</td>\n",
       "      <td>l</td>\n",
       "      <td>w</td>\n",
       "      <td>f</td>\n",
       "      <td>d</td>\n",
       "      <td>NaN</td>\n",
       "      <td>w</td>\n",
       "      <td>...</td>\n",
       "      <td>NaN</td>\n",
       "      <td>NaN</td>\n",
       "      <td>w</td>\n",
       "      <td>NaN</td>\n",
       "      <td>NaN</td>\n",
       "      <td>f</td>\n",
       "      <td>f</td>\n",
       "      <td>NaN</td>\n",
       "      <td>g</td>\n",
       "      <td>a</td>\n",
       "    </tr>\n",
       "  </tbody>\n",
       "</table>\n",
       "<p>5 rows × 22 columns</p>\n",
       "</div>"
      ],
      "text/plain": [
       "   id class  cap-diameter cap-shape cap-surface cap-color  \\\n",
       "0   0     e          8.80         f           s         u   \n",
       "1   1     p          4.51         x           h         o   \n",
       "2   2     e          6.94         f           s         b   \n",
       "3   3     e          3.88         f           y         g   \n",
       "4   4     e          5.85         x           l         w   \n",
       "\n",
       "  does-bruise-or-bleed gill-attachment gill-spacing gill-color  ...  \\\n",
       "0                    f               a            c          w  ...   \n",
       "1                    f               a            c          n  ...   \n",
       "2                    f               x            c          w  ...   \n",
       "3                    f               s          NaN          g  ...   \n",
       "4                    f               d          NaN          w  ...   \n",
       "\n",
       "   stem-root  stem-surface stem-color veil-type veil-color has-ring ring-type  \\\n",
       "0        NaN           NaN          w       NaN        NaN        f         f   \n",
       "1        NaN             y          o       NaN        NaN        t         z   \n",
       "2        NaN             s          n       NaN        NaN        f         f   \n",
       "3        NaN           NaN          w       NaN        NaN        f         f   \n",
       "4        NaN           NaN          w       NaN        NaN        f         f   \n",
       "\n",
       "  spore-print-color habitat season  \n",
       "0               NaN       d      a  \n",
       "1               NaN       d      w  \n",
       "2               NaN       l      w  \n",
       "3               NaN       d      u  \n",
       "4               NaN       g      a  \n",
       "\n",
       "[5 rows x 22 columns]"
      ]
     },
     "execution_count": 3,
     "metadata": {},
     "output_type": "execute_result"
    }
   ],
   "source": [
    "train.head()"
   ]
  },
  {
   "cell_type": "code",
   "execution_count": 4,
   "id": "238e8893",
   "metadata": {
    "execution": {
     "iopub.execute_input": "2024-11-20T08:53:46.350085Z",
     "iopub.status.busy": "2024-11-20T08:53:46.349454Z",
     "iopub.status.idle": "2024-11-20T08:53:48.075637Z",
     "shell.execute_reply": "2024-11-20T08:53:48.074563Z"
    },
    "papermill": {
     "duration": 1.731713,
     "end_time": "2024-11-20T08:53:48.077455",
     "exception": false,
     "start_time": "2024-11-20T08:53:46.345742",
     "status": "completed"
    },
    "tags": []
   },
   "outputs": [
    {
     "name": "stdout",
     "output_type": "stream",
     "text": [
      "class 2\n",
      "cap-shape 74\n",
      "cap-surface 83\n",
      "cap-color 78\n",
      "does-bruise-or-bleed 26\n",
      "gill-attachment 78\n",
      "gill-spacing 48\n",
      "gill-color 63\n",
      "stem-root 38\n",
      "stem-surface 60\n",
      "stem-color 59\n",
      "veil-type 22\n",
      "veil-color 24\n",
      "has-ring 23\n",
      "ring-type 40\n",
      "spore-print-color 32\n",
      "habitat 52\n",
      "season 4\n"
     ]
    }
   ],
   "source": [
    "for col in train.select_dtypes(include = \"object\"):\n",
    "    print(col, train[col].nunique())"
   ]
  },
  {
   "cell_type": "code",
   "execution_count": 5,
   "id": "6aa8b19e",
   "metadata": {
    "execution": {
     "iopub.execute_input": "2024-11-20T08:53:48.084244Z",
     "iopub.status.busy": "2024-11-20T08:53:48.083555Z",
     "iopub.status.idle": "2024-11-20T08:53:50.139274Z",
     "shell.execute_reply": "2024-11-20T08:53:50.138346Z"
    },
    "papermill": {
     "duration": 2.060966,
     "end_time": "2024-11-20T08:53:50.141230",
     "exception": false,
     "start_time": "2024-11-20T08:53:48.080264",
     "status": "completed"
    },
    "tags": []
   },
   "outputs": [
    {
     "data": {
      "text/plain": [
       "id                            0\n",
       "class                         0\n",
       "cap-diameter                  4\n",
       "cap-shape                    40\n",
       "cap-surface              671023\n",
       "cap-color                    12\n",
       "does-bruise-or-bleed          8\n",
       "gill-attachment          523936\n",
       "gill-spacing            1258435\n",
       "gill-color                   57\n",
       "stem-height                   0\n",
       "stem-width                    0\n",
       "stem-root               2757023\n",
       "stem-surface            1980861\n",
       "stem-color                   38\n",
       "veil-type               2957493\n",
       "veil-color              2740947\n",
       "has-ring                     24\n",
       "ring-type                128880\n",
       "spore-print-color       2849682\n",
       "habitat                      45\n",
       "season                        0\n",
       "dtype: int64"
      ]
     },
     "execution_count": 5,
     "metadata": {},
     "output_type": "execute_result"
    }
   ],
   "source": [
    "train.isnull().sum()"
   ]
  },
  {
   "cell_type": "code",
   "execution_count": 6,
   "id": "430c5c77",
   "metadata": {
    "execution": {
     "iopub.execute_input": "2024-11-20T08:53:50.149141Z",
     "iopub.status.busy": "2024-11-20T08:53:50.148813Z",
     "iopub.status.idle": "2024-11-20T08:53:50.297285Z",
     "shell.execute_reply": "2024-11-20T08:53:50.296349Z"
    },
    "papermill": {
     "duration": 0.154242,
     "end_time": "2024-11-20T08:53:50.298974",
     "exception": false,
     "start_time": "2024-11-20T08:53:50.144732",
     "status": "completed"
    },
    "tags": []
   },
   "outputs": [
    {
     "data": {
      "text/plain": [
       "class\n",
       "p    1705396\n",
       "e    1411549\n",
       "Name: count, dtype: int64"
      ]
     },
     "execution_count": 6,
     "metadata": {},
     "output_type": "execute_result"
    }
   ],
   "source": [
    "train[\"class\"].value_counts()"
   ]
  },
  {
   "cell_type": "code",
   "execution_count": 7,
   "id": "68200a9a",
   "metadata": {
    "execution": {
     "iopub.execute_input": "2024-11-20T08:53:50.307249Z",
     "iopub.status.busy": "2024-11-20T08:53:50.306943Z",
     "iopub.status.idle": "2024-11-20T08:54:06.200490Z",
     "shell.execute_reply": "2024-11-20T08:54:06.199511Z"
    },
    "papermill": {
     "duration": 15.899326,
     "end_time": "2024-11-20T08:54:06.202645",
     "exception": false,
     "start_time": "2024-11-20T08:53:50.303319",
     "status": "completed"
    },
    "tags": []
   },
   "outputs": [],
   "source": [
    "trainna = train.fillna(\"None\")\n",
    "testna = test.fillna(\"None\")\n",
    "\n",
    "X = trainna.drop(\"class\",axis = 1)\n",
    "y = trainna[\"class\"]\n",
    "\n",
    "cat_cols = list(X.select_dtypes(include = \"object\").columns)\n",
    "X[cat_cols] = X[cat_cols].astype(\"string\")\n",
    "testna[cat_cols] = testna[cat_cols].astype(\"string\")"
   ]
  },
  {
   "cell_type": "code",
   "execution_count": 8,
   "id": "fd3f28bf",
   "metadata": {
    "execution": {
     "iopub.execute_input": "2024-11-20T08:54:06.209656Z",
     "iopub.status.busy": "2024-11-20T08:54:06.209373Z",
     "iopub.status.idle": "2024-11-20T09:32:30.717005Z",
     "shell.execute_reply": "2024-11-20T09:32:30.715967Z"
    },
    "papermill": {
     "duration": 2304.513171,
     "end_time": "2024-11-20T09:32:30.718838",
     "exception": false,
     "start_time": "2024-11-20T08:54:06.205667",
     "status": "completed"
    },
    "tags": []
   },
   "outputs": [
    {
     "name": "stdout",
     "output_type": "stream",
     "text": [
      "CatBoost Base Score Fold 1: 0.9827079115364145\n",
      "CatBoost Base Score Fold 2: 0.9826580043180656\n",
      "CatBoost Base Score Fold 3: 0.9830617399747371\n",
      "CatBoost Base Score Fold 4: 0.9829314432631654\n",
      "CatBoost Base Score Fold 5: 0.9829494128607906\n",
      "CatBoost Base Average Score: 0.9828617023906346\n"
     ]
    }
   ],
   "source": [
    "N_SPLITS = 5\n",
    "skf = StratifiedKFold(n_splits=N_SPLITS,random_state = 0, shuffle = True)\n",
    "\n",
    "base_params = {\"random_state\":42,\n",
    "              \"task_type\": \"GPU\",\n",
    "              \"verbose\":0,\n",
    "              \"early_stopping_rounds\":50}\n",
    "scores = []\n",
    "test_predictions = []\n",
    "\n",
    "for fold,(train_idx,val_idx) in enumerate(skf.split(X,y)):\n",
    "    X_train,X_val = X.iloc[train_idx],X.iloc[val_idx]\n",
    "    y_train,y_val = y.iloc[train_idx],y.iloc[val_idx]\n",
    "\n",
    "    trainDF = cat.Pool(X_train,y_train,cat_features = cat_cols)\n",
    "    valDF = cat.Pool(X_val,y_val,cat_features = cat_cols)\n",
    "\n",
    "    base_model = cat.CatBoostClassifier(**base_params)\n",
    "    base_model.fit(trainDF,\n",
    "                   eval_set= [valDF])\n",
    "\n",
    "    preds = base_model.predict(valDF)\n",
    "    score = matthews_corrcoef(y_val,preds)\n",
    "    scores.append(score)\n",
    "    \n",
    "    print(f\"CatBoost Base Score Fold {fold+1}:\", score)\n",
    "\n",
    "    test_preds = base_model.predict(testna)\n",
    "    test_predictions.append(test_preds)\n",
    "\n",
    "print(\"CatBoost Base Average Score:\", np.mean(scores))\n",
    "                \n"
   ]
  },
  {
   "cell_type": "code",
   "execution_count": 9,
   "id": "97e36ad5",
   "metadata": {
    "execution": {
     "iopub.execute_input": "2024-11-20T09:32:30.726459Z",
     "iopub.status.busy": "2024-11-20T09:32:30.726160Z",
     "iopub.status.idle": "2024-11-20T09:32:30.764269Z",
     "shell.execute_reply": "2024-11-20T09:32:30.763279Z"
    },
    "papermill": {
     "duration": 0.043917,
     "end_time": "2024-11-20T09:32:30.766073",
     "exception": false,
     "start_time": "2024-11-20T09:32:30.722156",
     "status": "completed"
    },
    "tags": []
   },
   "outputs": [
    {
     "data": {
      "text/html": [
       "<div>\n",
       "<style scoped>\n",
       "    .dataframe tbody tr th:only-of-type {\n",
       "        vertical-align: middle;\n",
       "    }\n",
       "\n",
       "    .dataframe tbody tr th {\n",
       "        vertical-align: top;\n",
       "    }\n",
       "\n",
       "    .dataframe thead th {\n",
       "        text-align: right;\n",
       "    }\n",
       "</style>\n",
       "<table border=\"1\" class=\"dataframe\">\n",
       "  <thead>\n",
       "    <tr style=\"text-align: right;\">\n",
       "      <th></th>\n",
       "      <th>Fold1</th>\n",
       "      <th>Fold2</th>\n",
       "      <th>Fold3</th>\n",
       "      <th>Fold4</th>\n",
       "      <th>Fold5</th>\n",
       "    </tr>\n",
       "  </thead>\n",
       "  <tbody>\n",
       "    <tr>\n",
       "      <th>0</th>\n",
       "      <td>e</td>\n",
       "      <td>e</td>\n",
       "      <td>e</td>\n",
       "      <td>e</td>\n",
       "      <td>e</td>\n",
       "    </tr>\n",
       "    <tr>\n",
       "      <th>1</th>\n",
       "      <td>p</td>\n",
       "      <td>p</td>\n",
       "      <td>p</td>\n",
       "      <td>p</td>\n",
       "      <td>p</td>\n",
       "    </tr>\n",
       "    <tr>\n",
       "      <th>2</th>\n",
       "      <td>p</td>\n",
       "      <td>p</td>\n",
       "      <td>p</td>\n",
       "      <td>p</td>\n",
       "      <td>p</td>\n",
       "    </tr>\n",
       "    <tr>\n",
       "      <th>3</th>\n",
       "      <td>p</td>\n",
       "      <td>p</td>\n",
       "      <td>p</td>\n",
       "      <td>p</td>\n",
       "      <td>p</td>\n",
       "    </tr>\n",
       "    <tr>\n",
       "      <th>4</th>\n",
       "      <td>e</td>\n",
       "      <td>e</td>\n",
       "      <td>e</td>\n",
       "      <td>e</td>\n",
       "      <td>e</td>\n",
       "    </tr>\n",
       "  </tbody>\n",
       "</table>\n",
       "</div>"
      ],
      "text/plain": [
       "  Fold1 Fold2 Fold3 Fold4 Fold5\n",
       "0     e     e     e     e     e\n",
       "1     p     p     p     p     p\n",
       "2     p     p     p     p     p\n",
       "3     p     p     p     p     p\n",
       "4     e     e     e     e     e"
      ]
     },
     "execution_count": 9,
     "metadata": {},
     "output_type": "execute_result"
    }
   ],
   "source": [
    "test_results = pd.DataFrame(np.array(test_predictions).T,columns = [\"Fold1\",\"Fold2\",\"Fold3\",\"Fold4\",\"Fold5\"])\n",
    "test_results.head()"
   ]
  },
  {
   "cell_type": "code",
   "execution_count": 10,
   "id": "720be957",
   "metadata": {
    "execution": {
     "iopub.execute_input": "2024-11-20T09:32:30.773592Z",
     "iopub.status.busy": "2024-11-20T09:32:30.773277Z",
     "iopub.status.idle": "2024-11-20T09:37:12.560778Z",
     "shell.execute_reply": "2024-11-20T09:37:12.560043Z"
    },
    "papermill": {
     "duration": 281.79369,
     "end_time": "2024-11-20T09:37:12.563046",
     "exception": false,
     "start_time": "2024-11-20T09:32:30.769356",
     "status": "completed"
    },
    "tags": []
   },
   "outputs": [],
   "source": [
    "submission = pd.read_csv(\"/kaggle/input/playground-series-s4e8/sample_submission.csv\")\n",
    "submission[\"class\"] = test_results.mode(axis = 1)[0].values\n",
    "submission.to_csv(\"submission.csv\", index=False)"
   ]
  }
 ],
 "metadata": {
  "kaggle": {
   "accelerator": "nvidiaTeslaT4",
   "dataSources": [
    {
     "databundleVersionId": 9045607,
     "sourceId": 76727,
     "sourceType": "competition"
    }
   ],
   "dockerImageVersionId": 30787,
   "isGpuEnabled": true,
   "isInternetEnabled": true,
   "language": "python",
   "sourceType": "notebook"
  },
  "kernelspec": {
   "display_name": "Python 3",
   "language": "python",
   "name": "python3"
  },
  "language_info": {
   "codemirror_mode": {
    "name": "ipython",
    "version": 3
   },
   "file_extension": ".py",
   "mimetype": "text/x-python",
   "name": "python",
   "nbconvert_exporter": "python",
   "pygments_lexer": "ipython3",
   "version": "3.10.14"
  },
  "papermill": {
   "default_parameters": {},
   "duration": 2624.390297,
   "end_time": "2024-11-20T09:37:14.189151",
   "environment_variables": {},
   "exception": null,
   "input_path": "__notebook__.ipynb",
   "output_path": "__notebook__.ipynb",
   "parameters": {},
   "start_time": "2024-11-20T08:53:29.798854",
   "version": "2.6.0"
  }
 },
 "nbformat": 4,
 "nbformat_minor": 5
}
