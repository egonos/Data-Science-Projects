{
 "cells": [
  {
   "cell_type": "code",
   "execution_count": 1,
   "id": "67d76aba",
   "metadata": {
    "_cell_guid": "b1076dfc-b9ad-4769-8c92-a6c4dae69d19",
    "_uuid": "8f2839f25d086af736a60e9eeb907d3b93b6e0e5",
    "execution": {
     "iopub.execute_input": "2024-11-20T12:09:20.787665Z",
     "iopub.status.busy": "2024-11-20T12:09:20.787182Z",
     "iopub.status.idle": "2024-11-20T12:09:24.780580Z",
     "shell.execute_reply": "2024-11-20T12:09:24.779530Z"
    },
    "papermill": {
     "duration": 4.00026,
     "end_time": "2024-11-20T12:09:24.783002",
     "exception": false,
     "start_time": "2024-11-20T12:09:20.782742",
     "status": "completed"
    },
    "tags": []
   },
   "outputs": [],
   "source": [
    "import numpy as np\n",
    "import pandas as pd\n",
    "import lightgbm as lgb\n",
    "from sklearn.model_selection import StratifiedKFold\n",
    "from sklearn.metrics import matthews_corrcoef"
   ]
  },
  {
   "cell_type": "code",
   "execution_count": 2,
   "id": "d9e8e3aa",
   "metadata": {
    "execution": {
     "iopub.execute_input": "2024-11-20T12:09:24.789983Z",
     "iopub.status.busy": "2024-11-20T12:09:24.789111Z",
     "iopub.status.idle": "2024-11-20T12:09:40.802117Z",
     "shell.execute_reply": "2024-11-20T12:09:40.800930Z"
    },
    "papermill": {
     "duration": 16.019051,
     "end_time": "2024-11-20T12:09:40.804646",
     "exception": false,
     "start_time": "2024-11-20T12:09:24.785595",
     "status": "completed"
    },
    "tags": []
   },
   "outputs": [],
   "source": [
    "train = pd.read_csv(\"/kaggle/input/playground-series-s4e8/train.csv\",index_col = \"id\")\n",
    "test = pd.read_csv(\"/kaggle/input/playground-series-s4e8/test.csv\",index_col = \"id\")"
   ]
  },
  {
   "cell_type": "code",
   "execution_count": 3,
   "id": "01619595",
   "metadata": {
    "execution": {
     "iopub.execute_input": "2024-11-20T12:09:40.810804Z",
     "iopub.status.busy": "2024-11-20T12:09:40.810418Z",
     "iopub.status.idle": "2024-11-20T12:09:48.213847Z",
     "shell.execute_reply": "2024-11-20T12:09:48.212651Z"
    },
    "papermill": {
     "duration": 7.409434,
     "end_time": "2024-11-20T12:09:48.216426",
     "exception": false,
     "start_time": "2024-11-20T12:09:40.806992",
     "status": "completed"
    },
    "tags": []
   },
   "outputs": [],
   "source": [
    "X = train.drop(\"class\",axis = 1)\n",
    "y = train[\"class\"]\n",
    "\n",
    "cat_cols = list(X.select_dtypes(include = \"object\").columns)\n",
    "X[cat_cols] = X[cat_cols].astype(\"category\")\n",
    "test[cat_cols] = test[cat_cols].astype(\"category\")"
   ]
  },
  {
   "cell_type": "code",
   "execution_count": 4,
   "id": "216f7fdd",
   "metadata": {
    "execution": {
     "iopub.execute_input": "2024-11-20T12:09:48.222291Z",
     "iopub.status.busy": "2024-11-20T12:09:48.221905Z",
     "iopub.status.idle": "2024-11-20T12:17:52.852310Z",
     "shell.execute_reply": "2024-11-20T12:17:52.851188Z"
    },
    "papermill": {
     "duration": 484.638281,
     "end_time": "2024-11-20T12:17:52.856946",
     "exception": false,
     "start_time": "2024-11-20T12:09:48.218665",
     "status": "completed"
    },
    "tags": []
   },
   "outputs": [
    {
     "name": "stdout",
     "output_type": "stream",
     "text": [
      "LGBM Base Score Fold 1: 0.9805006397368331\n",
      "LGBM Base Score Fold 2: 0.9805379563539303\n",
      "LGBM Base Score Fold 3: 0.9810287327353373\n",
      "LGBM Base Score Fold 4: 0.9806241276593243\n",
      "LGBM Base Score Fold 5: 0.980753927998497\n",
      "LGBM Base Average Score: 0.9806890768967843\n"
     ]
    }
   ],
   "source": [
    "N_SPLITS = 5\n",
    "skf = StratifiedKFold(n_splits=N_SPLITS,random_state = 0, shuffle = True)\n",
    "\n",
    "base_params = {\"random_state\":42,\n",
    "              \"verbose\":0,\n",
    "              \"early_stopping_round\":50}\n",
    "scores = []\n",
    "test_predictions = []\n",
    "\n",
    "for fold,(train_idx,val_idx) in enumerate(skf.split(X,y)):\n",
    "    X_train,X_val = X.iloc[train_idx],X.iloc[val_idx]\n",
    "    y_train,y_val = y.iloc[train_idx],y.iloc[val_idx]\n",
    "\n",
    "    base_model = lgb.LGBMClassifier(**base_params)\n",
    "    base_model.fit(X_train,y_train,\n",
    "                   eval_set= [(X_val,y_val)],\n",
    "                   categorical_feature = cat_cols\n",
    "                  )\n",
    "\n",
    "    preds = base_model.predict(X_val)\n",
    "    score = matthews_corrcoef(y_val,preds)\n",
    "    scores.append(score)\n",
    "    \n",
    "    print(f\"LGBM Base Score Fold {fold+1}:\", score)\n",
    "\n",
    "    test_preds = base_model.predict(test)\n",
    "    test_predictions.append(test_preds)\n",
    "\n",
    "print(\"LGBM Base Average Score:\", np.mean(scores))\n",
    "                "
   ]
  },
  {
   "cell_type": "code",
   "execution_count": 5,
   "id": "c42a2b46",
   "metadata": {
    "execution": {
     "iopub.execute_input": "2024-11-20T12:17:52.864580Z",
     "iopub.status.busy": "2024-11-20T12:17:52.863472Z",
     "iopub.status.idle": "2024-11-20T12:17:53.045400Z",
     "shell.execute_reply": "2024-11-20T12:17:53.044254Z"
    },
    "papermill": {
     "duration": 0.188168,
     "end_time": "2024-11-20T12:17:53.047752",
     "exception": false,
     "start_time": "2024-11-20T12:17:52.859584",
     "status": "completed"
    },
    "tags": []
   },
   "outputs": [
    {
     "data": {
      "text/html": [
       "<div>\n",
       "<style scoped>\n",
       "    .dataframe tbody tr th:only-of-type {\n",
       "        vertical-align: middle;\n",
       "    }\n",
       "\n",
       "    .dataframe tbody tr th {\n",
       "        vertical-align: top;\n",
       "    }\n",
       "\n",
       "    .dataframe thead th {\n",
       "        text-align: right;\n",
       "    }\n",
       "</style>\n",
       "<table border=\"1\" class=\"dataframe\">\n",
       "  <thead>\n",
       "    <tr style=\"text-align: right;\">\n",
       "      <th></th>\n",
       "      <th>Fold1</th>\n",
       "      <th>Fold2</th>\n",
       "      <th>Fold3</th>\n",
       "      <th>Fold4</th>\n",
       "      <th>Fold5</th>\n",
       "    </tr>\n",
       "  </thead>\n",
       "  <tbody>\n",
       "    <tr>\n",
       "      <th>0</th>\n",
       "      <td>e</td>\n",
       "      <td>e</td>\n",
       "      <td>e</td>\n",
       "      <td>e</td>\n",
       "      <td>e</td>\n",
       "    </tr>\n",
       "    <tr>\n",
       "      <th>1</th>\n",
       "      <td>p</td>\n",
       "      <td>p</td>\n",
       "      <td>p</td>\n",
       "      <td>p</td>\n",
       "      <td>p</td>\n",
       "    </tr>\n",
       "    <tr>\n",
       "      <th>2</th>\n",
       "      <td>p</td>\n",
       "      <td>p</td>\n",
       "      <td>p</td>\n",
       "      <td>p</td>\n",
       "      <td>p</td>\n",
       "    </tr>\n",
       "    <tr>\n",
       "      <th>3</th>\n",
       "      <td>p</td>\n",
       "      <td>p</td>\n",
       "      <td>p</td>\n",
       "      <td>p</td>\n",
       "      <td>p</td>\n",
       "    </tr>\n",
       "    <tr>\n",
       "      <th>4</th>\n",
       "      <td>e</td>\n",
       "      <td>e</td>\n",
       "      <td>e</td>\n",
       "      <td>e</td>\n",
       "      <td>e</td>\n",
       "    </tr>\n",
       "  </tbody>\n",
       "</table>\n",
       "</div>"
      ],
      "text/plain": [
       "  Fold1 Fold2 Fold3 Fold4 Fold5\n",
       "0     e     e     e     e     e\n",
       "1     p     p     p     p     p\n",
       "2     p     p     p     p     p\n",
       "3     p     p     p     p     p\n",
       "4     e     e     e     e     e"
      ]
     },
     "execution_count": 5,
     "metadata": {},
     "output_type": "execute_result"
    }
   ],
   "source": [
    "test_results = pd.DataFrame(np.array(test_predictions).T,columns = [\"Fold1\",\"Fold2\",\"Fold3\",\"Fold4\",\"Fold5\"])\n",
    "test_results.head()"
   ]
  },
  {
   "cell_type": "code",
   "execution_count": 6,
   "id": "da1c9ae4",
   "metadata": {
    "execution": {
     "iopub.execute_input": "2024-11-20T12:17:53.055305Z",
     "iopub.status.busy": "2024-11-20T12:17:53.054872Z",
     "iopub.status.idle": "2024-11-20T12:23:30.982922Z",
     "shell.execute_reply": "2024-11-20T12:23:30.981658Z"
    },
    "papermill": {
     "duration": 337.934729,
     "end_time": "2024-11-20T12:23:30.985508",
     "exception": false,
     "start_time": "2024-11-20T12:17:53.050779",
     "status": "completed"
    },
    "tags": []
   },
   "outputs": [],
   "source": [
    "submission = pd.read_csv(\"/kaggle/input/playground-series-s4e8/sample_submission.csv\")\n",
    "submission[\"class\"] = test_results.mode(axis = 1)[0].values\n",
    "submission.to_csv(\"submission.csv\", index=False)"
   ]
  }
 ],
 "metadata": {
  "kaggle": {
   "accelerator": "none",
   "dataSources": [
    {
     "databundleVersionId": 9045607,
     "sourceId": 76727,
     "sourceType": "competition"
    }
   ],
   "dockerImageVersionId": 30786,
   "isGpuEnabled": false,
   "isInternetEnabled": true,
   "language": "python",
   "sourceType": "notebook"
  },
  "kernelspec": {
   "display_name": "Python 3",
   "language": "python",
   "name": "python3"
  },
  "language_info": {
   "codemirror_mode": {
    "name": "ipython",
    "version": 3
   },
   "file_extension": ".py",
   "mimetype": "text/x-python",
   "name": "python",
   "nbconvert_exporter": "python",
   "pygments_lexer": "ipython3",
   "version": "3.10.14"
  },
  "papermill": {
   "default_parameters": {},
   "duration": 854.138483,
   "end_time": "2024-11-20T12:23:32.012190",
   "environment_variables": {},
   "exception": null,
   "input_path": "__notebook__.ipynb",
   "output_path": "__notebook__.ipynb",
   "parameters": {},
   "start_time": "2024-11-20T12:09:17.873707",
   "version": "2.6.0"
  }
 },
 "nbformat": 4,
 "nbformat_minor": 5
}
