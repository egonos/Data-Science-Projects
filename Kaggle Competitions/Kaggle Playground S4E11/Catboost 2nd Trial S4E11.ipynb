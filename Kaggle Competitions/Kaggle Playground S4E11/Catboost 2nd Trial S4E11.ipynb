{
 "cells": [
  {
   "cell_type": "code",
   "execution_count": 1,
   "id": "2387d5d9",
   "metadata": {
    "_cell_guid": "b1076dfc-b9ad-4769-8c92-a6c4dae69d19",
    "_uuid": "8f2839f25d086af736a60e9eeb907d3b93b6e0e5",
    "execution": {
     "iopub.execute_input": "2024-11-28T12:49:59.062637Z",
     "iopub.status.busy": "2024-11-28T12:49:59.061684Z",
     "iopub.status.idle": "2024-11-28T12:50:01.391702Z",
     "shell.execute_reply": "2024-11-28T12:50:01.391048Z"
    },
    "papermill": {
     "duration": 2.336803,
     "end_time": "2024-11-28T12:50:01.393681",
     "exception": false,
     "start_time": "2024-11-28T12:49:59.056878",
     "status": "completed"
    },
    "tags": []
   },
   "outputs": [],
   "source": [
    "import numpy as np\n",
    "import pandas as pd\n",
    "from sklearn.model_selection import StratifiedKFold\n",
    "import catboost as cat\n",
    "import optuna\n",
    "import warnings\n",
    "from sklearn.metrics import matthews_corrcoef\n",
    "warnings.filterwarnings(\"ignore\")"
   ]
  },
  {
   "cell_type": "code",
   "execution_count": 2,
   "id": "36cc6203",
   "metadata": {
    "execution": {
     "iopub.execute_input": "2024-11-28T12:50:01.400191Z",
     "iopub.status.busy": "2024-11-28T12:50:01.399819Z",
     "iopub.status.idle": "2024-11-28T12:50:02.189240Z",
     "shell.execute_reply": "2024-11-28T12:50:02.188469Z"
    },
    "papermill": {
     "duration": 0.794714,
     "end_time": "2024-11-28T12:50:02.191239",
     "exception": false,
     "start_time": "2024-11-28T12:50:01.396525",
     "status": "completed"
    },
    "tags": []
   },
   "outputs": [],
   "source": [
    "train = pd.read_csv(\"/kaggle/input/playground-series-s4e11/train.csv\").drop([\"id\",\"Name\"],axis =1) \n",
    "original = pd.read_csv(\"/kaggle/input/depression-surveydataset-for-analysis/final_depression_dataset_1.csv\").drop(\"Name\",axis = 1)\n",
    "original[\"Depression\"] = original[\"Depression\"].map({\"No\": 0, \"Yes\": 1})\n",
    "train = pd.concat([train,original])\n",
    "test = pd.read_csv(\"/kaggle/input/playground-series-s4e11/test.csv\")\n",
    "test = test.drop([\"id\",\"Name\"],axis = 1)"
   ]
  },
  {
   "cell_type": "code",
   "execution_count": 3,
   "id": "f1c7bf55",
   "metadata": {
    "execution": {
     "iopub.execute_input": "2024-11-28T12:50:02.197232Z",
     "iopub.status.busy": "2024-11-28T12:50:02.196968Z",
     "iopub.status.idle": "2024-11-28T12:50:02.904406Z",
     "shell.execute_reply": "2024-11-28T12:50:02.903442Z"
    },
    "papermill": {
     "duration": 0.712623,
     "end_time": "2024-11-28T12:50:02.906495",
     "exception": false,
     "start_time": "2024-11-28T12:50:02.193872",
     "status": "completed"
    },
    "tags": []
   },
   "outputs": [],
   "source": [
    "train.columns = [x.replace(\" \",\"_\") for x in train.columns.values]\n",
    "test.columns = [x.replace(\" \",\"_\") for x in test.columns.values]\n",
    "\n",
    "train = train.fillna(\"None\").astype(\"string\")\n",
    "test = test.fillna(\"None\").astype(\"string\")\n",
    "\n",
    "X = train.iloc[:,:-1]\n",
    "y = train.iloc[:,-1].astype(int)"
   ]
  },
  {
   "cell_type": "code",
   "execution_count": 4,
   "id": "0443c7cb",
   "metadata": {
    "execution": {
     "iopub.execute_input": "2024-11-28T12:50:02.912439Z",
     "iopub.status.busy": "2024-11-28T12:50:02.912174Z",
     "iopub.status.idle": "2024-11-28T12:50:02.948120Z",
     "shell.execute_reply": "2024-11-28T12:50:02.947346Z"
    },
    "papermill": {
     "duration": 0.040894,
     "end_time": "2024-11-28T12:50:02.949932",
     "exception": false,
     "start_time": "2024-11-28T12:50:02.909038",
     "status": "completed"
    },
    "tags": []
   },
   "outputs": [
    {
     "data": {
      "text/html": [
       "<div>\n",
       "<style scoped>\n",
       "    .dataframe tbody tr th:only-of-type {\n",
       "        vertical-align: middle;\n",
       "    }\n",
       "\n",
       "    .dataframe tbody tr th {\n",
       "        vertical-align: top;\n",
       "    }\n",
       "\n",
       "    .dataframe thead th {\n",
       "        text-align: right;\n",
       "    }\n",
       "</style>\n",
       "<table border=\"1\" class=\"dataframe\">\n",
       "  <thead>\n",
       "    <tr style=\"text-align: right;\">\n",
       "      <th></th>\n",
       "      <th>count_train</th>\n",
       "      <th>count_test</th>\n",
       "    </tr>\n",
       "    <tr>\n",
       "      <th>Sleep_Duration</th>\n",
       "      <th></th>\n",
       "      <th></th>\n",
       "    </tr>\n",
       "  </thead>\n",
       "  <tbody>\n",
       "    <tr>\n",
       "      <th>Less than 5 hours</th>\n",
       "      <td>39432</td>\n",
       "      <td>25661</td>\n",
       "    </tr>\n",
       "    <tr>\n",
       "      <th>7-8 hours</th>\n",
       "      <td>37627</td>\n",
       "      <td>24491</td>\n",
       "    </tr>\n",
       "    <tr>\n",
       "      <th>More than 8 hours</th>\n",
       "      <td>33348</td>\n",
       "      <td>22190</td>\n",
       "    </tr>\n",
       "    <tr>\n",
       "      <th>5-6 hours</th>\n",
       "      <td>32770</td>\n",
       "      <td>21404</td>\n",
       "    </tr>\n",
       "    <tr>\n",
       "      <th>3-4 hours</th>\n",
       "      <td>12</td>\n",
       "      <td>3</td>\n",
       "    </tr>\n",
       "  </tbody>\n",
       "</table>\n",
       "</div>"
      ],
      "text/plain": [
       "                   count_train  count_test\n",
       "Sleep_Duration                            \n",
       "Less than 5 hours        39432       25661\n",
       "7-8 hours                37627       24491\n",
       "More than 8 hours        33348       22190\n",
       "5-6 hours                32770       21404\n",
       "3-4 hours                   12           3"
      ]
     },
     "execution_count": 4,
     "metadata": {},
     "output_type": "execute_result"
    }
   ],
   "source": [
    "sleep = pd.DataFrame(X.Sleep_Duration.value_counts()).join(test.Sleep_Duration.value_counts(), how = \"outer\",lsuffix = \"_train\",rsuffix = \"_test\").fillna(0).sort_values(by = \"count_train\",ascending = False)\n",
    "sleep.head(5)"
   ]
  },
  {
   "cell_type": "code",
   "execution_count": 5,
   "id": "d2522df9",
   "metadata": {
    "execution": {
     "iopub.execute_input": "2024-11-28T12:50:02.956262Z",
     "iopub.status.busy": "2024-11-28T12:50:02.955659Z",
     "iopub.status.idle": "2024-11-28T12:50:02.982768Z",
     "shell.execute_reply": "2024-11-28T12:50:02.982088Z"
    },
    "papermill": {
     "duration": 0.031882,
     "end_time": "2024-11-28T12:50:02.984301",
     "exception": false,
     "start_time": "2024-11-28T12:50:02.952419",
     "status": "completed"
    },
    "tags": []
   },
   "outputs": [
    {
     "data": {
      "text/html": [
       "<div>\n",
       "<style scoped>\n",
       "    .dataframe tbody tr th:only-of-type {\n",
       "        vertical-align: middle;\n",
       "    }\n",
       "\n",
       "    .dataframe tbody tr th {\n",
       "        vertical-align: top;\n",
       "    }\n",
       "\n",
       "    .dataframe thead th {\n",
       "        text-align: right;\n",
       "    }\n",
       "</style>\n",
       "<table border=\"1\" class=\"dataframe\">\n",
       "  <thead>\n",
       "    <tr style=\"text-align: right;\">\n",
       "      <th></th>\n",
       "      <th>count_train</th>\n",
       "      <th>count_test</th>\n",
       "    </tr>\n",
       "    <tr>\n",
       "      <th>Profession</th>\n",
       "      <th></th>\n",
       "      <th></th>\n",
       "    </tr>\n",
       "  </thead>\n",
       "  <tbody>\n",
       "    <tr>\n",
       "      <th>None</th>\n",
       "      <td>37303</td>\n",
       "      <td>24632</td>\n",
       "    </tr>\n",
       "    <tr>\n",
       "      <th>Teacher</th>\n",
       "      <td>25228</td>\n",
       "      <td>16385</td>\n",
       "    </tr>\n",
       "    <tr>\n",
       "      <th>Content Writer</th>\n",
       "      <td>7930</td>\n",
       "      <td>5187</td>\n",
       "    </tr>\n",
       "    <tr>\n",
       "      <th>Architect</th>\n",
       "      <td>4443</td>\n",
       "      <td>2982</td>\n",
       "    </tr>\n",
       "    <tr>\n",
       "      <th>Consultant</th>\n",
       "      <td>4301</td>\n",
       "      <td>2920</td>\n",
       "    </tr>\n",
       "  </tbody>\n",
       "</table>\n",
       "</div>"
      ],
      "text/plain": [
       "                count_train  count_test\n",
       "Profession                             \n",
       "None                  37303       24632\n",
       "Teacher               25228       16385\n",
       "Content Writer         7930        5187\n",
       "Architect              4443        2982\n",
       "Consultant             4301        2920"
      ]
     },
     "execution_count": 5,
     "metadata": {},
     "output_type": "execute_result"
    }
   ],
   "source": [
    "profession = pd.DataFrame(X.Profession.value_counts()).join(test.Profession.value_counts(), how = \"outer\",lsuffix = \"_train\",rsuffix = \"_test\").fillna(0).sort_values(by = \"count_train\",ascending = False)\n",
    "rare_profession = list(profession[(profession.count_train < 200) & (profession.count_test < 200)].index)\n",
    "profession.head(5)"
   ]
  },
  {
   "cell_type": "code",
   "execution_count": 6,
   "id": "c4f7628f",
   "metadata": {
    "execution": {
     "iopub.execute_input": "2024-11-28T12:50:02.990146Z",
     "iopub.status.busy": "2024-11-28T12:50:02.989919Z",
     "iopub.status.idle": "2024-11-28T12:50:03.018441Z",
     "shell.execute_reply": "2024-11-28T12:50:03.017672Z"
    },
    "papermill": {
     "duration": 0.033375,
     "end_time": "2024-11-28T12:50:03.020135",
     "exception": false,
     "start_time": "2024-11-28T12:50:02.986760",
     "status": "completed"
    },
    "tags": []
   },
   "outputs": [
    {
     "data": {
      "text/html": [
       "<div>\n",
       "<style scoped>\n",
       "    .dataframe tbody tr th:only-of-type {\n",
       "        vertical-align: middle;\n",
       "    }\n",
       "\n",
       "    .dataframe tbody tr th {\n",
       "        vertical-align: top;\n",
       "    }\n",
       "\n",
       "    .dataframe thead th {\n",
       "        text-align: right;\n",
       "    }\n",
       "</style>\n",
       "<table border=\"1\" class=\"dataframe\">\n",
       "  <thead>\n",
       "    <tr style=\"text-align: right;\">\n",
       "      <th></th>\n",
       "      <th>count_train</th>\n",
       "      <th>count_test</th>\n",
       "    </tr>\n",
       "    <tr>\n",
       "      <th>Dietary_Habits</th>\n",
       "      <th></th>\n",
       "      <th></th>\n",
       "    </tr>\n",
       "  </thead>\n",
       "  <tbody>\n",
       "    <tr>\n",
       "      <th>Moderate</th>\n",
       "      <td>50537</td>\n",
       "      <td>33018</td>\n",
       "    </tr>\n",
       "    <tr>\n",
       "      <th>Unhealthy</th>\n",
       "      <td>47109</td>\n",
       "      <td>30786</td>\n",
       "    </tr>\n",
       "    <tr>\n",
       "      <th>Healthy</th>\n",
       "      <td>45583</td>\n",
       "      <td>29966</td>\n",
       "    </tr>\n",
       "    <tr>\n",
       "      <th>None</th>\n",
       "      <td>4</td>\n",
       "      <td>5</td>\n",
       "    </tr>\n",
       "    <tr>\n",
       "      <th>No</th>\n",
       "      <td>2</td>\n",
       "      <td>6</td>\n",
       "    </tr>\n",
       "  </tbody>\n",
       "</table>\n",
       "</div>"
      ],
      "text/plain": [
       "                count_train  count_test\n",
       "Dietary_Habits                         \n",
       "Moderate              50537       33018\n",
       "Unhealthy             47109       30786\n",
       "Healthy               45583       29966\n",
       "None                      4           5\n",
       "No                        2           6"
      ]
     },
     "execution_count": 6,
     "metadata": {},
     "output_type": "execute_result"
    }
   ],
   "source": [
    "habits = pd.DataFrame(X.Dietary_Habits.value_counts()).join(test.Dietary_Habits.value_counts(), how = \"outer\",lsuffix = \"_train\",rsuffix = \"_test\").fillna(0).sort_values(by = \"count_train\",ascending = False)\n",
    "habits.head(5)"
   ]
  },
  {
   "cell_type": "code",
   "execution_count": 7,
   "id": "6c88817c",
   "metadata": {
    "execution": {
     "iopub.execute_input": "2024-11-28T12:50:03.027818Z",
     "iopub.status.busy": "2024-11-28T12:50:03.027152Z",
     "iopub.status.idle": "2024-11-28T12:50:05.258795Z",
     "shell.execute_reply": "2024-11-28T12:50:05.258088Z"
    },
    "papermill": {
     "duration": 2.236967,
     "end_time": "2024-11-28T12:50:05.260721",
     "exception": false,
     "start_time": "2024-11-28T12:50:03.023754",
     "status": "completed"
    },
    "tags": []
   },
   "outputs": [],
   "source": [
    "sleep_duration_map = {\"4-5 hours\": \"Less than 5 hours\",\n",
    "                     \"2-3 hours\": \"Less than 5 hours\",\n",
    "                     \"4-6 hours\": \"5-6 hours\",\n",
    "                     \"6-8 hours\":\"7-8 hours\",\n",
    "                     \"1-6 hours\": \"Less than 5 hours\",\n",
    "                     \"No\": \"None\",\n",
    "                     \"Unhealthy\": \"None\",\n",
    "                     \"45\": \"None\",\n",
    "                     \"10-11 hours\": \"More than 8 hours\",\n",
    "                     \"9-11 hours\": \"More than 8 hours\",\n",
    "                     \"8 hours\": \"7-8 hours\",\n",
    "                     \"1-2 hours\": \"Less than 5 hours\",\n",
    "                     \"40-45 hours\":\"None\",\n",
    "                     \"Moderate\":\"None\",\n",
    "                     \"55-66 hours\":\"More than 8 hours\",\n",
    "                     \"1-3 hours\": \"Less than 5 hours\",\n",
    "                     \"Indore\":\"None\",\n",
    "                     \"35-36 hours\":\"5-6 hours\",\n",
    "                     \"10-6 hours\":\"None\",\n",
    "                     \"9-6 hours\":\"None\",\n",
    "                     \"Pune\": \"None\",\n",
    "                     \"than 5 hours\":\"None\",\n",
    "                     \"49 hours\": \"None\",\n",
    "                     \"Work_Study_Hours\":\"None\",\n",
    "                     \"3-6 hours\":\"Less than 5 hours\",\n",
    "                     \"45-48 hours\": \"None\",\n",
    "                     \"9-5\": \"None\",\n",
    "                     \"9-5 hours\":\"None\",\n",
    "                     \"3-4 hours\": \"Less than 5 hours\",\n",
    "                     \"Sleep_Duration\": \"None\",\n",
    "                     \"8-9 hours\": \"More than 8 hours\",\n",
    "                     \"Meerut\": \"None\",\n",
    "                     'Vivan': \"None\",\n",
    "                     'Have_you_ever_had_suicidal_thoughts':\"None\",\n",
    "                     '8-89 hours':\"None\",\n",
    "                     '50-75 hours':\"None\",\n",
    "                     '60-65 hours': \"More than 8 hours\",\n",
    "                     '0': \"None\",\n",
    "                     '6 hours':\"5-6 hours\",\n",
    "                     '9-10 hours': \"More than 8 hours\",\n",
    "                     '20-21 hours': \"Less than 5 hours\"}\n",
    "\n",
    "X.Sleep_Duration = X.Sleep_Duration.replace(sleep_duration_map)\n",
    "test.Sleep_Duration = test.Sleep_Duration.replace(sleep_duration_map)\n",
    "\n",
    "rare_profession_map = {key: \"None\" for key in rare_profession}\n",
    "X.Profession = X.Profession.replace(rare_profession_map)\n",
    "test.Profession = test.Profession.replace(rare_profession_map)\n",
    "\n",
    "dietary_habits_map = {\"Less than Healthy\": \"Unhealthy\",\n",
    "                     \"More Healthy\": \"Healthy\",\n",
    "                     \"Less Healthy\": \"Unhealthy\",\n",
    "                     \"No Healthy\": \"Unhealthy\"}\n",
    "X[\"Dietary_Habits\"] = X.Dietary_Habits.replace(dietary_habits_map)\n",
    "test[\"Dietary_Habits\"] = test.Dietary_Habits.replace(dietary_habits_map)\n",
    "\n",
    "rare_habits = [x for x in set(X.Dietary_Habits.unique()).union(test.Dietary_Habits.unique()) if x not in [\"Healthy\",\"Unhealthy\",\"Moderate\",\"None\"]]\n",
    "rare_habits_map = {key: \"None\" for key in rare_habits}\n",
    "X.Dietary_Habits = X.Dietary_Habits.replace(rare_habits_map)\n",
    "test.Dietary_Habits = test.Dietary_Habits.replace(rare_habits_map)"
   ]
  },
  {
   "cell_type": "code",
   "execution_count": 8,
   "id": "d3a2ea96",
   "metadata": {
    "execution": {
     "iopub.execute_input": "2024-11-28T12:50:05.267421Z",
     "iopub.status.busy": "2024-11-28T12:50:05.267162Z",
     "iopub.status.idle": "2024-11-28T12:50:28.348617Z",
     "shell.execute_reply": "2024-11-28T12:50:28.347644Z"
    },
    "papermill": {
     "duration": 23.087061,
     "end_time": "2024-11-28T12:50:28.350714",
     "exception": false,
     "start_time": "2024-11-28T12:50:05.263653",
     "status": "completed"
    },
    "tags": []
   },
   "outputs": [
    {
     "name": "stdout",
     "output_type": "stream",
     "text": [
      "Fold 1 Score: 0.7933239350484856\n",
      "Fold 2 Score: 0.7951594615173696\n",
      "Fold 3 Score: 0.7954948210429407\n",
      "Fold 4 Score: 0.7962586613319232\n",
      "Fold 5 Score: 0.7914546891784096\n",
      "\n",
      "Mean OOF Score: 0.7943383136238257\n"
     ]
    }
   ],
   "source": [
    "N_SPLITS = 5\n",
    "\n",
    "cat_params = {\"objective\": \"CrossEntropy\",\n",
    "              \"eval_metric\": \"MCC\",\n",
    "              \"random_seed\": 42,\n",
    "              \"use_best_model\": True,\n",
    "              'learning_rate': 0.34045595894844477,\n",
    "              'max_depth': 6,\n",
    "              'l2_leaf_reg': 0.049221745524122555,\n",
    "              \"task_type\":\"GPU\"\n",
    "             }\n",
    "             \n",
    "cat_cols = X.columns.values\n",
    "\n",
    "skf = StratifiedKFold(n_splits=N_SPLITS,random_state = 0, shuffle = True)\n",
    "\n",
    "scores = []\n",
    "oof_pred_probs = np.zeros(len(y))\n",
    "test_predictions = []\n",
    "\n",
    "\n",
    "for fold,(train_idx,val_idx) in enumerate(skf.split(X,y)):\n",
    "    X_train,X_val = X.iloc[train_idx],X.iloc[val_idx]\n",
    "    y_train,y_val = y.iloc[train_idx],y.iloc[val_idx]\n",
    "    dtrain = cat.Pool(X_train,label = y_train,cat_features = cat_cols)\n",
    "    dval = cat.Pool(X_val,label = y_val,cat_features = cat_cols)\n",
    "\n",
    "    model = cat.train(params = cat_params,\n",
    "                      pool = dtrain,\n",
    "                      verbose = 0,\n",
    "                      eval_set=[dval],\n",
    "                      early_stopping_rounds=50,\n",
    "                      num_boost_round = 2000\n",
    "                     )\n",
    "    \n",
    "    pred_probs = model.predict(X_val,prediction_type=\"Probability\")[:,1]\n",
    "    preds = np.round(pred_probs).astype(int)\n",
    "    test_pred_probs = model.predict(test,prediction_type=\"Probability\")[:,1]\n",
    "    \n",
    "    oof_pred_probs[val_idx] += pred_probs\n",
    "    \n",
    "    test_predictions.append(test_pred_probs)\n",
    "    \n",
    "    score = matthews_corrcoef(preds,y_val)\n",
    "    print(f\"Fold {fold+1} Score:\", score)\n",
    "    scores.append(score)\n",
    "\n",
    "print(\"\\nMean OOF Score:\", np.mean(scores))"
   ]
  },
  {
   "cell_type": "code",
   "execution_count": 9,
   "id": "61ffece7",
   "metadata": {
    "execution": {
     "iopub.execute_input": "2024-11-28T12:50:28.358526Z",
     "iopub.status.busy": "2024-11-28T12:50:28.358243Z",
     "iopub.status.idle": "2024-11-28T12:50:28.822195Z",
     "shell.execute_reply": "2024-11-28T12:50:28.821264Z"
    },
    "papermill": {
     "duration": 0.469983,
     "end_time": "2024-11-28T12:50:28.824103",
     "exception": false,
     "start_time": "2024-11-28T12:50:28.354120",
     "status": "completed"
    },
    "tags": []
   },
   "outputs": [
    {
     "name": "stdout",
     "output_type": "stream",
     "text": [
      "      Fold1     Fold2     Fold3     Fold4     Fold5\n",
      "0  0.001417  0.002063  0.001333  0.001233  0.001794\n",
      "1  0.002591  0.001646  0.001207  0.001932  0.001787\n",
      "2  0.069210  0.078326  0.094881  0.100563  0.087103\n",
      "3  0.979970  0.984107  0.978240  0.975934  0.976955\n",
      "4  0.017179  0.024658  0.017789  0.020057  0.031229\n"
     ]
    }
   ],
   "source": [
    "test_results = pd.DataFrame(np.array(test_predictions).T,columns = [\"Fold1\",\"Fold2\",\"Fold3\",\"Fold4\",\"Fold5\"])\n",
    "print(test_results.head())\n",
    "labels = np.round(test_results.mean(axis = 1).values).astype(int)\n",
    "np.savetxt(\"oof_pred_probs_catboost.txt\",oof_pred_probs)\n",
    "np.savetxt(\"mean_test_probs_catboost.txt\",test_results.mean(axis = 1).values)"
   ]
  },
  {
   "cell_type": "code",
   "execution_count": 10,
   "id": "152490cf",
   "metadata": {
    "execution": {
     "iopub.execute_input": "2024-11-28T12:50:28.831891Z",
     "iopub.status.busy": "2024-11-28T12:50:28.831186Z",
     "iopub.status.idle": "2024-11-28T12:50:28.918603Z",
     "shell.execute_reply": "2024-11-28T12:50:28.917980Z"
    },
    "papermill": {
     "duration": 0.092921,
     "end_time": "2024-11-28T12:50:28.920287",
     "exception": false,
     "start_time": "2024-11-28T12:50:28.827366",
     "status": "completed"
    },
    "tags": []
   },
   "outputs": [],
   "source": [
    "submission = pd.read_csv(\"/kaggle/input/playground-series-s4e11/sample_submission.csv\")\n",
    "submission[\"Depression\"] = labels\n",
    "submission.to_csv(\"submission.csv\",index = False)"
   ]
  }
 ],
 "metadata": {
  "kaggle": {
   "accelerator": "nvidiaTeslaT4",
   "dataSources": [
    {
     "databundleVersionId": 10008389,
     "sourceId": 84895,
     "sourceType": "competition"
    },
    {
     "datasetId": 5868381,
     "sourceId": 9616093,
     "sourceType": "datasetVersion"
    }
   ],
   "dockerImageVersionId": 30786,
   "isGpuEnabled": true,
   "isInternetEnabled": true,
   "language": "python",
   "sourceType": "notebook"
  },
  "kernelspec": {
   "display_name": "Python 3",
   "language": "python",
   "name": "python3"
  },
  "language_info": {
   "codemirror_mode": {
    "name": "ipython",
    "version": 3
   },
   "file_extension": ".py",
   "mimetype": "text/x-python",
   "name": "python",
   "nbconvert_exporter": "python",
   "pygments_lexer": "ipython3",
   "version": "3.10.14"
  },
  "papermill": {
   "default_parameters": {},
   "duration": 32.910151,
   "end_time": "2024-11-28T12:50:29.540879",
   "environment_variables": {},
   "exception": null,
   "input_path": "__notebook__.ipynb",
   "output_path": "__notebook__.ipynb",
   "parameters": {},
   "start_time": "2024-11-28T12:49:56.630728",
   "version": "2.6.0"
  }
 },
 "nbformat": 4,
 "nbformat_minor": 5
}
