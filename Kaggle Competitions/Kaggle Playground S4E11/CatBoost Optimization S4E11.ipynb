{
 "cells": [
  {
   "cell_type": "code",
   "execution_count": 1,
   "id": "eb159d5b",
   "metadata": {
    "_cell_guid": "b1076dfc-b9ad-4769-8c92-a6c4dae69d19",
    "_uuid": "8f2839f25d086af736a60e9eeb907d3b93b6e0e5",
    "execution": {
     "iopub.execute_input": "2024-11-25T11:49:24.850777Z",
     "iopub.status.busy": "2024-11-25T11:49:24.850447Z",
     "iopub.status.idle": "2024-11-25T11:49:27.035167Z",
     "shell.execute_reply": "2024-11-25T11:49:27.034471Z"
    },
    "papermill": {
     "duration": 2.18991,
     "end_time": "2024-11-25T11:49:27.037148",
     "exception": false,
     "start_time": "2024-11-25T11:49:24.847238",
     "status": "completed"
    },
    "tags": []
   },
   "outputs": [],
   "source": [
    "import numpy as np\n",
    "import pandas as pd\n",
    "from sklearn.model_selection import StratifiedKFold\n",
    "import catboost as cat\n",
    "import optuna\n",
    "import warnings\n",
    "from sklearn.metrics import matthews_corrcoef\n",
    "warnings.filterwarnings(\"ignore\")"
   ]
  },
  {
   "cell_type": "code",
   "execution_count": 2,
   "id": "a7f1ca19",
   "metadata": {
    "execution": {
     "iopub.execute_input": "2024-11-25T11:49:27.042278Z",
     "iopub.status.busy": "2024-11-25T11:49:27.041904Z",
     "iopub.status.idle": "2024-11-25T11:49:27.845097Z",
     "shell.execute_reply": "2024-11-25T11:49:27.844392Z"
    },
    "papermill": {
     "duration": 0.807755,
     "end_time": "2024-11-25T11:49:27.847137",
     "exception": false,
     "start_time": "2024-11-25T11:49:27.039382",
     "status": "completed"
    },
    "tags": []
   },
   "outputs": [],
   "source": [
    "train = pd.read_csv(\"/kaggle/input/playground-series-s4e11/train.csv\").drop([\"id\",\"Name\"],axis =1) \n",
    "original = pd.read_csv(\"/kaggle/input/depression-surveydataset-for-analysis/final_depression_dataset_1.csv\").drop(\"Name\",axis = 1)\n",
    "original[\"Depression\"] = original[\"Depression\"].map({\"No\": 0, \"Yes\": 1})\n",
    "train = pd.concat([train,original])\n",
    "test = pd.read_csv(\"/kaggle/input/playground-series-s4e11/test.csv\")\n",
    "test = test.drop([\"id\",\"Name\"],axis = 1)"
   ]
  },
  {
   "cell_type": "code",
   "execution_count": 3,
   "id": "6ff6353e",
   "metadata": {
    "execution": {
     "iopub.execute_input": "2024-11-25T11:49:27.852722Z",
     "iopub.status.busy": "2024-11-25T11:49:27.851854Z",
     "iopub.status.idle": "2024-11-25T11:49:27.858448Z",
     "shell.execute_reply": "2024-11-25T11:49:27.857587Z"
    },
    "papermill": {
     "duration": 0.010845,
     "end_time": "2024-11-25T11:49:27.860004",
     "exception": false,
     "start_time": "2024-11-25T11:49:27.849159",
     "status": "completed"
    },
    "tags": []
   },
   "outputs": [],
   "source": [
    "def calculate_medians(df):\n",
    "\n",
    "    medians = {}\n",
    "    for column in df.columns:\n",
    "        if df[column].dtype != 'object': \n",
    "            medians[column] = df[column].median()\n",
    "    return medians\n",
    "\n",
    "def fill_missing_values(df, medians):\n",
    "\n",
    "    df_filled = df.copy()\n",
    "    for column in df_filled.columns:\n",
    "        if df_filled[column].dtype == 'object':\n",
    "            df_filled[column].fillna('None', inplace=True)\n",
    "        else:\n",
    "            if column in medians: \n",
    "                df_filled[column].fillna(medians[column], inplace=True)\n",
    "    return df_filled\n",
    "\n",
    "def find_categorical_columns(df):\n",
    "  \n",
    "    categorical_columns = [col for col in df.columns if df[col].dtype == 'object' or df[col].dtype.name == 'category']\n",
    "    return categorical_columns"
   ]
  },
  {
   "cell_type": "code",
   "execution_count": 4,
   "id": "e8c155f8",
   "metadata": {
    "execution": {
     "iopub.execute_input": "2024-11-25T11:49:27.864436Z",
     "iopub.status.busy": "2024-11-25T11:49:27.864185Z",
     "iopub.status.idle": "2024-11-25T11:49:28.088081Z",
     "shell.execute_reply": "2024-11-25T11:49:28.087122Z"
    },
    "papermill": {
     "duration": 0.228459,
     "end_time": "2024-11-25T11:49:28.090164",
     "exception": false,
     "start_time": "2024-11-25T11:49:27.861705",
     "status": "completed"
    },
    "tags": []
   },
   "outputs": [],
   "source": [
    "cat_cols = find_categorical_columns(train)\n",
    "train_medians = calculate_medians(train)\n",
    "\n",
    "train = fill_missing_values(train, train_medians)\n",
    "test = fill_missing_values(test, train_medians)\n",
    "\n",
    "X = train.iloc[:,:-1]\n",
    "X[cat_cols] = X[cat_cols].astype(\"string\")\n",
    "y = train.iloc[:,-1]"
   ]
  },
  {
   "cell_type": "code",
   "execution_count": 5,
   "id": "78793c8c",
   "metadata": {
    "execution": {
     "iopub.execute_input": "2024-11-25T11:49:28.095193Z",
     "iopub.status.busy": "2024-11-25T11:49:28.094902Z",
     "iopub.status.idle": "2024-11-25T12:26:39.773239Z",
     "shell.execute_reply": "2024-11-25T12:26:39.772418Z"
    },
    "papermill": {
     "duration": 2231.684323,
     "end_time": "2024-11-25T12:26:39.776431",
     "exception": false,
     "start_time": "2024-11-25T11:49:28.092108",
     "status": "completed"
    },
    "tags": []
   },
   "outputs": [
    {
     "name": "stderr",
     "output_type": "stream",
     "text": [
      "[I 2024-11-25 11:49:28,100] A new study created in memory with name: no-name-a8d65baf-6de9-4dfb-9b37-01a931551f89\n",
      "[I 2024-11-25 11:50:15,626] Trial 0 finished with value: 0.7916519211187476 and parameters: {'learning_rate': 0.019906548984239554, 'max_depth': 5, 'l2_leaf_reg': 6.298263012766542}. Best is trial 0 with value: 0.7916519211187476.\n",
      "[I 2024-11-25 11:52:01,626] Trial 1 finished with value: 0.7850017840866725 and parameters: {'learning_rate': 0.00593967489276428, 'max_depth': 8, 'l2_leaf_reg': 0.0248860283962132}. Best is trial 0 with value: 0.7916519211187476.\n",
      "[I 2024-11-25 11:52:25,635] Trial 2 finished with value: 0.7612087404631824 and parameters: {'learning_rate': 0.013881514275914707, 'max_depth': 4, 'l2_leaf_reg': 0.09763062000393523}. Best is trial 0 with value: 0.7916519211187476.\n",
      "[I 2024-11-25 11:52:35,426] Trial 3 finished with value: 0.7437305815454197 and parameters: {'learning_rate': 0.008637711454962792, 'max_depth': 4, 'l2_leaf_reg': 0.05131646564616684}. Best is trial 0 with value: 0.7916519211187476.\n",
      "[I 2024-11-25 11:53:27,392] Trial 4 finished with value: 0.7664999678018936 and parameters: {'learning_rate': 0.0019191453801732576, 'max_depth': 8, 'l2_leaf_reg': 0.0022622934399729447}. Best is trial 0 with value: 0.7916519211187476.\n",
      "[I 2024-11-25 11:53:54,911] Trial 5 finished with value: 0.7631167562337476 and parameters: {'learning_rate': 0.001378457094596834, 'max_depth': 9, 'l2_leaf_reg': 0.0011542370975367161}. Best is trial 0 with value: 0.7916519211187476.\n",
      "[I 2024-11-25 11:54:04,036] Trial 6 finished with value: 0.7390422968030814 and parameters: {'learning_rate': 0.002175181847921947, 'max_depth': 4, 'l2_leaf_reg': 0.74737320823022}. Best is trial 0 with value: 0.7916519211187476.\n",
      "[I 2024-11-25 11:56:17,053] Trial 7 finished with value: 0.7938986834313877 and parameters: {'learning_rate': 0.025305164004079523, 'max_depth': 10, 'l2_leaf_reg': 0.23763120433725884}. Best is trial 7 with value: 0.7938986834313877.\n",
      "[I 2024-11-25 11:56:48,162] Trial 8 finished with value: 0.758829816067157 and parameters: {'learning_rate': 0.00485541913968067, 'max_depth': 5, 'l2_leaf_reg': 6.0971287769151505}. Best is trial 7 with value: 0.7938986834313877.\n",
      "[I 2024-11-25 11:57:13,651] Trial 9 finished with value: 0.7577550185764669 and parameters: {'learning_rate': 0.004784574228784783, 'max_depth': 5, 'l2_leaf_reg': 0.006492826909179479}. Best is trial 7 with value: 0.7938986834313877.\n",
      "[I 2024-11-25 11:58:00,173] Trial 10 finished with value: 0.7913059946326862 and parameters: {'learning_rate': 0.1538838717487915, 'max_depth': 10, 'l2_leaf_reg': 0.5671449490694183}. Best is trial 7 with value: 0.7938986834313877.\n",
      "[I 2024-11-25 11:58:35,159] Trial 11 finished with value: 0.7945337651191131 and parameters: {'learning_rate': 0.06284450738935192, 'max_depth': 6, 'l2_leaf_reg': 5.3796586201139585}. Best is trial 11 with value: 0.7945337651191131.\n",
      "[I 2024-11-25 11:59:11,119] Trial 12 finished with value: 0.7952525967898246 and parameters: {'learning_rate': 0.08023313442963366, 'max_depth': 7, 'l2_leaf_reg': 0.6776381861486731}. Best is trial 12 with value: 0.7952525967898246.\n",
      "[I 2024-11-25 11:59:34,364] Trial 13 finished with value: 0.794574885813174 and parameters: {'learning_rate': 0.18094238500233126, 'max_depth': 7, 'l2_leaf_reg': 1.6132644439784096}. Best is trial 12 with value: 0.7952525967898246.\n",
      "[I 2024-11-25 11:59:48,463] Trial 14 finished with value: 0.7926317697179153 and parameters: {'learning_rate': 0.6540950306812122, 'max_depth': 7, 'l2_leaf_reg': 1.6635859567319968}. Best is trial 12 with value: 0.7952525967898246.\n",
      "[I 2024-11-25 12:00:08,298] Trial 15 finished with value: 0.7949583163924793 and parameters: {'learning_rate': 0.25287921297936455, 'max_depth': 7, 'l2_leaf_reg': 1.5962504702742426}. Best is trial 12 with value: 0.7952525967898246.\n",
      "[I 2024-11-25 12:00:23,659] Trial 16 finished with value: 0.7873057966412416 and parameters: {'learning_rate': 0.9592907512987102, 'max_depth': 8, 'l2_leaf_reg': 0.2828842928764221}. Best is trial 12 with value: 0.7952525967898246.\n",
      "[I 2024-11-25 12:00:48,151] Trial 17 finished with value: 0.7946532140550058 and parameters: {'learning_rate': 0.08168195929446949, 'max_depth': 6, 'l2_leaf_reg': 1.6666984746102025}. Best is trial 12 with value: 0.7952525967898246.\n",
      "[I 2024-11-25 12:01:04,033] Trial 18 finished with value: 0.7958774328031901 and parameters: {'learning_rate': 0.32304552289401306, 'max_depth': 3, 'l2_leaf_reg': 0.22908871195882405}. Best is trial 18 with value: 0.7958774328031901.\n",
      "[I 2024-11-25 12:01:18,644] Trial 19 finished with value: 0.795927453458743 and parameters: {'learning_rate': 0.35459400968818006, 'max_depth': 3, 'l2_leaf_reg': 0.021293656702007932}. Best is trial 19 with value: 0.795927453458743.\n",
      "[I 2024-11-25 12:01:31,356] Trial 20 finished with value: 0.7953202685111396 and parameters: {'learning_rate': 0.44849398875013946, 'max_depth': 3, 'l2_leaf_reg': 0.019193056254511842}. Best is trial 19 with value: 0.795927453458743.\n",
      "[I 2024-11-25 12:01:45,412] Trial 21 finished with value: 0.795108296039843 and parameters: {'learning_rate': 0.40340359670897896, 'max_depth': 3, 'l2_leaf_reg': 0.016364432977716274}. Best is trial 19 with value: 0.795927453458743.\n",
      "[I 2024-11-25 12:01:58,123] Trial 22 finished with value: 0.7944151328961555 and parameters: {'learning_rate': 0.421913496517275, 'max_depth': 3, 'l2_leaf_reg': 0.008511075707764071}. Best is trial 19 with value: 0.795927453458743.\n",
      "[I 2024-11-25 12:02:11,865] Trial 23 finished with value: 0.7946447884156644 and parameters: {'learning_rate': 0.33842808739680125, 'max_depth': 3, 'l2_leaf_reg': 0.055334220254347956}. Best is trial 19 with value: 0.795927453458743.\n",
      "[I 2024-11-25 12:02:34,204] Trial 24 finished with value: 0.7953221873398003 and parameters: {'learning_rate': 0.13359743033113017, 'max_depth': 3, 'l2_leaf_reg': 0.02400354183590292}. Best is trial 19 with value: 0.795927453458743.\n",
      "[I 2024-11-25 12:03:07,559] Trial 25 finished with value: 0.7938366320406554 and parameters: {'learning_rate': 0.04631801732080758, 'max_depth': 4, 'l2_leaf_reg': 0.1282204114645956}. Best is trial 19 with value: 0.795927453458743.\n",
      "[I 2024-11-25 12:03:28,443] Trial 26 finished with value: 0.7951966225560229 and parameters: {'learning_rate': 0.15699093014976093, 'max_depth': 3, 'l2_leaf_reg': 0.005278965583277159}. Best is trial 19 with value: 0.795927453458743.\n",
      "[I 2024-11-25 12:03:51,765] Trial 27 finished with value: 0.7951252701972015 and parameters: {'learning_rate': 0.11340226298188275, 'max_depth': 4, 'l2_leaf_reg': 0.03915981298727776}. Best is trial 19 with value: 0.795927453458743.\n",
      "[I 2024-11-25 12:04:03,159] Trial 28 finished with value: 0.7927602509094029 and parameters: {'learning_rate': 0.9371376250667225, 'max_depth': 5, 'l2_leaf_reg': 0.012137778817283097}. Best is trial 19 with value: 0.795927453458743.\n",
      "[I 2024-11-25 12:04:37,627] Trial 29 finished with value: 0.7931807057647682 and parameters: {'learning_rate': 0.03866030167712716, 'max_depth': 5, 'l2_leaf_reg': 0.14482129369580962}. Best is trial 19 with value: 0.795927453458743.\n",
      "[I 2024-11-25 12:04:53,419] Trial 30 finished with value: 0.7945486203902106 and parameters: {'learning_rate': 0.20804071063227347, 'max_depth': 3, 'l2_leaf_reg': 0.034304173055244726}. Best is trial 19 with value: 0.795927453458743.\n",
      "[I 2024-11-25 12:05:06,991] Trial 31 finished with value: 0.7955916691744329 and parameters: {'learning_rate': 0.56925757827089, 'max_depth': 3, 'l2_leaf_reg': 0.004467722168935578}. Best is trial 19 with value: 0.795927453458743.\n",
      "[I 2024-11-25 12:05:21,105] Trial 32 finished with value: 0.7936927719774547 and parameters: {'learning_rate': 0.6098666325662692, 'max_depth': 4, 'l2_leaf_reg': 0.003331171684150381}. Best is trial 19 with value: 0.795927453458743.\n",
      "[I 2024-11-25 12:05:37,823] Trial 33 finished with value: 0.7956462398751888 and parameters: {'learning_rate': 0.28641688833663914, 'max_depth': 3, 'l2_leaf_reg': 0.002301604950671477}. Best is trial 19 with value: 0.795927453458743.\n",
      "[I 2024-11-25 12:05:58,354] Trial 34 finished with value: 0.7954853044663077 and parameters: {'learning_rate': 0.2710516046624587, 'max_depth': 4, 'l2_leaf_reg': 0.0014322673956698457}. Best is trial 19 with value: 0.795927453458743.\n",
      "[I 2024-11-25 12:06:14,094] Trial 35 finished with value: 0.7947055571682281 and parameters: {'learning_rate': 0.6445835599723561, 'max_depth': 3, 'l2_leaf_reg': 0.003207704349027995}. Best is trial 19 with value: 0.795927453458743.\n",
      "[I 2024-11-25 12:06:31,360] Trial 36 finished with value: 0.7957222302841533 and parameters: {'learning_rate': 0.2849180766339805, 'max_depth': 4, 'l2_leaf_reg': 0.0747833907786508}. Best is trial 19 with value: 0.795927453458743.\n",
      "[I 2024-11-25 12:06:48,572] Trial 37 finished with value: 0.7527034779955546 and parameters: {'learning_rate': 0.014208154974443173, 'max_depth': 4, 'l2_leaf_reg': 0.06646597330193238}. Best is trial 19 with value: 0.795927453458743.\n",
      "[I 2024-11-25 12:07:03,414] Trial 38 finished with value: 0.7951822397301764 and parameters: {'learning_rate': 0.282892694610275, 'max_depth': 4, 'l2_leaf_reg': 0.2604454799523233}. Best is trial 19 with value: 0.795927453458743.\n",
      "[I 2024-11-25 12:07:20,341] Trial 39 finished with value: 0.7956867944144653 and parameters: {'learning_rate': 0.23351180297818763, 'max_depth': 4, 'l2_leaf_reg': 0.07860534840131966}. Best is trial 19 with value: 0.795927453458743.\n",
      "[I 2024-11-25 12:07:48,932] Trial 40 finished with value: 0.7949177730643718 and parameters: {'learning_rate': 0.10187509595245206, 'max_depth': 6, 'l2_leaf_reg': 0.08586404921981315}. Best is trial 19 with value: 0.795927453458743.\n",
      "[I 2024-11-25 12:08:05,563] Trial 41 finished with value: 0.7948388483509395 and parameters: {'learning_rate': 0.2111659234723372, 'max_depth': 4, 'l2_leaf_reg': 0.17643004524388808}. Best is trial 19 with value: 0.795927453458743.\n",
      "[I 2024-11-25 12:08:22,449] Trial 42 finished with value: 0.7954354095144802 and parameters: {'learning_rate': 0.31441538903939514, 'max_depth': 5, 'l2_leaf_reg': 0.44969121364035}. Best is trial 19 with value: 0.795927453458743.\n",
      "[I 2024-11-25 12:08:35,833] Trial 43 finished with value: 0.7953985123435601 and parameters: {'learning_rate': 0.49514914791736253, 'max_depth': 3, 'l2_leaf_reg': 0.08633074858615238}. Best is trial 19 with value: 0.795927453458743.\n",
      "[I 2024-11-25 12:08:52,079] Trial 44 finished with value: 0.7947435207271374 and parameters: {'learning_rate': 0.20510092700850296, 'max_depth': 5, 'l2_leaf_reg': 0.036655220859575156}. Best is trial 19 with value: 0.795927453458743.\n",
      "[I 2024-11-25 12:09:21,639] Trial 45 finished with value: 0.7945940567131304 and parameters: {'learning_rate': 0.061126438758929376, 'max_depth': 4, 'l2_leaf_reg': 0.0018277457476644579}. Best is trial 19 with value: 0.795927453458743.\n",
      "[I 2024-11-25 12:09:36,707] Trial 46 finished with value: 0.7952603046565587 and parameters: {'learning_rate': 0.32766036174826, 'max_depth': 3, 'l2_leaf_reg': 0.009311036312427256}. Best is trial 19 with value: 0.795927453458743.\n",
      "[I 2024-11-25 12:09:47,702] Trial 47 finished with value: 0.7935930470439365 and parameters: {'learning_rate': 0.7511209032030474, 'max_depth': 4, 'l2_leaf_reg': 0.4060062386299436}. Best is trial 19 with value: 0.795927453458743.\n",
      "[I 2024-11-25 12:10:27,580] Trial 48 finished with value: 0.7911757906991121 and parameters: {'learning_rate': 0.026584461604433493, 'max_depth': 3, 'l2_leaf_reg': 0.9506171626087616}. Best is trial 19 with value: 0.795927453458743.\n",
      "[I 2024-11-25 12:10:54,982] Trial 49 finished with value: 0.7958142595595451 and parameters: {'learning_rate': 0.1095404042140953, 'max_depth': 4, 'l2_leaf_reg': 0.18839652443317256}. Best is trial 19 with value: 0.795927453458743.\n",
      "[I 2024-11-25 12:11:30,777] Trial 50 finished with value: 0.7935961842639722 and parameters: {'learning_rate': 0.13400210522347936, 'max_depth': 9, 'l2_leaf_reg': 0.18346750812349463}. Best is trial 19 with value: 0.795927453458743.\n",
      "[I 2024-11-25 12:11:45,307] Trial 51 finished with value: 0.7947631000144032 and parameters: {'learning_rate': 0.22174229660762007, 'max_depth': 4, 'l2_leaf_reg': 0.10664461573214326}. Best is trial 19 with value: 0.795927453458743.\n",
      "[I 2024-11-25 12:12:10,413] Trial 52 finished with value: 0.7947242136343886 and parameters: {'learning_rate': 0.08865900560539135, 'max_depth': 5, 'l2_leaf_reg': 0.2961358677645481}. Best is trial 19 with value: 0.795927453458743.\n",
      "[I 2024-11-25 12:12:24,960] Trial 53 finished with value: 0.7951813803121581 and parameters: {'learning_rate': 0.38663016230098957, 'max_depth': 3, 'l2_leaf_reg': 0.06779905288220622}. Best is trial 19 with value: 0.795927453458743.\n",
      "[I 2024-11-25 12:12:44,725] Trial 54 finished with value: 0.795188560640789 and parameters: {'learning_rate': 0.16490805287055693, 'max_depth': 5, 'l2_leaf_reg': 0.19143823869399484}. Best is trial 19 with value: 0.795927453458743.\n",
      "[I 2024-11-25 12:13:02,032] Trial 55 finished with value: 0.7960102790706655 and parameters: {'learning_rate': 0.2582592219160502, 'max_depth': 4, 'l2_leaf_reg': 0.044904435465122475}. Best is trial 55 with value: 0.7960102790706655.\n",
      "[I 2024-11-25 12:13:16,338] Trial 56 finished with value: 0.751341239866376 and parameters: {'learning_rate': 0.0010695420736028078, 'max_depth': 6, 'l2_leaf_reg': 0.02292278352302812}. Best is trial 55 with value: 0.7960102790706655.\n",
      "[I 2024-11-25 12:13:26,675] Trial 57 finished with value: 0.74208300151633 and parameters: {'learning_rate': 0.003332772463327714, 'max_depth': 4, 'l2_leaf_reg': 0.040801120657856016}. Best is trial 55 with value: 0.7960102790706655.\n",
      "[I 2024-11-25 12:13:40,318] Trial 58 finished with value: 0.7938391855304959 and parameters: {'learning_rate': 0.4882545262448932, 'max_depth': 5, 'l2_leaf_reg': 0.02899401766253278}. Best is trial 55 with value: 0.7960102790706655.\n",
      "[I 2024-11-25 12:14:06,322] Trial 59 finished with value: 0.7941341200081556 and parameters: {'learning_rate': 0.06697854093113104, 'max_depth': 4, 'l2_leaf_reg': 0.015739834072213802}. Best is trial 55 with value: 0.7960102790706655.\n",
      "[I 2024-11-25 12:14:29,763] Trial 60 finished with value: 0.7959976113665809 and parameters: {'learning_rate': 0.12863800218457666, 'max_depth': 4, 'l2_leaf_reg': 0.0651484451910669}. Best is trial 55 with value: 0.7960102790706655.\n",
      "[I 2024-11-25 12:14:46,850] Trial 61 finished with value: 0.7943237212098746 and parameters: {'learning_rate': 0.1518973789852067, 'max_depth': 4, 'l2_leaf_reg': 0.062256575116552915}. Best is trial 55 with value: 0.7960102790706655.\n",
      "[I 2024-11-25 12:15:07,675] Trial 62 finished with value: 0.7941663693035766 and parameters: {'learning_rate': 0.1013801453038657, 'max_depth': 5, 'l2_leaf_reg': 0.10020980006938654}. Best is trial 55 with value: 0.7960102790706655.\n",
      "[I 2024-11-25 12:15:23,280] Trial 63 finished with value: 0.7944233831599836 and parameters: {'learning_rate': 0.24290479984494912, 'max_depth': 4, 'l2_leaf_reg': 0.04913530140513201}. Best is trial 55 with value: 0.7960102790706655.\n",
      "[I 2024-11-25 12:15:37,409] Trial 64 finished with value: 0.7955794083552581 and parameters: {'learning_rate': 0.3943377155060228, 'max_depth': 3, 'l2_leaf_reg': 0.13104630012152446}. Best is trial 55 with value: 0.7960102790706655.\n",
      "[I 2024-11-25 12:15:58,130] Trial 65 finished with value: 0.7947117212751251 and parameters: {'learning_rate': 0.120102778703241, 'max_depth': 4, 'l2_leaf_reg': 9.428958866124837}. Best is trial 55 with value: 0.7960102790706655.\n",
      "[I 2024-11-25 12:16:15,298] Trial 66 finished with value: 0.7950158597035155 and parameters: {'learning_rate': 0.1739009226520012, 'max_depth': 3, 'l2_leaf_reg': 0.32563969165700135}. Best is trial 55 with value: 0.7960102790706655.\n",
      "[I 2024-11-25 12:16:52,534] Trial 67 finished with value: 0.7935292232529616 and parameters: {'learning_rate': 0.046236290914864815, 'max_depth': 6, 'l2_leaf_reg': 0.0834789417766564}. Best is trial 55 with value: 0.7960102790706655.\n",
      "[I 2024-11-25 12:17:05,840] Trial 68 finished with value: 0.7963058578842899 and parameters: {'learning_rate': 0.3503544344869301, 'max_depth': 4, 'l2_leaf_reg': 0.049221745524122555}. Best is trial 68 with value: 0.7963058578842899.\n",
      "[I 2024-11-25 12:17:25,192] Trial 69 finished with value: 0.7921737228510716 and parameters: {'learning_rate': 0.360352338838554, 'max_depth': 8, 'l2_leaf_reg': 0.04937883503078018}. Best is trial 68 with value: 0.7963058578842899.\n",
      "[I 2024-11-25 12:17:38,335] Trial 70 finished with value: 0.7950613077614215 and parameters: {'learning_rate': 0.6723418700767317, 'max_depth': 3, 'l2_leaf_reg': 0.02992204326158133}. Best is trial 68 with value: 0.7963058578842899.\n",
      "[I 2024-11-25 12:17:53,611] Trial 71 finished with value: 0.7951147722879909 and parameters: {'learning_rate': 0.2578520359594324, 'max_depth': 4, 'l2_leaf_reg': 0.12887854747314653}. Best is trial 68 with value: 0.7963058578842899.\n",
      "[I 2024-11-25 12:18:07,400] Trial 72 finished with value: 0.7954310544397476 and parameters: {'learning_rate': 0.5113105015137891, 'max_depth': 4, 'l2_leaf_reg': 0.021827283982185627}. Best is trial 68 with value: 0.7963058578842899.\n",
      "[I 2024-11-25 12:18:18,554] Trial 73 finished with value: 0.7944904983514693 and parameters: {'learning_rate': 0.8164693571147931, 'max_depth': 4, 'l2_leaf_reg': 0.013986524028123386}. Best is trial 68 with value: 0.7963058578842899.\n",
      "[I 2024-11-25 12:18:39,077] Trial 74 finished with value: 0.7954142302068157 and parameters: {'learning_rate': 0.18980873946330823, 'max_depth': 5, 'l2_leaf_reg': 0.05084986774242338}. Best is trial 68 with value: 0.7963058578842899.\n",
      "[I 2024-11-25 12:18:58,458] Trial 75 finished with value: 0.7955960697704774 and parameters: {'learning_rate': 0.13927983667187363, 'max_depth': 4, 'l2_leaf_reg': 0.23312274165891977}. Best is trial 68 with value: 0.7963058578842899.\n",
      "[I 2024-11-25 12:19:12,931] Trial 76 finished with value: 0.7948260101079057 and parameters: {'learning_rate': 0.31062505464655865, 'max_depth': 3, 'l2_leaf_reg': 0.07085791125314463}. Best is trial 68 with value: 0.7963058578842899.\n",
      "[I 2024-11-25 12:19:28,373] Trial 77 finished with value: 0.7951559074482412 and parameters: {'learning_rate': 0.4361853512156216, 'max_depth': 3, 'l2_leaf_reg': 0.16671735822686592}. Best is trial 68 with value: 0.7963058578842899.\n",
      "[I 2024-11-25 12:19:46,287] Trial 78 finished with value: 0.7950976434203776 and parameters: {'learning_rate': 0.24835455311921611, 'max_depth': 5, 'l2_leaf_reg': 0.107758121672223}. Best is trial 68 with value: 0.7963058578842899.\n",
      "[I 2024-11-25 12:20:11,291] Trial 79 finished with value: 0.7940391796984071 and parameters: {'learning_rate': 0.07495420304342398, 'max_depth': 4, 'l2_leaf_reg': 0.040457654782524534}. Best is trial 68 with value: 0.7963058578842899.\n",
      "[I 2024-11-25 12:20:59,874] Trial 80 finished with value: 0.7890336369892069 and parameters: {'learning_rate': 0.017225391948232725, 'max_depth': 3, 'l2_leaf_reg': 0.9540852967069493}. Best is trial 68 with value: 0.7963058578842899.\n",
      "[I 2024-11-25 12:21:14,260] Trial 81 finished with value: 0.7955667670411607 and parameters: {'learning_rate': 0.31457985762270674, 'max_depth': 3, 'l2_leaf_reg': 0.001201662470508275}. Best is trial 68 with value: 0.7963058578842899.\n",
      "[I 2024-11-25 12:21:31,799] Trial 82 finished with value: 0.7948807715337118 and parameters: {'learning_rate': 0.1856579452968418, 'max_depth': 4, 'l2_leaf_reg': 0.07772765765705159}. Best is trial 68 with value: 0.7963058578842899.\n",
      "[I 2024-11-25 12:21:40,342] Trial 83 finished with value: 0.7242923789059181 and parameters: {'learning_rate': 0.008643510121863882, 'max_depth': 3, 'l2_leaf_reg': 0.01058091476984592}. Best is trial 68 with value: 0.7963058578842899.\n",
      "[I 2024-11-25 12:21:57,837] Trial 84 finished with value: 0.7957742850189975 and parameters: {'learning_rate': 0.2699222324688237, 'max_depth': 3, 'l2_leaf_reg': 0.22458564959087335}. Best is trial 68 with value: 0.7963058578842899.\n",
      "[I 2024-11-25 12:22:14,930] Trial 85 finished with value: 0.795780201799505 and parameters: {'learning_rate': 0.22945737925303303, 'max_depth': 4, 'l2_leaf_reg': 0.22622968275274374}. Best is trial 68 with value: 0.7963058578842899.\n",
      "[I 2024-11-25 12:23:03,446] Trial 86 finished with value: 0.7935561565776409 and parameters: {'learning_rate': 0.11521709777491472, 'max_depth': 9, 'l2_leaf_reg': 0.5129846013297544}. Best is trial 68 with value: 0.7963058578842899.\n",
      "[I 2024-11-25 12:23:16,323] Trial 87 finished with value: 0.7953403755906605 and parameters: {'learning_rate': 0.391116011526527, 'max_depth': 3, 'l2_leaf_reg': 0.2275731720930321}. Best is trial 68 with value: 0.7963058578842899.\n",
      "[I 2024-11-25 12:23:32,172] Trial 88 finished with value: 0.7954531616717576 and parameters: {'learning_rate': 0.5633876481149547, 'max_depth': 4, 'l2_leaf_reg': 0.3629598681777936}. Best is trial 68 with value: 0.7963058578842899.\n",
      "[I 2024-11-25 12:23:47,777] Trial 89 finished with value: 0.7960937170195441 and parameters: {'learning_rate': 0.34600445401073643, 'max_depth': 4, 'l2_leaf_reg': 0.01867146081499395}. Best is trial 68 with value: 0.7963058578842899.\n",
      "[I 2024-11-25 12:24:27,289] Trial 90 finished with value: 0.7886504289158347 and parameters: {'learning_rate': 0.22125805667092902, 'max_depth': 10, 'l2_leaf_reg': 0.0067141963849214345}. Best is trial 68 with value: 0.7963058578842899.\n",
      "[I 2024-11-25 12:24:44,219] Trial 91 finished with value: 0.7956796115487734 and parameters: {'learning_rate': 0.2754086094750124, 'max_depth': 4, 'l2_leaf_reg': 0.01874461928944714}. Best is trial 68 with value: 0.7963058578842899.\n",
      "[I 2024-11-25 12:24:58,525] Trial 92 finished with value: 0.7958409991899615 and parameters: {'learning_rate': 0.3357647851066715, 'max_depth': 4, 'l2_leaf_reg': 0.030727471484309887}. Best is trial 68 with value: 0.7963058578842899.\n",
      "[I 2024-11-25 12:25:12,596] Trial 93 finished with value: 0.7954944822037046 and parameters: {'learning_rate': 0.35256744802472895, 'max_depth': 4, 'l2_leaf_reg': 0.028901099898950615}. Best is trial 68 with value: 0.7963058578842899.\n",
      "[I 2024-11-25 12:25:25,648] Trial 94 finished with value: 0.7956169947305086 and parameters: {'learning_rate': 0.4566570181236894, 'max_depth': 3, 'l2_leaf_reg': 0.6767949030297651}. Best is trial 68 with value: 0.7963058578842899.\n",
      "[I 2024-11-25 12:25:43,468] Trial 95 finished with value: 0.7948097223994706 and parameters: {'learning_rate': 0.16702637001609305, 'max_depth': 4, 'l2_leaf_reg': 0.1548571688242802}. Best is trial 68 with value: 0.7963058578842899.\n",
      "[I 2024-11-25 12:25:57,246] Trial 96 finished with value: 0.7931796436325936 and parameters: {'learning_rate': 0.5394302321826488, 'max_depth': 5, 'l2_leaf_reg': 0.01925636188457258}. Best is trial 68 with value: 0.7963058578842899.\n",
      "[I 2024-11-25 12:26:11,119] Trial 97 finished with value: 0.7955800299063229 and parameters: {'learning_rate': 0.3418220416575923, 'max_depth': 3, 'l2_leaf_reg': 0.20933963574797876}. Best is trial 68 with value: 0.7963058578842899.\n",
      "[I 2024-11-25 12:26:28,470] Trial 98 finished with value: 0.7946364361797531 and parameters: {'learning_rate': 0.20076852870070794, 'max_depth': 4, 'l2_leaf_reg': 0.057316033539573784}. Best is trial 68 with value: 0.7963058578842899.\n",
      "[I 2024-11-25 12:26:39,768] Trial 99 finished with value: 0.7951256984446845 and parameters: {'learning_rate': 0.7178148784273714, 'max_depth': 3, 'l2_leaf_reg': 0.03403344377097654}. Best is trial 68 with value: 0.7963058578842899.\n"
     ]
    },
    {
     "name": "stdout",
     "output_type": "stream",
     "text": [
      "FrozenTrial(number=68, state=TrialState.COMPLETE, values=[0.7963058578842899], datetime_start=datetime.datetime(2024, 11, 25, 12, 16, 52, 535512), datetime_complete=datetime.datetime(2024, 11, 25, 12, 17, 5, 839669), params={'learning_rate': 0.3503544344869301, 'max_depth': 4, 'l2_leaf_reg': 0.049221745524122555}, user_attrs={}, system_attrs={}, intermediate_values={}, distributions={'learning_rate': FloatDistribution(high=1.0, log=True, low=0.001, step=None), 'max_depth': IntDistribution(high=10, log=False, low=3, step=1), 'l2_leaf_reg': FloatDistribution(high=10.0, log=True, low=0.001, step=None)}, trial_id=68, value=None)\n",
      "\n",
      "{'learning_rate': 0.3503544344869301, 'max_depth': 4, 'l2_leaf_reg': 0.049221745524122555}\n"
     ]
    }
   ],
   "source": [
    "N_SPLITS = 5\n",
    "def objective(trial):\n",
    "\n",
    "    \n",
    "    cat_params = {\"objective\": \"CrossEntropy\",\n",
    "                  \"eval_metric\": \"MCC\",\n",
    "                  \"learning_rate\": trial.suggest_float(\"learning_rate\",0.001,1, log = True),\n",
    "                  \"random_seed\": 42,\n",
    "                  \"use_best_model\": True,\n",
    "                  \"task_type\":\"GPU\",\n",
    "                  \"max_depth\": trial.suggest_int(\"max_depth\",3,10),\n",
    "                  \"l2_leaf_reg\": trial.suggest_float('l2_leaf_reg', 0.001, 10, log=True)\n",
    "                 }\n",
    "    \n",
    "    skf = StratifiedKFold(n_splits=N_SPLITS,random_state = 0, shuffle = True)\n",
    "    scores = []\n",
    "    for fold,(train_idx,val_idx) in enumerate(skf.split(X,y)):\n",
    "        X_train,X_val = X.iloc[train_idx],X.iloc[val_idx]\n",
    "        y_train,y_val = y.iloc[train_idx],y.iloc[val_idx]\n",
    "        dtrain = cat.Pool(X_train,label = y_train,cat_features = cat_cols)\n",
    "        dval = cat.Pool(X_val,label = y_val,cat_features = cat_cols)\n",
    "\n",
    "        model = cat.train(params = cat_params,\n",
    "                          pool = dtrain,\n",
    "                          verbose = 0,\n",
    "                          eval_set=[dval],\n",
    "                          early_stopping_rounds=50,\n",
    "                          num_boost_round = 2000\n",
    "                         )\n",
    "        preds = np.round(model.predict(X_val,prediction_type = \"Probability\")[:,1]).astype(int)\n",
    "        score = matthews_corrcoef(y_val,preds)\n",
    "        scores.append(score)\n",
    "\n",
    "    return np.mean(scores)\n",
    "\n",
    "study = optuna.create_study(direction=\"maximize\",\n",
    "                            pruner=optuna.pruners.HyperbandPruner(),\n",
    "                            sampler=optuna.samplers.TPESampler())\n",
    "study.optimize(objective, n_trials=100)\n",
    "\n",
    "print(study.best_trial)\n",
    "print()\n",
    "print(study.best_params)"
   ]
  },
  {
   "cell_type": "code",
   "execution_count": null,
   "id": "d7b51d01",
   "metadata": {
    "papermill": {
     "duration": 0.011504,
     "end_time": "2024-11-25T12:26:39.800410",
     "exception": false,
     "start_time": "2024-11-25T12:26:39.788906",
     "status": "completed"
    },
    "tags": []
   },
   "outputs": [],
   "source": []
  }
 ],
 "metadata": {
  "kaggle": {
   "accelerator": "nvidiaTeslaT4",
   "dataSources": [
    {
     "databundleVersionId": 10008389,
     "sourceId": 84895,
     "sourceType": "competition"
    },
    {
     "datasetId": 5868381,
     "sourceId": 9616093,
     "sourceType": "datasetVersion"
    }
   ],
   "dockerImageVersionId": 30787,
   "isGpuEnabled": true,
   "isInternetEnabled": true,
   "language": "python",
   "sourceType": "notebook"
  },
  "kernelspec": {
   "display_name": "Python 3",
   "language": "python",
   "name": "python3"
  },
  "language_info": {
   "codemirror_mode": {
    "name": "ipython",
    "version": 3
   },
   "file_extension": ".py",
   "mimetype": "text/x-python",
   "name": "python",
   "nbconvert_exporter": "python",
   "pygments_lexer": "ipython3",
   "version": "3.10.14"
  },
  "papermill": {
   "default_parameters": {},
   "duration": 2238.03588,
   "end_time": "2024-11-25T12:26:40.531325",
   "environment_variables": {},
   "exception": null,
   "input_path": "__notebook__.ipynb",
   "output_path": "__notebook__.ipynb",
   "parameters": {},
   "start_time": "2024-11-25T11:49:22.495445",
   "version": "2.6.0"
  }
 },
 "nbformat": 4,
 "nbformat_minor": 5
}
