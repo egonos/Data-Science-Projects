{
 "cells": [
  {
   "cell_type": "code",
   "execution_count": 1,
   "id": "ebaeac6d",
   "metadata": {
    "execution": {
     "iopub.execute_input": "2024-11-26T08:36:32.164614Z",
     "iopub.status.busy": "2024-11-26T08:36:32.164174Z",
     "iopub.status.idle": "2024-11-26T08:36:47.390962Z",
     "shell.execute_reply": "2024-11-26T08:36:47.389803Z"
    },
    "papermill": {
     "duration": 15.23397,
     "end_time": "2024-11-26T08:36:47.393322",
     "exception": false,
     "start_time": "2024-11-26T08:36:32.159352",
     "status": "completed"
    },
    "tags": []
   },
   "outputs": [
    {
     "name": "stdout",
     "output_type": "stream",
     "text": [
      "Collecting xgbimputer\r\n",
      "  Downloading xgbimputer-0.2.0-py3-none-any.whl.metadata (9.2 kB)\r\n",
      "Requirement already satisfied: numpy>=1.21 in /opt/conda/lib/python3.10/site-packages (from xgbimputer) (1.26.4)\r\n",
      "Requirement already satisfied: scikit-learn>=1.0 in /opt/conda/lib/python3.10/site-packages (from xgbimputer) (1.2.2)\r\n",
      "Requirement already satisfied: xgboost>=1.5 in /opt/conda/lib/python3.10/site-packages (from xgbimputer) (2.0.3)\r\n",
      "Requirement already satisfied: scipy>=1.3.2 in /opt/conda/lib/python3.10/site-packages (from scikit-learn>=1.0->xgbimputer) (1.14.1)\r\n",
      "Requirement already satisfied: joblib>=1.1.1 in /opt/conda/lib/python3.10/site-packages (from scikit-learn>=1.0->xgbimputer) (1.4.2)\r\n",
      "Requirement already satisfied: threadpoolctl>=2.0.0 in /opt/conda/lib/python3.10/site-packages (from scikit-learn>=1.0->xgbimputer) (3.5.0)\r\n",
      "Downloading xgbimputer-0.2.0-py3-none-any.whl (8.0 kB)\r\n",
      "Installing collected packages: xgbimputer\r\n",
      "Successfully installed xgbimputer-0.2.0\r\n"
     ]
    }
   ],
   "source": [
    "! pip install xgbimputer\n",
    "\n",
    "import pandas as pd\n",
    "import numpy as np\n",
    "import matplotlib.pyplot as plt\n",
    "import seaborn as sns\n",
    "\n",
    "import catboost as cat\n",
    "from xgbimputer import XGBImputer\n",
    "from sklearn.model_selection import StratifiedKFold\n",
    "from sklearn.metrics import accuracy_score, f1_score, roc_auc_score"
   ]
  },
  {
   "cell_type": "markdown",
   "id": "258641cc",
   "metadata": {
    "papermill": {
     "duration": 0.002684,
     "end_time": "2024-11-26T08:36:47.399387",
     "exception": false,
     "start_time": "2024-11-26T08:36:47.396703",
     "status": "completed"
    },
    "tags": []
   },
   "source": [
    "This experiment is influenced by [this](https://www.kaggle.com/code/sunilkumarmuduli/from-beginner-to-roc-star-the-a-to-z-guide) notebook. In summary, at that study all the missing values were filled with `None` and all the columns were specified as categorical. I just wanted to see instead of filling with `None`, using `XGBImputer` values could enchance the CatBoost algorithm."
   ]
  },
  {
   "cell_type": "code",
   "execution_count": 2,
   "id": "aed6a3eb",
   "metadata": {
    "execution": {
     "iopub.execute_input": "2024-11-26T08:36:47.407166Z",
     "iopub.status.busy": "2024-11-26T08:36:47.406526Z",
     "iopub.status.idle": "2024-11-26T08:36:48.552241Z",
     "shell.execute_reply": "2024-11-26T08:36:48.551332Z"
    },
    "papermill": {
     "duration": 1.15247,
     "end_time": "2024-11-26T08:36:48.554759",
     "exception": false,
     "start_time": "2024-11-26T08:36:47.402289",
     "status": "completed"
    },
    "tags": []
   },
   "outputs": [],
   "source": [
    "train1 = pd.read_csv('/kaggle/input/playground-series-s4e11/train.csv', index_col='id')\n",
    "test = pd.read_csv('/kaggle/input/playground-series-s4e11/test.csv', index_col='id')\n",
    "original = pd.read_csv('/kaggle/input/depression-surveydataset-for-analysis/final_depression_dataset_1.csv')\n",
    "original['Depression'] = original['Depression'].map({\"Yes\": 1, \"No\": 0})\n",
    "train = pd.concat([train1, original], ignore_index=True)\n",
    "\n",
    "y = train['Depression'].astype(int)\n",
    "X = train.drop(['Depression'], axis=1)\n",
    "cat_features = X.select_dtypes(include = \"object\").columns.values"
   ]
  },
  {
   "cell_type": "code",
   "execution_count": 3,
   "id": "771105ff",
   "metadata": {
    "execution": {
     "iopub.execute_input": "2024-11-26T08:36:48.564560Z",
     "iopub.status.busy": "2024-11-26T08:36:48.563549Z",
     "iopub.status.idle": "2024-11-26T08:36:48.569439Z",
     "shell.execute_reply": "2024-11-26T08:36:48.568317Z"
    },
    "papermill": {
     "duration": 0.013448,
     "end_time": "2024-11-26T08:36:48.572240",
     "exception": false,
     "start_time": "2024-11-26T08:36:48.558792",
     "status": "completed"
    },
    "tags": []
   },
   "outputs": [],
   "source": [
    "cat_feature_index = []\n",
    "for idx in cat_features:\n",
    "    cat_feature_index.append(X.columns.get_loc(idx))"
   ]
  },
  {
   "cell_type": "code",
   "execution_count": 4,
   "id": "6ede0eed",
   "metadata": {
    "execution": {
     "iopub.execute_input": "2024-11-26T08:36:48.580650Z",
     "iopub.status.busy": "2024-11-26T08:36:48.579921Z",
     "iopub.status.idle": "2024-11-26T08:55:29.936058Z",
     "shell.execute_reply": "2024-11-26T08:55:29.935038Z"
    },
    "papermill": {
     "duration": 1121.362845,
     "end_time": "2024-11-26T08:55:29.938393",
     "exception": false,
     "start_time": "2024-11-26T08:36:48.575548",
     "status": "completed"
    },
    "tags": []
   },
   "outputs": [
    {
     "name": "stdout",
     "output_type": "stream",
     "text": [
      "XGBImputer - Epoch: 1 | Categorical gamma: inf/6479.6667 | Numerical gamma: inf/0.0049089356\n",
      "XGBImputer - Epoch: 2 | Categorical gamma: 6479.6667/724.6667 | Numerical gamma: 0.0049089356/0.0019103858\n",
      "XGBImputer - Epoch: 3 | Categorical gamma: 724.6667/0.6667 | Numerical gamma: 0.0019103858/0.000846897\n",
      "XGBImputer - Epoch: 4 | Categorical gamma: 0.6667/0. | Numerical gamma: 0.000846897/0.\n",
      "XGBImputer - Epoch: 5 | Categorical gamma: 0./0. | Numerical gamma: 0./0.\n",
      "XGBImputer - Epoch: 1 | Categorical gamma: inf/3755.6667 | Numerical gamma: inf/0.0141308693\n",
      "XGBImputer - Epoch: 2 | Categorical gamma: 3755.6667/685.6667 | Numerical gamma: 0.0141308693/0.003312343\n",
      "XGBImputer - Epoch: 3 | Categorical gamma: 685.6667/0. | Numerical gamma: 0.003312343/0.0007575703\n",
      "XGBImputer - Epoch: 4 | Categorical gamma: 0./0. | Numerical gamma: 0.0007575703/0.\n",
      "XGBImputer - Epoch: 5 | Categorical gamma: 0./0. | Numerical gamma: 0./0.\n"
     ]
    }
   ],
   "source": [
    "imputer = XGBImputer(categorical_features_index=cat_feature_index, replace_categorical_values_back=True,)\n",
    "X_transformed = imputer.fit_transform(X)\n",
    "test_transformed = imputer.transform(test)"
   ]
  },
  {
   "cell_type": "code",
   "execution_count": 5,
   "id": "e8f303b4",
   "metadata": {
    "execution": {
     "iopub.execute_input": "2024-11-26T08:55:29.947418Z",
     "iopub.status.busy": "2024-11-26T08:55:29.946680Z",
     "iopub.status.idle": "2024-11-26T08:55:31.245086Z",
     "shell.execute_reply": "2024-11-26T08:55:31.244203Z"
    },
    "papermill": {
     "duration": 1.305363,
     "end_time": "2024-11-26T08:55:31.247377",
     "exception": false,
     "start_time": "2024-11-26T08:55:29.942014",
     "status": "completed"
    },
    "tags": []
   },
   "outputs": [],
   "source": [
    "X_transformed = pd.DataFrame(X_transformed,columns = X.columns.values).astype(\"string\")\n",
    "test_transformed = pd.DataFrame(test_transformed,columns = X.columns.values).astype(\"string\")"
   ]
  },
  {
   "cell_type": "code",
   "execution_count": 6,
   "id": "faed7e51",
   "metadata": {
    "execution": {
     "iopub.execute_input": "2024-11-26T08:55:31.256555Z",
     "iopub.status.busy": "2024-11-26T08:55:31.256144Z",
     "iopub.status.idle": "2024-11-26T09:10:42.585356Z",
     "shell.execute_reply": "2024-11-26T09:10:42.583983Z"
    },
    "papermill": {
     "duration": 911.339896,
     "end_time": "2024-11-26T09:10:42.591181",
     "exception": false,
     "start_time": "2024-11-26T08:55:31.251285",
     "status": "completed"
    },
    "tags": []
   },
   "outputs": [
    {
     "name": "stdout",
     "output_type": "stream",
     "text": [
      "Fold 1 accuracy_score: 0.9402484992321652\n",
      "Fold 2 accuracy_score: 0.9400020941677428\n",
      "Fold 3 accuracy_score: 0.9407699556734495\n",
      "Fold 4 accuracy_score: 0.9405954416948797\n",
      "Fold 5 accuracy_score: 0.9390597186834665\n",
      "Cross-validated accuracy_score: 0.940 +/- 0.001\n"
     ]
    }
   ],
   "source": [
    "cat_params = {\n",
    "    'loss_function': 'Logloss',\n",
    "    'eval_metric': 'AUC',\n",
    "    'learning_rate': 0.08114394459649094,\n",
    "    'depth': 6,\n",
    "    'random_strength':0,\n",
    "    'l2_leaf_reg': 0.7047064221215757,\n",
    "    'random_seed':42,\n",
    "    # 'task_type': 'GPU'\n",
    "}\n",
    "\n",
    "X = X_transformed\n",
    "test = test_transformed\n",
    "\n",
    "cv = StratifiedKFold(5, shuffle=True, random_state=0)\n",
    "cv_splits = cv.split(X, y)\n",
    "scores = []\n",
    "test_preds = []\n",
    "for i, (train_idx, val_idx) in enumerate(cv_splits):\n",
    "    X_train_fold, X_val_fold = X.loc[train_idx], X.loc[val_idx]\n",
    "    y_train_fold, y_val_fold = y.loc[train_idx], y.loc[val_idx]\n",
    "\n",
    "    dtrain = cat.Pool(data = X_train_fold, label = y_train_fold, cat_features = X.columns.values)\n",
    "    dval = cat.Pool(data = X_val_fold, label = y_val_fold, cat_features = X.columns.values)\n",
    "    dtest = cat.Pool(data = test,cat_features = X.columns.values)\n",
    "    model = cat.train(pool = dtrain,\n",
    "                      params = cat_params,\n",
    "                      num_boost_round=1000,\n",
    "                      verbose=0,\n",
    "                      eval_set=[dval],\n",
    "                      early_stopping_rounds = 50)\n",
    "    val_pred = model.predict(X_val_fold,prediction_type=\"Class\")\n",
    "    score = accuracy_score(y_val_fold, val_pred)\n",
    "    scores.append(score)\n",
    "    test_pred = model.predict(dtest,prediction_type = \"Probability\")[:, 1]\n",
    "    test_preds.append(test_pred)\n",
    "    print(f'Fold {i + 1} accuracy_score: {score}')\n",
    "\n",
    "print(f'Cross-validated accuracy_score: {np.mean(scores):.3f} +/- {np.std(scores):.3f}')"
   ]
  },
  {
   "cell_type": "code",
   "execution_count": 7,
   "id": "08370664",
   "metadata": {
    "execution": {
     "iopub.execute_input": "2024-11-26T09:10:42.601487Z",
     "iopub.status.busy": "2024-11-26T09:10:42.600544Z",
     "iopub.status.idle": "2024-11-26T09:10:42.647972Z",
     "shell.execute_reply": "2024-11-26T09:10:42.646778Z"
    },
    "papermill": {
     "duration": 0.055725,
     "end_time": "2024-11-26T09:10:42.650757",
     "exception": false,
     "start_time": "2024-11-26T09:10:42.595032",
     "status": "completed"
    },
    "tags": []
   },
   "outputs": [
    {
     "data": {
      "text/html": [
       "<div>\n",
       "<style scoped>\n",
       "    .dataframe tbody tr th:only-of-type {\n",
       "        vertical-align: middle;\n",
       "    }\n",
       "\n",
       "    .dataframe tbody tr th {\n",
       "        vertical-align: top;\n",
       "    }\n",
       "\n",
       "    .dataframe thead th {\n",
       "        text-align: right;\n",
       "    }\n",
       "</style>\n",
       "<table border=\"1\" class=\"dataframe\">\n",
       "  <thead>\n",
       "    <tr style=\"text-align: right;\">\n",
       "      <th></th>\n",
       "      <th>id</th>\n",
       "      <th>Depression</th>\n",
       "    </tr>\n",
       "  </thead>\n",
       "  <tbody>\n",
       "    <tr>\n",
       "      <th>0</th>\n",
       "      <td>140700</td>\n",
       "      <td>0.0</td>\n",
       "    </tr>\n",
       "    <tr>\n",
       "      <th>1</th>\n",
       "      <td>140701</td>\n",
       "      <td>0.0</td>\n",
       "    </tr>\n",
       "    <tr>\n",
       "      <th>2</th>\n",
       "      <td>140702</td>\n",
       "      <td>0.0</td>\n",
       "    </tr>\n",
       "    <tr>\n",
       "      <th>3</th>\n",
       "      <td>140703</td>\n",
       "      <td>1.0</td>\n",
       "    </tr>\n",
       "    <tr>\n",
       "      <th>4</th>\n",
       "      <td>140704</td>\n",
       "      <td>0.0</td>\n",
       "    </tr>\n",
       "  </tbody>\n",
       "</table>\n",
       "</div>"
      ],
      "text/plain": [
       "       id  Depression\n",
       "0  140700         0.0\n",
       "1  140701         0.0\n",
       "2  140702         0.0\n",
       "3  140703         1.0\n",
       "4  140704         0.0"
      ]
     },
     "execution_count": 7,
     "metadata": {},
     "output_type": "execute_result"
    }
   ],
   "source": [
    "sample_submission = pd.read_csv('/kaggle/input/playground-series-s4e11/sample_submission.csv')\n",
    "sample_submission['Depression'] = np.round(np.mean(test_preds, axis=0))\n",
    "sample_submission.head()"
   ]
  },
  {
   "cell_type": "code",
   "execution_count": 8,
   "id": "dd59511f",
   "metadata": {
    "execution": {
     "iopub.execute_input": "2024-11-26T09:10:42.665885Z",
     "iopub.status.busy": "2024-11-26T09:10:42.665417Z",
     "iopub.status.idle": "2024-11-26T09:10:42.769050Z",
     "shell.execute_reply": "2024-11-26T09:10:42.767954Z"
    },
    "papermill": {
     "duration": 0.113487,
     "end_time": "2024-11-26T09:10:42.771627",
     "exception": false,
     "start_time": "2024-11-26T09:10:42.658140",
     "status": "completed"
    },
    "tags": []
   },
   "outputs": [],
   "source": [
    "sample_submission.to_csv('submission.csv', index=False)"
   ]
  }
 ],
 "metadata": {
  "kaggle": {
   "accelerator": "none",
   "dataSources": [
    {
     "databundleVersionId": 10008389,
     "sourceId": 84895,
     "sourceType": "competition"
    },
    {
     "datasetId": 5868381,
     "sourceId": 9616093,
     "sourceType": "datasetVersion"
    }
   ],
   "dockerImageVersionId": 30786,
   "isGpuEnabled": false,
   "isInternetEnabled": true,
   "language": "python",
   "sourceType": "notebook"
  },
  "kernelspec": {
   "display_name": "Python 3",
   "language": "python",
   "name": "python3"
  },
  "language_info": {
   "codemirror_mode": {
    "name": "ipython",
    "version": 3
   },
   "file_extension": ".py",
   "mimetype": "text/x-python",
   "name": "python",
   "nbconvert_exporter": "python",
   "pygments_lexer": "ipython3",
   "version": "3.10.14"
  },
  "papermill": {
   "default_parameters": {},
   "duration": 2054.516951,
   "end_time": "2024-11-26T09:10:44.000180",
   "environment_variables": {},
   "exception": null,
   "input_path": "__notebook__.ipynb",
   "output_path": "__notebook__.ipynb",
   "parameters": {},
   "start_time": "2024-11-26T08:36:29.483229",
   "version": "2.6.0"
  }
 },
 "nbformat": 4,
 "nbformat_minor": 5
}
