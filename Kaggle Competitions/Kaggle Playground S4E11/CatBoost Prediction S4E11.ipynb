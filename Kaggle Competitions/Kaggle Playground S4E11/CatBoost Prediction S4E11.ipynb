{
 "cells": [
  {
   "cell_type": "code",
   "execution_count": 1,
   "id": "e5b6c360",
   "metadata": {
    "_cell_guid": "b1076dfc-b9ad-4769-8c92-a6c4dae69d19",
    "_uuid": "8f2839f25d086af736a60e9eeb907d3b93b6e0e5",
    "execution": {
     "iopub.execute_input": "2024-11-25T13:00:41.471354Z",
     "iopub.status.busy": "2024-11-25T13:00:41.470939Z",
     "iopub.status.idle": "2024-11-25T13:00:45.898674Z",
     "shell.execute_reply": "2024-11-25T13:00:45.897504Z"
    },
    "papermill": {
     "duration": 4.435075,
     "end_time": "2024-11-25T13:00:45.901268",
     "exception": false,
     "start_time": "2024-11-25T13:00:41.466193",
     "status": "completed"
    },
    "tags": []
   },
   "outputs": [],
   "source": [
    "import numpy as np\n",
    "import pandas as pd\n",
    "from sklearn.model_selection import StratifiedKFold\n",
    "import catboost as cat\n",
    "import optuna\n",
    "import warnings\n",
    "from sklearn.metrics import matthews_corrcoef\n",
    "warnings.filterwarnings(\"ignore\")"
   ]
  },
  {
   "cell_type": "code",
   "execution_count": 2,
   "id": "29f0d6e5",
   "metadata": {
    "execution": {
     "iopub.execute_input": "2024-11-25T13:00:45.908925Z",
     "iopub.status.busy": "2024-11-25T13:00:45.908352Z",
     "iopub.status.idle": "2024-11-25T13:00:47.023027Z",
     "shell.execute_reply": "2024-11-25T13:00:47.021545Z"
    },
    "papermill": {
     "duration": 1.121365,
     "end_time": "2024-11-25T13:00:47.025678",
     "exception": false,
     "start_time": "2024-11-25T13:00:45.904313",
     "status": "completed"
    },
    "tags": []
   },
   "outputs": [],
   "source": [
    "train = pd.read_csv(\"/kaggle/input/playground-series-s4e11/train.csv\").drop([\"id\",\"Name\"],axis =1) \n",
    "original = pd.read_csv(\"/kaggle/input/depression-surveydataset-for-analysis/final_depression_dataset_1.csv\").drop(\"Name\",axis = 1)\n",
    "original[\"Depression\"] = original[\"Depression\"].map({\"No\": 0, \"Yes\": 1})\n",
    "train = pd.concat([train,original])\n",
    "test = pd.read_csv(\"/kaggle/input/playground-series-s4e11/test.csv\")\n",
    "test = test.drop([\"id\",\"Name\"],axis = 1)"
   ]
  },
  {
   "cell_type": "code",
   "execution_count": 3,
   "id": "67da3783",
   "metadata": {
    "execution": {
     "iopub.execute_input": "2024-11-25T13:00:47.033591Z",
     "iopub.status.busy": "2024-11-25T13:00:47.032423Z",
     "iopub.status.idle": "2024-11-25T13:00:47.040755Z",
     "shell.execute_reply": "2024-11-25T13:00:47.039526Z"
    },
    "papermill": {
     "duration": 0.014672,
     "end_time": "2024-11-25T13:00:47.043156",
     "exception": false,
     "start_time": "2024-11-25T13:00:47.028484",
     "status": "completed"
    },
    "tags": []
   },
   "outputs": [],
   "source": [
    "def calculate_medians(df):\n",
    "\n",
    "    medians = {}\n",
    "    for column in df.columns:\n",
    "        if df[column].dtype != 'object': \n",
    "            medians[column] = df[column].median()\n",
    "    return medians\n",
    "\n",
    "def fill_missing_values(df, medians):\n",
    "\n",
    "    df_filled = df.copy()\n",
    "    for column in df_filled.columns:\n",
    "        if df_filled[column].dtype == 'object':\n",
    "            df_filled[column].fillna('None', inplace=True)\n",
    "        else:\n",
    "            if column in medians: \n",
    "                df_filled[column].fillna(medians[column], inplace=True)\n",
    "    return df_filled\n",
    "\n",
    "def find_categorical_columns(df):\n",
    "  \n",
    "    categorical_columns = [col for col in df.columns if df[col].dtype == 'object' or df[col].dtype.name == 'category']\n",
    "    return categorical_columns"
   ]
  },
  {
   "cell_type": "code",
   "execution_count": 4,
   "id": "98692598",
   "metadata": {
    "execution": {
     "iopub.execute_input": "2024-11-25T13:00:47.050306Z",
     "iopub.status.busy": "2024-11-25T13:00:47.049887Z",
     "iopub.status.idle": "2024-11-25T13:00:47.372228Z",
     "shell.execute_reply": "2024-11-25T13:00:47.371206Z"
    },
    "papermill": {
     "duration": 0.328649,
     "end_time": "2024-11-25T13:00:47.374696",
     "exception": false,
     "start_time": "2024-11-25T13:00:47.046047",
     "status": "completed"
    },
    "tags": []
   },
   "outputs": [],
   "source": [
    "cat_cols = find_categorical_columns(train)\n",
    "train_medians = calculate_medians(train)\n",
    "\n",
    "train = fill_missing_values(train, train_medians)\n",
    "test = fill_missing_values(test, train_medians)\n",
    "\n",
    "X = train.iloc[:,:-1]\n",
    "X[cat_cols] = X[cat_cols].astype(\"string\")\n",
    "test[cat_cols] = test[cat_cols].astype(\"string\")\n",
    "y = train.iloc[:,-1]"
   ]
  },
  {
   "cell_type": "code",
   "execution_count": 5,
   "id": "e16a7cd1",
   "metadata": {
    "execution": {
     "iopub.execute_input": "2024-11-25T13:00:47.381861Z",
     "iopub.status.busy": "2024-11-25T13:00:47.381444Z",
     "iopub.status.idle": "2024-11-25T13:01:37.706326Z",
     "shell.execute_reply": "2024-11-25T13:01:37.705059Z"
    },
    "papermill": {
     "duration": 50.331615,
     "end_time": "2024-11-25T13:01:37.708930",
     "exception": false,
     "start_time": "2024-11-25T13:00:47.377315",
     "status": "completed"
    },
    "tags": []
   },
   "outputs": [
    {
     "name": "stdout",
     "output_type": "stream",
     "text": [
      "Fold 1 Score: 0.7958941098499239\n",
      "Fold 2 Score: 0.7944668248712918\n",
      "Fold 3 Score: 0.7998662417365\n",
      "Fold 4 Score: 0.795092831585525\n",
      "Fold 5 Score: 0.7914418099228262\n",
      "\n",
      "Mean OOF Score: 0.7953523635932134\n"
     ]
    }
   ],
   "source": [
    "N_SPLITS = 5\n",
    "\n",
    "cat_params = {\"objective\": \"CrossEntropy\",\n",
    "              \"eval_metric\": \"MCC\",\n",
    "              \"random_seed\": 42,\n",
    "              \"use_best_model\": True,\n",
    "              'learning_rate': 0.3503544344869301,\n",
    "              'max_depth': 4,\n",
    "              'l2_leaf_reg': 0.049221745524122555,\n",
    "             # \"task_type\":\"GPU\"\n",
    "             }\n",
    "             \n",
    "\n",
    "\n",
    "skf = StratifiedKFold(n_splits=N_SPLITS,random_state = 0, shuffle = True)\n",
    "\n",
    "scores = []\n",
    "oof_pred_probs = np.zeros(len(y))\n",
    "test_predictions = []\n",
    "\n",
    "\n",
    "for fold,(train_idx,val_idx) in enumerate(skf.split(X,y)):\n",
    "    X_train,X_val = X.iloc[train_idx],X.iloc[val_idx]\n",
    "    y_train,y_val = y.iloc[train_idx],y.iloc[val_idx]\n",
    "    dtrain = cat.Pool(X_train,label = y_train,cat_features = cat_cols)\n",
    "    dval = cat.Pool(X_val,label = y_val,cat_features = cat_cols)\n",
    "\n",
    "    model = cat.train(params = cat_params,\n",
    "                      pool = dtrain,\n",
    "                      verbose = 0,\n",
    "                      eval_set=[dval],\n",
    "                      early_stopping_rounds=50,\n",
    "                      num_boost_round = 2000\n",
    "                     )\n",
    "    \n",
    "    pred_probs = model.predict(X_val,prediction_type=\"Probability\")[:,1]\n",
    "    preds = np.round(pred_probs).astype(int)\n",
    "    test_pred_probs = model.predict(test,prediction_type=\"Probability\")[:,1]\n",
    "    \n",
    "    oof_pred_probs[val_idx] += pred_probs\n",
    "    \n",
    "    test_predictions.append(test_pred_probs)\n",
    "    \n",
    "    score = matthews_corrcoef(preds,y_val)\n",
    "    print(f\"Fold {fold+1} Score:\", score)\n",
    "    scores.append(score)\n",
    "\n",
    "print(\"\\nMean OOF Score:\", np.mean(scores))"
   ]
  },
  {
   "cell_type": "code",
   "execution_count": 6,
   "id": "62bfa900",
   "metadata": {
    "execution": {
     "iopub.execute_input": "2024-11-25T13:01:37.716523Z",
     "iopub.status.busy": "2024-11-25T13:01:37.716038Z",
     "iopub.status.idle": "2024-11-25T13:01:38.274228Z",
     "shell.execute_reply": "2024-11-25T13:01:38.273007Z"
    },
    "papermill": {
     "duration": 0.565092,
     "end_time": "2024-11-25T13:01:38.276966",
     "exception": false,
     "start_time": "2024-11-25T13:01:37.711874",
     "status": "completed"
    },
    "tags": []
   },
   "outputs": [
    {
     "name": "stdout",
     "output_type": "stream",
     "text": [
      "      Fold1     Fold2     Fold3     Fold4     Fold5\n",
      "0  0.000292  0.000049  0.000025  0.000044  0.000172\n",
      "1  0.000194  0.000036  0.000156  0.000038  0.000115\n",
      "2  0.026980  0.030704  0.031859  0.041796  0.027031\n",
      "3  0.980000  0.986270  0.983938  0.981406  0.984071\n",
      "4  0.015254  0.017343  0.013607  0.018508  0.013460\n"
     ]
    }
   ],
   "source": [
    "test_results = pd.DataFrame(np.array(test_predictions).T,columns = [\"Fold1\",\"Fold2\",\"Fold3\",\"Fold4\",\"Fold5\"])\n",
    "print(test_results.head())\n",
    "labels = np.round(test_results.mean(axis = 1).values).astype(int)\n",
    "np.savetxt(\"oof_pred_probs_catboost.txt\",oof_pred_probs)\n",
    "np.savetxt(\"mean_test_probs_catboost.txt\",test_results.mean(axis = 1).values)"
   ]
  },
  {
   "cell_type": "code",
   "execution_count": 7,
   "id": "0d2cf61d",
   "metadata": {
    "execution": {
     "iopub.execute_input": "2024-11-25T13:01:38.284503Z",
     "iopub.status.busy": "2024-11-25T13:01:38.284090Z",
     "iopub.status.idle": "2024-11-25T13:01:38.393701Z",
     "shell.execute_reply": "2024-11-25T13:01:38.392547Z"
    },
    "papermill": {
     "duration": 0.116921,
     "end_time": "2024-11-25T13:01:38.396865",
     "exception": false,
     "start_time": "2024-11-25T13:01:38.279944",
     "status": "completed"
    },
    "tags": []
   },
   "outputs": [],
   "source": [
    "submission = pd.read_csv(\"/kaggle/input/playground-series-s4e11/sample_submission.csv\")\n",
    "submission[\"Depression\"] = labels\n",
    "submission.to_csv(\"submission.csv\",index = False)"
   ]
  }
 ],
 "metadata": {
  "kaggle": {
   "accelerator": "none",
   "dataSources": [
    {
     "databundleVersionId": 10008389,
     "sourceId": 84895,
     "sourceType": "competition"
    },
    {
     "datasetId": 5868381,
     "sourceId": 9616093,
     "sourceType": "datasetVersion"
    }
   ],
   "dockerImageVersionId": 30786,
   "isGpuEnabled": false,
   "isInternetEnabled": true,
   "language": "python",
   "sourceType": "notebook"
  },
  "kernelspec": {
   "display_name": "Python 3",
   "language": "python",
   "name": "python3"
  },
  "language_info": {
   "codemirror_mode": {
    "name": "ipython",
    "version": 3
   },
   "file_extension": ".py",
   "mimetype": "text/x-python",
   "name": "python",
   "nbconvert_exporter": "python",
   "pygments_lexer": "ipython3",
   "version": "3.10.14"
  },
  "papermill": {
   "default_parameters": {},
   "duration": 61.195915,
   "end_time": "2024-11-25T13:01:39.222545",
   "environment_variables": {},
   "exception": null,
   "input_path": "__notebook__.ipynb",
   "output_path": "__notebook__.ipynb",
   "parameters": {},
   "start_time": "2024-11-25T13:00:38.026630",
   "version": "2.6.0"
  }
 },
 "nbformat": 4,
 "nbformat_minor": 5
}
