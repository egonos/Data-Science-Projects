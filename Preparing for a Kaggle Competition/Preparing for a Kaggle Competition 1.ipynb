{
 "cells": [
  {
   "cell_type": "code",
   "execution_count": 1,
   "id": "870c87b4",
   "metadata": {
    "execution": {
     "iopub.execute_input": "2024-10-24T06:44:12.997509Z",
     "iopub.status.busy": "2024-10-24T06:44:12.996261Z",
     "iopub.status.idle": "2024-10-24T06:44:17.984324Z",
     "shell.execute_reply": "2024-10-24T06:44:17.983031Z"
    },
    "papermill": {
     "duration": 5.003862,
     "end_time": "2024-10-24T06:44:17.986977",
     "exception": false,
     "start_time": "2024-10-24T06:44:12.983115",
     "status": "completed"
    },
    "tags": []
   },
   "outputs": [],
   "source": [
    "import numpy as np\n",
    "import pandas as pd\n",
    "import matplotlib.pyplot as plt\n",
    "import seaborn as sns\n",
    "import scipy.stats as stats\n",
    "import lightgbm as lgb\n",
    "import random \n",
    "from tqdm import tqdm\n",
    "from sklearn.preprocessing import OneHotEncoder, OrdinalEncoder\n",
    "from sklearn.compose import ColumnTransformer\n",
    "from sklearn.model_selection import StratifiedKFold,train_test_split\n",
    "from sklearn.metrics import roc_auc_score\n",
    "import catboost as cat\n",
    "import xgboost as xgb\n",
    "import matplotlib as mpl\n",
    "import optuna\n",
    "import json\n",
    "\n",
    "mpl.rcParams['axes.spines.right'] = False\n",
    "mpl.rcParams['axes.spines.top'] = False\n",
    "\n",
    "random.seed(42)\n",
    "np.random.seed(42)"
   ]
  },
  {
   "cell_type": "markdown",
   "id": "d1bfb51a",
   "metadata": {
    "papermill": {
     "duration": 0.010872,
     "end_time": "2024-10-24T06:44:18.008941",
     "exception": false,
     "start_time": "2024-10-24T06:44:17.998069",
     "status": "completed"
    },
    "tags": []
   },
   "source": [
    "# Introduction\n",
    "\n",
    "This kernel attempts to reflect my thought process while preparing for the competition. It involves many data science methods that are frequently applied on Kaggle competitions. The processes I conducted derived from my experience in data science as well as from this [book](https://www.amazon.com/Data-Analysis-Machine-Learning-Kaggle/dp/1801817472). I hope the viewer find this notebook useful. That being said, I'm new in the Kaggle Competitions, therefore I'm open for the suggestions and potential improvements. Thank you in advance."
   ]
  },
  {
   "cell_type": "markdown",
   "id": "fbf33b66",
   "metadata": {
    "papermill": {
     "duration": 0.009535,
     "end_time": "2024-10-24T06:44:18.028179",
     "exception": false,
     "start_time": "2024-10-24T06:44:18.018644",
     "status": "completed"
    },
    "tags": []
   },
   "source": [
    "# 1. The First Look"
   ]
  },
  {
   "cell_type": "code",
   "execution_count": 2,
   "id": "6f4c5e70",
   "metadata": {
    "execution": {
     "iopub.execute_input": "2024-10-24T06:44:18.049459Z",
     "iopub.status.busy": "2024-10-24T06:44:18.048824Z",
     "iopub.status.idle": "2024-10-24T06:44:18.421894Z",
     "shell.execute_reply": "2024-10-24T06:44:18.420631Z"
    },
    "papermill": {
     "duration": 0.388168,
     "end_time": "2024-10-24T06:44:18.425947",
     "exception": false,
     "start_time": "2024-10-24T06:44:18.037779",
     "status": "completed"
    },
    "tags": []
   },
   "outputs": [
    {
     "data": {
      "text/html": [
       "<div>\n",
       "<style scoped>\n",
       "    .dataframe tbody tr th:only-of-type {\n",
       "        vertical-align: middle;\n",
       "    }\n",
       "\n",
       "    .dataframe tbody tr th {\n",
       "        vertical-align: top;\n",
       "    }\n",
       "\n",
       "    .dataframe thead th {\n",
       "        text-align: right;\n",
       "    }\n",
       "</style>\n",
       "<table border=\"1\" class=\"dataframe\">\n",
       "  <thead>\n",
       "    <tr style=\"text-align: right;\">\n",
       "      <th></th>\n",
       "      <th>person_age</th>\n",
       "      <th>person_income</th>\n",
       "      <th>person_home_ownership</th>\n",
       "      <th>person_emp_length</th>\n",
       "      <th>loan_intent</th>\n",
       "      <th>loan_grade</th>\n",
       "      <th>loan_amnt</th>\n",
       "      <th>loan_int_rate</th>\n",
       "      <th>loan_percent_income</th>\n",
       "      <th>cb_person_default_on_file</th>\n",
       "      <th>cb_person_cred_hist_length</th>\n",
       "    </tr>\n",
       "  </thead>\n",
       "  <tbody>\n",
       "    <tr>\n",
       "      <th>0</th>\n",
       "      <td>37</td>\n",
       "      <td>35000</td>\n",
       "      <td>RENT</td>\n",
       "      <td>0.0</td>\n",
       "      <td>EDUCATION</td>\n",
       "      <td>B</td>\n",
       "      <td>6000</td>\n",
       "      <td>11.49</td>\n",
       "      <td>0.17</td>\n",
       "      <td>N</td>\n",
       "      <td>14</td>\n",
       "    </tr>\n",
       "    <tr>\n",
       "      <th>1</th>\n",
       "      <td>22</td>\n",
       "      <td>56000</td>\n",
       "      <td>OWN</td>\n",
       "      <td>6.0</td>\n",
       "      <td>MEDICAL</td>\n",
       "      <td>C</td>\n",
       "      <td>4000</td>\n",
       "      <td>13.35</td>\n",
       "      <td>0.07</td>\n",
       "      <td>N</td>\n",
       "      <td>2</td>\n",
       "    </tr>\n",
       "    <tr>\n",
       "      <th>2</th>\n",
       "      <td>29</td>\n",
       "      <td>28800</td>\n",
       "      <td>OWN</td>\n",
       "      <td>8.0</td>\n",
       "      <td>PERSONAL</td>\n",
       "      <td>A</td>\n",
       "      <td>6000</td>\n",
       "      <td>8.90</td>\n",
       "      <td>0.21</td>\n",
       "      <td>N</td>\n",
       "      <td>10</td>\n",
       "    </tr>\n",
       "    <tr>\n",
       "      <th>3</th>\n",
       "      <td>30</td>\n",
       "      <td>70000</td>\n",
       "      <td>RENT</td>\n",
       "      <td>14.0</td>\n",
       "      <td>VENTURE</td>\n",
       "      <td>B</td>\n",
       "      <td>12000</td>\n",
       "      <td>11.11</td>\n",
       "      <td>0.17</td>\n",
       "      <td>N</td>\n",
       "      <td>5</td>\n",
       "    </tr>\n",
       "    <tr>\n",
       "      <th>4</th>\n",
       "      <td>22</td>\n",
       "      <td>60000</td>\n",
       "      <td>RENT</td>\n",
       "      <td>2.0</td>\n",
       "      <td>MEDICAL</td>\n",
       "      <td>A</td>\n",
       "      <td>6000</td>\n",
       "      <td>6.92</td>\n",
       "      <td>0.10</td>\n",
       "      <td>N</td>\n",
       "      <td>3</td>\n",
       "    </tr>\n",
       "  </tbody>\n",
       "</table>\n",
       "</div>"
      ],
      "text/plain": [
       "   person_age  person_income person_home_ownership  person_emp_length  \\\n",
       "0          37          35000                  RENT                0.0   \n",
       "1          22          56000                   OWN                6.0   \n",
       "2          29          28800                   OWN                8.0   \n",
       "3          30          70000                  RENT               14.0   \n",
       "4          22          60000                  RENT                2.0   \n",
       "\n",
       "  loan_intent loan_grade  loan_amnt  loan_int_rate  loan_percent_income  \\\n",
       "0   EDUCATION          B       6000          11.49                 0.17   \n",
       "1     MEDICAL          C       4000          13.35                 0.07   \n",
       "2    PERSONAL          A       6000           8.90                 0.21   \n",
       "3     VENTURE          B      12000          11.11                 0.17   \n",
       "4     MEDICAL          A       6000           6.92                 0.10   \n",
       "\n",
       "  cb_person_default_on_file  cb_person_cred_hist_length  \n",
       "0                         N                          14  \n",
       "1                         N                           2  \n",
       "2                         N                          10  \n",
       "3                         N                           5  \n",
       "4                         N                           3  "
      ]
     },
     "execution_count": 2,
     "metadata": {},
     "output_type": "execute_result"
    }
   ],
   "source": [
    "X = pd.read_csv(\"/kaggle/input/playground-series-s4e10/train.csv\").iloc[:, 1:-1]\n",
    "y = pd.read_csv(\"/kaggle/input/playground-series-s4e10/train.csv\").iloc[:, -1]\n",
    "test = pd.read_csv(\"/kaggle/input/playground-series-s4e10/test.csv\").iloc[:, 1:]\n",
    "\n",
    "X.head()"
   ]
  },
  {
   "cell_type": "code",
   "execution_count": 3,
   "id": "ee468bef",
   "metadata": {
    "execution": {
     "iopub.execute_input": "2024-10-24T06:44:18.450517Z",
     "iopub.status.busy": "2024-10-24T06:44:18.450054Z",
     "iopub.status.idle": "2024-10-24T06:44:18.504947Z",
     "shell.execute_reply": "2024-10-24T06:44:18.503756Z"
    },
    "papermill": {
     "duration": 0.0687,
     "end_time": "2024-10-24T06:44:18.507326",
     "exception": false,
     "start_time": "2024-10-24T06:44:18.438626",
     "status": "completed"
    },
    "tags": []
   },
   "outputs": [
    {
     "data": {
      "text/html": [
       "<div>\n",
       "<style scoped>\n",
       "    .dataframe tbody tr th:only-of-type {\n",
       "        vertical-align: middle;\n",
       "    }\n",
       "\n",
       "    .dataframe tbody tr th {\n",
       "        vertical-align: top;\n",
       "    }\n",
       "\n",
       "    .dataframe thead th {\n",
       "        text-align: right;\n",
       "    }\n",
       "</style>\n",
       "<table border=\"1\" class=\"dataframe\">\n",
       "  <thead>\n",
       "    <tr style=\"text-align: right;\">\n",
       "      <th></th>\n",
       "      <th>count</th>\n",
       "      <th>mean</th>\n",
       "      <th>std</th>\n",
       "      <th>min</th>\n",
       "      <th>25%</th>\n",
       "      <th>50%</th>\n",
       "      <th>75%</th>\n",
       "      <th>max</th>\n",
       "    </tr>\n",
       "  </thead>\n",
       "  <tbody>\n",
       "    <tr>\n",
       "      <th>person_age</th>\n",
       "      <td>58645.0</td>\n",
       "      <td>27.550857</td>\n",
       "      <td>6.033216</td>\n",
       "      <td>20.00</td>\n",
       "      <td>23.00</td>\n",
       "      <td>26.00</td>\n",
       "      <td>30.00</td>\n",
       "      <td>123.00</td>\n",
       "    </tr>\n",
       "    <tr>\n",
       "      <th>person_income</th>\n",
       "      <td>58645.0</td>\n",
       "      <td>64046.172871</td>\n",
       "      <td>37931.106978</td>\n",
       "      <td>4200.00</td>\n",
       "      <td>42000.00</td>\n",
       "      <td>58000.00</td>\n",
       "      <td>75600.00</td>\n",
       "      <td>1900000.00</td>\n",
       "    </tr>\n",
       "    <tr>\n",
       "      <th>person_emp_length</th>\n",
       "      <td>58645.0</td>\n",
       "      <td>4.701015</td>\n",
       "      <td>3.959784</td>\n",
       "      <td>0.00</td>\n",
       "      <td>2.00</td>\n",
       "      <td>4.00</td>\n",
       "      <td>7.00</td>\n",
       "      <td>123.00</td>\n",
       "    </tr>\n",
       "    <tr>\n",
       "      <th>loan_amnt</th>\n",
       "      <td>58645.0</td>\n",
       "      <td>9217.556518</td>\n",
       "      <td>5563.807384</td>\n",
       "      <td>500.00</td>\n",
       "      <td>5000.00</td>\n",
       "      <td>8000.00</td>\n",
       "      <td>12000.00</td>\n",
       "      <td>35000.00</td>\n",
       "    </tr>\n",
       "    <tr>\n",
       "      <th>loan_int_rate</th>\n",
       "      <td>58645.0</td>\n",
       "      <td>10.677874</td>\n",
       "      <td>3.034697</td>\n",
       "      <td>5.42</td>\n",
       "      <td>7.88</td>\n",
       "      <td>10.75</td>\n",
       "      <td>12.99</td>\n",
       "      <td>23.22</td>\n",
       "    </tr>\n",
       "    <tr>\n",
       "      <th>loan_percent_income</th>\n",
       "      <td>58645.0</td>\n",
       "      <td>0.159238</td>\n",
       "      <td>0.091692</td>\n",
       "      <td>0.00</td>\n",
       "      <td>0.09</td>\n",
       "      <td>0.14</td>\n",
       "      <td>0.21</td>\n",
       "      <td>0.83</td>\n",
       "    </tr>\n",
       "    <tr>\n",
       "      <th>cb_person_cred_hist_length</th>\n",
       "      <td>58645.0</td>\n",
       "      <td>5.813556</td>\n",
       "      <td>4.029196</td>\n",
       "      <td>2.00</td>\n",
       "      <td>3.00</td>\n",
       "      <td>4.00</td>\n",
       "      <td>8.00</td>\n",
       "      <td>30.00</td>\n",
       "    </tr>\n",
       "  </tbody>\n",
       "</table>\n",
       "</div>"
      ],
      "text/plain": [
       "                              count          mean           std      min  \\\n",
       "person_age                  58645.0     27.550857      6.033216    20.00   \n",
       "person_income               58645.0  64046.172871  37931.106978  4200.00   \n",
       "person_emp_length           58645.0      4.701015      3.959784     0.00   \n",
       "loan_amnt                   58645.0   9217.556518   5563.807384   500.00   \n",
       "loan_int_rate               58645.0     10.677874      3.034697     5.42   \n",
       "loan_percent_income         58645.0      0.159238      0.091692     0.00   \n",
       "cb_person_cred_hist_length  58645.0      5.813556      4.029196     2.00   \n",
       "\n",
       "                                 25%       50%       75%         max  \n",
       "person_age                     23.00     26.00     30.00      123.00  \n",
       "person_income               42000.00  58000.00  75600.00  1900000.00  \n",
       "person_emp_length               2.00      4.00      7.00      123.00  \n",
       "loan_amnt                    5000.00   8000.00  12000.00    35000.00  \n",
       "loan_int_rate                   7.88     10.75     12.99       23.22  \n",
       "loan_percent_income             0.09      0.14      0.21        0.83  \n",
       "cb_person_cred_hist_length      3.00      4.00      8.00       30.00  "
      ]
     },
     "execution_count": 3,
     "metadata": {},
     "output_type": "execute_result"
    }
   ],
   "source": [
    "X.describe().T"
   ]
  },
  {
   "cell_type": "code",
   "execution_count": 4,
   "id": "a4387ee5",
   "metadata": {
    "execution": {
     "iopub.execute_input": "2024-10-24T06:44:18.532005Z",
     "iopub.status.busy": "2024-10-24T06:44:18.530854Z",
     "iopub.status.idle": "2024-10-24T06:44:18.586318Z",
     "shell.execute_reply": "2024-10-24T06:44:18.585058Z"
    },
    "papermill": {
     "duration": 0.071573,
     "end_time": "2024-10-24T06:44:18.589934",
     "exception": false,
     "start_time": "2024-10-24T06:44:18.518361",
     "status": "completed"
    },
    "tags": []
   },
   "outputs": [
    {
     "data": {
      "text/html": [
       "<div>\n",
       "<style scoped>\n",
       "    .dataframe tbody tr th:only-of-type {\n",
       "        vertical-align: middle;\n",
       "    }\n",
       "\n",
       "    .dataframe tbody tr th {\n",
       "        vertical-align: top;\n",
       "    }\n",
       "\n",
       "    .dataframe thead th {\n",
       "        text-align: right;\n",
       "    }\n",
       "</style>\n",
       "<table border=\"1\" class=\"dataframe\">\n",
       "  <thead>\n",
       "    <tr style=\"text-align: right;\">\n",
       "      <th></th>\n",
       "      <th>count</th>\n",
       "      <th>mean</th>\n",
       "      <th>std</th>\n",
       "      <th>min</th>\n",
       "      <th>25%</th>\n",
       "      <th>50%</th>\n",
       "      <th>75%</th>\n",
       "      <th>max</th>\n",
       "    </tr>\n",
       "  </thead>\n",
       "  <tbody>\n",
       "    <tr>\n",
       "      <th>person_age</th>\n",
       "      <td>39098.0</td>\n",
       "      <td>27.566781</td>\n",
       "      <td>6.032761</td>\n",
       "      <td>20.00</td>\n",
       "      <td>23.00</td>\n",
       "      <td>26.00</td>\n",
       "      <td>30.00</td>\n",
       "      <td>94.00</td>\n",
       "    </tr>\n",
       "    <tr>\n",
       "      <th>person_income</th>\n",
       "      <td>39098.0</td>\n",
       "      <td>64060.460842</td>\n",
       "      <td>37955.828705</td>\n",
       "      <td>4000.00</td>\n",
       "      <td>42000.00</td>\n",
       "      <td>58000.00</td>\n",
       "      <td>75885.00</td>\n",
       "      <td>1900000.00</td>\n",
       "    </tr>\n",
       "    <tr>\n",
       "      <th>person_emp_length</th>\n",
       "      <td>39098.0</td>\n",
       "      <td>4.687068</td>\n",
       "      <td>3.868395</td>\n",
       "      <td>0.00</td>\n",
       "      <td>2.00</td>\n",
       "      <td>4.00</td>\n",
       "      <td>7.00</td>\n",
       "      <td>42.00</td>\n",
       "    </tr>\n",
       "    <tr>\n",
       "      <th>loan_amnt</th>\n",
       "      <td>39098.0</td>\n",
       "      <td>9251.466188</td>\n",
       "      <td>5576.254680</td>\n",
       "      <td>700.00</td>\n",
       "      <td>5000.00</td>\n",
       "      <td>8000.00</td>\n",
       "      <td>12000.00</td>\n",
       "      <td>35000.00</td>\n",
       "    </tr>\n",
       "    <tr>\n",
       "      <th>loan_int_rate</th>\n",
       "      <td>39098.0</td>\n",
       "      <td>10.661216</td>\n",
       "      <td>3.020220</td>\n",
       "      <td>5.42</td>\n",
       "      <td>7.88</td>\n",
       "      <td>10.75</td>\n",
       "      <td>12.99</td>\n",
       "      <td>22.11</td>\n",
       "    </tr>\n",
       "    <tr>\n",
       "      <th>loan_percent_income</th>\n",
       "      <td>39098.0</td>\n",
       "      <td>0.159573</td>\n",
       "      <td>0.091633</td>\n",
       "      <td>0.00</td>\n",
       "      <td>0.09</td>\n",
       "      <td>0.14</td>\n",
       "      <td>0.21</td>\n",
       "      <td>0.73</td>\n",
       "    </tr>\n",
       "    <tr>\n",
       "      <th>cb_person_cred_hist_length</th>\n",
       "      <td>39098.0</td>\n",
       "      <td>5.830707</td>\n",
       "      <td>4.072157</td>\n",
       "      <td>2.00</td>\n",
       "      <td>3.00</td>\n",
       "      <td>4.00</td>\n",
       "      <td>8.00</td>\n",
       "      <td>30.00</td>\n",
       "    </tr>\n",
       "  </tbody>\n",
       "</table>\n",
       "</div>"
      ],
      "text/plain": [
       "                              count          mean           std      min  \\\n",
       "person_age                  39098.0     27.566781      6.032761    20.00   \n",
       "person_income               39098.0  64060.460842  37955.828705  4000.00   \n",
       "person_emp_length           39098.0      4.687068      3.868395     0.00   \n",
       "loan_amnt                   39098.0   9251.466188   5576.254680   700.00   \n",
       "loan_int_rate               39098.0     10.661216      3.020220     5.42   \n",
       "loan_percent_income         39098.0      0.159573      0.091633     0.00   \n",
       "cb_person_cred_hist_length  39098.0      5.830707      4.072157     2.00   \n",
       "\n",
       "                                 25%       50%       75%         max  \n",
       "person_age                     23.00     26.00     30.00       94.00  \n",
       "person_income               42000.00  58000.00  75885.00  1900000.00  \n",
       "person_emp_length               2.00      4.00      7.00       42.00  \n",
       "loan_amnt                    5000.00   8000.00  12000.00    35000.00  \n",
       "loan_int_rate                   7.88     10.75     12.99       22.11  \n",
       "loan_percent_income             0.09      0.14      0.21        0.73  \n",
       "cb_person_cred_hist_length      3.00      4.00      8.00       30.00  "
      ]
     },
     "execution_count": 4,
     "metadata": {},
     "output_type": "execute_result"
    }
   ],
   "source": [
    "test.describe().T"
   ]
  },
  {
   "cell_type": "code",
   "execution_count": 5,
   "id": "e4094d3d",
   "metadata": {
    "execution": {
     "iopub.execute_input": "2024-10-24T06:44:18.622337Z",
     "iopub.status.busy": "2024-10-24T06:44:18.621659Z",
     "iopub.status.idle": "2024-10-24T06:44:18.637791Z",
     "shell.execute_reply": "2024-10-24T06:44:18.636786Z"
    },
    "papermill": {
     "duration": 0.039458,
     "end_time": "2024-10-24T06:44:18.642135",
     "exception": false,
     "start_time": "2024-10-24T06:44:18.602677",
     "status": "completed"
    },
    "tags": []
   },
   "outputs": [
    {
     "data": {
      "text/plain": [
       "loan_status\n",
       "0    50295\n",
       "1     8350\n",
       "Name: count, dtype: int64"
      ]
     },
     "execution_count": 5,
     "metadata": {},
     "output_type": "execute_result"
    }
   ],
   "source": [
    "y.value_counts()"
   ]
  },
  {
   "cell_type": "code",
   "execution_count": 6,
   "id": "4693d0b3",
   "metadata": {
    "execution": {
     "iopub.execute_input": "2024-10-24T06:44:18.675248Z",
     "iopub.status.busy": "2024-10-24T06:44:18.674837Z",
     "iopub.status.idle": "2024-10-24T06:44:18.720233Z",
     "shell.execute_reply": "2024-10-24T06:44:18.719030Z"
    },
    "papermill": {
     "duration": 0.062727,
     "end_time": "2024-10-24T06:44:18.722990",
     "exception": false,
     "start_time": "2024-10-24T06:44:18.660263",
     "status": "completed"
    },
    "tags": []
   },
   "outputs": [
    {
     "data": {
      "text/html": [
       "<div>\n",
       "<style scoped>\n",
       "    .dataframe tbody tr th:only-of-type {\n",
       "        vertical-align: middle;\n",
       "    }\n",
       "\n",
       "    .dataframe tbody tr th {\n",
       "        vertical-align: top;\n",
       "    }\n",
       "\n",
       "    .dataframe thead th {\n",
       "        text-align: right;\n",
       "    }\n",
       "</style>\n",
       "<table border=\"1\" class=\"dataframe\">\n",
       "  <thead>\n",
       "    <tr style=\"text-align: right;\">\n",
       "      <th></th>\n",
       "      <th>Unique_Counts_Train</th>\n",
       "      <th>Unique_Counts_Test</th>\n",
       "    </tr>\n",
       "    <tr>\n",
       "      <th>Categorical Features</th>\n",
       "      <th></th>\n",
       "      <th></th>\n",
       "    </tr>\n",
       "  </thead>\n",
       "  <tbody>\n",
       "    <tr>\n",
       "      <th>person_home_ownership</th>\n",
       "      <td>4</td>\n",
       "      <td>4</td>\n",
       "    </tr>\n",
       "    <tr>\n",
       "      <th>loan_intent</th>\n",
       "      <td>6</td>\n",
       "      <td>6</td>\n",
       "    </tr>\n",
       "    <tr>\n",
       "      <th>loan_grade</th>\n",
       "      <td>7</td>\n",
       "      <td>7</td>\n",
       "    </tr>\n",
       "    <tr>\n",
       "      <th>cb_person_default_on_file</th>\n",
       "      <td>2</td>\n",
       "      <td>2</td>\n",
       "    </tr>\n",
       "  </tbody>\n",
       "</table>\n",
       "</div>"
      ],
      "text/plain": [
       "                           Unique_Counts_Train  Unique_Counts_Test\n",
       "Categorical Features                                              \n",
       "person_home_ownership                        4                   4\n",
       "loan_intent                                  6                   6\n",
       "loan_grade                                   7                   7\n",
       "cb_person_default_on_file                    2                   2"
      ]
     },
     "execution_count": 6,
     "metadata": {},
     "output_type": "execute_result"
    }
   ],
   "source": [
    "categorical_features = ['person_home_ownership', 'loan_intent', 'loan_grade', 'cb_person_default_on_file']\n",
    "unique_counts_train = []\n",
    "unique_counts_test = []\n",
    "\n",
    "for categorical_feature in categorical_features:\n",
    "    unique_counts_train.append(X[categorical_feature].nunique())\n",
    "    unique_counts_test.append(test[categorical_feature].nunique())\n",
    "\n",
    "categorical_counts = pd.DataFrame({\"Categorical Features\": categorical_features,\n",
    "             \"Unique_Counts_Train\": unique_counts_train,\n",
    "             \"Unique_Counts_Test\": unique_counts_test}).set_index(\"Categorical Features\")\n",
    "\n",
    "categorical_counts"
   ]
  },
  {
   "cell_type": "code",
   "execution_count": 7,
   "id": "edd14198",
   "metadata": {
    "execution": {
     "iopub.execute_input": "2024-10-24T06:44:18.748122Z",
     "iopub.status.busy": "2024-10-24T06:44:18.747719Z",
     "iopub.status.idle": "2024-10-24T06:44:20.906343Z",
     "shell.execute_reply": "2024-10-24T06:44:20.905069Z"
    },
    "papermill": {
     "duration": 2.174259,
     "end_time": "2024-10-24T06:44:20.908744",
     "exception": false,
     "start_time": "2024-10-24T06:44:18.734485",
     "status": "completed"
    },
    "tags": []
   },
   "outputs": [
    {
     "data": {
      "image/png": "[encoded data removed]",
      "text/plain": [
       "<Figure size 1000x2000 with 14 Axes>"
      ]
     },
     "metadata": {},
     "output_type": "display_data"
    }
   ],
   "source": [
    "numerical_features = [column for column in X.columns if column not in categorical_features]\n",
    "fig,ax = plt.subplots(ncols = 2,nrows = 7,figsize = (10,20))\n",
    "row_no = 0\n",
    "\n",
    "for numerical_feature in numerical_features:\n",
    "    sns.boxplot(x = numerical_feature, data = X, ax = ax[row_no][0])\n",
    "    sns.boxplot(x = numerical_feature, data = test, ax = ax[row_no][1])\n",
    "    row_no+=1\n",
    "\n",
    "plt.tight_layout()\n",
    "fig.show()"
   ]
  },
  {
   "cell_type": "markdown",
   "id": "9098c22f",
   "metadata": {
    "papermill": {
     "duration": 0.012794,
     "end_time": "2024-10-24T06:44:20.933632",
     "exception": false,
     "start_time": "2024-10-24T06:44:20.920838",
     "status": "completed"
    },
    "tags": []
   },
   "source": [
    "The dataset of this challenge includes 58645 data points for training and 39098 data points for testing. It contains both categorical and numerical features. The training dataset is imbalanced meaning that data points having `loan_status = 0` lot more that the data points having `loan_status = 1`. We have to deal with this situation later on. The unique number of categorical features are identical in train and test sets and they have low cardinality. Since the cardinality is low, we can encode them in variety of ways without encountering `the curse of dimensionality` problem. Also the datasets do not contain any empty values therefore we don't need to to work on this area.\n",
    "\n",
    "The train dataset has extreme data points in terms of `person_age` and `person_emph_length`. A person who lives 123 years might be possible but its unlikely. There is a possibility that the data was entered incorrectly, therefore I dropped that data point."
   ]
  },
  {
   "cell_type": "code",
   "execution_count": 8,
   "id": "c05a24d1",
   "metadata": {
    "execution": {
     "iopub.execute_input": "2024-10-24T06:44:20.960359Z",
     "iopub.status.busy": "2024-10-24T06:44:20.959930Z",
     "iopub.status.idle": "2024-10-24T06:44:20.984234Z",
     "shell.execute_reply": "2024-10-24T06:44:20.983000Z"
    },
    "papermill": {
     "duration": 0.040963,
     "end_time": "2024-10-24T06:44:20.987063",
     "exception": false,
     "start_time": "2024-10-24T06:44:20.946100",
     "status": "completed"
    },
    "tags": []
   },
   "outputs": [],
   "source": [
    "drop_idx = [\n",
    "    X.loc[X.person_age == X.person_age.max()].index[0],\n",
    "    X.loc[X.person_emp_length == X.person_emp_length.max()].index[0]\n",
    "]\n",
    "\n",
    "X = X.drop(drop_idx).reset_index(drop = True)\n",
    "y = y.drop(drop_idx).reset_index(drop = True)"
   ]
  },
  {
   "cell_type": "markdown",
   "id": "c909a36d",
   "metadata": {
    "papermill": {
     "duration": 0.011627,
     "end_time": "2024-10-24T06:44:21.010819",
     "exception": false,
     "start_time": "2024-10-24T06:44:20.999192",
     "status": "completed"
    },
    "tags": []
   },
   "source": [
    "# 2. Adversarial Validation\n",
    "\n",
    "In order to build a successful model, the train and test sets have to come from the same distributions. We can always plot all the features side by side for comparison but it is exhausting. Rather we can use `Adversarial Validation`.\n",
    "\n",
    "In this method,\n",
    "\n",
    "* The labels of the train and test datasets are dropped.\n",
    "* The datasets are labeled as 0 and 1 respectively.\n",
    "* The datasets are combined\n",
    "* A model is trained on the combined data set.\n",
    "\n",
    "If the model successfully predicts the fake labels then it means one of the following:\n",
    "\n",
    "* There is a data leakage.\n",
    "* The train and test sets are not coming from the same distributions.\n",
    "\n",
    "The code below applies this process. I chose `lightgbm` due to its categorical feature support and fast convergence."
   ]
  },
  {
   "cell_type": "code",
   "execution_count": 9,
   "id": "a5f7360e",
   "metadata": {
    "execution": {
     "iopub.execute_input": "2024-10-24T06:44:21.036455Z",
     "iopub.status.busy": "2024-10-24T06:44:21.036019Z",
     "iopub.status.idle": "2024-10-24T06:44:22.193429Z",
     "shell.execute_reply": "2024-10-24T06:44:22.191776Z"
    },
    "papermill": {
     "duration": 1.173489,
     "end_time": "2024-10-24T06:44:22.196229",
     "exception": false,
     "start_time": "2024-10-24T06:44:21.022740",
     "status": "completed"
    },
    "tags": []
   },
   "outputs": [
    {
     "name": "stdout",
     "output_type": "stream",
     "text": [
      "[LightGBM] [Info] Number of positive: 31321, number of negative: 46871\n",
      "[LightGBM] [Info] Auto-choosing row-wise multi-threading, the overhead of testing was 0.008857 seconds.\n",
      "You can set `force_row_wise=true` to remove the overhead.\n",
      "And if memory is not enough, you can set `force_col_wise=true`.\n",
      "[LightGBM] [Info] Total Bins 851\n",
      "[LightGBM] [Info] Number of data points in the train set: 78192, number of used features: 11\n",
      "[LightGBM] [Info] [binary:BoostFromScore]: pavg=0.400565 -> initscore=-0.403110\n",
      "[LightGBM] [Info] Start training from score -0.403110\n",
      "ROC AUC Score: 0.5\n"
     ]
    }
   ],
   "source": [
    "X['label'] = 0\n",
    "test['label'] = 1\n",
    "\n",
    "categorical_features = ['person_home_ownership', 'loan_intent', 'loan_grade', 'cb_person_default_on_file']\n",
    "for feature in categorical_features:\n",
    "    X[feature] = X[feature].astype('category')\n",
    "    test[feature] = test[feature].astype('category')\n",
    "\n",
    "concat_data = pd.concat([X, test]).sample(frac=1, replace=False)\n",
    "X_train, X_test, y_train, y_test = train_test_split(concat_data.iloc[:, :-1], concat_data['label'], test_size=0.2, random_state=42)\n",
    "\n",
    "model = lgb.LGBMClassifier()\n",
    "model.fit(X_train, y_train)\n",
    "roc_auc = roc_auc_score(y_test, model.predict_proba(X_test)[:, 1])\n",
    "\n",
    "print(\"ROC AUC Score:\", np.round(roc_auc,2))"
   ]
  },
  {
   "cell_type": "markdown",
   "id": "05a9a7b1",
   "metadata": {
    "papermill": {
     "duration": 0.011955,
     "end_time": "2024-10-24T06:44:22.220451",
     "exception": false,
     "start_time": "2024-10-24T06:44:22.208496",
     "status": "completed"
    },
    "tags": []
   },
   "source": [
    "ROC AUC score of 0.5 implies that train and test sets are identical."
   ]
  },
  {
   "cell_type": "markdown",
   "id": "edbf3154",
   "metadata": {
    "papermill": {
     "duration": 0.011743,
     "end_time": "2024-10-24T06:44:22.244348",
     "exception": false,
     "start_time": "2024-10-24T06:44:22.232605",
     "status": "completed"
    },
    "tags": []
   },
   "source": [
    "<!-- # 3. Obtaining Baseline Performance -->\n",
    "\n",
    "To obtain a baseline performance, I again used an untuned `LGBMClassifier`. To obtain a reliable performance data, I ran `StratifiedKFold` cross validation in 5 different random state settings. After that, I stored the results and commented the code below for the convenience."
   ]
  },
  {
   "cell_type": "code",
   "execution_count": 10,
   "id": "ae493805",
   "metadata": {
    "execution": {
     "iopub.execute_input": "2024-10-24T06:44:22.271063Z",
     "iopub.status.busy": "2024-10-24T06:44:22.270635Z",
     "iopub.status.idle": "2024-10-24T06:44:22.276784Z",
     "shell.execute_reply": "2024-10-24T06:44:22.275442Z"
    },
    "papermill": {
     "duration": 0.022772,
     "end_time": "2024-10-24T06:44:22.279329",
     "exception": false,
     "start_time": "2024-10-24T06:44:22.256557",
     "status": "completed"
    },
    "tags": []
   },
   "outputs": [],
   "source": [
    "# X = pd.read_csv(\"/kaggle/input/playground-series-s4e10/train.csv\").iloc[:, 1:-1]\n",
    "# y = pd.read_csv(\"/kaggle/input/playground-series-s4e10/train.csv\").iloc[:, -1]\n",
    "\n",
    "# drop_idx = [\n",
    "#     X.loc[X.person_age == X.person_age.max()].index[0],\n",
    "#     X.loc[X.person_emp_length == X.person_emp_length.max()].index[0]\n",
    "# ]\n",
    "\n",
    "# X = X.drop(drop_idx).reset_index(drop = True)\n",
    "# y = y.drop(drop_idx).reset_index(drop = True)\n",
    "\n",
    "# X['person_home_ownership'] = X['person_home_ownership'].astype('category')\n",
    "# X['loan_intent'] = X['loan_intent'].astype('category')\n",
    "# X['loan_grade'] = X['loan_grade'].astype('category')\n",
    "# X['cb_person_default_on_file'] = X['cb_person_default_on_file'].astype('category')\n",
    "\n",
    "# random_states = [1, 2, 3, 4, 5]\n",
    "# baseline_scores = []\n",
    "# categorical_features = ['person_home_ownership', 'loan_intent', 'loan_grade', 'cb_person_default_on_file']\n",
    "\n",
    "# base_params = {\n",
    "#     'objective': 'binary',\n",
    "#     'metric': 'auc',\n",
    "#     'is_unbalance': 'true',\n",
    "#     'boosting_type': 'gbdt',\n",
    "#     'seed': 42,\n",
    "#     'verbose': 0\n",
    "# }\n",
    "\n",
    "# for rnd_state in tqdm(random_states):\n",
    "#     kf = StratifiedKFold(n_splits=5, shuffle=True, random_state=rnd_state)\n",
    "#     for train_index, test_index in kf.split(X, y):\n",
    "#         X_,y_ = X.loc[train_index],y.loc[train_index]\n",
    "#         X_tst,y_tst = X.loc[test_index],y.loc[test_index]\n",
    "#         X_train,X_val,y_train,y_val = train_test_split(X_,y_,random_state = rnd_state, stratify = y_)\n",
    "        \n",
    "#         train_dataset = lgb.Dataset(data = X_train,\n",
    "#                                     label = y_train,\n",
    "#                                     categorical_feature = categorical_features)\n",
    "        \n",
    "#         validation_dataset = lgb.Dataset(data = X_val,\n",
    "#                                         label = y_val,\n",
    "#                                         categorical_feature = categorical_features)\n",
    "        \n",
    "#         lgbm_model = lgb.train(base_params, train_dataset, num_boost_round=1000, valid_sets=[validation_dataset])\n",
    "#         proba_preds = lgbm_model.predict(X_tst)\n",
    "#         baseline_scores.append(roc_auc_score(y_tst, proba_preds))\n",
    "\n",
    "# np.savetxt(\"lgbm_baseline.txt\",baseline_scores)"
   ]
  },
  {
   "cell_type": "markdown",
   "id": "524674f1",
   "metadata": {
    "papermill": {
     "duration": 0.012385,
     "end_time": "2024-10-24T06:44:22.304684",
     "exception": false,
     "start_time": "2024-10-24T06:44:22.292299",
     "status": "completed"
    },
    "tags": []
   },
   "source": [
    "# 3. Adding New Features\n",
    "\n",
    "Creating more features can potentially improve the model performance because by doing so the model enables to capture nonlinear relationships between predictors. This procedure does not have strict rules. You can do a lot of thing using your imagination. That being said, the most frequent processes are \n",
    "\n",
    "1. Binning the numerical predictors\n",
    "2. Creating meta features of rows and columns (sum, mean, median, std etc.)\n",
    "3. Numerical operations using the predictors (summing, multiplying and dividing the predictors)\n",
    "\n",
    "I used second and third method to create features. After that I ran the same untuned `lgbm` base model on the data."
   ]
  },
  {
   "cell_type": "code",
   "execution_count": 11,
   "id": "c9925c00",
   "metadata": {
    "execution": {
     "iopub.execute_input": "2024-10-24T06:44:22.331289Z",
     "iopub.status.busy": "2024-10-24T06:44:22.330855Z",
     "iopub.status.idle": "2024-10-24T06:44:22.338189Z",
     "shell.execute_reply": "2024-10-24T06:44:22.336831Z"
    },
    "papermill": {
     "duration": 0.024037,
     "end_time": "2024-10-24T06:44:22.340844",
     "exception": false,
     "start_time": "2024-10-24T06:44:22.316807",
     "status": "completed"
    },
    "tags": []
   },
   "outputs": [],
   "source": [
    "# X = pd.read_csv(\"/kaggle/input/playground-series-s4e10/train.csv\").iloc[:, 1:-1]\n",
    "# y = pd.read_csv(\"/kaggle/input/playground-series-s4e10/train.csv\").iloc[:, -1]\n",
    "\n",
    "# drop_idx = [\n",
    "#     X.loc[X.person_age == X.person_age.max()].index[0],\n",
    "#     X.loc[X.person_emp_length == X.person_emp_length.max()].index[0]\n",
    "# ]\n",
    "\n",
    "# X = X.drop(drop_idx).reset_index(drop = True)\n",
    "# y = y.drop(drop_idx).reset_index(drop = True)\n",
    "\n",
    "# #creating meta features\n",
    "# numerical_features = ['person_age', 'person_income','person_emp_length',\"loan_amnt\",\"loan_int_rate\",\"loan_percent_income\",\"cb_person_cred_hist_length\"]\n",
    "# X[\"Numeric Sum\"] = X[numerical_features].sum(axis = 1)\n",
    "# X[\"Numeric Mean\"] = X[numerical_features].mean(axis = 1)\n",
    "# X[\"Numeric Std\"] = X[numerical_features].std(axis = 1)\n",
    "\n",
    "# #creating features from the existing ones\n",
    "# X['income_loan_ratio'] = X['person_income'] / X['loan_amnt']\n",
    "# X['emp_length_to_age_ratio'] = X['person_emp_length'] / X['person_age']\n",
    "\n",
    "# X['person_home_ownership'] = X['person_home_ownership'].astype('category')\n",
    "# X['loan_intent'] = X['loan_intent'].astype('category')\n",
    "# X['loan_grade'] = X['loan_grade'].astype('category')\n",
    "# X['cb_person_default_on_file'] = X['cb_person_default_on_file'].astype('category')\n",
    "\n",
    "# random_states = [1, 2, 3, 4, 5]\n",
    "# feature_added_scores = []\n",
    "# categorical_features = ['person_home_ownership', 'loan_intent', 'loan_grade', 'cb_person_default_on_file']\n",
    "\n",
    "# base_params = {\n",
    "#     'objective': 'binary',\n",
    "#     'metric': 'auc',\n",
    "#     'is_unbalance': 'true',\n",
    "#     'boosting_type': 'gbdt',\n",
    "#     'seed': 42,\n",
    "#     'verbose': 0\n",
    "# }\n",
    "\n",
    "# for rnd_state in tqdm(random_states):\n",
    "#     kf = StratifiedKFold(n_splits=5, shuffle=True, random_state=rnd_state)\n",
    "#     for train_index, test_index in kf.split(X, y):\n",
    "#         X_,y_ = X.loc[train_index],y.loc[train_index]\n",
    "#         X_tst,y_tst = X.loc[test_index],y.loc[test_index]\n",
    "#         X_train,X_val,y_train,y_val = train_test_split(X_,y_,random_state = rnd_state, stratify = y_)\n",
    "        \n",
    "#         train_dataset = lgb.Dataset(data = X_train,\n",
    "#                                     label = y_train,\n",
    "#                                     categorical_feature = categorical_features)\n",
    "        \n",
    "#         validation_dataset = lgb.Dataset(data = X_val,\n",
    "#                                         label = y_val,\n",
    "#                                         categorical_feature = categorical_features)\n",
    "        \n",
    "#         lgbm_model = lgb.train(base_params, train_dataset, num_boost_round=1000, valid_sets=[validation_dataset])\n",
    "#         proba_preds = lgbm_model.predict(X_tst)\n",
    "#         feature_added_scores.append(roc_auc_score(y_tst, proba_preds))\n",
    "\n",
    "# np.savetxt(\"lgbm_feature_added_scores.txt\",feature_added_scores)"
   ]
  },
  {
   "cell_type": "markdown",
   "id": "88f5821c",
   "metadata": {
    "papermill": {
     "duration": 0.011726,
     "end_time": "2024-10-24T06:44:22.364771",
     "exception": false,
     "start_time": "2024-10-24T06:44:22.353045",
     "status": "completed"
    },
    "tags": []
   },
   "source": [
    "# 4. Does Adding New Features Contribute to the Modeling?\n",
    "\n",
    "While adding more features can be beneficial, if this process does not contribute to the model performance, it should be avoided. Simple is always better. Adding more redundant features only blurs the learning process. In this section I compared the performance outcomes of these models. I used bootstrapping to get the confidence interval."
   ]
  },
  {
   "cell_type": "code",
   "execution_count": 12,
   "id": "01b4dac6",
   "metadata": {
    "execution": {
     "iopub.execute_input": "2024-10-24T06:44:22.392332Z",
     "iopub.status.busy": "2024-10-24T06:44:22.391235Z",
     "iopub.status.idle": "2024-10-24T06:44:22.404578Z",
     "shell.execute_reply": "2024-10-24T06:44:22.403360Z"
    },
    "papermill": {
     "duration": 0.030343,
     "end_time": "2024-10-24T06:44:22.407382",
     "exception": false,
     "start_time": "2024-10-24T06:44:22.377039",
     "status": "completed"
    },
    "tags": []
   },
   "outputs": [],
   "source": [
    "lgbm_baseline = np.loadtxt(\"/kaggle/input/competition-prep/lgbm_baseline.txt\")\n",
    "lgbm_added_features = np.loadtxt(\"/kaggle/input/competition-prep/lgbm_feature_added_scores.txt\")"
   ]
  },
  {
   "cell_type": "markdown",
   "id": "5a16aa3b",
   "metadata": {
    "papermill": {
     "duration": 0.01348,
     "end_time": "2024-10-24T06:44:22.433307",
     "exception": false,
     "start_time": "2024-10-24T06:44:22.419827",
     "status": "completed"
    },
    "tags": []
   },
   "source": [
    "* $H_0:$ The difference between the scores is not statistically significant. ($\\mu_1 = \\mu_2$)\n",
    "* $H_A:$ The difference between the scores is not statistically significant. ($\\mu_1 \\neq \\mu_2$)"
   ]
  },
  {
   "cell_type": "code",
   "execution_count": 13,
   "id": "8e07651b",
   "metadata": {
    "execution": {
     "iopub.execute_input": "2024-10-24T06:44:22.459822Z",
     "iopub.status.busy": "2024-10-24T06:44:22.459394Z",
     "iopub.status.idle": "2024-10-24T06:44:23.151616Z",
     "shell.execute_reply": "2024-10-24T06:44:23.150280Z"
    },
    "papermill": {
     "duration": 0.708922,
     "end_time": "2024-10-24T06:44:23.154650",
     "exception": false,
     "start_time": "2024-10-24T06:44:22.445728",
     "status": "completed"
    },
    "tags": []
   },
   "outputs": [
    {
     "data": {
      "image/png": "[encoded data removed]",
      "text/plain": [
       "<Figure size 1000x500 with 2 Axes>"
      ]
     },
     "metadata": {},
     "output_type": "display_data"
    }
   ],
   "source": [
    "fig,ax = plt.subplots(ncols = 2,nrows = 1,figsize = (10,5))\n",
    "ax[0].hist(lgbm_baseline, bins = 15, edgecolor = \"white\")\n",
    "ax[1].hist(lgbm_added_features, bins = 15, edgecolor = \"white\")\n",
    "\n",
    "ax[0].set_title(\"Base Performance\", loc = \"left\")\n",
    "ax[1].set_title(\"Feature Added Performance\", loc = \"left\")\n",
    "\n",
    "ax[0].set_ylabel(\"Frequency\")\n",
    "ax[0].set_xlabel(\"ROC AUC Score\")\n",
    "ax[1].set_xlabel(\"ROC AUC Score\")\n",
    "\n",
    "fig.show()"
   ]
  },
  {
   "cell_type": "code",
   "execution_count": 14,
   "id": "000e1fe5",
   "metadata": {
    "execution": {
     "iopub.execute_input": "2024-10-24T06:44:23.183245Z",
     "iopub.status.busy": "2024-10-24T06:44:23.182667Z",
     "iopub.status.idle": "2024-10-24T06:44:23.201269Z",
     "shell.execute_reply": "2024-10-24T06:44:23.200202Z"
    },
    "papermill": {
     "duration": 0.035977,
     "end_time": "2024-10-24T06:44:23.204253",
     "exception": false,
     "start_time": "2024-10-24T06:44:23.168276",
     "status": "completed"
    },
    "tags": []
   },
   "outputs": [
    {
     "data": {
      "text/plain": [
       "ConfidenceInterval(low=-0.0007969152725608606, high=5.593525018410446e-05)"
      ]
     },
     "execution_count": 14,
     "metadata": {},
     "output_type": "execute_result"
    }
   ],
   "source": [
    "diff = lgbm_added_features - lgbm_baseline\n",
    "diff_simulation = stats.bootstrap((diff,),\n",
    "                                 statistic = np.mean,\n",
    "                                 n_resamples = 10000,\n",
    "                                 random_state=42)\n",
    "diff_simulation.confidence_interval"
   ]
  },
  {
   "cell_type": "code",
   "execution_count": 15,
   "id": "af021cd0",
   "metadata": {
    "execution": {
     "iopub.execute_input": "2024-10-24T06:44:23.231834Z",
     "iopub.status.busy": "2024-10-24T06:44:23.231426Z",
     "iopub.status.idle": "2024-10-24T06:44:23.535018Z",
     "shell.execute_reply": "2024-10-24T06:44:23.533937Z"
    },
    "papermill": {
     "duration": 0.320653,
     "end_time": "2024-10-24T06:44:23.537887",
     "exception": false,
     "start_time": "2024-10-24T06:44:23.217234",
     "status": "completed"
    },
    "tags": []
   },
   "outputs": [
    {
     "data": {
      "image/png": "[encoded data removed]",
      "text/plain": [
       "<Figure size 640x480 with 1 Axes>"
      ]
     },
     "metadata": {},
     "output_type": "display_data"
    }
   ],
   "source": [
    "plt.figure()\n",
    "plt.hist(diff_simulation.bootstrap_distribution,bins = 15,edgecolor = \"white\")\n",
    "plt.axvline(diff_simulation.confidence_interval[0], linestyle = \"--\", alpha = 0.5, color = \"grey\")\n",
    "plt.axvline(diff_simulation.confidence_interval[1], linestyle = \"--\", alpha = 0.5, color = \"grey\")\n",
    "plt.title(\"Simulation Distribution\", loc = \"left\")\n",
    "plt.ylabel(\"Frequency\")\n",
    "plt.xlabel(\"Difference\")\n",
    "plt.xticks(rotation = 30)\n",
    "plt.show()"
   ]
  },
  {
   "cell_type": "markdown",
   "id": "67732e44",
   "metadata": {
    "papermill": {
     "duration": 0.013279,
     "end_time": "2024-10-24T06:44:23.564671",
     "exception": false,
     "start_time": "2024-10-24T06:44:23.551392",
     "status": "completed"
    },
    "tags": []
   },
   "source": [
    "**Conclusion:** Since 0 is in the confidence interval, we can conclude that we need more evidence to prove that adding new features contribute to the statistical modeling."
   ]
  },
  {
   "cell_type": "markdown",
   "id": "ee3d4e8d",
   "metadata": {
    "papermill": {
     "duration": 0.013498,
     "end_time": "2024-10-24T06:44:23.591596",
     "exception": false,
     "start_time": "2024-10-24T06:44:23.578098",
     "status": "completed"
    },
    "tags": []
   },
   "source": [
    "# 5. Model Optimization\n",
    "\n",
    "In this section, I optimized the state of art algorithms for tabular data using `Optuna`. My goal is to compare these optimized models. Depending on the comparison results, we will have two options:\n",
    "\n",
    "* If the models perform similarly, we could use a meta learner to improve the final performance.\n",
    "* If one model beats all the others, then we could use it as our final prediction model.\n",
    "\n",
    "Again, I ran the cells below and stored the results in elsewhere for the convenience. Feel free to uncomment these cells to get the parameters I obtained.  "
   ]
  },
  {
   "cell_type": "markdown",
   "id": "c81fafd1",
   "metadata": {
    "papermill": {
     "duration": 0.013179,
     "end_time": "2024-10-24T06:44:23.618210",
     "exception": false,
     "start_time": "2024-10-24T06:44:23.605031",
     "status": "completed"
    },
    "tags": []
   },
   "source": [
    "## 5.1. LGBM Optimization"
   ]
  },
  {
   "cell_type": "code",
   "execution_count": 16,
   "id": "d6b307c3",
   "metadata": {
    "execution": {
     "iopub.execute_input": "2024-10-24T06:44:23.646584Z",
     "iopub.status.busy": "2024-10-24T06:44:23.646128Z",
     "iopub.status.idle": "2024-10-24T06:44:23.653235Z",
     "shell.execute_reply": "2024-10-24T06:44:23.651818Z"
    },
    "papermill": {
     "duration": 0.024372,
     "end_time": "2024-10-24T06:44:23.655778",
     "exception": false,
     "start_time": "2024-10-24T06:44:23.631406",
     "status": "completed"
    },
    "tags": []
   },
   "outputs": [],
   "source": [
    "# !pip install optuna-integration[lightgbm]\n",
    "# from optuna.integration import LightGBMPruningCallback\n",
    "\n",
    "\n",
    "# X = pd.read_csv(\"/kaggle/input/playground-series-s4e10/train.csv\").iloc[:, 1:-1]\n",
    "# y = pd.read_csv(\"/kaggle/input/playground-series-s4e10/train.csv\").iloc[:, -1]\n",
    "\n",
    "# drop_idx = [\n",
    "#     X.loc[X.person_age == X.person_age.max()].index[0],\n",
    "#     X.loc[X.person_emp_length == X.person_emp_length.max()].index[0]\n",
    "# ]\n",
    "\n",
    "# X = X.drop(drop_idx).reset_index(drop = True)\n",
    "# y = y.drop(drop_idx).reset_index(drop = True)\n",
    "\n",
    "# categorical_features = ['person_home_ownership', 'loan_intent', 'loan_grade', 'cb_person_default_on_file']\n",
    "# for feature in categorical_features:\n",
    "#     X[feature] = X[feature].astype('category')\n",
    "\n",
    "# X_,X_test,y_,y_test = train_test_split(X,y,stratify = y, random_state = 42, test_size = 0.15)\n",
    "# X_train,X_val,y_train,y_val = train_test_split(X_,y_,stratify = y_, random_state = 42, test_size = 0.1)\n",
    "\n",
    "# def objective(trial):\n",
    "    \n",
    "#     param = {\n",
    "#         'objective': 'binary',  \n",
    "#         'metric': 'auc',\n",
    "#         'is_unbalance': 'true',\n",
    "#         'verbosity': -1,  \n",
    "#         'seed': 42,\n",
    "#         'boosting_type': 'gbdt',  \n",
    "#         'lambda_l1': trial.suggest_float('lambda_l1', 1e-8, 10.0, log = True),  \n",
    "#         'lambda_l2': trial.suggest_float('lambda_l2', 1e-8, 10.0, log = True), \n",
    "#         'num_leaves': trial.suggest_int('num_leaves', 20, 100),  \n",
    "#         'feature_fraction': trial.suggest_float('feature_fraction', 0.4, 1.0),  \n",
    "#         'bagging_fraction': trial.suggest_float('bagging_fraction', 0.4, 1.0), \n",
    "#         'bagging_freq': trial.suggest_int('bagging_freq', 1, 7),  \n",
    "#         'min_child_samples': trial.suggest_int('min_child_samples', 5, 100),  \n",
    "#         'learning_rate': trial.suggest_float('learning_rate', 1e-4, 0.1, log = True)  \n",
    "#     }\n",
    "    \n",
    "    \n",
    "#     dtrain = lgb.Dataset(X_train, label=y_train)\n",
    "#     dval = lgb.Dataset(X_val,label = y_val)\n",
    "    \n",
    "    \n",
    "#     gbm = lgb.train(\n",
    "#         param, dtrain, \n",
    "#         valid_sets=[dval], \n",
    "#         num_boost_round=1000, \n",
    "#         callbacks=[LightGBMPruningCallback(trial, 'auc')]  \n",
    "#     )\n",
    "    \n",
    "#     y_pred = gbm.predict(X_test, num_iteration=gbm.best_iteration)\n",
    "    \n",
    "    \n",
    "#     auc_score = roc_auc_score(y_test, y_pred)\n",
    "    \n",
    "#     return auc_score\n",
    "\n",
    "# study = optuna.create_study(direction='maximize')  \n",
    "# study.optimize(objective, n_trials=100, timeout=600) \n",
    "\n",
    "# best_params = study.best_params\n",
    "\n",
    "# with open(\"lgbm_best_params.json\", \"w\") as f:\n",
    "#     json.dump(best_params, f, indent=4)"
   ]
  },
  {
   "cell_type": "markdown",
   "id": "9699df82",
   "metadata": {
    "papermill": {
     "duration": 0.012744,
     "end_time": "2024-10-24T06:44:23.681716",
     "exception": false,
     "start_time": "2024-10-24T06:44:23.668972",
     "status": "completed"
    },
    "tags": []
   },
   "source": [
    "## 5.2. CatBoost Optimization"
   ]
  },
  {
   "cell_type": "code",
   "execution_count": 17,
   "id": "a6de0ef0",
   "metadata": {
    "execution": {
     "iopub.execute_input": "2024-10-24T06:44:23.710603Z",
     "iopub.status.busy": "2024-10-24T06:44:23.710173Z",
     "iopub.status.idle": "2024-10-24T06:44:23.716775Z",
     "shell.execute_reply": "2024-10-24T06:44:23.715644Z"
    },
    "papermill": {
     "duration": 0.023571,
     "end_time": "2024-10-24T06:44:23.719180",
     "exception": false,
     "start_time": "2024-10-24T06:44:23.695609",
     "status": "completed"
    },
    "tags": []
   },
   "outputs": [],
   "source": [
    "# X = pd.read_csv(\"/kaggle/input/playground-series-s4e10/train.csv\").iloc[:,1:-1]\n",
    "# y = pd.read_csv(\"/kaggle/input/playground-series-s4e10/train.csv\").iloc[:,-1]\n",
    "# categorical_features = ['person_home_ownership', 'loan_intent', 'loan_grade', 'cb_person_default_on_file']\n",
    "\n",
    "# drop_idx = [\n",
    "#     X.loc[X.person_age == X.person_age.max()].index[0],\n",
    "#     X.loc[X.person_emp_length == X.person_emp_length.max()].index[0]\n",
    "# ]\n",
    "\n",
    "# X = X.drop(drop_idx).reset_index(drop = True)\n",
    "# y = y.drop(drop_idx).reset_index(drop = True)\n",
    "\n",
    "# X_,X_test,y_,y_test = train_test_split(X,y,stratify = y, random_state = 42, test_size = 0.15)\n",
    "# X_train,X_val,y_train,y_val = train_test_split(X_,y_,stratify = y_, random_state = 42, test_size = 0.1)\n",
    "\n",
    "# def objective(trial):\n",
    "\n",
    "#     param = {\n",
    "#         'iterations': trial.suggest_int('iterations', 100, 1000),  \n",
    "#         'depth': trial.suggest_int('depth', 4, 10),  \n",
    "#         'learning_rate': trial.suggest_float('learning_rate', 1e-4, 1.0,log = True), \n",
    "#         'l2_leaf_reg': trial.suggest_float('l2_leaf_reg', 1e-3, 10.0,log = True),  \n",
    "#         'random_strength': trial.suggest_float('random_strength', 0.1, 10.0),  \n",
    "#         'bagging_temperature': trial.suggest_float('bagging_temperature', 0.0, 10.0),  \n",
    "#         'border_count': trial.suggest_int('border_count', 1, 255),  \n",
    "#         'loss_function': 'Logloss',\n",
    "#         'task_type': 'CPU',\n",
    "#         'scale_pos_weight': (sum(y_train == 0) / sum(y_train == 1)),\n",
    "#         'random_state': 42,\n",
    "#         'early_stopping_rounds': 100,\n",
    "#         'use_best_model':True,\n",
    "#         'eval_metric':'AUC',\n",
    "#         'cat_features': categorical_features\n",
    "        \n",
    "        \n",
    "#     }\n",
    "\n",
    "    \n",
    "\n",
    "#     dtrain = cat.Pool(X_train,\n",
    "#                       label = y_train,\n",
    "#                       cat_features = categorical_features)\n",
    "\n",
    "#     dval = cat.Pool(X_val,\n",
    "#                    label = y_val,\n",
    "#                    cat_features = categorical_features)\n",
    "\n",
    "#     cat_model = cat.CatBoostClassifier(**param)\n",
    "#     cat_model.fit(dtrain,\n",
    "#                  eval_set = (dval))\n",
    "                              \n",
    "\n",
    "#     preds = cat_model.predict_proba(X_test)[:,1]\n",
    "#     auc_score = roc_auc_score(y_test,preds)\n",
    "#     return auc_score\n",
    "\n",
    "# study = optuna.create_study(direction = \"maximize\")\n",
    "# study.optimize(objective,n_trials = 100, timeout = 600)\n",
    "\n",
    "# best_params = study.best_params\n",
    "\n",
    "# with open(\"catboost_best_params.json\", \"w\") as f:\n",
    "#     json.dump(best_params, f, indent=4)"
   ]
  },
  {
   "cell_type": "markdown",
   "id": "f40979d2",
   "metadata": {
    "papermill": {
     "duration": 0.012848,
     "end_time": "2024-10-24T06:44:23.746144",
     "exception": false,
     "start_time": "2024-10-24T06:44:23.733296",
     "status": "completed"
    },
    "tags": []
   },
   "source": [
    "## 5.3. XGBoost Optimization"
   ]
  },
  {
   "cell_type": "code",
   "execution_count": 18,
   "id": "f0d4946d",
   "metadata": {
    "execution": {
     "iopub.execute_input": "2024-10-24T06:44:23.774614Z",
     "iopub.status.busy": "2024-10-24T06:44:23.774116Z",
     "iopub.status.idle": "2024-10-24T06:44:23.781309Z",
     "shell.execute_reply": "2024-10-24T06:44:23.779973Z"
    },
    "papermill": {
     "duration": 0.024304,
     "end_time": "2024-10-24T06:44:23.783759",
     "exception": false,
     "start_time": "2024-10-24T06:44:23.759455",
     "status": "completed"
    },
    "tags": []
   },
   "outputs": [],
   "source": [
    "# X = pd.read_csv(\"/kaggle/input/playground-series-s4e10/train.csv\").iloc[:,1:-1]\n",
    "# y = pd.read_csv(\"/kaggle/input/playground-series-s4e10/train.csv\").iloc[:,-1]\n",
    "\n",
    "# drop_idx = [\n",
    "#     X.loc[X.person_age == X.person_age.max()].index[0],\n",
    "#     X.loc[X.person_emp_length == X.person_emp_length.max()].index[0]\n",
    "# ]\n",
    "\n",
    "# X = X.drop(drop_idx).reset_index(drop = True)\n",
    "# y = y.drop(drop_idx).reset_index(drop = True)\n",
    "\n",
    "\n",
    "\n",
    "\n",
    "# categorical_features = ['person_home_ownership', 'loan_intent', 'loan_grade', 'cb_person_default_on_file']\n",
    "# ohe_features = categorical_features[:-1]  \n",
    "\n",
    "\n",
    "# ct = ColumnTransformer(\n",
    "#     transformers=[\n",
    "#         ('ohe', OneHotEncoder(), ohe_features),\n",
    "#         ('oe', OrdinalEncoder(),[\"cb_person_default_on_file\"])\n",
    "#     ],\n",
    "#     remainder='passthrough'  \n",
    "# )\n",
    "\n",
    "\n",
    "# X_transformed = ct.fit_transform(X)\n",
    "\n",
    "# X_,X_test,y_,y_test = train_test_split(X_transformed,y,stratify = y, random_state = 42, test_size = 0.15)\n",
    "# X_train,X_val,y_train,y_val = train_test_split(X_,y_,stratify = y_, random_state = 42, test_size = 0.1)\n",
    "\n",
    "# def objective(trial):\n",
    "\n",
    "#     param = {\n",
    "#         'verbosity': 0,  \n",
    "#         'objective': 'binary:logistic',  \n",
    "#         'eval_metric': 'auc',\n",
    "#         'tree_method': 'auto',\n",
    "#         'max_delta_step': trial.suggest_int('max_delta_step', 0, 20),\n",
    "#         'booster': 'gbtree',  \n",
    "#         'lambda': trial.suggest_float('lambda', 1e-3, 10.0,log = True),  \n",
    "#         'alpha': trial.suggest_float('alpha', 1e-3, 10.0,log = True),  \n",
    "#         'eta': trial.suggest_float('eta', 1e-2, 1,log = True),  \n",
    "#         'max_depth': trial.suggest_int('max_depth', 1, 50),  \n",
    "#         'min_child_weight': trial.suggest_int('min_child_weight', 1, 10), \n",
    "#         'subsample': trial.suggest_float('subsample', 0.1, 1.0),  \n",
    "#         'colsample_bytree': trial.suggest_float('colsample_bytree', 0.1, 1.0), \n",
    "#         'colsample_bylevel': trial.suggest_float('colsample_bylevel', 0.1, 1.0),\n",
    "#         'n_estimators': trial.suggest_int('n_estimators', 10, 5000) ,\n",
    "#         'scale_pos_weight': (sum(y_train == 0) / sum(y_train == 1)),\n",
    "#         'random_state': 42\n",
    "#     }\n",
    "\n",
    "#     xgb_model = xgb.XGBClassifier(**param)\n",
    "#     xgb_model.fit(X_train,y_train,\n",
    "#                  eval_set=[(X_val, y_val)],\n",
    "#                  early_stopping_rounds=100, verbose=False)\n",
    "\n",
    "#     preds = xgb_model.predict_proba(X_test)[:,1]\n",
    "#     auc_score = roc_auc_score(y_test,preds)\n",
    "\n",
    "#     return auc_score\n",
    "\n",
    "# study = optuna.create_study(direction = 'maximize')\n",
    "# study.optimize(objective,n_trials = 150,timeout = 900)\n",
    "\n",
    "# best_params = study.best_params\n",
    "\n",
    "# with open(\"xgboost_best_params.json\", \"w\") as f:\n",
    "#     json.dump(best_params, f, indent=4)"
   ]
  },
  {
   "cell_type": "markdown",
   "id": "03ab7670",
   "metadata": {
    "papermill": {
     "duration": 0.012899,
     "end_time": "2024-10-24T06:44:23.809915",
     "exception": false,
     "start_time": "2024-10-24T06:44:23.797016",
     "status": "completed"
    },
    "tags": []
   },
   "source": [
    "# 6. Optimized Model Comparison\n",
    "\n",
    "First I loaded the best parameters and combine them with the constant ones."
   ]
  },
  {
   "cell_type": "code",
   "execution_count": 19,
   "id": "45201b5a",
   "metadata": {
    "execution": {
     "iopub.execute_input": "2024-10-24T06:44:23.838044Z",
     "iopub.status.busy": "2024-10-24T06:44:23.837639Z",
     "iopub.status.idle": "2024-10-24T06:44:23.888085Z",
     "shell.execute_reply": "2024-10-24T06:44:23.886806Z"
    },
    "papermill": {
     "duration": 0.067516,
     "end_time": "2024-10-24T06:44:23.890676",
     "exception": false,
     "start_time": "2024-10-24T06:44:23.823160",
     "status": "completed"
    },
    "tags": []
   },
   "outputs": [],
   "source": [
    "#load the optimized parameters for each model\n",
    "with open(\"/kaggle/input/competition-prep/catboost_best_params.json\", 'r') as f:\n",
    "    cat_best_params = json.load(f)\n",
    "\n",
    "with open(\"/kaggle/input/competition-prep/lgbm_best_params.json\", 'r') as f:\n",
    "    lgbm_best_params = json.load(f)\n",
    "\n",
    "with open(\"/kaggle/input/competition-prep/xgboost_best_params.json\", 'r') as f:\n",
    "    xgb_best_params = json.load(f)\n",
    "\n",
    "\n",
    "#complete the parameter dictionaries\n",
    "lgbm_rest = {'objective': 'binary',  \n",
    "        'metric': 'auc',\n",
    "        'is_unbalance': 'true',\n",
    "        'verbosity': -1,  \n",
    "        'random_state ': 42,\n",
    "        'boosting_type': 'gbdt',\n",
    "        \"n_estimators\": 1000}\n",
    "\n",
    "lgbm_best_params.update(lgbm_rest) \n",
    "\n",
    "cat_rest = {'loss_function': 'Logloss',\n",
    "            'task_type': 'CPU',\n",
    "            'scale_pos_weight': (sum(y_train == 0) / sum(y_train == 1)),\n",
    "            'random_state': 42,\n",
    "            'early_stopping_rounds': 100,\n",
    "           'use_best_model':True,\n",
    "           'eval_metric':'AUC',\n",
    "            'cat_features': categorical_features}\n",
    "\n",
    "cat_best_params.update(cat_rest)\n",
    "\n",
    "xgb_rest = {'verbosity': 0,\n",
    "            'objective': 'binary:logistic',\n",
    "            'scale_pos_weight': (sum(y_train == 0) / sum(y_train == 1)),\n",
    "            'random_state': 42,\n",
    "            'eval_metric': 'auc',\n",
    "            'tree_method': 'auto',\n",
    "            'booster': 'gbtree',\n",
    "          }\n",
    "\n",
    "xgb_best_params.update(xgb_rest)"
   ]
  },
  {
   "cell_type": "markdown",
   "id": "4b7c6158",
   "metadata": {
    "papermill": {
     "duration": 0.013487,
     "end_time": "2024-10-24T06:44:23.918078",
     "exception": false,
     "start_time": "2024-10-24T06:44:23.904591",
     "status": "completed"
    },
    "tags": []
   },
   "source": [
    "Then I prepared the training dataset for the models."
   ]
  },
  {
   "cell_type": "code",
   "execution_count": 20,
   "id": "15882f1d",
   "metadata": {
    "execution": {
     "iopub.execute_input": "2024-10-24T06:44:23.946087Z",
     "iopub.status.busy": "2024-10-24T06:44:23.945655Z",
     "iopub.status.idle": "2024-10-24T06:44:24.281910Z",
     "shell.execute_reply": "2024-10-24T06:44:24.280738Z"
    },
    "papermill": {
     "duration": 0.353691,
     "end_time": "2024-10-24T06:44:24.284924",
     "exception": false,
     "start_time": "2024-10-24T06:44:23.931233",
     "status": "completed"
    },
    "tags": []
   },
   "outputs": [],
   "source": [
    "X = pd.read_csv(\"/kaggle/input/playground-series-s4e10/train.csv\").iloc[:,1:-1]\n",
    "y = pd.read_csv(\"/kaggle/input/playground-series-s4e10/train.csv\").iloc[:,-1]\n",
    "\n",
    "drop_idx = [\n",
    "    X.loc[X.person_age == X.person_age.max()].index[0],\n",
    "    X.loc[X.person_emp_length == X.person_emp_length.max()].index[0]\n",
    "]\n",
    "\n",
    "X = X.drop(drop_idx).reset_index(drop = True)\n",
    "y = y.drop(drop_idx).reset_index(drop = True)\n",
    "\n",
    "categorical_features = ['person_home_ownership', 'loan_intent', 'loan_grade', 'cb_person_default_on_file']\n",
    "ohe_features = categorical_features[:-1]  \n",
    "\n",
    "\n",
    "ct = ColumnTransformer(\n",
    "    transformers=[\n",
    "        ('ohe', OneHotEncoder(), ohe_features),\n",
    "        ('oe', OrdinalEncoder(),[\"cb_person_default_on_file\"])],remainder='passthrough')\n",
    "\n",
    "X_xgboost = ct.fit_transform(X.copy())\n",
    "\n",
    "for feature in categorical_features:\n",
    "    X[feature] = X[feature].astype('category')"
   ]
  },
  {
   "cell_type": "markdown",
   "id": "9786a706",
   "metadata": {
    "papermill": {
     "duration": 0.013442,
     "end_time": "2024-10-24T06:44:24.311985",
     "exception": false,
     "start_time": "2024-10-24T06:44:24.298543",
     "status": "completed"
    },
    "tags": []
   },
   "source": [
    "Finally, I trained all the models using `StratifiedKFold` cross validation."
   ]
  },
  {
   "cell_type": "code",
   "execution_count": 21,
   "id": "fe7ec437",
   "metadata": {
    "execution": {
     "iopub.execute_input": "2024-10-24T06:44:24.341227Z",
     "iopub.status.busy": "2024-10-24T06:44:24.340230Z",
     "iopub.status.idle": "2024-10-24T06:44:24.346385Z",
     "shell.execute_reply": "2024-10-24T06:44:24.345248Z"
    },
    "papermill": {
     "duration": 0.023409,
     "end_time": "2024-10-24T06:44:24.348719",
     "exception": false,
     "start_time": "2024-10-24T06:44:24.325310",
     "status": "completed"
    },
    "tags": []
   },
   "outputs": [],
   "source": [
    "# lgbm_performances = []\n",
    "# cat_performances = []\n",
    "\n",
    "# random_states = [1,2,3,4,5]\n",
    "# for rnd_state in tqdm(random_states):\n",
    "#     skf = StratifiedKFold(n_splits = 5, random_state = rnd_state,shuffle = True)\n",
    "    \n",
    "#     for train_index, test_index in skf.split(X, y):\n",
    "#         lgb_model = lgb.LGBMClassifier(**lgbm_best_params)\n",
    "#         cat_model = cat.CatBoostClassifier(**cat_best_params)\n",
    "\n",
    "#         X_,y_ = X.loc[train_index],y.loc[train_index]\n",
    "#         X_tst,y_tst = X.loc[test_index],y.loc[test_index]\n",
    "#         X_train,X_val,y_train,y_val = train_test_split(X_,y_,random_state = rnd_state, stratify = y_)\n",
    "\n",
    "#         lgb_model.fit(X_train,y_train,\n",
    "#                      eval_set = [(X_val,y_val)],\n",
    "#                      callbacks = [lgb.early_stopping(100)])\n",
    "        \n",
    "#         cat_model.fit(X_train,y_train,\n",
    "#                      eval_set = [(X_val,y_val)])\n",
    "\n",
    "#         lgbm_preds = lgb_model.predict_proba(X_tst)[:,1]\n",
    "#         lgbm_performances.append(roc_auc_score(y_tst,lgbm_preds))\n",
    "\n",
    "#         cat_preds = cat_model.predict_proba(X_tst)[:,1]\n",
    "#         cat_performances.append(roc_auc_score(y_tst,cat_preds))\n",
    "\n",
    "\n",
    "# np.savetxt(\"lgbm_best_performaces.txt\",lgbm_performances)\n",
    "# np.savetxt(\"cat_best_performaces.txt\",cat_performances)"
   ]
  },
  {
   "cell_type": "code",
   "execution_count": 22,
   "id": "084e13a7",
   "metadata": {
    "execution": {
     "iopub.execute_input": "2024-10-24T06:44:24.377681Z",
     "iopub.status.busy": "2024-10-24T06:44:24.377261Z",
     "iopub.status.idle": "2024-10-24T06:44:24.382777Z",
     "shell.execute_reply": "2024-10-24T06:44:24.381689Z"
    },
    "papermill": {
     "duration": 0.022921,
     "end_time": "2024-10-24T06:44:24.385386",
     "exception": false,
     "start_time": "2024-10-24T06:44:24.362465",
     "status": "completed"
    },
    "tags": []
   },
   "outputs": [],
   "source": [
    "# xgb_performances = []\n",
    "\n",
    "# random_states = [1,2,3,4,5]\n",
    "# for rnd_state in tqdm(random_states):\n",
    "#     skf = StratifiedKFold(n_splits = 5, random_state = rnd_state,shuffle = True)\n",
    "    \n",
    "#     for train_index, test_index in skf.split(X_xgboost, y):\n",
    "#         xgb_model = xgb.XGBClassifier(**xgb_best_params)\n",
    "\n",
    "#         X_,y_ = X_xgboost[train_index],y.loc[train_index]\n",
    "#         X_tst,y_tst = X_xgboost[test_index],y.loc[test_index]\n",
    "#         X_train,X_val,y_train,y_val = train_test_split(X_,y_,random_state = rnd_state, stratify = y_)\n",
    "\n",
    "#         xgb_model.fit(X_train,y_train,\n",
    "#                      eval_set = [(X_val,y_val)],\n",
    "#                      early_stopping_rounds = 100)\n",
    "\n",
    "#         xgb_preds = xgb_model.predict_proba(X_tst)[:,1]\n",
    "#         xgb_performances.append(roc_auc_score(y_tst,xgb_preds))\n",
    "        \n",
    "# np.savetxt(\"xgb_best_performaces.txt\",xgb_performances)"
   ]
  },
  {
   "cell_type": "code",
   "execution_count": 23,
   "id": "57d71106",
   "metadata": {
    "execution": {
     "iopub.execute_input": "2024-10-24T06:44:24.414427Z",
     "iopub.status.busy": "2024-10-24T06:44:24.413326Z",
     "iopub.status.idle": "2024-10-24T06:44:24.433122Z",
     "shell.execute_reply": "2024-10-24T06:44:24.431877Z"
    },
    "papermill": {
     "duration": 0.037746,
     "end_time": "2024-10-24T06:44:24.436406",
     "exception": false,
     "start_time": "2024-10-24T06:44:24.398660",
     "status": "completed"
    },
    "tags": []
   },
   "outputs": [],
   "source": [
    "catboost_performance = np.loadtxt(\"/kaggle/input/competition-prep/cat_best_performaces.txt\")\n",
    "lgbm_performance = np.loadtxt(\"/kaggle/input/competition-prep/lgbm_best_performaces.txt\")\n",
    "xgb_performance = np.loadtxt(\"/kaggle/input/competition-prep/xgb_best_performaces.txt\")"
   ]
  },
  {
   "cell_type": "code",
   "execution_count": 24,
   "id": "a2f8a24e",
   "metadata": {
    "execution": {
     "iopub.execute_input": "2024-10-24T06:44:24.466374Z",
     "iopub.status.busy": "2024-10-24T06:44:24.465968Z",
     "iopub.status.idle": "2024-10-24T06:44:24.722272Z",
     "shell.execute_reply": "2024-10-24T06:44:24.721091Z"
    },
    "papermill": {
     "duration": 0.273941,
     "end_time": "2024-10-24T06:44:24.724899",
     "exception": false,
     "start_time": "2024-10-24T06:44:24.450958",
     "status": "completed"
    },
    "tags": []
   },
   "outputs": [
    {
     "data": {
      "image/png": "[encoded data removed]",
      "text/plain": [
       "<Figure size 640x480 with 1 Axes>"
      ]
     },
     "metadata": {},
     "output_type": "display_data"
    }
   ],
   "source": [
    "plt.figure()\n",
    "sns.boxplot([catboost_performance,xgb_performance,lgbm_performance])\n",
    "plt.xticks([0,1,2],[\"cat\",\"xgb\",\"lgbm\"])\n",
    "plt.title(\"Model Comparison\", loc = \"left\")\n",
    "plt.show()\n"
   ]
  },
  {
   "cell_type": "code",
   "execution_count": 25,
   "id": "13c7f065",
   "metadata": {
    "execution": {
     "iopub.execute_input": "2024-10-24T06:44:24.754648Z",
     "iopub.status.busy": "2024-10-24T06:44:24.754193Z",
     "iopub.status.idle": "2024-10-24T06:44:25.058695Z",
     "shell.execute_reply": "2024-10-24T06:44:25.057508Z"
    },
    "papermill": {
     "duration": 0.322208,
     "end_time": "2024-10-24T06:44:25.061385",
     "exception": false,
     "start_time": "2024-10-24T06:44:24.739177",
     "status": "completed"
    },
    "tags": []
   },
   "outputs": [
    {
     "name": "stdout",
     "output_type": "stream",
     "text": [
      "ANOVA Results:\n",
      "Test statistic: 20.726343206387003\n",
      "P-value: 7.773876771194768e-08\n",
      "\n",
      "Tukey's HSD Pairwise Group Comparisons (95.0% Confidence Interval)\n",
      "Comparison  Statistic  p-value  Lower CI  Upper CI\n",
      " (0 - 1)     -0.003     0.000    -0.005    -0.001\n",
      " (0 - 2)     -0.005     0.000    -0.006    -0.003\n",
      " (1 - 0)      0.003     0.000     0.001     0.005\n",
      " (1 - 2)     -0.002     0.048    -0.003    -0.000\n",
      " (2 - 0)      0.005     0.000     0.003     0.006\n",
      " (2 - 1)      0.002     0.048     0.000     0.003\n",
      "\n"
     ]
    }
   ],
   "source": [
    "test_results = stats.f_oneway(catboost_performance,xgb_performance,lgbm_performance)\n",
    "print(\"ANOVA Results:\")\n",
    "print(\"Test statistic:\", test_results[0])\n",
    "print(\"P-value:\", test_results[1])\n",
    "print()\n",
    "print(stats.tukey_hsd(catboost_performance,xgb_performance,lgbm_performance))"
   ]
  },
  {
   "cell_type": "markdown",
   "id": "ac6cd678",
   "metadata": {
    "papermill": {
     "duration": 0.013472,
     "end_time": "2024-10-24T06:44:25.088834",
     "exception": false,
     "start_time": "2024-10-24T06:44:25.075362",
     "status": "completed"
    },
    "tags": []
   },
   "source": [
    "From the boxplots and statistical tests, we can confidently say that `lgbm` model is better than the others. Therefore, we don't need to use a meta learner. We can opt for `lgbm` model as our final prediction model instead."
   ]
  },
  {
   "cell_type": "markdown",
   "id": "1c8b0fd1",
   "metadata": {
    "papermill": {
     "duration": 0.013674,
     "end_time": "2024-10-24T06:44:25.116891",
     "exception": false,
     "start_time": "2024-10-24T06:44:25.103217",
     "status": "completed"
    },
    "tags": []
   },
   "source": [
    "# 7. Final Training and Submission"
   ]
  },
  {
   "cell_type": "code",
   "execution_count": 26,
   "id": "76dcf1d4",
   "metadata": {
    "execution": {
     "iopub.execute_input": "2024-10-24T06:44:25.147605Z",
     "iopub.status.busy": "2024-10-24T06:44:25.147058Z",
     "iopub.status.idle": "2024-10-24T06:44:38.086861Z",
     "shell.execute_reply": "2024-10-24T06:44:38.085456Z"
    },
    "papermill": {
     "duration": 12.957772,
     "end_time": "2024-10-24T06:44:38.089577",
     "exception": false,
     "start_time": "2024-10-24T06:44:25.131805",
     "status": "completed"
    },
    "tags": []
   },
   "outputs": [
    {
     "data": {
      "text/html": [
       "<style>#sk-container-id-1 {color: black;background-color: white;}#sk-container-id-1 pre{padding: 0;}#sk-container-id-1 div.sk-toggleable {background-color: white;}#sk-container-id-1 label.sk-toggleable__label {cursor: pointer;display: block;width: 100%;margin-bottom: 0;padding: 0.3em;box-sizing: border-box;text-align: center;}#sk-container-id-1 label.sk-toggleable__label-arrow:before {content: \"▸\";float: left;margin-right: 0.25em;color: #696969;}#sk-container-id-1 label.sk-toggleable__label-arrow:hover:before {color: black;}#sk-container-id-1 div.sk-estimator:hover label.sk-toggleable__label-arrow:before {color: black;}#sk-container-id-1 div.sk-toggleable__content {max-height: 0;max-width: 0;overflow: hidden;text-align: left;background-color: #f0f8ff;}#sk-container-id-1 div.sk-toggleable__content pre {margin: 0.2em;color: black;border-radius: 0.25em;background-color: #f0f8ff;}#sk-container-id-1 input.sk-toggleable__control:checked~div.sk-toggleable__content {max-height: 200px;max-width: 100%;overflow: auto;}#sk-container-id-1 input.sk-toggleable__control:checked~label.sk-toggleable__label-arrow:before {content: \"▾\";}#sk-container-id-1 div.sk-estimator input.sk-toggleable__control:checked~label.sk-toggleable__label {background-color: #d4ebff;}#sk-container-id-1 div.sk-label input.sk-toggleable__control:checked~label.sk-toggleable__label {background-color: #d4ebff;}#sk-container-id-1 input.sk-hidden--visually {border: 0;clip: rect(1px 1px 1px 1px);clip: rect(1px, 1px, 1px, 1px);height: 1px;margin: -1px;overflow: hidden;padding: 0;position: absolute;width: 1px;}#sk-container-id-1 div.sk-estimator {font-family: monospace;background-color: #f0f8ff;border: 1px dotted black;border-radius: 0.25em;box-sizing: border-box;margin-bottom: 0.5em;}#sk-container-id-1 div.sk-estimator:hover {background-color: #d4ebff;}#sk-container-id-1 div.sk-parallel-item::after {content: \"\";width: 100%;border-bottom: 1px solid gray;flex-grow: 1;}#sk-container-id-1 div.sk-label:hover label.sk-toggleable__label {background-color: #d4ebff;}#sk-container-id-1 div.sk-serial::before {content: \"\";position: absolute;border-left: 1px solid gray;box-sizing: border-box;top: 0;bottom: 0;left: 50%;z-index: 0;}#sk-container-id-1 div.sk-serial {display: flex;flex-direction: column;align-items: center;background-color: white;padding-right: 0.2em;padding-left: 0.2em;position: relative;}#sk-container-id-1 div.sk-item {position: relative;z-index: 1;}#sk-container-id-1 div.sk-parallel {display: flex;align-items: stretch;justify-content: center;background-color: white;position: relative;}#sk-container-id-1 div.sk-item::before, #sk-container-id-1 div.sk-parallel-item::before {content: \"\";position: absolute;border-left: 1px solid gray;box-sizing: border-box;top: 0;bottom: 0;left: 50%;z-index: -1;}#sk-container-id-1 div.sk-parallel-item {display: flex;flex-direction: column;z-index: 1;position: relative;background-color: white;}#sk-container-id-1 div.sk-parallel-item:first-child::after {align-self: flex-end;width: 50%;}#sk-container-id-1 div.sk-parallel-item:last-child::after {align-self: flex-start;width: 50%;}#sk-container-id-1 div.sk-parallel-item:only-child::after {width: 0;}#sk-container-id-1 div.sk-dashed-wrapped {border: 1px dashed gray;margin: 0 0.4em 0.5em 0.4em;box-sizing: border-box;padding-bottom: 0.4em;background-color: white;}#sk-container-id-1 div.sk-label label {font-family: monospace;font-weight: bold;display: inline-block;line-height: 1.2em;}#sk-container-id-1 div.sk-label-container {text-align: center;}#sk-container-id-1 div.sk-container {/* jupyter's `normalize.less` sets `[hidden] { display: none; }` but bootstrap.min.css set `[hidden] { display: none !important; }` so we also need the `!important` here to be able to override the default hidden behavior on the sphinx rendered scikit-learn.org. See: https://github.com/scikit-learn/scikit-learn/issues/21755 */display: inline-block !important;position: relative;}#sk-container-id-1 div.sk-text-repr-fallback {display: none;}</style><div id=\"sk-container-id-1\" class=\"sk-top-container\"><div class=\"sk-text-repr-fallback\"><pre>LGBMClassifier(bagging_fraction=0.8059438023292589, bagging_freq=4,\n",
       "               feature_fraction=0.5595793301590511, is_unbalance=&#x27;true&#x27;,\n",
       "               lambda_l1=1.2677912752930505e-06,\n",
       "               lambda_l2=0.0002599760879025295,\n",
       "               learning_rate=0.014693356810393876, metric=&#x27;auc&#x27;,\n",
       "               min_child_samples=63, n_estimators=1000, num_leaves=46,\n",
       "               objective=&#x27;binary&#x27;, random_state =42, verbosity=-1)</pre><b>In a Jupyter environment, please rerun this cell to show the HTML representation or trust the notebook. <br />On GitHub, the HTML representation is unable to render, please try loading this page with nbviewer.org.</b></div><div class=\"sk-container\" hidden><div class=\"sk-item\"><div class=\"sk-estimator sk-toggleable\"><input class=\"sk-toggleable__control sk-hidden--visually\" id=\"sk-estimator-id-1\" type=\"checkbox\" checked><label for=\"sk-estimator-id-1\" class=\"sk-toggleable__label sk-toggleable__label-arrow\">LGBMClassifier</label><div class=\"sk-toggleable__content\"><pre>LGBMClassifier(bagging_fraction=0.8059438023292589, bagging_freq=4,\n",
       "               feature_fraction=0.5595793301590511, is_unbalance=&#x27;true&#x27;,\n",
       "               lambda_l1=1.2677912752930505e-06,\n",
       "               lambda_l2=0.0002599760879025295,\n",
       "               learning_rate=0.014693356810393876, metric=&#x27;auc&#x27;,\n",
       "               min_child_samples=63, n_estimators=1000, num_leaves=46,\n",
       "               objective=&#x27;binary&#x27;, random_state =42, verbosity=-1)</pre></div></div></div></div></div>"
      ],
      "text/plain": [
       "LGBMClassifier(bagging_fraction=0.8059438023292589, bagging_freq=4,\n",
       "               feature_fraction=0.5595793301590511, is_unbalance='true',\n",
       "               lambda_l1=1.2677912752930505e-06,\n",
       "               lambda_l2=0.0002599760879025295,\n",
       "               learning_rate=0.014693356810393876, metric='auc',\n",
       "               min_child_samples=63, n_estimators=1000, num_leaves=46,\n",
       "               objective='binary', random_state =42, verbosity=-1)"
      ]
     },
     "execution_count": 26,
     "metadata": {},
     "output_type": "execute_result"
    }
   ],
   "source": [
    "X = pd.read_csv(\"/kaggle/input/playground-series-s4e10/train.csv\").iloc[:,1:-1]\n",
    "y = pd.read_csv(\"/kaggle/input/playground-series-s4e10/train.csv\").iloc[:,-1]\n",
    "test = pd.read_csv(\"/kaggle/input/playground-series-s4e10/test.csv\")\n",
    "\n",
    "drop_idx = [\n",
    "    X.loc[X.person_age == X.person_age.max()].index[0],\n",
    "    X.loc[X.person_emp_length == X.person_emp_length.max()].index[0]\n",
    "]\n",
    "\n",
    "X = X.drop(drop_idx).reset_index(drop = True)\n",
    "y = y.drop(drop_idx).reset_index(drop = True)\n",
    "\n",
    "categorical_features = ['person_home_ownership', 'loan_intent', 'loan_grade', 'cb_person_default_on_file']\n",
    "for feature in categorical_features:\n",
    "    X[feature] = X[feature].astype('category')\n",
    "    test[feature] = test[feature].astype('category')\n",
    "\n",
    "final_model = lgb.LGBMClassifier(**lgbm_best_params)\n",
    "final_model.fit(X,y)"
   ]
  },
  {
   "cell_type": "code",
   "execution_count": 27,
   "id": "8fecc855",
   "metadata": {
    "execution": {
     "iopub.execute_input": "2024-10-24T06:44:38.120235Z",
     "iopub.status.busy": "2024-10-24T06:44:38.119819Z",
     "iopub.status.idle": "2024-10-24T06:44:44.324362Z",
     "shell.execute_reply": "2024-10-24T06:44:44.323133Z"
    },
    "papermill": {
     "duration": 6.223279,
     "end_time": "2024-10-24T06:44:44.327398",
     "exception": false,
     "start_time": "2024-10-24T06:44:38.104119",
     "status": "completed"
    },
    "tags": []
   },
   "outputs": [],
   "source": [
    "preds = final_model.predict_proba(test.iloc[:,1:])[:,1]\n",
    "submission = pd.DataFrame({\"id\": test.iloc[:,0].values,\n",
    "                          'loan_status': preds})\n",
    "submission.to_csv(\"submission.csv\",index = False)"
   ]
  },
  {
   "cell_type": "markdown",
   "id": "6e9c1b58",
   "metadata": {
    "papermill": {
     "duration": 0.014277,
     "end_time": "2024-10-24T06:44:44.356980",
     "exception": false,
     "start_time": "2024-10-24T06:44:44.342703",
     "status": "completed"
    },
    "tags": []
   },
   "source": [
    "And that's all about it. Thank you for your time."
   ]
  }
 ],
 "metadata": {
  "kaggle": {
   "accelerator": "none",
   "dataSources": [
    {
     "databundleVersionId": 9709193,
     "sourceId": 84894,
     "sourceType": "competition"
    },
    {
     "datasetId": 5923794,
     "sourceId": 9702755,
     "sourceType": "datasetVersion"
    }
   ],
   "dockerImageVersionId": 30786,
   "isGpuEnabled": false,
   "isInternetEnabled": true,
   "language": "python",
   "sourceType": "notebook"
  },
  "kernelspec": {
   "display_name": "Python 3",
   "language": "python",
   "name": "python3"
  },
  "language_info": {
   "codemirror_mode": {
    "name": "ipython",
    "version": 3
   },
   "file_extension": ".py",
   "mimetype": "text/x-python",
   "name": "python",
   "nbconvert_exporter": "python",
   "pygments_lexer": "ipython3",
   "version": "3.10.14"
  },
  "papermill": {
   "default_parameters": {},
   "duration": 35.213811,
   "end_time": "2024-10-24T06:44:45.194188",
   "environment_variables": {},
   "exception": null,
   "input_path": "__notebook__.ipynb",
   "output_path": "__notebook__.ipynb",
   "parameters": {},
   "start_time": "2024-10-24T06:44:09.980377",
   "version": "2.6.0"
  }
 },
 "nbformat": 4,
 "nbformat_minor": 5
}
