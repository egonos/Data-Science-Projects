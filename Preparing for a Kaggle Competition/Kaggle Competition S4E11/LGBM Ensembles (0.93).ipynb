{
 "cells": [
  {
   "cell_type": "markdown",
   "id": "0c7e4f6b",
   "metadata": {
    "papermill": {
     "duration": 0.004948,
     "end_time": "2024-11-07T07:36:51.528122",
     "exception": false,
     "start_time": "2024-11-07T07:36:51.523174",
     "status": "completed"
    },
    "tags": []
   },
   "source": [
    "# 1. Data Preparation"
   ]
  },
  {
   "cell_type": "code",
   "execution_count": 1,
   "id": "7fbb0907",
   "metadata": {
    "execution": {
     "iopub.execute_input": "2024-11-07T07:36:51.540292Z",
     "iopub.status.busy": "2024-11-07T07:36:51.539670Z",
     "iopub.status.idle": "2024-11-07T07:36:56.652149Z",
     "shell.execute_reply": "2024-11-07T07:36:56.650990Z"
    },
    "papermill": {
     "duration": 5.121612,
     "end_time": "2024-11-07T07:36:56.654586",
     "exception": false,
     "start_time": "2024-11-07T07:36:51.532974",
     "status": "completed"
    },
    "tags": []
   },
   "outputs": [],
   "source": [
    "import numpy as np\n",
    "import pandas as pd\n",
    "import matplotlib.pyplot as plt\n",
    "import seaborn as sns\n",
    "import lightgbm as lgb\n",
    "from sklearn.model_selection import StratifiedKFold,train_test_split\n",
    "from sklearn.metrics import accuracy_score,roc_auc_score\n",
    "from sklearn.linear_model import LogisticRegression\n",
    "import optuna\n",
    "from sklearn.calibration import calibration_curve\n",
    "\n",
    "train = pd.read_csv(\"/kaggle/input/playground-series-s4e11/train.csv\").drop([\"id\",\"Name\"],axis =1) \n",
    "original = pd.read_csv(\"/kaggle/input/depression-surveydataset-for-analysis/final_depression_dataset_1.csv\").drop(\"Name\",axis = 1)\n",
    "original[\"Depression\"] = original[\"Depression\"].map({\"No\": 0, \"Yes\": 1})\n",
    "train = pd.concat([train,original])\n",
    "test = pd.read_csv(\"/kaggle/input/playground-series-s4e11/test.csv\")\n",
    "test = test.drop([\"id\",\"Name\"],axis = 1)\n",
    "\n",
    "object_columns = [col for col in train.columns if train[col].dtype == 'object']\n",
    "encode_columns = object_columns + [\"Academic Pressure\", \"Work Pressure\", \"Study Satisfaction\", \"Work/Study Hours\", \"Financial Stress\",\"Job Satisfaction\"]\n",
    "\n",
    "for col in encode_columns:\n",
    "    train[col] = train[col].astype(\"category\")\n",
    "    test[col] = test[col].astype(\"category\")\n",
    "\n",
    "cat_features = encode_columns.copy()\n",
    "del object_columns,encode_columns\n",
    "\n",
    "X,y = train.drop(\"Depression\",axis = 1).copy(),train.Depression.copy()\n",
    "\n",
    "skf = StratifiedKFold(n_splits = 10,random_state = 42,shuffle = True)"
   ]
  },
  {
   "cell_type": "markdown",
   "id": "e48fb832",
   "metadata": {
    "papermill": {
     "duration": 0.004988,
     "end_time": "2024-11-07T07:36:56.664394",
     "exception": false,
     "start_time": "2024-11-07T07:36:56.659406",
     "status": "completed"
    },
    "tags": []
   },
   "source": [
    "# 2. LGBM Training"
   ]
  },
  {
   "cell_type": "code",
   "execution_count": 2,
   "id": "0c59b319",
   "metadata": {
    "execution": {
     "iopub.execute_input": "2024-11-07T07:36:56.675462Z",
     "iopub.status.busy": "2024-11-07T07:36:56.675050Z",
     "iopub.status.idle": "2024-11-07T07:36:56.687003Z",
     "shell.execute_reply": "2024-11-07T07:36:56.685826Z"
    },
    "papermill": {
     "duration": 0.019804,
     "end_time": "2024-11-07T07:36:56.689181",
     "exception": false,
     "start_time": "2024-11-07T07:36:56.669377",
     "status": "completed"
    },
    "tags": []
   },
   "outputs": [],
   "source": [
    "def train_lgbm(lgb_params, X,y,name):\n",
    "    lgb_oof_preds = np.zeros(len(y))\n",
    "    lgb_oof_probas = np.zeros(len(y))\n",
    "    lgb_test_preds = np.zeros(len(test))\n",
    "    lgb_test_probas = np.zeros(len(test))\n",
    "    lgb_train_scores = []\n",
    "\n",
    "    for fold, (train_idx, test_idx) in enumerate(skf.split(X, y)):\n",
    "        X_train, X_valid = X.iloc[train_idx], X.iloc[test_idx]\n",
    "        y_train, y_valid = y.iloc[train_idx], y.iloc[test_idx]\n",
    "    \n",
    "    \n",
    "        lgb_train = lgb.Dataset(X_train, y_train, )\n",
    "        lgb_valid = lgb.Dataset(X_valid, y_valid, reference=lgb_train)\n",
    "\n",
    "        model = lgb.train(\n",
    "        lgb_params,\n",
    "        lgb_train,\n",
    "        valid_sets=[lgb_valid],\n",
    "        callbacks=[lgb.early_stopping(stopping_rounds=30)],  \n",
    "    )\n",
    "\n",
    "        y_pred_proba = model.predict(X_valid, num_iteration=model.best_iteration)\n",
    "        y_pred = (y_pred_proba > 0.5).astype(int)\n",
    "        accuracy = accuracy_score(y_valid, y_pred)\n",
    "        lgb_train_scores.append(accuracy)\n",
    "    \n",
    "        print(\"Fold:\", fold, \"Accuracy Score:\", accuracy)\n",
    "    \n",
    "        y_test_probas = model.predict(test)\n",
    "        y_test_preds = (y_test_probas > 0.5).astype(int)\n",
    "    \n",
    "        lgb_oof_preds[test_idx] = y_pred\n",
    "        lgb_oof_probas[test_idx] = y_pred_proba\n",
    "        lgb_test_probas += y_test_probas\n",
    "        lgb_test_preds += y_test_preds\n",
    "\n",
    "    lgb_test_probas /= skf.get_n_splits()\n",
    "    lgb_test_preds /= skf.get_n_splits()\n",
    "\n",
    "    oof_results = pd.DataFrame({f'{name}_lgb_oof_preds':lgb_oof_preds,\n",
    "                          f'{name}_lgb_oof_probas':lgb_oof_probas})\n",
    "    test_results = pd.DataFrame({\n",
    "                          f'{name}_lgb_test_preds':lgb_test_preds,\n",
    "                          f'{name}_lgb_test_probas':lgb_test_probas})\n",
    "    return oof_results,test_results"
   ]
  },
  {
   "cell_type": "code",
   "execution_count": 3,
   "id": "f51e343d",
   "metadata": {
    "collapsed": true,
    "execution": {
     "iopub.execute_input": "2024-11-07T07:36:56.699989Z",
     "iopub.status.busy": "2024-11-07T07:36:56.699602Z",
     "iopub.status.idle": "2024-11-07T07:39:21.841500Z",
     "shell.execute_reply": "2024-11-07T07:39:21.840615Z"
    },
    "jupyter": {
     "outputs_hidden": true
    },
    "papermill": {
     "duration": 145.150322,
     "end_time": "2024-11-07T07:39:21.844014",
     "exception": false,
     "start_time": "2024-11-07T07:36:56.693692",
     "status": "completed"
    },
    "tags": []
   },
   "outputs": [
    {
     "name": "stderr",
     "output_type": "stream",
     "text": [
      "/opt/conda/lib/python3.10/site-packages/lightgbm/engine.py:172: UserWarning: Found `num_boost_round` in params. Will use it instead of argument\n",
      "  _log_warning(f\"Found `{alias}` in params. Will use it instead of argument\")\n"
     ]
    },
    {
     "name": "stdout",
     "output_type": "stream",
     "text": [
      "[LightGBM] [Warning] Found whitespace in feature_names, replace with underlines\n",
      "[LightGBM] [Info] Number of positive: 23420, number of negative: 105510\n",
      "[LightGBM] [Info] Auto-choosing row-wise multi-threading, the overhead of testing was 0.013296 seconds.\n",
      "You can set `force_row_wise=true` to remove the overhead.\n",
      "And if memory is not enough, you can set `force_col_wise=true`.\n",
      "[LightGBM] [Info] Total Bins 547\n",
      "[LightGBM] [Info] Number of data points in the train set: 128930, number of used features: 17\n",
      "[LightGBM] [Warning] Found whitespace in feature_names, replace with underlines\n",
      "[LightGBM] [Info] [binary:BoostFromScore]: pavg=0.181649 -> initscore=-1.505215\n",
      "[LightGBM] [Info] Start training from score -1.505215\n",
      "Training until validation scores don't improve for 30 rounds\n",
      "Did not meet early stopping. Best iteration is:\n",
      "[230]\tvalid_0's auc: 0.972924\n",
      "Fold: 0 Accuracy Score: 0.9185397179952534\n"
     ]
    },
    {
     "name": "stderr",
     "output_type": "stream",
     "text": [
      "/opt/conda/lib/python3.10/site-packages/lightgbm/engine.py:172: UserWarning: Found `num_boost_round` in params. Will use it instead of argument\n",
      "  _log_warning(f\"Found `{alias}` in params. Will use it instead of argument\")\n"
     ]
    },
    {
     "name": "stdout",
     "output_type": "stream",
     "text": [
      "[LightGBM] [Warning] Found whitespace in feature_names, replace with underlines\n",
      "[LightGBM] [Info] Number of positive: 23420, number of negative: 105510\n",
      "[LightGBM] [Info] Auto-choosing row-wise multi-threading, the overhead of testing was 0.010572 seconds.\n",
      "You can set `force_row_wise=true` to remove the overhead.\n",
      "And if memory is not enough, you can set `force_col_wise=true`.\n",
      "[LightGBM] [Info] Total Bins 547\n",
      "[LightGBM] [Info] Number of data points in the train set: 128930, number of used features: 17\n",
      "[LightGBM] [Warning] Found whitespace in feature_names, replace with underlines\n",
      "[LightGBM] [Info] [binary:BoostFromScore]: pavg=0.181649 -> initscore=-1.505215\n",
      "[LightGBM] [Info] Start training from score -1.505215\n",
      "Training until validation scores don't improve for 30 rounds\n",
      "Did not meet early stopping. Best iteration is:\n",
      "[230]\tvalid_0's auc: 0.972166\n",
      "Fold: 1 Accuracy Score: 0.9215412536646657\n"
     ]
    },
    {
     "name": "stderr",
     "output_type": "stream",
     "text": [
      "/opt/conda/lib/python3.10/site-packages/lightgbm/engine.py:172: UserWarning: Found `num_boost_round` in params. Will use it instead of argument\n",
      "  _log_warning(f\"Found `{alias}` in params. Will use it instead of argument\")\n"
     ]
    },
    {
     "name": "stdout",
     "output_type": "stream",
     "text": [
      "[LightGBM] [Warning] Found whitespace in feature_names, replace with underlines\n",
      "[LightGBM] [Info] Number of positive: 23420, number of negative: 105510\n",
      "[LightGBM] [Info] Auto-choosing col-wise multi-threading, the overhead of testing was 0.027144 seconds.\n",
      "You can set `force_col_wise=true` to remove the overhead.\n",
      "[LightGBM] [Info] Total Bins 546\n",
      "[LightGBM] [Info] Number of data points in the train set: 128930, number of used features: 17\n",
      "[LightGBM] [Warning] Found whitespace in feature_names, replace with underlines\n",
      "[LightGBM] [Info] [binary:BoostFromScore]: pavg=0.181649 -> initscore=-1.505215\n",
      "[LightGBM] [Info] Start training from score -1.505215\n",
      "Training until validation scores don't improve for 30 rounds\n",
      "Did not meet early stopping. Best iteration is:\n",
      "[230]\tvalid_0's auc: 0.971576\n",
      "Fold: 2 Accuracy Score: 0.9204244031830239\n"
     ]
    },
    {
     "name": "stderr",
     "output_type": "stream",
     "text": [
      "/opt/conda/lib/python3.10/site-packages/lightgbm/engine.py:172: UserWarning: Found `num_boost_round` in params. Will use it instead of argument\n",
      "  _log_warning(f\"Found `{alias}` in params. Will use it instead of argument\")\n"
     ]
    },
    {
     "name": "stdout",
     "output_type": "stream",
     "text": [
      "[LightGBM] [Warning] Found whitespace in feature_names, replace with underlines\n",
      "[LightGBM] [Info] Number of positive: 23420, number of negative: 105510\n",
      "[LightGBM] [Info] Auto-choosing row-wise multi-threading, the overhead of testing was 0.010825 seconds.\n",
      "You can set `force_row_wise=true` to remove the overhead.\n",
      "And if memory is not enough, you can set `force_col_wise=true`.\n",
      "[LightGBM] [Info] Total Bins 549\n",
      "[LightGBM] [Info] Number of data points in the train set: 128930, number of used features: 17\n",
      "[LightGBM] [Warning] Found whitespace in feature_names, replace with underlines\n",
      "[LightGBM] [Info] [binary:BoostFromScore]: pavg=0.181649 -> initscore=-1.505215\n",
      "[LightGBM] [Info] Start training from score -1.505215\n",
      "Training until validation scores don't improve for 30 rounds\n",
      "Did not meet early stopping. Best iteration is:\n",
      "[230]\tvalid_0's auc: 0.971906\n",
      "Fold: 3 Accuracy Score: 0.9183303085299456\n"
     ]
    },
    {
     "name": "stderr",
     "output_type": "stream",
     "text": [
      "/opt/conda/lib/python3.10/site-packages/lightgbm/engine.py:172: UserWarning: Found `num_boost_round` in params. Will use it instead of argument\n",
      "  _log_warning(f\"Found `{alias}` in params. Will use it instead of argument\")\n"
     ]
    },
    {
     "name": "stdout",
     "output_type": "stream",
     "text": [
      "[LightGBM] [Warning] Found whitespace in feature_names, replace with underlines\n",
      "[LightGBM] [Info] Number of positive: 23419, number of negative: 105511\n",
      "[LightGBM] [Info] Auto-choosing row-wise multi-threading, the overhead of testing was 0.010790 seconds.\n",
      "You can set `force_row_wise=true` to remove the overhead.\n",
      "And if memory is not enough, you can set `force_col_wise=true`.\n",
      "[LightGBM] [Info] Total Bins 547\n",
      "[LightGBM] [Info] Number of data points in the train set: 128930, number of used features: 17\n",
      "[LightGBM] [Warning] Found whitespace in feature_names, replace with underlines\n",
      "[LightGBM] [Info] [binary:BoostFromScore]: pavg=0.181641 -> initscore=-1.505268\n",
      "[LightGBM] [Info] Start training from score -1.505268\n",
      "Training until validation scores don't improve for 30 rounds\n",
      "Did not meet early stopping. Best iteration is:\n",
      "[230]\tvalid_0's auc: 0.976464\n",
      "Fold: 4 Accuracy Score: 0.9219600725952813\n"
     ]
    },
    {
     "name": "stderr",
     "output_type": "stream",
     "text": [
      "/opt/conda/lib/python3.10/site-packages/lightgbm/engine.py:172: UserWarning: Found `num_boost_round` in params. Will use it instead of argument\n",
      "  _log_warning(f\"Found `{alias}` in params. Will use it instead of argument\")\n"
     ]
    },
    {
     "name": "stdout",
     "output_type": "stream",
     "text": [
      "[LightGBM] [Warning] Found whitespace in feature_names, replace with underlines\n",
      "[LightGBM] [Info] Number of positive: 23419, number of negative: 105511\n",
      "[LightGBM] [Info] Auto-choosing row-wise multi-threading, the overhead of testing was 0.013867 seconds.\n",
      "You can set `force_row_wise=true` to remove the overhead.\n",
      "And if memory is not enough, you can set `force_col_wise=true`.\n",
      "[LightGBM] [Info] Total Bins 548\n",
      "[LightGBM] [Info] Number of data points in the train set: 128930, number of used features: 17\n",
      "[LightGBM] [Warning] Found whitespace in feature_names, replace with underlines\n",
      "[LightGBM] [Info] [binary:BoostFromScore]: pavg=0.181641 -> initscore=-1.505268\n",
      "[LightGBM] [Info] Start training from score -1.505268\n",
      "Training until validation scores don't improve for 30 rounds\n",
      "Did not meet early stopping. Best iteration is:\n",
      "[229]\tvalid_0's auc: 0.973047\n",
      "Fold: 5 Accuracy Score: 0.9225184978361022\n"
     ]
    },
    {
     "name": "stderr",
     "output_type": "stream",
     "text": [
      "/opt/conda/lib/python3.10/site-packages/lightgbm/engine.py:172: UserWarning: Found `num_boost_round` in params. Will use it instead of argument\n",
      "  _log_warning(f\"Found `{alias}` in params. Will use it instead of argument\")\n"
     ]
    },
    {
     "name": "stdout",
     "output_type": "stream",
     "text": [
      "[LightGBM] [Warning] Found whitespace in feature_names, replace with underlines\n",
      "[LightGBM] [Info] Number of positive: 23420, number of negative: 105511\n",
      "[LightGBM] [Info] Auto-choosing row-wise multi-threading, the overhead of testing was 0.010866 seconds.\n",
      "You can set `force_row_wise=true` to remove the overhead.\n",
      "And if memory is not enough, you can set `force_col_wise=true`.\n",
      "[LightGBM] [Info] Total Bins 549\n",
      "[LightGBM] [Info] Number of data points in the train set: 128931, number of used features: 17\n",
      "[LightGBM] [Warning] Found whitespace in feature_names, replace with underlines\n",
      "[LightGBM] [Info] [binary:BoostFromScore]: pavg=0.181648 -> initscore=-1.505225\n",
      "[LightGBM] [Info] Start training from score -1.505225\n",
      "Training until validation scores don't improve for 30 rounds\n",
      "Did not meet early stopping. Best iteration is:\n",
      "[230]\tvalid_0's auc: 0.972476\n",
      "Fold: 6 Accuracy Score: 0.9208376963350785\n"
     ]
    },
    {
     "name": "stderr",
     "output_type": "stream",
     "text": [
      "/opt/conda/lib/python3.10/site-packages/lightgbm/engine.py:172: UserWarning: Found `num_boost_round` in params. Will use it instead of argument\n",
      "  _log_warning(f\"Found `{alias}` in params. Will use it instead of argument\")\n"
     ]
    },
    {
     "name": "stdout",
     "output_type": "stream",
     "text": [
      "[LightGBM] [Warning] Found whitespace in feature_names, replace with underlines\n",
      "[LightGBM] [Info] Number of positive: 23420, number of negative: 105511\n",
      "[LightGBM] [Info] Auto-choosing row-wise multi-threading, the overhead of testing was 0.010523 seconds.\n",
      "You can set `force_row_wise=true` to remove the overhead.\n",
      "And if memory is not enough, you can set `force_col_wise=true`.\n",
      "[LightGBM] [Info] Total Bins 547\n",
      "[LightGBM] [Info] Number of data points in the train set: 128931, number of used features: 17\n",
      "[LightGBM] [Warning] Found whitespace in feature_names, replace with underlines\n",
      "[LightGBM] [Info] [binary:BoostFromScore]: pavg=0.181648 -> initscore=-1.505225\n",
      "[LightGBM] [Info] Start training from score -1.505225\n",
      "Training until validation scores don't improve for 30 rounds\n",
      "Did not meet early stopping. Best iteration is:\n",
      "[230]\tvalid_0's auc: 0.972249\n",
      "Fold: 7 Accuracy Score: 0.9185340314136126\n"
     ]
    },
    {
     "name": "stderr",
     "output_type": "stream",
     "text": [
      "/opt/conda/lib/python3.10/site-packages/lightgbm/engine.py:172: UserWarning: Found `num_boost_round` in params. Will use it instead of argument\n",
      "  _log_warning(f\"Found `{alias}` in params. Will use it instead of argument\")\n"
     ]
    },
    {
     "name": "stdout",
     "output_type": "stream",
     "text": [
      "[LightGBM] [Warning] Found whitespace in feature_names, replace with underlines\n",
      "[LightGBM] [Info] Number of positive: 23420, number of negative: 105511\n",
      "[LightGBM] [Info] Auto-choosing col-wise multi-threading, the overhead of testing was 0.025458 seconds.\n",
      "You can set `force_col_wise=true` to remove the overhead.\n",
      "[LightGBM] [Info] Total Bins 546\n",
      "[LightGBM] [Info] Number of data points in the train set: 128931, number of used features: 17\n",
      "[LightGBM] [Warning] Found whitespace in feature_names, replace with underlines\n",
      "[LightGBM] [Info] [binary:BoostFromScore]: pavg=0.181648 -> initscore=-1.505225\n",
      "[LightGBM] [Info] Start training from score -1.505225\n",
      "Training until validation scores don't improve for 30 rounds\n",
      "Did not meet early stopping. Best iteration is:\n",
      "[230]\tvalid_0's auc: 0.974965\n",
      "Fold: 8 Accuracy Score: 0.9198603839441536\n"
     ]
    },
    {
     "name": "stderr",
     "output_type": "stream",
     "text": [
      "/opt/conda/lib/python3.10/site-packages/lightgbm/engine.py:172: UserWarning: Found `num_boost_round` in params. Will use it instead of argument\n",
      "  _log_warning(f\"Found `{alias}` in params. Will use it instead of argument\")\n"
     ]
    },
    {
     "name": "stdout",
     "output_type": "stream",
     "text": [
      "[LightGBM] [Warning] Found whitespace in feature_names, replace with underlines\n",
      "[LightGBM] [Info] Number of positive: 23420, number of negative: 105511\n",
      "[LightGBM] [Info] Auto-choosing row-wise multi-threading, the overhead of testing was 0.010805 seconds.\n",
      "You can set `force_row_wise=true` to remove the overhead.\n",
      "And if memory is not enough, you can set `force_col_wise=true`.\n",
      "[LightGBM] [Info] Total Bins 546\n",
      "[LightGBM] [Info] Number of data points in the train set: 128931, number of used features: 17\n",
      "[LightGBM] [Warning] Found whitespace in feature_names, replace with underlines\n",
      "[LightGBM] [Info] [binary:BoostFromScore]: pavg=0.181648 -> initscore=-1.505225\n",
      "[LightGBM] [Info] Start training from score -1.505225\n",
      "Training until validation scores don't improve for 30 rounds\n",
      "Did not meet early stopping. Best iteration is:\n",
      "[230]\tvalid_0's auc: 0.973171\n",
      "Fold: 9 Accuracy Score: 0.9202094240837696\n"
     ]
    }
   ],
   "source": [
    "gbdt_params = {'learning_rate': 0.015037382974893173,\n",
    "                 'num_leaves': 143,\n",
    "                 'max_bin': 448,\n",
    "                 'reg_alpha': 0.00010623936018699637,\n",
    "                 'reg_lambda': 5.420412044776439e-05,\n",
    "                 'num_boost_round': 230,\n",
    "                 'boosting_type': 'gbdt',\n",
    "                 'objective': 'binary',\n",
    "                 'random_state': 42,\n",
    "                 'is_unbalance': True,\n",
    "                 'metric': 'auc'}\n",
    "gbdt_lgbm_oof_results, gbdt_lgbm_test_results= train_lgbm(gbdt_params, X, y,'gbdt')"
   ]
  },
  {
   "cell_type": "code",
   "execution_count": 4,
   "id": "fbc2fd87",
   "metadata": {
    "collapsed": true,
    "execution": {
     "iopub.execute_input": "2024-11-07T07:39:21.860622Z",
     "iopub.status.busy": "2024-11-07T07:39:21.859885Z",
     "iopub.status.idle": "2024-11-07T07:43:41.048221Z",
     "shell.execute_reply": "2024-11-07T07:43:41.047071Z"
    },
    "jupyter": {
     "outputs_hidden": true
    },
    "papermill": {
     "duration": 259.199605,
     "end_time": "2024-11-07T07:43:41.050546",
     "exception": false,
     "start_time": "2024-11-07T07:39:21.850941",
     "status": "completed"
    },
    "tags": []
   },
   "outputs": [
    {
     "name": "stderr",
     "output_type": "stream",
     "text": [
      "/opt/conda/lib/python3.10/site-packages/lightgbm/engine.py:172: UserWarning: Found `num_boost_round` in params. Will use it instead of argument\n",
      "  _log_warning(f\"Found `{alias}` in params. Will use it instead of argument\")\n"
     ]
    },
    {
     "name": "stdout",
     "output_type": "stream",
     "text": [
      "[LightGBM] [Warning] Found whitespace in feature_names, replace with underlines\n",
      "[LightGBM] [Info] Number of positive: 23420, number of negative: 105510\n",
      "[LightGBM] [Info] Auto-choosing row-wise multi-threading, the overhead of testing was 0.011516 seconds.\n",
      "You can set `force_row_wise=true` to remove the overhead.\n",
      "And if memory is not enough, you can set `force_col_wise=true`.\n",
      "[LightGBM] [Info] Total Bins 547\n",
      "[LightGBM] [Info] Number of data points in the train set: 128930, number of used features: 17\n",
      "[LightGBM] [Warning] Found whitespace in feature_names, replace with underlines\n",
      "[LightGBM] [Info] [binary:BoostFromScore]: pavg=0.181649 -> initscore=-1.505215\n",
      "[LightGBM] [Info] Start training from score -1.505215\n"
     ]
    },
    {
     "name": "stderr",
     "output_type": "stream",
     "text": [
      "/opt/conda/lib/python3.10/site-packages/lightgbm/callback.py:325: UserWarning: Early stopping is not available in dart mode\n",
      "  _log_warning('Early stopping is not available in dart mode')\n"
     ]
    },
    {
     "name": "stdout",
     "output_type": "stream",
     "text": [
      "Fold: 0 Accuracy Score: 0.917353064358509\n"
     ]
    },
    {
     "name": "stderr",
     "output_type": "stream",
     "text": [
      "/opt/conda/lib/python3.10/site-packages/lightgbm/engine.py:172: UserWarning: Found `num_boost_round` in params. Will use it instead of argument\n",
      "  _log_warning(f\"Found `{alias}` in params. Will use it instead of argument\")\n"
     ]
    },
    {
     "name": "stdout",
     "output_type": "stream",
     "text": [
      "[LightGBM] [Warning] Found whitespace in feature_names, replace with underlines\n",
      "[LightGBM] [Info] Number of positive: 23420, number of negative: 105510\n",
      "[LightGBM] [Info] Auto-choosing row-wise multi-threading, the overhead of testing was 0.010891 seconds.\n",
      "You can set `force_row_wise=true` to remove the overhead.\n",
      "And if memory is not enough, you can set `force_col_wise=true`.\n",
      "[LightGBM] [Info] Total Bins 547\n",
      "[LightGBM] [Info] Number of data points in the train set: 128930, number of used features: 17\n",
      "[LightGBM] [Warning] Found whitespace in feature_names, replace with underlines\n",
      "[LightGBM] [Info] [binary:BoostFromScore]: pavg=0.181649 -> initscore=-1.505215\n",
      "[LightGBM] [Info] Start training from score -1.505215\n"
     ]
    },
    {
     "name": "stderr",
     "output_type": "stream",
     "text": [
      "/opt/conda/lib/python3.10/site-packages/lightgbm/callback.py:325: UserWarning: Early stopping is not available in dart mode\n",
      "  _log_warning('Early stopping is not available in dart mode')\n"
     ]
    },
    {
     "name": "stdout",
     "output_type": "stream",
     "text": [
      "Fold: 1 Accuracy Score: 0.9228675136116152\n"
     ]
    },
    {
     "name": "stderr",
     "output_type": "stream",
     "text": [
      "/opt/conda/lib/python3.10/site-packages/lightgbm/engine.py:172: UserWarning: Found `num_boost_round` in params. Will use it instead of argument\n",
      "  _log_warning(f\"Found `{alias}` in params. Will use it instead of argument\")\n"
     ]
    },
    {
     "name": "stdout",
     "output_type": "stream",
     "text": [
      "[LightGBM] [Warning] Found whitespace in feature_names, replace with underlines\n",
      "[LightGBM] [Info] Number of positive: 23420, number of negative: 105510\n",
      "[LightGBM] [Info] Auto-choosing row-wise multi-threading, the overhead of testing was 0.012085 seconds.\n",
      "You can set `force_row_wise=true` to remove the overhead.\n",
      "And if memory is not enough, you can set `force_col_wise=true`.\n",
      "[LightGBM] [Info] Total Bins 546\n",
      "[LightGBM] [Info] Number of data points in the train set: 128930, number of used features: 17\n",
      "[LightGBM] [Warning] Found whitespace in feature_names, replace with underlines\n",
      "[LightGBM] [Info] [binary:BoostFromScore]: pavg=0.181649 -> initscore=-1.505215\n",
      "[LightGBM] [Info] Start training from score -1.505215\n"
     ]
    },
    {
     "name": "stderr",
     "output_type": "stream",
     "text": [
      "/opt/conda/lib/python3.10/site-packages/lightgbm/callback.py:325: UserWarning: Early stopping is not available in dart mode\n",
      "  _log_warning('Early stopping is not available in dart mode')\n"
     ]
    },
    {
     "name": "stdout",
     "output_type": "stream",
     "text": [
      "Fold: 2 Accuracy Score: 0.9202149937177161\n"
     ]
    },
    {
     "name": "stderr",
     "output_type": "stream",
     "text": [
      "/opt/conda/lib/python3.10/site-packages/lightgbm/engine.py:172: UserWarning: Found `num_boost_round` in params. Will use it instead of argument\n",
      "  _log_warning(f\"Found `{alias}` in params. Will use it instead of argument\")\n"
     ]
    },
    {
     "name": "stdout",
     "output_type": "stream",
     "text": [
      "[LightGBM] [Warning] Found whitespace in feature_names, replace with underlines\n",
      "[LightGBM] [Info] Number of positive: 23420, number of negative: 105510\n",
      "[LightGBM] [Info] Auto-choosing col-wise multi-threading, the overhead of testing was 0.025859 seconds.\n",
      "You can set `force_col_wise=true` to remove the overhead.\n",
      "[LightGBM] [Info] Total Bins 549\n",
      "[LightGBM] [Info] Number of data points in the train set: 128930, number of used features: 17\n",
      "[LightGBM] [Warning] Found whitespace in feature_names, replace with underlines\n",
      "[LightGBM] [Info] [binary:BoostFromScore]: pavg=0.181649 -> initscore=-1.505215\n",
      "[LightGBM] [Info] Start training from score -1.505215\n"
     ]
    },
    {
     "name": "stderr",
     "output_type": "stream",
     "text": [
      "/opt/conda/lib/python3.10/site-packages/lightgbm/callback.py:325: UserWarning: Early stopping is not available in dart mode\n",
      "  _log_warning('Early stopping is not available in dart mode')\n"
     ]
    },
    {
     "name": "stdout",
     "output_type": "stream",
     "text": [
      "Fold: 3 Accuracy Score: 0.9170738517380985\n"
     ]
    },
    {
     "name": "stderr",
     "output_type": "stream",
     "text": [
      "/opt/conda/lib/python3.10/site-packages/lightgbm/engine.py:172: UserWarning: Found `num_boost_round` in params. Will use it instead of argument\n",
      "  _log_warning(f\"Found `{alias}` in params. Will use it instead of argument\")\n"
     ]
    },
    {
     "name": "stdout",
     "output_type": "stream",
     "text": [
      "[LightGBM] [Warning] Found whitespace in feature_names, replace with underlines\n",
      "[LightGBM] [Info] Number of positive: 23419, number of negative: 105511\n",
      "[LightGBM] [Info] Auto-choosing row-wise multi-threading, the overhead of testing was 0.012053 seconds.\n",
      "You can set `force_row_wise=true` to remove the overhead.\n",
      "And if memory is not enough, you can set `force_col_wise=true`.\n",
      "[LightGBM] [Info] Total Bins 547\n",
      "[LightGBM] [Info] Number of data points in the train set: 128930, number of used features: 17\n",
      "[LightGBM] [Warning] Found whitespace in feature_names, replace with underlines\n",
      "[LightGBM] [Info] [binary:BoostFromScore]: pavg=0.181641 -> initscore=-1.505268\n",
      "[LightGBM] [Info] Start training from score -1.505268\n"
     ]
    },
    {
     "name": "stderr",
     "output_type": "stream",
     "text": [
      "/opt/conda/lib/python3.10/site-packages/lightgbm/callback.py:325: UserWarning: Early stopping is not available in dart mode\n",
      "  _log_warning('Early stopping is not available in dart mode')\n"
     ]
    },
    {
     "name": "stdout",
     "output_type": "stream",
     "text": [
      "Fold: 4 Accuracy Score: 0.9223788915258969\n"
     ]
    },
    {
     "name": "stderr",
     "output_type": "stream",
     "text": [
      "/opt/conda/lib/python3.10/site-packages/lightgbm/engine.py:172: UserWarning: Found `num_boost_round` in params. Will use it instead of argument\n",
      "  _log_warning(f\"Found `{alias}` in params. Will use it instead of argument\")\n"
     ]
    },
    {
     "name": "stdout",
     "output_type": "stream",
     "text": [
      "[LightGBM] [Warning] Found whitespace in feature_names, replace with underlines\n",
      "[LightGBM] [Info] Number of positive: 23419, number of negative: 105511\n",
      "[LightGBM] [Info] Auto-choosing col-wise multi-threading, the overhead of testing was 0.027445 seconds.\n",
      "You can set `force_col_wise=true` to remove the overhead.\n",
      "[LightGBM] [Info] Total Bins 548\n",
      "[LightGBM] [Info] Number of data points in the train set: 128930, number of used features: 17\n",
      "[LightGBM] [Warning] Found whitespace in feature_names, replace with underlines\n",
      "[LightGBM] [Info] [binary:BoostFromScore]: pavg=0.181641 -> initscore=-1.505268\n",
      "[LightGBM] [Info] Start training from score -1.505268\n"
     ]
    },
    {
     "name": "stderr",
     "output_type": "stream",
     "text": [
      "/opt/conda/lib/python3.10/site-packages/lightgbm/callback.py:325: UserWarning: Early stopping is not available in dart mode\n",
      "  _log_warning('Early stopping is not available in dart mode')\n"
     ]
    },
    {
     "name": "stdout",
     "output_type": "stream",
     "text": [
      "Fold: 5 Accuracy Score: 0.9219600725952813\n"
     ]
    },
    {
     "name": "stderr",
     "output_type": "stream",
     "text": [
      "/opt/conda/lib/python3.10/site-packages/lightgbm/engine.py:172: UserWarning: Found `num_boost_round` in params. Will use it instead of argument\n",
      "  _log_warning(f\"Found `{alias}` in params. Will use it instead of argument\")\n"
     ]
    },
    {
     "name": "stdout",
     "output_type": "stream",
     "text": [
      "[LightGBM] [Warning] Found whitespace in feature_names, replace with underlines\n",
      "[LightGBM] [Info] Number of positive: 23420, number of negative: 105511\n",
      "[LightGBM] [Info] Auto-choosing row-wise multi-threading, the overhead of testing was 0.010540 seconds.\n",
      "You can set `force_row_wise=true` to remove the overhead.\n",
      "And if memory is not enough, you can set `force_col_wise=true`.\n",
      "[LightGBM] [Info] Total Bins 549\n",
      "[LightGBM] [Info] Number of data points in the train set: 128931, number of used features: 17\n",
      "[LightGBM] [Warning] Found whitespace in feature_names, replace with underlines\n",
      "[LightGBM] [Info] [binary:BoostFromScore]: pavg=0.181648 -> initscore=-1.505225\n",
      "[LightGBM] [Info] Start training from score -1.505225\n"
     ]
    },
    {
     "name": "stderr",
     "output_type": "stream",
     "text": [
      "/opt/conda/lib/python3.10/site-packages/lightgbm/callback.py:325: UserWarning: Early stopping is not available in dart mode\n",
      "  _log_warning('Early stopping is not available in dart mode')\n"
     ]
    },
    {
     "name": "stdout",
     "output_type": "stream",
     "text": [
      "Fold: 6 Accuracy Score: 0.9208376963350785\n"
     ]
    },
    {
     "name": "stderr",
     "output_type": "stream",
     "text": [
      "/opt/conda/lib/python3.10/site-packages/lightgbm/engine.py:172: UserWarning: Found `num_boost_round` in params. Will use it instead of argument\n",
      "  _log_warning(f\"Found `{alias}` in params. Will use it instead of argument\")\n"
     ]
    },
    {
     "name": "stdout",
     "output_type": "stream",
     "text": [
      "[LightGBM] [Warning] Found whitespace in feature_names, replace with underlines\n",
      "[LightGBM] [Info] Number of positive: 23420, number of negative: 105511\n",
      "[LightGBM] [Info] Auto-choosing row-wise multi-threading, the overhead of testing was 0.010861 seconds.\n",
      "You can set `force_row_wise=true` to remove the overhead.\n",
      "And if memory is not enough, you can set `force_col_wise=true`.\n",
      "[LightGBM] [Info] Total Bins 547\n",
      "[LightGBM] [Info] Number of data points in the train set: 128931, number of used features: 17\n",
      "[LightGBM] [Warning] Found whitespace in feature_names, replace with underlines\n",
      "[LightGBM] [Info] [binary:BoostFromScore]: pavg=0.181648 -> initscore=-1.505225\n",
      "[LightGBM] [Info] Start training from score -1.505225\n"
     ]
    },
    {
     "name": "stderr",
     "output_type": "stream",
     "text": [
      "/opt/conda/lib/python3.10/site-packages/lightgbm/callback.py:325: UserWarning: Early stopping is not available in dart mode\n",
      "  _log_warning('Early stopping is not available in dart mode')\n"
     ]
    },
    {
     "name": "stdout",
     "output_type": "stream",
     "text": [
      "Fold: 7 Accuracy Score: 0.9171378708551483\n"
     ]
    },
    {
     "name": "stderr",
     "output_type": "stream",
     "text": [
      "/opt/conda/lib/python3.10/site-packages/lightgbm/engine.py:172: UserWarning: Found `num_boost_round` in params. Will use it instead of argument\n",
      "  _log_warning(f\"Found `{alias}` in params. Will use it instead of argument\")\n"
     ]
    },
    {
     "name": "stdout",
     "output_type": "stream",
     "text": [
      "[LightGBM] [Warning] Found whitespace in feature_names, replace with underlines\n",
      "[LightGBM] [Info] Number of positive: 23420, number of negative: 105511\n",
      "[LightGBM] [Info] Auto-choosing col-wise multi-threading, the overhead of testing was 0.025434 seconds.\n",
      "You can set `force_col_wise=true` to remove the overhead.\n",
      "[LightGBM] [Info] Total Bins 546\n",
      "[LightGBM] [Info] Number of data points in the train set: 128931, number of used features: 17\n",
      "[LightGBM] [Warning] Found whitespace in feature_names, replace with underlines\n",
      "[LightGBM] [Info] [binary:BoostFromScore]: pavg=0.181648 -> initscore=-1.505225\n",
      "[LightGBM] [Info] Start training from score -1.505225\n"
     ]
    },
    {
     "name": "stderr",
     "output_type": "stream",
     "text": [
      "/opt/conda/lib/python3.10/site-packages/lightgbm/callback.py:325: UserWarning: Early stopping is not available in dart mode\n",
      "  _log_warning('Early stopping is not available in dart mode')\n"
     ]
    },
    {
     "name": "stdout",
     "output_type": "stream",
     "text": [
      "Fold: 8 Accuracy Score: 0.9211169284467714\n"
     ]
    },
    {
     "name": "stderr",
     "output_type": "stream",
     "text": [
      "/opt/conda/lib/python3.10/site-packages/lightgbm/engine.py:172: UserWarning: Found `num_boost_round` in params. Will use it instead of argument\n",
      "  _log_warning(f\"Found `{alias}` in params. Will use it instead of argument\")\n"
     ]
    },
    {
     "name": "stdout",
     "output_type": "stream",
     "text": [
      "[LightGBM] [Warning] Found whitespace in feature_names, replace with underlines\n",
      "[LightGBM] [Info] Number of positive: 23420, number of negative: 105511\n",
      "[LightGBM] [Info] Auto-choosing row-wise multi-threading, the overhead of testing was 0.012185 seconds.\n",
      "You can set `force_row_wise=true` to remove the overhead.\n",
      "And if memory is not enough, you can set `force_col_wise=true`.\n",
      "[LightGBM] [Info] Total Bins 546\n",
      "[LightGBM] [Info] Number of data points in the train set: 128931, number of used features: 17\n",
      "[LightGBM] [Warning] Found whitespace in feature_names, replace with underlines\n",
      "[LightGBM] [Info] [binary:BoostFromScore]: pavg=0.181648 -> initscore=-1.505225\n",
      "[LightGBM] [Info] Start training from score -1.505225\n"
     ]
    },
    {
     "name": "stderr",
     "output_type": "stream",
     "text": [
      "/opt/conda/lib/python3.10/site-packages/lightgbm/callback.py:325: UserWarning: Early stopping is not available in dart mode\n",
      "  _log_warning('Early stopping is not available in dart mode')\n"
     ]
    },
    {
     "name": "stdout",
     "output_type": "stream",
     "text": [
      "Fold: 9 Accuracy Score: 0.920977312390925\n"
     ]
    }
   ],
   "source": [
    "dart_params = {'learning_rate': 0.012218076940371136,\n",
    " 'num_leaves': 103,\n",
    " 'max_bin': 352,\n",
    " 'reg_alpha': 0.02678314325645604,\n",
    " 'reg_lambda': 1.537637211049306,\n",
    " 'num_boost_round': 210,\n",
    " 'boosting_type': 'dart',\n",
    " 'objective': 'binary',\n",
    " 'random_state': 42,\n",
    " 'is_unbalance': True,\n",
    " 'metric': 'auc'}\n",
    "dart_lgbm_oof_results, dart_lgbm_test_results= train_lgbm(dart_params, X, y,'dart')"
   ]
  },
  {
   "cell_type": "code",
   "execution_count": 5,
   "id": "7f6b8a4f",
   "metadata": {
    "collapsed": true,
    "execution": {
     "iopub.execute_input": "2024-11-07T07:43:41.072030Z",
     "iopub.status.busy": "2024-11-07T07:43:41.071530Z",
     "iopub.status.idle": "2024-11-07T07:44:29.971946Z",
     "shell.execute_reply": "2024-11-07T07:44:29.970801Z"
    },
    "jupyter": {
     "outputs_hidden": true
    },
    "papermill": {
     "duration": 48.914239,
     "end_time": "2024-11-07T07:44:29.974404",
     "exception": false,
     "start_time": "2024-11-07T07:43:41.060165",
     "status": "completed"
    },
    "tags": []
   },
   "outputs": [
    {
     "name": "stderr",
     "output_type": "stream",
     "text": [
      "/opt/conda/lib/python3.10/site-packages/lightgbm/engine.py:172: UserWarning: Found `num_boost_round` in params. Will use it instead of argument\n",
      "  _log_warning(f\"Found `{alias}` in params. Will use it instead of argument\")\n"
     ]
    },
    {
     "name": "stdout",
     "output_type": "stream",
     "text": [
      "[LightGBM] [Warning] Found whitespace in feature_names, replace with underlines\n",
      "[LightGBM] [Info] Number of positive: 23420, number of negative: 105510\n",
      "[LightGBM] [Info] Auto-choosing row-wise multi-threading, the overhead of testing was 0.011486 seconds.\n",
      "You can set `force_row_wise=true` to remove the overhead.\n",
      "And if memory is not enough, you can set `force_col_wise=true`.\n",
      "[LightGBM] [Info] Total Bins 354\n",
      "[LightGBM] [Info] Number of data points in the train set: 128930, number of used features: 17\n",
      "[LightGBM] [Info] [binary:BoostFromScore]: pavg=0.181649 -> initscore=-1.505215\n",
      "[LightGBM] [Info] Start training from score -1.505215\n",
      "[LightGBM] [Warning] Found whitespace in feature_names, replace with underlines\n",
      "Training until validation scores don't improve for 30 rounds\n",
      "Early stopping, best iteration is:\n",
      "[9]\tvalid_0's auc: 0.962144\n",
      "Fold: 0 Accuracy Score: 0.8911070780399274\n"
     ]
    },
    {
     "name": "stderr",
     "output_type": "stream",
     "text": [
      "/opt/conda/lib/python3.10/site-packages/lightgbm/engine.py:172: UserWarning: Found `num_boost_round` in params. Will use it instead of argument\n",
      "  _log_warning(f\"Found `{alias}` in params. Will use it instead of argument\")\n"
     ]
    },
    {
     "name": "stdout",
     "output_type": "stream",
     "text": [
      "[LightGBM] [Warning] Found whitespace in feature_names, replace with underlines\n",
      "[LightGBM] [Info] Number of positive: 23420, number of negative: 105510\n",
      "[LightGBM] [Info] Auto-choosing col-wise multi-threading, the overhead of testing was 0.026064 seconds.\n",
      "You can set `force_col_wise=true` to remove the overhead.\n",
      "[LightGBM] [Info] Total Bins 354\n",
      "[LightGBM] [Info] Number of data points in the train set: 128930, number of used features: 17\n",
      "[LightGBM] [Info] [binary:BoostFromScore]: pavg=0.181649 -> initscore=-1.505215\n",
      "[LightGBM] [Info] Start training from score -1.505215\n",
      "[LightGBM] [Warning] Found whitespace in feature_names, replace with underlines\n",
      "Training until validation scores don't improve for 30 rounds\n",
      "Early stopping, best iteration is:\n",
      "[141]\tvalid_0's auc: 0.9626\n",
      "Fold: 1 Accuracy Score: 0.8984364093257016\n"
     ]
    },
    {
     "name": "stderr",
     "output_type": "stream",
     "text": [
      "/opt/conda/lib/python3.10/site-packages/lightgbm/engine.py:172: UserWarning: Found `num_boost_round` in params. Will use it instead of argument\n",
      "  _log_warning(f\"Found `{alias}` in params. Will use it instead of argument\")\n"
     ]
    },
    {
     "name": "stdout",
     "output_type": "stream",
     "text": [
      "[LightGBM] [Warning] Found whitespace in feature_names, replace with underlines\n",
      "[LightGBM] [Info] Number of positive: 23420, number of negative: 105510\n",
      "[LightGBM] [Info] Auto-choosing row-wise multi-threading, the overhead of testing was 0.012704 seconds.\n",
      "You can set `force_row_wise=true` to remove the overhead.\n",
      "And if memory is not enough, you can set `force_col_wise=true`.\n",
      "[LightGBM] [Info] Total Bins 353\n",
      "[LightGBM] [Info] Number of data points in the train set: 128930, number of used features: 17\n",
      "[LightGBM] [Info] [binary:BoostFromScore]: pavg=0.181649 -> initscore=-1.505215\n",
      "[LightGBM] [Info] Start training from score -1.505215\n",
      "[LightGBM] [Warning] Found whitespace in feature_names, replace with underlines\n",
      "Training until validation scores don't improve for 30 rounds\n",
      "Early stopping, best iteration is:\n",
      "[66]\tvalid_0's auc: 0.960894\n",
      "Fold: 2 Accuracy Score: 0.8928521569174926\n"
     ]
    },
    {
     "name": "stderr",
     "output_type": "stream",
     "text": [
      "/opt/conda/lib/python3.10/site-packages/lightgbm/engine.py:172: UserWarning: Found `num_boost_round` in params. Will use it instead of argument\n",
      "  _log_warning(f\"Found `{alias}` in params. Will use it instead of argument\")\n"
     ]
    },
    {
     "name": "stdout",
     "output_type": "stream",
     "text": [
      "[LightGBM] [Warning] Found whitespace in feature_names, replace with underlines\n",
      "[LightGBM] [Info] Number of positive: 23420, number of negative: 105510\n",
      "[LightGBM] [Info] Auto-choosing row-wise multi-threading, the overhead of testing was 0.012352 seconds.\n",
      "You can set `force_row_wise=true` to remove the overhead.\n",
      "And if memory is not enough, you can set `force_col_wise=true`.\n",
      "[LightGBM] [Info] Total Bins 356\n",
      "[LightGBM] [Info] Number of data points in the train set: 128930, number of used features: 17\n",
      "[LightGBM] [Info] [binary:BoostFromScore]: pavg=0.181649 -> initscore=-1.505215\n",
      "[LightGBM] [Info] Start training from score -1.505215\n",
      "[LightGBM] [Warning] Found whitespace in feature_names, replace with underlines\n",
      "Training until validation scores don't improve for 30 rounds\n",
      "Early stopping, best iteration is:\n",
      "[27]\tvalid_0's auc: 0.962984\n",
      "Fold: 3 Accuracy Score: 0.893340779003211\n"
     ]
    },
    {
     "name": "stderr",
     "output_type": "stream",
     "text": [
      "/opt/conda/lib/python3.10/site-packages/lightgbm/engine.py:172: UserWarning: Found `num_boost_round` in params. Will use it instead of argument\n",
      "  _log_warning(f\"Found `{alias}` in params. Will use it instead of argument\")\n"
     ]
    },
    {
     "name": "stdout",
     "output_type": "stream",
     "text": [
      "[LightGBM] [Warning] Found whitespace in feature_names, replace with underlines\n",
      "[LightGBM] [Info] Number of positive: 23419, number of negative: 105511\n",
      "[LightGBM] [Info] Auto-choosing row-wise multi-threading, the overhead of testing was 0.010904 seconds.\n",
      "You can set `force_row_wise=true` to remove the overhead.\n",
      "And if memory is not enough, you can set `force_col_wise=true`.\n",
      "[LightGBM] [Info] Total Bins 353\n",
      "[LightGBM] [Info] Number of data points in the train set: 128930, number of used features: 17\n",
      "[LightGBM] [Info] [binary:BoostFromScore]: pavg=0.181641 -> initscore=-1.505268\n",
      "[LightGBM] [Info] Start training from score -1.505268\n",
      "[LightGBM] [Warning] Found whitespace in feature_names, replace with underlines\n",
      "Training until validation scores don't improve for 30 rounds\n",
      "Early stopping, best iteration is:\n",
      "[89]\tvalid_0's auc: 0.96506\n",
      "Fold: 4 Accuracy Score: 0.8939690073991344\n"
     ]
    },
    {
     "name": "stderr",
     "output_type": "stream",
     "text": [
      "/opt/conda/lib/python3.10/site-packages/lightgbm/engine.py:172: UserWarning: Found `num_boost_round` in params. Will use it instead of argument\n",
      "  _log_warning(f\"Found `{alias}` in params. Will use it instead of argument\")\n"
     ]
    },
    {
     "name": "stdout",
     "output_type": "stream",
     "text": [
      "[LightGBM] [Warning] Found whitespace in feature_names, replace with underlines\n",
      "[LightGBM] [Info] Number of positive: 23419, number of negative: 105511\n",
      "[LightGBM] [Info] Auto-choosing row-wise multi-threading, the overhead of testing was 0.012079 seconds.\n",
      "You can set `force_row_wise=true` to remove the overhead.\n",
      "And if memory is not enough, you can set `force_col_wise=true`.\n",
      "[LightGBM] [Info] Total Bins 354\n",
      "[LightGBM] [Info] Number of data points in the train set: 128930, number of used features: 17\n",
      "[LightGBM] [Info] [binary:BoostFromScore]: pavg=0.181641 -> initscore=-1.505268\n",
      "[LightGBM] [Info] Start training from score -1.505268\n",
      "[LightGBM] [Warning] Found whitespace in feature_names, replace with underlines\n",
      "Training until validation scores don't improve for 30 rounds\n",
      "Early stopping, best iteration is:\n",
      "[65]\tvalid_0's auc: 0.963863\n",
      "Fold: 5 Accuracy Score: 0.8960631020522127\n"
     ]
    },
    {
     "name": "stderr",
     "output_type": "stream",
     "text": [
      "/opt/conda/lib/python3.10/site-packages/lightgbm/engine.py:172: UserWarning: Found `num_boost_round` in params. Will use it instead of argument\n",
      "  _log_warning(f\"Found `{alias}` in params. Will use it instead of argument\")\n"
     ]
    },
    {
     "name": "stdout",
     "output_type": "stream",
     "text": [
      "[LightGBM] [Warning] Found whitespace in feature_names, replace with underlines\n",
      "[LightGBM] [Info] Number of positive: 23420, number of negative: 105511\n",
      "[LightGBM] [Info] Auto-choosing row-wise multi-threading, the overhead of testing was 0.010653 seconds.\n",
      "You can set `force_row_wise=true` to remove the overhead.\n",
      "And if memory is not enough, you can set `force_col_wise=true`.\n",
      "[LightGBM] [Info] Total Bins 355\n",
      "[LightGBM] [Info] Number of data points in the train set: 128931, number of used features: 17\n",
      "[LightGBM] [Info] [binary:BoostFromScore]: pavg=0.181648 -> initscore=-1.505225\n",
      "[LightGBM] [Info] Start training from score -1.505225\n",
      "[LightGBM] [Warning] Found whitespace in feature_names, replace with underlines\n",
      "Training until validation scores don't improve for 30 rounds\n",
      "Early stopping, best iteration is:\n",
      "[83]\tvalid_0's auc: 0.964294\n",
      "Fold: 6 Accuracy Score: 0.8955671902268761\n"
     ]
    },
    {
     "name": "stderr",
     "output_type": "stream",
     "text": [
      "/opt/conda/lib/python3.10/site-packages/lightgbm/engine.py:172: UserWarning: Found `num_boost_round` in params. Will use it instead of argument\n",
      "  _log_warning(f\"Found `{alias}` in params. Will use it instead of argument\")\n"
     ]
    },
    {
     "name": "stdout",
     "output_type": "stream",
     "text": [
      "[LightGBM] [Warning] Found whitespace in feature_names, replace with underlines\n",
      "[LightGBM] [Info] Number of positive: 23420, number of negative: 105511\n",
      "[LightGBM] [Info] Auto-choosing row-wise multi-threading, the overhead of testing was 0.011039 seconds.\n",
      "You can set `force_row_wise=true` to remove the overhead.\n",
      "And if memory is not enough, you can set `force_col_wise=true`.\n",
      "[LightGBM] [Info] Total Bins 354\n",
      "[LightGBM] [Info] Number of data points in the train set: 128931, number of used features: 17\n",
      "[LightGBM] [Info] [binary:BoostFromScore]: pavg=0.181648 -> initscore=-1.505225\n",
      "[LightGBM] [Info] Start training from score -1.505225\n",
      "[LightGBM] [Warning] Found whitespace in feature_names, replace with underlines\n",
      "Training until validation scores don't improve for 30 rounds\n",
      "Early stopping, best iteration is:\n",
      "[8]\tvalid_0's auc: 0.959749\n",
      "Fold: 7 Accuracy Score: 0.8883071553228621\n"
     ]
    },
    {
     "name": "stderr",
     "output_type": "stream",
     "text": [
      "/opt/conda/lib/python3.10/site-packages/lightgbm/engine.py:172: UserWarning: Found `num_boost_round` in params. Will use it instead of argument\n",
      "  _log_warning(f\"Found `{alias}` in params. Will use it instead of argument\")\n"
     ]
    },
    {
     "name": "stdout",
     "output_type": "stream",
     "text": [
      "[LightGBM] [Warning] Found whitespace in feature_names, replace with underlines\n",
      "[LightGBM] [Info] Number of positive: 23420, number of negative: 105511\n",
      "[LightGBM] [Info] Auto-choosing row-wise multi-threading, the overhead of testing was 0.012486 seconds.\n",
      "You can set `force_row_wise=true` to remove the overhead.\n",
      "And if memory is not enough, you can set `force_col_wise=true`.\n",
      "[LightGBM] [Info] Total Bins 353\n",
      "[LightGBM] [Info] Number of data points in the train set: 128931, number of used features: 17\n",
      "[LightGBM] [Info] [binary:BoostFromScore]: pavg=0.181648 -> initscore=-1.505225\n",
      "[LightGBM] [Info] Start training from score -1.505225\n",
      "[LightGBM] [Warning] Found whitespace in feature_names, replace with underlines\n",
      "Training until validation scores don't improve for 30 rounds\n",
      "Early stopping, best iteration is:\n",
      "[127]\tvalid_0's auc: 0.963838\n",
      "Fold: 8 Accuracy Score: 0.89521815008726\n"
     ]
    },
    {
     "name": "stderr",
     "output_type": "stream",
     "text": [
      "/opt/conda/lib/python3.10/site-packages/lightgbm/engine.py:172: UserWarning: Found `num_boost_round` in params. Will use it instead of argument\n",
      "  _log_warning(f\"Found `{alias}` in params. Will use it instead of argument\")\n"
     ]
    },
    {
     "name": "stdout",
     "output_type": "stream",
     "text": [
      "[LightGBM] [Warning] Found whitespace in feature_names, replace with underlines\n",
      "[LightGBM] [Info] Number of positive: 23420, number of negative: 105511\n",
      "[LightGBM] [Info] Auto-choosing row-wise multi-threading, the overhead of testing was 0.011250 seconds.\n",
      "You can set `force_row_wise=true` to remove the overhead.\n",
      "And if memory is not enough, you can set `force_col_wise=true`.\n",
      "[LightGBM] [Info] Total Bins 353\n",
      "[LightGBM] [Info] Number of data points in the train set: 128931, number of used features: 17\n",
      "[LightGBM] [Info] [binary:BoostFromScore]: pavg=0.181648 -> initscore=-1.505225\n",
      "[LightGBM] [Info] Start training from score -1.505225\n",
      "[LightGBM] [Warning] Found whitespace in feature_names, replace with underlines\n",
      "Training until validation scores don't improve for 30 rounds\n",
      "Early stopping, best iteration is:\n",
      "[83]\tvalid_0's auc: 0.965065\n",
      "Fold: 9 Accuracy Score: 0.8960558464223386\n"
     ]
    }
   ],
   "source": [
    "rf_params = {'learning_rate': 0.00012354203662305,\n",
    " 'num_leaves': 111,\n",
    " 'max_bin': 128,\n",
    " 'reg_alpha': 0.002167842399350645,\n",
    " 'reg_lambda': 3.5522822496011746e-06,\n",
    " 'num_boost_round': 250,\n",
    " 'boosting_type': 'rf',\n",
    " 'objective': 'binary',\n",
    " 'random_state': 42,\n",
    " 'is_unbalance': True,\n",
    "'bagging_fraction': 0.8,  \n",
    "        'bagging_freq': 1, \n",
    " 'metric': 'auc'}\n",
    "rf_lgbm_oof_results, rf_lgbm_test_results= train_lgbm(rf_params, X, y,'rf')"
   ]
  },
  {
   "cell_type": "markdown",
   "id": "dd33220a",
   "metadata": {
    "papermill": {
     "duration": 0.011953,
     "end_time": "2024-11-07T07:44:29.998052",
     "exception": false,
     "start_time": "2024-11-07T07:44:29.986099",
     "status": "completed"
    },
    "tags": []
   },
   "source": [
    "# 3. Predictions Over Probas"
   ]
  },
  {
   "cell_type": "code",
   "execution_count": 6,
   "id": "69dce23f",
   "metadata": {
    "execution": {
     "iopub.execute_input": "2024-11-07T07:44:30.026115Z",
     "iopub.status.busy": "2024-11-07T07:44:30.025730Z",
     "iopub.status.idle": "2024-11-07T07:44:30.035743Z",
     "shell.execute_reply": "2024-11-07T07:44:30.034598Z"
    },
    "papermill": {
     "duration": 0.025535,
     "end_time": "2024-11-07T07:44:30.038117",
     "exception": false,
     "start_time": "2024-11-07T07:44:30.012582",
     "status": "completed"
    },
    "tags": []
   },
   "outputs": [],
   "source": [
    "lgbm_oof_results = pd.concat([gbdt_lgbm_oof_results,\n",
    "                        dart_lgbm_oof_results,\n",
    "                        rf_lgbm_oof_results,\n",
    "                        y.reset_index(drop = True)],axis = 1)\n",
    "\n",
    "lgbm_test_results = pd.concat([gbdt_lgbm_test_results,\n",
    "                         dart_lgbm_test_results,\n",
    "                         rf_lgbm_test_results],axis=1)\n",
    "\n",
    "# lgbm_oof_results.to_csv(\"lgbm_oof_results.csv\", index = False)\n",
    "# lgbm_test_results.to_csv(\"lgbm_test_results.csv\",index = False)"
   ]
  },
  {
   "cell_type": "code",
   "execution_count": 7,
   "id": "8be2425c",
   "metadata": {
    "execution": {
     "iopub.execute_input": "2024-11-07T07:44:30.063341Z",
     "iopub.status.busy": "2024-11-07T07:44:30.062966Z",
     "iopub.status.idle": "2024-11-07T07:44:30.069326Z",
     "shell.execute_reply": "2024-11-07T07:44:30.068211Z"
    },
    "papermill": {
     "duration": 0.021142,
     "end_time": "2024-11-07T07:44:30.071587",
     "exception": false,
     "start_time": "2024-11-07T07:44:30.050445",
     "status": "completed"
    },
    "tags": []
   },
   "outputs": [],
   "source": [
    "def plot_calibration(column):\n",
    "    prob_true, prob_pred = calibration_curve(y_true=y,y_prob=lgbm_oof_results[column])\n",
    "    plt.plot(prob_pred, prob_true, marker='o', linewidth=1, label='Model')\n",
    "    plt.plot([0, 1], [0, 1], linestyle='--', label='Ideal')\n",
    "    plt.xlabel('Mean predicted probability')\n",
    "    plt.ylabel('Fraction of positives')\n",
    "    plt.title('gbdt_lgb_oof_probas')\n",
    "    plt.legend()\n",
    "    plt.show()"
   ]
  },
  {
   "cell_type": "code",
   "execution_count": 8,
   "id": "68e474d1",
   "metadata": {
    "execution": {
     "iopub.execute_input": "2024-11-07T07:44:30.095615Z",
     "iopub.status.busy": "2024-11-07T07:44:30.095195Z",
     "iopub.status.idle": "2024-11-07T07:44:30.382093Z",
     "shell.execute_reply": "2024-11-07T07:44:30.380981Z"
    },
    "papermill": {
     "duration": 0.301442,
     "end_time": "2024-11-07T07:44:30.384352",
     "exception": false,
     "start_time": "2024-11-07T07:44:30.082910",
     "status": "completed"
    },
    "tags": []
   },
   "outputs": [
    {
     "data": {
      "image/png": "[encoded data removed]",
      "text/plain": [
       "<Figure size 640x480 with 1 Axes>"
      ]
     },
     "metadata": {},
     "output_type": "display_data"
    }
   ],
   "source": [
    "plot_calibration(\"gbdt_lgb_oof_probas\")"
   ]
  },
  {
   "cell_type": "code",
   "execution_count": 9,
   "id": "54e1fdd2",
   "metadata": {
    "execution": {
     "iopub.execute_input": "2024-11-07T07:44:30.410317Z",
     "iopub.status.busy": "2024-11-07T07:44:30.409942Z",
     "iopub.status.idle": "2024-11-07T07:44:30.659524Z",
     "shell.execute_reply": "2024-11-07T07:44:30.658439Z"
    },
    "papermill": {
     "duration": 0.265784,
     "end_time": "2024-11-07T07:44:30.661776",
     "exception": false,
     "start_time": "2024-11-07T07:44:30.395992",
     "status": "completed"
    },
    "tags": []
   },
   "outputs": [
    {
     "data": {
      "image/png": "[encoded data removed]",
      "text/plain": [
       "<Figure size 640x480 with 1 Axes>"
      ]
     },
     "metadata": {},
     "output_type": "display_data"
    }
   ],
   "source": [
    "plot_calibration(\"dart_lgb_oof_probas\")"
   ]
  },
  {
   "cell_type": "code",
   "execution_count": 10,
   "id": "0b7b04b5",
   "metadata": {
    "execution": {
     "iopub.execute_input": "2024-11-07T07:44:30.689451Z",
     "iopub.status.busy": "2024-11-07T07:44:30.689061Z",
     "iopub.status.idle": "2024-11-07T07:44:30.940593Z",
     "shell.execute_reply": "2024-11-07T07:44:30.939551Z"
    },
    "papermill": {
     "duration": 0.26728,
     "end_time": "2024-11-07T07:44:30.942677",
     "exception": false,
     "start_time": "2024-11-07T07:44:30.675397",
     "status": "completed"
    },
    "tags": []
   },
   "outputs": [
    {
     "data": {
      "image/png": "[encoded data removed]",
      "text/plain": [
       "<Figure size 640x480 with 1 Axes>"
      ]
     },
     "metadata": {},
     "output_type": "display_data"
    }
   ],
   "source": [
    "plot_calibration(\"rf_lgb_oof_probas\")"
   ]
  },
  {
   "cell_type": "code",
   "execution_count": 11,
   "id": "d8e85455",
   "metadata": {
    "execution": {
     "iopub.execute_input": "2024-11-07T07:44:30.969831Z",
     "iopub.status.busy": "2024-11-07T07:44:30.969436Z",
     "iopub.status.idle": "2024-11-07T07:44:31.387879Z",
     "shell.execute_reply": "2024-11-07T07:44:31.386913Z"
    },
    "papermill": {
     "duration": 0.434691,
     "end_time": "2024-11-07T07:44:31.390238",
     "exception": false,
     "start_time": "2024-11-07T07:44:30.955547",
     "status": "completed"
    },
    "tags": []
   },
   "outputs": [],
   "source": [
    "X_meta_train = lgbm_oof_results[[\"gbdt_lgb_oof_probas\",\n",
    "                          \"dart_lgb_oof_probas\",\n",
    "                          \"rf_lgb_oof_probas\"]].copy()\n",
    "X_meta_test = lgbm_test_results.iloc[:,[1,3,5]].copy()\n",
    "y_meta_train = y.copy()\n",
    "\n",
    "logit = LogisticRegression(random_state = 42)\n",
    "logit.fit(X_meta_train.values,y_meta_train)\n",
    "y_pred = logit.predict(X_meta_test.values)\n",
    "submission = pd.DataFrame({'id': range(140700,140700+len(test)),\n",
    "                          \"Depression\": y_pred}).set_index(\"id\")\n",
    "submission.to_csv(\"submission.csv\")"
   ]
  },
  {
   "cell_type": "code",
   "execution_count": 12,
   "id": "d6260939",
   "metadata": {
    "execution": {
     "iopub.execute_input": "2024-11-07T07:44:31.418735Z",
     "iopub.status.busy": "2024-11-07T07:44:31.417936Z",
     "iopub.status.idle": "2024-11-07T07:44:32.075842Z",
     "shell.execute_reply": "2024-11-07T07:44:32.074801Z"
    },
    "papermill": {
     "duration": 0.675025,
     "end_time": "2024-11-07T07:44:32.078763",
     "exception": false,
     "start_time": "2024-11-07T07:44:31.403738",
     "status": "completed"
    },
    "tags": []
   },
   "outputs": [
    {
     "name": "stderr",
     "output_type": "stream",
     "text": [
      "/opt/conda/lib/python3.10/site-packages/sklearn/calibration.py:321: FutureWarning: `base_estimator` was renamed to `estimator` in version 1.2 and will be removed in 1.4.\n",
      "  warnings.warn(\n"
     ]
    }
   ],
   "source": [
    "from sklearn.calibration import CalibratedClassifierCV\n",
    "X_train,X_test,y_train,y_test = train_test_split(X_meta_train.values,y_meta_train.values,random_state = 42,\n",
    "                                                stratify = y_meta_train.values)\n",
    "calibrated_model = CalibratedClassifierCV(base_estimator = logit,cv = 3)\n",
    "calibrated_model.fit(X_train,y_train)\n",
    "y_pred = calibrated_model.predict_proba(X_test)"
   ]
  },
  {
   "cell_type": "code",
   "execution_count": 13,
   "id": "458c0f25",
   "metadata": {
    "execution": {
     "iopub.execute_input": "2024-11-07T07:44:32.123028Z",
     "iopub.status.busy": "2024-11-07T07:44:32.122523Z",
     "iopub.status.idle": "2024-11-07T07:44:32.391716Z",
     "shell.execute_reply": "2024-11-07T07:44:32.390469Z"
    },
    "papermill": {
     "duration": 0.294732,
     "end_time": "2024-11-07T07:44:32.394451",
     "exception": false,
     "start_time": "2024-11-07T07:44:32.099719",
     "status": "completed"
    },
    "tags": []
   },
   "outputs": [
    {
     "data": {
      "image/png": "[encoded data removed]",
      "text/plain": [
       "<Figure size 640x480 with 1 Axes>"
      ]
     },
     "metadata": {},
     "output_type": "display_data"
    }
   ],
   "source": [
    "prob_true, prob_pred = calibration_curve(y_true=y_test,y_prob=y_pred[:,1])\n",
    "plt.plot(prob_pred, prob_true, marker='o', linewidth=1, label='Model')\n",
    "plt.plot([0, 1], [0, 1], linestyle='--', label='Ideal')\n",
    "plt.xlabel('Mean predicted probability')\n",
    "plt.ylabel('Fraction of positives')\n",
    "plt.title('Calibrated Meta Learner')\n",
    "plt.legend()\n",
    "plt.show()"
   ]
  },
  {
   "cell_type": "code",
   "execution_count": 14,
   "id": "564ebca9",
   "metadata": {
    "execution": {
     "iopub.execute_input": "2024-11-07T07:44:32.425043Z",
     "iopub.status.busy": "2024-11-07T07:44:32.424665Z",
     "iopub.status.idle": "2024-11-07T07:44:32.565046Z",
     "shell.execute_reply": "2024-11-07T07:44:32.563978Z"
    },
    "papermill": {
     "duration": 0.159189,
     "end_time": "2024-11-07T07:44:32.567786",
     "exception": false,
     "start_time": "2024-11-07T07:44:32.408597",
     "status": "completed"
    },
    "tags": []
   },
   "outputs": [],
   "source": [
    "y_pred = calibrated_model.predict(X_meta_test.values)\n",
    "submission = pd.DataFrame({'id': range(140700,140700+len(test)),\n",
    "                          \"Depression\": y_pred}).set_index(\"id\")\n",
    "submission.to_csv(\"sub.csv\")"
   ]
  }
 ],
 "metadata": {
  "kaggle": {
   "accelerator": "none",
   "dataSources": [
    {
     "databundleVersionId": 10008389,
     "sourceId": 84895,
     "sourceType": "competition"
    },
    {
     "datasetId": 5868381,
     "sourceId": 9616093,
     "sourceType": "datasetVersion"
    }
   ],
   "dockerImageVersionId": 30786,
   "isGpuEnabled": false,
   "isInternetEnabled": true,
   "language": "python",
   "sourceType": "notebook"
  },
  "kernelspec": {
   "display_name": "Python 3",
   "language": "python",
   "name": "python3"
  },
  "language_info": {
   "codemirror_mode": {
    "name": "ipython",
    "version": 3
   },
   "file_extension": ".py",
   "mimetype": "text/x-python",
   "name": "python",
   "nbconvert_exporter": "python",
   "pygments_lexer": "ipython3",
   "version": "3.10.14"
  },
  "papermill": {
   "default_parameters": {},
   "duration": 464.406312,
   "end_time": "2024-11-07T07:44:33.407107",
   "environment_variables": {},
   "exception": null,
   "input_path": "__notebook__.ipynb",
   "output_path": "__notebook__.ipynb",
   "parameters": {},
   "start_time": "2024-11-07T07:36:49.000795",
   "version": "2.6.0"
  }
 },
 "nbformat": 4,
 "nbformat_minor": 5
}
