{
 "cells": [
  {
   "cell_type": "code",
   "execution_count": 1,
   "id": "07eb442b",
   "metadata": {
    "_cell_guid": "b1076dfc-b9ad-4769-8c92-a6c4dae69d19",
    "_uuid": "8f2839f25d086af736a60e9eeb907d3b93b6e0e5",
    "execution": {
     "iopub.execute_input": "2024-11-07T08:47:00.099604Z",
     "iopub.status.busy": "2024-11-07T08:47:00.099098Z",
     "iopub.status.idle": "2024-11-07T08:48:36.654331Z",
     "shell.execute_reply": "2024-11-07T08:48:36.653171Z"
    },
    "papermill": {
     "duration": 96.562203,
     "end_time": "2024-11-07T08:48:36.657069",
     "exception": false,
     "start_time": "2024-11-07T08:47:00.094866",
     "status": "completed"
    },
    "tags": []
   },
   "outputs": [
    {
     "name": "stderr",
     "output_type": "stream",
     "text": [
      "/opt/conda/lib/python3.10/site-packages/lightgbm/engine.py:172: UserWarning: Found `n_estimators` in params. Will use it instead of argument\n",
      "  _log_warning(f\"Found `{alias}` in params. Will use it instead of argument\")\n"
     ]
    },
    {
     "name": "stdout",
     "output_type": "stream",
     "text": [
      "Training until validation scores don't improve for 200 rounds\n",
      "Early stopping, best iteration is:\n",
      "[176]\tvalid_0's binary_logloss: 0.150616\n",
      "Fold: 0 Accuracy Score: 0.9395504676811391\n"
     ]
    },
    {
     "name": "stderr",
     "output_type": "stream",
     "text": [
      "/opt/conda/lib/python3.10/site-packages/lightgbm/engine.py:172: UserWarning: Found `n_estimators` in params. Will use it instead of argument\n",
      "  _log_warning(f\"Found `{alias}` in params. Will use it instead of argument\")\n"
     ]
    },
    {
     "name": "stdout",
     "output_type": "stream",
     "text": [
      "Training until validation scores don't improve for 200 rounds\n",
      "Early stopping, best iteration is:\n",
      "[207]\tvalid_0's binary_logloss: 0.148239\n",
      "Fold: 1 Accuracy Score: 0.9416445623342176\n"
     ]
    },
    {
     "name": "stderr",
     "output_type": "stream",
     "text": [
      "/opt/conda/lib/python3.10/site-packages/lightgbm/engine.py:172: UserWarning: Found `n_estimators` in params. Will use it instead of argument\n",
      "  _log_warning(f\"Found `{alias}` in params. Will use it instead of argument\")\n"
     ]
    },
    {
     "name": "stdout",
     "output_type": "stream",
     "text": [
      "Training until validation scores don't improve for 200 rounds\n",
      "Early stopping, best iteration is:\n",
      "[183]\tvalid_0's binary_logloss: 0.152246\n",
      "Fold: 2 Accuracy Score: 0.9398296803015497\n"
     ]
    },
    {
     "name": "stderr",
     "output_type": "stream",
     "text": [
      "/opt/conda/lib/python3.10/site-packages/lightgbm/engine.py:172: UserWarning: Found `n_estimators` in params. Will use it instead of argument\n",
      "  _log_warning(f\"Found `{alias}` in params. Will use it instead of argument\")\n"
     ]
    },
    {
     "name": "stdout",
     "output_type": "stream",
     "text": [
      "Training until validation scores don't improve for 200 rounds\n",
      "Early stopping, best iteration is:\n",
      "[175]\tvalid_0's binary_logloss: 0.153511\n",
      "Fold: 3 Accuracy Score: 0.9359207036158035\n"
     ]
    },
    {
     "name": "stderr",
     "output_type": "stream",
     "text": [
      "/opt/conda/lib/python3.10/site-packages/lightgbm/engine.py:172: UserWarning: Found `n_estimators` in params. Will use it instead of argument\n",
      "  _log_warning(f\"Found `{alias}` in params. Will use it instead of argument\")\n"
     ]
    },
    {
     "name": "stdout",
     "output_type": "stream",
     "text": [
      "Training until validation scores don't improve for 200 rounds\n",
      "Early stopping, best iteration is:\n",
      "[210]\tvalid_0's binary_logloss: 0.140979\n",
      "Fold: 4 Accuracy Score: 0.9441574759179114\n"
     ]
    },
    {
     "name": "stderr",
     "output_type": "stream",
     "text": [
      "/opt/conda/lib/python3.10/site-packages/lightgbm/engine.py:172: UserWarning: Found `n_estimators` in params. Will use it instead of argument\n",
      "  _log_warning(f\"Found `{alias}` in params. Will use it instead of argument\")\n"
     ]
    },
    {
     "name": "stdout",
     "output_type": "stream",
     "text": [
      "Training until validation scores don't improve for 200 rounds\n",
      "Early stopping, best iteration is:\n",
      "[167]\tvalid_0's binary_logloss: 0.152438\n",
      "Fold: 5 Accuracy Score: 0.9389222392852157\n"
     ]
    },
    {
     "name": "stderr",
     "output_type": "stream",
     "text": [
      "/opt/conda/lib/python3.10/site-packages/lightgbm/engine.py:172: UserWarning: Found `n_estimators` in params. Will use it instead of argument\n",
      "  _log_warning(f\"Found `{alias}` in params. Will use it instead of argument\")\n"
     ]
    },
    {
     "name": "stdout",
     "output_type": "stream",
     "text": [
      "Training until validation scores don't improve for 200 rounds\n",
      "Early stopping, best iteration is:\n",
      "[210]\tvalid_0's binary_logloss: 0.149428\n",
      "Fold: 6 Accuracy Score: 0.9412914485165794\n"
     ]
    },
    {
     "name": "stderr",
     "output_type": "stream",
     "text": [
      "/opt/conda/lib/python3.10/site-packages/lightgbm/engine.py:172: UserWarning: Found `n_estimators` in params. Will use it instead of argument\n",
      "  _log_warning(f\"Found `{alias}` in params. Will use it instead of argument\")\n"
     ]
    },
    {
     "name": "stdout",
     "output_type": "stream",
     "text": [
      "Training until validation scores don't improve for 200 rounds\n",
      "Early stopping, best iteration is:\n",
      "[199]\tvalid_0's binary_logloss: 0.149834\n",
      "Fold: 7 Accuracy Score: 0.9383595113438046\n"
     ]
    },
    {
     "name": "stderr",
     "output_type": "stream",
     "text": [
      "/opt/conda/lib/python3.10/site-packages/lightgbm/engine.py:172: UserWarning: Found `n_estimators` in params. Will use it instead of argument\n",
      "  _log_warning(f\"Found `{alias}` in params. Will use it instead of argument\")\n"
     ]
    },
    {
     "name": "stdout",
     "output_type": "stream",
     "text": [
      "Training until validation scores don't improve for 200 rounds\n",
      "Early stopping, best iteration is:\n",
      "[214]\tvalid_0's binary_logloss: 0.145931\n",
      "Fold: 8 Accuracy Score: 0.9390575916230367\n"
     ]
    },
    {
     "name": "stderr",
     "output_type": "stream",
     "text": [
      "/opt/conda/lib/python3.10/site-packages/lightgbm/engine.py:172: UserWarning: Found `n_estimators` in params. Will use it instead of argument\n",
      "  _log_warning(f\"Found `{alias}` in params. Will use it instead of argument\")\n"
     ]
    },
    {
     "name": "stdout",
     "output_type": "stream",
     "text": [
      "Training until validation scores don't improve for 200 rounds\n",
      "Early stopping, best iteration is:\n",
      "[166]\tvalid_0's binary_logloss: 0.150677\n",
      "Fold: 9 Accuracy Score: 0.9384293193717278\n",
      "Mean Accuracy Score: 0.9397162999990986\n"
     ]
    }
   ],
   "source": [
    "import numpy as np\n",
    "import pandas as pd\n",
    "import matplotlib.pyplot as plt\n",
    "import seaborn as sns\n",
    "import lightgbm as lgb\n",
    "from sklearn.model_selection import StratifiedKFold\n",
    "from sklearn.metrics import accuracy_score\n",
    "\n",
    "train = pd.read_csv(\"/kaggle/input/playground-series-s4e11/train.csv\").drop([\"id\",\"Name\"],axis =1) \n",
    "original = pd.read_csv(\"/kaggle/input/depression-surveydataset-for-analysis/final_depression_dataset_1.csv\").drop(\"Name\",axis = 1)\n",
    "original[\"Depression\"] = original[\"Depression\"].map({\"No\": 0, \"Yes\": 1})\n",
    "train = pd.concat([train,original])\n",
    "test = pd.read_csv(\"/kaggle/input/playground-series-s4e11/test.csv\")\n",
    "test = test.drop([\"id\",\"Name\"],axis = 1)\n",
    "\n",
    "object_columns = [col for col in train.columns if train[col].dtype == 'object']\n",
    "encode_columns = object_columns + [\"Academic Pressure\", \"Work Pressure\", \"Study Satisfaction\", \"Work/Study Hours\", \"Financial Stress\",\"Job Satisfaction\"]\n",
    "\n",
    "for col in encode_columns:\n",
    "    train[col] = train[col].astype(\"category\")\n",
    "    test[col] = test[col].astype(\"category\")\n",
    "\n",
    "cat_features = encode_columns.copy()\n",
    "del object_columns,encode_columns\n",
    "\n",
    "X,y = train.iloc[:,:-1].copy(),train.iloc[:,-1].copy()\n",
    "skf = StratifiedKFold(n_splits = 10,random_state = 42,shuffle = True)\n",
    "\n",
    "positive_count = sum(y == 1) \n",
    "negative_count = sum(y == 0) \n",
    "scale_pos_weight = negative_count / positive_count\n",
    "\n",
    "lgb_oof_preds = np.zeros(len(y))\n",
    "lgb_oof_probas = np.zeros(len(y))\n",
    "lgb_test_preds = np.zeros(len(test))\n",
    "lgb_test_probas = np.zeros(len(test))\n",
    "lgb_train_scores = []\n",
    "\n",
    "\n",
    "lgb_params = {'learning_rate': 0.07164153618562107, \n",
    "              'num_leaves': 42,\n",
    "              'max_depth': 10,\n",
    "              'min_child_samples': 95,\n",
    "              'subsample': 0.6396409682368092,\n",
    "              'colsample_bytree': 0.40808651926024586,\n",
    "              'lambda_l1': 2.239039849097975e-06, \n",
    "              'lambda_l2': 0.0016799972868280992,\n",
    "              'n_estimators': 3000,\n",
    "              'random_state': 42,\n",
    "                'objective': 'binary',\n",
    "                'metric': 'binary_logloss', \n",
    "                'boosting_type': 'gbdt',\n",
    "                'class_weight': 'balanced',  #for imbalanced datasets weight proportional to inverse count\n",
    "                'verbosity': -1,\n",
    "                'enable_categorical': True,  \n",
    "             }\n",
    "\n",
    "for fold, (train_idx, test_idx) in enumerate(skf.split(X, y)):\n",
    "    X_train, X_valid = X.iloc[train_idx], X.iloc[test_idx]\n",
    "    y_train, y_valid = y.iloc[train_idx], y.iloc[test_idx]\n",
    "\n",
    "\n",
    "    lgb_train = lgb.Dataset(X_train, y_train, categorical_feature=cat_features)\n",
    "    lgb_valid = lgb.Dataset(X_valid, y_valid, categorical_feature=cat_features, reference=lgb_train)\n",
    "    \n",
    "    model = lgb.train(\n",
    "        lgb_params,\n",
    "        lgb_train,\n",
    "        valid_sets=[lgb_valid],\n",
    "        callbacks=[lgb.early_stopping(stopping_rounds=200)],  \n",
    "    )\n",
    "\n",
    "    y_pred_proba = model.predict(X_valid, num_iteration=model.best_iteration)\n",
    "    y_pred = (y_pred_proba > 0.5).astype(int)\n",
    "    accuracy = accuracy_score(y_valid, y_pred)\n",
    "    lgb_train_scores.append(accuracy)\n",
    "\n",
    "    print(\"Fold:\", fold, \"Accuracy Score:\", accuracy)\n",
    "\n",
    "    y_test_probas = model.predict(test)\n",
    "    y_test_preds = (y_test_probas > 0.5).astype(int)\n",
    "\n",
    "    lgb_oof_preds[test_idx] = y_pred\n",
    "    lgb_oof_probas[test_idx] = y_pred_proba\n",
    "    lgb_test_probas += y_test_probas\n",
    "    lgb_test_preds += y_test_preds\n",
    "\n",
    "lgb_test_probas /= skf.get_n_splits()\n",
    "lgb_test_preds /= skf.get_n_splits()\n",
    "\n",
    "mean_score = np.mean(lgb_train_scores)\n",
    "print(\"Mean Accuracy Score:\", mean_score)\n",
    "\n",
    "lgb_frame = pd.DataFrame({\"lgb_oof_preds\": lgb_oof_preds,\n",
    "                         \"lgb_oof_probas\":lgb_oof_probas})\n",
    "lgb_test_frame = pd.DataFrame({\"lgb_test_preds\": lgb_test_preds,\n",
    "                              \"lgb_test_probas\": lgb_test_probas})\n",
    "# lgb_frame.to_csv(\"lgbt_oof_frame.csv\",index = False)\n",
    "# lgb_test_frame.to_csv(\"lgb_test_frame.csv\",index = False)\n",
    "submission_id = range(140700,234499+1)\n",
    "submission = pd.DataFrame({'id': submission_id,\n",
    "                          'Depression': lgb_test_frame.lgb_test_preds.values.astype(int)}).set_index('id')\n",
    "submission.to_csv(\"submission.csv\", index = False)"
   ]
  }
 ],
 "metadata": {
  "kaggle": {
   "accelerator": "none",
   "dataSources": [
    {
     "databundleVersionId": 10008389,
     "sourceId": 84895,
     "sourceType": "competition"
    },
    {
     "datasetId": 5868381,
     "sourceId": 9616093,
     "sourceType": "datasetVersion"
    }
   ],
   "isGpuEnabled": false,
   "isInternetEnabled": true,
   "language": "python",
   "sourceType": "notebook"
  },
  "kernelspec": {
   "display_name": "Python 3",
   "language": "python",
   "name": "python3"
  },
  "language_info": {
   "codemirror_mode": {
    "name": "ipython",
    "version": 3
   },
   "file_extension": ".py",
   "mimetype": "text/x-python",
   "name": "python",
   "nbconvert_exporter": "python",
   "pygments_lexer": "ipython3",
   "version": "3.10.14"
  },
  "papermill": {
   "default_parameters": {},
   "duration": 100.303697,
   "end_time": "2024-11-07T08:48:37.383989",
   "environment_variables": {},
   "exception": null,
   "input_path": "__notebook__.ipynb",
   "output_path": "__notebook__.ipynb",
   "parameters": {},
   "start_time": "2024-11-07T08:46:57.080292",
   "version": "2.6.0"
  }
 },
 "nbformat": 4,
 "nbformat_minor": 5
}
