{
 "nbformat": 4,
 "nbformat_minor": 0,
 "metadata": {
  "colab": {
   "provenance": [],
   "mount_file_id": "13Akq03B6LyyIEDx3IihEavBv4fevBdOY",
   "authorship_tag": "ABX9TyOGzMpQfsGNs7EYvq0cZoB7"
  },
  "kernelspec": {
   "name": "python3",
   "display_name": "Python 3"
  },
  "language_info": {
   "name": "python"
  }
 },
 "cells": [
  {
   "cell_type": "code",
   "execution_count": 1,
   "metadata": {
    "id": "V20ZUc5mhRk3",
    "executionInfo": {
     "status": "ok",
     "timestamp": 1735375077313,
     "user_tz": -180,
     "elapsed": 30854,
     "user": {
      "displayName": "Egemen U\u011fur Dalg\u0131\u00e7",
      "userId": "05875523198878300823"
     }
    }
   },
   "outputs": [],
   "source": [
    "import json\n",
    "import numpy as np\n",
    "import pandas as pd\n",
    "\n",
    "import torch\n",
    "from torch.nn.functional import cosine_similarity\n",
    "from sentence_transformers import SentenceTransformer, util"
   ]
  },
  {
   "cell_type": "code",
   "source": [
    "model = SentenceTransformer('sentence-transformers/all-MiniLM-L6-v2')"
   ],
   "metadata": {
    "colab": {
     "base_uri": "https://localhost:8080/",
     "height": 493,
     "referenced_widgets": [
      "021f1bdf9673492cb4e4fa47e45929ec",
      "9f45ab8283274a2a8142e0b48fe07859",
      "bd6def04546a429b8ae73553b2b50ea7",
      "3966e216c1cb412398f54a7e06c77ceb",
      "1efeb465dc5c4a74bc7e586175bd47fa",
      "d6a47cebb6c14a3ab90dedb45b50e019",
      "8f175d1f7fbf4f069fd11ba080ece7a0",
      "416b464a34b1460295ac3221e730f783",
      "005020d2fe4c4eb08d773c8a1f541589",
      "2cf9d6c654b44d99a32e2d0175d0630b",
      "dade497ce02d492094b363c2abbdb3a6",
      "61bd233244e64e798dacff56c93fbd0f",
      "d59a3b2b9b6d4581a3e006bf4ae4e024",
      "5804ea38912147ce97799fa0a2899246",
      "ed75bd12d2ff449080afc0924b6da80c",
      "adcad83bb01d4a769c3dcbb10f47a59f",
      "8bcc82cb68134a258d1fbc7c64c1479c",
      "91e79b7cbf0c4a749feb89d2500fe8b8",
      "e29acdd06ec348ccbc1d5694827d3686",
      "06e7d832b8694f7c92b2936b86952ac5",
      "d7fe7a31087145e5b5252565f82ec3ac",
      "7605383e6c6a4481ba429c753e73be59",
      "579c6ee331de4bbaa004e6c9c9a3e07f",
      "04924447b741420e9671edcd0f20bf36",
      "bf0ed326bdfc42d4b79a5c3bff96fd97",
      "e1fbdd250bd04cbda504d443e11d4cd5",
      "6ecce555d6f943b8b09970643af1287c",
      "712e97709f69429fa6fe5d6833c7b338",
      "600aa36fe37d4e12aa98d35e11e596b0",
      "627b3ae512254bfd9fc7347b635bdb11",
      "46ef2463225347bea1b283bf7fef9c94",
      "3812ea3651934448b51533d93aac9466",
      "174cf3b828ee47f8a350722c572c8c89",
      "115b4462bd0041e88917d99a0f98e135",
      "06e55ee3c0394c639ea25d071b315301",
      "3873efd436bb48e6a8d495c2cbbd89b0",
      "7218de1569eb447ebb00a5559361e536",
      "4e9ed3a61c524624bc302480ca573d4d",
      "1a8e75fa962f43d2a9e2675aadf94ddc",
      "4d11994494d74ecc87867800432e3d9d",
      "2f91657e76ac45378ddf8f8b196082d8",
      "63978a6422604a0a919de3a818ceb499",
      "ad48e1c4de81458296b3fc51b8a71284",
      "13c0ba2e0e894198b779d6bcbeb473ed",
      "8ce3b7b6e7bd4a4fb1801ed4dcbc7eef",
      "92f0fea003c24be6a4c53e8eb6ae7f5e",
      "b7757160a1b94b6da97e49526bec7807",
      "87308a2dff6e4e6b9f03c4d86cbab9e3",
      "05fc27f0fa104dbba891579e692e1f7d",
      "2f0cba8da7664d6e976532a3f4d5dd0a",
      "9bd4dc6732e349b6a01685977fd49d96",
      "2939362e82c44cc491af6a50c1a05efe",
      "2ef6328f94df4d5faed8825db35bba07",
      "a609c993a59b410781389a627c30cc04",
      "85945ba50780431cb8303d6916fdf215",
      "c2639cef03984754a3fd6f002fd01c3c",
      "cd69585a95ec4fd3b6bd98de9047a156",
      "633f17b6cdf94ac8a154be59e87a0e77",
      "a8b121fa64b84ccb829eb9fe8320c235",
      "d72f7434cca54af78ccee194de5538e7",
      "d175c91bd9d84d589344608435c0fa8c",
      "2e90777c8770443fa58d4f469bf0fb84",
      "c780add6d68e464d9c8c098cad70dfe4",
      "95ac7b9c36fe43618dee1acc224b075f",
      "9818dab8d4d4474e982a0952f051bcf9",
      "1050ecae4c0440edafd735518345bc33",
      "6d66abb90cd0431da905a559861d3cd7",
      "f9a0a954dafd4167a41d02d7155d3cb8",
      "725f0b4ae8a84cd4bc161706f6a20253",
      "5413764a26c942ed91f884838c86470f",
      "b2e7bd9b785540a1ad73c22d65412028",
      "a5935b066ee34defa1e5a89301d1309e",
      "2a25800fe9454e8db3063471a692f2cd",
      "b06e2c5837dd461a97f5f316b7b5dda3",
      "5c0fbbd7a7a241b2a2967f1f6e6af5fd",
      "59960429c9954fb39a44c7e0c0774004",
      "1606c73a795a4ac7ad78654982497281",
      "e2be8df09c3c41a2a2753219b8dfa623",
      "b36529e66df74f74a8c706020b39084a",
      "c4630f7678c3410ba8475e2e78c0bc0a",
      "b0671d68f12f495fb80a5120cd90d10d",
      "8e538798b9804abca58dda56c47f1c03",
      "ce9a2789a9194533967cdb218de7ab37",
      "ed57a25ef9164419a3cb099e3da4f75e",
      "85ce1368ba784763968697490af0113f",
      "300984528c61460086fb980e0236d706",
      "0c3d717f6145477e9d72729873e182c1",
      "91b47585fbee4a988393904b0f43ce24",
      "d84613d9d2854f8da8faf603ba1b1737",
      "161351cf701c42e9b4454ec104c48120",
      "cfae963c8ec743849826a5d8788ec266",
      "10610f14a7e847bf9dd2ee9b20e00370",
      "ac34df4f301b4b3f813ea7f895547b65",
      "c5e3ebb6e32a453baa9ea7234971f38d",
      "64fcb7050ebd4b2bb615e0f12afb62de",
      "8e4c663a16fe4648b6c020c92847a178",
      "f8b8b542ae8c4ca9b9c9634a05991053",
      "781f2819c6a64b728ff38854ad8756f4",
      "9579ff29094b49ada40cbed11c17ce24",
      "0fb620d47f904e438f32645cac5ce061",
      "99cba9d2ef144725be6e7c4b29134b54",
      "75dd065861b143fab7a63a0e9b890822",
      "140eee24a8144f7487f6ab3c63b904a6",
      "4754227e894842a79efd0284eb1511bc",
      "65d3d126c96d4bf6b99c1a7a8d7284d7",
      "653090386bcc43dc8404c0799f9230ce",
      "4b4d906539da4900bec02c1deec4fbaa",
      "d03f89ccaa1c498289591b0d89c7d02a",
      "d48e69aa364e4e9ba1d412c15eceed7d",
      "72e5d20fc0314702aae3af9429d5ef05",
      "ebe629445e0f4613b5f02eadd0b1b760",
      "c5b88180c5344af8ac3d1d228c6bfb8a",
      "eb05e0231b1d4c57a4a53999d3e50b12",
      "cbb96cffb13c4bddb6eb85c621025972",
      "8a0b5fabb4fb4cdb96e6d5daed41f5c0",
      "ea516a05157d4d988e4a6a2f495a08b2",
      "0a58f5ac8dfb4461bda2b800e70fb404",
      "d3ec2837219b43a5a4eb527ff885bdb6",
      "6151f005eecf43a89b093a12c739e1d8",
      "80b905e9e5954d00a8b0d82f4e8ad5e5",
      "392e2ec551b94c57b30817294e44a667"
     ]
    },
    "id": "ewoOJYwDhhOF",
    "executionInfo": {
     "status": "ok",
     "timestamp": 1735375081990,
     "user_tz": -180,
     "elapsed": 4679,
     "user": {
      "displayName": "Egemen U\u011fur Dalg\u0131\u00e7",
      "userId": "05875523198878300823"
     }
    },
    "outputId": "098c17f4-c154-48fb-df6a-e29929d46c3d"
   },
   "execution_count": 2,
   "outputs": [
    {
     "output_type": "stream",
     "name": "stderr",
     "text": [
      "/usr/local/lib/python3.10/dist-packages/huggingface_hub/utils/_auth.py:94: UserWarning: \n",
      "The secret `HF_TOKEN` does not exist in your Colab secrets.\n",
      "To authenticate with the Hugging Face Hub, create a token in your settings tab (https://huggingface.co/settings/tokens), set it as secret in your Google Colab and restart your session.\n",
      "You will be able to reuse this secret in all of your notebooks.\n",
      "Please note that authentication is recommended but still optional to access public models or datasets.\n",
      "  warnings.warn(\n"
     ]
    },
    {
     "output_type": "display_data",
     "data": {
      "text/plain": [
       "modules.json:   0%|          | 0.00/349 [00:00<?, ?B/s]"
      ],
      "application/vnd.jupyter.widget-view+json": {
       "version_major": 2,
       "version_minor": 0,
       "model_id": "021f1bdf9673492cb4e4fa47e45929ec"
      }
     },
     "metadata": {}
    },
    {
     "output_type": "display_data",
     "data": {
      "text/plain": [
       "config_sentence_transformers.json:   0%|          | 0.00/116 [00:00<?, ?B/s]"
      ],
      "application/vnd.jupyter.widget-view+json": {
       "version_major": 2,
       "version_minor": 0,
       "model_id": "61bd233244e64e798dacff56c93fbd0f"
      }
     },
     "metadata": {}
    },
    {
     "output_type": "display_data",
     "data": {
      "text/plain": [
       "README.md:   0%|          | 0.00/10.7k [00:00<?, ?B/s]"
      ],
      "application/vnd.jupyter.widget-view+json": {
       "version_major": 2,
       "version_minor": 0,
       "model_id": "579c6ee331de4bbaa004e6c9c9a3e07f"
      }
     },
     "metadata": {}
    },
    {
     "output_type": "display_data",
     "data": {
      "text/plain": [
       "sentence_bert_config.json:   0%|          | 0.00/53.0 [00:00<?, ?B/s]"
      ],
      "application/vnd.jupyter.widget-view+json": {
       "version_major": 2,
       "version_minor": 0,
       "model_id": "115b4462bd0041e88917d99a0f98e135"
      }
     },
     "metadata": {}
    },
    {
     "output_type": "display_data",
     "data": {
      "text/plain": [
       "config.json:   0%|          | 0.00/612 [00:00<?, ?B/s]"
      ],
      "application/vnd.jupyter.widget-view+json": {
       "version_major": 2,
       "version_minor": 0,
       "model_id": "8ce3b7b6e7bd4a4fb1801ed4dcbc7eef"
      }
     },
     "metadata": {}
    },
    {
     "output_type": "display_data",
     "data": {
      "text/plain": [
       "model.safetensors:   0%|          | 0.00/90.9M [00:00<?, ?B/s]"
      ],
      "application/vnd.jupyter.widget-view+json": {
       "version_major": 2,
       "version_minor": 0,
       "model_id": "c2639cef03984754a3fd6f002fd01c3c"
      }
     },
     "metadata": {}
    },
    {
     "output_type": "display_data",
     "data": {
      "text/plain": [
       "tokenizer_config.json:   0%|          | 0.00/350 [00:00<?, ?B/s]"
      ],
      "application/vnd.jupyter.widget-view+json": {
       "version_major": 2,
       "version_minor": 0,
       "model_id": "6d66abb90cd0431da905a559861d3cd7"
      }
     },
     "metadata": {}
    },
    {
     "output_type": "display_data",
     "data": {
      "text/plain": [
       "vocab.txt:   0%|          | 0.00/232k [00:00<?, ?B/s]"
      ],
      "application/vnd.jupyter.widget-view+json": {
       "version_major": 2,
       "version_minor": 0,
       "model_id": "e2be8df09c3c41a2a2753219b8dfa623"
      }
     },
     "metadata": {}
    },
    {
     "output_type": "display_data",
     "data": {
      "text/plain": [
       "tokenizer.json:   0%|          | 0.00/466k [00:00<?, ?B/s]"
      ],
      "application/vnd.jupyter.widget-view+json": {
       "version_major": 2,
       "version_minor": 0,
       "model_id": "d84613d9d2854f8da8faf603ba1b1737"
      }
     },
     "metadata": {}
    },
    {
     "output_type": "display_data",
     "data": {
      "text/plain": [
       "special_tokens_map.json:   0%|          | 0.00/112 [00:00<?, ?B/s]"
      ],
      "application/vnd.jupyter.widget-view+json": {
       "version_major": 2,
       "version_minor": 0,
       "model_id": "0fb620d47f904e438f32645cac5ce061"
      }
     },
     "metadata": {}
    },
    {
     "output_type": "display_data",
     "data": {
      "text/plain": [
       "1_Pooling/config.json:   0%|          | 0.00/190 [00:00<?, ?B/s]"
      ],
      "application/vnd.jupyter.widget-view+json": {
       "version_major": 2,
       "version_minor": 0,
       "model_id": "ebe629445e0f4613b5f02eadd0b1b760"
      }
     },
     "metadata": {}
    }
   ]
  },
  {
   "cell_type": "code",
   "source": [
    "#load and clean the tuned predictions\n",
    "tuned_responses = json.load(open(\"../Data/gemini_tuned_response.json\",'r'))\n",
    "tuned_responses = [response.strip() for response in tuned_responses]\n",
    "\n",
    "#load and clean the base responses\n",
    "base_responses = json.load(open(\"../Data/gemini_base_response.json\",'r'))\n",
    "base_responses = [base_responses[i].strip() for i in range(len(base_responses))]\n",
    "\n",
    "#load and clean the microsoft titles\n",
    "microsoft_titles = json.load(open(\"../Data/microsoft_titles.json\",'r'))\n",
    "microsoft_titles = [microsoft_titles[i].strip() for i in range(len(microsoft_titles))]"
   ],
   "metadata": {
    "id": "TxJPu6mwHtP4",
    "executionInfo": {
     "status": "ok",
     "timestamp": 1735375121872,
     "user_tz": -180,
     "elapsed": 1145,
     "user": {
      "displayName": "Egemen U\u011fur Dalg\u0131\u00e7",
      "userId": "05875523198878300823"
     }
    }
   },
   "execution_count": 3,
   "outputs": []
  },
  {
   "cell_type": "code",
   "source": [
    "#convert suggested titles to embeddings using Sentence Transformer (model: all-MiniLM-L6-v2)\n",
    "base_embeddings = [model.encode(base_responses[i], convert_to_tensor=True) for i in range(len(base_responses))]\n",
    "tuned_embeddings = [model.encode(tuned_responses[i], convert_to_tensor=True) for i in range(len(tuned_responses))]\n",
    "microsoft_embeddings = [model.encode(microsoft_titles[i], convert_to_tensor=True) for i in range(len(microsoft_titles))]"
   ],
   "metadata": {
    "id": "6QXLQCeTJIa3",
    "executionInfo": {
     "status": "ok",
     "timestamp": 1735375131401,
     "user_tz": -180,
     "elapsed": 5896,
     "user": {
      "displayName": "Egemen U\u011fur Dalg\u0131\u00e7",
      "userId": "05875523198878300823"
     }
    }
   },
   "execution_count": 4,
   "outputs": []
  },
  {
   "cell_type": "code",
   "source": [
    "#apply mean pooling embeddings and arrange the dimensions\n",
    "base_stacked_tensors = torch.stack(base_embeddings)\n",
    "base_mean_tensor = torch.mean(base_stacked_tensors,dim = 0).unsqueeze(0)\n",
    "\n",
    "tuned_stacked_tensors = torch.stack(tuned_embeddings)\n",
    "tuned_mean_tensor = torch.mean(tuned_stacked_tensors,dim = 0).unsqueeze(0)\n",
    "\n",
    "microsoft_stacked_tensors = torch.stack(microsoft_embeddings)\n",
    "microsoft_mean_tensor = torch.mean(microsoft_stacked_tensors,dim = 0).unsqueeze(0)"
   ],
   "metadata": {
    "id": "pwZCqJjljyMG",
    "executionInfo": {
     "status": "ok",
     "timestamp": 1735375133286,
     "user_tz": -180,
     "elapsed": 286,
     "user": {
      "displayName": "Egemen U\u011fur Dalg\u0131\u00e7",
      "userId": "05875523198878300823"
     }
    }
   },
   "execution_count": 5,
   "outputs": []
  },
  {
   "cell_type": "code",
   "source": [
    "performance = pd.DataFrame(\n",
    "    {\n",
    "        \"Similarity\": [\n",
    "            float(cosine_similarity(microsoft_mean_tensor, microsoft_mean_tensor)[0]),\n",
    "            float(cosine_similarity(tuned_mean_tensor, microsoft_mean_tensor)[0]),\n",
    "            float(cosine_similarity(microsoft_mean_tensor, base_mean_tensor)[0]),\n",
    "        ]\n",
    "    },\n",
    "    index=[\"Phi vs Phi\", \"Phi vs Tuned Gemini\", \"Phi vs Gemini\"],\n",
    ")\n",
    "\n",
    "print(performance)"
   ],
   "metadata": {
    "colab": {
     "base_uri": "https://localhost:8080/"
    },
    "id": "LP-q87LvLhgi",
    "executionInfo": {
     "status": "ok",
     "timestamp": 1735375135971,
     "user_tz": -180,
     "elapsed": 323,
     "user": {
      "displayName": "Egemen U\u011fur Dalg\u0131\u00e7",
      "userId": "05875523198878300823"
     }
    },
    "outputId": "44a25882-2c83-419c-cec2-7ef20cc93e41"
   },
   "execution_count": 6,
   "outputs": [
    {
     "output_type": "stream",
     "name": "stdout",
     "text": [
      "                     Similarity\n",
      "Phi vs Phi             1.000000\n",
      "Phi vs Tuned Gemini    0.882114\n",
      "Phi vs Gemini          0.767320\n"
     ]
    }
   ]
  }
 ]
}