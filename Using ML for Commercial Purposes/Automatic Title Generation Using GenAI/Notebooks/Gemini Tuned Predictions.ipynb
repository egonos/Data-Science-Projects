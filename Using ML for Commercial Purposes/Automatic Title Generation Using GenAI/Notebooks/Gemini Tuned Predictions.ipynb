{
 "nbformat": 4,
 "nbformat_minor": 0,
 "metadata": {
  "colab": {
   "provenance": [],
   "mount_file_id": "1BGb6QDG8qE3SnmEN0fAOttzNE7t6JCaL",
   "authorship_tag": "ABX9TyPBF7mlt1R4J9zr98KhzlqP"
  },
  "kernelspec": {
   "name": "python3",
   "display_name": "Python 3"
  },
  "language_info": {
   "name": "python"
  }
 },
 "cells": [
  {
   "cell_type": "code",
   "execution_count": 1,
   "metadata": {
    "id": "yP57KOZkWbqG",
    "executionInfo": {
     "status": "ok",
     "timestamp": 1735374706064,
     "user_tz": -180,
     "elapsed": 1176,
     "user": {
      "displayName": "Egemen U\u011fur Dalg\u0131\u00e7",
      "userId": "05875523198878300823"
     }
    }
   },
   "outputs": [],
   "source": [
    "import google.generativeai as genai\n",
    "from google.colab import userdata\n",
    "from time import sleep\n",
    "import time\n",
    "import json\n",
    "import numpy as np\n",
    "import tqdm"
   ]
  },
  {
   "cell_type": "code",
   "source": [
    "TOPIC = \"cars\"\n",
    "\n",
    "#load Microsoft Phi titles\n",
    "microsoft_titles = json.load(open(\"../Data/microsoft_titles.json\",\"r\"))\n",
    "\n",
    "#clean the titles (remove \", ', \\n and whitespace)\n",
    "cleaned_microsoft_titles = [item.replace('\"', '')\\\n",
    "                .replace(\"'\", '')\\\n",
    "                .replace('\\n', '').strip() for item in microsoft_titles]\n",
    "\n",
    "#drop duplicated titles if any\n",
    "cleaned_microsoft_titles = np.unique(cleaned_microsoft_titles)"
   ],
   "metadata": {
    "id": "oCjoikXnWdSY",
    "executionInfo": {
     "status": "ok",
     "timestamp": 1735374767031,
     "user_tz": -180,
     "elapsed": 440,
     "user": {
      "displayName": "Egemen U\u011fur Dalg\u0131\u00e7",
      "userId": "05875523198878300823"
     }
    }
   },
   "execution_count": 3,
   "outputs": []
  },
  {
   "cell_type": "code",
   "source": [
    "#create training data. Show example titles\n",
    "training_data = [\n",
    "    {'text_input': f\"You are a helpful ecommerce assistant. Please generate 5 different email titles about {TOPIC} to enhance user engagement. Each title should be separated by ';'.\",\n",
    "     'output': \";\".join(cleaned_microsoft_titles[i:i+5])}\n",
    "    for i in range(0, len(cleaned_microsoft_titles), 5)\n",
    "    if i+5 <= len(cleaned_microsoft_titles)\n",
    "]\n",
    "\n",
    "print(training_data[0])"
   ],
   "metadata": {
    "colab": {
     "base_uri": "https://localhost:8080/"
    },
    "id": "NYthTf7PWwNs",
    "executionInfo": {
     "status": "ok",
     "timestamp": 1735374773490,
     "user_tz": -180,
     "elapsed": 241,
     "user": {
      "displayName": "Egemen U\u011fur Dalg\u0131\u00e7",
      "userId": "05875523198878300823"
     }
    },
    "outputId": "8e5e6081-870b-41d7-f1ed-97e0347d1776"
   },
   "execution_count": 4,
   "outputs": [
    {
     "output_type": "stream",
     "name": "stdout",
     "text": [
      "{'text_input': \"You are a helpful ecommerce assistant. Please generate 5 different email titles about cars to enhance user engagement. Each title should be separated by ';'.\", 'output': '2023 Best-Selling Cars: Reviews & Savings Tips to Upgrade Your Ride!;2023 Hottest Sedans: Unleash High Performance on the Road!;2023 Spring Car Deals Update: Unlock Exclusive Discounts & Latest Models;2023 Top 5 Sedans for Fuel Efficiency & Comfort: Your Perfect Ride Awaits!;2023 Top Gift Ideas: Exclusive Limited-Edition Cars \u2013 Upgrade Your Style Today!'}\n"
     ]
    }
   ]
  },
  {
   "cell_type": "markdown",
   "source": [
    "I used title batches of 5 due to training data size recommendatations (20-200)."
   ],
   "metadata": {
    "id": "MmQXueo4Qc90"
   }
  },
  {
   "cell_type": "code",
   "source": [
    "model = \"models/gemini-1.5-flash-001-tuning\"\n",
    "genai.configure(api_key=userdata.get('GOOGLE_API_KEY'))\n",
    "\n",
    "operation = genai.create_tuned_model(\n",
    "    display_name=\"increment\",\n",
    "    source_model=model,\n",
    "    epoch_count=4,\n",
    "    batch_size=4,\n",
    "    learning_rate=0.0001, #source: https://ai.google.dev/gemini-api/docs/model-tuning#advanced-settings\n",
    "    training_data=training_data)\n",
    "\n",
    "for status in operation.wait_bar():\n",
    "    time.sleep(10)\n",
    "\n",
    "result = operation.result()\n",
    "print(result)"
   ],
   "metadata": {
    "colab": {
     "base_uri": "https://localhost:8080/",
     "height": 361,
     "referenced_widgets": [
      "0cb45e521e884abfb5f3a608fc3d42c7",
      "1b8990915f8a44388b363bfcc183ce9d",
      "c12fa4fc21014fd7b8239d0db5d99d68",
      "787db6c1f2e8428eac9c1ee54c2e4de4",
      "8c04d71ba9d54b7b8fad7b732312d26d",
      "508e9ca625ae44d4b7a577be2bcc2bd2",
      "423bc4326ae04ba4b71480bce79a38da",
      "5498ae1d18484877a953c95017b278b0",
      "9940abbc76554517bffa094cc034e592",
      "5d431ce10dc74075b5a75e02fd958bf7",
      "8f6acf61d2144beaa69bd338d2d8be5b"
     ]
    },
    "id": "tS_6AfdWW8W_",
    "executionInfo": {
     "status": "ok",
     "timestamp": 1735374890810,
     "user_tz": -180,
     "elapsed": 113039,
     "user": {
      "displayName": "Egemen U\u011fur Dalg\u0131\u00e7",
      "userId": "05875523198878300823"
     }
    },
    "outputId": "fd646e00-1f47-4de2-b6c6-cbd98bdbd09f"
   },
   "execution_count": 5,
   "outputs": [
    {
     "output_type": "display_data",
     "data": {
      "text/plain": [
       "  0%|          | 0/40 [00:00<?, ?it/s]"
      ],
      "application/vnd.jupyter.widget-view+json": {
       "version_major": 2,
       "version_minor": 0,
       "model_id": "0cb45e521e884abfb5f3a608fc3d42c7"
      }
     },
     "metadata": {}
    },
    {
     "output_type": "stream",
     "name": "stdout",
     "text": [
      "TunedModel(name='tunedModels/increment-qsz98zbgbtpu',\n",
      "           source_model='models/gemini-1.5-flash-001-tuning',\n",
      "           base_model='models/gemini-1.5-flash-001-tuning',\n",
      "           display_name='increment',\n",
      "           description='',\n",
      "           temperature=1.0,\n",
      "           top_p=0.95,\n",
      "           top_k=64,\n",
      "           state=<State.ACTIVE: 2>,\n",
      "           create_time=datetime.datetime(2024, 12, 28, 8, 32, 59, 963610, tzinfo=datetime.timezone.utc),\n",
      "           update_time=datetime.datetime(2024, 12, 28, 8, 34, 48, 853811, tzinfo=datetime.timezone.utc),\n",
      "           tuning_task=TuningTask(start_time=datetime.datetime(2024, 12, 28, 8, 33, 1, 90023, tzinfo=datetime.timezone.utc),\n",
      "                                  complete_time=datetime.datetime(2024, 12, 28, 8, 34, 48, 853811, tzinfo=datetime.timezone.utc),\n",
      "                                  snapshots=[...],\n",
      "                                  hyperparameters=Hyperparameters(epoch_count=4,\n",
      "                                                                  batch_size=4,\n",
      "                                                                  learning_rate=0.0001)),\n",
      "           reader_project_numbers=None)\n"
     ]
    }
   ]
  },
  {
   "cell_type": "code",
   "source": [
    "#use tuned model to get title suggestions\n",
    "tuned_model = genai.GenerativeModel(model_name = result.name)\n",
    "\n",
    "#generate 5 different email titles about cars having max 1000 tokens\n",
    "config = {\n",
    "  \"max_output_tokens\": 1000,\n",
    "  \"temperature\": 2,\n",
    "}\n",
    "\n",
    "#get several responses to obtain 30 samples. Save the responses in a json file\n",
    "tuned_response = []\n",
    "for i in tqdm.tqdm(range(1,7)):\n",
    "  response = tuned_model.generate_content(f\"You are a helpful ecommerce assistant. Please generate 5 different email titles about {TOPIC} to enhance user engagement. Each title should be separated by ';'.\",\n",
    "          generation_config = genai.types.GenerationConfig(**config))\n",
    "\n",
    "  tuned_response.extend(response.text.split(\";\"))\n"
   ],
   "metadata": {
    "id": "55m2OofTXg2q",
    "colab": {
     "base_uri": "https://localhost:8080/",
     "height": 156
    },
    "outputId": "8d965d2c-a658-4cfa-cb2c-195a6c0f348e",
    "executionInfo": {
     "status": "ok",
     "timestamp": 1735374993174,
     "user_tz": -180,
     "elapsed": 45185,
     "user": {
      "displayName": "Egemen U\u011fur Dalg\u0131\u00e7",
      "userId": "05875523198878300823"
     }
    }
   },
   "execution_count": 6,
   "outputs": [
    {
     "output_type": "stream",
     "name": "stderr",
     "text": [
      "\n",
      "  0%|          | 0/6 [00:00<?, ?it/s]\u001b[A\n",
      " 17%|\u2588\u258b        | 1/6 [00:10<00:52, 10.56s/it]\u001b[A\n",
      " 33%|\u2588\u2588\u2588\u258e      | 2/6 [00:20<00:40, 10.07s/it]\u001b[A\n",
      " 50%|\u2588\u2588\u2588\u2588\u2588     | 3/6 [00:31<00:31, 10.47s/it]\u001b[A\n",
      " 67%|\u2588\u2588\u2588\u2588\u2588\u2588\u258b   | 4/6 [00:40<00:19,  9.93s/it]\u001b[A\n",
      " 83%|\u2588\u2588\u2588\u2588\u2588\u2588\u2588\u2588\u258e | 5/6 [00:42<00:07,  7.18s/it]\u001b[A\n",
      "100%|\u2588\u2588\u2588\u2588\u2588\u2588\u2588\u2588\u2588\u2588| 6/6 [00:44<00:00,  7.49s/it]\n"
     ]
    }
   ]
  },
  {
   "cell_type": "code",
   "source": [
    "#save the responses\n",
    "with open(f\"../Data/gemini_tuned_response.json\",\"w\") as f:\n",
    "    json.dump(tuned_response,f)"
   ],
   "metadata": {
    "id": "75UTDA_aW_Hg",
    "executionInfo": {
     "status": "ok",
     "timestamp": 1735374998687,
     "user_tz": -180,
     "elapsed": 293,
     "user": {
      "displayName": "Egemen U\u011fur Dalg\u0131\u00e7",
      "userId": "05875523198878300823"
     }
    }
   },
   "execution_count": 7,
   "outputs": []
  }
 ]
}