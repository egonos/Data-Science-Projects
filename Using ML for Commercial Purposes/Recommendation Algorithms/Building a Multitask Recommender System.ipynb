{
  "cells": [
    {
      "cell_type": "code",
      "execution_count": null,
      "metadata": {
        "colab": {
          "base_uri": "https://localhost:8080/"
        },
        "id": "ECaWBAVHUI9P",
        "outputId": "a4e375fe-b36c-4fec-ee71-d2d05bf6829f"
      },
      "outputs": [],
      "source": [
        "!pip install tensorflow==2.15.1\n",
        "!pip install tensorflow-recommenders==0.7.3"
      ]
    },
    {
      "cell_type": "markdown",
      "metadata": {
        "id": "ElQJkq-6Stwh"
      },
      "source": [
        "# Summary\n",
        "\n",
        "Previously, I have built a couple of recommendation systems on Amazon Reviews dataset. In each time, I made the system more complex and comprehensive. This time I created a multitask recommendation system. This system, optimizes the retrieval and the ranking objectives at the same time."
      ]
    },
    {
      "cell_type": "code",
      "execution_count": 2,
      "metadata": {
        "id": "9187n5t2UNyB"
      },
      "outputs": [],
      "source": [
        "import numpy as np\n",
        "import pandas as pd\n",
        "import tensorflow as tf\n",
        "import tensorflow_recommenders as tfrs\n",
        "import matplotlib.pyplot as plt\n",
        "\n",
        "tf.random.set_seed(42)\n",
        "np.random.seed(42)\n",
        "plt.style.use(\"ggplot\")"
      ]
    },
    {
      "cell_type": "code",
      "execution_count": 3,
      "metadata": {
        "colab": {
          "base_uri": "https://localhost:8080/"
        },
        "id": "9BB1HoWNUky_",
        "outputId": "c8f89d03-f19a-4ad0-b47a-e38eb0e5b307"
      },
      "outputs": [
        {
          "name": "stdout",
          "output_type": "stream",
          "text": [
            "--2025-01-06 06:31:29--  https://raw.githubusercontent.com/imsreecharan/datasets_/refs/heads/master/amazon_reviews.csv\n",
            "Resolving raw.githubusercontent.com (raw.githubusercontent.com)... 185.199.109.133, 185.199.110.133, 185.199.108.133, ...\n",
            "Connecting to raw.githubusercontent.com (raw.githubusercontent.com)|185.199.109.133|:443... connected.\n",
            "HTTP request sent, awaiting response... 200 OK\n",
            "Length: 903820 (883K) [text/plain]\n",
            "Saving to: ‘amazon_reviews.csv.1’\n",
            "\n",
            "amazon_reviews.csv. 100%[===================>] 882.64K  --.-KB/s    in 0.04s   \n",
            "\n",
            "2025-01-06 06:31:30 (19.9 MB/s) - ‘amazon_reviews.csv.1’ saved [903820/903820]\n",
            "\n"
          ]
        }
      ],
      "source": [
        "!wget https://raw.githubusercontent.com/imsreecharan/datasets_/refs/heads/master/amazon_reviews.csv"
      ]
    },
    {
      "cell_type": "code",
      "execution_count": 4,
      "metadata": {
        "colab": {
          "base_uri": "https://localhost:8080/",
          "height": 206
        },
        "id": "EjsHuoEIU561",
        "outputId": "322b254d-4284-4317-c9cf-acebee3cb0b9"
      },
      "outputs": [
        {
          "data": {
            "application/vnd.google.colaboratory.intrinsic+json": {
              "summary": "{\n  \"name\": \"reviews\",\n  \"rows\": 999,\n  \"fields\": [\n    {\n      \"column\": \"product_id\",\n      \"properties\": {\n        \"dtype\": \"category\",\n        \"num_unique_values\": 40,\n        \"samples\": [\n          \"7214047977\",\n          \"3930992868\",\n          \"3744295508\"\n        ],\n        \"semantic_type\": \"\",\n        \"description\": \"\"\n      }\n    },\n    {\n      \"column\": \"overall\",\n      \"properties\": {\n        \"dtype\": \"number\",\n        \"std\": 1.279490529019087,\n        \"min\": 1.0,\n        \"max\": 5.0,\n        \"num_unique_values\": 5,\n        \"samples\": [\n          1.0,\n          4.0,\n          3.0\n        ],\n        \"semantic_type\": \"\",\n        \"description\": \"\"\n      }\n    },\n    {\n      \"column\": \"reviewerID\",\n      \"properties\": {\n        \"dtype\": \"string\",\n        \"num_unique_values\": 963,\n        \"samples\": [\n          \"A3M73KV733HBG3\",\n          \"A23ZWJ9CS8OG30\",\n          \"A3TF6A1YMYJQ9U\"\n        ],\n        \"semantic_type\": \"\",\n        \"description\": \"\"\n      }\n    },\n    {\n      \"column\": \"summary\",\n      \"properties\": {\n        \"dtype\": \"string\",\n        \"num_unique_values\": 940,\n        \"samples\": [\n          \"Well worth every penny if rooted with Kit Kat\",\n          \"These mounts are amazing\",\n          \"Excellent!\"\n        ],\n        \"semantic_type\": \"\",\n        \"description\": \"\"\n      }\n    }\n  ]\n}",
              "type": "dataframe",
              "variable_name": "reviews"
            },
            "text/html": [
              "\n",
              "  <div id=\"df-8ac91000-aa7f-46c4-bd46-8fec7c950324\" class=\"colab-df-container\">\n",
              "    <div>\n",
              "<style scoped>\n",
              "    .dataframe tbody tr th:only-of-type {\n",
              "        vertical-align: middle;\n",
              "    }\n",
              "\n",
              "    .dataframe tbody tr th {\n",
              "        vertical-align: top;\n",
              "    }\n",
              "\n",
              "    .dataframe thead th {\n",
              "        text-align: right;\n",
              "    }\n",
              "</style>\n",
              "<table border=\"1\" class=\"dataframe\">\n",
              "  <thead>\n",
              "    <tr style=\"text-align: right;\">\n",
              "      <th></th>\n",
              "      <th>product_id</th>\n",
              "      <th>overall</th>\n",
              "      <th>reviewerID</th>\n",
              "      <th>summary</th>\n",
              "    </tr>\n",
              "  </thead>\n",
              "  <tbody>\n",
              "    <tr>\n",
              "      <th>0</th>\n",
              "      <td>0528881469</td>\n",
              "      <td>5.0</td>\n",
              "      <td>AO94DHGC771SJ</td>\n",
              "      <td>Gotta have GPS!</td>\n",
              "    </tr>\n",
              "    <tr>\n",
              "      <th>1</th>\n",
              "      <td>0528881469</td>\n",
              "      <td>1.0</td>\n",
              "      <td>AMO214LNFCEI4</td>\n",
              "      <td>Very Disappointed</td>\n",
              "    </tr>\n",
              "    <tr>\n",
              "      <th>2</th>\n",
              "      <td>0528881469</td>\n",
              "      <td>3.0</td>\n",
              "      <td>A3N7T0DY83Y4IG</td>\n",
              "      <td>1st impression</td>\n",
              "    </tr>\n",
              "    <tr>\n",
              "      <th>3</th>\n",
              "      <td>0528881469</td>\n",
              "      <td>2.0</td>\n",
              "      <td>A1H8PY3QHMQQA0</td>\n",
              "      <td>Great grafics, POOR GPS</td>\n",
              "    </tr>\n",
              "    <tr>\n",
              "      <th>4</th>\n",
              "      <td>0528881469</td>\n",
              "      <td>1.0</td>\n",
              "      <td>A24EV6RXELQZ63</td>\n",
              "      <td>Major issues, only excuses for support</td>\n",
              "    </tr>\n",
              "  </tbody>\n",
              "</table>\n",
              "</div>\n",
              "    <div class=\"colab-df-buttons\">\n",
              "\n",
              "  <div class=\"colab-df-container\">\n",
              "    <button class=\"colab-df-convert\" onclick=\"convertToInteractive('df-8ac91000-aa7f-46c4-bd46-8fec7c950324')\"\n",
              "            title=\"Convert this dataframe to an interactive table.\"\n",
              "            style=\"display:none;\">\n",
              "\n",
              "  <svg xmlns=\"http://www.w3.org/2000/svg\" height=\"24px\" viewBox=\"0 -960 960 960\">\n",
              "    <path d=\"M120-120v-720h720v720H120Zm60-500h600v-160H180v160Zm220 220h160v-160H400v160Zm0 220h160v-160H400v160ZM180-400h160v-160H180v160Zm440 0h160v-160H620v160ZM180-180h160v-160H180v160Zm440 0h160v-160H620v160Z\"/>\n",
              "  </svg>\n",
              "    </button>\n",
              "\n",
              "  <style>\n",
              "    .colab-df-container {\n",
              "      display:flex;\n",
              "      gap: 12px;\n",
              "    }\n",
              "\n",
              "    .colab-df-convert {\n",
              "      background-color: #E8F0FE;\n",
              "      border: none;\n",
              "      border-radius: 50%;\n",
              "      cursor: pointer;\n",
              "      display: none;\n",
              "      fill: #1967D2;\n",
              "      height: 32px;\n",
              "      padding: 0 0 0 0;\n",
              "      width: 32px;\n",
              "    }\n",
              "\n",
              "    .colab-df-convert:hover {\n",
              "      background-color: #E2EBFA;\n",
              "      box-shadow: 0px 1px 2px rgba(60, 64, 67, 0.3), 0px 1px 3px 1px rgba(60, 64, 67, 0.15);\n",
              "      fill: #174EA6;\n",
              "    }\n",
              "\n",
              "    .colab-df-buttons div {\n",
              "      margin-bottom: 4px;\n",
              "    }\n",
              "\n",
              "    [theme=dark] .colab-df-convert {\n",
              "      background-color: #3B4455;\n",
              "      fill: #D2E3FC;\n",
              "    }\n",
              "\n",
              "    [theme=dark] .colab-df-convert:hover {\n",
              "      background-color: #434B5C;\n",
              "      box-shadow: 0px 1px 3px 1px rgba(0, 0, 0, 0.15);\n",
              "      filter: drop-shadow(0px 1px 2px rgba(0, 0, 0, 0.3));\n",
              "      fill: #FFFFFF;\n",
              "    }\n",
              "  </style>\n",
              "\n",
              "    <script>\n",
              "      const buttonEl =\n",
              "        document.querySelector('#df-8ac91000-aa7f-46c4-bd46-8fec7c950324 button.colab-df-convert');\n",
              "      buttonEl.style.display =\n",
              "        google.colab.kernel.accessAllowed ? 'block' : 'none';\n",
              "\n",
              "      async function convertToInteractive(key) {\n",
              "        const element = document.querySelector('#df-8ac91000-aa7f-46c4-bd46-8fec7c950324');\n",
              "        const dataTable =\n",
              "          await google.colab.kernel.invokeFunction('convertToInteractive',\n",
              "                                                    [key], {});\n",
              "        if (!dataTable) return;\n",
              "\n",
              "        const docLinkHtml = 'Like what you see? Visit the ' +\n",
              "          '<a target=\"_blank\" href=https://colab.research.google.com/notebooks/data_table.ipynb>data table notebook</a>'\n",
              "          + ' to learn more about interactive tables.';\n",
              "        element.innerHTML = '';\n",
              "        dataTable['output_type'] = 'display_data';\n",
              "        await google.colab.output.renderOutput(dataTable, element);\n",
              "        const docLink = document.createElement('div');\n",
              "        docLink.innerHTML = docLinkHtml;\n",
              "        element.appendChild(docLink);\n",
              "      }\n",
              "    </script>\n",
              "  </div>\n",
              "\n",
              "\n",
              "<div id=\"df-eaa84aa1-cd57-4753-b826-b8220345bb45\">\n",
              "  <button class=\"colab-df-quickchart\" onclick=\"quickchart('df-eaa84aa1-cd57-4753-b826-b8220345bb45')\"\n",
              "            title=\"Suggest charts\"\n",
              "            style=\"display:none;\">\n",
              "\n",
              "<svg xmlns=\"http://www.w3.org/2000/svg\" height=\"24px\"viewBox=\"0 0 24 24\"\n",
              "     width=\"24px\">\n",
              "    <g>\n",
              "        <path d=\"M19 3H5c-1.1 0-2 .9-2 2v14c0 1.1.9 2 2 2h14c1.1 0 2-.9 2-2V5c0-1.1-.9-2-2-2zM9 17H7v-7h2v7zm4 0h-2V7h2v10zm4 0h-2v-4h2v4z\"/>\n",
              "    </g>\n",
              "</svg>\n",
              "  </button>\n",
              "\n",
              "<style>\n",
              "  .colab-df-quickchart {\n",
              "      --bg-color: #E8F0FE;\n",
              "      --fill-color: #1967D2;\n",
              "      --hover-bg-color: #E2EBFA;\n",
              "      --hover-fill-color: #174EA6;\n",
              "      --disabled-fill-color: #AAA;\n",
              "      --disabled-bg-color: #DDD;\n",
              "  }\n",
              "\n",
              "  [theme=dark] .colab-df-quickchart {\n",
              "      --bg-color: #3B4455;\n",
              "      --fill-color: #D2E3FC;\n",
              "      --hover-bg-color: #434B5C;\n",
              "      --hover-fill-color: #FFFFFF;\n",
              "      --disabled-bg-color: #3B4455;\n",
              "      --disabled-fill-color: #666;\n",
              "  }\n",
              "\n",
              "  .colab-df-quickchart {\n",
              "    background-color: var(--bg-color);\n",
              "    border: none;\n",
              "    border-radius: 50%;\n",
              "    cursor: pointer;\n",
              "    display: none;\n",
              "    fill: var(--fill-color);\n",
              "    height: 32px;\n",
              "    padding: 0;\n",
              "    width: 32px;\n",
              "  }\n",
              "\n",
              "  .colab-df-quickchart:hover {\n",
              "    background-color: var(--hover-bg-color);\n",
              "    box-shadow: 0 1px 2px rgba(60, 64, 67, 0.3), 0 1px 3px 1px rgba(60, 64, 67, 0.15);\n",
              "    fill: var(--button-hover-fill-color);\n",
              "  }\n",
              "\n",
              "  .colab-df-quickchart-complete:disabled,\n",
              "  .colab-df-quickchart-complete:disabled:hover {\n",
              "    background-color: var(--disabled-bg-color);\n",
              "    fill: var(--disabled-fill-color);\n",
              "    box-shadow: none;\n",
              "  }\n",
              "\n",
              "  .colab-df-spinner {\n",
              "    border: 2px solid var(--fill-color);\n",
              "    border-color: transparent;\n",
              "    border-bottom-color: var(--fill-color);\n",
              "    animation:\n",
              "      spin 1s steps(1) infinite;\n",
              "  }\n",
              "\n",
              "  @keyframes spin {\n",
              "    0% {\n",
              "      border-color: transparent;\n",
              "      border-bottom-color: var(--fill-color);\n",
              "      border-left-color: var(--fill-color);\n",
              "    }\n",
              "    20% {\n",
              "      border-color: transparent;\n",
              "      border-left-color: var(--fill-color);\n",
              "      border-top-color: var(--fill-color);\n",
              "    }\n",
              "    30% {\n",
              "      border-color: transparent;\n",
              "      border-left-color: var(--fill-color);\n",
              "      border-top-color: var(--fill-color);\n",
              "      border-right-color: var(--fill-color);\n",
              "    }\n",
              "    40% {\n",
              "      border-color: transparent;\n",
              "      border-right-color: var(--fill-color);\n",
              "      border-top-color: var(--fill-color);\n",
              "    }\n",
              "    60% {\n",
              "      border-color: transparent;\n",
              "      border-right-color: var(--fill-color);\n",
              "    }\n",
              "    80% {\n",
              "      border-color: transparent;\n",
              "      border-right-color: var(--fill-color);\n",
              "      border-bottom-color: var(--fill-color);\n",
              "    }\n",
              "    90% {\n",
              "      border-color: transparent;\n",
              "      border-bottom-color: var(--fill-color);\n",
              "    }\n",
              "  }\n",
              "</style>\n",
              "\n",
              "  <script>\n",
              "    async function quickchart(key) {\n",
              "      const quickchartButtonEl =\n",
              "        document.querySelector('#' + key + ' button');\n",
              "      quickchartButtonEl.disabled = true;  // To prevent multiple clicks.\n",
              "      quickchartButtonEl.classList.add('colab-df-spinner');\n",
              "      try {\n",
              "        const charts = await google.colab.kernel.invokeFunction(\n",
              "            'suggestCharts', [key], {});\n",
              "      } catch (error) {\n",
              "        console.error('Error during call to suggestCharts:', error);\n",
              "      }\n",
              "      quickchartButtonEl.classList.remove('colab-df-spinner');\n",
              "      quickchartButtonEl.classList.add('colab-df-quickchart-complete');\n",
              "    }\n",
              "    (() => {\n",
              "      let quickchartButtonEl =\n",
              "        document.querySelector('#df-eaa84aa1-cd57-4753-b826-b8220345bb45 button');\n",
              "      quickchartButtonEl.style.display =\n",
              "        google.colab.kernel.accessAllowed ? 'block' : 'none';\n",
              "    })();\n",
              "  </script>\n",
              "</div>\n",
              "\n",
              "    </div>\n",
              "  </div>\n"
            ],
            "text/plain": [
              "   product_id  overall      reviewerID                                 summary\n",
              "0  0528881469      5.0   AO94DHGC771SJ                         Gotta have GPS!\n",
              "1  0528881469      1.0   AMO214LNFCEI4                       Very Disappointed\n",
              "2  0528881469      3.0  A3N7T0DY83Y4IG                          1st impression\n",
              "3  0528881469      2.0  A1H8PY3QHMQQA0                 Great grafics, POOR GPS\n",
              "4  0528881469      1.0  A24EV6RXELQZ63  Major issues, only excuses for support"
            ]
          },
          "execution_count": 4,
          "metadata": {},
          "output_type": "execute_result"
        }
      ],
      "source": [
        "reviews = pd.read_csv('amazon_reviews.csv',index_col = 0).rename(columns = {'asin': 'product_id'})[[\"product_id\",\"overall\",\"reviewerID\",\"summary\"]]\n",
        "reviews.head()"
      ]
    },
    {
      "cell_type": "code",
      "execution_count": 5,
      "metadata": {
        "id": "mCTr2k3GcDSX"
      },
      "outputs": [],
      "source": [
        "unique_product_id = np.unique(reviews[\"product_id\"])\n",
        "unique_reviewerID = np.unique(reviews[\"reviewerID\"])"
      ]
    },
    {
      "cell_type": "code",
      "execution_count": 6,
      "metadata": {
        "id": "ZXJjnIJvZrfa"
      },
      "outputs": [],
      "source": [
        "dataset = tf.data.Dataset.from_tensor_slices({\n",
        "    \"reviewerID\": reviews[\"reviewerID\"].values,\n",
        "    \"product_id\": reviews[\"product_id\"].values,\n",
        "    \"summary\": reviews[\"summary\"].values,\n",
        "    \"overall\": reviews[\"overall\"].values\n",
        "})\n",
        "\n",
        "candidate_dataset = tf.data.Dataset.from_tensor_slices({\"product_id\": unique_product_id})\n",
        "\n",
        "shuffled = dataset.shuffle(len(dataset), seed=42, reshuffle_each_iteration=False)\n",
        "train = shuffled.take(int(len(dataset) * 0.8)).batch(32)\n",
        "test = shuffled.skip(int(len(dataset) * 0.8)).batch(32)"
      ]
    },
    {
      "cell_type": "code",
      "execution_count": 7,
      "metadata": {
        "id": "dtSklDd0yQXx"
      },
      "outputs": [],
      "source": [
        "class UserModelFFN(tf.keras.Model):\n",
        "  def __init__(self,layer_sizes):\n",
        "    super().__init__()\n",
        "\n",
        "    self.user_model = tf.keras.Sequential([tf.keras.layers.StringLookup(vocabulary = unique_reviewerID),\n",
        "                                           tf.keras.layers.Embedding(len(unique_reviewerID) +1,32)])\n",
        "\n",
        "    self.text_vectorizer = tf.keras.layers.TextVectorization(max_tokens = 2000)\n",
        "    self.text_vectorizer.adapt(reviews[\"summary\"].values)\n",
        "    self.summary_model = tf.keras.Sequential([self.text_vectorizer,\n",
        "                                             tf.keras.layers.Embedding(self.text_vectorizer.vocabulary_size(),32,mask_zero = True),\n",
        "                                             tf.keras.layers.GlobalAveragePooling1D()])\n",
        "\n",
        "    self.combined_model = tf.keras.Sequential()\n",
        "    for layer_size in layer_sizes[:-1]:\n",
        "      self.combined_model.add(tf.keras.layers.Dense(layer_size,activation = \"relu\"))\n",
        "\n",
        "    self.combined_model.add(tf.keras.layers.Dense(layer_sizes[-1]))\n",
        "\n",
        "  def call(self,features):\n",
        "    reviewerID = features[\"reviewerID\"]\n",
        "    summary = features[\"summary\"]\n",
        "    user_embeddings = self.user_model(reviewerID)\n",
        "    summary_embeddings = self.summary_model(summary)\n",
        "    user_summary_combined = self.combined_model(tf.concat([user_embeddings,summary_embeddings],axis = 1))\n",
        "    return user_summary_combined"
      ]
    },
    {
      "cell_type": "code",
      "execution_count": 8,
      "metadata": {
        "id": "-JxhL8AdatUe"
      },
      "outputs": [],
      "source": [
        "class ProductModel(tf.keras.Model):\n",
        "  def __init__(self):\n",
        "    super().__init__()\n",
        "    self.product_model = tf.keras.Sequential([tf.keras.layers.StringLookup(vocabulary = unique_product_id),\n",
        "                                             tf.keras.layers.Embedding(len(unique_product_id) +1,32)])\n",
        "\n",
        "  def call(self,features):\n",
        "    product_id = features[\"product_id\"]\n",
        "    product_embeddings = self.product_model(product_id)\n",
        "    return product_embeddings"
      ]
    },
    {
      "cell_type": "code",
      "execution_count": 9,
      "metadata": {
        "id": "t-dmolU3XweD"
      },
      "outputs": [],
      "source": [
        "class MultiTaskModel(tfrs.models.Model):\n",
        "  def __init__(self,rating_weight,retrieval_weight,layer_sizes):\n",
        "    super().__init__()\n",
        "\n",
        "    self.rating_weight = rating_weight\n",
        "    self.retrieval_weight = retrieval_weight\n",
        "\n",
        "    self.user_summary_model = UserModelFFN(layer_sizes)\n",
        "    self.product_model = ProductModel()\n",
        "\n",
        "    self.rating_task = tfrs.tasks.Ranking(loss = tf.keras.losses.MeanSquaredError(),\n",
        "                                        metrics = [tf.keras.metrics.RootMeanSquaredError()])\n",
        "    self.retrieval_task = tfrs.tasks.Retrieval(metrics = tfrs.metrics.FactorizedTopK(candidates = candidate_dataset.batch(32).map(self.product_model)))\n",
        "\n",
        "    self.rating_model = tf.keras.Sequential([tf.keras.layers.Dense(32,activation = \"relu\"),\n",
        "                                            tf.keras.layers.Dense(16,activation = \"relu\"),\n",
        "                                            tf.keras.layers.Dense(1)])\n",
        "\n",
        "  def call(self,features):\n",
        "    user_summary_embeddings = self.user_summary_model(features)\n",
        "    product_embeddings = self.product_model(features)\n",
        "    rating_predictions = self.rating_model(tf.concat([user_summary_embeddings,product_embeddings],axis = 1))\n",
        "    return user_summary_embeddings,product_embeddings,rating_predictions\n",
        "\n",
        "  def compute_loss(self,features,training = False):\n",
        "    user_summary_embeddings,product_embeddings,rating_predictions = self(features)\n",
        "    rating_loss = self.rating_task(labels = features[\"overall\"],predictions = rating_predictions)\n",
        "    retrieval_loss = self.retrieval_task(user_summary_embeddings,product_embeddings)\n",
        "    return (self.rating_weight * rating_loss) + (self.retrieval_weight * retrieval_loss)\n"
      ]
    },
    {
      "cell_type": "code",
      "execution_count": 10,
      "metadata": {
        "id": "tOrTgFyTbaUz"
      },
      "outputs": [],
      "source": [
        "model = MultiTaskModel(rating_weight = 0.5,retrieval_weight = 0.5,layer_sizes = [32])\n",
        "model.compile(optimizer = tf.keras.optimizers.Adagrad(0.1))"
      ]
    },
    {
      "cell_type": "code",
      "execution_count": 11,
      "metadata": {
        "colab": {
          "base_uri": "https://localhost:8080/"
        },
        "id": "SbSLQ08vbf9P",
        "outputId": "d65799e8-bd46-439e-995b-d67e59fa866b"
      },
      "outputs": [
        {
          "name": "stdout",
          "output_type": "stream",
          "text": [
            "Epoch 1/3\n",
            "25/25 [==============================] - 13s 104ms/step - root_mean_squared_error: 1.9689 - factorized_top_k/top_1_categorical_accuracy: 0.0338 - factorized_top_k/top_5_categorical_accuracy: 0.2115 - factorized_top_k/top_10_categorical_accuracy: 0.3217 - factorized_top_k/top_50_categorical_accuracy: 1.0000 - factorized_top_k/top_100_categorical_accuracy: 1.0000 - loss: 57.0556 - regularization_loss: 0.0000e+00 - total_loss: 57.0556\n",
            "Epoch 2/3\n",
            "25/25 [==============================] - 3s 126ms/step - root_mean_squared_error: 1.1652 - factorized_top_k/top_1_categorical_accuracy: 0.0989 - factorized_top_k/top_5_categorical_accuracy: 0.4631 - factorized_top_k/top_10_categorical_accuracy: 0.6170 - factorized_top_k/top_50_categorical_accuracy: 1.0000 - factorized_top_k/top_100_categorical_accuracy: 1.0000 - loss: 52.7350 - regularization_loss: 0.0000e+00 - total_loss: 52.7350\n",
            "Epoch 3/3\n",
            "25/25 [==============================] - 1s 49ms/step - root_mean_squared_error: 1.0355 - factorized_top_k/top_1_categorical_accuracy: 0.1865 - factorized_top_k/top_5_categorical_accuracy: 0.6796 - factorized_top_k/top_10_categorical_accuracy: 0.8148 - factorized_top_k/top_50_categorical_accuracy: 1.0000 - factorized_top_k/top_100_categorical_accuracy: 1.0000 - loss: 42.8803 - regularization_loss: 0.0000e+00 - total_loss: 42.8803\n"
          ]
        },
        {
          "data": {
            "text/plain": [
              "<keras.src.callbacks.History at 0x7f4ff6d95f60>"
            ]
          },
          "execution_count": 11,
          "metadata": {},
          "output_type": "execute_result"
        }
      ],
      "source": [
        "model.fit(train,epochs = 3)"
      ]
    },
    {
      "cell_type": "code",
      "execution_count": 12,
      "metadata": {
        "colab": {
          "base_uri": "https://localhost:8080/"
        },
        "id": "JvTcTKzpTa6U",
        "outputId": "5697d3f6-0163-42ea-b643-28f6e0c59261"
      },
      "outputs": [
        {
          "name": "stdout",
          "output_type": "stream",
          "text": [
            "7/7 [==============================] - 1s 49ms/step - root_mean_squared_error: 1.2473 - factorized_top_k/top_1_categorical_accuracy: 0.0850 - factorized_top_k/top_5_categorical_accuracy: 0.2800 - factorized_top_k/top_10_categorical_accuracy: 0.4200 - factorized_top_k/top_50_categorical_accuracy: 1.0000 - factorized_top_k/top_100_categorical_accuracy: 1.0000 - loss: 44.2010 - regularization_loss: 0.0000e+00 - total_loss: 44.2010\n"
          ]
        },
        {
          "data": {
            "text/plain": [
              "{'root_mean_squared_error': 1.247291088104248,\n",
              " 'factorized_top_k/top_1_categorical_accuracy': 0.08500000089406967,\n",
              " 'factorized_top_k/top_5_categorical_accuracy': 0.2800000011920929,\n",
              " 'factorized_top_k/top_10_categorical_accuracy': 0.41999998688697815,\n",
              " 'factorized_top_k/top_50_categorical_accuracy': 1.0,\n",
              " 'factorized_top_k/top_100_categorical_accuracy': 1.0,\n",
              " 'loss': 9.581385612487793,\n",
              " 'regularization_loss': 0,\n",
              " 'total_loss': 9.581385612487793}"
            ]
          },
          "execution_count": 12,
          "metadata": {},
          "output_type": "execute_result"
        }
      ],
      "source": [
        "model.evaluate(test,return_dict = True)"
      ]
    }
  ],
  "metadata": {
    "colab": {
      "provenance": []
    },
    "kernelspec": {
      "display_name": "Python 3",
      "name": "python3"
    },
    "language_info": {
      "name": "python"
    }
  },
  "nbformat": 4,
  "nbformat_minor": 0
}
