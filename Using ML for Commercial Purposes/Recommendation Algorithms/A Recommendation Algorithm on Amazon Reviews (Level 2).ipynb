{
  "cells": [
    {
      "cell_type": "code",
      "execution_count": null,
      "metadata": {
        "id": "cYL_UpCEARcf"
      },
      "outputs": [],
      "source": [
        "!pip install tensorflow==2.15.1\n",
        "!pip install tensorflow-recommenders==0.7.3"
      ]
    },
    {
      "cell_type": "markdown",
      "metadata": {
        "id": "VobZ1ozna0s_"
      },
      "source": [
        "# Summary\n",
        "\n",
        "The purpose of this notebook is to build more complex forms of retrieval and ranking models that I've built previously on Amazon Reviews dataset. The main difference is that this time the summary texts are included in the models too."
      ]
    },
    {
      "cell_type": "code",
      "execution_count": 2,
      "metadata": {
        "id": "7ffmMDVSAR9V"
      },
      "outputs": [],
      "source": [
        "import numpy as np\n",
        "import pandas as pd\n",
        "import tensorflow as tf\n",
        "import tensorflow_recommenders as tfrs"
      ]
    },
    {
      "cell_type": "code",
      "execution_count": 3,
      "metadata": {
        "colab": {
          "base_uri": "https://localhost:8080/"
        },
        "id": "EMGlHY3FAUqE",
        "outputId": "a04283fd-e42f-488d-e5f4-1e444e9d8d40"
      },
      "outputs": [
        {
          "name": "stdout",
          "output_type": "stream",
          "text": [
            "--2025-01-03 12:45:43--  https://raw.githubusercontent.com/imsreecharan/datasets_/refs/heads/master/amazon_reviews.csv\n",
            "Resolving raw.githubusercontent.com (raw.githubusercontent.com)... 185.199.108.133, 185.199.109.133, 185.199.110.133, ...\n",
            "Connecting to raw.githubusercontent.com (raw.githubusercontent.com)|185.199.108.133|:443... connected.\n",
            "HTTP request sent, awaiting response... 200 OK\n",
            "Length: 903820 (883K) [text/plain]\n",
            "Saving to: ‘amazon_reviews.csv.2’\n",
            "\n",
            "\ramazon_reviews.csv.   0%[                    ]       0  --.-KB/s               \ramazon_reviews.csv. 100%[===================>] 882.64K  --.-KB/s    in 0.007s  \n",
            "\n",
            "2025-01-03 12:45:43 (131 MB/s) - ‘amazon_reviews.csv.2’ saved [903820/903820]\n",
            "\n"
          ]
        }
      ],
      "source": [
        "!wget https://raw.githubusercontent.com/imsreecharan/datasets_/refs/heads/master/amazon_reviews.csv"
      ]
    },
    {
      "cell_type": "code",
      "execution_count": 4,
      "metadata": {
        "colab": {
          "base_uri": "https://localhost:8080/",
          "height": 206
        },
        "id": "1J3TniBDAmfw",
        "outputId": "69d2d701-7b04-4689-8c29-0dac2ddff119"
      },
      "outputs": [
        {
          "data": {
            "application/vnd.google.colaboratory.intrinsic+json": {
              "summary": "{\n  \"name\": \"reviews\",\n  \"rows\": 999,\n  \"fields\": [\n    {\n      \"column\": \"product_id\",\n      \"properties\": {\n        \"dtype\": \"category\",\n        \"num_unique_values\": 40,\n        \"samples\": [\n          \"7214047977\",\n          \"3930992868\",\n          \"3744295508\"\n        ],\n        \"semantic_type\": \"\",\n        \"description\": \"\"\n      }\n    },\n    {\n      \"column\": \"overall\",\n      \"properties\": {\n        \"dtype\": \"number\",\n        \"std\": 1.279490529019087,\n        \"min\": 1.0,\n        \"max\": 5.0,\n        \"num_unique_values\": 5,\n        \"samples\": [\n          1.0,\n          4.0,\n          3.0\n        ],\n        \"semantic_type\": \"\",\n        \"description\": \"\"\n      }\n    },\n    {\n      \"column\": \"reviewerID\",\n      \"properties\": {\n        \"dtype\": \"string\",\n        \"num_unique_values\": 963,\n        \"samples\": [\n          \"A3M73KV733HBG3\",\n          \"A23ZWJ9CS8OG30\",\n          \"A3TF6A1YMYJQ9U\"\n        ],\n        \"semantic_type\": \"\",\n        \"description\": \"\"\n      }\n    },\n    {\n      \"column\": \"summary\",\n      \"properties\": {\n        \"dtype\": \"string\",\n        \"num_unique_values\": 940,\n        \"samples\": [\n          \"Well worth every penny if rooted with Kit Kat\",\n          \"These mounts are amazing\",\n          \"Excellent!\"\n        ],\n        \"semantic_type\": \"\",\n        \"description\": \"\"\n      }\n    }\n  ]\n}",
              "type": "dataframe",
              "variable_name": "reviews"
            },
            "text/html": [
              "\n",
              "  <div id=\"df-c9f2d9f5-9c6c-4fd2-ad5f-bfc074b38cc1\" class=\"colab-df-container\">\n",
              "    <div>\n",
              "<style scoped>\n",
              "    .dataframe tbody tr th:only-of-type {\n",
              "        vertical-align: middle;\n",
              "    }\n",
              "\n",
              "    .dataframe tbody tr th {\n",
              "        vertical-align: top;\n",
              "    }\n",
              "\n",
              "    .dataframe thead th {\n",
              "        text-align: right;\n",
              "    }\n",
              "</style>\n",
              "<table border=\"1\" class=\"dataframe\">\n",
              "  <thead>\n",
              "    <tr style=\"text-align: right;\">\n",
              "      <th></th>\n",
              "      <th>product_id</th>\n",
              "      <th>overall</th>\n",
              "      <th>reviewerID</th>\n",
              "      <th>summary</th>\n",
              "    </tr>\n",
              "  </thead>\n",
              "  <tbody>\n",
              "    <tr>\n",
              "      <th>0</th>\n",
              "      <td>0528881469</td>\n",
              "      <td>5.0</td>\n",
              "      <td>AO94DHGC771SJ</td>\n",
              "      <td>Gotta have GPS!</td>\n",
              "    </tr>\n",
              "    <tr>\n",
              "      <th>1</th>\n",
              "      <td>0528881469</td>\n",
              "      <td>1.0</td>\n",
              "      <td>AMO214LNFCEI4</td>\n",
              "      <td>Very Disappointed</td>\n",
              "    </tr>\n",
              "    <tr>\n",
              "      <th>2</th>\n",
              "      <td>0528881469</td>\n",
              "      <td>3.0</td>\n",
              "      <td>A3N7T0DY83Y4IG</td>\n",
              "      <td>1st impression</td>\n",
              "    </tr>\n",
              "    <tr>\n",
              "      <th>3</th>\n",
              "      <td>0528881469</td>\n",
              "      <td>2.0</td>\n",
              "      <td>A1H8PY3QHMQQA0</td>\n",
              "      <td>Great grafics, POOR GPS</td>\n",
              "    </tr>\n",
              "    <tr>\n",
              "      <th>4</th>\n",
              "      <td>0528881469</td>\n",
              "      <td>1.0</td>\n",
              "      <td>A24EV6RXELQZ63</td>\n",
              "      <td>Major issues, only excuses for support</td>\n",
              "    </tr>\n",
              "  </tbody>\n",
              "</table>\n",
              "</div>\n",
              "    <div class=\"colab-df-buttons\">\n",
              "\n",
              "  <div class=\"colab-df-container\">\n",
              "    <button class=\"colab-df-convert\" onclick=\"convertToInteractive('df-c9f2d9f5-9c6c-4fd2-ad5f-bfc074b38cc1')\"\n",
              "            title=\"Convert this dataframe to an interactive table.\"\n",
              "            style=\"display:none;\">\n",
              "\n",
              "  <svg xmlns=\"http://www.w3.org/2000/svg\" height=\"24px\" viewBox=\"0 -960 960 960\">\n",
              "    <path d=\"M120-120v-720h720v720H120Zm60-500h600v-160H180v160Zm220 220h160v-160H400v160Zm0 220h160v-160H400v160ZM180-400h160v-160H180v160Zm440 0h160v-160H620v160ZM180-180h160v-160H180v160Zm440 0h160v-160H620v160Z\"/>\n",
              "  </svg>\n",
              "    </button>\n",
              "\n",
              "  <style>\n",
              "    .colab-df-container {\n",
              "      display:flex;\n",
              "      gap: 12px;\n",
              "    }\n",
              "\n",
              "    .colab-df-convert {\n",
              "      background-color: #E8F0FE;\n",
              "      border: none;\n",
              "      border-radius: 50%;\n",
              "      cursor: pointer;\n",
              "      display: none;\n",
              "      fill: #1967D2;\n",
              "      height: 32px;\n",
              "      padding: 0 0 0 0;\n",
              "      width: 32px;\n",
              "    }\n",
              "\n",
              "    .colab-df-convert:hover {\n",
              "      background-color: #E2EBFA;\n",
              "      box-shadow: 0px 1px 2px rgba(60, 64, 67, 0.3), 0px 1px 3px 1px rgba(60, 64, 67, 0.15);\n",
              "      fill: #174EA6;\n",
              "    }\n",
              "\n",
              "    .colab-df-buttons div {\n",
              "      margin-bottom: 4px;\n",
              "    }\n",
              "\n",
              "    [theme=dark] .colab-df-convert {\n",
              "      background-color: #3B4455;\n",
              "      fill: #D2E3FC;\n",
              "    }\n",
              "\n",
              "    [theme=dark] .colab-df-convert:hover {\n",
              "      background-color: #434B5C;\n",
              "      box-shadow: 0px 1px 3px 1px rgba(0, 0, 0, 0.15);\n",
              "      filter: drop-shadow(0px 1px 2px rgba(0, 0, 0, 0.3));\n",
              "      fill: #FFFFFF;\n",
              "    }\n",
              "  </style>\n",
              "\n",
              "    <script>\n",
              "      const buttonEl =\n",
              "        document.querySelector('#df-c9f2d9f5-9c6c-4fd2-ad5f-bfc074b38cc1 button.colab-df-convert');\n",
              "      buttonEl.style.display =\n",
              "        google.colab.kernel.accessAllowed ? 'block' : 'none';\n",
              "\n",
              "      async function convertToInteractive(key) {\n",
              "        const element = document.querySelector('#df-c9f2d9f5-9c6c-4fd2-ad5f-bfc074b38cc1');\n",
              "        const dataTable =\n",
              "          await google.colab.kernel.invokeFunction('convertToInteractive',\n",
              "                                                    [key], {});\n",
              "        if (!dataTable) return;\n",
              "\n",
              "        const docLinkHtml = 'Like what you see? Visit the ' +\n",
              "          '<a target=\"_blank\" href=https://colab.research.google.com/notebooks/data_table.ipynb>data table notebook</a>'\n",
              "          + ' to learn more about interactive tables.';\n",
              "        element.innerHTML = '';\n",
              "        dataTable['output_type'] = 'display_data';\n",
              "        await google.colab.output.renderOutput(dataTable, element);\n",
              "        const docLink = document.createElement('div');\n",
              "        docLink.innerHTML = docLinkHtml;\n",
              "        element.appendChild(docLink);\n",
              "      }\n",
              "    </script>\n",
              "  </div>\n",
              "\n",
              "\n",
              "<div id=\"df-b24670a0-f09f-4fd0-b15b-0c00b44672b9\">\n",
              "  <button class=\"colab-df-quickchart\" onclick=\"quickchart('df-b24670a0-f09f-4fd0-b15b-0c00b44672b9')\"\n",
              "            title=\"Suggest charts\"\n",
              "            style=\"display:none;\">\n",
              "\n",
              "<svg xmlns=\"http://www.w3.org/2000/svg\" height=\"24px\"viewBox=\"0 0 24 24\"\n",
              "     width=\"24px\">\n",
              "    <g>\n",
              "        <path d=\"M19 3H5c-1.1 0-2 .9-2 2v14c0 1.1.9 2 2 2h14c1.1 0 2-.9 2-2V5c0-1.1-.9-2-2-2zM9 17H7v-7h2v7zm4 0h-2V7h2v10zm4 0h-2v-4h2v4z\"/>\n",
              "    </g>\n",
              "</svg>\n",
              "  </button>\n",
              "\n",
              "<style>\n",
              "  .colab-df-quickchart {\n",
              "      --bg-color: #E8F0FE;\n",
              "      --fill-color: #1967D2;\n",
              "      --hover-bg-color: #E2EBFA;\n",
              "      --hover-fill-color: #174EA6;\n",
              "      --disabled-fill-color: #AAA;\n",
              "      --disabled-bg-color: #DDD;\n",
              "  }\n",
              "\n",
              "  [theme=dark] .colab-df-quickchart {\n",
              "      --bg-color: #3B4455;\n",
              "      --fill-color: #D2E3FC;\n",
              "      --hover-bg-color: #434B5C;\n",
              "      --hover-fill-color: #FFFFFF;\n",
              "      --disabled-bg-color: #3B4455;\n",
              "      --disabled-fill-color: #666;\n",
              "  }\n",
              "\n",
              "  .colab-df-quickchart {\n",
              "    background-color: var(--bg-color);\n",
              "    border: none;\n",
              "    border-radius: 50%;\n",
              "    cursor: pointer;\n",
              "    display: none;\n",
              "    fill: var(--fill-color);\n",
              "    height: 32px;\n",
              "    padding: 0;\n",
              "    width: 32px;\n",
              "  }\n",
              "\n",
              "  .colab-df-quickchart:hover {\n",
              "    background-color: var(--hover-bg-color);\n",
              "    box-shadow: 0 1px 2px rgba(60, 64, 67, 0.3), 0 1px 3px 1px rgba(60, 64, 67, 0.15);\n",
              "    fill: var(--button-hover-fill-color);\n",
              "  }\n",
              "\n",
              "  .colab-df-quickchart-complete:disabled,\n",
              "  .colab-df-quickchart-complete:disabled:hover {\n",
              "    background-color: var(--disabled-bg-color);\n",
              "    fill: var(--disabled-fill-color);\n",
              "    box-shadow: none;\n",
              "  }\n",
              "\n",
              "  .colab-df-spinner {\n",
              "    border: 2px solid var(--fill-color);\n",
              "    border-color: transparent;\n",
              "    border-bottom-color: var(--fill-color);\n",
              "    animation:\n",
              "      spin 1s steps(1) infinite;\n",
              "  }\n",
              "\n",
              "  @keyframes spin {\n",
              "    0% {\n",
              "      border-color: transparent;\n",
              "      border-bottom-color: var(--fill-color);\n",
              "      border-left-color: var(--fill-color);\n",
              "    }\n",
              "    20% {\n",
              "      border-color: transparent;\n",
              "      border-left-color: var(--fill-color);\n",
              "      border-top-color: var(--fill-color);\n",
              "    }\n",
              "    30% {\n",
              "      border-color: transparent;\n",
              "      border-left-color: var(--fill-color);\n",
              "      border-top-color: var(--fill-color);\n",
              "      border-right-color: var(--fill-color);\n",
              "    }\n",
              "    40% {\n",
              "      border-color: transparent;\n",
              "      border-right-color: var(--fill-color);\n",
              "      border-top-color: var(--fill-color);\n",
              "    }\n",
              "    60% {\n",
              "      border-color: transparent;\n",
              "      border-right-color: var(--fill-color);\n",
              "    }\n",
              "    80% {\n",
              "      border-color: transparent;\n",
              "      border-right-color: var(--fill-color);\n",
              "      border-bottom-color: var(--fill-color);\n",
              "    }\n",
              "    90% {\n",
              "      border-color: transparent;\n",
              "      border-bottom-color: var(--fill-color);\n",
              "    }\n",
              "  }\n",
              "</style>\n",
              "\n",
              "  <script>\n",
              "    async function quickchart(key) {\n",
              "      const quickchartButtonEl =\n",
              "        document.querySelector('#' + key + ' button');\n",
              "      quickchartButtonEl.disabled = true;  // To prevent multiple clicks.\n",
              "      quickchartButtonEl.classList.add('colab-df-spinner');\n",
              "      try {\n",
              "        const charts = await google.colab.kernel.invokeFunction(\n",
              "            'suggestCharts', [key], {});\n",
              "      } catch (error) {\n",
              "        console.error('Error during call to suggestCharts:', error);\n",
              "      }\n",
              "      quickchartButtonEl.classList.remove('colab-df-spinner');\n",
              "      quickchartButtonEl.classList.add('colab-df-quickchart-complete');\n",
              "    }\n",
              "    (() => {\n",
              "      let quickchartButtonEl =\n",
              "        document.querySelector('#df-b24670a0-f09f-4fd0-b15b-0c00b44672b9 button');\n",
              "      quickchartButtonEl.style.display =\n",
              "        google.colab.kernel.accessAllowed ? 'block' : 'none';\n",
              "    })();\n",
              "  </script>\n",
              "</div>\n",
              "\n",
              "    </div>\n",
              "  </div>\n"
            ],
            "text/plain": [
              "   product_id  overall      reviewerID                                 summary\n",
              "0  0528881469      5.0   AO94DHGC771SJ                         Gotta have GPS!\n",
              "1  0528881469      1.0   AMO214LNFCEI4                       Very Disappointed\n",
              "2  0528881469      3.0  A3N7T0DY83Y4IG                          1st impression\n",
              "3  0528881469      2.0  A1H8PY3QHMQQA0                 Great grafics, POOR GPS\n",
              "4  0528881469      1.0  A24EV6RXELQZ63  Major issues, only excuses for support"
            ]
          },
          "execution_count": 4,
          "metadata": {},
          "output_type": "execute_result"
        }
      ],
      "source": [
        "reviews = pd.read_csv('amazon_reviews.csv',index_col = 0).rename(columns = {'asin': 'product_id'})[[\"product_id\",\"overall\",\"reviewerID\",\"summary\"]]\n",
        "reviews.head()"
      ]
    },
    {
      "cell_type": "code",
      "execution_count": 5,
      "metadata": {
        "id": "TRCs-yCpCsay"
      },
      "outputs": [],
      "source": [
        "unique_product_id = np.unique(reviews[\"product_id\"])\n",
        "unique_reviewerID = np.unique(reviews[\"reviewerID\"])"
      ]
    },
    {
      "cell_type": "code",
      "execution_count": 6,
      "metadata": {
        "id": "YqlT7Ou_A19M"
      },
      "outputs": [],
      "source": [
        "retrieval_dataset = tf.data.Dataset.from_tensor_slices({\n",
        "    \"reviewerID\": reviews[\"reviewerID\"].values,\n",
        "    \"product_id\": reviews[\"product_id\"].values,\n",
        "    \"summary\": reviews[\"summary\"].values\n",
        "})\n",
        "\n",
        "candidate_dataset = tf.data.Dataset.from_tensor_slices({\"product_id\": unique_product_id})\n",
        "\n",
        "shuffled = retrieval_dataset.shuffle(len(retrieval_dataset), seed=42, reshuffle_each_iteration=False)\n",
        "train_retrieval = shuffled.take(int(len(retrieval_dataset) * 0.8)).batch(32)\n",
        "test_retrieval = shuffled.skip(int(len(retrieval_dataset) * 0.8)).batch(32)"
      ]
    },
    {
      "cell_type": "markdown",
      "metadata": {
        "id": "4TdSN_mcNoV0"
      },
      "source": [
        "# 1. Product Model"
      ]
    },
    {
      "cell_type": "code",
      "execution_count": 7,
      "metadata": {
        "colab": {
          "base_uri": "https://localhost:8080/"
        },
        "id": "UHxdAQn9KTgK",
        "outputId": "c32fa67e-efea-4e96-af70-e3d14788a9f2"
      },
      "outputs": [
        {
          "name": "stdout",
          "output_type": "stream",
          "text": [
            "tf.Tensor(\n",
            "[-0.04181057  0.00613198 -0.01580423  0.0428285   0.00778408  0.0392483\n",
            " -0.01950583 -0.01486744  0.02464231  0.03471922 -0.03536431  0.02868606\n",
            " -0.00068168  0.03673505 -0.04824916  0.01919064  0.00385328  0.03569541\n",
            " -0.04817854 -0.02764463  0.03993749  0.03238017  0.01970936 -0.02609757\n",
            "  0.01877946  0.03225947  0.04883577  0.02146194 -0.03961407  0.02023555\n",
            " -0.04718411  0.02892954], shape=(32,), dtype=float32)\n",
            "tf.Tensor(\n",
            "[[-0.04181057  0.00613198 -0.01580423  0.0428285   0.00778408  0.0392483\n",
            "  -0.01950583 -0.01486744  0.02464231  0.03471922 -0.03536431  0.02868606\n",
            "  -0.00068168  0.03673505 -0.04824916  0.01919064  0.00385328  0.03569541\n",
            "  -0.04817854 -0.02764463  0.03993749  0.03238017  0.01970936 -0.02609757\n",
            "   0.01877946  0.03225947  0.04883577  0.02146194 -0.03961407  0.02023555\n",
            "  -0.04718411  0.02892954]], shape=(1, 32), dtype=float32)\n"
          ]
        }
      ],
      "source": [
        "product_model = tf.keras.Sequential([\n",
        "    tf.keras.layers.StringLookup(vocabulary = unique_product_id),\n",
        "    tf.keras.layers.Embedding(len(unique_product_id) + 1, 32)\n",
        "])\n",
        "\n",
        "print(product_model(reviews[\"product_id\"][0]))\n",
        "print(tf.expand_dims(product_model(reviews[\"product_id\"][0]),axis = 0))"
      ]
    },
    {
      "cell_type": "markdown",
      "metadata": {
        "id": "wPWOrwr1N8gD"
      },
      "source": [
        "# 2. Summary Model (Text Vectorization + Embedding + GlobalAverage1D)"
      ]
    },
    {
      "cell_type": "code",
      "execution_count": 8,
      "metadata": {
        "colab": {
          "base_uri": "https://localhost:8080/"
        },
        "id": "S6yOd0uHKd2S",
        "outputId": "fdf23b98-8082-499c-f8b8-2d68fcad1371"
      },
      "outputs": [
        {
          "data": {
            "text/plain": [
              "<tf.Tensor: shape=(3,), dtype=int64, numpy=array([869,  69, 384])>"
            ]
          },
          "execution_count": 8,
          "metadata": {},
          "output_type": "execute_result"
        }
      ],
      "source": [
        "text_vectorizer = tf.keras.layers.TextVectorization(max_tokens = 10000)\n",
        "text_vectorizer.adapt(reviews[\"summary\"].values)\n",
        "text_vectorizer(reviews[\"summary\"][0])"
      ]
    },
    {
      "cell_type": "code",
      "execution_count": 9,
      "metadata": {
        "colab": {
          "base_uri": "https://localhost:8080/"
        },
        "id": "pP1M4BEVKn6b",
        "outputId": "ab017360-6d74-4991-cf1e-927edb9d8880"
      },
      "outputs": [
        {
          "data": {
            "text/plain": [
              "<tf.Tensor: shape=(1, 32), dtype=float32, numpy=\n",
              "array([[ 0.00030636,  0.01723851, -0.01490012, -0.00807221, -0.00255157,\n",
              "        -0.01997457, -0.00225286, -0.00447299, -0.00549032,  0.02629794,\n",
              "        -0.03398538, -0.00827839, -0.00120654, -0.0111842 , -0.01154557,\n",
              "        -0.01757006,  0.01046104, -0.00840172,  0.00088971,  0.00361286,\n",
              "         0.02737132, -0.00062442,  0.00638324, -0.00867405,  0.01707853,\n",
              "         0.02028238, -0.00175454,  0.0218857 , -0.00444392,  0.03047863,\n",
              "         0.01414151, -0.00941967]], dtype=float32)>"
            ]
          },
          "execution_count": 9,
          "metadata": {},
          "output_type": "execute_result"
        }
      ],
      "source": [
        "summary_model = tf.keras.Sequential([text_vectorizer,\n",
        "                                     tf.keras.layers.Embedding(10000, 32,mask_zero = True),\n",
        "                                     tf.keras.layers.GlobalAveragePooling1D()])\n",
        "summary_model(tf.constant([reviews[\"summary\"][0]]))"
      ]
    },
    {
      "cell_type": "markdown",
      "metadata": {
        "id": "jJAyxjsqO1pC"
      },
      "source": [
        "# 3. User Model"
      ]
    },
    {
      "cell_type": "code",
      "execution_count": 10,
      "metadata": {
        "colab": {
          "base_uri": "https://localhost:8080/"
        },
        "id": "qHxsR4daO4Ls",
        "outputId": "ff217854-9f14-4636-b6e9-b86c4dc38fb8"
      },
      "outputs": [
        {
          "name": "stdout",
          "output_type": "stream",
          "text": [
            "tf.Tensor(\n",
            "[-0.02986693 -0.02979692 -0.01532043  0.04924932 -0.02070814 -0.01078987\n",
            "  0.00057954 -0.03435329 -0.03419303 -0.04441765 -0.03568858 -0.00528691\n",
            " -0.00776166  0.00930915  0.04178662  0.02857419  0.01260522  0.00234913\n",
            " -0.01912628 -0.0217849  -0.00707304 -0.00443298 -0.03219974 -0.0386531\n",
            " -0.01271708  0.01447986  0.00828339  0.011569   -0.02881675 -0.02913202\n",
            "  0.03719957  0.01463187], shape=(32,), dtype=float32)\n",
            "tf.Tensor(\n",
            "[[-0.02986693 -0.02979692 -0.01532043  0.04924932 -0.02070814 -0.01078987\n",
            "   0.00057954 -0.03435329 -0.03419303 -0.04441765 -0.03568858 -0.00528691\n",
            "  -0.00776166  0.00930915  0.04178662  0.02857419  0.01260522  0.00234913\n",
            "  -0.01912628 -0.0217849  -0.00707304 -0.00443298 -0.03219974 -0.0386531\n",
            "  -0.01271708  0.01447986  0.00828339  0.011569   -0.02881675 -0.02913202\n",
            "   0.03719957  0.01463187]], shape=(1, 32), dtype=float32)\n"
          ]
        }
      ],
      "source": [
        "user_model = tf.keras.Sequential([tf.keras.layers.StringLookup(vocabulary = unique_reviewerID),\n",
        "                                  tf.keras.layers.Embedding(len(unique_reviewerID) + 1, 32)])\n",
        "\n",
        "print(user_model(reviews[\"reviewerID\"][0]))\n",
        "print(tf.expand_dims(user_model(reviews[\"reviewerID\"][0]),axis = 0))"
      ]
    },
    {
      "cell_type": "markdown",
      "metadata": {
        "id": "7FRw9rjBR-0F"
      },
      "source": [
        "# 4. Stacking the Models in a Class Object"
      ]
    },
    {
      "cell_type": "code",
      "execution_count": 11,
      "metadata": {
        "id": "2p1-EFOxSGmX"
      },
      "outputs": [],
      "source": [
        "class UserModel(tf.keras.Model):\n",
        "  def __init__(self):\n",
        "    super().__init__()\n",
        "\n",
        "    self.user_model = tf.keras.Sequential([tf.keras.layers.StringLookup(vocabulary = unique_reviewerID),\n",
        "                                           tf.keras.layers.Embedding(len(unique_reviewerID) + 1, 32)])\n",
        "\n",
        "    self.text_vectorizer = tf.keras.layers.TextVectorization(max_tokens = 10000)\n",
        "    self.text_vectorizer.adapt(reviews[\"summary\"].values)\n",
        "\n",
        "    self.summary_model = tf.keras.Sequential([self.text_vectorizer,\n",
        "                                              tf.keras.layers.Embedding(10000, 32,mask_zero = True),\n",
        "                                              tf.keras.layers.GlobalAveragePooling1D()])\n",
        "\n",
        "  def call(self,inputs):\n",
        "    return tf.concat([self.user_model(inputs[\"reviewerID\"]),\n",
        "                     self.summary_model(inputs[\"summary\"])],axis = 1)\n",
        "\n",
        "\n",
        "\n"
      ]
    },
    {
      "cell_type": "code",
      "execution_count": 12,
      "metadata": {
        "colab": {
          "base_uri": "https://localhost:8080/"
        },
        "id": "sC3QaEemUdbe",
        "outputId": "9dc32ffc-05e6-4d2e-b5af-49c927f8cc9b"
      },
      "outputs": [
        {
          "data": {
            "text/plain": [
              "<tf.Tensor: shape=(1, 64), dtype=float32, numpy=\n",
              "array([[-0.03941888,  0.00555389,  0.04971308, -0.01112105,  0.01875227,\n",
              "         0.03149897,  0.04983838,  0.0415214 ,  0.02211056,  0.01191982,\n",
              "         0.04536425,  0.03971851,  0.01094618,  0.04215712,  0.03751919,\n",
              "         0.01000056, -0.02822317, -0.04830662,  0.01903229,  0.01250613,\n",
              "         0.03184104, -0.01903722,  0.0473478 ,  0.02164492,  0.02620583,\n",
              "        -0.01028949, -0.00583061, -0.0183398 ,  0.04627231, -0.02192235,\n",
              "         0.02941177,  0.04654131, -0.02743609, -0.02914637, -0.0074079 ,\n",
              "        -0.01874513,  0.02003949, -0.00562538, -0.01637788, -0.00098066,\n",
              "         0.04014473,  0.00038821,  0.01450654, -0.00279236, -0.0319703 ,\n",
              "         0.01541704,  0.0048491 , -0.00965881,  0.02179919,  0.0100096 ,\n",
              "        -0.0052073 , -0.00259396,  0.01986673,  0.00423572, -0.00790298,\n",
              "        -0.00715874, -0.00500179, -0.01505018,  0.02665781, -0.01729001,\n",
              "         0.00890473,  0.02580987,  0.00678342,  0.00126406]],\n",
              "      dtype=float32)>"
            ]
          },
          "execution_count": 12,
          "metadata": {},
          "output_type": "execute_result"
        }
      ],
      "source": [
        "UserModel()({\"reviewerID\": tf.constant([reviews[\"reviewerID\"][0]]),\"summary\": tf.constant([reviews[\"summary\"][0]])})"
      ]
    },
    {
      "cell_type": "markdown",
      "metadata": {
        "id": "_4n6OmyoXxT6"
      },
      "source": [
        "# 5. Retrieval Model"
      ]
    },
    {
      "cell_type": "code",
      "execution_count": 13,
      "metadata": {
        "id": "GY2tP7aGWbKA"
      },
      "outputs": [],
      "source": [
        "candidate_dataset = tf.data.Dataset.from_tensor_slices(unique_product_id).batch(32)\n",
        "metrics = tfrs.metrics.FactorizedTopK(candidates = candidate_dataset.map(lambda x: (x, product_model(x))))\n",
        "task = tfrs.tasks.Retrieval(metrics = metrics)"
      ]
    },
    {
      "cell_type": "code",
      "execution_count": 14,
      "metadata": {
        "id": "fKITtwZBWdn9"
      },
      "outputs": [],
      "source": [
        "class Retrieval(tfrs.Model):\n",
        "  def __init__(self,user_model,product_model):\n",
        "    super().__init__()\n",
        "    self.user_model = user_model\n",
        "    self.product_model = product_model\n",
        "    self.task = task\n",
        "\n",
        "  def compute_loss(self,inputs,training = False):\n",
        "    user_embeddings_and_summary = self.user_model({\"reviewerID\": inputs[\"reviewerID\"],\"summary\": inputs[\"summary\"]})\n",
        "    positive_embeddings = self.product_model(inputs[\"product_id\"])\n",
        "    return self.task(user_embeddings_and_summary,positive_embeddings)\n",
        "\n",
        "#to reduce dimensions of the UserModel (1,64) to (1,32)\n",
        "user_model_retrieval = tf.keras.Sequential([UserModel(),\n",
        "                                  tf.keras.layers.Dense(32)])\n",
        "\n",
        "retrieval_model = Retrieval(user_model_retrieval,product_model)\n",
        "retrieval_model.compile(optimizer = tf.keras.optimizers.Adagrad(0.1))"
      ]
    },
    {
      "cell_type": "code",
      "execution_count": 15,
      "metadata": {
        "colab": {
          "base_uri": "https://localhost:8080/"
        },
        "id": "UdCKGl97ZYfl",
        "outputId": "6f7f1bbe-6c57-42b9-a1c7-2acb15f88e92"
      },
      "outputs": [
        {
          "name": "stdout",
          "output_type": "stream",
          "text": [
            "Epoch 1/3\n",
            "25/25 [==============================] - 11s 166ms/step - factorized_top_k/top_1_categorical_accuracy: 0.0113 - factorized_top_k/top_5_categorical_accuracy: 0.2829 - factorized_top_k/top_10_categorical_accuracy: 0.4043 - factorized_top_k/top_50_categorical_accuracy: 1.0000 - factorized_top_k/top_100_categorical_accuracy: 1.0000 - loss: 109.1587 - regularization_loss: 0.0000e+00 - total_loss: 109.1587\n",
            "Epoch 2/3\n",
            "25/25 [==============================] - 3s 134ms/step - factorized_top_k/top_1_categorical_accuracy: 0.0976 - factorized_top_k/top_5_categorical_accuracy: 0.5632 - factorized_top_k/top_10_categorical_accuracy: 0.7121 - factorized_top_k/top_50_categorical_accuracy: 1.0000 - factorized_top_k/top_100_categorical_accuracy: 1.0000 - loss: 92.6946 - regularization_loss: 0.0000e+00 - total_loss: 92.6946\n",
            "Epoch 3/3\n",
            "25/25 [==============================] - 2s 70ms/step - factorized_top_k/top_1_categorical_accuracy: 0.2666 - factorized_top_k/top_5_categorical_accuracy: 0.8010 - factorized_top_k/top_10_categorical_accuracy: 0.8849 - factorized_top_k/top_50_categorical_accuracy: 1.0000 - factorized_top_k/top_100_categorical_accuracy: 1.0000 - loss: 65.5281 - regularization_loss: 0.0000e+00 - total_loss: 65.5281\n"
          ]
        },
        {
          "data": {
            "text/plain": [
              "<keras.src.callbacks.History at 0x7fd6245c7850>"
            ]
          },
          "execution_count": 15,
          "metadata": {},
          "output_type": "execute_result"
        }
      ],
      "source": [
        "retrieval_model.fit(train_retrieval, epochs=3)"
      ]
    },
    {
      "cell_type": "code",
      "execution_count": 16,
      "metadata": {
        "colab": {
          "base_uri": "https://localhost:8080/"
        },
        "id": "yEOlNW4WZuhp",
        "outputId": "a05110ec-f97b-493d-8487-f53f9c1207d1"
      },
      "outputs": [
        {
          "name": "stdout",
          "output_type": "stream",
          "text": [
            "7/7 [==============================] - 1s 61ms/step - factorized_top_k/top_1_categorical_accuracy: 0.0500 - factorized_top_k/top_5_categorical_accuracy: 0.2100 - factorized_top_k/top_10_categorical_accuracy: 0.2800 - factorized_top_k/top_50_categorical_accuracy: 1.0000 - factorized_top_k/top_100_categorical_accuracy: 1.0000 - loss: 96.7249 - regularization_loss: 0.0000e+00 - total_loss: 96.7249\n"
          ]
        },
        {
          "data": {
            "text/plain": [
              "{'factorized_top_k/top_1_categorical_accuracy': 0.05000000074505806,\n",
              " 'factorized_top_k/top_5_categorical_accuracy': 0.20999999344348907,\n",
              " 'factorized_top_k/top_10_categorical_accuracy': 0.2800000011920929,\n",
              " 'factorized_top_k/top_50_categorical_accuracy': 1.0,\n",
              " 'factorized_top_k/top_100_categorical_accuracy': 1.0,\n",
              " 'loss': 18.4489688873291,\n",
              " 'regularization_loss': 0,\n",
              " 'total_loss': 18.4489688873291}"
            ]
          },
          "execution_count": 16,
          "metadata": {},
          "output_type": "execute_result"
        }
      ],
      "source": [
        "retrieval_model.evaluate(test_retrieval,return_dict = True)"
      ]
    },
    {
      "cell_type": "markdown",
      "metadata": {
        "id": "g-CQDFlaDhFe"
      },
      "source": [
        "# 6. Ranking Model"
      ]
    },
    {
      "cell_type": "code",
      "execution_count": 17,
      "metadata": {
        "colab": {
          "base_uri": "https://localhost:8080/"
        },
        "id": "vqJtiZ7-aFVs",
        "outputId": "de363b8d-af43-4dfa-ef0e-5a44078863f5"
      },
      "outputs": [
        {
          "name": "stdout",
          "output_type": "stream",
          "text": [
            "{'reviewerID': b'AO94DHGC771SJ', 'product_id': b'0528881469', 'summary': b'Gotta have GPS!', 'overall': 5.0}\n"
          ]
        }
      ],
      "source": [
        "ranking_dataset = tf.data.Dataset.from_tensor_slices({\n",
        "    \"reviewerID\": reviews[\"reviewerID\"].values,\n",
        "    \"product_id\": reviews[\"product_id\"].values,\n",
        "    \"summary\": reviews[\"summary\"].values,\n",
        "    \"overall\": reviews[\"overall\"].values\n",
        "})\n",
        "\n",
        "for i in ranking_dataset.take(1).as_numpy_iterator():\n",
        "  print(i)"
      ]
    },
    {
      "cell_type": "code",
      "execution_count": 18,
      "metadata": {
        "id": "7iOiZctmDyIv"
      },
      "outputs": [],
      "source": [
        "ranking_dataset = ranking_dataset.shuffle(len(ranking_dataset),seed = 42)\n",
        "train = ranking_dataset.take(int(len(ranking_dataset) * 0.8))\n",
        "test = ranking_dataset.skip(int(len(ranking_dataset) * 0.8)).take(int(len(ranking_dataset) * 0.2))"
      ]
    },
    {
      "cell_type": "code",
      "execution_count": 19,
      "metadata": {
        "id": "GdQ5mP-_EBE5"
      },
      "outputs": [],
      "source": [
        "class RankingModel(tf.keras.Model):\n",
        "  def __init__(self):\n",
        "    super().__init__()\n",
        "\n",
        "    self.product_id_embedding = tf.keras.Sequential([\n",
        "        tf.keras.layers.StringLookup(vocabulary = unique_product_id),\n",
        "        tf.keras.layers.Embedding(len(unique_product_id) + 1, 32)\n",
        "    ]) #output = (1,32)\n",
        "\n",
        "    self.user_id_summary_embedding = tf.keras.Sequential([UserModel(),\n",
        "                                                        tf.keras.layers.Dense(32)]) #output = (1,32)\n",
        "\n",
        "    self.ranking_model = tf.keras.Sequential([tf.keras.layers.Dense(32,activation = \"relu\"),\n",
        "                                              tf.keras.layers.Dense(16,activation = \"relu\"),\n",
        "                                              tf.keras.layers.Dense(1)]) #output = (1,1)\n",
        "\n",
        "  def call(self,inputs):\n",
        "    return self.ranking_model(tf.concat([\n",
        "                      self.product_id_embedding(inputs[\"product_id\"]),\n",
        "                      self.user_id_summary_embedding({\"reviewerID\": inputs[\"reviewerID\"],\"summary\": inputs[\"summary\"]})],axis = 1))"
      ]
    },
    {
      "cell_type": "code",
      "execution_count": 20,
      "metadata": {
        "colab": {
          "base_uri": "https://localhost:8080/"
        },
        "id": "aSSJSWYqFe6u",
        "outputId": "4e68a787-92f7-4fe2-95a1-993329e08f12"
      },
      "outputs": [
        {
          "name": "stdout",
          "output_type": "stream",
          "text": [
            "tf.Tensor([[-0.07688543]], shape=(1, 1), dtype=float32)\n",
            "tf.Tensor(0.028314583, shape=(), dtype=float32)\n"
          ]
        }
      ],
      "source": [
        "print(RankingModel()({\"reviewerID\": tf.constant([reviews[\"reviewerID\"][0]]),\n",
        "               \"summary\": tf.constant([reviews[\"summary\"][0]]),\n",
        "               \"product_id\": tf.constant([reviews[\"product_id\"][0]])})) # output = (1,1)\n",
        "\n",
        "print(tf.squeeze(RankingModel()({\"reviewerID\": tf.constant([reviews[\"reviewerID\"][0]]),\n",
        "               \"summary\": tf.constant([reviews[\"summary\"][0]]),\n",
        "               \"product_id\": tf.constant([reviews[\"product_id\"][0]])}))) # output = ()"
      ]
    },
    {
      "cell_type": "code",
      "execution_count": 21,
      "metadata": {
        "id": "WNUNHBIeGD_S"
      },
      "outputs": [],
      "source": [
        "class AmazonRankModel(tfrs.models.Model):\n",
        "  def __init__(self):\n",
        "    super().__init__()\n",
        "\n",
        "    self.ranking_model = RankingModel()\n",
        "    self.task = tfrs.tasks.Ranking(loss = tf.keras.losses.MeanSquaredError(),\n",
        "                                   metrics = [tf.keras.metrics.RootMeanSquaredError()])\n",
        "\n",
        "  def call(self,inputs):\n",
        "    return tf.squeeze(self.ranking_model(inputs)) #output = ()\n",
        "\n",
        "  def compute_loss(self,inputs,training = False):\n",
        "    labels = inputs.pop(\"overall\") #output = ()\n",
        "    scores = self(inputs) #output = ()\n",
        "    return self.task(labels = labels,predictions = scores)"
      ]
    },
    {
      "cell_type": "code",
      "execution_count": 22,
      "metadata": {
        "id": "Q5raY7pWGs_g"
      },
      "outputs": [],
      "source": [
        "rank_model = AmazonRankModel()\n",
        "rank_model.compile(optimizer = tf.keras.optimizers.Adagrad(0.1))"
      ]
    },
    {
      "cell_type": "code",
      "execution_count": 23,
      "metadata": {
        "colab": {
          "base_uri": "https://localhost:8080/"
        },
        "id": "P6oqzk22Gypg",
        "outputId": "ffae99f0-62c5-45c4-c5cb-71a7d79c7d52"
      },
      "outputs": [
        {
          "name": "stdout",
          "output_type": "stream",
          "text": [
            "Epoch 1/3\n",
            "25/25 [==============================] - 2s 3ms/step - root_mean_squared_error: 1.9885 - loss: 3.8826 - regularization_loss: 0.0000e+00 - total_loss: 3.8826\n",
            "Epoch 2/3\n",
            "25/25 [==============================] - 0s 3ms/step - root_mean_squared_error: 0.9751 - loss: 0.9466 - regularization_loss: 0.0000e+00 - total_loss: 0.9466\n",
            "Epoch 3/3\n",
            "25/25 [==============================] - 0s 3ms/step - root_mean_squared_error: 0.5871 - loss: 0.3337 - regularization_loss: 0.0000e+00 - total_loss: 0.3337\n"
          ]
        },
        {
          "data": {
            "text/plain": [
              "<keras.src.callbacks.History at 0x7fd6241f78e0>"
            ]
          },
          "execution_count": 23,
          "metadata": {},
          "output_type": "execute_result"
        }
      ],
      "source": [
        "rank_model.fit(train.batch(32).cache(),epochs = 3)"
      ]
    },
    {
      "cell_type": "code",
      "execution_count": 24,
      "metadata": {
        "colab": {
          "base_uri": "https://localhost:8080/"
        },
        "id": "0cQZysNNL7ZX",
        "outputId": "6ff055ef-f425-40b6-f2fd-4b3e0084e46f"
      },
      "outputs": [
        {
          "name": "stdout",
          "output_type": "stream",
          "text": [
            "7/7 [==============================] - 0s 3ms/step - root_mean_squared_error: 0.6403 - loss: 0.3330 - regularization_loss: 0.0000e+00 - total_loss: 0.3330\n"
          ]
        },
        {
          "data": {
            "text/plain": [
              "{'root_mean_squared_error': 0.6402822136878967,\n",
              " 'loss': 0.06442855298519135,\n",
              " 'regularization_loss': 0,\n",
              " 'total_loss': 0.06442855298519135}"
            ]
          },
          "execution_count": 24,
          "metadata": {},
          "output_type": "execute_result"
        }
      ],
      "source": [
        "rank_model.evaluate(test.batch(32).cache(),return_dict = True)"
      ]
    },
    {
      "cell_type": "code",
      "execution_count": 25,
      "metadata": {
        "colab": {
          "base_uri": "https://localhost:8080/"
        },
        "id": "YNRKtoLxL_f4",
        "outputId": "4ddf8c33-64f3-43ca-cce9-9e6eddb57279"
      },
      "outputs": [
        {
          "data": {
            "text/plain": [
              "<tf.Tensor: shape=(), dtype=float32, numpy=4.667259>"
            ]
          },
          "execution_count": 25,
          "metadata": {},
          "output_type": "execute_result"
        }
      ],
      "source": [
        "rank_model({\"reviewerID\": tf.constant([reviews[\"reviewerID\"][0]]),\n",
        "               \"summary\": tf.constant([reviews[\"summary\"][0]]),\n",
        "               \"product_id\": tf.constant([reviews[\"product_id\"][0]])})"
      ]
    },
    {
      "cell_type": "code",
      "execution_count": 26,
      "metadata": {
        "colab": {
          "base_uri": "https://localhost:8080/"
        },
        "id": "5K13QXnaMW0v",
        "outputId": "975f5041-bbba-49c7-bdaf-84986b5ca1ae"
      },
      "outputs": [
        {
          "data": {
            "text/plain": [
              "<tf.Tensor: shape=(), dtype=float32, numpy=1.1716633>"
            ]
          },
          "execution_count": 26,
          "metadata": {},
          "output_type": "execute_result"
        }
      ],
      "source": [
        "rank_model({\"reviewerID\": tf.constant([reviews[\"reviewerID\"][1]]),\n",
        "               \"summary\": tf.constant([reviews[\"summary\"][1]]),\n",
        "               \"product_id\": tf.constant([reviews[\"product_id\"][1]])})"
      ]
    }
  ],
  "metadata": {
    "colab": {
      "provenance": []
    },
    "kernelspec": {
      "display_name": "Python 3",
      "name": "python3"
    },
    "language_info": {
      "name": "python"
    }
  },
  "nbformat": 4,
  "nbformat_minor": 0
}
