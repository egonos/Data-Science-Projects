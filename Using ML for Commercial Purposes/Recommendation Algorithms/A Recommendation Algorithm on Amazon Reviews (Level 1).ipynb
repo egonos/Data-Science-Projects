{
  "cells": [
    {
      "cell_type": "code",
      "execution_count": null,
      "metadata": {
        "colab": {
          "base_uri": "https://localhost:8080/"
        },
        "id": "wGAyPqsZPwRC",
        "outputId": "aa0030bc-8de5-4b4b-f621-ac93bf79647d"
      },
      "outputs": [],
      "source": [
        "!pip install tensorflow==2.15.1\n",
        "!pip install tensorflow-recommenders==0.7.3"
      ]
    },
    {
      "cell_type": "markdown",
      "metadata": {
        "id": "a2QabVwWNvSG"
      },
      "source": [
        "# Summary\n",
        "\n",
        "The main purpose of this notebook is to apply retrieval and ranking models on Amazon Reviews dataset. The retrieval model filters out the redundant products given the user. The ranking model orders the best possible products that have been selected by the retrieval model considering other features (like product rankings in this case).\n",
        "\n",
        "\n",
        "## Models\n",
        "\n",
        "**Retrieval Model**\n",
        "\n",
        "UserId ----> StringLookup (equvalent to the OrdinalEncoder) ----> Embedding (1,16)  => User Embedding $u_v$ (1,16)\n",
        "\n",
        "ProductId ----> StringLookup ----> Embedding (1,16)  => Product Embedding $u_i$ (1,16)\n",
        "\n",
        "During the learning process, depending on the previous interactions $u_i$ and $u_v$ come closer or further from each other. At the end of the learning process, if user $i$ and product $v$ are highly correlated, the degree between each vector decreases hence the dot product ($u_i . u_v$) increases. \n",
        "\n",
        "Retrieval model objective:\n",
        "\n",
        "max Top-K Categorical Accuracy\n",
        "\n",
        "**Ranking Model**\n",
        "\n",
        "Concatenate($u_v$, $u_i$) = ProductUser Embedding ($u_m$) (1,32)\n",
        "\n",
        "FFN($u_m$) ----> Rating Prediction\n",
        "\n",
        "Ranking model objective:\n",
        "\n",
        "min RMSE(Rating Prediction, Rating)"
      ]
    },
    {
      "cell_type": "code",
      "execution_count": 2,
      "metadata": {
        "id": "YUV8miSPProq"
      },
      "outputs": [],
      "source": [
        "import numpy as np\n",
        "import pandas as pd\n",
        "import tensorflow as tf\n",
        "import tensorflow_recommenders as tfrs"
      ]
    },
    {
      "cell_type": "code",
      "execution_count": 3,
      "metadata": {
        "colab": {
          "base_uri": "https://localhost:8080/"
        },
        "id": "Ucx-NK-xC_tA",
        "outputId": "5ba2de02-1d4e-4c30-bb96-6a2cde7db9b4"
      },
      "outputs": [
        {
          "name": "stdout",
          "output_type": "stream",
          "text": [
            "--2025-01-02 08:59:48--  https://raw.githubusercontent.com/imsreecharan/datasets_/refs/heads/master/amazon_reviews.csv\n",
            "Resolving raw.githubusercontent.com (raw.githubusercontent.com)... 185.199.108.133, 185.199.109.133, 185.199.110.133, ...\n",
            "Connecting to raw.githubusercontent.com (raw.githubusercontent.com)|185.199.108.133|:443... connected.\n",
            "HTTP request sent, awaiting response... 200 OK\n",
            "Length: 903820 (883K) [text/plain]\n",
            "Saving to: ‘amazon_reviews.csv.3’\n",
            "\n",
            "\ramazon_reviews.csv.   0%[                    ]       0  --.-KB/s               \ramazon_reviews.csv. 100%[===================>] 882.64K  --.-KB/s    in 0.05s   \n",
            "\n",
            "2025-01-02 08:59:48 (18.7 MB/s) - ‘amazon_reviews.csv.3’ saved [903820/903820]\n",
            "\n"
          ]
        }
      ],
      "source": [
        "!wget https://raw.githubusercontent.com/imsreecharan/datasets_/refs/heads/master/amazon_reviews.csv"
      ]
    },
    {
      "cell_type": "code",
      "execution_count": 4,
      "metadata": {
        "colab": {
          "base_uri": "https://localhost:8080/",
          "height": 206
        },
        "id": "jSKi6kKGC_0P",
        "outputId": "899d50fe-6417-4cca-f8c4-769abfa33d57"
      },
      "outputs": [
        {
          "data": {
            "application/vnd.google.colaboratory.intrinsic+json": {
              "summary": "{\n  \"name\": \"reviews\",\n  \"rows\": 999,\n  \"fields\": [\n    {\n      \"column\": \"product_id\",\n      \"properties\": {\n        \"dtype\": \"category\",\n        \"num_unique_values\": 40,\n        \"samples\": [\n          \"7214047977\",\n          \"3930992868\",\n          \"3744295508\"\n        ],\n        \"semantic_type\": \"\",\n        \"description\": \"\"\n      }\n    },\n    {\n      \"column\": \"overall\",\n      \"properties\": {\n        \"dtype\": \"number\",\n        \"std\": 1.279490529019087,\n        \"min\": 1.0,\n        \"max\": 5.0,\n        \"num_unique_values\": 5,\n        \"samples\": [\n          1.0,\n          4.0,\n          3.0\n        ],\n        \"semantic_type\": \"\",\n        \"description\": \"\"\n      }\n    },\n    {\n      \"column\": \"reviewerID\",\n      \"properties\": {\n        \"dtype\": \"string\",\n        \"num_unique_values\": 963,\n        \"samples\": [\n          \"A3M73KV733HBG3\",\n          \"A23ZWJ9CS8OG30\",\n          \"A3TF6A1YMYJQ9U\"\n        ],\n        \"semantic_type\": \"\",\n        \"description\": \"\"\n      }\n    }\n  ]\n}",
              "type": "dataframe",
              "variable_name": "reviews"
            },
            "text/html": [
              "\n",
              "  <div id=\"df-f0e50532-cca9-4408-b9c9-00c365cdc2eb\" class=\"colab-df-container\">\n",
              "    <div>\n",
              "<style scoped>\n",
              "    .dataframe tbody tr th:only-of-type {\n",
              "        vertical-align: middle;\n",
              "    }\n",
              "\n",
              "    .dataframe tbody tr th {\n",
              "        vertical-align: top;\n",
              "    }\n",
              "\n",
              "    .dataframe thead th {\n",
              "        text-align: right;\n",
              "    }\n",
              "</style>\n",
              "<table border=\"1\" class=\"dataframe\">\n",
              "  <thead>\n",
              "    <tr style=\"text-align: right;\">\n",
              "      <th></th>\n",
              "      <th>product_id</th>\n",
              "      <th>overall</th>\n",
              "      <th>reviewerID</th>\n",
              "    </tr>\n",
              "  </thead>\n",
              "  <tbody>\n",
              "    <tr>\n",
              "      <th>0</th>\n",
              "      <td>0528881469</td>\n",
              "      <td>5.0</td>\n",
              "      <td>AO94DHGC771SJ</td>\n",
              "    </tr>\n",
              "    <tr>\n",
              "      <th>1</th>\n",
              "      <td>0528881469</td>\n",
              "      <td>1.0</td>\n",
              "      <td>AMO214LNFCEI4</td>\n",
              "    </tr>\n",
              "    <tr>\n",
              "      <th>2</th>\n",
              "      <td>0528881469</td>\n",
              "      <td>3.0</td>\n",
              "      <td>A3N7T0DY83Y4IG</td>\n",
              "    </tr>\n",
              "    <tr>\n",
              "      <th>3</th>\n",
              "      <td>0528881469</td>\n",
              "      <td>2.0</td>\n",
              "      <td>A1H8PY3QHMQQA0</td>\n",
              "    </tr>\n",
              "    <tr>\n",
              "      <th>4</th>\n",
              "      <td>0528881469</td>\n",
              "      <td>1.0</td>\n",
              "      <td>A24EV6RXELQZ63</td>\n",
              "    </tr>\n",
              "  </tbody>\n",
              "</table>\n",
              "</div>\n",
              "    <div class=\"colab-df-buttons\">\n",
              "\n",
              "  <div class=\"colab-df-container\">\n",
              "    <button class=\"colab-df-convert\" onclick=\"convertToInteractive('df-f0e50532-cca9-4408-b9c9-00c365cdc2eb')\"\n",
              "            title=\"Convert this dataframe to an interactive table.\"\n",
              "            style=\"display:none;\">\n",
              "\n",
              "  <svg xmlns=\"http://www.w3.org/2000/svg\" height=\"24px\" viewBox=\"0 -960 960 960\">\n",
              "    <path d=\"M120-120v-720h720v720H120Zm60-500h600v-160H180v160Zm220 220h160v-160H400v160Zm0 220h160v-160H400v160ZM180-400h160v-160H180v160Zm440 0h160v-160H620v160ZM180-180h160v-160H180v160Zm440 0h160v-160H620v160Z\"/>\n",
              "  </svg>\n",
              "    </button>\n",
              "\n",
              "  <style>\n",
              "    .colab-df-container {\n",
              "      display:flex;\n",
              "      gap: 12px;\n",
              "    }\n",
              "\n",
              "    .colab-df-convert {\n",
              "      background-color: #E8F0FE;\n",
              "      border: none;\n",
              "      border-radius: 50%;\n",
              "      cursor: pointer;\n",
              "      display: none;\n",
              "      fill: #1967D2;\n",
              "      height: 32px;\n",
              "      padding: 0 0 0 0;\n",
              "      width: 32px;\n",
              "    }\n",
              "\n",
              "    .colab-df-convert:hover {\n",
              "      background-color: #E2EBFA;\n",
              "      box-shadow: 0px 1px 2px rgba(60, 64, 67, 0.3), 0px 1px 3px 1px rgba(60, 64, 67, 0.15);\n",
              "      fill: #174EA6;\n",
              "    }\n",
              "\n",
              "    .colab-df-buttons div {\n",
              "      margin-bottom: 4px;\n",
              "    }\n",
              "\n",
              "    [theme=dark] .colab-df-convert {\n",
              "      background-color: #3B4455;\n",
              "      fill: #D2E3FC;\n",
              "    }\n",
              "\n",
              "    [theme=dark] .colab-df-convert:hover {\n",
              "      background-color: #434B5C;\n",
              "      box-shadow: 0px 1px 3px 1px rgba(0, 0, 0, 0.15);\n",
              "      filter: drop-shadow(0px 1px 2px rgba(0, 0, 0, 0.3));\n",
              "      fill: #FFFFFF;\n",
              "    }\n",
              "  </style>\n",
              "\n",
              "    <script>\n",
              "      const buttonEl =\n",
              "        document.querySelector('#df-f0e50532-cca9-4408-b9c9-00c365cdc2eb button.colab-df-convert');\n",
              "      buttonEl.style.display =\n",
              "        google.colab.kernel.accessAllowed ? 'block' : 'none';\n",
              "\n",
              "      async function convertToInteractive(key) {\n",
              "        const element = document.querySelector('#df-f0e50532-cca9-4408-b9c9-00c365cdc2eb');\n",
              "        const dataTable =\n",
              "          await google.colab.kernel.invokeFunction('convertToInteractive',\n",
              "                                                    [key], {});\n",
              "        if (!dataTable) return;\n",
              "\n",
              "        const docLinkHtml = 'Like what you see? Visit the ' +\n",
              "          '<a target=\"_blank\" href=https://colab.research.google.com/notebooks/data_table.ipynb>data table notebook</a>'\n",
              "          + ' to learn more about interactive tables.';\n",
              "        element.innerHTML = '';\n",
              "        dataTable['output_type'] = 'display_data';\n",
              "        await google.colab.output.renderOutput(dataTable, element);\n",
              "        const docLink = document.createElement('div');\n",
              "        docLink.innerHTML = docLinkHtml;\n",
              "        element.appendChild(docLink);\n",
              "      }\n",
              "    </script>\n",
              "  </div>\n",
              "\n",
              "\n",
              "<div id=\"df-4874d2a4-45a6-4358-b00e-590059f25a43\">\n",
              "  <button class=\"colab-df-quickchart\" onclick=\"quickchart('df-4874d2a4-45a6-4358-b00e-590059f25a43')\"\n",
              "            title=\"Suggest charts\"\n",
              "            style=\"display:none;\">\n",
              "\n",
              "<svg xmlns=\"http://www.w3.org/2000/svg\" height=\"24px\"viewBox=\"0 0 24 24\"\n",
              "     width=\"24px\">\n",
              "    <g>\n",
              "        <path d=\"M19 3H5c-1.1 0-2 .9-2 2v14c0 1.1.9 2 2 2h14c1.1 0 2-.9 2-2V5c0-1.1-.9-2-2-2zM9 17H7v-7h2v7zm4 0h-2V7h2v10zm4 0h-2v-4h2v4z\"/>\n",
              "    </g>\n",
              "</svg>\n",
              "  </button>\n",
              "\n",
              "<style>\n",
              "  .colab-df-quickchart {\n",
              "      --bg-color: #E8F0FE;\n",
              "      --fill-color: #1967D2;\n",
              "      --hover-bg-color: #E2EBFA;\n",
              "      --hover-fill-color: #174EA6;\n",
              "      --disabled-fill-color: #AAA;\n",
              "      --disabled-bg-color: #DDD;\n",
              "  }\n",
              "\n",
              "  [theme=dark] .colab-df-quickchart {\n",
              "      --bg-color: #3B4455;\n",
              "      --fill-color: #D2E3FC;\n",
              "      --hover-bg-color: #434B5C;\n",
              "      --hover-fill-color: #FFFFFF;\n",
              "      --disabled-bg-color: #3B4455;\n",
              "      --disabled-fill-color: #666;\n",
              "  }\n",
              "\n",
              "  .colab-df-quickchart {\n",
              "    background-color: var(--bg-color);\n",
              "    border: none;\n",
              "    border-radius: 50%;\n",
              "    cursor: pointer;\n",
              "    display: none;\n",
              "    fill: var(--fill-color);\n",
              "    height: 32px;\n",
              "    padding: 0;\n",
              "    width: 32px;\n",
              "  }\n",
              "\n",
              "  .colab-df-quickchart:hover {\n",
              "    background-color: var(--hover-bg-color);\n",
              "    box-shadow: 0 1px 2px rgba(60, 64, 67, 0.3), 0 1px 3px 1px rgba(60, 64, 67, 0.15);\n",
              "    fill: var(--button-hover-fill-color);\n",
              "  }\n",
              "\n",
              "  .colab-df-quickchart-complete:disabled,\n",
              "  .colab-df-quickchart-complete:disabled:hover {\n",
              "    background-color: var(--disabled-bg-color);\n",
              "    fill: var(--disabled-fill-color);\n",
              "    box-shadow: none;\n",
              "  }\n",
              "\n",
              "  .colab-df-spinner {\n",
              "    border: 2px solid var(--fill-color);\n",
              "    border-color: transparent;\n",
              "    border-bottom-color: var(--fill-color);\n",
              "    animation:\n",
              "      spin 1s steps(1) infinite;\n",
              "  }\n",
              "\n",
              "  @keyframes spin {\n",
              "    0% {\n",
              "      border-color: transparent;\n",
              "      border-bottom-color: var(--fill-color);\n",
              "      border-left-color: var(--fill-color);\n",
              "    }\n",
              "    20% {\n",
              "      border-color: transparent;\n",
              "      border-left-color: var(--fill-color);\n",
              "      border-top-color: var(--fill-color);\n",
              "    }\n",
              "    30% {\n",
              "      border-color: transparent;\n",
              "      border-left-color: var(--fill-color);\n",
              "      border-top-color: var(--fill-color);\n",
              "      border-right-color: var(--fill-color);\n",
              "    }\n",
              "    40% {\n",
              "      border-color: transparent;\n",
              "      border-right-color: var(--fill-color);\n",
              "      border-top-color: var(--fill-color);\n",
              "    }\n",
              "    60% {\n",
              "      border-color: transparent;\n",
              "      border-right-color: var(--fill-color);\n",
              "    }\n",
              "    80% {\n",
              "      border-color: transparent;\n",
              "      border-right-color: var(--fill-color);\n",
              "      border-bottom-color: var(--fill-color);\n",
              "    }\n",
              "    90% {\n",
              "      border-color: transparent;\n",
              "      border-bottom-color: var(--fill-color);\n",
              "    }\n",
              "  }\n",
              "</style>\n",
              "\n",
              "  <script>\n",
              "    async function quickchart(key) {\n",
              "      const quickchartButtonEl =\n",
              "        document.querySelector('#' + key + ' button');\n",
              "      quickchartButtonEl.disabled = true;  // To prevent multiple clicks.\n",
              "      quickchartButtonEl.classList.add('colab-df-spinner');\n",
              "      try {\n",
              "        const charts = await google.colab.kernel.invokeFunction(\n",
              "            'suggestCharts', [key], {});\n",
              "      } catch (error) {\n",
              "        console.error('Error during call to suggestCharts:', error);\n",
              "      }\n",
              "      quickchartButtonEl.classList.remove('colab-df-spinner');\n",
              "      quickchartButtonEl.classList.add('colab-df-quickchart-complete');\n",
              "    }\n",
              "    (() => {\n",
              "      let quickchartButtonEl =\n",
              "        document.querySelector('#df-4874d2a4-45a6-4358-b00e-590059f25a43 button');\n",
              "      quickchartButtonEl.style.display =\n",
              "        google.colab.kernel.accessAllowed ? 'block' : 'none';\n",
              "    })();\n",
              "  </script>\n",
              "</div>\n",
              "\n",
              "    </div>\n",
              "  </div>\n"
            ],
            "text/plain": [
              "   product_id  overall      reviewerID\n",
              "0  0528881469      5.0   AO94DHGC771SJ\n",
              "1  0528881469      1.0   AMO214LNFCEI4\n",
              "2  0528881469      3.0  A3N7T0DY83Y4IG\n",
              "3  0528881469      2.0  A1H8PY3QHMQQA0\n",
              "4  0528881469      1.0  A24EV6RXELQZ63"
            ]
          },
          "execution_count": 4,
          "metadata": {},
          "output_type": "execute_result"
        }
      ],
      "source": [
        "reviews = pd.read_csv('amazon_reviews.csv',index_col = 0).rename(columns = {'asin': 'product_id'})[[\"product_id\",\"overall\",\"reviewerID\"]]\n",
        "reviews.head()"
      ]
    },
    {
      "cell_type": "markdown",
      "metadata": {
        "id": "sW3IXpeLLu47"
      },
      "source": [
        "# 1. Retrieval Model"
      ]
    },
    {
      "cell_type": "code",
      "execution_count": 5,
      "metadata": {
        "id": "P5hV4fHMC_28"
      },
      "outputs": [],
      "source": [
        "unique_product_id = np.unique(reviews.product_id.copy())\n",
        "unique_reviewerID = np.unique(reviews.reviewerID.copy())"
      ]
    },
    {
      "cell_type": "code",
      "execution_count": 6,
      "metadata": {
        "id": "9L-VWzZiGgee"
      },
      "outputs": [],
      "source": [
        "retrieval_dataset = tf.data.Dataset.from_tensor_slices({\n",
        "    \"reviewerID\": reviews[\"reviewerID\"].values,\n",
        "    \"product_id\": reviews[\"product_id\"].values,\n",
        "})\n",
        "candidate_dataset = tf.data.Dataset.from_tensor_slices(unique_product_id).batch(32)\n",
        "\n",
        "shuffled = retrieval_dataset.shuffle(len(retrieval_dataset), seed=42, reshuffle_each_iteration=False)\n",
        "train_retrieval = shuffled.take(int(len(retrieval_dataset) * 0.8)).batch(32)\n",
        "test_retrieval = shuffled.skip(int(len(retrieval_dataset) * 0.8)).batch(32)"
      ]
    },
    {
      "cell_type": "code",
      "execution_count": 7,
      "metadata": {
        "id": "SQE7bPq6Gghd"
      },
      "outputs": [],
      "source": [
        "product_model = tf.keras.Sequential([\n",
        "    tf.keras.layers.StringLookup(vocabulary=unique_product_id, mask_token=None),\n",
        "    tf.keras.layers.Embedding(len(unique_product_id) + 1, output_dim=16)\n",
        "])\n",
        "\n",
        "user_model = tf.keras.Sequential([\n",
        "    tf.keras.layers.StringLookup(vocabulary=unique_reviewerID, mask_token=None),\n",
        "    tf.keras.layers.Embedding(len(unique_reviewerID) + 1, output_dim=16)\n",
        "])"
      ]
    },
    {
      "cell_type": "code",
      "execution_count": 8,
      "metadata": {
        "colab": {
          "base_uri": "https://localhost:8080/"
        },
        "id": "EnaqCWXiGgkm",
        "outputId": "0685b829-c512-4c96-aba5-91e68037a464"
      },
      "outputs": [
        {
          "name": "stdout",
          "output_type": "stream",
          "text": [
            "Epoch 1/3\n",
            "25/25 [==============================] - 5s 78ms/step - factorized_top_k/top_1_categorical_accuracy: 0.0025 - factorized_top_k/top_5_categorical_accuracy: 0.1489 - factorized_top_k/top_10_categorical_accuracy: 0.2466 - factorized_top_k/top_50_categorical_accuracy: 1.0000 - factorized_top_k/top_100_categorical_accuracy: 1.0000 - loss: 110.5684 - regularization_loss: 0.0000e+00 - total_loss: 110.5684\n",
            "Epoch 2/3\n",
            "25/25 [==============================] - 4s 179ms/step - factorized_top_k/top_1_categorical_accuracy: 0.0025 - factorized_top_k/top_5_categorical_accuracy: 0.7234 - factorized_top_k/top_10_categorical_accuracy: 0.8536 - factorized_top_k/top_50_categorical_accuracy: 1.0000 - factorized_top_k/top_100_categorical_accuracy: 1.0000 - loss: 109.6477 - regularization_loss: 0.0000e+00 - total_loss: 109.6477\n",
            "Epoch 3/3\n",
            "25/25 [==============================] - 2s 95ms/step - factorized_top_k/top_1_categorical_accuracy: 0.0000e+00 - factorized_top_k/top_5_categorical_accuracy: 0.8924 - factorized_top_k/top_10_categorical_accuracy: 0.9637 - factorized_top_k/top_50_categorical_accuracy: 1.0000 - factorized_top_k/top_100_categorical_accuracy: 1.0000 - loss: 102.1841 - regularization_loss: 0.0000e+00 - total_loss: 102.1841\n"
          ]
        },
        {
          "data": {
            "text/plain": [
              "<keras.src.callbacks.History at 0x7b308823d6f0>"
            ]
          },
          "execution_count": 8,
          "metadata": {},
          "output_type": "execute_result"
        }
      ],
      "source": [
        "#feed products and their embeddings to the metric\n",
        "metrics = tfrs.metrics.FactorizedTopK(\n",
        "    candidates=candidate_dataset.map(lambda x: (x, product_model(x)))\n",
        ")\n",
        "\n",
        "#define task\n",
        "task = tfrs.tasks.Retrieval(metrics=metrics)\n",
        "\n",
        "class Retrieval(tfrs.Model):\n",
        "    def __init__(self, user_model, product_model):\n",
        "        super().__init__()\n",
        "        self.user_model = user_model\n",
        "        self.product_model = product_model\n",
        "        self.task = task\n",
        "\n",
        "    def compute_loss(self, features, training=False): #No dropout, BatchNormalization or activation function only train for embeddings\n",
        "        user_embeddings = self.user_model(features[\"reviewerID\"])\n",
        "        positive_embeddings = self.product_model(features[\"product_id\"])\n",
        "        return self.task(user_embeddings, positive_embeddings)\n",
        "\n",
        "#define the model\n",
        "retrieval_model = Retrieval(user_model, product_model)\n",
        "retrieval_model.compile(optimizer=tf.keras.optimizers.Adagrad(learning_rate=0.1))\n",
        "\n",
        "#train the model\n",
        "retrieval_model.fit(train_retrieval, epochs=3)"
      ]
    },
    {
      "cell_type": "code",
      "execution_count": 9,
      "metadata": {
        "colab": {
          "base_uri": "https://localhost:8080/"
        },
        "id": "dNZ3_24tO3sh",
        "outputId": "b4eaf695-6d3e-4b00-d490-56aebaf0ee82"
      },
      "outputs": [
        {
          "name": "stdout",
          "output_type": "stream",
          "text": [
            "7/7 [==============================] - 1s 105ms/step - factorized_top_k/top_1_categorical_accuracy: 0.0750 - factorized_top_k/top_5_categorical_accuracy: 0.2800 - factorized_top_k/top_10_categorical_accuracy: 0.3850 - factorized_top_k/top_50_categorical_accuracy: 1.0000 - factorized_top_k/top_100_categorical_accuracy: 1.0000 - loss: 87.2270 - regularization_loss: 0.0000e+00 - total_loss: 87.2270\n"
          ]
        },
        {
          "data": {
            "text/plain": [
              "{'factorized_top_k/top_1_categorical_accuracy': 0.07500000298023224,\n",
              " 'factorized_top_k/top_5_categorical_accuracy': 0.2800000011920929,\n",
              " 'factorized_top_k/top_10_categorical_accuracy': 0.38499999046325684,\n",
              " 'factorized_top_k/top_50_categorical_accuracy': 1.0,\n",
              " 'factorized_top_k/top_100_categorical_accuracy': 1.0,\n",
              " 'loss': 16.507652282714844,\n",
              " 'regularization_loss': 0,\n",
              " 'total_loss': 16.507652282714844}"
            ]
          },
          "execution_count": 9,
          "metadata": {},
          "output_type": "execute_result"
        }
      ],
      "source": [
        "retrieval_model.evaluate(test_retrieval,return_dict = True)"
      ]
    },
    {
      "cell_type": "code",
      "execution_count": 10,
      "metadata": {
        "colab": {
          "base_uri": "https://localhost:8080/"
        },
        "id": "PfvR4TAAGgnd",
        "outputId": "70054f52-13fd-4dc9-c697-9b667273146b"
      },
      "outputs": [
        {
          "name": "stdout",
          "output_type": "stream",
          "text": [
            "Recommended products: ['9983891212' '9573212919' '140053271X']\n",
            "Recommendation scores: [0.71267945 0.26443994 0.12621395]\n"
          ]
        }
      ],
      "source": [
        "#brute force model computes **all** of the user-product vector similarities given the metric (FactorizedTopK) in this case\n",
        "index = tfrs.layers.factorized_top_k.BruteForce(retrieval_model.user_model)\n",
        "\n",
        "#add candidate products and their embeddings to the brute force\n",
        "index.index_from_dataset(\n",
        "    candidate_dataset.map(\n",
        "        lambda x: (x, product_model(x))\n",
        "    )\n",
        ")\n",
        "\n",
        "scores, items = index(tf.constant([\"A250YP5XTKH243\"]))\n",
        "print(f\"Recommended products: {np.array(items[0, :3].numpy()).astype(str)}\")\n",
        "print(f\"Recommendation scores: {scores[0,:3].numpy()}\")"
      ]
    },
    {
      "cell_type": "markdown",
      "metadata": {
        "id": "fBtnBeDqL92B"
      },
      "source": [
        "# 2. Ranking Model"
      ]
    },
    {
      "cell_type": "code",
      "execution_count": 11,
      "metadata": {
        "id": "G5ef8BAHC_5m"
      },
      "outputs": [],
      "source": [
        "ranking_dataset = tf.data.Dataset.from_tensor_slices(dict(reviews))"
      ]
    },
    {
      "cell_type": "code",
      "execution_count": 12,
      "metadata": {
        "colab": {
          "base_uri": "https://localhost:8080/"
        },
        "id": "1OsGUS3aDgP_",
        "outputId": "0085e8b1-127f-45c9-b6ae-960e5cfc4af5"
      },
      "outputs": [
        {
          "name": "stdout",
          "output_type": "stream",
          "text": [
            "{'product_id': b'0528881469', 'overall': 5.0, 'reviewerID': b'AO94DHGC771SJ'}\n"
          ]
        }
      ],
      "source": [
        "for i in ranking_dataset.take(1).as_numpy_iterator():\n",
        "  print(i)"
      ]
    },
    {
      "cell_type": "code",
      "execution_count": 13,
      "metadata": {
        "id": "UH63R9YcDiG8"
      },
      "outputs": [],
      "source": [
        "ranking_dataset = ranking_dataset.shuffle(buffer_size = len(ranking_dataset), seed = 42)\n",
        "train = ranking_dataset.take(int(len(ranking_dataset) * 0.8)).batch(32)\n",
        "test = ranking_dataset.skip(int(len(ranking_dataset) * 0.8)).take(int(len(reviews) * 0.2)).batch(32)"
      ]
    },
    {
      "cell_type": "code",
      "execution_count": 14,
      "metadata": {
        "id": "kV3fGf8cD7Xf"
      },
      "outputs": [],
      "source": [
        "class RankingModel(tf.keras.Model):\n",
        "  def __init__(self):\n",
        "    super().__init__()\n",
        "\n",
        "    self.product_id_embedding = tf.keras.Sequential([tf.keras.layers.StringLookup(vocabulary = unique_product_id),\n",
        "                                                     tf.keras.layers.Embedding(len(unique_product_id) + 1, 32),\n",
        "                                                     ])\n",
        "\n",
        "    self.reviewerID_embedding = tf.keras.Sequential([tf.keras.layers.StringLookup(vocabulary = unique_reviewerID),\n",
        "                                                     tf.keras.layers.Embedding(len(unique_reviewerID) + 1, 32),\n",
        "                                                     ])\n",
        "\n",
        "    self.ratings = tf.keras.Sequential([tf.keras.layers.Dense(32, activation = 'relu'),\n",
        "                                        tf.keras.layers.Dense(16,activation = 'relu'),\n",
        "                                        tf.keras.layers.Dense(1)\n",
        "                                        ])\n",
        "\n",
        "  def call(self,inputs):\n",
        "    product_id,reviewerID = inputs\n",
        "    product_id_embedding = self.product_id_embedding(product_id)\n",
        "    reviewerID_embedding = self.reviewerID_embedding(reviewerID)\n",
        "    return self.ratings(tf.concat([product_id_embedding,reviewerID_embedding],axis = 1))"
      ]
    },
    {
      "cell_type": "code",
      "execution_count": 15,
      "metadata": {
        "id": "60QRrXmlFDtT"
      },
      "outputs": [],
      "source": [
        "class AmazonRankModel(tfrs.models.Model):\n",
        "  def __init__(self):\n",
        "    super().__init__()\n",
        "    self.ranking_model = RankingModel()\n",
        "    self.task = tfrs.tasks.Ranking(loss = tf.keras.losses.MeanSquaredError(),\n",
        "                                    metrics = [tf.keras.metrics.RootMeanSquaredError()])\n",
        "\n",
        "  def call(self,features):\n",
        "    return self.ranking_model((features['product_id'],features['reviewerID']))\n",
        "\n",
        "  def compute_loss(self,features,training = False):\n",
        "    labels = features.pop('overall')\n",
        "    scores = self(features)\n",
        "    return self.task(labels = labels,predictions = scores)"
      ]
    },
    {
      "cell_type": "code",
      "execution_count": 16,
      "metadata": {
        "id": "rrPbQp73Fdns"
      },
      "outputs": [],
      "source": [
        "ranking_model = AmazonRankModel()\n",
        "ranking_model.compile(optimizer = tf.keras.optimizers.Adagrad(learning_rate = 0.1))"
      ]
    },
    {
      "cell_type": "code",
      "execution_count": 17,
      "metadata": {
        "colab": {
          "base_uri": "https://localhost:8080/"
        },
        "id": "rAhvdebAFkdK",
        "outputId": "5423f40e-7e98-45fe-d0bf-c23b7ee8cfad"
      },
      "outputs": [
        {
          "name": "stdout",
          "output_type": "stream",
          "text": [
            "Epoch 1/3\n",
            "25/25 [==============================] - 1s 2ms/step - root_mean_squared_error: 1.7791 - loss: 3.1278 - regularization_loss: 0.0000e+00 - total_loss: 3.1278\n",
            "Epoch 2/3\n",
            "25/25 [==============================] - 0s 2ms/step - root_mean_squared_error: 1.0713 - loss: 1.1385 - regularization_loss: 0.0000e+00 - total_loss: 1.1385\n",
            "Epoch 3/3\n",
            "25/25 [==============================] - 0s 2ms/step - root_mean_squared_error: 0.6042 - loss: 0.3637 - regularization_loss: 0.0000e+00 - total_loss: 0.3637\n"
          ]
        },
        {
          "data": {
            "text/plain": [
              "<keras.src.callbacks.History at 0x7b308168bc40>"
            ]
          },
          "execution_count": 17,
          "metadata": {},
          "output_type": "execute_result"
        }
      ],
      "source": [
        "ranking_model.fit(train,epochs = 3)"
      ]
    },
    {
      "cell_type": "code",
      "execution_count": 18,
      "metadata": {
        "colab": {
          "base_uri": "https://localhost:8080/"
        },
        "id": "QgxBsAx8Fpqy",
        "outputId": "816441a5-7b1c-412c-8f93-93aed4990b09"
      },
      "outputs": [
        {
          "name": "stdout",
          "output_type": "stream",
          "text": [
            "7/7 [==============================] - 0s 3ms/step - root_mean_squared_error: 0.3608 - loss: 0.1315 - regularization_loss: 0.0000e+00 - total_loss: 0.1315\n"
          ]
        },
        {
          "data": {
            "text/plain": [
              "{'root_mean_squared_error': 0.36079248785972595,\n",
              " 'loss': 0.1360926330089569,\n",
              " 'regularization_loss': 0,\n",
              " 'total_loss': 0.1360926330089569}"
            ]
          },
          "execution_count": 18,
          "metadata": {},
          "output_type": "execute_result"
        }
      ],
      "source": [
        "ranking_model.evaluate(test,return_dict = True)"
      ]
    },
    {
      "cell_type": "code",
      "execution_count": 19,
      "metadata": {
        "colab": {
          "base_uri": "https://localhost:8080/"
        },
        "id": "gcrb9EZiFxrq",
        "outputId": "0153f95f-ac7f-4977-ccac-c7cb3d1f9d34"
      },
      "outputs": [
        {
          "name": "stdout",
          "output_type": "stream",
          "text": [
            "Ratings:\n",
            "9983891212: [5.021841]\n",
            "9573212919: [4.551152]\n",
            "140053271X: [4.537936]\n"
          ]
        }
      ],
      "source": [
        "ratings = {}\n",
        "items_to_rank = items.numpy()[0].astype(str)[:3]\n",
        "for product_id in items_to_rank:\n",
        "  ratings[product_id] = ranking_model({'reviewerID': np.array(['A250YP5XTKH243']),'product_id': np.array([product_id])})\n",
        "\n",
        "print(\"Ratings:\")\n",
        "for product_id, rating in sorted(ratings.items(),key = lambda x: x[1],reverse = True):\n",
        "  print(f\"{product_id}: {rating[0]}\")"
      ]
    }
  ],
  "metadata": {
    "colab": {
      "provenance": []
    },
    "kernelspec": {
      "display_name": "Python 3",
      "name": "python3"
    },
    "language_info": {
      "name": "python"
    }
  },
  "nbformat": 4,
  "nbformat_minor": 0
}
