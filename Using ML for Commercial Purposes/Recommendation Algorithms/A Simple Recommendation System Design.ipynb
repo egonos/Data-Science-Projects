{
  "cells": [
    {
      "cell_type": "code",
      "execution_count": null,
      "metadata": {
        "id": "wGAyPqsZPwRC"
      },
      "outputs": [],
      "source": [
        "!pip install tensorflow==2.15.1\n",
        "!pip install tensorflow-recommenders==0.7.3"
      ]
    },
    {
      "cell_type": "markdown",
      "metadata": {
        "id": "BVILyRSqSr7R"
      },
      "source": [
        "# Summary\n",
        "\n",
        "This is a simple recommendation algorithm that I applied on a toy dataset. The idea is to train a Neural Network model with the available data (say transaction history of customers) and make recommendations for the future. Additionally, if a new customer comes, this algorithm finds the closest customer in the training data and makes the same recommendation.\n",
        "\n",
        "# Models used\n",
        "\n",
        "Recommendation Algorithm: $⇒$ `tfrs.Model`\n",
        "\n",
        "Finding the closest customer $⇒$ `K-Means`\n",
        "\n",
        "#Considerations and Limitations\n",
        "\n",
        "1. **Updating $\\mu$ and $\\sigma$:** The algorithm assumes that the new customers and the ones in the training data come from the same distribution. This may not be true, therefore from time to time, $μ$ and $\\sigma$ (used in z-score normalization) should be updated.\n",
        "\n",
        "\n",
        "2. **Customer data complexity:** The customer information contains a few features that are convenient for data preprocessing. In a real life scenario, more complex data preprocessing steps may be required.\n",
        "\n",
        "3. **Customer job category:** Is is assumed that the job categories are selected (not entered manually). Therefore, the cardinality assumed to be low which makes it suitable for `One Hot Encoding`."
      ]
    },
    {
      "cell_type": "code",
      "execution_count": null,
      "metadata": {
        "id": "YUV8miSPProq"
      },
      "outputs": [],
      "source": [
        "import numpy as np\n",
        "import pandas as pd\n",
        "import tensorflow as tf\n",
        "import tensorflow_recommenders as tfrs\n",
        "from sklearn.neighbors import NearestNeighbors\n",
        "from sklearn.preprocessing import StandardScaler,OneHotEncoder"
      ]
    },
    {
      "cell_type": "markdown",
      "metadata": {
        "id": "KSw9Aq_4W2QL"
      },
      "source": [
        "# 1. Data Generation"
      ]
    },
    {
      "cell_type": "code",
      "execution_count": null,
      "metadata": {
        "id": "kFsBJhPUP4tP"
      },
      "outputs": [],
      "source": [
        "#generating synthetic transaction history dataset\n",
        "np.random.seed(42)\n",
        "users = [\"Tom\", \"John\", \"Michael\"]\n",
        "product_categories = [\"Kitchen_Tools\", \"Accesories\",\"Sports\"]\n",
        "products = {\n",
        "    \"Kitchen_Tools\": [\"Knife\", \"Cutting_Board\", \"Peeler\", \"Spatula\", \"Measuring_Cup\"],\n",
        "    \"Accesories\": [\"Watch\", \"Wallet\", \"Sunglasses\", \"Belt\", \"Hat\"],\n",
        "    \"Sports\": [\"Football\", \"Basketball\", \"Tennis_Racket\", \"Yoga_Mat\", \"Running_Shoes\"]\n",
        "}\n",
        "\n",
        "train_data = []\n",
        "num_iter = 1000\n",
        "for user in users:\n",
        "\n",
        "  if user == \"Tom\": #uniform user\n",
        "    p = [0.333,0.333,0.334]\n",
        "\n",
        "  elif user == \"John\": #interested in cooking\n",
        "    p = [0.7,0.2,0.1]\n",
        "\n",
        "  elif user == \"Michael\": #interested mostly in sports\n",
        "    p = [0.05,0.35,0.6]\n",
        "\n",
        "  for _ in range(num_iter):\n",
        "    product_category = np.random.choice(product_categories,size = 1, replace = True,p = p)[0]\n",
        "    product = np.random.choice(products[product_category],size = 1, replace = True)[0]\n",
        "    train_data.append([user,product_category,product])\n",
        "\n",
        "train_dataset = pd.DataFrame(train_data,columns = [\"user\",\"product_category\",\"product\"])\n",
        "train_dataset = train_dataset.sample(frac = 1,replace = False,random_state = 42).reset_index(drop = True)\n",
        "train_dataset_tf = tf.data.Dataset.from_tensor_slices(dict(train_dataset[[\"user\",\"product\"]])).batch(128)\n",
        "train_dataset.head()"
      ]
    },
    {
      "cell_type": "markdown",
      "metadata": {
        "id": "eHroCQ2CW7vk"
      },
      "source": [
        "# 2. The Retrieval Algorithm"
      ]
    },
    {
      "cell_type": "code",
      "execution_count": null,
      "metadata": {
        "id": "GXNlHZooSVRh"
      },
      "outputs": [],
      "source": [
        "flat_products = [item for sublist in products.values() for item in sublist]\n",
        "\n",
        "#define user model\n",
        "user_model = tf.keras.Sequential([tf.keras.layers.StringLookup(vocabulary = users,mask_token = None,num_oov_indices=1),\n",
        "                                  tf.keras.layers.Embedding(len(users) + 1, output_dim = 3,name = \"user_embeddings\")],name = \"user_model\")\n",
        "\n",
        "#define product model\n",
        "product_model = tf.keras.Sequential([tf.keras.layers.StringLookup(vocabulary = flat_products),\n",
        "                                     tf.keras.layers.Embedding(len(flat_products) + 1, output_dim = 3,name = \"product_embeddings\")],name = \"user_model\")\n",
        "\n",
        "#define candidates\n",
        "candidates = tf.data.Dataset.from_tensor_slices(flat_products).batch(32).map(lambda x: (x,product_model(x)))\n",
        "\n",
        "#the task is to find the most relevant products given the user\n",
        "task = tfrs.tasks.Retrieval(metrics = tfrs.metrics.FactorizedTopK(candidates = candidates))\n",
        "\n",
        "class RetrievalModel(tfrs.Model):\n",
        "  def __init__(self,user_model,product_model):\n",
        "    super().__init__()\n",
        "    self.user_model = user_model\n",
        "    self.product_model = product_model\n",
        "    self.task = task\n",
        "\n",
        "  def compute_loss(self, features,training = False):\n",
        "    user_embeddings = self.user_model(features[\"user\"])\n",
        "    product_embeddings = self.product_model(features[\"product\"])\n",
        "    return self.task(user_embeddings,product_embeddings)\n"
      ]
    },
    {
      "cell_type": "code",
      "execution_count": null,
      "metadata": {
        "colab": {
          "base_uri": "https://localhost:8080/"
        },
        "id": "iGRn6qJxYC7R",
        "outputId": "2d0eda0d-1d52-4506-aeb5-b467dc408310"
      },
      "outputs": [
        {
          "name": "stdout",
          "output_type": "stream",
          "text": [
            "Epoch 1/3\n",
            "24/24 [==============================] - 3s 37ms/step - factorized_top_k/top_1_categorical_accuracy: 0.0260 - factorized_top_k/top_5_categorical_accuracy: 0.3597 - factorized_top_k/top_10_categorical_accuracy: 0.8050 - factorized_top_k/top_50_categorical_accuracy: 1.0000 - factorized_top_k/top_100_categorical_accuracy: 1.0000 - loss: 573.1760 - regularization_loss: 0.0000e+00 - total_loss: 573.1760\n",
            "Epoch 2/3\n",
            "24/24 [==============================] - 1s 38ms/step - factorized_top_k/top_1_categorical_accuracy: 0.0593 - factorized_top_k/top_5_categorical_accuracy: 0.4620 - factorized_top_k/top_10_categorical_accuracy: 0.8053 - factorized_top_k/top_50_categorical_accuracy: 1.0000 - factorized_top_k/top_100_categorical_accuracy: 1.0000 - loss: 567.7492 - regularization_loss: 0.0000e+00 - total_loss: 567.7492\n",
            "Epoch 3/3\n",
            "24/24 [==============================] - 1s 39ms/step - factorized_top_k/top_1_categorical_accuracy: 0.0523 - factorized_top_k/top_5_categorical_accuracy: 0.4697 - factorized_top_k/top_10_categorical_accuracy: 0.8127 - factorized_top_k/top_50_categorical_accuracy: 1.0000 - factorized_top_k/top_100_categorical_accuracy: 1.0000 - loss: 567.5152 - regularization_loss: 0.0000e+00 - total_loss: 567.5152\n"
          ]
        },
        {
          "data": {
            "text/plain": [
              "<keras.src.callbacks.History at 0x7ac053ef0d90>"
            ]
          },
          "execution_count": 7,
          "metadata": {},
          "output_type": "execute_result"
        }
      ],
      "source": [
        "model = RetrievalModel(user_model,product_model)\n",
        "model.compile(optimizer = tf.keras.optimizers.Adagrad(0.1))\n",
        "model.fit(train_dataset_tf,epochs = 3)"
      ]
    },
    {
      "cell_type": "code",
      "execution_count": null,
      "metadata": {
        "colab": {
          "base_uri": "https://localhost:8080/"
        },
        "id": "iAr2tIg1b1PD",
        "outputId": "c86c9c0c-3b15-45e5-ff61-7112938f3bb6"
      },
      "outputs": [
        {
          "name": "stdout",
          "output_type": "stream",
          "text": [
            "User: Tom\n",
            "\n",
            "Recommended products: ['Wallet' 'Football' 'Hat']\n",
            "Recommendation scores: ['0.06319289' '0.0622658' '0.060824823']\n",
            "\n",
            "User: John\n",
            "\n",
            "Recommended products: ['Knife' 'Spatula' 'Cutting_Board']\n",
            "Recommendation scores: ['0.96940625' '0.93734336' '0.9244829']\n",
            "\n",
            "User: Michael\n",
            "\n",
            "Recommended products: ['Running_Shoes' 'Tennis_Racket' 'Yoga_Mat']\n",
            "Recommendation scores: ['1.3429782' '1.1107031' '1.0839791']\n",
            "\n"
          ]
        }
      ],
      "source": [
        "index = tfrs.layers.factorized_top_k.BruteForce(model.user_model)\n",
        "index.index_from_dataset(candidates)\n",
        "\n",
        "scores,items_tom = index(tf.constant([\"Tom\"]), k = 3)\n",
        "print(\"User: Tom\\n\")\n",
        "print(f\"Recommended products: {items_tom.numpy()[0].astype(str)}\")\n",
        "print(f\"Recommendation scores: {scores.numpy()[0].astype(str)}\\n\")\n",
        "\n",
        "scores,items_john = index(tf.constant([\"John\"]), k = 3)\n",
        "print(\"User: John\\n\")\n",
        "print(f\"Recommended products: {items_john.numpy()[0].astype(str)}\")\n",
        "print(f\"Recommendation scores: {scores.numpy()[0].astype(str)}\\n\")\n",
        "\n",
        "scores,items_michael = index(tf.constant([\"Michael\"]), k = 3)\n",
        "print(\"User: Michael\\n\")\n",
        "print(f\"Recommended products: {items_michael.numpy()[0].astype(str)}\")\n",
        "print(f\"Recommendation scores: {scores.numpy()[0].astype(str)}\\n\")\n"
      ]
    },
    {
      "cell_type": "code",
      "execution_count": null,
      "metadata": {
        "colab": {
          "base_uri": "https://localhost:8080/"
        },
        "id": "16nBRR2nTa7a",
        "outputId": "97db59a5-49a1-4ab2-e34e-4c7dc840fd6b"
      },
      "outputs": [
        {
          "data": {
            "text/plain": [
              "{'Tom': array(['Wallet', 'Football', 'Hat'], dtype='<U8'),\n",
              " 'John': array(['Knife', 'Spatula', 'Cutting_Board'], dtype='<U13'),\n",
              " 'Michael': array(['Running_Shoes', 'Tennis_Racket', 'Yoga_Mat'], dtype='<U13')}"
            ]
          },
          "execution_count": 91,
          "metadata": {},
          "output_type": "execute_result"
        }
      ],
      "source": [
        "recommendations = {'Tom': items_tom.numpy()[0].astype(str),\n",
        "                   'John': items_john.numpy()[0].astype(str),\n",
        "                   'Michael': items_michael.numpy()[0].astype(str)}\n",
        "recommendations"
      ]
    },
    {
      "cell_type": "markdown",
      "metadata": {
        "id": "26ROXyNLXl9D"
      },
      "source": [
        "# 3. Making Recommendations for a New Customer"
      ]
    },
    {
      "cell_type": "code",
      "execution_count": null,
      "metadata": {
        "colab": {
          "base_uri": "https://localhost:8080/",
          "height": 143
        },
        "id": "FSPK4IN8XroK",
        "outputId": "89bfbb35-7768-4fc4-a030-31528e5b7141"
      },
      "outputs": [
        {
          "data": {
            "application/vnd.google.colaboratory.intrinsic+json": {
              "summary": "{\n  \"name\": \"user_information\",\n  \"rows\": 3,\n  \"fields\": [\n    {\n      \"column\": \"user\",\n      \"properties\": {\n        \"dtype\": \"string\",\n        \"num_unique_values\": 3,\n        \"samples\": [\n          \"Tom\",\n          \"John\",\n          \"Michael\"\n        ],\n        \"semantic_type\": \"\",\n        \"description\": \"\"\n      }\n    },\n    {\n      \"column\": \"age\",\n      \"properties\": {\n        \"dtype\": \"number\",\n        \"std\": 4,\n        \"min\": 26,\n        \"max\": 35,\n        \"num_unique_values\": 3,\n        \"samples\": [\n          26,\n          35,\n          29\n        ],\n        \"semantic_type\": \"\",\n        \"description\": \"\"\n      }\n    },\n    {\n      \"column\": \"profession_category\",\n      \"properties\": {\n        \"dtype\": \"string\",\n        \"num_unique_values\": 3,\n        \"samples\": [\n          \"Writer\",\n          \"Cook\",\n          \"Sports\"\n        ],\n        \"semantic_type\": \"\",\n        \"description\": \"\"\n      }\n    },\n    {\n      \"column\": \"gender\",\n      \"properties\": {\n        \"dtype\": \"category\",\n        \"num_unique_values\": 1,\n        \"samples\": [\n          \"Male\"\n        ],\n        \"semantic_type\": \"\",\n        \"description\": \"\"\n      }\n    }\n  ]\n}",
              "type": "dataframe",
              "variable_name": "user_information"
            },
            "text/html": [
              "\n",
              "  <div id=\"df-6b195d5b-7360-4e30-a500-78db8598728f\" class=\"colab-df-container\">\n",
              "    <div>\n",
              "<style scoped>\n",
              "    .dataframe tbody tr th:only-of-type {\n",
              "        vertical-align: middle;\n",
              "    }\n",
              "\n",
              "    .dataframe tbody tr th {\n",
              "        vertical-align: top;\n",
              "    }\n",
              "\n",
              "    .dataframe thead th {\n",
              "        text-align: right;\n",
              "    }\n",
              "</style>\n",
              "<table border=\"1\" class=\"dataframe\">\n",
              "  <thead>\n",
              "    <tr style=\"text-align: right;\">\n",
              "      <th></th>\n",
              "      <th>user</th>\n",
              "      <th>age</th>\n",
              "      <th>profession_category</th>\n",
              "      <th>gender</th>\n",
              "    </tr>\n",
              "  </thead>\n",
              "  <tbody>\n",
              "    <tr>\n",
              "      <th>0</th>\n",
              "      <td>Tom</td>\n",
              "      <td>26</td>\n",
              "      <td>Writer</td>\n",
              "      <td>Male</td>\n",
              "    </tr>\n",
              "    <tr>\n",
              "      <th>1</th>\n",
              "      <td>John</td>\n",
              "      <td>35</td>\n",
              "      <td>Cook</td>\n",
              "      <td>Male</td>\n",
              "    </tr>\n",
              "    <tr>\n",
              "      <th>2</th>\n",
              "      <td>Michael</td>\n",
              "      <td>29</td>\n",
              "      <td>Sports</td>\n",
              "      <td>Male</td>\n",
              "    </tr>\n",
              "  </tbody>\n",
              "</table>\n",
              "</div>\n",
              "    <div class=\"colab-df-buttons\">\n",
              "\n",
              "  <div class=\"colab-df-container\">\n",
              "    <button class=\"colab-df-convert\" onclick=\"convertToInteractive('df-6b195d5b-7360-4e30-a500-78db8598728f')\"\n",
              "            title=\"Convert this dataframe to an interactive table.\"\n",
              "            style=\"display:none;\">\n",
              "\n",
              "  <svg xmlns=\"http://www.w3.org/2000/svg\" height=\"24px\" viewBox=\"0 -960 960 960\">\n",
              "    <path d=\"M120-120v-720h720v720H120Zm60-500h600v-160H180v160Zm220 220h160v-160H400v160Zm0 220h160v-160H400v160ZM180-400h160v-160H180v160Zm440 0h160v-160H620v160ZM180-180h160v-160H180v160Zm440 0h160v-160H620v160Z\"/>\n",
              "  </svg>\n",
              "    </button>\n",
              "\n",
              "  <style>\n",
              "    .colab-df-container {\n",
              "      display:flex;\n",
              "      gap: 12px;\n",
              "    }\n",
              "\n",
              "    .colab-df-convert {\n",
              "      background-color: #E8F0FE;\n",
              "      border: none;\n",
              "      border-radius: 50%;\n",
              "      cursor: pointer;\n",
              "      display: none;\n",
              "      fill: #1967D2;\n",
              "      height: 32px;\n",
              "      padding: 0 0 0 0;\n",
              "      width: 32px;\n",
              "    }\n",
              "\n",
              "    .colab-df-convert:hover {\n",
              "      background-color: #E2EBFA;\n",
              "      box-shadow: 0px 1px 2px rgba(60, 64, 67, 0.3), 0px 1px 3px 1px rgba(60, 64, 67, 0.15);\n",
              "      fill: #174EA6;\n",
              "    }\n",
              "\n",
              "    .colab-df-buttons div {\n",
              "      margin-bottom: 4px;\n",
              "    }\n",
              "\n",
              "    [theme=dark] .colab-df-convert {\n",
              "      background-color: #3B4455;\n",
              "      fill: #D2E3FC;\n",
              "    }\n",
              "\n",
              "    [theme=dark] .colab-df-convert:hover {\n",
              "      background-color: #434B5C;\n",
              "      box-shadow: 0px 1px 3px 1px rgba(0, 0, 0, 0.15);\n",
              "      filter: drop-shadow(0px 1px 2px rgba(0, 0, 0, 0.3));\n",
              "      fill: #FFFFFF;\n",
              "    }\n",
              "  </style>\n",
              "\n",
              "    <script>\n",
              "      const buttonEl =\n",
              "        document.querySelector('#df-6b195d5b-7360-4e30-a500-78db8598728f button.colab-df-convert');\n",
              "      buttonEl.style.display =\n",
              "        google.colab.kernel.accessAllowed ? 'block' : 'none';\n",
              "\n",
              "      async function convertToInteractive(key) {\n",
              "        const element = document.querySelector('#df-6b195d5b-7360-4e30-a500-78db8598728f');\n",
              "        const dataTable =\n",
              "          await google.colab.kernel.invokeFunction('convertToInteractive',\n",
              "                                                    [key], {});\n",
              "        if (!dataTable) return;\n",
              "\n",
              "        const docLinkHtml = 'Like what you see? Visit the ' +\n",
              "          '<a target=\"_blank\" href=https://colab.research.google.com/notebooks/data_table.ipynb>data table notebook</a>'\n",
              "          + ' to learn more about interactive tables.';\n",
              "        element.innerHTML = '';\n",
              "        dataTable['output_type'] = 'display_data';\n",
              "        await google.colab.output.renderOutput(dataTable, element);\n",
              "        const docLink = document.createElement('div');\n",
              "        docLink.innerHTML = docLinkHtml;\n",
              "        element.appendChild(docLink);\n",
              "      }\n",
              "    </script>\n",
              "  </div>\n",
              "\n",
              "\n",
              "<div id=\"df-c4953faf-6cf1-4040-b920-26d50956370d\">\n",
              "  <button class=\"colab-df-quickchart\" onclick=\"quickchart('df-c4953faf-6cf1-4040-b920-26d50956370d')\"\n",
              "            title=\"Suggest charts\"\n",
              "            style=\"display:none;\">\n",
              "\n",
              "<svg xmlns=\"http://www.w3.org/2000/svg\" height=\"24px\"viewBox=\"0 0 24 24\"\n",
              "     width=\"24px\">\n",
              "    <g>\n",
              "        <path d=\"M19 3H5c-1.1 0-2 .9-2 2v14c0 1.1.9 2 2 2h14c1.1 0 2-.9 2-2V5c0-1.1-.9-2-2-2zM9 17H7v-7h2v7zm4 0h-2V7h2v10zm4 0h-2v-4h2v4z\"/>\n",
              "    </g>\n",
              "</svg>\n",
              "  </button>\n",
              "\n",
              "<style>\n",
              "  .colab-df-quickchart {\n",
              "      --bg-color: #E8F0FE;\n",
              "      --fill-color: #1967D2;\n",
              "      --hover-bg-color: #E2EBFA;\n",
              "      --hover-fill-color: #174EA6;\n",
              "      --disabled-fill-color: #AAA;\n",
              "      --disabled-bg-color: #DDD;\n",
              "  }\n",
              "\n",
              "  [theme=dark] .colab-df-quickchart {\n",
              "      --bg-color: #3B4455;\n",
              "      --fill-color: #D2E3FC;\n",
              "      --hover-bg-color: #434B5C;\n",
              "      --hover-fill-color: #FFFFFF;\n",
              "      --disabled-bg-color: #3B4455;\n",
              "      --disabled-fill-color: #666;\n",
              "  }\n",
              "\n",
              "  .colab-df-quickchart {\n",
              "    background-color: var(--bg-color);\n",
              "    border: none;\n",
              "    border-radius: 50%;\n",
              "    cursor: pointer;\n",
              "    display: none;\n",
              "    fill: var(--fill-color);\n",
              "    height: 32px;\n",
              "    padding: 0;\n",
              "    width: 32px;\n",
              "  }\n",
              "\n",
              "  .colab-df-quickchart:hover {\n",
              "    background-color: var(--hover-bg-color);\n",
              "    box-shadow: 0 1px 2px rgba(60, 64, 67, 0.3), 0 1px 3px 1px rgba(60, 64, 67, 0.15);\n",
              "    fill: var(--button-hover-fill-color);\n",
              "  }\n",
              "\n",
              "  .colab-df-quickchart-complete:disabled,\n",
              "  .colab-df-quickchart-complete:disabled:hover {\n",
              "    background-color: var(--disabled-bg-color);\n",
              "    fill: var(--disabled-fill-color);\n",
              "    box-shadow: none;\n",
              "  }\n",
              "\n",
              "  .colab-df-spinner {\n",
              "    border: 2px solid var(--fill-color);\n",
              "    border-color: transparent;\n",
              "    border-bottom-color: var(--fill-color);\n",
              "    animation:\n",
              "      spin 1s steps(1) infinite;\n",
              "  }\n",
              "\n",
              "  @keyframes spin {\n",
              "    0% {\n",
              "      border-color: transparent;\n",
              "      border-bottom-color: var(--fill-color);\n",
              "      border-left-color: var(--fill-color);\n",
              "    }\n",
              "    20% {\n",
              "      border-color: transparent;\n",
              "      border-left-color: var(--fill-color);\n",
              "      border-top-color: var(--fill-color);\n",
              "    }\n",
              "    30% {\n",
              "      border-color: transparent;\n",
              "      border-left-color: var(--fill-color);\n",
              "      border-top-color: var(--fill-color);\n",
              "      border-right-color: var(--fill-color);\n",
              "    }\n",
              "    40% {\n",
              "      border-color: transparent;\n",
              "      border-right-color: var(--fill-color);\n",
              "      border-top-color: var(--fill-color);\n",
              "    }\n",
              "    60% {\n",
              "      border-color: transparent;\n",
              "      border-right-color: var(--fill-color);\n",
              "    }\n",
              "    80% {\n",
              "      border-color: transparent;\n",
              "      border-right-color: var(--fill-color);\n",
              "      border-bottom-color: var(--fill-color);\n",
              "    }\n",
              "    90% {\n",
              "      border-color: transparent;\n",
              "      border-bottom-color: var(--fill-color);\n",
              "    }\n",
              "  }\n",
              "</style>\n",
              "\n",
              "  <script>\n",
              "    async function quickchart(key) {\n",
              "      const quickchartButtonEl =\n",
              "        document.querySelector('#' + key + ' button');\n",
              "      quickchartButtonEl.disabled = true;  // To prevent multiple clicks.\n",
              "      quickchartButtonEl.classList.add('colab-df-spinner');\n",
              "      try {\n",
              "        const charts = await google.colab.kernel.invokeFunction(\n",
              "            'suggestCharts', [key], {});\n",
              "      } catch (error) {\n",
              "        console.error('Error during call to suggestCharts:', error);\n",
              "      }\n",
              "      quickchartButtonEl.classList.remove('colab-df-spinner');\n",
              "      quickchartButtonEl.classList.add('colab-df-quickchart-complete');\n",
              "    }\n",
              "    (() => {\n",
              "      let quickchartButtonEl =\n",
              "        document.querySelector('#df-c4953faf-6cf1-4040-b920-26d50956370d button');\n",
              "      quickchartButtonEl.style.display =\n",
              "        google.colab.kernel.accessAllowed ? 'block' : 'none';\n",
              "    })();\n",
              "  </script>\n",
              "</div>\n",
              "\n",
              "  <div id=\"id_2371f227-033c-4676-8e1b-021c39264994\">\n",
              "    <style>\n",
              "      .colab-df-generate {\n",
              "        background-color: #E8F0FE;\n",
              "        border: none;\n",
              "        border-radius: 50%;\n",
              "        cursor: pointer;\n",
              "        display: none;\n",
              "        fill: #1967D2;\n",
              "        height: 32px;\n",
              "        padding: 0 0 0 0;\n",
              "        width: 32px;\n",
              "      }\n",
              "\n",
              "      .colab-df-generate:hover {\n",
              "        background-color: #E2EBFA;\n",
              "        box-shadow: 0px 1px 2px rgba(60, 64, 67, 0.3), 0px 1px 3px 1px rgba(60, 64, 67, 0.15);\n",
              "        fill: #174EA6;\n",
              "      }\n",
              "\n",
              "      [theme=dark] .colab-df-generate {\n",
              "        background-color: #3B4455;\n",
              "        fill: #D2E3FC;\n",
              "      }\n",
              "\n",
              "      [theme=dark] .colab-df-generate:hover {\n",
              "        background-color: #434B5C;\n",
              "        box-shadow: 0px 1px 3px 1px rgba(0, 0, 0, 0.15);\n",
              "        filter: drop-shadow(0px 1px 2px rgba(0, 0, 0, 0.3));\n",
              "        fill: #FFFFFF;\n",
              "      }\n",
              "    </style>\n",
              "    <button class=\"colab-df-generate\" onclick=\"generateWithVariable('user_information')\"\n",
              "            title=\"Generate code using this dataframe.\"\n",
              "            style=\"display:none;\">\n",
              "\n",
              "  <svg xmlns=\"http://www.w3.org/2000/svg\" height=\"24px\"viewBox=\"0 0 24 24\"\n",
              "       width=\"24px\">\n",
              "    <path d=\"M7,19H8.4L18.45,9,17,7.55,7,17.6ZM5,21V16.75L18.45,3.32a2,2,0,0,1,2.83,0l1.4,1.43a1.91,1.91,0,0,1,.58,1.4,1.91,1.91,0,0,1-.58,1.4L9.25,21ZM18.45,9,17,7.55Zm-12,3A5.31,5.31,0,0,0,4.9,8.1,5.31,5.31,0,0,0,1,6.5,5.31,5.31,0,0,0,4.9,4.9,5.31,5.31,0,0,0,6.5,1,5.31,5.31,0,0,0,8.1,4.9,5.31,5.31,0,0,0,12,6.5,5.46,5.46,0,0,0,6.5,12Z\"/>\n",
              "  </svg>\n",
              "    </button>\n",
              "    <script>\n",
              "      (() => {\n",
              "      const buttonEl =\n",
              "        document.querySelector('#id_2371f227-033c-4676-8e1b-021c39264994 button.colab-df-generate');\n",
              "      buttonEl.style.display =\n",
              "        google.colab.kernel.accessAllowed ? 'block' : 'none';\n",
              "\n",
              "      buttonEl.onclick = () => {\n",
              "        google.colab.notebook.generateWithVariable('user_information');\n",
              "      }\n",
              "      })();\n",
              "    </script>\n",
              "  </div>\n",
              "\n",
              "    </div>\n",
              "  </div>\n"
            ],
            "text/plain": [
              "      user  age profession_category gender\n",
              "0      Tom   26              Writer   Male\n",
              "1     John   35                Cook   Male\n",
              "2  Michael   29              Sports   Male"
            ]
          },
          "execution_count": 97,
          "metadata": {},
          "output_type": "execute_result"
        }
      ],
      "source": [
        "user_information = pd.DataFrame(data=[\n",
        "    [\"Tom\", 26, \"Writer\", \"Male\"],\n",
        "    [\"John\", 35, \"Cook\", \"Male\"],\n",
        "    [\"Michael\", 29, \"Sports\", \"Male\"]],\n",
        "    columns=[\"user\", \"age\", \"profession_category\", \"gender\"])\n",
        "\n",
        "new_customer = pd.DataFrame(data = [[\"George\",34,\"Cook\",\"Male\"]],columns = [\"user\",\"age\",\"profession_category\",\"gender\"])\n",
        "user_information"
      ]
    },
    {
      "cell_type": "code",
      "execution_count": null,
      "metadata": {
        "id": "NQjqhTz-KwhH"
      },
      "outputs": [],
      "source": [
        "def preprocess_data(df,scaler = None,encoder = None):\n",
        "  df = df.copy()\n",
        "\n",
        "  #OHE for profession category\n",
        "  if not encoder:\n",
        "    encoder = OneHotEncoder(sparse_output=False)\n",
        "    encoded_profession = encoder.fit_transform(df[[\"profession_category\"]])\n",
        "\n",
        "  else:\n",
        "    encoded_profession = encoder.transform(df[[\"profession_category\"]])\n",
        "\n",
        "  profession_names = encoder.get_feature_names_out([\"profession_category\"])\n",
        "  encoded_df = pd.DataFrame(encoded_profession, columns=profession_names)\n",
        "  df = pd.concat([df.drop(columns=['profession_category']), encoded_df], axis=1)\n",
        "\n",
        "  #binary mapping for gender\n",
        "  df[\"gender\"] = df[\"gender\"].map({\"Male\":1,\"Female\":0})\n",
        "\n",
        "  #z-score normalization for age\n",
        "  if not scaler:\n",
        "    ss = StandardScaler()\n",
        "    df[\"age\"] = ss.fit_transform(df[[\"age\"]])\n",
        "    return df,ss,encoder\n",
        "\n",
        "  else:\n",
        "    df[\"age\"] = scaler.transform(df[[\"age\"]])\n",
        "    return df\n",
        "\n",
        "def find_closest_customer(user_information,new_customer):\n",
        "\n",
        "  #preprocess the data\n",
        "  user_information_transformed,ss,encoder = preprocess_data(user_information)\n",
        "  new_customer_transformed = preprocess_data(new_customer,scaler = ss,encoder = encoder)\n",
        "  users = user_information_transformed[\"user\"].values.copy()\n",
        "\n",
        "  nn = NearestNeighbors(n_neighbors = 1)\n",
        "  nn.fit(user_information_transformed.drop(columns = [\"user\"]))\n",
        "  distances,indices = nn.kneighbors(new_customer_transformed.drop(columns = [\"user\"]))\n",
        "\n",
        "  return users[indices[0]][0]\n",
        "\n",
        "def recommend_products(user):\n",
        "  return recommendations[user]"
      ]
    },
    {
      "cell_type": "code",
      "execution_count": null,
      "metadata": {
        "colab": {
          "base_uri": "https://localhost:8080/"
        },
        "id": "BK7Iq_VHQPtm",
        "outputId": "bba5ba15-9311-49cd-eb59-9c7a2f4c5be1"
      },
      "outputs": [
        {
          "name": "stdout",
          "output_type": "stream",
          "text": [
            "The closest user to the George: John\n",
            "Recommendadtions: ['Knife' 'Spatula' 'Cutting_Board']\n"
          ]
        }
      ],
      "source": [
        "closest_user = find_closest_customer(user_information,new_customer)\n",
        "print(f\"The closest user to the {new_customer.user.values[0]}: {closest_user}\")\n",
        "print(f\"Recommendadtions: {recommend_products(closest_user)}\")"
      ]
    }
  ],
  "metadata": {
    "colab": {
      "provenance": []
    },
    "kernelspec": {
      "display_name": "Python 3",
      "name": "python3"
    },
    "language_info": {
      "name": "python"
    }
  },
  "nbformat": 4,
  "nbformat_minor": 0
}
