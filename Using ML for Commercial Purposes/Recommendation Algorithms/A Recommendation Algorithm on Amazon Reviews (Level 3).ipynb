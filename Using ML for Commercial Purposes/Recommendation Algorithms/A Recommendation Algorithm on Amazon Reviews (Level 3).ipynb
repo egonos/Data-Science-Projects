{
  "cells": [
    {
      "cell_type": "code",
      "execution_count": null,
      "metadata": {
        "id": "cYL_UpCEARcf"
      },
      "outputs": [],
      "source": [
        "!pip install tensorflow==2.15.1\n",
        "!pip install tensorflow-recommenders==0.7.3"
      ]
    },
    {
      "cell_type": "markdown",
      "metadata": {
        "id": "VobZ1ozna0s_"
      },
      "source": [
        "# Summary\n",
        "\n",
        "In my previous work (Level 2), I introduced additional features to enhance the performance of both retrieval and ranking models, aiming to improve categorical accuracy and to decrease RMSE. This time, I tested the model under different configurations to further improve the model performance.\n",
        "\n",
        "## Models\n",
        "\n",
        "### Retrieval Model\n",
        "\n",
        "UserId ----> StringLookup (equivalent to the OrdinalEncoder) ----> Embedding (1,32)  => User Embedding $u_v$ (1,32)\n",
        "\n",
        "ReviewSummary ----> TextVectorizer (split the words and encode them) ----> Embedding + GlobalAverage1d (1,32) => Summary Embedding $u_z$ (1,32)\n",
        "\n",
        "Concatenate($u_v$,$u_z$) => UserSummaryEmbedding ($u_k$) (1,64)\n",
        "\n",
        "ProductId ----> StringLookup ----> Embedding (1,32)  => Product Embedding $u_i$ (1,32)\n",
        "\n",
        "Configuration: *config*\n",
        "\n",
        "$FFN_{config}(u_k)$ => UserSummaryVector ($u_m$) \n",
        "\n",
        "$FFN_{config}(u_i)$ => ProductVector ($u_x$)\n",
        "\n",
        "During the learning process, depending on the previous interactions, $u_m$ and $u_x$ come closer or further from each other. At the end of the learning process, if feature representation $m$ and product vector $x$ are highly correlated, the degree between each vector decreases hence the dot product ($u_m . u_x$) increases. \n",
        "\n",
        "Retrieval model objective:\n",
        "\n",
        "max Top-K Categorical Accuracy (min Categorical Cross Entropy)\n",
        "\n",
        "### Ranking Model\n",
        "\n",
        "Concatenate($u_x$,$u_m$) => ProductUserSummary Embedding $u_r$ \n",
        "\n",
        "FFN($u_r$) ----> Rating Prediction\n",
        "\n",
        "Ranking model objective:\n",
        "\n",
        "min RMSE(Rating Prediction, Rating)"
      ]
    },
    {
      "cell_type": "code",
      "execution_count": 2,
      "metadata": {
        "id": "7ffmMDVSAR9V"
      },
      "outputs": [],
      "source": [
        "import numpy as np\n",
        "import pandas as pd\n",
        "import tensorflow as tf\n",
        "import tensorflow_recommenders as tfrs\n",
        "import matplotlib.pyplot as plt\n",
        "\n",
        "tf.random.set_seed(42)\n",
        "np.random.seed(42)\n",
        "plt.style.use(\"ggplot\")"
      ]
    },
    {
      "cell_type": "code",
      "execution_count": null,
      "metadata": {
        "collapsed": true,
        "id": "EMGlHY3FAUqE"
      },
      "outputs": [],
      "source": [
        "!wget https://raw.githubusercontent.com/imsreecharan/datasets_/refs/heads/master/amazon_reviews.csv"
      ]
    },
    {
      "cell_type": "code",
      "execution_count": 4,
      "metadata": {
        "colab": {
          "base_uri": "https://localhost:8080/",
          "height": 206
        },
        "id": "1J3TniBDAmfw",
        "outputId": "2bd48ad8-bc4e-415b-a908-a96b92a9db39"
      },
      "outputs": [
        {
          "data": {
            "application/vnd.google.colaboratory.intrinsic+json": {
              "summary": "{\n  \"name\": \"reviews\",\n  \"rows\": 999,\n  \"fields\": [\n    {\n      \"column\": \"product_id\",\n      \"properties\": {\n        \"dtype\": \"category\",\n        \"num_unique_values\": 40,\n        \"samples\": [\n          \"7214047977\",\n          \"3930992868\",\n          \"3744295508\"\n        ],\n        \"semantic_type\": \"\",\n        \"description\": \"\"\n      }\n    },\n    {\n      \"column\": \"overall\",\n      \"properties\": {\n        \"dtype\": \"number\",\n        \"std\": 1.279490529019087,\n        \"min\": 1.0,\n        \"max\": 5.0,\n        \"num_unique_values\": 5,\n        \"samples\": [\n          1.0,\n          4.0,\n          3.0\n        ],\n        \"semantic_type\": \"\",\n        \"description\": \"\"\n      }\n    },\n    {\n      \"column\": \"reviewerID\",\n      \"properties\": {\n        \"dtype\": \"string\",\n        \"num_unique_values\": 963,\n        \"samples\": [\n          \"A3M73KV733HBG3\",\n          \"A23ZWJ9CS8OG30\",\n          \"A3TF6A1YMYJQ9U\"\n        ],\n        \"semantic_type\": \"\",\n        \"description\": \"\"\n      }\n    },\n    {\n      \"column\": \"summary\",\n      \"properties\": {\n        \"dtype\": \"string\",\n        \"num_unique_values\": 940,\n        \"samples\": [\n          \"Well worth every penny if rooted with Kit Kat\",\n          \"These mounts are amazing\",\n          \"Excellent!\"\n        ],\n        \"semantic_type\": \"\",\n        \"description\": \"\"\n      }\n    }\n  ]\n}",
              "type": "dataframe",
              "variable_name": "reviews"
            },
            "text/html": [
              "\n",
              "  <div id=\"df-50daf355-cc87-48ee-be33-d8ce8b0e5f5e\" class=\"colab-df-container\">\n",
              "    <div>\n",
              "<style scoped>\n",
              "    .dataframe tbody tr th:only-of-type {\n",
              "        vertical-align: middle;\n",
              "    }\n",
              "\n",
              "    .dataframe tbody tr th {\n",
              "        vertical-align: top;\n",
              "    }\n",
              "\n",
              "    .dataframe thead th {\n",
              "        text-align: right;\n",
              "    }\n",
              "</style>\n",
              "<table border=\"1\" class=\"dataframe\">\n",
              "  <thead>\n",
              "    <tr style=\"text-align: right;\">\n",
              "      <th></th>\n",
              "      <th>product_id</th>\n",
              "      <th>overall</th>\n",
              "      <th>reviewerID</th>\n",
              "      <th>summary</th>\n",
              "    </tr>\n",
              "  </thead>\n",
              "  <tbody>\n",
              "    <tr>\n",
              "      <th>0</th>\n",
              "      <td>0528881469</td>\n",
              "      <td>5.0</td>\n",
              "      <td>AO94DHGC771SJ</td>\n",
              "      <td>Gotta have GPS!</td>\n",
              "    </tr>\n",
              "    <tr>\n",
              "      <th>1</th>\n",
              "      <td>0528881469</td>\n",
              "      <td>1.0</td>\n",
              "      <td>AMO214LNFCEI4</td>\n",
              "      <td>Very Disappointed</td>\n",
              "    </tr>\n",
              "    <tr>\n",
              "      <th>2</th>\n",
              "      <td>0528881469</td>\n",
              "      <td>3.0</td>\n",
              "      <td>A3N7T0DY83Y4IG</td>\n",
              "      <td>1st impression</td>\n",
              "    </tr>\n",
              "    <tr>\n",
              "      <th>3</th>\n",
              "      <td>0528881469</td>\n",
              "      <td>2.0</td>\n",
              "      <td>A1H8PY3QHMQQA0</td>\n",
              "      <td>Great grafics, POOR GPS</td>\n",
              "    </tr>\n",
              "    <tr>\n",
              "      <th>4</th>\n",
              "      <td>0528881469</td>\n",
              "      <td>1.0</td>\n",
              "      <td>A24EV6RXELQZ63</td>\n",
              "      <td>Major issues, only excuses for support</td>\n",
              "    </tr>\n",
              "  </tbody>\n",
              "</table>\n",
              "</div>\n",
              "    <div class=\"colab-df-buttons\">\n",
              "\n",
              "  <div class=\"colab-df-container\">\n",
              "    <button class=\"colab-df-convert\" onclick=\"convertToInteractive('df-50daf355-cc87-48ee-be33-d8ce8b0e5f5e')\"\n",
              "            title=\"Convert this dataframe to an interactive table.\"\n",
              "            style=\"display:none;\">\n",
              "\n",
              "  <svg xmlns=\"http://www.w3.org/2000/svg\" height=\"24px\" viewBox=\"0 -960 960 960\">\n",
              "    <path d=\"M120-120v-720h720v720H120Zm60-500h600v-160H180v160Zm220 220h160v-160H400v160Zm0 220h160v-160H400v160ZM180-400h160v-160H180v160Zm440 0h160v-160H620v160ZM180-180h160v-160H180v160Zm440 0h160v-160H620v160Z\"/>\n",
              "  </svg>\n",
              "    </button>\n",
              "\n",
              "  <style>\n",
              "    .colab-df-container {\n",
              "      display:flex;\n",
              "      gap: 12px;\n",
              "    }\n",
              "\n",
              "    .colab-df-convert {\n",
              "      background-color: #E8F0FE;\n",
              "      border: none;\n",
              "      border-radius: 50%;\n",
              "      cursor: pointer;\n",
              "      display: none;\n",
              "      fill: #1967D2;\n",
              "      height: 32px;\n",
              "      padding: 0 0 0 0;\n",
              "      width: 32px;\n",
              "    }\n",
              "\n",
              "    .colab-df-convert:hover {\n",
              "      background-color: #E2EBFA;\n",
              "      box-shadow: 0px 1px 2px rgba(60, 64, 67, 0.3), 0px 1px 3px 1px rgba(60, 64, 67, 0.15);\n",
              "      fill: #174EA6;\n",
              "    }\n",
              "\n",
              "    .colab-df-buttons div {\n",
              "      margin-bottom: 4px;\n",
              "    }\n",
              "\n",
              "    [theme=dark] .colab-df-convert {\n",
              "      background-color: #3B4455;\n",
              "      fill: #D2E3FC;\n",
              "    }\n",
              "\n",
              "    [theme=dark] .colab-df-convert:hover {\n",
              "      background-color: #434B5C;\n",
              "      box-shadow: 0px 1px 3px 1px rgba(0, 0, 0, 0.15);\n",
              "      filter: drop-shadow(0px 1px 2px rgba(0, 0, 0, 0.3));\n",
              "      fill: #FFFFFF;\n",
              "    }\n",
              "  </style>\n",
              "\n",
              "    <script>\n",
              "      const buttonEl =\n",
              "        document.querySelector('#df-50daf355-cc87-48ee-be33-d8ce8b0e5f5e button.colab-df-convert');\n",
              "      buttonEl.style.display =\n",
              "        google.colab.kernel.accessAllowed ? 'block' : 'none';\n",
              "\n",
              "      async function convertToInteractive(key) {\n",
              "        const element = document.querySelector('#df-50daf355-cc87-48ee-be33-d8ce8b0e5f5e');\n",
              "        const dataTable =\n",
              "          await google.colab.kernel.invokeFunction('convertToInteractive',\n",
              "                                                    [key], {});\n",
              "        if (!dataTable) return;\n",
              "\n",
              "        const docLinkHtml = 'Like what you see? Visit the ' +\n",
              "          '<a target=\"_blank\" href=https://colab.research.google.com/notebooks/data_table.ipynb>data table notebook</a>'\n",
              "          + ' to learn more about interactive tables.';\n",
              "        element.innerHTML = '';\n",
              "        dataTable['output_type'] = 'display_data';\n",
              "        await google.colab.output.renderOutput(dataTable, element);\n",
              "        const docLink = document.createElement('div');\n",
              "        docLink.innerHTML = docLinkHtml;\n",
              "        element.appendChild(docLink);\n",
              "      }\n",
              "    </script>\n",
              "  </div>\n",
              "\n",
              "\n",
              "<div id=\"df-0b5c203e-5b1d-45e4-8584-e70ffdf353cc\">\n",
              "  <button class=\"colab-df-quickchart\" onclick=\"quickchart('df-0b5c203e-5b1d-45e4-8584-e70ffdf353cc')\"\n",
              "            title=\"Suggest charts\"\n",
              "            style=\"display:none;\">\n",
              "\n",
              "<svg xmlns=\"http://www.w3.org/2000/svg\" height=\"24px\"viewBox=\"0 0 24 24\"\n",
              "     width=\"24px\">\n",
              "    <g>\n",
              "        <path d=\"M19 3H5c-1.1 0-2 .9-2 2v14c0 1.1.9 2 2 2h14c1.1 0 2-.9 2-2V5c0-1.1-.9-2-2-2zM9 17H7v-7h2v7zm4 0h-2V7h2v10zm4 0h-2v-4h2v4z\"/>\n",
              "    </g>\n",
              "</svg>\n",
              "  </button>\n",
              "\n",
              "<style>\n",
              "  .colab-df-quickchart {\n",
              "      --bg-color: #E8F0FE;\n",
              "      --fill-color: #1967D2;\n",
              "      --hover-bg-color: #E2EBFA;\n",
              "      --hover-fill-color: #174EA6;\n",
              "      --disabled-fill-color: #AAA;\n",
              "      --disabled-bg-color: #DDD;\n",
              "  }\n",
              "\n",
              "  [theme=dark] .colab-df-quickchart {\n",
              "      --bg-color: #3B4455;\n",
              "      --fill-color: #D2E3FC;\n",
              "      --hover-bg-color: #434B5C;\n",
              "      --hover-fill-color: #FFFFFF;\n",
              "      --disabled-bg-color: #3B4455;\n",
              "      --disabled-fill-color: #666;\n",
              "  }\n",
              "\n",
              "  .colab-df-quickchart {\n",
              "    background-color: var(--bg-color);\n",
              "    border: none;\n",
              "    border-radius: 50%;\n",
              "    cursor: pointer;\n",
              "    display: none;\n",
              "    fill: var(--fill-color);\n",
              "    height: 32px;\n",
              "    padding: 0;\n",
              "    width: 32px;\n",
              "  }\n",
              "\n",
              "  .colab-df-quickchart:hover {\n",
              "    background-color: var(--hover-bg-color);\n",
              "    box-shadow: 0 1px 2px rgba(60, 64, 67, 0.3), 0 1px 3px 1px rgba(60, 64, 67, 0.15);\n",
              "    fill: var(--button-hover-fill-color);\n",
              "  }\n",
              "\n",
              "  .colab-df-quickchart-complete:disabled,\n",
              "  .colab-df-quickchart-complete:disabled:hover {\n",
              "    background-color: var(--disabled-bg-color);\n",
              "    fill: var(--disabled-fill-color);\n",
              "    box-shadow: none;\n",
              "  }\n",
              "\n",
              "  .colab-df-spinner {\n",
              "    border: 2px solid var(--fill-color);\n",
              "    border-color: transparent;\n",
              "    border-bottom-color: var(--fill-color);\n",
              "    animation:\n",
              "      spin 1s steps(1) infinite;\n",
              "  }\n",
              "\n",
              "  @keyframes spin {\n",
              "    0% {\n",
              "      border-color: transparent;\n",
              "      border-bottom-color: var(--fill-color);\n",
              "      border-left-color: var(--fill-color);\n",
              "    }\n",
              "    20% {\n",
              "      border-color: transparent;\n",
              "      border-left-color: var(--fill-color);\n",
              "      border-top-color: var(--fill-color);\n",
              "    }\n",
              "    30% {\n",
              "      border-color: transparent;\n",
              "      border-left-color: var(--fill-color);\n",
              "      border-top-color: var(--fill-color);\n",
              "      border-right-color: var(--fill-color);\n",
              "    }\n",
              "    40% {\n",
              "      border-color: transparent;\n",
              "      border-right-color: var(--fill-color);\n",
              "      border-top-color: var(--fill-color);\n",
              "    }\n",
              "    60% {\n",
              "      border-color: transparent;\n",
              "      border-right-color: var(--fill-color);\n",
              "    }\n",
              "    80% {\n",
              "      border-color: transparent;\n",
              "      border-right-color: var(--fill-color);\n",
              "      border-bottom-color: var(--fill-color);\n",
              "    }\n",
              "    90% {\n",
              "      border-color: transparent;\n",
              "      border-bottom-color: var(--fill-color);\n",
              "    }\n",
              "  }\n",
              "</style>\n",
              "\n",
              "  <script>\n",
              "    async function quickchart(key) {\n",
              "      const quickchartButtonEl =\n",
              "        document.querySelector('#' + key + ' button');\n",
              "      quickchartButtonEl.disabled = true;  // To prevent multiple clicks.\n",
              "      quickchartButtonEl.classList.add('colab-df-spinner');\n",
              "      try {\n",
              "        const charts = await google.colab.kernel.invokeFunction(\n",
              "            'suggestCharts', [key], {});\n",
              "      } catch (error) {\n",
              "        console.error('Error during call to suggestCharts:', error);\n",
              "      }\n",
              "      quickchartButtonEl.classList.remove('colab-df-spinner');\n",
              "      quickchartButtonEl.classList.add('colab-df-quickchart-complete');\n",
              "    }\n",
              "    (() => {\n",
              "      let quickchartButtonEl =\n",
              "        document.querySelector('#df-0b5c203e-5b1d-45e4-8584-e70ffdf353cc button');\n",
              "      quickchartButtonEl.style.display =\n",
              "        google.colab.kernel.accessAllowed ? 'block' : 'none';\n",
              "    })();\n",
              "  </script>\n",
              "</div>\n",
              "\n",
              "    </div>\n",
              "  </div>\n"
            ],
            "text/plain": [
              "   product_id  overall      reviewerID                                 summary\n",
              "0  0528881469      5.0   AO94DHGC771SJ                         Gotta have GPS!\n",
              "1  0528881469      1.0   AMO214LNFCEI4                       Very Disappointed\n",
              "2  0528881469      3.0  A3N7T0DY83Y4IG                          1st impression\n",
              "3  0528881469      2.0  A1H8PY3QHMQQA0                 Great grafics, POOR GPS\n",
              "4  0528881469      1.0  A24EV6RXELQZ63  Major issues, only excuses for support"
            ]
          },
          "execution_count": 4,
          "metadata": {},
          "output_type": "execute_result"
        }
      ],
      "source": [
        "reviews = pd.read_csv('amazon_reviews.csv',index_col = 0).rename(columns = {'asin': 'product_id'})[[\"product_id\",\"overall\",\"reviewerID\",\"summary\"]]\n",
        "reviews.head()"
      ]
    },
    {
      "cell_type": "code",
      "execution_count": 5,
      "metadata": {
        "id": "TRCs-yCpCsay"
      },
      "outputs": [],
      "source": [
        "unique_product_id = np.unique(reviews[\"product_id\"])\n",
        "unique_reviewerID = np.unique(reviews[\"reviewerID\"])"
      ]
    },
    {
      "cell_type": "code",
      "execution_count": 6,
      "metadata": {
        "id": "YqlT7Ou_A19M"
      },
      "outputs": [],
      "source": [
        "retrieval_dataset = tf.data.Dataset.from_tensor_slices({\n",
        "    \"reviewerID\": reviews[\"reviewerID\"].values,\n",
        "    \"product_id\": reviews[\"product_id\"].values,\n",
        "    \"summary\": reviews[\"summary\"].values\n",
        "})\n",
        "\n",
        "candidate_dataset = tf.data.Dataset.from_tensor_slices({\"product_id\": unique_product_id})\n",
        "\n",
        "shuffled = retrieval_dataset.shuffle(len(retrieval_dataset), seed=42, reshuffle_each_iteration=False)\n",
        "train_retrieval = shuffled.take(int(len(retrieval_dataset) * 0.8)).batch(32)\n",
        "test_retrieval = shuffled.skip(int(len(retrieval_dataset) * 0.8)).batch(32)"
      ]
    },
    {
      "cell_type": "markdown",
      "metadata": {
        "id": "4TdSN_mcNoV0"
      },
      "source": [
        "# 1. Product Model"
      ]
    },
    {
      "cell_type": "code",
      "execution_count": 7,
      "metadata": {
        "colab": {
          "base_uri": "https://localhost:8080/"
        },
        "id": "UHxdAQn9KTgK",
        "outputId": "6d0102de-66df-42db-e1ee-46c3ff52ef78"
      },
      "outputs": [
        {
          "name": "stdout",
          "output_type": "stream",
          "text": [
            "tf.Tensor(\n",
            "[-0.03893324  0.02205348 -0.00592859 -0.01549635  0.0001187   0.03894453\n",
            "  0.04090737 -0.00895988 -0.04143807 -0.02681702 -0.01438829  0.01618813\n",
            "  0.04840655 -0.04571145 -0.0039338   0.01232658  0.00637271  0.03640929\n",
            "  0.0269005   0.02377191 -0.02187345  0.00657569  0.04839664 -0.03085066\n",
            " -0.00026476  0.027358    0.00216546 -0.01973563 -0.01814598  0.01331301\n",
            "  0.02251944  0.00212345], shape=(32,), dtype=float32)\n",
            "tf.Tensor(\n",
            "[[-0.03893324  0.02205348 -0.00592859 -0.01549635  0.0001187   0.03894453\n",
            "   0.04090737 -0.00895988 -0.04143807 -0.02681702 -0.01438829  0.01618813\n",
            "   0.04840655 -0.04571145 -0.0039338   0.01232658  0.00637271  0.03640929\n",
            "   0.0269005   0.02377191 -0.02187345  0.00657569  0.04839664 -0.03085066\n",
            "  -0.00026476  0.027358    0.00216546 -0.01973563 -0.01814598  0.01331301\n",
            "   0.02251944  0.00212345]], shape=(1, 32), dtype=float32)\n"
          ]
        }
      ],
      "source": [
        "product_model = tf.keras.Sequential([\n",
        "    tf.keras.layers.StringLookup(vocabulary = unique_product_id),\n",
        "    tf.keras.layers.Embedding(len(unique_product_id) + 1, 32)\n",
        "])\n",
        "\n",
        "print(product_model(reviews[\"product_id\"][0]))\n",
        "print(tf.expand_dims(product_model(reviews[\"product_id\"][0]),axis = 0))"
      ]
    },
    {
      "cell_type": "markdown",
      "metadata": {
        "id": "wPWOrwr1N8gD"
      },
      "source": [
        "# 2. Summary Model (Text Vectorization + Embedding + GlobalAverage1D)"
      ]
    },
    {
      "cell_type": "code",
      "execution_count": 8,
      "metadata": {
        "colab": {
          "base_uri": "https://localhost:8080/"
        },
        "id": "S6yOd0uHKd2S",
        "outputId": "0a4f9663-fbfd-4630-e0a0-c55b6ecc3e9e"
      },
      "outputs": [
        {
          "data": {
            "text/plain": [
              "<tf.Tensor: shape=(3,), dtype=int64, numpy=array([869,  69, 384])>"
            ]
          },
          "execution_count": 8,
          "metadata": {},
          "output_type": "execute_result"
        }
      ],
      "source": [
        "text_vectorizer = tf.keras.layers.TextVectorization(max_tokens = 10000)\n",
        "text_vectorizer.adapt(reviews[\"summary\"].values)\n",
        "text_vectorizer(reviews[\"summary\"][0])"
      ]
    },
    {
      "cell_type": "code",
      "execution_count": 9,
      "metadata": {
        "colab": {
          "base_uri": "https://localhost:8080/"
        },
        "id": "pP1M4BEVKn6b",
        "outputId": "4653dd88-b0dc-4c5b-9d8a-b4cc7a702c90"
      },
      "outputs": [
        {
          "data": {
            "text/plain": [
              "<tf.Tensor: shape=(1, 32), dtype=float32, numpy=\n",
              "array([[-0.00562282, -0.01156177, -0.01599142, -0.00744659,  0.03009556,\n",
              "         0.01319853, -0.00578088,  0.01709627, -0.00713371, -0.01943078,\n",
              "         0.00764798, -0.00212888,  0.03274184, -0.00526212,  0.02633273,\n",
              "         0.00157252, -0.00972246,  0.01191218,  0.00802399,  0.01660219,\n",
              "        -0.00258707,  0.00045978, -0.00496537, -0.02029037, -0.01907158,\n",
              "        -0.01587055,  0.00832057, -0.01859292, -0.01675697,  0.0130671 ,\n",
              "        -0.00443221, -0.01519292]], dtype=float32)>"
            ]
          },
          "execution_count": 9,
          "metadata": {},
          "output_type": "execute_result"
        }
      ],
      "source": [
        "summary_model = tf.keras.Sequential([text_vectorizer,\n",
        "                                     tf.keras.layers.Embedding(10000, 32,mask_zero = True),\n",
        "                                     tf.keras.layers.GlobalAveragePooling1D()])\n",
        "summary_model(tf.constant([reviews[\"summary\"][0]]))"
      ]
    },
    {
      "cell_type": "markdown",
      "metadata": {
        "id": "jJAyxjsqO1pC"
      },
      "source": [
        "# 3. User Model"
      ]
    },
    {
      "cell_type": "code",
      "execution_count": 10,
      "metadata": {
        "colab": {
          "base_uri": "https://localhost:8080/"
        },
        "id": "qHxsR4daO4Ls",
        "outputId": "6fe0bdf9-aefe-4cef-f0ca-5b2a6fde4037"
      },
      "outputs": [
        {
          "name": "stdout",
          "output_type": "stream",
          "text": [
            "tf.Tensor(\n",
            "[ 0.01926969  0.00766212 -0.0496311   0.00571853  0.02964571  0.02523352\n",
            " -0.00594863  0.0103463   0.02174259 -0.0022824  -0.03851752  0.01790694\n",
            " -0.04087858 -0.01050769 -0.00120596  0.03245696 -0.00833708  0.01270822\n",
            " -0.04038792 -0.00601699  0.00828858 -0.0178817  -0.02898265  0.02108169\n",
            "  0.01060699 -0.04032623  0.0420214  -0.02220415  0.0332051   0.00453446\n",
            " -0.0462868  -0.03849055], shape=(32,), dtype=float32)\n",
            "tf.Tensor(\n",
            "[[ 0.01926969  0.00766212 -0.0496311   0.00571853  0.02964571  0.02523352\n",
            "  -0.00594863  0.0103463   0.02174259 -0.0022824  -0.03851752  0.01790694\n",
            "  -0.04087858 -0.01050769 -0.00120596  0.03245696 -0.00833708  0.01270822\n",
            "  -0.04038792 -0.00601699  0.00828858 -0.0178817  -0.02898265  0.02108169\n",
            "   0.01060699 -0.04032623  0.0420214  -0.02220415  0.0332051   0.00453446\n",
            "  -0.0462868  -0.03849055]], shape=(1, 32), dtype=float32)\n"
          ]
        }
      ],
      "source": [
        "user_model = tf.keras.Sequential([tf.keras.layers.StringLookup(vocabulary = unique_reviewerID),\n",
        "                                  tf.keras.layers.Embedding(len(unique_reviewerID) + 1, 32)])\n",
        "\n",
        "print(user_model(reviews[\"reviewerID\"][0]))\n",
        "print(tf.expand_dims(user_model(reviews[\"reviewerID\"][0]),axis = 0))"
      ]
    },
    {
      "cell_type": "markdown",
      "metadata": {
        "id": "7FRw9rjBR-0F"
      },
      "source": [
        "# 4. Stacking the Models in a Class Object"
      ]
    },
    {
      "cell_type": "code",
      "execution_count": 11,
      "metadata": {
        "id": "2p1-EFOxSGmX"
      },
      "outputs": [],
      "source": [
        "class UserModel(tf.keras.Model):\n",
        "  def __init__(self):\n",
        "    super().__init__()\n",
        "\n",
        "    self.user_model = tf.keras.Sequential([tf.keras.layers.StringLookup(vocabulary = unique_reviewerID),\n",
        "                                           tf.keras.layers.Embedding(len(unique_reviewerID) + 1, 32)])\n",
        "\n",
        "    self.text_vectorizer = tf.keras.layers.TextVectorization(max_tokens = 10000)\n",
        "    self.text_vectorizer.adapt(reviews[\"summary\"].values)\n",
        "\n",
        "    self.summary_model = tf.keras.Sequential([self.text_vectorizer,\n",
        "                                              tf.keras.layers.Embedding(10000, 32,mask_zero = True),\n",
        "                                              tf.keras.layers.GlobalAveragePooling1D()])\n",
        "\n",
        "  def call(self,inputs):\n",
        "    return tf.concat([self.user_model(inputs[\"reviewerID\"]),\n",
        "                     self.summary_model(inputs[\"summary\"])],axis = 1)\n",
        "\n",
        "\n",
        "\n"
      ]
    },
    {
      "cell_type": "code",
      "execution_count": 12,
      "metadata": {
        "colab": {
          "base_uri": "https://localhost:8080/"
        },
        "id": "sC3QaEemUdbe",
        "outputId": "dbebd835-e369-4138-8be1-28f6fd0c9d3b"
      },
      "outputs": [
        {
          "data": {
            "text/plain": [
              "<tf.Tensor: shape=(1, 64), dtype=float32, numpy=\n",
              "array([[ 1.5414212e-02,  4.8864808e-02,  9.0056658e-04,  2.3151066e-02,\n",
              "         6.6760890e-03, -2.4441540e-02, -6.1950795e-03, -3.5896838e-02,\n",
              "        -2.0220889e-02,  1.4241580e-02,  3.6992542e-03,  3.0787561e-02,\n",
              "        -1.7411686e-02, -2.8064787e-02, -3.3564746e-02,  3.0665424e-02,\n",
              "        -5.8648214e-03,  3.6629666e-02,  1.6131151e-02,  4.6710495e-02,\n",
              "         1.0461807e-02,  2.8743148e-03, -1.9240094e-02,  2.8980780e-02,\n",
              "         4.5298960e-02,  2.0929817e-02,  4.8172902e-02,  8.6276606e-04,\n",
              "         4.5089785e-02,  1.0343205e-02, -1.7900683e-02,  1.6053203e-02,\n",
              "        -1.0914911e-02,  2.7884500e-02, -3.2134466e-03, -3.1900316e-02,\n",
              "        -4.7718473e-03, -7.0980228e-03,  6.2134750e-03,  1.0195751e-02,\n",
              "         7.3715672e-03,  2.4795169e-03,  1.4444912e-02,  2.0588974e-02,\n",
              "        -7.5659873e-03,  9.2940023e-03, -1.0114126e-02,  6.7392364e-05,\n",
              "        -1.2445587e-02,  1.7354101e-02, -6.6153426e-04,  1.2966008e-02,\n",
              "        -3.8662270e-02, -3.6435137e-03,  1.5357187e-02, -3.6921795e-02,\n",
              "        -1.3274215e-03, -2.0068062e-02,  1.2404377e-02,  5.6870072e-03,\n",
              "        -4.7903471e-03, -8.9565665e-03,  3.0969582e-02, -2.4016980e-02]],\n",
              "      dtype=float32)>"
            ]
          },
          "execution_count": 12,
          "metadata": {},
          "output_type": "execute_result"
        }
      ],
      "source": [
        "UserModel()(next(iter(train_retrieval.unbatch().take(1).batch(1))))"
      ]
    },
    {
      "cell_type": "markdown",
      "metadata": {
        "id": "IYUPEs5HVMlu"
      },
      "source": [
        "# 5. User Model with FFN"
      ]
    },
    {
      "cell_type": "code",
      "execution_count": 13,
      "metadata": {
        "id": "4t9zlU9fVSxM"
      },
      "outputs": [],
      "source": [
        "class UserModelFFN(tf.keras.Model):\n",
        "  def __init__(self, layer_sizes):\n",
        "    super().__init__()\n",
        "\n",
        "    self.user_model = UserModel()\n",
        "\n",
        "    self.ffn = tf.keras.Sequential()\n",
        "\n",
        "    for layer_size in layer_sizes[:-1]:\n",
        "      self.ffn.add(tf.keras.layers.Dense(layer_size, activation = \"relu\"))\n",
        "\n",
        "    self.ffn.add(tf.keras.layers.Dense(layer_sizes[-1]))\n",
        "\n",
        "  def call(self, inputs):\n",
        "    return self.ffn(self.user_model(inputs))\n"
      ]
    },
    {
      "cell_type": "code",
      "execution_count": 14,
      "metadata": {
        "colab": {
          "base_uri": "https://localhost:8080/"
        },
        "id": "y-sFKIKSV-cg",
        "outputId": "b82d126f-7f7a-4439-8fc9-7e8d7c8fb7a2"
      },
      "outputs": [
        {
          "data": {
            "text/plain": [
              "<tf.Tensor: shape=(1, 32), dtype=float32, numpy=\n",
              "array([[-0.02155871, -0.01753121,  0.0194934 ,  0.00272957, -0.00580334,\n",
              "        -0.00588573, -0.00956007,  0.02852189, -0.01662085, -0.00903215,\n",
              "         0.00258614,  0.02294659,  0.00682438, -0.00598476,  0.00012121,\n",
              "        -0.03466765, -0.01908196, -0.00300885,  0.0008176 , -0.01180484,\n",
              "        -0.00894482,  0.00867375,  0.00813107, -0.00492038, -0.00690623,\n",
              "        -0.00853294,  0.00078971,  0.00292732, -0.0501284 , -0.0214693 ,\n",
              "         0.0310858 , -0.01429   ]], dtype=float32)>"
            ]
          },
          "execution_count": 14,
          "metadata": {},
          "output_type": "execute_result"
        }
      ],
      "source": [
        "layer_sizes = [32,32]\n",
        "UserModelFFN(layer_sizes)(next(iter(train_retrieval.unbatch().take(1).batch(1)))) #test on a single sample"
      ]
    },
    {
      "cell_type": "markdown",
      "metadata": {
        "id": "7_cLtzcEW_rX"
      },
      "source": [
        "# 6. Product Model with FFN"
      ]
    },
    {
      "cell_type": "code",
      "execution_count": 15,
      "metadata": {
        "id": "p2V8ZmLTXFgo"
      },
      "outputs": [],
      "source": [
        "class ProductModelFFN(tf.keras.Model):\n",
        "  def __init__(self, layer_sizes):\n",
        "    super().__init__()\n",
        "\n",
        "    self.product_model = tf.keras.Sequential([tf.keras.layers.StringLookup(vocabulary = unique_product_id),\n",
        "                                              tf.keras.layers.Embedding(len(unique_product_id) + 1, 32)])\n",
        "\n",
        "    self.ffn = tf.keras.Sequential()\n",
        "\n",
        "    for layer_size in layer_sizes[:-1]:\n",
        "      self.ffn.add(tf.keras.layers.Dense(layer_size, activation = \"relu\"))\n",
        "\n",
        "    self.ffn.add(tf.keras.layers.Dense(layer_sizes[-1]))\n",
        "\n",
        "  def call(self, inputs):\n",
        "    return self.ffn(self.product_model(inputs))"
      ]
    },
    {
      "cell_type": "code",
      "execution_count": 16,
      "metadata": {
        "colab": {
          "base_uri": "https://localhost:8080/"
        },
        "id": "xw6OMQwinsrA",
        "outputId": "6dab2367-dd4b-4d38-ac0d-e8aeea86a391"
      },
      "outputs": [
        {
          "data": {
            "text/plain": [
              "<tf.Tensor: shape=(1, 64), dtype=float32, numpy=\n",
              "array([[-0.03251629, -0.01062231, -0.01013921, -0.00177248,  0.00914134,\n",
              "        -0.01091892, -0.01979931, -0.02589846,  0.00924007,  0.03379894,\n",
              "         0.01174025, -0.00543659,  0.01012437, -0.00530369, -0.02143643,\n",
              "         0.00840116,  0.0127553 ,  0.01010831, -0.01282761,  0.01873971,\n",
              "        -0.02189923,  0.0249263 , -0.02297285,  0.00065459,  0.0601599 ,\n",
              "         0.02354337, -0.00424439,  0.0064104 ,  0.00050249, -0.02032765,\n",
              "         0.01344878,  0.00700678, -0.00597565, -0.01857713, -0.01352751,\n",
              "         0.00457778, -0.00371909, -0.00540535,  0.00713401, -0.02242657,\n",
              "         0.01538329,  0.01564208,  0.00713196,  0.01354509, -0.00776958,\n",
              "         0.01362928,  0.02615558, -0.00893764,  0.0074877 , -0.03318656,\n",
              "         0.00684161, -0.01654194, -0.00877371, -0.0154731 , -0.01537289,\n",
              "         0.00240809, -0.0266436 , -0.00034473, -0.01210864,  0.0062226 ,\n",
              "        -0.00390546, -0.00429827,  0.01306493, -0.00909473]],\n",
              "      dtype=float32)>"
            ]
          },
          "execution_count": 16,
          "metadata": {},
          "output_type": "execute_result"
        }
      ],
      "source": [
        "layer_sizes = [64]\n",
        "ProductModelFFN(layer_sizes)(next(iter(train_retrieval.unbatch().take(1).batch(1)))[\"product_id\"])"
      ]
    },
    {
      "cell_type": "markdown",
      "metadata": {
        "id": "_4n6OmyoXxT6"
      },
      "source": [
        "# 7. Retrieval Model"
      ]
    },
    {
      "cell_type": "code",
      "execution_count": 17,
      "metadata": {
        "id": "GY2tP7aGWbKA"
      },
      "outputs": [],
      "source": [
        "candidate_dataset = tf.data.Dataset.from_tensor_slices(unique_product_id).batch(32)\n",
        "metrics = tfrs.metrics.FactorizedTopK(candidates = candidate_dataset.map(lambda x: (x, product_model(x))))\n",
        "task = tfrs.tasks.Retrieval(metrics = metrics)"
      ]
    },
    {
      "cell_type": "code",
      "execution_count": 18,
      "metadata": {
        "id": "fKITtwZBWdn9"
      },
      "outputs": [],
      "source": [
        "class Retrieval(tfrs.Model):\n",
        "  def __init__(self,user_model,product_model):\n",
        "    super().__init__()\n",
        "    self.user_model = user_model\n",
        "    self.product_model = product_model\n",
        "    self.task = tfrs.tasks.Retrieval(metrics=tfrs.metrics.FactorizedTopK(candidates = candidate_dataset.map(lambda x: (x, self.product_model(x)))))\n",
        "\n",
        "  def compute_loss(self,inputs,training = False):\n",
        "    user_embeddings_and_summary = self.user_model({\"reviewerID\": inputs[\"reviewerID\"],\"summary\": inputs[\"summary\"]})\n",
        "    positive_embeddings = self.product_model(inputs[\"product_id\"])\n",
        "    return self.task(user_embeddings_and_summary,positive_embeddings)\n",
        "\n"
      ]
    },
    {
      "cell_type": "markdown",
      "metadata": {
        "id": "a-K1W7yxYXSP"
      },
      "source": [
        "# 8. Testing Different Retrieval Model Configurations"
      ]
    },
    {
      "cell_type": "code",
      "execution_count": 19,
      "metadata": {
        "id": "b19ccJXhYgTd"
      },
      "outputs": [],
      "source": [
        "def get_retrieval_model(layer_sizes):\n",
        "  product_model_ffn = ProductModelFFN(layer_sizes)\n",
        "  user_model_retrieval_ffn = UserModelFFN(layer_sizes)\n",
        "\n",
        "  candidate_dataset = tf.data.Dataset.from_tensor_slices(unique_product_id).batch(layer_sizes[-1])\n",
        "  metrics = tfrs.metrics.FactorizedTopK(candidates = candidate_dataset.map(lambda x: (x, product_model_ffn(x))))\n",
        "  task = tfrs.tasks.Retrieval(metrics = metrics)\n",
        "\n",
        "  retrieval_model = Retrieval(user_model_retrieval_ffn,product_model_ffn)\n",
        "  retrieval_model.compile(optimizer = tf.keras.optimizers.Adagrad(0.01))\n",
        "\n",
        "  return retrieval_model"
      ]
    },
    {
      "cell_type": "code",
      "execution_count": 20,
      "metadata": {
        "colab": {
          "base_uri": "https://localhost:8080/"
        },
        "id": "UdCKGl97ZYfl",
        "outputId": "cbcfee4e-5579-4a55-f25f-495e112afae1"
      },
      "outputs": [
        {
          "name": "stdout",
          "output_type": "stream",
          "text": [
            "Epoch 1/5\n",
            "25/25 [==============================] - 9s 183ms/step - factorized_top_k/top_1_categorical_accuracy: 0.0000e+00 - factorized_top_k/top_5_categorical_accuracy: 0.0964 - factorized_top_k/top_10_categorical_accuracy: 0.2278 - factorized_top_k/top_50_categorical_accuracy: 1.0000 - factorized_top_k/top_100_categorical_accuracy: 1.0000 - loss: 110.5648 - regularization_loss: 0.0000e+00 - total_loss: 110.5648 - val_factorized_top_k/top_1_categorical_accuracy: 0.0250 - val_factorized_top_k/top_5_categorical_accuracy: 0.1400 - val_factorized_top_k/top_10_categorical_accuracy: 0.3350 - val_factorized_top_k/top_50_categorical_accuracy: 1.0000 - val_factorized_top_k/top_100_categorical_accuracy: 1.0000 - val_loss: 16.6331 - val_regularization_loss: 0.0000e+00 - val_total_loss: 16.6331\n",
            "Epoch 2/5\n",
            "25/25 [==============================] - 4s 153ms/step - factorized_top_k/top_1_categorical_accuracy: 0.0013 - factorized_top_k/top_5_categorical_accuracy: 0.2190 - factorized_top_k/top_10_categorical_accuracy: 0.3717 - factorized_top_k/top_50_categorical_accuracy: 1.0000 - factorized_top_k/top_100_categorical_accuracy: 1.0000 - loss: 110.4939 - regularization_loss: 0.0000e+00 - total_loss: 110.4939 - val_factorized_top_k/top_1_categorical_accuracy: 0.0650 - val_factorized_top_k/top_5_categorical_accuracy: 0.2000 - val_factorized_top_k/top_10_categorical_accuracy: 0.3850 - val_factorized_top_k/top_50_categorical_accuracy: 1.0000 - val_factorized_top_k/top_100_categorical_accuracy: 1.0000 - val_loss: 16.6349 - val_regularization_loss: 0.0000e+00 - val_total_loss: 16.6349\n",
            "Epoch 3/5\n",
            "25/25 [==============================] - 3s 119ms/step - factorized_top_k/top_1_categorical_accuracy: 0.0000e+00 - factorized_top_k/top_5_categorical_accuracy: 0.3655 - factorized_top_k/top_10_categorical_accuracy: 0.5257 - factorized_top_k/top_50_categorical_accuracy: 1.0000 - factorized_top_k/top_100_categorical_accuracy: 1.0000 - loss: 110.3489 - regularization_loss: 0.0000e+00 - total_loss: 110.3489 - val_factorized_top_k/top_1_categorical_accuracy: 0.0950 - val_factorized_top_k/top_5_categorical_accuracy: 0.2800 - val_factorized_top_k/top_10_categorical_accuracy: 0.4300 - val_factorized_top_k/top_50_categorical_accuracy: 1.0000 - val_factorized_top_k/top_100_categorical_accuracy: 1.0000 - val_loss: 16.6404 - val_regularization_loss: 0.0000e+00 - val_total_loss: 16.6404\n",
            "Epoch 4/5\n",
            "25/25 [==============================] - 1s 56ms/step - factorized_top_k/top_1_categorical_accuracy: 0.0000e+00 - factorized_top_k/top_5_categorical_accuracy: 0.5094 - factorized_top_k/top_10_categorical_accuracy: 0.6446 - factorized_top_k/top_50_categorical_accuracy: 1.0000 - factorized_top_k/top_100_categorical_accuracy: 1.0000 - loss: 109.8910 - regularization_loss: 0.0000e+00 - total_loss: 109.8910 - val_factorized_top_k/top_1_categorical_accuracy: 0.1300 - val_factorized_top_k/top_5_categorical_accuracy: 0.3450 - val_factorized_top_k/top_10_categorical_accuracy: 0.4950 - val_factorized_top_k/top_50_categorical_accuracy: 1.0000 - val_factorized_top_k/top_100_categorical_accuracy: 1.0000 - val_loss: 16.6587 - val_regularization_loss: 0.0000e+00 - val_total_loss: 16.6587\n",
            "Epoch 5/5\n",
            "25/25 [==============================] - 1s 55ms/step - factorized_top_k/top_1_categorical_accuracy: 0.0000e+00 - factorized_top_k/top_5_categorical_accuracy: 0.5695 - factorized_top_k/top_10_categorical_accuracy: 0.7259 - factorized_top_k/top_50_categorical_accuracy: 1.0000 - factorized_top_k/top_100_categorical_accuracy: 1.0000 - loss: 107.9823 - regularization_loss: 0.0000e+00 - total_loss: 107.9823 - val_factorized_top_k/top_1_categorical_accuracy: 0.1100 - val_factorized_top_k/top_5_categorical_accuracy: 0.4400 - val_factorized_top_k/top_10_categorical_accuracy: 0.5950 - val_factorized_top_k/top_50_categorical_accuracy: 1.0000 - val_factorized_top_k/top_100_categorical_accuracy: 1.0000 - val_loss: 16.7181 - val_regularization_loss: 0.0000e+00 - val_total_loss: 16.7181\n"
          ]
        }
      ],
      "source": [
        "layer_sizes = [32]\n",
        "retrieval_model1 = get_retrieval_model(layer_sizes)\n",
        "retrieval_model1_history = retrieval_model1.fit(train_retrieval, epochs=5,validation_data = test_retrieval)"
      ]
    },
    {
      "cell_type": "code",
      "execution_count": 21,
      "metadata": {
        "colab": {
          "base_uri": "https://localhost:8080/"
        },
        "id": "qsBoWvaDov60",
        "outputId": "6e6afeb4-8b0e-4c09-baa7-04130a0fd5de"
      },
      "outputs": [
        {
          "name": "stdout",
          "output_type": "stream",
          "text": [
            "Epoch 1/5\n",
            "25/25 [==============================] - 5s 75ms/step - factorized_top_k/top_1_categorical_accuracy: 0.0013 - factorized_top_k/top_5_categorical_accuracy: 0.1502 - factorized_top_k/top_10_categorical_accuracy: 0.2891 - factorized_top_k/top_50_categorical_accuracy: 1.0000 - factorized_top_k/top_100_categorical_accuracy: 1.0000 - loss: 110.5441 - regularization_loss: 0.0000e+00 - total_loss: 110.5441 - val_factorized_top_k/top_1_categorical_accuracy: 0.0350 - val_factorized_top_k/top_5_categorical_accuracy: 0.1950 - val_factorized_top_k/top_10_categorical_accuracy: 0.3050 - val_factorized_top_k/top_50_categorical_accuracy: 1.0000 - val_factorized_top_k/top_100_categorical_accuracy: 1.0000 - val_loss: 16.6346 - val_regularization_loss: 0.0000e+00 - val_total_loss: 16.6346\n",
            "Epoch 2/5\n",
            "25/25 [==============================] - 1s 56ms/step - factorized_top_k/top_1_categorical_accuracy: 0.0013 - factorized_top_k/top_5_categorical_accuracy: 0.2703 - factorized_top_k/top_10_categorical_accuracy: 0.4431 - factorized_top_k/top_50_categorical_accuracy: 1.0000 - factorized_top_k/top_100_categorical_accuracy: 1.0000 - loss: 110.4742 - regularization_loss: 0.0000e+00 - total_loss: 110.4742 - val_factorized_top_k/top_1_categorical_accuracy: 0.0600 - val_factorized_top_k/top_5_categorical_accuracy: 0.2150 - val_factorized_top_k/top_10_categorical_accuracy: 0.3700 - val_factorized_top_k/top_50_categorical_accuracy: 1.0000 - val_factorized_top_k/top_100_categorical_accuracy: 1.0000 - val_loss: 16.6339 - val_regularization_loss: 0.0000e+00 - val_total_loss: 16.6339\n",
            "Epoch 3/5\n",
            "25/25 [==============================] - 2s 99ms/step - factorized_top_k/top_1_categorical_accuracy: 0.0025 - factorized_top_k/top_5_categorical_accuracy: 0.4143 - factorized_top_k/top_10_categorical_accuracy: 0.5770 - factorized_top_k/top_50_categorical_accuracy: 1.0000 - factorized_top_k/top_100_categorical_accuracy: 1.0000 - loss: 110.3472 - regularization_loss: 0.0000e+00 - total_loss: 110.3472 - val_factorized_top_k/top_1_categorical_accuracy: 0.0900 - val_factorized_top_k/top_5_categorical_accuracy: 0.2950 - val_factorized_top_k/top_10_categorical_accuracy: 0.4150 - val_factorized_top_k/top_50_categorical_accuracy: 1.0000 - val_factorized_top_k/top_100_categorical_accuracy: 1.0000 - val_loss: 16.6328 - val_regularization_loss: 0.0000e+00 - val_total_loss: 16.6328\n",
            "Epoch 4/5\n",
            "25/25 [==============================] - 1s 57ms/step - factorized_top_k/top_1_categorical_accuracy: 0.0000e+00 - factorized_top_k/top_5_categorical_accuracy: 0.5544 - factorized_top_k/top_10_categorical_accuracy: 0.7084 - factorized_top_k/top_50_categorical_accuracy: 1.0000 - factorized_top_k/top_100_categorical_accuracy: 1.0000 - loss: 110.0146 - regularization_loss: 0.0000e+00 - total_loss: 110.0146 - val_factorized_top_k/top_1_categorical_accuracy: 0.0950 - val_factorized_top_k/top_5_categorical_accuracy: 0.3350 - val_factorized_top_k/top_10_categorical_accuracy: 0.4700 - val_factorized_top_k/top_50_categorical_accuracy: 1.0000 - val_factorized_top_k/top_100_categorical_accuracy: 1.0000 - val_loss: 16.6254 - val_regularization_loss: 0.0000e+00 - val_total_loss: 16.6254\n",
            "Epoch 5/5\n",
            "25/25 [==============================] - 1s 57ms/step - factorized_top_k/top_1_categorical_accuracy: 0.0000e+00 - factorized_top_k/top_5_categorical_accuracy: 0.6320 - factorized_top_k/top_10_categorical_accuracy: 0.7722 - factorized_top_k/top_50_categorical_accuracy: 1.0000 - factorized_top_k/top_100_categorical_accuracy: 1.0000 - loss: 108.7761 - regularization_loss: 0.0000e+00 - total_loss: 108.7761 - val_factorized_top_k/top_1_categorical_accuracy: 0.1250 - val_factorized_top_k/top_5_categorical_accuracy: 0.4150 - val_factorized_top_k/top_10_categorical_accuracy: 0.5750 - val_factorized_top_k/top_50_categorical_accuracy: 1.0000 - val_factorized_top_k/top_100_categorical_accuracy: 1.0000 - val_loss: 16.5885 - val_regularization_loss: 0.0000e+00 - val_total_loss: 16.5885\n"
          ]
        }
      ],
      "source": [
        "layer_sizes = [64]\n",
        "retrieval_model2 = get_retrieval_model(layer_sizes)\n",
        "retrieval_model2_history = retrieval_model2.fit(train_retrieval, epochs=5,validation_data = test_retrieval)"
      ]
    },
    {
      "cell_type": "code",
      "execution_count": 22,
      "metadata": {
        "colab": {
          "base_uri": "https://localhost:8080/"
        },
        "id": "i07-YcOrofXA",
        "outputId": "c57f73ed-cd11-41a3-b870-814f25813055"
      },
      "outputs": [
        {
          "name": "stdout",
          "output_type": "stream",
          "text": [
            "Epoch 1/5\n",
            "25/25 [==============================] - 4s 108ms/step - factorized_top_k/top_1_categorical_accuracy: 0.0038 - factorized_top_k/top_5_categorical_accuracy: 0.0713 - factorized_top_k/top_10_categorical_accuracy: 0.1777 - factorized_top_k/top_50_categorical_accuracy: 1.0000 - factorized_top_k/top_100_categorical_accuracy: 1.0000 - loss: 110.5638 - regularization_loss: 0.0000e+00 - total_loss: 110.5638 - val_factorized_top_k/top_1_categorical_accuracy: 0.0050 - val_factorized_top_k/top_5_categorical_accuracy: 0.0900 - val_factorized_top_k/top_10_categorical_accuracy: 0.2300 - val_factorized_top_k/top_50_categorical_accuracy: 1.0000 - val_factorized_top_k/top_100_categorical_accuracy: 1.0000 - val_loss: 16.6381 - val_regularization_loss: 0.0000e+00 - val_total_loss: 16.6381\n",
            "Epoch 2/5\n",
            "25/25 [==============================] - 2s 62ms/step - factorized_top_k/top_1_categorical_accuracy: 0.0013 - factorized_top_k/top_5_categorical_accuracy: 0.1189 - factorized_top_k/top_10_categorical_accuracy: 0.2491 - factorized_top_k/top_50_categorical_accuracy: 1.0000 - factorized_top_k/top_100_categorical_accuracy: 1.0000 - loss: 110.5558 - regularization_loss: 0.0000e+00 - total_loss: 110.5558 - val_factorized_top_k/top_1_categorical_accuracy: 0.0350 - val_factorized_top_k/top_5_categorical_accuracy: 0.1200 - val_factorized_top_k/top_10_categorical_accuracy: 0.2400 - val_factorized_top_k/top_50_categorical_accuracy: 1.0000 - val_factorized_top_k/top_100_categorical_accuracy: 1.0000 - val_loss: 16.6391 - val_regularization_loss: 0.0000e+00 - val_total_loss: 16.6391\n",
            "Epoch 3/5\n",
            "25/25 [==============================] - 2s 77ms/step - factorized_top_k/top_1_categorical_accuracy: 0.0025 - factorized_top_k/top_5_categorical_accuracy: 0.1564 - factorized_top_k/top_10_categorical_accuracy: 0.3079 - factorized_top_k/top_50_categorical_accuracy: 1.0000 - factorized_top_k/top_100_categorical_accuracy: 1.0000 - loss: 110.5466 - regularization_loss: 0.0000e+00 - total_loss: 110.5466 - val_factorized_top_k/top_1_categorical_accuracy: 0.0200 - val_factorized_top_k/top_5_categorical_accuracy: 0.1600 - val_factorized_top_k/top_10_categorical_accuracy: 0.2400 - val_factorized_top_k/top_50_categorical_accuracy: 1.0000 - val_factorized_top_k/top_100_categorical_accuracy: 1.0000 - val_loss: 16.6413 - val_regularization_loss: 0.0000e+00 - val_total_loss: 16.6413\n",
            "Epoch 4/5\n",
            "25/25 [==============================] - 2s 61ms/step - factorized_top_k/top_1_categorical_accuracy: 0.0075 - factorized_top_k/top_5_categorical_accuracy: 0.2190 - factorized_top_k/top_10_categorical_accuracy: 0.3592 - factorized_top_k/top_50_categorical_accuracy: 1.0000 - factorized_top_k/top_100_categorical_accuracy: 1.0000 - loss: 110.5312 - regularization_loss: 0.0000e+00 - total_loss: 110.5312 - val_factorized_top_k/top_1_categorical_accuracy: 0.0650 - val_factorized_top_k/top_5_categorical_accuracy: 0.1700 - val_factorized_top_k/top_10_categorical_accuracy: 0.2800 - val_factorized_top_k/top_50_categorical_accuracy: 1.0000 - val_factorized_top_k/top_100_categorical_accuracy: 1.0000 - val_loss: 16.6446 - val_regularization_loss: 0.0000e+00 - val_total_loss: 16.6446\n",
            "Epoch 5/5\n",
            "25/25 [==============================] - 2s 76ms/step - factorized_top_k/top_1_categorical_accuracy: 0.0075 - factorized_top_k/top_5_categorical_accuracy: 0.2829 - factorized_top_k/top_10_categorical_accuracy: 0.4255 - factorized_top_k/top_50_categorical_accuracy: 1.0000 - factorized_top_k/top_100_categorical_accuracy: 1.0000 - loss: 110.5005 - regularization_loss: 0.0000e+00 - total_loss: 110.5005 - val_factorized_top_k/top_1_categorical_accuracy: 0.0650 - val_factorized_top_k/top_5_categorical_accuracy: 0.2300 - val_factorized_top_k/top_10_categorical_accuracy: 0.2900 - val_factorized_top_k/top_50_categorical_accuracy: 1.0000 - val_factorized_top_k/top_100_categorical_accuracy: 1.0000 - val_loss: 16.6514 - val_regularization_loss: 0.0000e+00 - val_total_loss: 16.6514\n"
          ]
        }
      ],
      "source": [
        "layer_sizes = [32,32]\n",
        "retrieval_model3 = get_retrieval_model(layer_sizes)\n",
        "retrieval_model3_history = retrieval_model3.fit(train_retrieval, epochs=5,validation_data = test_retrieval)"
      ]
    },
    {
      "cell_type": "code",
      "execution_count": 23,
      "metadata": {
        "colab": {
          "base_uri": "https://localhost:8080/"
        },
        "id": "AUb3s6kDZEf8",
        "outputId": "458136de-7aea-463f-b5e9-c1bfcc6fe5b2"
      },
      "outputs": [
        {
          "name": "stdout",
          "output_type": "stream",
          "text": [
            "Epoch 1/5\n",
            "25/25 [==============================] - 4s 113ms/step - factorized_top_k/top_1_categorical_accuracy: 0.0025 - factorized_top_k/top_5_categorical_accuracy: 0.1339 - factorized_top_k/top_10_categorical_accuracy: 0.2666 - factorized_top_k/top_50_categorical_accuracy: 1.0000 - factorized_top_k/top_100_categorical_accuracy: 1.0000 - loss: 110.5490 - regularization_loss: 0.0000e+00 - total_loss: 110.5490 - val_factorized_top_k/top_1_categorical_accuracy: 0.0300 - val_factorized_top_k/top_5_categorical_accuracy: 0.1600 - val_factorized_top_k/top_10_categorical_accuracy: 0.2650 - val_factorized_top_k/top_50_categorical_accuracy: 1.0000 - val_factorized_top_k/top_100_categorical_accuracy: 1.0000 - val_loss: 16.6450 - val_regularization_loss: 0.0000e+00 - val_total_loss: 16.6450\n",
            "Epoch 2/5\n",
            "25/25 [==============================] - 1s 55ms/step - factorized_top_k/top_1_categorical_accuracy: 0.0038 - factorized_top_k/top_5_categorical_accuracy: 0.2829 - factorized_top_k/top_10_categorical_accuracy: 0.4118 - factorized_top_k/top_50_categorical_accuracy: 1.0000 - factorized_top_k/top_100_categorical_accuracy: 1.0000 - loss: 110.4896 - regularization_loss: 0.0000e+00 - total_loss: 110.4896 - val_factorized_top_k/top_1_categorical_accuracy: 0.0550 - val_factorized_top_k/top_5_categorical_accuracy: 0.2250 - val_factorized_top_k/top_10_categorical_accuracy: 0.3450 - val_factorized_top_k/top_50_categorical_accuracy: 1.0000 - val_factorized_top_k/top_100_categorical_accuracy: 1.0000 - val_loss: 16.6524 - val_regularization_loss: 0.0000e+00 - val_total_loss: 16.6524\n",
            "Epoch 3/5\n",
            "25/25 [==============================] - 2s 61ms/step - factorized_top_k/top_1_categorical_accuracy: 0.0063 - factorized_top_k/top_5_categorical_accuracy: 0.3955 - factorized_top_k/top_10_categorical_accuracy: 0.5444 - factorized_top_k/top_50_categorical_accuracy: 1.0000 - factorized_top_k/top_100_categorical_accuracy: 1.0000 - loss: 110.3653 - regularization_loss: 0.0000e+00 - total_loss: 110.3653 - val_factorized_top_k/top_1_categorical_accuracy: 0.0850 - val_factorized_top_k/top_5_categorical_accuracy: 0.2800 - val_factorized_top_k/top_10_categorical_accuracy: 0.4100 - val_factorized_top_k/top_50_categorical_accuracy: 1.0000 - val_factorized_top_k/top_100_categorical_accuracy: 1.0000 - val_loss: 16.6655 - val_regularization_loss: 0.0000e+00 - val_total_loss: 16.6655\n",
            "Epoch 4/5\n",
            "25/25 [==============================] - 1s 57ms/step - factorized_top_k/top_1_categorical_accuracy: 0.0000e+00 - factorized_top_k/top_5_categorical_accuracy: 0.5219 - factorized_top_k/top_10_categorical_accuracy: 0.6621 - factorized_top_k/top_50_categorical_accuracy: 1.0000 - factorized_top_k/top_100_categorical_accuracy: 1.0000 - loss: 110.0021 - regularization_loss: 0.0000e+00 - total_loss: 110.0021 - val_factorized_top_k/top_1_categorical_accuracy: 0.1050 - val_factorized_top_k/top_5_categorical_accuracy: 0.3450 - val_factorized_top_k/top_10_categorical_accuracy: 0.4400 - val_factorized_top_k/top_50_categorical_accuracy: 1.0000 - val_factorized_top_k/top_100_categorical_accuracy: 1.0000 - val_loss: 16.6968 - val_regularization_loss: 0.0000e+00 - val_total_loss: 16.6968\n",
            "Epoch 5/5\n",
            "25/25 [==============================] - 1s 58ms/step - factorized_top_k/top_1_categorical_accuracy: 0.0000e+00 - factorized_top_k/top_5_categorical_accuracy: 0.5695 - factorized_top_k/top_10_categorical_accuracy: 0.7159 - factorized_top_k/top_50_categorical_accuracy: 1.0000 - factorized_top_k/top_100_categorical_accuracy: 1.0000 - loss: 108.6347 - regularization_loss: 0.0000e+00 - total_loss: 108.6347 - val_factorized_top_k/top_1_categorical_accuracy: 0.1250 - val_factorized_top_k/top_5_categorical_accuracy: 0.4000 - val_factorized_top_k/top_10_categorical_accuracy: 0.4950 - val_factorized_top_k/top_50_categorical_accuracy: 1.0000 - val_factorized_top_k/top_100_categorical_accuracy: 1.0000 - val_loss: 16.7783 - val_regularization_loss: 0.0000e+00 - val_total_loss: 16.7783\n"
          ]
        }
      ],
      "source": [
        "layer_sizes = [16]\n",
        "retrieval_model4 = get_retrieval_model(layer_sizes)\n",
        "retrieval_model4_history = retrieval_model4.fit(train_retrieval,\n",
        "                                                epochs=5,validation_data = test_retrieval)"
      ]
    },
    {
      "cell_type": "code",
      "execution_count": 24,
      "metadata": {
        "colab": {
          "base_uri": "https://localhost:8080/",
          "height": 569
        },
        "id": "lYFiXHhxsSOX",
        "outputId": "fbc4fc9e-4702-4434-eea4-688cde16389a"
      },
      "outputs": [
        {
          "data": {
            "image/png": "[encoded data removed]",
            "text/plain": [
              "<Figure size 1000x600 with 1 Axes>"
            ]
          },
          "metadata": {},
          "output_type": "display_data"
        }
      ],
      "source": [
        "epochs = range(1,6)\n",
        "\n",
        "plt.figure(figsize = (10,6))\n",
        "plt.plot(epochs,retrieval_model1_history.history[\"val_factorized_top_k/top_10_categorical_accuracy\"], label = \"32\",marker = \"o\")\n",
        "plt.plot(epochs,retrieval_model2_history.history[\"val_factorized_top_k/top_10_categorical_accuracy\"], label = \"64\",marker = \"o\")\n",
        "plt.plot(epochs,retrieval_model3_history.history[\"val_factorized_top_k/top_10_categorical_accuracy\"], label = \"32,32\",marker = \"o\")\n",
        "plt.plot(epochs,retrieval_model4_history.history[\"val_factorized_top_k/top_10_categorical_accuracy\"], label = \"16\",marker = \"o\")\n",
        "plt.title(\"Top-10 Accuracy of the Retrieval Models\")\n",
        "plt.xlabel(\"Epochs\")\n",
        "plt.ylabel(\"Top-10 Categorical Accuracy\")\n",
        "plt.legend()\n",
        "plt.show()"
      ]
    },
    {
      "cell_type": "markdown",
      "metadata": {
        "id": "g-CQDFlaDhFe"
      },
      "source": [
        "# 9. Ranking Model"
      ]
    },
    {
      "cell_type": "code",
      "execution_count": 25,
      "metadata": {
        "colab": {
          "base_uri": "https://localhost:8080/"
        },
        "id": "vqJtiZ7-aFVs",
        "outputId": "d5f7c718-70d3-480b-fa2b-5ef89be8416f"
      },
      "outputs": [
        {
          "name": "stdout",
          "output_type": "stream",
          "text": [
            "{'reviewerID': b'AO94DHGC771SJ', 'product_id': b'0528881469', 'summary': b'Gotta have GPS!', 'overall': 5.0}\n"
          ]
        }
      ],
      "source": [
        "ranking_dataset = tf.data.Dataset.from_tensor_slices({\n",
        "    \"reviewerID\": reviews[\"reviewerID\"].values,\n",
        "    \"product_id\": reviews[\"product_id\"].values,\n",
        "    \"summary\": reviews[\"summary\"].values,\n",
        "    \"overall\": reviews[\"overall\"].values\n",
        "})\n",
        "\n",
        "for i in ranking_dataset.take(1).as_numpy_iterator():\n",
        "  print(i)"
      ]
    },
    {
      "cell_type": "code",
      "execution_count": 26,
      "metadata": {
        "id": "7iOiZctmDyIv"
      },
      "outputs": [],
      "source": [
        "ranking_dataset = ranking_dataset.shuffle(len(ranking_dataset),seed = 42)\n",
        "train = ranking_dataset.take(int(len(ranking_dataset) * 0.8))\n",
        "test = ranking_dataset.skip(int(len(ranking_dataset) * 0.8)).take(int(len(ranking_dataset) * 0.2))"
      ]
    },
    {
      "cell_type": "code",
      "execution_count": 27,
      "metadata": {
        "id": "GdQ5mP-_EBE5"
      },
      "outputs": [],
      "source": [
        "class RankingModel(tf.keras.Model):\n",
        "  def __init__(self,layer_sizes):\n",
        "    super().__init__()\n",
        "\n",
        "    self.product_id_embedding = tf.keras.Sequential([\n",
        "        tf.keras.layers.StringLookup(vocabulary = unique_product_id),\n",
        "        tf.keras.layers.Embedding(len(unique_product_id) + 1, 32)\n",
        "    ])\n",
        "\n",
        "    self.user_id_summary_embedding = UserModelFFN(layer_sizes)\n",
        "\n",
        "    self.ranking_model = tf.keras.Sequential([tf.keras.layers.Dense(32,activation = \"relu\"),\n",
        "                                              tf.keras.layers.Dense(16,activation = \"relu\"),\n",
        "                                              tf.keras.layers.Dense(1)]) #output = (1,1)\n",
        "\n",
        "  def call(self,inputs):\n",
        "    return self.ranking_model(tf.concat([\n",
        "                      self.product_id_embedding(inputs[\"product_id\"]),\n",
        "                      self.user_id_summary_embedding({\"reviewerID\": inputs[\"reviewerID\"],\"summary\": inputs[\"summary\"]})],axis = 1))"
      ]
    },
    {
      "cell_type": "code",
      "execution_count": 28,
      "metadata": {
        "colab": {
          "base_uri": "https://localhost:8080/"
        },
        "id": "aSSJSWYqFe6u",
        "outputId": "116452f2-caf1-4d99-96a2-4ab853aee182"
      },
      "outputs": [
        {
          "name": "stdout",
          "output_type": "stream",
          "text": [
            "tf.Tensor([[0.05720188]], shape=(1, 1), dtype=float32)\n",
            "tf.Tensor(0.033990096, shape=(), dtype=float32)\n"
          ]
        }
      ],
      "source": [
        "layer_sizes = [32]\n",
        "print(RankingModel(layer_sizes)({\"reviewerID\": tf.constant([reviews[\"reviewerID\"][0]]),\n",
        "               \"summary\": tf.constant([reviews[\"summary\"][0]]),\n",
        "               \"product_id\": tf.constant([reviews[\"product_id\"][0]])})) # output = (1,1)\n",
        "\n",
        "print(tf.squeeze(RankingModel(layer_sizes)({\"reviewerID\": tf.constant([reviews[\"reviewerID\"][0]]),\n",
        "               \"summary\": tf.constant([reviews[\"summary\"][0]]),\n",
        "               \"product_id\": tf.constant([reviews[\"product_id\"][0]])}))) # output = ()"
      ]
    },
    {
      "cell_type": "code",
      "execution_count": 29,
      "metadata": {
        "id": "WNUNHBIeGD_S"
      },
      "outputs": [],
      "source": [
        "class AmazonRankModel(tfrs.models.Model):\n",
        "  def __init__(self,layer_sizes):\n",
        "    super().__init__()\n",
        "\n",
        "    self.ranking_model = RankingModel(layer_sizes)\n",
        "    self.task = tfrs.tasks.Ranking(loss = tf.keras.losses.MeanSquaredError(),\n",
        "                                   metrics = [tf.keras.metrics.RootMeanSquaredError()])\n",
        "\n",
        "  def call(self,inputs):\n",
        "    return tf.squeeze(self.ranking_model(inputs)) #output = ()\n",
        "\n",
        "  def compute_loss(self,inputs,training = False):\n",
        "    labels = inputs.pop(\"overall\") #output = ()\n",
        "    scores = self(inputs) #output = ()\n",
        "    return self.task(labels = labels,predictions = scores)"
      ]
    },
    {
      "cell_type": "code",
      "execution_count": 30,
      "metadata": {
        "colab": {
          "base_uri": "https://localhost:8080/"
        },
        "id": "Q5raY7pWGs_g",
        "outputId": "8610efc4-6dd3-4af4-ac80-d7f9cd01d9f4"
      },
      "outputs": [
        {
          "name": "stdout",
          "output_type": "stream",
          "text": [
            "Epoch 1/5\n",
            "25/25 [==============================] - 2s 21ms/step - root_mean_squared_error: 1.8602 - loss: 3.3822 - regularization_loss: 0.0000e+00 - total_loss: 3.3822 - val_root_mean_squared_error: 1.0420 - val_loss: 2.1598 - val_regularization_loss: 0.0000e+00 - val_total_loss: 2.1598\n",
            "Epoch 2/5\n",
            "25/25 [==============================] - 0s 4ms/step - root_mean_squared_error: 1.0276 - loss: 1.0349 - regularization_loss: 0.0000e+00 - total_loss: 1.0349 - val_root_mean_squared_error: 0.6664 - val_loss: 0.3413 - val_regularization_loss: 0.0000e+00 - val_total_loss: 0.3413\n",
            "Epoch 3/5\n",
            "25/25 [==============================] - 0s 4ms/step - root_mean_squared_error: 0.6006 - loss: 0.3681 - regularization_loss: 0.0000e+00 - total_loss: 0.3681 - val_root_mean_squared_error: 0.3681 - val_loss: 0.0861 - val_regularization_loss: 0.0000e+00 - val_total_loss: 0.0861\n",
            "Epoch 4/5\n",
            "25/25 [==============================] - 0s 4ms/step - root_mean_squared_error: 0.4187 - loss: 0.1731 - regularization_loss: 0.0000e+00 - total_loss: 0.1731 - val_root_mean_squared_error: 0.2593 - val_loss: 0.0648 - val_regularization_loss: 0.0000e+00 - val_total_loss: 0.0648\n",
            "Epoch 5/5\n",
            "25/25 [==============================] - 0s 4ms/step - root_mean_squared_error: 0.2515 - loss: 0.0630 - regularization_loss: 0.0000e+00 - total_loss: 0.0630 - val_root_mean_squared_error: 0.2786 - val_loss: 0.1188 - val_regularization_loss: 0.0000e+00 - val_total_loss: 0.1188\n"
          ]
        }
      ],
      "source": [
        "layer_sizes = [32]\n",
        "rank_model1 = AmazonRankModel(layer_sizes)\n",
        "rank_model1.compile(optimizer = tf.keras.optimizers.Adagrad(0.1))\n",
        "rank_model_history1 = rank_model1.fit(train.batch(32),epochs = 5,validation_data = test.batch(32))"
      ]
    },
    {
      "cell_type": "code",
      "execution_count": 31,
      "metadata": {
        "colab": {
          "base_uri": "https://localhost:8080/"
        },
        "id": "P6oqzk22Gypg",
        "outputId": "8bab790a-6e2c-4539-b48e-93662a4e8a57"
      },
      "outputs": [
        {
          "name": "stdout",
          "output_type": "stream",
          "text": [
            "Epoch 1/5\n",
            "25/25 [==============================] - 2s 20ms/step - root_mean_squared_error: 1.9745 - loss: 3.8014 - regularization_loss: 0.0000e+00 - total_loss: 3.8014 - val_root_mean_squared_error: 1.0886 - val_loss: 0.3482 - val_regularization_loss: 0.0000e+00 - val_total_loss: 0.3482\n",
            "Epoch 2/5\n",
            "25/25 [==============================] - 0s 4ms/step - root_mean_squared_error: 1.0857 - loss: 1.1683 - regularization_loss: 0.0000e+00 - total_loss: 1.1683 - val_root_mean_squared_error: 0.6955 - val_loss: 0.2667 - val_regularization_loss: 0.0000e+00 - val_total_loss: 0.2667\n",
            "Epoch 3/5\n",
            "25/25 [==============================] - 0s 4ms/step - root_mean_squared_error: 0.6162 - loss: 0.3826 - regularization_loss: 0.0000e+00 - total_loss: 0.3826 - val_root_mean_squared_error: 0.5214 - val_loss: 0.0828 - val_regularization_loss: 0.0000e+00 - val_total_loss: 0.0828\n",
            "Epoch 4/5\n",
            "25/25 [==============================] - 0s 4ms/step - root_mean_squared_error: 0.4148 - loss: 0.1743 - regularization_loss: 0.0000e+00 - total_loss: 0.1743 - val_root_mean_squared_error: 0.2588 - val_loss: 0.0488 - val_regularization_loss: 0.0000e+00 - val_total_loss: 0.0488\n",
            "Epoch 5/5\n",
            "25/25 [==============================] - 0s 4ms/step - root_mean_squared_error: 0.3196 - loss: 0.0996 - regularization_loss: 0.0000e+00 - total_loss: 0.0996 - val_root_mean_squared_error: 0.1719 - val_loss: 0.0817 - val_regularization_loss: 0.0000e+00 - val_total_loss: 0.0817\n"
          ]
        }
      ],
      "source": [
        "layer_sizes = [64]\n",
        "rank_model2 = AmazonRankModel(layer_sizes)\n",
        "rank_model2.compile(optimizer = tf.keras.optimizers.Adagrad(0.1))\n",
        "rank_model_history2 = rank_model2.fit(train.batch(32),epochs = 5,validation_data = test.batch(32))"
      ]
    },
    {
      "cell_type": "code",
      "execution_count": 32,
      "metadata": {
        "colab": {
          "base_uri": "https://localhost:8080/"
        },
        "id": "_iPacvOkQltB",
        "outputId": "1fbe4024-f04b-47fc-a4f5-b0f01f4e30f6"
      },
      "outputs": [
        {
          "name": "stdout",
          "output_type": "stream",
          "text": [
            "Epoch 1/5\n",
            "25/25 [==============================] - 2s 20ms/step - root_mean_squared_error: 2.0219 - loss: 4.0073 - regularization_loss: 0.0000e+00 - total_loss: 4.0073 - val_root_mean_squared_error: 1.2955 - val_loss: 2.7390 - val_regularization_loss: 0.0000e+00 - val_total_loss: 2.7390\n",
            "Epoch 2/5\n",
            "25/25 [==============================] - 0s 6ms/step - root_mean_squared_error: 1.1478 - loss: 1.3167 - regularization_loss: 0.0000e+00 - total_loss: 1.3167 - val_root_mean_squared_error: 0.8661 - val_loss: 0.4268 - val_regularization_loss: 0.0000e+00 - val_total_loss: 0.4268\n",
            "Epoch 3/5\n",
            "25/25 [==============================] - 0s 4ms/step - root_mean_squared_error: 0.9233 - loss: 0.8393 - regularization_loss: 0.0000e+00 - total_loss: 0.8393 - val_root_mean_squared_error: 0.6322 - val_loss: 0.2619 - val_regularization_loss: 0.0000e+00 - val_total_loss: 0.2619\n",
            "Epoch 4/5\n",
            "25/25 [==============================] - 0s 5ms/step - root_mean_squared_error: 0.5703 - loss: 0.3361 - regularization_loss: 0.0000e+00 - total_loss: 0.3361 - val_root_mean_squared_error: 0.6269 - val_loss: 0.6310 - val_regularization_loss: 0.0000e+00 - val_total_loss: 0.6310\n",
            "Epoch 5/5\n",
            "25/25 [==============================] - 0s 4ms/step - root_mean_squared_error: 0.3561 - loss: 0.1261 - regularization_loss: 0.0000e+00 - total_loss: 0.1261 - val_root_mean_squared_error: 0.3528 - val_loss: 0.2445 - val_regularization_loss: 0.0000e+00 - val_total_loss: 0.2445\n"
          ]
        }
      ],
      "source": [
        "layer_sizes = [32,32]\n",
        "rank_model3 = AmazonRankModel(layer_sizes)\n",
        "rank_model3.compile(optimizer = tf.keras.optimizers.Adagrad(0.1))\n",
        "rank_model_history3 = rank_model3.fit(train.batch(32),epochs = 5,validation_data = test.batch(32))"
      ]
    },
    {
      "cell_type": "code",
      "execution_count": 33,
      "metadata": {
        "colab": {
          "base_uri": "https://localhost:8080/"
        },
        "id": "VFmDUfRnQq_s",
        "outputId": "39e88403-0735-44e4-d052-b2acbb8766f3"
      },
      "outputs": [
        {
          "name": "stdout",
          "output_type": "stream",
          "text": [
            "Epoch 1/5\n",
            "25/25 [==============================] - 3s 29ms/step - root_mean_squared_error: 1.8260 - loss: 3.2510 - regularization_loss: 0.0000e+00 - total_loss: 3.2510 - val_root_mean_squared_error: 1.1015 - val_loss: 0.4930 - val_regularization_loss: 0.0000e+00 - val_total_loss: 0.4930\n",
            "Epoch 2/5\n",
            "25/25 [==============================] - 0s 8ms/step - root_mean_squared_error: 1.0234 - loss: 1.0409 - regularization_loss: 0.0000e+00 - total_loss: 1.0409 - val_root_mean_squared_error: 0.6516 - val_loss: 0.4123 - val_regularization_loss: 0.0000e+00 - val_total_loss: 0.4123\n",
            "Epoch 3/5\n",
            "25/25 [==============================] - 0s 4ms/step - root_mean_squared_error: 0.7134 - loss: 0.5219 - regularization_loss: 0.0000e+00 - total_loss: 0.5219 - val_root_mean_squared_error: 0.7558 - val_loss: 0.4676 - val_regularization_loss: 0.0000e+00 - val_total_loss: 0.4676\n",
            "Epoch 4/5\n",
            "25/25 [==============================] - 0s 4ms/step - root_mean_squared_error: 0.5355 - loss: 0.2838 - regularization_loss: 0.0000e+00 - total_loss: 0.2838 - val_root_mean_squared_error: 0.3585 - val_loss: 0.0826 - val_regularization_loss: 0.0000e+00 - val_total_loss: 0.0826\n",
            "Epoch 5/5\n",
            "25/25 [==============================] - 0s 4ms/step - root_mean_squared_error: 0.3841 - loss: 0.1477 - regularization_loss: 0.0000e+00 - total_loss: 0.1477 - val_root_mean_squared_error: 0.2528 - val_loss: 0.0382 - val_regularization_loss: 0.0000e+00 - val_total_loss: 0.0382\n"
          ]
        }
      ],
      "source": [
        "layer_sizes = [16]\n",
        "rank_model4 = AmazonRankModel(layer_sizes)\n",
        "rank_model4.compile(optimizer = tf.keras.optimizers.Adagrad(0.1))\n",
        "rank_model_history4 = rank_model4.fit(train.batch(32),epochs = 5,validation_data = test.batch(32))"
      ]
    },
    {
      "cell_type": "code",
      "execution_count": 36,
      "metadata": {
        "colab": {
          "base_uri": "https://localhost:8080/",
          "height": 569
        },
        "id": "nzgAzQDKQxc1",
        "outputId": "5aa458c2-6808-4f28-cba1-e52387b910a0"
      },
      "outputs": [
        {
          "data": {
            "image/png": "[encoded data removed]",
            "text/plain": [
              "<Figure size 1000x600 with 1 Axes>"
            ]
          },
          "metadata": {},
          "output_type": "display_data"
        }
      ],
      "source": [
        "epochs = range(1,6)\n",
        "\n",
        "plt.figure(figsize = (10,6))\n",
        "plt.plot(epochs,rank_model_history1.history[\"val_root_mean_squared_error\"], label = \"32\",marker = \"o\")\n",
        "plt.plot(epochs,rank_model_history2.history[\"val_root_mean_squared_error\"], label = \"64\",marker = \"o\")\n",
        "plt.plot(epochs,rank_model_history3.history[\"val_root_mean_squared_error\"], label = \"32,32\",marker = \"o\")\n",
        "plt.plot(epochs,rank_model_history4.history[\"val_root_mean_squared_error\"], label = \"16\",marker = \"o\")\n",
        "plt.title(\"RMSE of the Rank Models\")\n",
        "plt.xlabel(\"Epochs\")\n",
        "plt.ylabel(\"RMSE\")\n",
        "plt.legend()\n",
        "plt.show()"
      ]
    }
  ],
  "metadata": {
    "colab": {
      "provenance": []
    },
    "kernelspec": {
      "display_name": "Python 3",
      "name": "python3"
    },
    "language_info": {
      "name": "python"
    }
  },
  "nbformat": 4,
  "nbformat_minor": 0
}
