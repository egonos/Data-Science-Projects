{
 "cells": [
  {
   "cell_type": "markdown",
   "metadata": {
    "id": "8SJAjVDFMPa5"
   },
   "source": [
    "# Introduction\n",
    "\n",
    "Statistics is at the core of data science. Unfortunately, our knowledge of statistics is not where it should be. We are generally eager to try new state-of-the-art models. How could we not be? They look fancy, their performance is impressive, and, depending on the model, most data preprocessing steps are handled automatically. However, as these models advance, our control over the data decreases in two ways.\n",
    "\n",
    "* First, even if we don't understand the data, these models work perfectly. Therefore, we assume we understand what is going on, but this is far from the truth.\n",
    "\n",
    "* Second, we struggle to interpret the data. It is more convincing to show a regression line to a boss than to present an `XGBoost` tree.\n",
    "\n",
    "As I progress in my data science career, I realized that if I want to be a good data scientist, I should master the fundamentals rather than always following trends. That was when I started learning statistics. This notebook is prepared from my notes and I have the following references:\n",
    "\n",
    "\n",
    "1. Introduction to Modern Statistics ([Link](https://openintro-ims.netlify.app/))\n",
    "\n",
    "2. Understanding Statistics and Experimental Design: How to Not Lie with Statistics ([Link](https://www.amazon.com.tr/Understanding-Statistics-Experimental-Design-Biosciences/dp/3030034984))\n",
    "\n",
    "3. MarinStatsLectures-R Programming & Statistics ([Link](https://www.youtube.com/@marinstatlectures))\n",
    "\n",
    "\n",
    "4. The Art of Statistics: Learning from Data ([Link](https://www.amazon.com.tr/Learning-Data-Statistics-David-Spiegelhalter/dp/0241258766))\n",
    "\n",
    "\n",
    "5. Statistics for Business & Economics ([Link](https://www.amazon.com/Statistics-Business-Economics-David-Anderson/dp/1337901067))\n",
    "\n",
    "6. Computer Age Statistical Inference: Algorithms, Evidence, and Data Science ([Link](https://www.amazon.com/Computer-Age-Statistical-Inference-Mathematical/dp/1107149894))\n",
    "\n",
    "I hope readers find this notebook useful and educational."
   ]
  },
  {
   "cell_type": "code",
   "execution_count": 1,
   "metadata": {
    "id": "MWDafpqERFbv"
   },
   "outputs": [],
   "source": [
    "import numpy as np\n",
    "import matplotlib.pyplot as plt\n",
    "\n",
    "plt.style.use('ggplot')\n",
    "\n",
    "import pandas as pd\n",
    "import seaborn as sns\n",
    "import scipy.stats as stats\n",
    "import statsmodels.api as sm\n",
    "from statsmodels.formula.api import ols\n",
    "from statsmodels.stats.anova import anova_lm\n",
    "from sklearn.datasets import make_classification"
   ]
  },
  {
   "cell_type": "markdown",
   "metadata": {
    "id": "Fi6zsarMll8q"
   },
   "source": [
    "# 1.Sampling\n",
    "\n",
    "In statistics, we are interested in certain population statistics. However, to obtain these population statistics, we need data from the entire population. Often, this is not feasible. This is where sampling comes into play. If the sample has similar characteristics to the population, a sample statistic can represent the population statistic within a margin of error.\n",
    "\n",
    "There are many sampling techniques. I will show a few among those:"
   ]
  },
  {
   "cell_type": "markdown",
   "metadata": {
    "id": "aVMOEJwxwPIc"
   },
   "source": [
    "## 1.1. Random Sampling\n",
    "\n",
    "Random sampling refers to gathering data points from the population randomly. Most of the time, it is the best way to ensure that the sample appropriately represents the population."
   ]
  },
  {
   "cell_type": "code",
   "execution_count": 2,
   "metadata": {
    "colab": {
     "base_uri": "https://localhost:8080/"
    },
    "id": "3UvBTByWwKji",
    "outputId": "1e6e1ba3-2647-4b6a-e5a4-405a21dcb223"
   },
   "outputs": [
    {
     "data": {
      "text/plain": [
       "array([80,  0, 17, 53, 41, 22, 61, 38, 67, 36,  3, 77,  9, 51, 31, 54, 83,\n",
       "       25, 17, 63, 22, 55, 77, 13, 69, 42, 94, 53, 38, 34, 59, 50, 16, 99,\n",
       "       36, 86, 50, 95,  1, 97, 25, 47, 81, 48, 67, 38, 53, 54, 41, 33, 45,\n",
       "       16, 47,  9, 60,  4, 81, 31, 51, 38, 78, 81, 98, 47, 61, 91, 51, 20,\n",
       "       29,  4, 86, 29,  0, 68,  8, 25, 20, 21,  1, 65, 53, 51, 57, 22, 39,\n",
       "        2, 92, 33,  9, 30, 34,  2, 62, 87, 36, 92, 97, 56, 29, 85])"
      ]
     },
     "execution_count": 2,
     "metadata": {},
     "output_type": "execute_result"
    }
   ],
   "source": [
    "population = np.random.randint(0,100,1000)\n",
    "sample = np.random.choice(population,size = 100)\n",
    "sample"
   ]
  },
  {
   "cell_type": "markdown",
   "metadata": {
    "id": "YqJegG3BwnuX"
   },
   "source": [
    "## 1.2. Stratified Sampling\n",
    "\n",
    "Stratified sampling is extremely useful when the population is imbalanced. In such cases, if we sample randomly, there is a high chance that minority groups will be underrepresented. Therefore, we divide the population into subcategories and randomly sample from each of them."
   ]
  },
  {
   "cell_type": "code",
   "execution_count": 3,
   "metadata": {
    "colab": {
     "base_uri": "https://localhost:8080/"
    },
    "id": "vsl7DUufxELH",
    "outputId": "6e06c3c6-574b-48e7-cb98-f0fd11c818b8"
   },
   "outputs": [
    {
     "data": {
      "text/plain": [
       "array([0, 0, 0, 0, 0, 0, 0, 0, 0, 0, 0, 0, 0, 0, 0, 0, 0, 0, 0, 0, 0, 0,\n",
       "       0, 0, 0, 0, 0, 0, 0, 0, 0, 0, 0, 0, 0, 0, 0, 0, 0, 0, 0, 0, 0, 0,\n",
       "       0, 0, 0, 0, 0, 0, 0, 0, 0, 0, 0, 0, 0, 0, 0, 0, 0, 0, 0, 0, 0, 0,\n",
       "       0, 0, 0, 0, 0, 0, 0, 0, 0, 0, 0, 0, 0, 0, 0, 0, 0, 0, 0, 0, 0, 0,\n",
       "       1, 1, 1, 1, 1, 1, 1, 1, 1, 1, 1])"
      ]
     },
     "execution_count": 3,
     "metadata": {},
     "output_type": "execute_result"
    }
   ],
   "source": [
    "np.random.seed(42)\n",
    "population = np.array(100*[1] + 900*[0])\n",
    "np.random.shuffle(population)\n",
    "\n",
    "ones = population[np.where(population == 1)]\n",
    "zeros = population[np.where(population == 0)]\n",
    "proportion = len(ones) / len(zeros)\n",
    "sample_size = 100\n",
    "\n",
    "sample1 = np.random.choice(ones,size = int(proportion*sample_size))\n",
    "sample0 = np.random.choice(zeros,size = int((1-proportion)*sample_size))\n",
    "sample = np.concatenate((sample0,sample1))\n",
    "sample"
   ]
  },
  {
   "cell_type": "markdown",
   "metadata": {
    "id": "X0gJjAkTzvYb"
   },
   "source": [
    "## 1.3. Cluster Sampling\n",
    "\n",
    "Cluster sampling is useful when the population is very large. We divide the population into clusters based on a specific attribute, select clusters randomly, and use all the samples within these clusters to represent the population."
   ]
  },
  {
   "cell_type": "code",
   "execution_count": 4,
   "metadata": {
    "colab": {
     "base_uri": "https://localhost:8080/"
    },
    "id": "FrBav-19xESi",
    "outputId": "ed6b6fdd-67a9-4464-e592-6dabab431d62"
   },
   "outputs": [
    {
     "data": {
      "text/plain": [
       "array([25, 88, 59, 40, 28, 14, 44, 64, 88, 70,  8, 87,  0,  7, 87, 62, 10,\n",
       "       80,  7, 34, 34, 32,  4, 40, 27,  6, 72, 71, 11, 33, 32, 47, 22, 61,\n",
       "       87, 36, 98, 43, 85, 90, 34, 64, 98, 46, 77,  2,  0,  4, 89, 13, 26,\n",
       "        8, 78, 14, 89, 41, 76, 50, 62, 95, 51, 95,  3, 93, 22, 14, 42, 28,\n",
       "       35, 12, 31, 70, 58, 85, 27, 65, 41, 44, 61, 56,  5, 27, 27, 43, 83,\n",
       "       29, 61, 74, 91, 88, 61, 96,  0, 26, 61, 76,  2, 69, 71, 26,  8, 61,\n",
       "       36, 96, 50, 43, 23, 78, 58, 31, 95, 87, 51, 61, 57, 51, 11, 38,  1,\n",
       "        2, 55, 80, 58,  1,  1, 91, 53, 86, 95, 96,  0, 18,  1, 52, 43, 89,\n",
       "       31, 69, 31, 67, 54, 74, 55, 16, 37, 23, 68, 97, 69, 85, 10, 15, 96,\n",
       "       72, 58, 69, 79, 92,  2, 19, 58, 35, 18, 89, 66, 18, 19, 95, 70, 51,\n",
       "       32, 39, 38, 81,  0, 10, 91, 56, 88, 49, 22, 30, 93, 41, 98,  6, 15,\n",
       "       89, 59,  1,  0, 47, 11, 68, 36, 31,  8, 98, 18, 47, 51, 92, 14, 71,\n",
       "       60, 20, 82, 86, 74, 74, 87, 99, 23,  2, 21, 52,  1, 87, 29, 37,  1,\n",
       "       63, 59, 20, 32, 75, 57, 21, 88, 48, 90, 58, 41, 91, 59, 79, 14, 61,\n",
       "       61, 46, 61, 50, 54, 63,  2, 50,  6, 20, 72, 38, 17,  3, 88, 59, 13,\n",
       "        8, 89, 52,  1, 83, 91, 59, 70, 43,  7, 46, 34, 77, 80, 35, 49,  3,\n",
       "        1,  5, 53,  3, 53, 92, 62, 17, 89, 43, 33, 73, 61, 99, 13, 94, 47,\n",
       "       14, 71, 77, 86, 61, 39, 84, 79, 81, 52, 23])"
      ]
     },
     "execution_count": 4,
     "metadata": {},
     "output_type": "execute_result"
    }
   ],
   "source": [
    "np.random.seed(42)\n",
    "\n",
    "data = {\n",
    "    'Adana': np.random.randint(0,100,100),\n",
    "    'İstanbul': np.random.randint(0,100,100),\n",
    "    'Ankara': np.random.randint(0,100,100),\n",
    "    'Antakya': np.random.randint(0,100,100),\n",
    "    'Malatya': np.random.randint(0,100,100),\n",
    "    'Yozgat': np.random.randint(0,100,100),\n",
    "}\n",
    "\n",
    "clusters = 3\n",
    "\n",
    "random_clusters = np.random.choice(list(data.keys()), size = 3, replace = False)\n",
    "sample = np.array([data[random_cluster] for random_cluster in random_clusters]).ravel()\n",
    "sample"
   ]
  },
  {
   "cell_type": "markdown",
   "metadata": {
    "id": "T1ybOM1qWgPG"
   },
   "source": [
    "## 1.4. Getting More Out of a Sample: Bootstrap Sampling\n",
    "\n",
    "Sampling repeatedly from a population is often neither cheap nor convenient. Fortunately, we can get more out of a single sample by applying bootstrap sampling.\n",
    "\n",
    "Bootstrap sampling refers to sampling randomly $n$ data points from a sample having $n$ data points *with replacement*. It is extremely useful to measure the variability of a point estimate because when we simulate enough number of bootstrap simulations Central Limit Theorem (CLT) kicks in and we obtain a normal distribution. Let's see an example:"
   ]
  },
  {
   "cell_type": "code",
   "execution_count": 5,
   "metadata": {
    "colab": {
     "base_uri": "https://localhost:8080/",
     "height": 469
    },
    "id": "To_nRJDcjbrL",
    "outputId": "16998dd9-d971-4027-91f3-9dc3967f8c83"
   },
   "outputs": [
    {
     "data": {
      "image/png": "[encoded data removed]",
      "text/plain": [
       "<Figure size 1000x500 with 2 Axes>"
      ]
     },
     "metadata": {},
     "output_type": "display_data"
    }
   ],
   "source": [
    "sample = stats.expon.rvs(size = 1000,random_state = 42)\n",
    "boots = stats.bootstrap((sample,),statistic = np.mean,random_state = 42)\n",
    "fig,ax = plt.subplots(1,2,figsize = (10,5))\n",
    "ax[0].hist(sample,edgecolor = \"white\")\n",
    "ax[0].set_title(\"Original Sample\",loc = 'left')\n",
    "ax[1].hist(boots.bootstrap_distribution,edgecolor = \"white\")\n",
    "ax[1].set_title(\"Bootstrap Sample Mean Distribution\",loc = 'left')\n",
    "fig.show()"
   ]
  },
  {
   "cell_type": "markdown",
   "metadata": {
    "id": "WTFcrWeK3cTr"
   },
   "source": [
    "There are a couple of ways to obtain a confidence interval from the bootstrap distribution.\n",
    "\n",
    "The first one is using means and standard deviations. As you may remember from the statistics class 95% of the area under a normal distribution lies between approximetely two standard deviations away from the mean:\n",
    "\n",
    "$CI_{boot} = \\mu_{boot} \\pm z^{\\star} × \\sigma_{boot}$"
   ]
  },
  {
   "cell_type": "code",
   "execution_count": 6,
   "metadata": {
    "colab": {
     "base_uri": "https://localhost:8080/"
    },
    "id": "0XnU9-XvkCz8",
    "outputId": "0b57b986-c353-49f9-b677-e51605a8e2ad"
   },
   "outputs": [
    {
     "data": {
      "text/plain": [
       "(0.9125624592020178, 1.0325836036024476)"
      ]
     },
     "execution_count": 6,
     "metadata": {},
     "output_type": "execute_result"
    }
   ],
   "source": [
    "dist = boots.bootstrap_distribution.copy()\n",
    "mu = dist.mean()\n",
    "sigma = dist.std()\n",
    "ci95 = (mu-1.96*sigma,mu+1.96*sigma)\n",
    "ci95"
   ]
  },
  {
   "cell_type": "markdown",
   "metadata": {
    "id": "7mDA9zdi5E4j"
   },
   "source": [
    "we can also use percentiles for the same purpose."
   ]
  },
  {
   "cell_type": "code",
   "execution_count": 7,
   "metadata": {
    "colab": {
     "base_uri": "https://localhost:8080/"
    },
    "id": "pTEY8HHs5Eak",
    "outputId": "27b631c5-6458-434c-98da-fd287f8164b8"
   },
   "outputs": [
    {
     "data": {
      "text/plain": [
       "(0.9119063572938082, 1.0327692341229757)"
      ]
     },
     "execution_count": 7,
     "metadata": {},
     "output_type": "execute_result"
    }
   ],
   "source": [
    "ci95_percentile = (np.percentile(dist,2.5),np.percentile(dist,97.5))\n",
    "ci95_percentile"
   ]
  },
  {
   "cell_type": "markdown",
   "metadata": {
    "id": "g0O7pkuY5X2w"
   },
   "source": [
    "We can also use *bias-corrected and accelerated bootstrap confidence interval* which is supported by bootstrap function:"
   ]
  },
  {
   "cell_type": "code",
   "execution_count": 8,
   "metadata": {
    "colab": {
     "base_uri": "https://localhost:8080/"
    },
    "id": "iV0m_VEh5wOV",
    "outputId": "26e1ddf3-710d-4360-db6d-633919392fd9"
   },
   "outputs": [
    {
     "data": {
      "text/plain": [
       "ConfidenceInterval(low=0.9140462104451859, high=1.0343993438651762)"
      ]
     },
     "execution_count": 8,
     "metadata": {},
     "output_type": "execute_result"
    }
   ],
   "source": [
    "ci_bca = boots.confidence_interval\n",
    "ci_bca"
   ]
  },
  {
   "cell_type": "markdown",
   "metadata": {
    "id": "7hXI2QXFbCFz"
   },
   "source": [
    "# 2.Statistical Inference for a Single Population\n",
    "\n",
    "When making inferences about a population parameter, such as the mean, we can use **bootstrapping** to generate confidence intervals. Let's start with an example:\n",
    "\n",
    "We are interested in the mean of a certain population, but due to financial constraints, we were able to collect only 30 data points."
   ]
  },
  {
   "cell_type": "markdown",
   "metadata": {
    "id": "PCxVD5YsY0to"
   },
   "source": [
    "## 2.1. Statistical Inference Using Bootstrap Sampling"
   ]
  },
  {
   "cell_type": "markdown",
   "metadata": {
    "id": "5BdNfniAfXoR"
   },
   "source": [
    "### 2.1.1. Bootstrap Sampling on Continuous Random Variables"
   ]
  },
  {
   "cell_type": "code",
   "execution_count": 9,
   "metadata": {
    "colab": {
     "base_uri": "https://localhost:8080/"
    },
    "id": "H29DmMEKhCCP",
    "outputId": "2c73160b-05ac-48c4-cf20-c1e5b95e4da2"
   },
   "outputs": [
    {
     "data": {
      "text/plain": [
       "39.166666666666664"
      ]
     },
     "execution_count": 9,
     "metadata": {},
     "output_type": "execute_result"
    }
   ],
   "source": [
    "np.random.seed(42)\n",
    "population = np.concatenate((np.random.randint(0,100,10000),\n",
    "                             np.random.randint(0,30,10000)))\n",
    "sample = np.random.choice(population,size = 30)\n",
    "sample_mean = np.mean(sample)\n",
    "sample_mean"
   ]
  },
  {
   "cell_type": "markdown",
   "metadata": {
    "id": "JnnLS9iH8v9U"
   },
   "source": [
    "The sample mean is 39.16. Should we assume that the sample mean is the same as the population mean? We can do better than this.\n",
    "\n",
    "Instead of assuming that the sample represents the population *perfectly*, we will use bootstrap sampling to provide our estimate as a range rather than a single point estimate.\n"
   ]
  },
  {
   "cell_type": "code",
   "execution_count": 10,
   "metadata": {
    "colab": {
     "base_uri": "https://localhost:8080/"
    },
    "id": "WSky-20d9Kul",
    "outputId": "bf945693-41b6-40fc-aec1-ea0ea07c2d30"
   },
   "outputs": [
    {
     "data": {
      "text/plain": [
       "ConfidenceInterval(low=29.033333333333335, high=50.93333333333333)"
      ]
     },
     "execution_count": 10,
     "metadata": {},
     "output_type": "execute_result"
    }
   ],
   "source": [
    "boots = stats.bootstrap((sample,),statistic = np.mean,random_state = 42)\n",
    "boots.confidence_interval"
   ]
  },
  {
   "cell_type": "markdown",
   "metadata": {
    "id": "RlRPVavLXGop"
   },
   "source": [
    "So we are 95% confident that true population statistic (mean in this case) lies between 29 and 50.9. Let's reveal the truth and see whether this inference is true:"
   ]
  },
  {
   "cell_type": "code",
   "execution_count": 11,
   "metadata": {
    "colab": {
     "base_uri": "https://localhost:8080/"
    },
    "id": "76J5Uaoi9K2d",
    "outputId": "051aee10-b962-46ab-aef0-0794e32a4b05"
   },
   "outputs": [
    {
     "data": {
      "text/plain": [
       "31.9652"
      ]
     },
     "execution_count": 11,
     "metadata": {},
     "output_type": "execute_result"
    }
   ],
   "source": [
    "population.mean()"
   ]
  },
  {
   "cell_type": "markdown",
   "metadata": {
    "id": "sF5b-fYIXw6Z"
   },
   "source": [
    "Much better. This experiment shows the logic of frequentist statistic. Frequentists acknowledge the variability when a certain task is repeated many times. Therefore they make their inferences considering this fact."
   ]
  },
  {
   "cell_type": "markdown",
   "metadata": {
    "id": "Mo2dzOSzfRIW"
   },
   "source": [
    "### 2.1.2. Bootstrap Sampling on Proportions\n",
    "\n",
    "We can apply the same procedure on proportions. Let's say we have a sample consisting of a sequence of Bernoulli trials. We want to make inferences about the population proportion."
   ]
  },
  {
   "cell_type": "code",
   "execution_count": 12,
   "metadata": {
    "colab": {
     "base_uri": "https://localhost:8080/",
     "height": 470
    },
    "id": "UGGzjOqUfngi",
    "outputId": "2a56e102-1bd4-47f9-8a96-2dd3095edbbb"
   },
   "outputs": [
    {
     "name": "stdout",
     "output_type": "stream",
     "text": [
      "ConfidenceInterval(low=0.38, high=0.66)\n"
     ]
    },
    {
     "data": {
      "image/png": "[encoded data removed]",
      "text/plain": [
       "<Figure size 640x480 with 1 Axes>"
      ]
     },
     "metadata": {},
     "output_type": "display_data"
    }
   ],
   "source": [
    "np.random.seed(42)\n",
    "population = stats.bernoulli.rvs(p = 0.5,size = 1000, random_state = 42)\n",
    "sample = np.random.choice(population,size = 50)\n",
    "\n",
    "boots = stats.bootstrap((sample,),statistic = np.mean,random_state = 42)\n",
    "print(boots.confidence_interval)\n",
    "plt.figure()\n",
    "plt.hist(boots.bootstrap_distribution,edgecolor = 'white',bins = 10)\n",
    "plt.axvline(x = boots.confidence_interval.low, color = 'grey', alpha = 0.4,linestyle = \"--\")\n",
    "plt.axvline(x = boots.confidence_interval.high, color = 'grey', alpha = 0.4,linestyle = \"--\")\n",
    "plt.title(\"Bootstrap Distribution\")\n",
    "plt.show()"
   ]
  },
  {
   "cell_type": "markdown",
   "metadata": {
    "id": "tlx0wU_Fgzat"
   },
   "source": [
    "From the bootstrap simulation, we can conclude that the true population parameter is 95% likely to be in $(0.38,0.66)$ range. Let's reveal the truth:"
   ]
  },
  {
   "cell_type": "code",
   "execution_count": 13,
   "metadata": {
    "colab": {
     "base_uri": "https://localhost:8080/"
    },
    "id": "lnqh8UCOhPWj",
    "outputId": "bfb12298-1774-4f56-f3b6-ee8a6f63de8a"
   },
   "outputs": [
    {
     "data": {
      "text/plain": [
       "0.497"
      ]
     },
     "execution_count": 13,
     "metadata": {},
     "output_type": "execute_result"
    }
   ],
   "source": [
    "population.mean()"
   ]
  },
  {
   "cell_type": "markdown",
   "metadata": {
    "id": "voEp3YXYhhcX"
   },
   "source": [
    "## 2.2. Statistical Inference With Analytical Methods"
   ]
  },
  {
   "cell_type": "markdown",
   "metadata": {
    "id": "4PsgDevEhk7m"
   },
   "source": [
    "### 2.2.1. Normal Assumption on Proportions"
   ]
  },
  {
   "cell_type": "markdown",
   "metadata": {
    "id": "1FpGGsj_Y8uE"
   },
   "source": [
    "Let's continue with the last example. This time we will calculate the confidence intervals using Gaussian assumption.\n",
    "\n",
    "In this case, if sucess (1) and failure (0) conditions both have at least 10 data points (the more the better), then we can assume that the distribution is *approximetely* normal. We can use the following terms:\n",
    "\n",
    "Standard error:\n",
    "\n",
    "$SE = \\sqrt{\\frac{{\\hat{p} \\times (1 - \\hat{p})}}{n}}$ where $\\hat{p}$ refers to the sample proportion.\n",
    "\n",
    "Error margin:\n",
    "\n",
    "$EM = z^{\\star} \\times \\sqrt{\\frac{{\\hat{p} \\times (1 - \\hat{p})}}{n}}$\n",
    "\n",
    "where $z^{\\star}$ refers to the desired confidence level.\n",
    "\n",
    "Ex:\n",
    "\n",
    "$CI_{95}$: $z^{\\star} = 1.96$\n"
   ]
  },
  {
   "cell_type": "code",
   "execution_count": 14,
   "metadata": {
    "colab": {
     "base_uri": "https://localhost:8080/"
    },
    "id": "vwVIkOWw9K5Z",
    "outputId": "9d06c74f-227e-41a8-b20c-dc3480c10a80"
   },
   "outputs": [
    {
     "data": {
      "text/plain": [
       "(array([0, 1]), array([24, 26]))"
      ]
     },
     "execution_count": 14,
     "metadata": {},
     "output_type": "execute_result"
    }
   ],
   "source": [
    "np.random.seed(42)\n",
    "population = stats.bernoulli.rvs(p = 0.5,size = 1000, random_state = 42)\n",
    "sample = np.random.choice(population,size = 50)\n",
    "\n",
    "np.unique(sample,return_counts = True)"
   ]
  },
  {
   "cell_type": "markdown",
   "metadata": {
    "id": "WJNxiLk8bfIB"
   },
   "source": [
    "Perfect! Since we have more than 10 data points for each group we can assume that the distribution is approximetely normal."
   ]
  },
  {
   "cell_type": "code",
   "execution_count": 15,
   "metadata": {
    "colab": {
     "base_uri": "https://localhost:8080/"
    },
    "id": "3jUcAEbcbvo9",
    "outputId": "f4b51d7a-db8c-4ee7-997a-38db5cbebc88"
   },
   "outputs": [
    {
     "data": {
      "text/plain": [
       "(0.3815179896159794, 0.6584820103840207)"
      ]
     },
     "execution_count": 15,
     "metadata": {},
     "output_type": "execute_result"
    }
   ],
   "source": [
    "z = 1.96\n",
    "\n",
    "sample_proportion = sample.mean()\n",
    "se = np.sqrt(sample_proportion * (1 - sample_proportion) / len(sample))\n",
    "ci = (sample_proportion - z * se, sample_proportion + z * se)\n",
    "ci"
   ]
  },
  {
   "cell_type": "markdown",
   "metadata": {
    "id": "W6pBkZDGh9zU"
   },
   "source": [
    "As you can see, we obtained the same result with the previous one."
   ]
  },
  {
   "cell_type": "markdown",
   "metadata": {
    "id": "TE9cOUSQiHd3"
   },
   "source": [
    "### 2.2.2. T-distribution for Continuous Random Variables\n",
    "\n",
    "A perfect normal distribution is hard to obtain, especially with low sample sizes. In these cases, we use *t-distribution* for confidence interval calculation.\n",
    "\n",
    "You can think t-distribution as a normal distribution with fatter tails. It has an additional parameter $\\nu$, which refers to the degree of freedom (dof). As dof increases, the t-distribution converges to a normal distribution. For a single sample:\n",
    "\n",
    "$\\nu = n-1$ where $n$ refers to the sample size.\n",
    "\n",
    "$\\alpha = 0.05\\quad$ for 95% confidence\n",
    "\n",
    "$SE = \\frac {s} {\\sqrt{n}}$ where $s$ refers to the sample standard deviation.\n",
    "\n",
    "$CI = \\bar{x} \\pm t_{\\alpha/2,\\nu} \\times SE \\quad$    for two-sided CI\n",
    "\n",
    "\n",
    "\n",
    "\n",
    "\n",
    "We will use the same example in Section 2.1.1."
   ]
  },
  {
   "cell_type": "code",
   "execution_count": 16,
   "metadata": {
    "colab": {
     "base_uri": "https://localhost:8080/"
    },
    "id": "kC-Gu76_knJP",
    "outputId": "26483711-6493-4bdd-a206-c86216c8101b"
   },
   "outputs": [
    {
     "data": {
      "text/plain": [
       "39.166666666666664"
      ]
     },
     "execution_count": 16,
     "metadata": {},
     "output_type": "execute_result"
    }
   ],
   "source": [
    "np.random.seed(42)\n",
    "population = np.concatenate((np.random.randint(0,100,10000),\n",
    "                             np.random.randint(0,30,10000)))\n",
    "sample = np.random.choice(population,size = 30)\n",
    "sample_mean = np.mean(sample)\n",
    "sample_mean"
   ]
  },
  {
   "cell_type": "code",
   "execution_count": 17,
   "metadata": {
    "colab": {
     "base_uri": "https://localhost:8080/"
    },
    "id": "JR9ID1oxknRj",
    "outputId": "8b3702a0-dfc5-427b-a2a4-64778c180f18"
   },
   "outputs": [
    {
     "data": {
      "text/plain": [
       "(27.481696605304393, 50.851636728028936)"
      ]
     },
     "execution_count": 17,
     "metadata": {},
     "output_type": "execute_result"
    }
   ],
   "source": [
    "se = sample.std(ddof=1) / np.sqrt(len(sample))\n",
    "dof = len(sample) - 1\n",
    "t_val = stats.t.ppf(0.975,dof)\n",
    "ci = (sample_mean - t_val * se, sample_mean + t_val * se)\n",
    "ci"
   ]
  },
  {
   "cell_type": "markdown",
   "metadata": {
    "id": "u-eyhHnjex2u"
   },
   "source": [
    "# 3.Statistical Inference for Two Population\n",
    "\n",
    "To find an evidence, we often have to work with more than one group. In this section, we will look at the statistical methods that are used while comparing two groups."
   ]
  },
  {
   "cell_type": "markdown",
   "metadata": {
    "id": "9ObW2Mk6ntSg"
   },
   "source": [
    "## 3.1. Statistical Inference Using Bootstrap Sampling\n",
    "\n"
   ]
  },
  {
   "cell_type": "markdown",
   "metadata": {
    "id": "d_wc1gCRu3i8"
   },
   "source": [
    "### 3.1.1. Computing Confidence Intervals Using Point Estimates"
   ]
  },
  {
   "cell_type": "markdown",
   "metadata": {
    "id": "Ds4iZrQWoHps"
   },
   "source": [
    "#### 3.1.1.1. Computing Confidence Intervals for Paired Samples\n",
    "\n",
    "Let's say we want to find an evidence about the effectiveness of a new treatment by comparing cholesterol levels in the same group of individuals under two conditions: one month with treatment and one month without treatment (control).\n",
    "\n",
    "This is a paired experiment setup. We can apply bootstrap sampling in the following way:\n",
    "\n",
    "* Subtract treatment and control group result from each other so the problem becomes a one sample problem.\n",
    "\n",
    "* Sample repeatedly with replacement to obtain a difference distribution.\n",
    "\n",
    "* See whether 0 is in the confidence interval. If it is, then conclude that more evidence is needed to convince that this new treatment is effective.\n",
    "\n",
    "$H_0: \\mu_{diff} = 0$\n",
    "\n",
    "$H_1: \\mu_{diff} \\neq 0$"
   ]
  },
  {
   "cell_type": "code",
   "execution_count": 18,
   "metadata": {
    "colab": {
     "base_uri": "https://localhost:8080/",
     "height": 470
    },
    "id": "ovHRIuWJs8Xa",
    "outputId": "c06f686e-0dd2-4c94-c364-7de60290a8f7"
   },
   "outputs": [
    {
     "name": "stdout",
     "output_type": "stream",
     "text": [
      "ConfidenceInterval(low=-7.374056241119226, high=-3.0338954436866654)\n"
     ]
    },
    {
     "data": {
      "image/png": "[encoded data removed]",
      "text/plain": [
       "<Figure size 640x480 with 1 Axes>"
      ]
     },
     "metadata": {},
     "output_type": "display_data"
    }
   ],
   "source": [
    "np.random.seed(42)\n",
    "cholesterol_treatment = np.random.normal(loc = 200, scale = 5, size = 30)\n",
    "cholesterol_control = np.random.normal(loc = 205, scale = 5, size = 30)\n",
    "\n",
    "diff = cholesterol_treatment - cholesterol_control\n",
    "boots = stats.bootstrap((diff,),statistic = np.mean,random_state = 42)\n",
    "\n",
    "print(boots.confidence_interval)\n",
    "plt.figure()\n",
    "plt.hist(boots.bootstrap_distribution,edgecolor = 'white',bins = 10)\n",
    "plt.axvline(x = boots.confidence_interval.low, color = 'grey', alpha = 0.4,linestyle = \"--\")\n",
    "plt.axvline(x = boots.confidence_interval.high, color = 'grey', alpha = 0.4,linestyle = \"--\")\n",
    "plt.title(\"Bootstrap Distribution\")\n",
    "plt.show()\n"
   ]
  },
  {
   "cell_type": "markdown",
   "metadata": {
    "id": "GdR6nXHb0lxs"
   },
   "source": [
    "0 is not in the confidence interval therefore:\n",
    "\n",
    "* We are 95% confident that new treatment is effective.\n",
    "\n",
    "Alternatively we can use the code below:"
   ]
  },
  {
   "cell_type": "code",
   "execution_count": 19,
   "metadata": {
    "colab": {
     "base_uri": "https://localhost:8080/"
    },
    "id": "9oxxvV71s8mK",
    "outputId": "7cc16db1-fc19-405d-c03b-6c318dd3dd7b"
   },
   "outputs": [
    {
     "name": "stdout",
     "output_type": "stream",
     "text": [
      "ConfidenceInterval(low=-7.374056241119214, high=-3.0338954436866703)\n"
     ]
    }
   ],
   "source": [
    "boots = stats.bootstrap((cholesterol_treatment,cholesterol_control),statistic = lambda x,y: np.mean(x) - np.mean(y),random_state = 42,\n",
    "                        paired = True)\n",
    "print(boots.confidence_interval)"
   ]
  },
  {
   "cell_type": "markdown",
   "metadata": {
    "id": "HSaQu_T21bjc"
   },
   "source": [
    "#### 3.1.1.2. Computing Confidence Intervals for Independent Samples\n",
    "\n",
    "Now suppose that we are comparing two *independent* samples. To compare groups with bootstrapping, we will use the following procedure:\n",
    "\n",
    "* Sample from both groups repeatedly with replacement.\n",
    "* Subtract the point estimates from each other.\n",
    "* Repeat previous two steps many times to obtain a Gaussian distribution.\n",
    "* Make inferences like we did in the section 3.1.1.1.\n",
    "\n",
    "Comparing cumulative gpa average of schools a and b:\n",
    "\n",
    "$H_0: \\mu_a = \\mu_b$\n",
    "\n",
    "$H_1: \\mu_a \\neq \\mu_b$"
   ]
  },
  {
   "cell_type": "code",
   "execution_count": 20,
   "metadata": {
    "colab": {
     "base_uri": "https://localhost:8080/",
     "height": 470
    },
    "id": "SihDgmjl1whn",
    "outputId": "8aa4ee35-aa94-476e-99f3-ea8725964993"
   },
   "outputs": [
    {
     "name": "stdout",
     "output_type": "stream",
     "text": [
      "(-1.6175461990267708, 2.9156933554800153)\n"
     ]
    },
    {
     "data": {
      "image/png": "[encoded data removed]",
      "text/plain": [
       "<Figure size 640x480 with 1 Axes>"
      ]
     },
     "metadata": {},
     "output_type": "display_data"
    }
   ],
   "source": [
    "np.random.seed(42)\n",
    "\n",
    "school_a_cpga = np.random.normal(loc = 10, scale = 5, size = 30)\n",
    "school_b_cpga = np.random.normal(loc = 9, scale = 5, size = 30)\n",
    "\n",
    "n_simulations = 10000\n",
    "diff = []\n",
    "\n",
    "for _ in range(n_simulations):\n",
    "    sample_a = np.random.choice(school_a_cpga,size = len(school_a_cpga),replace = True)\n",
    "    sample_b = np.random.choice(school_b_cpga,size = len(school_b_cpga),replace = True)\n",
    "    diff.append(np.mean(sample_a) - np.mean(sample_b))\n",
    "\n",
    "diff = np.array(diff)\n",
    "print(f'({np.percentile(diff,2.5)}, {np.percentile(diff,97.5)})')\n",
    "plt.figure()\n",
    "plt.hist(diff,edgecolor = 'white',bins = 10)\n",
    "plt.axvline(x = np.percentile(diff,2.5), color = 'grey', alpha = 0.4,linestyle = \"--\")\n",
    "plt.axvline(x = np.percentile(diff,97.5), color = 'grey', alpha = 0.4,linestyle = \"--\")\n",
    "plt.title(\"Bootstrap Distribution\")\n",
    "plt.show()\n"
   ]
  },
  {
   "cell_type": "markdown",
   "metadata": {
    "id": "oJ782XOe3Ky_"
   },
   "source": [
    "Since 0 in our confidence interval:\n",
    "\n",
    "* We can't say that the grades of the students are different from each other.\n",
    "\n",
    "Alternatively we can use the following code:"
   ]
  },
  {
   "cell_type": "code",
   "execution_count": 21,
   "metadata": {
    "colab": {
     "base_uri": "https://localhost:8080/"
    },
    "id": "6228J6wj1wtG",
    "outputId": "50693828-bfae-4877-fd78-604a91e3375d"
   },
   "outputs": [
    {
     "name": "stdout",
     "output_type": "stream",
     "text": [
      "ConfidenceInterval(low=-1.562673653014612, high=2.9679703235065444)\n"
     ]
    }
   ],
   "source": [
    "boots = stats.bootstrap((school_a_cpga,school_b_cpga),\n",
    "                        statistic = lambda x,y: np.mean(x) - np.mean(y),\n",
    "                        random_state = 42,\n",
    "                        paired = False)\n",
    "print(boots.confidence_interval)"
   ]
  },
  {
   "cell_type": "markdown",
   "metadata": {
    "id": "mHCX449An_oe"
   },
   "source": [
    "### 3.1.2. Computing Confidence Intervals Using T-Percentiles\n",
    "\n",
    "Alternative to the previous solution, we can use t-statistic bootstrap distribution to compute CI ($6^{th}$ reference page 195). Remember the t-statistic (for independent samples):\n",
    "\n",
    "$t = \\frac {\\mu_1 - \\mu_2} {s/\\sqrt{n}}$\n",
    "\n",
    "or the more robust form for samples having different variances:\n",
    "\n",
    "$t = \\frac {\\mu_1 - \\mu_2} {\\sqrt{\\frac {s_1^2} {n_1} + \\frac {s_2^2} {n_2}}}$\n",
    "\n",
    "\n",
    "In this method, we will apply the following:\n",
    "\n",
    "* Sample repeatedly from the groups.\n",
    "* Compute t-statistic each time and record the value elsewhere.\n",
    "* Get appropriate percentiles of the t-distribution to compute the confidence inteval."
   ]
  },
  {
   "cell_type": "code",
   "execution_count": 22,
   "metadata": {
    "id": "WZBwwTbehuvR"
   },
   "outputs": [],
   "source": [
    "def compute_t_stat(first_sample,second_sample):\n",
    "   mean_diff = np.mean(first_sample) - np.mean(second_sample)\n",
    "   se_diff = np.sqrt(np.var(first_sample,ddof = 1)/len(first_sample) + np.var(second_sample,ddof = 1)/len(second_sample))\n",
    "   return mean_diff / se_diff"
   ]
  },
  {
   "cell_type": "code",
   "execution_count": 23,
   "metadata": {
    "colab": {
     "base_uri": "https://localhost:8080/"
    },
    "id": "u22tufxDhu50",
    "outputId": "2fad9d77-52dc-4b49-b1e5-cbe2b208af8e"
   },
   "outputs": [
    {
     "name": "stdout",
     "output_type": "stream",
     "text": [
      "(-1.4440762106046217, 2.5296565164177074)\n"
     ]
    }
   ],
   "source": [
    "np.random.seed(42)\n",
    "\n",
    "school_a_cpga = np.random.normal(loc = 10, scale = 5, size = 30)\n",
    "school_b_cpga = np.random.normal(loc = 9, scale = 5, size = 30)\n",
    "\n",
    "num_iterations = 10000\n",
    "t_stats = []\n",
    "\n",
    "for _ in range(num_iterations):\n",
    "    sample_a = np.random.choice(school_a_cpga,size = len(school_a_cpga),replace = True)\n",
    "    sample_b = np.random.choice(school_b_cpga,size = len(school_b_cpga),replace = True)\n",
    "    t_stats.append(compute_t_stat(sample_a,sample_b))\n",
    "\n",
    "t_stats = np.array(t_stats)\n",
    "print(f'({np.percentile(t_stats,2.5)}, {np.percentile(t_stats,97.5)})')"
   ]
  },
  {
   "cell_type": "markdown",
   "metadata": {
    "id": "d8r4afdwn0CK"
   },
   "source": [
    "## 3.2. Statistical Inference with Analytical Methods\n",
    "\n",
    "Let's go back to the cholesterol example again (Section 3.1.1.1). This time we will compare the groups using `t-test`. Since the groups are paired, we will use paired t-test. However, before using t-test, the following assumptions have to be met:\n",
    "\n",
    "- The samples are independent.\n",
    "* Both distributions have somewhat similar variances (If not we have to use `Welch t-test`).\n",
    "* Both distributions are *somewhat* Gaussian.\n",
    "\n",
    "We know that the samples are independent but we have to look at the data for the second and third assumptions."
   ]
  },
  {
   "cell_type": "code",
   "execution_count": 24,
   "metadata": {
    "colab": {
     "base_uri": "https://localhost:8080/",
     "height": 469
    },
    "id": "igq1ZHeXuFaI",
    "outputId": "727308ca-e25e-4a93-d00e-0c436b2dbf4d"
   },
   "outputs": [
    {
     "data": {
      "image/png": "[encoded data removed]",
      "text/plain": [
       "<Figure size 1000x500 with 2 Axes>"
      ]
     },
     "metadata": {},
     "output_type": "display_data"
    }
   ],
   "source": [
    "np.random.seed(42)\n",
    "cholesterol_treatment = np.random.normal(loc = 200, scale = 5, size = 30)\n",
    "cholesterol_control = np.random.normal(loc = 220, scale = 5, size = 30)\n",
    "\n",
    "fig,ax = plt.subplots(1,2,figsize = (10,5))\n",
    "ax[0].hist(cholesterol_treatment,edgecolor = 'white')\n",
    "ax[0].set_title('Treatment Group',loc = 'left')\n",
    "ax[1].hist(cholesterol_control,edgecolor = 'white')\n",
    "ax[1].set_title('Control Group',loc = 'left')\n",
    "plt.show()"
   ]
  },
  {
   "cell_type": "markdown",
   "metadata": {
    "id": "GvYFDJ4IGtSb"
   },
   "source": [
    "Both datasets are somewhat normal (There are no extreme points). Don't forget, we are not searching for a perfect normality condition. T-test is robust enough to handle these imperfectnesses.\n",
    "\n",
    "For variance comparison, we can use `Bartlett test`.\n",
    "\n",
    "$H_0:$ The groups have different variances.\n",
    "\n",
    "$H_1:$ The groups don't have different variances.\n"
   ]
  },
  {
   "cell_type": "code",
   "execution_count": 25,
   "metadata": {
    "colab": {
     "base_uri": "https://localhost:8080/"
    },
    "id": "mRpb-q-vHPw4",
    "outputId": "c6a2b5ad-7360-4b7f-d5df-332186e45aa6"
   },
   "outputs": [
    {
     "data": {
      "text/plain": [
       "BartlettResult(statistic=0.032885799842366566, pvalue=0.8560972393128001)"
      ]
     },
     "execution_count": 25,
     "metadata": {},
     "output_type": "execute_result"
    }
   ],
   "source": [
    "stats.bartlett(cholesterol_treatment,cholesterol_control)"
   ]
  },
  {
   "cell_type": "markdown",
   "metadata": {
    "id": "QsFtrInBHkGG"
   },
   "source": [
    "The p-value is greater than p-critical (0.05), therefore we can assume that the groups have similar variances.\n",
    "\n",
    "All the conditions are met. We can use t-test then. For paired samples,\n",
    "\n",
    "$d = d_1,d_2 ....,d_n$ where $d$ refers to the pair differences.\n",
    "\n",
    "$s_d:$ Standard deviation of the differences.\n",
    "\n",
    "$SE_d = \\frac {s_d} {\\sqrt{n}}\\quad$: Standard error\n",
    "\n",
    "$t = \\frac {d} {SE_d}$"
   ]
  },
  {
   "cell_type": "code",
   "execution_count": 26,
   "metadata": {
    "colab": {
     "base_uri": "https://localhost:8080/"
    },
    "id": "GB6kwfy1953b",
    "outputId": "fa7ec18d-4b8a-4cf7-b515-9415761574c0"
   },
   "outputs": [
    {
     "data": {
      "text/plain": [
       "-18.11987645295346"
      ]
     },
     "execution_count": 26,
     "metadata": {},
     "output_type": "execute_result"
    }
   ],
   "source": [
    "diff = cholesterol_treatment - cholesterol_control\n",
    "se_diff = np.std(diff,ddof = 1) / np.sqrt(len(diff))\n",
    "t_diff = np.mean(diff) / se_diff\n",
    "t_diff"
   ]
  },
  {
   "cell_type": "markdown",
   "metadata": {
    "id": "hQK0RMJR-Su5"
   },
   "source": [
    "We can look at the tables to find the p-value. Alternatively we can use `ttest_rel`."
   ]
  },
  {
   "cell_type": "code",
   "execution_count": 27,
   "metadata": {
    "colab": {
     "base_uri": "https://localhost:8080/"
    },
    "id": "KAIug8L0H5Fr",
    "outputId": "42fe3e5b-ca69-4804-bd5f-62f90544dae0"
   },
   "outputs": [
    {
     "name": "stdout",
     "output_type": "stream",
     "text": [
      "TtestResult(statistic=-18.119876452953452, pvalue=2.3410619252913918e-17, df=29)\n"
     ]
    }
   ],
   "source": [
    "ttest_result = stats.ttest_rel(cholesterol_treatment,cholesterol_control)\n",
    "print(ttest_result)"
   ]
  },
  {
   "cell_type": "markdown",
   "metadata": {
    "id": "mwgcZHNIH_bM"
   },
   "source": [
    "We can conclude that both groups are different from each other. (p-value < p-critical = 0.05)"
   ]
  },
  {
   "cell_type": "markdown",
   "metadata": {
    "id": "wLtRM_TNtJzw"
   },
   "source": [
    "## 3.3. Evaluating the Differences Using Permutation Tests\n",
    "\n",
    "Permutation tests are extremely useful while working with small sample sizes. We use these tests to determine whether an observed difference in point estimates is due to chance. Here are the steps:\n",
    "\n",
    "* Record observed difference in point estimates.\n",
    "\n",
    "For many times,\n",
    "\n",
    "* Combine and shuffle the data.\n",
    "* Distribute the data to the groups randomly.\n",
    "* Check whether absolute value of the iteration difference is larger than absolute value of the observed difference. (Assuming the test is two-sided)\n",
    "* Count how many times the iteration difference exceeds observed difference.\n",
    "* Depending on the desired confidence level, evaluate the results."
   ]
  },
  {
   "cell_type": "code",
   "execution_count": 28,
   "metadata": {
    "colab": {
     "base_uri": "https://localhost:8080/",
     "height": 447
    },
    "id": "wceRtuD1IOf9",
    "outputId": "4e4fbcf6-600b-4008-881e-4790b066d6ed"
   },
   "outputs": [
    {
     "name": "stdout",
     "output_type": "stream",
     "text": [
      "p-value: 0.0003\n"
     ]
    },
    {
     "data": {
      "image/png": "[encoded data removed]",
      "text/plain": [
       "<Figure size 640x480 with 1 Axes>"
      ]
     },
     "metadata": {},
     "output_type": "display_data"
    }
   ],
   "source": [
    "np.random.seed(42)\n",
    "sample_a = np.random.normal(loc = 10, scale = 5, size = 10)\n",
    "sample_b = np.random.normal(loc = 9, scale = 5, size = 10)\n",
    "observational_difference = np.mean(sample_a) - np.mean(sample_b)\n",
    "p_value = 0\n",
    "\n",
    "n_simulations = 10000\n",
    "iteration_differences = []\n",
    "\n",
    "for _ in range(n_simulations):\n",
    "    combined_sample = np.concatenate((sample_a,sample_b))\n",
    "    np.random.shuffle(combined_sample)\n",
    "    sample_a_temp = combined_sample[:len(sample_a)]\n",
    "    sample_b_temp = combined_sample[len(sample_a):]\n",
    "    iter_difference = np.mean(sample_a_temp) - np.mean(sample_b_temp)\n",
    "    iteration_differences.append(iter_difference)\n",
    "    if np.abs(iter_difference) >= np.abs(observational_difference):\n",
    "        p_value += 1\n",
    "\n",
    "p_value /= n_simulations\n",
    "print(f\"p-value: {p_value}\")\n",
    "\n",
    "plt.figure()\n",
    "plt.hist(iteration_differences,edgecolor = \"white\",bins = 10)\n",
    "plt.axvline(x = observational_difference, color = 'grey', alpha = 0.4,linestyle = \"--\")\n",
    "plt.axvline(x = -observational_difference, color = 'grey', alpha = 0.4,linestyle = \"--\")\n",
    "plt.show()"
   ]
  },
  {
   "cell_type": "markdown",
   "metadata": {
    "id": "ytPeS0AzLCLm"
   },
   "source": [
    "The p-value is smaller than the p-critical (0.05). Hence, we can conclude that means of these two groups are different from each other.\n",
    "\n",
    "Alternatively, we can use the following code:"
   ]
  },
  {
   "cell_type": "code",
   "execution_count": 29,
   "metadata": {
    "colab": {
     "base_uri": "https://localhost:8080/"
    },
    "id": "brDT0xbRIOp_",
    "outputId": "f04b9e7b-d4c0-44c2-886a-ae3903571c8c"
   },
   "outputs": [
    {
     "data": {
      "text/plain": [
       "(7.193596731405851, 0.0005999400059994001)"
      ]
     },
     "execution_count": 29,
     "metadata": {},
     "output_type": "execute_result"
    }
   ],
   "source": [
    "results = stats.permutation_test((sample_a,sample_b),\n",
    "                       statistic = lambda x,y: np.mean(x) - np.mean(y),\n",
    "                       n_resamples = 10000,\n",
    "                       alternative = \"two-sided\",\n",
    "                       random_state = 42)\n",
    "results.statistic,results.pvalue"
   ]
  },
  {
   "cell_type": "markdown",
   "metadata": {
    "id": "Lcm0nkHYon96"
   },
   "source": [
    "# 4.Statistical Inference for Multiple Populations\n",
    "\n",
    "In this section, we will look at the statistical methods that are used while comparing more than two groups."
   ]
  },
  {
   "cell_type": "markdown",
   "metadata": {
    "id": "ex070ELn8wND"
   },
   "source": [
    "## 4.1. Sequential Comparisons\n",
    "\n",
    "The naive approach while comparing multiple groups is to use t-tests sequentially. For example, while comparing groups A, B, and C, we can compare (A, B), (B, C), and (A, C) one by one.\n",
    "\n",
    "This approach has a downside. Normally, for each test, we settle for making Type 1 error rate of $\\alpha$ (equivalent to $p_{critical}$). However, as the number of test increases, the cumulative error rate (named as familywise error rate) also grows. For instance, if we select $\\alpha = 0.05$, then the probability of not making Type 1 error rate becomes $0.95$. For three sequential tests, this probability reduces to\n",
    "\n",
    "$0.95^3 ≈ 0.85$\n",
    "\n",
    "Therefore, to keep familywise error rate (FWER) below $\\alpha$, we need to make some adjustments."
   ]
  },
  {
   "cell_type": "markdown",
   "metadata": {
    "id": "Aff5hVB6owZw"
   },
   "source": [
    "### 4.1.1. Corrective Methods for Hypothesis Testing\n",
    "\n",
    "There are many correction methods for sequential comparisons. I will only show two of them in this notebook. For more information please refer [this](https://en.wikipedia.org/wiki/Family-wise_error_rate) page.\n",
    "   "
   ]
  },
  {
   "cell_type": "markdown",
   "metadata": {
    "id": "7we5Tl4GXlwA"
   },
   "source": [
    "#### 4.1.1.1. Bonferroni Correction\n",
    "\n",
    "For $m$ number of tests conducted given the dataset, $\\alpha$ should be divided to $m$:\n",
    "\n",
    "$\\alpha ← \\frac \\alpha m$"
   ]
  },
  {
   "cell_type": "code",
   "execution_count": 30,
   "metadata": {
    "colab": {
     "base_uri": "https://localhost:8080/"
    },
    "id": "eqK32tEBYIUd",
    "outputId": "cfd0f6c5-944e-420b-b170-95e9c5520454"
   },
   "outputs": [
    {
     "data": {
      "text/plain": [
       "0.016666666666666666"
      ]
     },
     "execution_count": 30,
     "metadata": {},
     "output_type": "execute_result"
    }
   ],
   "source": [
    "alpha_critical = 0.05\n",
    "alpha_new = alpha_critical/3\n",
    "alpha_new"
   ]
  },
  {
   "cell_type": "markdown",
   "metadata": {
    "id": "X2ERqmpRbb8H"
   },
   "source": [
    "$(1-0.0167)^3 = 0.95$\n",
    "\n",
    "As you can see with Bonferroni Correction FWER is kept at $0.05$."
   ]
  },
  {
   "cell_type": "markdown",
   "metadata": {
    "id": "nf0nQdzeb5gl"
   },
   "source": [
    "#### 4.1.1.2. Šidák Correction\n",
    "\n",
    "For $m$ number of tests conducted given the dataset, $\\alpha$ should be adjusted using the formula below:\n",
    "\n",
    "$\\alpha ← 1-(1-\\alpha)^{1/m}$"
   ]
  },
  {
   "cell_type": "code",
   "execution_count": 31,
   "metadata": {
    "colab": {
     "base_uri": "https://localhost:8080/"
    },
    "id": "5zLFw_eRca7z",
    "outputId": "bc74748c-66b5-4046-a2d6-8b874da15061"
   },
   "outputs": [
    {
     "data": {
      "text/plain": [
       "0.016952427508441503"
      ]
     },
     "execution_count": 31,
     "metadata": {},
     "output_type": "execute_result"
    }
   ],
   "source": [
    "alpha_critical = 0.05\n",
    "alpha_new = 1-(1-alpha_critical)**(1/3)\n",
    "alpha_new"
   ]
  },
  {
   "cell_type": "markdown",
   "metadata": {
    "id": "_f7OtBgdcsZk"
   },
   "source": [
    "$(1-0.0169)^3 ≈ 0.95$"
   ]
  },
  {
   "cell_type": "markdown",
   "metadata": {
    "id": "siCZnk148QF8"
   },
   "source": [
    "### 4.1.2. Downsides of Correction Methods\n",
    "\n",
    "Before discussing the downsides of correction methods, let's define Type 1 and Type 2 errors.\n",
    "\n",
    "Type 1 error is rejecting $H_0$ when $H_0$ is the case. It is often denoted by $\\alpha$.\n",
    "\n",
    "Type 2 error is not rejecting $H_0$ even $H_1$ is the case. It is often denoted by $β$.\n",
    "\n",
    "Power of a test refers to rejecting $H_0$. It is formulated by $1-\\beta$.\n",
    "\n",
    "Type 1 and Type 2 errors are inversely correlated. As tendency of rejecting $H_0$ increases, Type 2 error rate decreases and Type 1 error rate increases. The opposite is also true. As the test becomes more insensitive for rejecting $H_0$, its probability of making Type 1 error decreases, but this time the probability of making Type 2 error increases:\n",
    "\n",
    "$α \\uparrow β ↓$ Power $\\uparrow$\n",
    "\n",
    "$α \\downarrow β \\uparrow$ Power $\\downarrow$\n",
    "\n",
    "\n",
    " We want our test not to suffer too much from both of these errors. Therefore, we have to carefully select parameters such as sample size and\n",
    "$\\alpha$. The correction methods can disturb the balance. In other words, as we make $\\alpha$ smaller, the probability of a single test suffering from a Type 2 error increases.\n",
    "\n",
    "In the next section, we will see an alternative method for multiple group comparison.\n",
    "\n"
   ]
  },
  {
   "cell_type": "markdown",
   "metadata": {
    "id": "f53hUS6odn_x"
   },
   "source": [
    "## 4.2. Analysis of Variance (ANOVA)\n",
    "\n",
    "**Note:** I will show only one way ANOVA layout in this notebook.  \n",
    "\n",
    "ANOVA is a statistical test used for comparing multiple groups. To conduct ANOVA test, the following conditions have to be met:\n",
    "\n",
    "* Samples are independent.\n",
    "* Samples have similar variances.\n",
    "* Samples have somewhat Gaussian distribution.\n",
    "\n",
    "When comparing $k$ groups, we can set up the null and alternative hypotheses for ANOVA as follows:\n",
    "\n",
    "$H_0: \\mu_1 =\\mu_2 = ... \\mu_k$\n",
    "\n",
    "$H_1:$ At least one mean is different.\n",
    "\n",
    "Let's make an example. We will compare 3 groups. The first step is to check requirements of ANOVA:\n"
   ]
  },
  {
   "cell_type": "code",
   "execution_count": 32,
   "metadata": {
    "colab": {
     "base_uri": "https://localhost:8080/",
     "height": 469
    },
    "id": "szRjX5MY6kEg",
    "outputId": "68ada367-2bdc-42a4-e53d-a7b0fc3787df"
   },
   "outputs": [
    {
     "data": {
      "image/png": "[encoded data removed]",
      "text/plain": [
       "<Figure size 1500x500 with 3 Axes>"
      ]
     },
     "metadata": {},
     "output_type": "display_data"
    }
   ],
   "source": [
    "np.random.seed(42)\n",
    "group_a = np.random.normal(loc = 10, scale = 5, size = 30)\n",
    "group_b = np.random.normal(loc = 9, scale = 5, size = 30)\n",
    "group_c = np.random.normal(loc = 15, scale = 5, size = 30)\n",
    "\n",
    "fix,ax = plt.subplots(1,3,figsize = (15,5))\n",
    "ax[0].hist(group_a,edgecolor = 'white')\n",
    "ax[0].set_title('Group A',loc = 'left')\n",
    "ax[1].hist(group_b,edgecolor = 'white')\n",
    "ax[1].set_title('Group B',loc = 'left')\n",
    "ax[2].hist(group_c,edgecolor = 'white')\n",
    "ax[2].set_title('Group C',loc = 'left')\n",
    "plt.show()"
   ]
  },
  {
   "cell_type": "markdown",
   "metadata": {
    "id": "W5aU7D5V67c4"
   },
   "source": [
    "Let's analyze the variances:"
   ]
  },
  {
   "cell_type": "code",
   "execution_count": 33,
   "metadata": {
    "colab": {
     "base_uri": "https://localhost:8080/"
    },
    "id": "r14Fbk0O6kPW",
    "outputId": "590981c0-82da-4ef2-852d-82b40f7a4af9"
   },
   "outputs": [
    {
     "data": {
      "text/plain": [
       "BartlettResult(statistic=0.2810306157066885, pvalue=0.8689103636785533)"
      ]
     },
     "execution_count": 33,
     "metadata": {},
     "output_type": "execute_result"
    }
   ],
   "source": [
    "stats.bartlett(group_a,group_b,group_c)"
   ]
  },
  {
   "cell_type": "markdown",
   "metadata": {
    "id": "xwYRwZR47Ptv"
   },
   "source": [
    "The groups have *somewhat* Gaussian distribution and they have similar variances. So we can use ANOVA. The formulas for we need to use for this problem:\n",
    "\n",
    "Groups: $A,B,C$ ($k = 3$)\n",
    "\n",
    "Sample sizes: $n_A,n_B,n_C = 30$\n",
    "\n",
    "Sample means: $\\bar{X}_A,\\bar{X}_B,\\bar{X}_C$\n",
    "\n",
    "Global Mean (GB): mean of all the data points\n",
    "\n",
    "$SS_{between} = n_A(\\bar{X}_A - GB)^2 + n_B(\\bar{X}_B - GB)^2 + n_C(\\bar{X}_C - GB)^2$\n",
    "\n",
    "$SS_{within} = \\sum_{i = 1}^{n_A}(x_i - \\bar{X}_A)^2 + \\sum_{i = 1}^{n_B}(x_i - \\bar{X}_B)^2 + \\sum_{i = 1}^{n_C}(x_i - \\bar{X}_C)^2$\n",
    "\n",
    "$dof_{between} = k-1 = 2$\n",
    "\n",
    "$dof_{within} = n_A + n_B + n_c - k = 87$\n",
    "\n",
    "$MS_{between} = \\frac {SS_{between}} {dof_{between}}$\n",
    "\n",
    "$MS_{within} = \\frac {SS_{within}} {dof_{within}}$\n",
    "\n",
    "$F = \\frac {MS_{between}}{MS_{within}}$\n",
    "\n",
    "**Note:** I used open forms of the equations because close forms can be overwhelming.\n"
   ]
  },
  {
   "cell_type": "code",
   "execution_count": 34,
   "metadata": {
    "colab": {
     "base_uri": "https://localhost:8080/"
    },
    "id": "JhI3FPpIFCWZ",
    "outputId": "e050e0fa-f566-498e-c2b0-facda7e64d1d"
   },
   "outputs": [
    {
     "name": "stdout",
     "output_type": "stream",
     "text": [
      "F-statistic: 18.263024265301787\n",
      "p-value: 2.3855614428303085e-07\n",
      "df_between: 2\n",
      "df_within: 87\n",
      "SS_between: 809.963064320001\n",
      "SS_within: 1929.2200889674407\n",
      "MS_between: 404.9815321600005\n",
      "MS_within: 22.174943551349894\n"
     ]
    }
   ],
   "source": [
    "all_data = np.concatenate([group_a, group_b, group_c])\n",
    "k = 3\n",
    "\n",
    "n_a = len(group_a)\n",
    "n_b = len(group_b)\n",
    "n_c = len(group_c)\n",
    "\n",
    "mean_a = np.mean(group_a)\n",
    "mean_b = np.mean(group_b)\n",
    "mean_c = np.mean(group_c)\n",
    "\n",
    "global_mean = np.mean(all_data)\n",
    "\n",
    "SS_between = (n_a * (mean_a - global_mean) ** 2 + \\\n",
    "              n_b * (mean_b - global_mean) ** 2 + \\\n",
    "              n_c * (mean_c - global_mean) ** 2)\n",
    "\n",
    "SS_within = (np.sum((group_a - mean_a) ** 2) + \\\n",
    "             np.sum((group_b - mean_b) ** 2) + \\\n",
    "             np.sum((group_c - mean_c) ** 2))\n",
    "\n",
    "df_within = len(all_data) - 3\n",
    "df_between = k - 1\n",
    "\n",
    "MS_within = SS_within / df_within\n",
    "MS_between = SS_between / df_between\n",
    "\n",
    "F_statistic = MS_between / MS_within\n",
    "\n",
    "print(f\"F-statistic: {F_statistic}\")\n",
    "print(f\"p-value: {1-stats.f.cdf(F_statistic,df_between,df_within)}\")\n",
    "print(f\"df_between: {df_between}\")\n",
    "print(f\"df_within: {df_within}\")\n",
    "print(f\"SS_between: {SS_between}\")\n",
    "print(f\"SS_within: {SS_within}\")\n",
    "print(f\"MS_between: {MS_between}\")\n",
    "print(f\"MS_within: {MS_within}\")"
   ]
  },
  {
   "cell_type": "markdown",
   "metadata": {
    "id": "gMdEfQuS_Qo3"
   },
   "source": [
    "P-value of the test is smaller than p-critical (0.05). Therefore we can conclude that the mean of at least one group is different from the rest. We will figure out which one(s) is/are different in the next section. But first, let's look at the shortcut methods for ANOVA:"
   ]
  },
  {
   "cell_type": "code",
   "execution_count": 35,
   "metadata": {
    "colab": {
     "base_uri": "https://localhost:8080/"
    },
    "id": "eVja6ZJs7n_l",
    "outputId": "6414bac0-647a-4e37-9bbf-27f311e0aad8"
   },
   "outputs": [
    {
     "data": {
      "text/plain": [
       "F_onewayResult(statistic=18.263024265301784, pvalue=2.385561442783779e-07)"
      ]
     },
     "execution_count": 35,
     "metadata": {},
     "output_type": "execute_result"
    }
   ],
   "source": [
    "stats.f_oneway(group_a,group_b,group_c)"
   ]
  },
  {
   "cell_type": "markdown",
   "metadata": {
    "id": "iaFkOjlyHHYS"
   },
   "source": [
    "For more detailed result, we can use `statmodels` module."
   ]
  },
  {
   "cell_type": "code",
   "execution_count": 36,
   "metadata": {
    "colab": {
     "base_uri": "https://localhost:8080/"
    },
    "id": "gw8VBnuUHPeU",
    "outputId": "6fa1f9a0-65d6-4e55-e2b5-a08597767fb0"
   },
   "outputs": [
    {
     "name": "stdout",
     "output_type": "stream",
     "text": [
      "            df       sum_sq     mean_sq          F        PR(>F)\n",
      "C(group)   2.0   809.963064  404.981532  18.263024  2.385561e-07\n",
      "Residual  87.0  1929.220089   22.174944        NaN           NaN\n"
     ]
    }
   ],
   "source": [
    "data = {\n",
    "    'values': np.concatenate([group_a, group_b, group_c]),\n",
    "    'group': ['A'] * len(group_a) + ['B'] * len(group_b) + ['C'] * len(group_c)\n",
    "}\n",
    "df = pd.DataFrame(data)\n",
    "model = ols('values ~ C(group)', data=df).fit()\n",
    "\n",
    "anova_table = anova_lm(model)\n",
    "print(anova_table)"
   ]
  },
  {
   "cell_type": "markdown",
   "metadata": {
    "id": "OkRiunEtos9q"
   },
   "source": [
    "## 4.3. Post-Hoc Analysis\n",
    "\n",
    "A post-hoc analysis should be performed to understand which group(s) is/are different from the rest. There are multiple ways to do it. Personally, I have only used  `Tukey HSD` so far. It works fine and it is supported by `scipy.stats`. For the detailed explanation, you can refer [this](https://astatsa.com/OneWay_Anova_with_TukeyHSD/) page."
   ]
  },
  {
   "cell_type": "code",
   "execution_count": 37,
   "metadata": {
    "colab": {
     "base_uri": "https://localhost:8080/"
    },
    "id": "aowy_bOsCxYV",
    "outputId": "47fb46e2-d41b-4312-ec66-cffceaf1a28e"
   },
   "outputs": [
    {
     "name": "stdout",
     "output_type": "stream",
     "text": [
      "Tukey's HSD Pairwise Group Comparisons (95.0% Confidence Interval)\n",
      "Comparison  Statistic  p-value  Lower CI  Upper CI\n",
      " (0 - 1)      0.665     0.848    -2.234     3.564\n",
      " (0 - 2)     -6.005     0.000    -8.904    -3.106\n",
      " (1 - 0)     -0.665     0.848    -3.564     2.234\n",
      " (1 - 2)     -6.670     0.000    -9.569    -3.771\n",
      " (2 - 0)      6.005     0.000     3.106     8.904\n",
      " (2 - 1)      6.670     0.000     3.771     9.569\n",
      "\n"
     ]
    }
   ],
   "source": [
    "np.random.seed(42)\n",
    "group_a = np.random.normal(loc = 10, scale = 5, size = 30)\n",
    "group_b = np.random.normal(loc = 9, scale = 5, size = 30)\n",
    "group_c = np.random.normal(loc = 15, scale = 5, size = 30)\n",
    "\n",
    "print(stats.tukey_hsd(group_a,group_b,group_c))"
   ]
  },
  {
   "cell_type": "markdown",
   "metadata": {
    "id": "7gSLoFYTIdjr"
   },
   "source": [
    "Each row represents a pairwise comparison. We can use p-values to determine which group(s) is/are different from the others. From the results, we can conclude that the third group is different from the rest."
   ]
  },
  {
   "cell_type": "markdown",
   "metadata": {
    "id": "449WpOJ-o5iS"
   },
   "source": [
    "# 5.Statistical Inference for Categorical Variables\n",
    "\n",
    "While comparing categorical variables, `chi-square test of independence` is used. This test compares the expected and observed frequencies for evaluation. The test has a couple of assumptions:\n",
    "\n",
    "* The groups in comparison are independent.\n",
    "* Each observation is independent.\n",
    "* Each cell has at least one observation.\n",
    "* All expected cell count is greater or equal to 5.\n",
    "\n",
    "For very large samples, chi-square test can be too sensitive meaning it can reject $H_0$ even the difference is respectibly small.\n",
    "\n",
    "For very small samples the opposite is true. The test can be too insensitive for the differences.\n",
    "\n",
    "Let's say we are testing the effectiveness of a vacciene:"
   ]
  },
  {
   "cell_type": "code",
   "execution_count": 38,
   "metadata": {
    "colab": {
     "base_uri": "https://localhost:8080/",
     "height": 125
    },
    "id": "216DygRHKCD9",
    "outputId": "75bb5ce0-e49a-4fb3-e764-de9222df50a2"
   },
   "outputs": [
    {
     "data": {
      "application/vnd.google.colaboratory.intrinsic+json": {
       "summary": "{\n  \"name\": \"results\",\n  \"rows\": 2,\n  \"fields\": [\n    {\n      \"column\": \"Treated\",\n      \"properties\": {\n        \"dtype\": \"number\",\n        \"std\": 7,\n        \"min\": 5,\n        \"max\": 15,\n        \"num_unique_values\": 2,\n        \"samples\": [\n          15,\n          5\n        ],\n        \"semantic_type\": \"\",\n        \"description\": \"\"\n      }\n    },\n    {\n      \"column\": \"Not Treated\",\n      \"properties\": {\n        \"dtype\": \"number\",\n        \"std\": 7,\n        \"min\": 10,\n        \"max\": 20,\n        \"num_unique_values\": 2,\n        \"samples\": [\n          20,\n          10\n        ],\n        \"semantic_type\": \"\",\n        \"description\": \"\"\n      }\n    }\n  ]\n}",
       "type": "dataframe",
       "variable_name": "results"
      },
      "text/html": [
       "\n",
       "  <div id=\"df-dd16a5bc-3480-4128-99c7-2b5c57b1f8be\" class=\"colab-df-container\">\n",
       "    <div>\n",
       "<style scoped>\n",
       "    .dataframe tbody tr th:only-of-type {\n",
       "        vertical-align: middle;\n",
       "    }\n",
       "\n",
       "    .dataframe tbody tr th {\n",
       "        vertical-align: top;\n",
       "    }\n",
       "\n",
       "    .dataframe thead th {\n",
       "        text-align: right;\n",
       "    }\n",
       "</style>\n",
       "<table border=\"1\" class=\"dataframe\">\n",
       "  <thead>\n",
       "    <tr style=\"text-align: right;\">\n",
       "      <th></th>\n",
       "      <th>Treated</th>\n",
       "      <th>Not Treated</th>\n",
       "    </tr>\n",
       "  </thead>\n",
       "  <tbody>\n",
       "    <tr>\n",
       "      <th>Vaccine</th>\n",
       "      <td>5</td>\n",
       "      <td>10</td>\n",
       "    </tr>\n",
       "    <tr>\n",
       "      <th>Not Vaccine</th>\n",
       "      <td>15</td>\n",
       "      <td>20</td>\n",
       "    </tr>\n",
       "  </tbody>\n",
       "</table>\n",
       "</div>\n",
       "    <div class=\"colab-df-buttons\">\n",
       "\n",
       "  <div class=\"colab-df-container\">\n",
       "    <button class=\"colab-df-convert\" onclick=\"convertToInteractive('df-dd16a5bc-3480-4128-99c7-2b5c57b1f8be')\"\n",
       "            title=\"Convert this dataframe to an interactive table.\"\n",
       "            style=\"display:none;\">\n",
       "\n",
       "  <svg xmlns=\"http://www.w3.org/2000/svg\" height=\"24px\" viewBox=\"0 -960 960 960\">\n",
       "    <path d=\"M120-120v-720h720v720H120Zm60-500h600v-160H180v160Zm220 220h160v-160H400v160Zm0 220h160v-160H400v160ZM180-400h160v-160H180v160Zm440 0h160v-160H620v160ZM180-180h160v-160H180v160Zm440 0h160v-160H620v160Z\"/>\n",
       "  </svg>\n",
       "    </button>\n",
       "\n",
       "  <style>\n",
       "    .colab-df-container {\n",
       "      display:flex;\n",
       "      gap: 12px;\n",
       "    }\n",
       "\n",
       "    .colab-df-convert {\n",
       "      background-color: #E8F0FE;\n",
       "      border: none;\n",
       "      border-radius: 50%;\n",
       "      cursor: pointer;\n",
       "      display: none;\n",
       "      fill: #1967D2;\n",
       "      height: 32px;\n",
       "      padding: 0 0 0 0;\n",
       "      width: 32px;\n",
       "    }\n",
       "\n",
       "    .colab-df-convert:hover {\n",
       "      background-color: #E2EBFA;\n",
       "      box-shadow: 0px 1px 2px rgba(60, 64, 67, 0.3), 0px 1px 3px 1px rgba(60, 64, 67, 0.15);\n",
       "      fill: #174EA6;\n",
       "    }\n",
       "\n",
       "    .colab-df-buttons div {\n",
       "      margin-bottom: 4px;\n",
       "    }\n",
       "\n",
       "    [theme=dark] .colab-df-convert {\n",
       "      background-color: #3B4455;\n",
       "      fill: #D2E3FC;\n",
       "    }\n",
       "\n",
       "    [theme=dark] .colab-df-convert:hover {\n",
       "      background-color: #434B5C;\n",
       "      box-shadow: 0px 1px 3px 1px rgba(0, 0, 0, 0.15);\n",
       "      filter: drop-shadow(0px 1px 2px rgba(0, 0, 0, 0.3));\n",
       "      fill: #FFFFFF;\n",
       "    }\n",
       "  </style>\n",
       "\n",
       "    <script>\n",
       "      const buttonEl =\n",
       "        document.querySelector('#df-dd16a5bc-3480-4128-99c7-2b5c57b1f8be button.colab-df-convert');\n",
       "      buttonEl.style.display =\n",
       "        google.colab.kernel.accessAllowed ? 'block' : 'none';\n",
       "\n",
       "      async function convertToInteractive(key) {\n",
       "        const element = document.querySelector('#df-dd16a5bc-3480-4128-99c7-2b5c57b1f8be');\n",
       "        const dataTable =\n",
       "          await google.colab.kernel.invokeFunction('convertToInteractive',\n",
       "                                                    [key], {});\n",
       "        if (!dataTable) return;\n",
       "\n",
       "        const docLinkHtml = 'Like what you see? Visit the ' +\n",
       "          '<a target=\"_blank\" href=https://colab.research.google.com/notebooks/data_table.ipynb>data table notebook</a>'\n",
       "          + ' to learn more about interactive tables.';\n",
       "        element.innerHTML = '';\n",
       "        dataTable['output_type'] = 'display_data';\n",
       "        await google.colab.output.renderOutput(dataTable, element);\n",
       "        const docLink = document.createElement('div');\n",
       "        docLink.innerHTML = docLinkHtml;\n",
       "        element.appendChild(docLink);\n",
       "      }\n",
       "    </script>\n",
       "  </div>\n",
       "\n",
       "\n",
       "<div id=\"df-022e9640-7f7f-4221-975b-b58d0ac39af6\">\n",
       "  <button class=\"colab-df-quickchart\" onclick=\"quickchart('df-022e9640-7f7f-4221-975b-b58d0ac39af6')\"\n",
       "            title=\"Suggest charts\"\n",
       "            style=\"display:none;\">\n",
       "\n",
       "<svg xmlns=\"http://www.w3.org/2000/svg\" height=\"24px\"viewBox=\"0 0 24 24\"\n",
       "     width=\"24px\">\n",
       "    <g>\n",
       "        <path d=\"M19 3H5c-1.1 0-2 .9-2 2v14c0 1.1.9 2 2 2h14c1.1 0 2-.9 2-2V5c0-1.1-.9-2-2-2zM9 17H7v-7h2v7zm4 0h-2V7h2v10zm4 0h-2v-4h2v4z\"/>\n",
       "    </g>\n",
       "</svg>\n",
       "  </button>\n",
       "\n",
       "<style>\n",
       "  .colab-df-quickchart {\n",
       "      --bg-color: #E8F0FE;\n",
       "      --fill-color: #1967D2;\n",
       "      --hover-bg-color: #E2EBFA;\n",
       "      --hover-fill-color: #174EA6;\n",
       "      --disabled-fill-color: #AAA;\n",
       "      --disabled-bg-color: #DDD;\n",
       "  }\n",
       "\n",
       "  [theme=dark] .colab-df-quickchart {\n",
       "      --bg-color: #3B4455;\n",
       "      --fill-color: #D2E3FC;\n",
       "      --hover-bg-color: #434B5C;\n",
       "      --hover-fill-color: #FFFFFF;\n",
       "      --disabled-bg-color: #3B4455;\n",
       "      --disabled-fill-color: #666;\n",
       "  }\n",
       "\n",
       "  .colab-df-quickchart {\n",
       "    background-color: var(--bg-color);\n",
       "    border: none;\n",
       "    border-radius: 50%;\n",
       "    cursor: pointer;\n",
       "    display: none;\n",
       "    fill: var(--fill-color);\n",
       "    height: 32px;\n",
       "    padding: 0;\n",
       "    width: 32px;\n",
       "  }\n",
       "\n",
       "  .colab-df-quickchart:hover {\n",
       "    background-color: var(--hover-bg-color);\n",
       "    box-shadow: 0 1px 2px rgba(60, 64, 67, 0.3), 0 1px 3px 1px rgba(60, 64, 67, 0.15);\n",
       "    fill: var(--button-hover-fill-color);\n",
       "  }\n",
       "\n",
       "  .colab-df-quickchart-complete:disabled,\n",
       "  .colab-df-quickchart-complete:disabled:hover {\n",
       "    background-color: var(--disabled-bg-color);\n",
       "    fill: var(--disabled-fill-color);\n",
       "    box-shadow: none;\n",
       "  }\n",
       "\n",
       "  .colab-df-spinner {\n",
       "    border: 2px solid var(--fill-color);\n",
       "    border-color: transparent;\n",
       "    border-bottom-color: var(--fill-color);\n",
       "    animation:\n",
       "      spin 1s steps(1) infinite;\n",
       "  }\n",
       "\n",
       "  @keyframes spin {\n",
       "    0% {\n",
       "      border-color: transparent;\n",
       "      border-bottom-color: var(--fill-color);\n",
       "      border-left-color: var(--fill-color);\n",
       "    }\n",
       "    20% {\n",
       "      border-color: transparent;\n",
       "      border-left-color: var(--fill-color);\n",
       "      border-top-color: var(--fill-color);\n",
       "    }\n",
       "    30% {\n",
       "      border-color: transparent;\n",
       "      border-left-color: var(--fill-color);\n",
       "      border-top-color: var(--fill-color);\n",
       "      border-right-color: var(--fill-color);\n",
       "    }\n",
       "    40% {\n",
       "      border-color: transparent;\n",
       "      border-right-color: var(--fill-color);\n",
       "      border-top-color: var(--fill-color);\n",
       "    }\n",
       "    60% {\n",
       "      border-color: transparent;\n",
       "      border-right-color: var(--fill-color);\n",
       "    }\n",
       "    80% {\n",
       "      border-color: transparent;\n",
       "      border-right-color: var(--fill-color);\n",
       "      border-bottom-color: var(--fill-color);\n",
       "    }\n",
       "    90% {\n",
       "      border-color: transparent;\n",
       "      border-bottom-color: var(--fill-color);\n",
       "    }\n",
       "  }\n",
       "</style>\n",
       "\n",
       "  <script>\n",
       "    async function quickchart(key) {\n",
       "      const quickchartButtonEl =\n",
       "        document.querySelector('#' + key + ' button');\n",
       "      quickchartButtonEl.disabled = true;  // To prevent multiple clicks.\n",
       "      quickchartButtonEl.classList.add('colab-df-spinner');\n",
       "      try {\n",
       "        const charts = await google.colab.kernel.invokeFunction(\n",
       "            'suggestCharts', [key], {});\n",
       "      } catch (error) {\n",
       "        console.error('Error during call to suggestCharts:', error);\n",
       "      }\n",
       "      quickchartButtonEl.classList.remove('colab-df-spinner');\n",
       "      quickchartButtonEl.classList.add('colab-df-quickchart-complete');\n",
       "    }\n",
       "    (() => {\n",
       "      let quickchartButtonEl =\n",
       "        document.querySelector('#df-022e9640-7f7f-4221-975b-b58d0ac39af6 button');\n",
       "      quickchartButtonEl.style.display =\n",
       "        google.colab.kernel.accessAllowed ? 'block' : 'none';\n",
       "    })();\n",
       "  </script>\n",
       "</div>\n",
       "\n",
       "  <div id=\"id_a75ede57-083d-4cdd-a257-17a2f4c39c3f\">\n",
       "    <style>\n",
       "      .colab-df-generate {\n",
       "        background-color: #E8F0FE;\n",
       "        border: none;\n",
       "        border-radius: 50%;\n",
       "        cursor: pointer;\n",
       "        display: none;\n",
       "        fill: #1967D2;\n",
       "        height: 32px;\n",
       "        padding: 0 0 0 0;\n",
       "        width: 32px;\n",
       "      }\n",
       "\n",
       "      .colab-df-generate:hover {\n",
       "        background-color: #E2EBFA;\n",
       "        box-shadow: 0px 1px 2px rgba(60, 64, 67, 0.3), 0px 1px 3px 1px rgba(60, 64, 67, 0.15);\n",
       "        fill: #174EA6;\n",
       "      }\n",
       "\n",
       "      [theme=dark] .colab-df-generate {\n",
       "        background-color: #3B4455;\n",
       "        fill: #D2E3FC;\n",
       "      }\n",
       "\n",
       "      [theme=dark] .colab-df-generate:hover {\n",
       "        background-color: #434B5C;\n",
       "        box-shadow: 0px 1px 3px 1px rgba(0, 0, 0, 0.15);\n",
       "        filter: drop-shadow(0px 1px 2px rgba(0, 0, 0, 0.3));\n",
       "        fill: #FFFFFF;\n",
       "      }\n",
       "    </style>\n",
       "    <button class=\"colab-df-generate\" onclick=\"generateWithVariable('results')\"\n",
       "            title=\"Generate code using this dataframe.\"\n",
       "            style=\"display:none;\">\n",
       "\n",
       "  <svg xmlns=\"http://www.w3.org/2000/svg\" height=\"24px\"viewBox=\"0 0 24 24\"\n",
       "       width=\"24px\">\n",
       "    <path d=\"M7,19H8.4L18.45,9,17,7.55,7,17.6ZM5,21V16.75L18.45,3.32a2,2,0,0,1,2.83,0l1.4,1.43a1.91,1.91,0,0,1,.58,1.4,1.91,1.91,0,0,1-.58,1.4L9.25,21ZM18.45,9,17,7.55Zm-12,3A5.31,5.31,0,0,0,4.9,8.1,5.31,5.31,0,0,0,1,6.5,5.31,5.31,0,0,0,4.9,4.9,5.31,5.31,0,0,0,6.5,1,5.31,5.31,0,0,0,8.1,4.9,5.31,5.31,0,0,0,12,6.5,5.46,5.46,0,0,0,6.5,12Z\"/>\n",
       "  </svg>\n",
       "    </button>\n",
       "    <script>\n",
       "      (() => {\n",
       "      const buttonEl =\n",
       "        document.querySelector('#id_a75ede57-083d-4cdd-a257-17a2f4c39c3f button.colab-df-generate');\n",
       "      buttonEl.style.display =\n",
       "        google.colab.kernel.accessAllowed ? 'block' : 'none';\n",
       "\n",
       "      buttonEl.onclick = () => {\n",
       "        google.colab.notebook.generateWithVariable('results');\n",
       "      }\n",
       "      })();\n",
       "    </script>\n",
       "  </div>\n",
       "\n",
       "    </div>\n",
       "  </div>\n"
      ],
      "text/plain": [
       "             Treated  Not Treated\n",
       "Vaccine            5           10\n",
       "Not Vaccine       15           20"
      ]
     },
     "execution_count": 38,
     "metadata": {},
     "output_type": "execute_result"
    }
   ],
   "source": [
    "results = pd.DataFrame({\"Treated\": [5,15],\n",
    "                        \"Not Treated\": [10,20]},\n",
    "                       index = [\"Vaccine\", \"Not Vaccine\"])\n",
    "results"
   ]
  },
  {
   "cell_type": "markdown",
   "metadata": {
    "id": "3M3HOZHIKSP7"
   },
   "source": [
    "$p_1: p(Treated|Vacc)$\n",
    "\n",
    "$p_2: p(Treated|Vacc')$\n",
    "\n",
    "$H_0: p_1 = p_2$\n",
    "\n",
    "$H_1: p_1 \\neq p_2$\n",
    "\n",
    "Formulas:\n",
    "\n",
    "$E[x] = n \\times p(x)$ (for discrete random variables)\n",
    "\n",
    "$dof = (nrows - 1) \\times (ncols - 1) = 1$\n",
    "\n",
    "$P(Vacc) = 15/50$\n",
    "\n",
    "$P(Vacc') = 35/50$\n",
    "\n",
    "$P(Treated) = 20/50$\n",
    "\n",
    "$P(Treated') = 30/50$\n",
    "\n",
    "$E[Vacc \\cap Treated] = 15/50 \\times 20/50 × 50 = 6$\n",
    "\n",
    "$E[Vacc' \\cap Treated] = 35/50 \\times 20/50 × 50 = 14$\n",
    "\n",
    "$E[Vacc \\cap Treated'] = 15/50 \\times 30/50 × 50 = 9$\n",
    "\n",
    "$E[Vacc' \\cap Treated'] = 35/50 \\times 30/50 × 50 = 21$\n",
    "\n",
    "$χ^2 = \\frac {\\sum(O - E)^2} {E}$\n",
    "\n",
    "$χ^2 = (6-5)^2/6 + (14-10)^2/14 + (9-15)^2/9 + (21-20)^2/ 21$\n",
    "\n",
    "p-value can be found from the tables.\n",
    "\n",
    "For automatic computation, we can use `stats.chi2_contingency`."
   ]
  },
  {
   "cell_type": "code",
   "execution_count": 39,
   "metadata": {
    "colab": {
     "base_uri": "https://localhost:8080/"
    },
    "id": "0vzR0i_KNQUH",
    "outputId": "39da87df-7d7c-4855-8716-b27e1b9fc72c"
   },
   "outputs": [
    {
     "name": "stdout",
     "output_type": "stream",
     "text": [
      "Chi-square statistic: 0.0992063492063492\n",
      "p-value: 0.7527841326498471\n",
      "Degrees of freedom: 1\n",
      "Expected frequencies:\n",
      "[[ 6.  9.]\n",
      " [14. 21.]]\n"
     ]
    }
   ],
   "source": [
    "chi2_stat, p_value, dof, expected = stats.chi2_contingency(results)\n",
    "print(f\"Chi-square statistic: {chi2_stat}\")\n",
    "print(f\"p-value: {p_value}\")\n",
    "print(f\"Degrees of freedom: {dof}\")\n",
    "print(\"Expected frequencies:\")\n",
    "print(expected)"
   ]
  },
  {
   "cell_type": "markdown",
   "metadata": {
    "id": "zGsSkwJ5N9Ek"
   },
   "source": [
    "Since p-value is greater than p-critcal (0.05), we can't reject $H_0$."
   ]
  },
  {
   "cell_type": "markdown",
   "metadata": {
    "id": "vHJVeXEEGQy0"
   },
   "source": [
    "# 6.Statistical Inference for Ordinal Variables\n",
    "\n",
    "An ordinal variable can be defined as a categorical variable with rankings. Performance evaluations are an example:\n",
    "\n",
    "5 (the best), 4, 3, 2, 1(the worst)\n",
    "\n",
    "When we have this kind of data, we can use nonparametric tests for the comparison.\n",
    "\n",
    "\n"
   ]
  },
  {
   "cell_type": "markdown",
   "metadata": {
    "id": "cf7y8vIaUHqN"
   },
   "source": [
    "## 6.1. Mann Whitney U Test (MWU)\n",
    "\n",
    "MWU test is the nonparametric version of indepedent t-test. It's calculation is fairly long, therefore I won't explain how it's done. If you are curious, here is a good [video](https://www.youtube.com/watch?v=BT1FKd1Qzjw) explaining how its done.\n",
    "\n",
    "Let's look at an example. Managers A and B are responsible for different employees. At the end of 2024, they evaluated employee performances. The question is \"Are these evaluations statistically different from each other?\".\n",
    "\n",
    "$H_0:$ The evaluations are not statistically different from each other.\n",
    "\n",
    "$H_1:$ The evaluations are statistically different from each other.\n"
   ]
  },
  {
   "cell_type": "code",
   "execution_count": 40,
   "metadata": {
    "colab": {
     "base_uri": "https://localhost:8080/"
    },
    "id": "UVVtj4gSbvsE",
    "outputId": "87f60b39-c88a-4dbf-d9b8-09b80417f856"
   },
   "outputs": [
    {
     "data": {
      "text/plain": [
       "MannwhitneyuResult(statistic=468.5, pvalue=0.7859046861972361)"
      ]
     },
     "execution_count": 40,
     "metadata": {},
     "output_type": "execute_result"
    }
   ],
   "source": [
    "performance_evaluations_a = np.array([5, 5, 2, 1, 3, 0, 5, 0, 0, 0, 2, 5, 0, 3, 4, 0, 2, 5, 2, 0, 5, 4, 0, 2, 1, 3, 2, 5, 0, 3])\n",
    "performance_evaluations_b = np.array([0, 5, 0, 1, 3, 3, 5, 1, 2, 0, 4, 0, 0, 2, 0, 1, 1, 3, 5, 4, 0, 0, 2, 5, 1, 4, 3, 1, 5, 3])\n",
    "\n",
    "stats.mannwhitneyu(performance_evaluations_a,performance_evaluations_b)"
   ]
  },
  {
   "cell_type": "markdown",
   "metadata": {
    "id": "bJitYzp-UXAJ"
   },
   "source": [
    "From the results, we can conclude that evaluations are not different from each other. (p-value > p-critical = 0.05)"
   ]
  },
  {
   "cell_type": "markdown",
   "metadata": {
    "id": "IgD-TtYSUee4"
   },
   "source": [
    "## 6.2. Wilcoxon Signed Rank Test\n",
    "\n",
    "Wilcoxon Signed Rank test is similar to the MWU test but it is applied to the paired samples. Let's change the previous question slightly:\n",
    "\n",
    "Manager A and B evaluated the same employees at the end of the year. The question is \"Are these evaluations are statistically different from each other?\".\n",
    "\n",
    "$H_0:$ The evaluations are not statistically different from each other.\n",
    "\n",
    "$H_1:$ The evaluations are statistically different from each other.\n"
   ]
  },
  {
   "cell_type": "code",
   "execution_count": 41,
   "metadata": {
    "colab": {
     "base_uri": "https://localhost:8080/"
    },
    "id": "jDU0WpeKbv5J",
    "outputId": "d9735d85-bed1-4f73-aa20-3b882c773ce6"
   },
   "outputs": [
    {
     "data": {
      "text/plain": [
       "WilcoxonResult(statistic=117.0, pvalue=0.7565294583408886)"
      ]
     },
     "execution_count": 41,
     "metadata": {},
     "output_type": "execute_result"
    }
   ],
   "source": [
    "performance_evaluations_a = np.array([5, 5, 2, 1, 3, 0, 5, 0, 0, 0, 2, 5, 0, 3, 4, 0, 2, 5, 2, 0, 5, 4, 0, 2, 1, 3, 2, 5, 0, 3])\n",
    "performance_evaluations_b = np.array([0, 5, 0, 1, 3, 3, 5, 1, 2, 0, 4, 0, 0, 2, 0, 1, 1, 3, 5, 4, 0, 0, 2, 5, 1, 4, 3, 1, 5, 3])\n",
    "\n",
    "stats.wilcoxon(performance_evaluations_a,performance_evaluations_b)"
   ]
  },
  {
   "cell_type": "markdown",
   "metadata": {
    "id": "F6_b3CsOVvAQ"
   },
   "source": [
    "Again, the evaluations are not statistically different from each other. (p-value > p-critical = 0.05)"
   ]
  },
  {
   "cell_type": "markdown",
   "metadata": {
    "id": "LlZCi4WoNju4"
   },
   "source": [
    "# 7.Linear Regression\n",
    "\n",
    "Linear regression (LR) is a powerful tool in science due to it's interpretability and computational efficiency. Although we have lot of powerful tools nowadays, we still actively use linear models such as linear and logistic regression for data analysis. In this section, I will show how to implement Linear Regression in Python and interpret the results."
   ]
  },
  {
   "cell_type": "markdown",
   "metadata": {
    "id": "esxxNMZEOSA9"
   },
   "source": [
    "## 7.1. Bivariate Linear Regression\n",
    "\n",
    "Response variable refers to the term that we are interested in. It's often shown by the letter $y$ and it is dependent on a predictor (or on a set of predictors) which is usually shown by $X$. We will focus on a single predictor case in this subsection. The regression equation:\n",
    "\n",
    "$\\hat{y} = a + bx$\n",
    "\n",
    "where $\\hat{y}$ to refers the model estimation of $y$.\n",
    "\n",
    "Since predictor $y$ can not fully be explained by the model, we have to add an error term to refer the real value of $y$.\n",
    "\n",
    "$y = a + bx + ϵ$\n",
    "\n",
    "$ϵ\\sim N(0,\\sigma^2)$\n",
    "\n",
    "As you can see one of the assumption of the linear regression is that the data points are normally distributed around the mean. Other assumptions are\n",
    "\n",
    "* The predictors are independent.\n",
    "* Response variable and predictors are linearly correlated.\n",
    "\n",
    "Let's look at an example."
   ]
  },
  {
   "cell_type": "code",
   "execution_count": 42,
   "metadata": {
    "colab": {
     "base_uri": "https://localhost:8080/",
     "height": 469
    },
    "id": "WxBGml8pLUjw",
    "outputId": "3d582002-d5bd-4bc0-cb2b-bf01097d0489"
   },
   "outputs": [
    {
     "data": {
      "image/png": "[encoded data removed]",
      "text/plain": [
       "<Figure size 1000x500 with 2 Axes>"
      ]
     },
     "metadata": {},
     "output_type": "display_data"
    }
   ],
   "source": [
    "np.random.seed(42)\n",
    "x = np.random.normal(loc = 5,scale = 1, size = 100)\n",
    "error = np.random.normal(loc = 0, scale = 1, size = 100)\n",
    "y = 2*x + error\n",
    "y2 = x**4 + error\n",
    "fig,ax = plt.subplots(1,2,figsize = (10,5))\n",
    "ax[0].scatter(x,y)\n",
    "ax[0].set_xlabel('Predictor')\n",
    "ax[0].set_ylabel('Response Variable')\n",
    "\n",
    "ax[1].scatter(x,y2)\n",
    "ax[1].set_xlabel('Predictor')\n",
    "ax[1].set_ylabel('')\n",
    "plt.show()"
   ]
  },
  {
   "cell_type": "markdown",
   "metadata": {
    "id": "7-80sE6oRx1g"
   },
   "source": [
    "The data on the left hand side is suitable for LR modeling. The second one is not. Let's model the first one."
   ]
  },
  {
   "cell_type": "code",
   "execution_count": 43,
   "metadata": {
    "colab": {
     "base_uri": "https://localhost:8080/"
    },
    "id": "KUsZR7vFRCwZ",
    "outputId": "59d02c28-2469-4a35-80b6-bbcca6883303"
   },
   "outputs": [
    {
     "name": "stdout",
     "output_type": "stream",
     "text": [
      "                            OLS Regression Results                            \n",
      "==============================================================================\n",
      "Dep. Variable:                      y   R-squared:                       0.761\n",
      "Model:                            OLS   Adj. R-squared:                  0.759\n",
      "Method:                 Least Squares   F-statistic:                     312.2\n",
      "Date:                Tue, 05 Nov 2024   Prob (F-statistic):           3.14e-32\n",
      "Time:                        12:32:28   Log-Likelihood:                -135.71\n",
      "No. Observations:                 100   AIC:                             275.4\n",
      "Df Residuals:                      98   BIC:                             280.6\n",
      "Df Model:                           1                                         \n",
      "Covariance Type:            nonrobust                                         \n",
      "==============================================================================\n",
      "                 coef    std err          t      P>|t|      [0.025      0.975]\n",
      "------------------------------------------------------------------------------\n",
      "const          0.7237      0.523      1.383      0.170      -0.315       1.762\n",
      "x1             1.8567      0.105     17.669      0.000       1.648       2.065\n",
      "==============================================================================\n",
      "Omnibus:                        1.950   Durbin-Watson:                   2.194\n",
      "Prob(Omnibus):                  0.377   Jarque-Bera (JB):                1.909\n",
      "Skew:                           0.327   Prob(JB):                        0.385\n",
      "Kurtosis:                       2.829   Cond. No.                         28.5\n",
      "==============================================================================\n",
      "\n",
      "Notes:\n",
      "[1] Standard Errors assume that the covariance matrix of the errors is correctly specified.\n"
     ]
    }
   ],
   "source": [
    "model = sm.OLS(y,sm.add_constant(x)).fit()\n",
    "print(model.summary())"
   ]
  },
  {
   "cell_type": "markdown",
   "metadata": {
    "id": "W7n9b48SVjyv"
   },
   "source": [
    "Synthetic data:\n",
    "\n",
    "$x \\sim N(5,1)$\n",
    "\n",
    "$ϵ \\sim N(0,1)$\n",
    "\n",
    "$y = 2x + ϵ$\n",
    "\n",
    "The LR model modelled the data with the following equation:\n",
    "\n",
    " $\\hat{y} = 0.72 + 1.85x$\n",
    "\n",
    "Not only that, it gave us further information.\n",
    "\n",
    "* First, the p-value of the intercept is greater than the critical p-value for 95% confidence (0.05). This means that the model is not certain whether the coefficient is different from zero. On the other hand, the LR model is much more confident about the coefficient. These results should seem meaningful since we created the data synthetically (we know the real parameters).\n",
    "\n",
    "* $R^2$ is a metric which indicates the degree of variance in the data explained by the model. Adjusted $R^2$ is similar but it penalizes $R^2$ to avoid unnecessary predictor usage (simpler model is always better). The adjusted $R^2$ and $R^2$ are similar in this case because we used only one predictor to model the response variable."
   ]
  },
  {
   "cell_type": "markdown",
   "metadata": {
    "id": "g1uWbO0kbPsx"
   },
   "source": [
    "## 7.2. Multivariate Linear Regression\n",
    "\n",
    "When there is more than one predictor, the regression equation is created with matricies. Since we are using matricies anyways, we can put the intercept variable as a vector to these matricies also.\n",
    "\n",
    "$\\hat{y} = Xβ$\n",
    "\n",
    "$ϵ\\sim N(0,\\sigma^2)$\n",
    "\n",
    "Now the least square solution for this model is calculated analytically by using:\n",
    "\n",
    "$\\hat{β} = (X^TX)^{-1}(X^Ty)$\n",
    "\n"
   ]
  },
  {
   "cell_type": "code",
   "execution_count": 44,
   "metadata": {
    "colab": {
     "base_uri": "https://localhost:8080/"
    },
    "id": "BDJXMHClS4BV",
    "outputId": "967f3d8c-d0a5-4324-eb1b-540c917b6d38"
   },
   "outputs": [
    {
     "name": "stdout",
     "output_type": "stream",
     "text": [
      "Manual LR parameters: [0.72371363 1.85674284]\n",
      "Statsmodels LR parameters: [0.72371363 1.85674284]\n"
     ]
    }
   ],
   "source": [
    "np.random.seed(42)\n",
    "x = np.random.normal(loc = 5,scale = 1, size = 100)\n",
    "error = np.random.normal(loc = 0, scale = 1, size = 100)\n",
    "y = 2*x + error\n",
    "\n",
    "def OLS_LR(y,X):\n",
    "    return np.linalg.inv(X.T@X)@X.T@y\n",
    "\n",
    "beta_manual = OLS_LR(y,sm.add_constant(x))\n",
    "beta_statsmodels = sm.OLS(y,sm.add_constant(x)).fit().params\n",
    "print(\"Manual LR parameters:\", beta_manual)\n",
    "print(\"Statsmodels LR parameters:\", beta_statsmodels)"
   ]
  },
  {
   "cell_type": "markdown",
   "metadata": {
    "id": "vfpNtNUteppD"
   },
   "source": [
    "Let's make an example."
   ]
  },
  {
   "cell_type": "code",
   "execution_count": 45,
   "metadata": {
    "colab": {
     "base_uri": "https://localhost:8080/"
    },
    "id": "W31Em5YPecf8",
    "outputId": "cbb3c26b-133c-48b9-8bac-6f8289b8a3e1"
   },
   "outputs": [
    {
     "name": "stdout",
     "output_type": "stream",
     "text": [
      "                            OLS Regression Results                            \n",
      "==============================================================================\n",
      "Dep. Variable:                      y   R-squared:                       0.904\n",
      "Model:                            OLS   Adj. R-squared:                  0.902\n",
      "Method:                 Least Squares   F-statistic:                     455.3\n",
      "Date:                Tue, 05 Nov 2024   Prob (F-statistic):           4.99e-50\n",
      "Time:                        12:32:28   Log-Likelihood:                -147.62\n",
      "No. Observations:                 100   AIC:                             301.2\n",
      "Df Residuals:                      97   BIC:                             309.1\n",
      "Df Model:                           2                                         \n",
      "Covariance Type:            nonrobust                                         \n",
      "==============================================================================\n",
      "                 coef    std err          t      P>|t|      [0.025      0.975]\n",
      "------------------------------------------------------------------------------\n",
      "const         -0.9559      1.064     -0.899      0.371      -3.067       1.155\n",
      "x1             2.2261      0.120     18.533      0.000       1.988       2.464\n",
      "x2             2.9877      0.114     26.121      0.000       2.761       3.215\n",
      "==============================================================================\n",
      "Omnibus:                        3.125   Durbin-Watson:                   2.220\n",
      "Prob(Omnibus):                  0.210   Jarque-Bera (JB):                3.080\n",
      "Skew:                           0.108   Prob(JB):                        0.214\n",
      "Kurtosis:                       3.832   Cond. No.                         86.3\n",
      "==============================================================================\n",
      "\n",
      "Notes:\n",
      "[1] Standard Errors assume that the covariance matrix of the errors is correctly specified.\n"
     ]
    }
   ],
   "source": [
    "np.random.seed(42)\n",
    "x1 = np.random.normal(loc = 5,scale = 1, size = 100)\n",
    "x2 = np.random.normal(loc = 7,scale = 1, size = 100)\n",
    "error = np.random.normal(loc = 0, scale = 1, size = 100)\n",
    "y = 2*x1 + 3*x2 + error\n",
    "\n",
    "X = np.column_stack((x1,x2))\n",
    "model = sm.OLS(y,sm.add_constant(X)).fit()\n",
    "print(model.summary())"
   ]
  },
  {
   "cell_type": "markdown",
   "metadata": {
    "id": "pDbxn15DfdXc"
   },
   "source": [
    "This time the model equation is\n",
    "\n",
    "$\\hat{y} = -0.95 + 2.22x_1 + 2.98x_2$\n",
    "\n",
    "Again the model is not certain about the intercept but certain about the coefficient.\n",
    "\n",
    "This time I want to focus on the parameters. For example, each unit of increase in $x_1$ results 2.22 increase in response variable $y$. However, this is a correct interpretiton only if the predictors are independent from each other.\n",
    "\n",
    "The easiest way to check the independency assumption is to put predictors in a scatterplot:"
   ]
  },
  {
   "cell_type": "code",
   "execution_count": 46,
   "metadata": {
    "colab": {
     "base_uri": "https://localhost:8080/",
     "height": 453
    },
    "id": "jxgteJyCfCO8",
    "outputId": "e6ceecc4-6c8d-4c96-cd5e-4255d721e0d0"
   },
   "outputs": [
    {
     "data": {
      "image/png": "[encoded data removed]",
      "text/plain": [
       "<Figure size 640x480 with 1 Axes>"
      ]
     },
     "metadata": {},
     "output_type": "display_data"
    }
   ],
   "source": [
    "plt.figure()\n",
    "plt.scatter(x1,x2)\n",
    "plt.xlabel('$x_1$')\n",
    "plt.ylabel('$x_2$')\n",
    "plt.show()"
   ]
  },
  {
   "cell_type": "markdown",
   "metadata": {
    "id": "ELJKVX-Tgpny"
   },
   "source": [
    "or to make it automatically, one can use `pearson correlation`."
   ]
  },
  {
   "cell_type": "code",
   "execution_count": 47,
   "metadata": {
    "colab": {
     "base_uri": "https://localhost:8080/"
    },
    "id": "1hLNcAzLhByA",
    "outputId": "a676a58b-9b32-4306-f0a8-88f5c34412ce"
   },
   "outputs": [
    {
     "data": {
      "text/plain": [
       "PearsonRResult(statistic=-0.1364222121700026, pvalue=0.17592555489276998)"
      ]
     },
     "execution_count": 47,
     "metadata": {},
     "output_type": "execute_result"
    }
   ],
   "source": [
    "stats.pearsonr(x1,x2)"
   ]
  },
  {
   "cell_type": "markdown",
   "metadata": {
    "id": "-zpxlUJatDjU"
   },
   "source": [
    "From the plots and correlation results, we understand that there is no relationship between $x_1$ and $x_2$."
   ]
  },
  {
   "cell_type": "markdown",
   "metadata": {
    "id": "CDnLNH9atrJ0"
   },
   "source": [
    "### 7.2.1. Selecting the Best Model Using Adjusted R2\n",
    "\n",
    "As I have told before, simpler model is always better if it can accomplish what should be accomplished. That being said, we can optimize our regression model by iteratively adding the predictors to the regression model and check whether adjusted $R^2$ improves:"
   ]
  },
  {
   "cell_type": "code",
   "execution_count": 48,
   "metadata": {
    "colab": {
     "base_uri": "https://localhost:8080/"
    },
    "id": "OZgN4qh5hB7Y",
    "outputId": "97ea7c83-4460-481b-cf03-074f55a03bd6"
   },
   "outputs": [
    {
     "name": "stdout",
     "output_type": "stream",
     "text": [
      "Baseline Adjusted R2: 0.81\n",
      "Added variables: ['const', 'cyl', 'disp', 'hp', 'drat', 'wt']\n",
      "Adjusted R2: 0.82\n",
      "\n",
      "                            OLS Regression Results                            \n",
      "==============================================================================\n",
      "Dep. Variable:                    mpg   R-squared:                       0.851\n",
      "Model:                            OLS   Adj. R-squared:                  0.823\n",
      "Method:                 Least Squares   F-statistic:                     29.77\n",
      "Date:                Tue, 05 Nov 2024   Prob (F-statistic):           5.62e-10\n",
      "Time:                        12:32:30   Log-Likelihood:                -71.883\n",
      "No. Observations:                  32   AIC:                             155.8\n",
      "Df Residuals:                      26   BIC:                             164.6\n",
      "Df Model:                           5                                         \n",
      "Covariance Type:            nonrobust                                         \n",
      "==============================================================================\n",
      "                 coef    std err          t      P>|t|      [0.025      0.975]\n",
      "------------------------------------------------------------------------------\n",
      "const         36.0084      7.571      4.756      0.000      20.445      51.572\n",
      "cyl           -1.1075      0.716     -1.547      0.134      -2.579       0.364\n",
      "disp           0.0124      0.012      1.039      0.308      -0.012       0.037\n",
      "hp            -0.0240      0.013     -1.809      0.082      -0.051       0.003\n",
      "drat           0.9522      1.391      0.685      0.500      -1.907       3.811\n",
      "wt            -3.6733      1.059     -3.469      0.002      -5.850      -1.496\n",
      "==============================================================================\n",
      "Omnibus:                        5.702   Durbin-Watson:                   1.850\n",
      "Prob(Omnibus):                  0.058   Jarque-Bera (JB):                4.435\n",
      "Skew:                           0.895   Prob(JB):                        0.109\n",
      "Kurtosis:                       3.349   Cond. No.                     5.23e+03\n",
      "==============================================================================\n",
      "\n",
      "Notes:\n",
      "[1] Standard Errors assume that the covariance matrix of the errors is correctly specified.\n",
      "[2] The condition number is large, 5.23e+03. This might indicate that there are\n",
      "strong multicollinearity or other numerical problems.\n"
     ]
    }
   ],
   "source": [
    "df = sm.datasets.get_rdataset(dataname='mtcars', package='datasets').data\n",
    "\n",
    "y = df['mpg']\n",
    "X = df.drop('mpg', axis=1)\n",
    "\n",
    "X = sm.add_constant(X)\n",
    "\n",
    "baseline_model = sm.OLS(y, X).fit()\n",
    "print(f\"Baseline Adjusted R2: {np.round(baseline_model.rsquared_adj,2)}\")\n",
    "\n",
    "best_r2_adj = baseline_model.rsquared_adj\n",
    "best_model = baseline_model\n",
    "\n",
    "for i in range(1, len(X.columns)):\n",
    "    temp_X = X.iloc[:, :i+1]\n",
    "    temp_model = sm.OLS(y, temp_X).fit()\n",
    "\n",
    "\n",
    "    if temp_model.rsquared_adj > best_r2_adj:\n",
    "        print(f\"Added variables: {temp_X.columns.tolist()}\")\n",
    "        print(f\"Adjusted R2: {np.round(temp_model.rsquared_adj,2)}\\n\")\n",
    "        best_r2_adj = temp_model.rsquared_adj\n",
    "        best_model = temp_model\n",
    "\n",
    "print(best_model.summary())"
   ]
  },
  {
   "cell_type": "markdown",
   "metadata": {
    "id": "4ys_jReFwJ61"
   },
   "source": [
    "As you can see from the summary, a smaller model has a better adjusted $R^2$ score (0.82) than the a model containing all the features (0.81). Therefore the former should be preferred."
   ]
  },
  {
   "cell_type": "markdown",
   "metadata": {
    "id": "FHrCkX0ieqjx"
   },
   "source": [
    "# 8.Logistic Regression\n",
    "\n",
    "Logistic Regression is a model that is used for binary classification. The model equations are:\n",
    "\n",
    "$\\hat{Y} = Xβ$\n",
    "\n",
    "$\\hat{p} = \\frac {exp(\\hat{Y})} {1 + exp(\\hat{Y})}\\quad$ (sigmoid)\n",
    "\n",
    "$logit(p_i) = ln(\\frac{p_i}{1-p_i})$\n",
    "\n",
    "Assumptions:\n",
    "\n",
    "* Each $y_i$ is independent.\n",
    "\n",
    "* Each predictor $x_i$ has a linear relationship with $logit(p_i)$.\n",
    "\n",
    "Let's look at an example."
   ]
  },
  {
   "cell_type": "code",
   "execution_count": 49,
   "metadata": {
    "colab": {
     "base_uri": "https://localhost:8080/"
    },
    "id": "e3eks9w7Nu0s",
    "outputId": "5830fa21-c6d6-40e2-f06e-6a95f10163fb"
   },
   "outputs": [
    {
     "name": "stdout",
     "output_type": "stream",
     "text": [
      "Optimization terminated successfully.\n",
      "         Current function value: 0.330815\n",
      "         Iterations 7\n",
      "                           Logit Regression Results                           \n",
      "==============================================================================\n",
      "Dep. Variable:                      y   No. Observations:                 1000\n",
      "Model:                          Logit   Df Residuals:                      997\n",
      "Method:                           MLE   Df Model:                            2\n",
      "Date:                Tue, 05 Nov 2024   Pseudo R-squ.:                  0.5227\n",
      "Time:                        12:32:30   Log-Likelihood:                -330.81\n",
      "converged:                       True   LL-Null:                       -693.14\n",
      "Covariance Type:            nonrobust   LLR p-value:                4.412e-158\n",
      "==============================================================================\n",
      "                 coef    std err          z      P>|z|      [0.025      0.975]\n",
      "------------------------------------------------------------------------------\n",
      "const          0.2277      0.102      2.237      0.025       0.028       0.427\n",
      "x1            -0.3023      0.100     -3.035      0.002      -0.497      -0.107\n",
      "x2             2.1771      0.129     16.830      0.000       1.924       2.431\n",
      "==============================================================================\n"
     ]
    }
   ],
   "source": [
    "X,y = make_classification(n_classes=2,\n",
    "                          n_samples=1000,\n",
    "                          n_features = 2,\n",
    "                          n_redundant=0,\n",
    "                          n_informative = 2,\n",
    "                          random_state = 42)\n",
    "\n",
    "model = sm.Logit(y,sm.add_constant(X)).fit()\n",
    "print(model.summary())"
   ]
  },
  {
   "cell_type": "markdown",
   "metadata": {
    "id": "O9uy5gauOoPo"
   },
   "source": [
    "The logistic regression equations are:\n",
    "\n",
    "$\\hat{y} = 0.22 -0.3x_1 + 2.17x_2$\n",
    "\n",
    "$\\hat{p} = \\text{sigmoid}(\\hat{y})$\n",
    "\n",
    "All the parameters have p-value less than p-critical (0.05) so the model is certain about all the intercept and coefficient values."
   ]
  },
  {
   "cell_type": "markdown",
   "metadata": {
    "id": "l5XKHFMCPi3M"
   },
   "source": [
    "This is the end of this kernel. Thanks for following..."
   ]
  }
 ],
 "metadata": {
  "colab": {
   "provenance": [],
   "toc_visible": true
  },
  "kernelspec": {
   "display_name": "Python 3",
   "name": "python3"
  },
  "language_info": {
   "name": "python"
  }
 },
 "nbformat": 4,
 "nbformat_minor": 0
}
