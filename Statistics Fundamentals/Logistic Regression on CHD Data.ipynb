{
 "cells": [
  {
   "cell_type": "code",
   "execution_count": 1,
   "id": "7e7a5a58",
   "metadata": {},
   "outputs": [],
   "source": [
    "import pandas as pd\n",
    "import numpy as np\n",
    "import matplotlib.pyplot as plt\n",
    "import seaborn as sns\n",
    "import statsmodels.api as sm\n",
    "import statsmodels.formula.api as smf\n",
    "from statsmodels.stats.outliers_influence import variance_inflation_factor\n",
    "import scipy.stats as stats\n",
    "from statsmodels.graphics import mosaicplot\n",
    "import warnings\n",
    "warnings.filterwarnings(\"ignore\")\n",
    "\n",
    "import pathlib\n",
    "import sys\n",
    "\n",
    "PROJECT_PATH = pathlib.Path.cwd()\n",
    "SRC_PATH = PROJECT_PATH / \"src\"\n",
    "sys.path.append(str(SRC_PATH))\n",
    "from utils import cramers_v, compute_vif, likelihood_ratio_test, check_linearity"
   ]
  },
  {
   "cell_type": "markdown",
   "id": "332c1574",
   "metadata": {},
   "source": [
    "# Logistic Regression\n",
    "\n",
    "Recall Model Equation:\n",
    "\n",
    "\n",
    "$$\n",
    "ln(\\frac{\\hat{p}}{1-\\hat{p}}) = \\beta_0 + \\beta_1 x_1 + \\beta_2 x_2... + \\beta_kx_k\n",
    "$$\n",
    "\n",
    "\n",
    "\n",
    "If x is numeric, each unit increase in $x_1$ results in a $e^{\\beta_1}$ increase in the odds of $y = 1$.\n",
    "\n",
    "If x is categorical, then the increase in odds is $e^{\\beta_1}$ times the odds of $y = 1$ if x = 1 compared to x = 0.\n",
    "\n",
    "## Model Assumptions\n",
    "\n",
    "1. Target variable is binary.\n",
    "\n",
    "$$\n",
    "Y \\sim Binomial(n, p) \\quad \\epsilon \\sim Binomial(0, np(1 - p)) \n",
    "$$\n",
    "\n",
    "2. Linear Relation between X and log odds of y = 1. $(ln(\\frac {\\hat{p}}{1-\\hat{p}}))$\n",
    "\n",
    "3. $Y$ are independent.\n"
   ]
  },
  {
   "cell_type": "markdown",
   "id": "ee10d1db",
   "metadata": {},
   "source": [
    "## Dataset:\n",
    "\n",
    "**low:** 1 if birth weight < 2500 g (low), 0 otherwise\n",
    "\n",
    "**age:** mother’s age (years)\n",
    "\n",
    "**lwt:** mother’s weight at last menstrual period (lbs)\n",
    "\n",
    "**race** (1=white, 2=black, 3=other)\n",
    "\n",
    "**smoke** (1=yes, 0=no)\n",
    "\n",
    "**ptl:** number of previous premature labors\n",
    "\n",
    "**ht:** hypertension history (1=yes, 0=no)\n",
    "\n",
    "**ui:** uterine irritability (1=yes, 0=no)\n",
    "\n",
    "**ftv:** number of first trimester doctor visits\n",
    "\n",
    "**bwt:** birth weight (g)"
   ]
  },
  {
   "cell_type": "code",
   "execution_count": 2,
   "id": "12eb4153",
   "metadata": {},
   "outputs": [
    {
     "data": {
      "text/html": [
       "<div>\n",
       "<style scoped>\n",
       "    .dataframe tbody tr th:only-of-type {\n",
       "        vertical-align: middle;\n",
       "    }\n",
       "\n",
       "    .dataframe tbody tr th {\n",
       "        vertical-align: top;\n",
       "    }\n",
       "\n",
       "    .dataframe thead th {\n",
       "        text-align: right;\n",
       "    }\n",
       "</style>\n",
       "<table border=\"1\" class=\"dataframe\">\n",
       "  <thead>\n",
       "    <tr style=\"text-align: right;\">\n",
       "      <th></th>\n",
       "      <th>low</th>\n",
       "      <th>age</th>\n",
       "      <th>lwt</th>\n",
       "      <th>race</th>\n",
       "      <th>smoke</th>\n",
       "      <th>ptl</th>\n",
       "      <th>ht</th>\n",
       "      <th>ui</th>\n",
       "      <th>ftv</th>\n",
       "      <th>bwt</th>\n",
       "    </tr>\n",
       "  </thead>\n",
       "  <tbody>\n",
       "    <tr>\n",
       "      <th>0</th>\n",
       "      <td>0</td>\n",
       "      <td>19</td>\n",
       "      <td>182</td>\n",
       "      <td>2</td>\n",
       "      <td>0</td>\n",
       "      <td>0</td>\n",
       "      <td>0</td>\n",
       "      <td>1</td>\n",
       "      <td>0</td>\n",
       "      <td>2523</td>\n",
       "    </tr>\n",
       "    <tr>\n",
       "      <th>1</th>\n",
       "      <td>0</td>\n",
       "      <td>33</td>\n",
       "      <td>155</td>\n",
       "      <td>3</td>\n",
       "      <td>0</td>\n",
       "      <td>0</td>\n",
       "      <td>0</td>\n",
       "      <td>0</td>\n",
       "      <td>3</td>\n",
       "      <td>2551</td>\n",
       "    </tr>\n",
       "    <tr>\n",
       "      <th>2</th>\n",
       "      <td>0</td>\n",
       "      <td>20</td>\n",
       "      <td>105</td>\n",
       "      <td>1</td>\n",
       "      <td>1</td>\n",
       "      <td>0</td>\n",
       "      <td>0</td>\n",
       "      <td>0</td>\n",
       "      <td>1</td>\n",
       "      <td>2557</td>\n",
       "    </tr>\n",
       "  </tbody>\n",
       "</table>\n",
       "</div>"
      ],
      "text/plain": [
       "   low  age  lwt  race  smoke  ptl  ht  ui  ftv   bwt\n",
       "0    0   19  182     2      0    0   0   1    0  2523\n",
       "1    0   33  155     3      0    0   0   0    3  2551\n",
       "2    0   20  105     1      1    0   0   0    1  2557"
      ]
     },
     "execution_count": 2,
     "metadata": {},
     "output_type": "execute_result"
    }
   ],
   "source": [
    "url = \"https://raw.githubusercontent.com/CEHS-research/data/master/Regression/lowbwt.txt\"\n",
    "df = pd.read_csv(url, sep=\"\\s+\").drop(\"id\", axis=1)\n",
    "df.head(3)"
   ]
  },
  {
   "cell_type": "code",
   "execution_count": 3,
   "id": "06d13ba3",
   "metadata": {},
   "outputs": [
    {
     "data": {
      "text/plain": [
       "low\n",
       "0    130\n",
       "1     59\n",
       "Name: count, dtype: int64"
      ]
     },
     "execution_count": 3,
     "metadata": {},
     "output_type": "execute_result"
    }
   ],
   "source": [
    "df.low.value_counts()"
   ]
  },
  {
   "cell_type": "code",
   "execution_count": 4,
   "id": "b50e8883",
   "metadata": {},
   "outputs": [
    {
     "data": {
      "text/html": [
       "<div>\n",
       "<style scoped>\n",
       "    .dataframe tbody tr th:only-of-type {\n",
       "        vertical-align: middle;\n",
       "    }\n",
       "\n",
       "    .dataframe tbody tr th {\n",
       "        vertical-align: top;\n",
       "    }\n",
       "\n",
       "    .dataframe thead th {\n",
       "        text-align: right;\n",
       "    }\n",
       "</style>\n",
       "<table border=\"1\" class=\"dataframe\">\n",
       "  <thead>\n",
       "    <tr style=\"text-align: right;\">\n",
       "      <th></th>\n",
       "      <th>feature</th>\n",
       "      <th>VIF</th>\n",
       "    </tr>\n",
       "  </thead>\n",
       "  <tbody>\n",
       "    <tr>\n",
       "      <th>0</th>\n",
       "      <td>low</td>\n",
       "      <td>2.377654</td>\n",
       "    </tr>\n",
       "    <tr>\n",
       "      <th>1</th>\n",
       "      <td>age</td>\n",
       "      <td>18.540964</td>\n",
       "    </tr>\n",
       "    <tr>\n",
       "      <th>2</th>\n",
       "      <td>lwt</td>\n",
       "      <td>20.417113</td>\n",
       "    </tr>\n",
       "    <tr>\n",
       "      <th>3</th>\n",
       "      <td>race</td>\n",
       "      <td>5.082147</td>\n",
       "    </tr>\n",
       "    <tr>\n",
       "      <th>4</th>\n",
       "      <td>smoke</td>\n",
       "      <td>1.878673</td>\n",
       "    </tr>\n",
       "    <tr>\n",
       "      <th>5</th>\n",
       "      <td>ptl</td>\n",
       "      <td>1.324998</td>\n",
       "    </tr>\n",
       "    <tr>\n",
       "      <th>6</th>\n",
       "      <td>ht</td>\n",
       "      <td>1.220620</td>\n",
       "    </tr>\n",
       "    <tr>\n",
       "      <th>7</th>\n",
       "      <td>ui</td>\n",
       "      <td>1.290667</td>\n",
       "    </tr>\n",
       "    <tr>\n",
       "      <th>8</th>\n",
       "      <td>ftv</td>\n",
       "      <td>1.684994</td>\n",
       "    </tr>\n",
       "    <tr>\n",
       "      <th>9</th>\n",
       "      <td>bwt</td>\n",
       "      <td>21.632458</td>\n",
       "    </tr>\n",
       "  </tbody>\n",
       "</table>\n",
       "</div>"
      ],
      "text/plain": [
       "  feature        VIF\n",
       "0     low   2.377654\n",
       "1     age  18.540964\n",
       "2     lwt  20.417113\n",
       "3    race   5.082147\n",
       "4   smoke   1.878673\n",
       "5     ptl   1.324998\n",
       "6      ht   1.220620\n",
       "7      ui   1.290667\n",
       "8     ftv   1.684994\n",
       "9     bwt  21.632458"
      ]
     },
     "execution_count": 4,
     "metadata": {},
     "output_type": "execute_result"
    }
   ],
   "source": [
    "#check multicollinearity\n",
    "vif_df = compute_vif(df)\n",
    "vif_df"
   ]
  },
  {
   "cell_type": "code",
   "execution_count": 5,
   "id": "83e0e41c",
   "metadata": {},
   "outputs": [
    {
     "data": {
      "text/html": [
       "<div>\n",
       "<style scoped>\n",
       "    .dataframe tbody tr th:only-of-type {\n",
       "        vertical-align: middle;\n",
       "    }\n",
       "\n",
       "    .dataframe tbody tr th {\n",
       "        vertical-align: top;\n",
       "    }\n",
       "\n",
       "    .dataframe thead th {\n",
       "        text-align: right;\n",
       "    }\n",
       "</style>\n",
       "<table border=\"1\" class=\"dataframe\">\n",
       "  <thead>\n",
       "    <tr style=\"text-align: right;\">\n",
       "      <th></th>\n",
       "      <th>feature</th>\n",
       "      <th>VIF</th>\n",
       "    </tr>\n",
       "  </thead>\n",
       "  <tbody>\n",
       "    <tr>\n",
       "      <th>0</th>\n",
       "      <td>low</td>\n",
       "      <td>1.683036</td>\n",
       "    </tr>\n",
       "    <tr>\n",
       "      <th>1</th>\n",
       "      <td>age</td>\n",
       "      <td>14.670063</td>\n",
       "    </tr>\n",
       "    <tr>\n",
       "      <th>2</th>\n",
       "      <td>lwt</td>\n",
       "      <td>14.564177</td>\n",
       "    </tr>\n",
       "    <tr>\n",
       "      <th>3</th>\n",
       "      <td>race</td>\n",
       "      <td>4.622092</td>\n",
       "    </tr>\n",
       "    <tr>\n",
       "      <th>4</th>\n",
       "      <td>smoke</td>\n",
       "      <td>1.849882</td>\n",
       "    </tr>\n",
       "    <tr>\n",
       "      <th>5</th>\n",
       "      <td>ptl</td>\n",
       "      <td>1.323183</td>\n",
       "    </tr>\n",
       "    <tr>\n",
       "      <th>6</th>\n",
       "      <td>ht</td>\n",
       "      <td>1.187592</td>\n",
       "    </tr>\n",
       "    <tr>\n",
       "      <th>7</th>\n",
       "      <td>ui</td>\n",
       "      <td>1.280199</td>\n",
       "    </tr>\n",
       "    <tr>\n",
       "      <th>8</th>\n",
       "      <td>ftv</td>\n",
       "      <td>1.680125</td>\n",
       "    </tr>\n",
       "  </tbody>\n",
       "</table>\n",
       "</div>"
      ],
      "text/plain": [
       "  feature        VIF\n",
       "0     low   1.683036\n",
       "1     age  14.670063\n",
       "2     lwt  14.564177\n",
       "3    race   4.622092\n",
       "4   smoke   1.849882\n",
       "5     ptl   1.323183\n",
       "6      ht   1.187592\n",
       "7      ui   1.280199\n",
       "8     ftv   1.680125"
      ]
     },
     "execution_count": 5,
     "metadata": {},
     "output_type": "execute_result"
    }
   ],
   "source": [
    "#drop bwt\n",
    "df = df.drop(\"bwt\",axis = 1)\n",
    "vif_df = compute_vif(df)\n",
    "vif_df\n"
   ]
  },
  {
   "cell_type": "code",
   "execution_count": 6,
   "id": "6fa3008a",
   "metadata": {},
   "outputs": [
    {
     "data": {
      "text/plain": [
       "<Axes: xlabel='age', ylabel='lwt'>"
      ]
     },
     "execution_count": 6,
     "metadata": {},
     "output_type": "execute_result"
    },
    {
     "data": {
      "image/png": "[encoded data removed]",
      "text/plain": [
       "<Figure size 640x480 with 1 Axes>"
      ]
     },
     "metadata": {},
     "output_type": "display_data"
    }
   ],
   "source": [
    "sns.regplot(x = \"age\", y = \"lwt\", data = df, line_kws={\"color\": \"darkblue\"}, scatter_kws={\"color\": \"lightgrey\"})"
   ]
  },
  {
   "cell_type": "code",
   "execution_count": 7,
   "id": "db2eaa34",
   "metadata": {},
   "outputs": [
    {
     "name": "stdout",
     "output_type": "stream",
     "text": [
      "Optimization terminated successfully.\n",
      "         Current function value: 0.579001\n",
      "         Iterations 6\n",
      "                           Logit Regression Results                           \n",
      "==============================================================================\n",
      "Dep. Variable:                    low   No. Observations:                  189\n",
      "Model:                          Logit   Df Residuals:                      184\n",
      "Method:                           MLE   Df Model:                            4\n",
      "Date:                Wed, 09 Jul 2025   Pseudo R-squ.:                 0.06737\n",
      "Time:                        12:25:30   Log-Likelihood:                -109.43\n",
      "converged:                       True   LL-Null:                       -117.34\n",
      "Covariance Type:            nonrobust   LLR p-value:                  0.003285\n",
      "================================================================================\n",
      "                   coef    std err          z      P>|z|      [0.025      0.975]\n",
      "--------------------------------------------------------------------------------\n",
      "Intercept       -1.0076      0.862     -1.169      0.242      -2.696       0.681\n",
      "C(race)[T.2]     1.0114      0.493      2.050      0.040       0.044       1.979\n",
      "C(race)[T.3]     1.0567      0.406      2.603      0.009       0.261       1.852\n",
      "smoke            1.1006      0.372      2.959      0.003       0.372       1.830\n",
      "age             -0.0349      0.033     -1.044      0.296      -0.100       0.031\n",
      "================================================================================\n"
     ]
    }
   ],
   "source": [
    "sake_of_discussion = smf.logit(formula = \"low ~ smoke + age + C(race)\", data = df).fit()\n",
    "print(sake_of_discussion.summary())"
   ]
  },
  {
   "cell_type": "markdown",
   "id": "6b1159e5",
   "metadata": {},
   "source": [
    "* Model equation:\n",
    "\n",
    "$$\n",
    "\\log\\left(\\frac{\\hat{p}}{1 - \\hat{p}}\\right) =\n",
    "-1.008 + 1.011 \\cdot \\text{race}_2 +\n",
    "1.057 \\cdot \\text{race}_3 +\n",
    "1.101 \\cdot \\text{smoke} -\n",
    "0.035 \\cdot \\text{age}\n",
    "$$\n",
    "\n",
    "* Model is meaningful (LLR p-value <0.05).\n",
    "\n",
    "* According to the model, `age` is not a significant variable (p-value > 0.05)\n",
    "\n",
    "With each 1-year increase in age, the odds of low birth weight decrease by approximately **3%**  \n",
    "  ($e^{-0.035} \\approx 0.97$). (**Not statistically significant**)\n",
    "\n",
    "Similarly, with each 5-year increase in age, the odds decrease by approximately **16%**  \n",
    "  ($e^{-0.035 \\times 5} \\approx 0.84$). (**Not statistically significant**)\n",
    "\n",
    "Smoking increases the odds of low birth weight by $e^{1.1} = (3.004 - 1) * 100 \\approx 200\\%$.\n",
    "\n",
    "Being Black (compared to White; White is the reference category and therefore not explicitly shown in the model) increases the **odds** of low birth weight by approximately 175%, since $e^{1.01} \\approx 2.75$.\n",
    "\n",
    "Being other compared to white increases the **odds** of the low birth rate by 185\\%, since $e^{1.05} \\approx 2.85$.\n"
   ]
  },
  {
   "cell_type": "markdown",
   "id": "00368976",
   "metadata": {},
   "source": [
    "## Likelihood Ratio Test (LRT)\n",
    "\n",
    "LRT is used to compare two nested models.\n",
    "\n",
    "$H_0:$ The full model and the reduced model are not statistically different.\n",
    "\n",
    "$H_1:$ The full model and the reduced model are statistically different. Full model is better.\n",
    "\n",
    "\n",
    "The LRT test statistic is given by:\n",
    "\n",
    "$$\n",
    "LR = -2 \\left[ \\log L_{\\text{reduced}} - \\log L_{\\text{full}} \\right] = 2 \\left[ \\log L_{\\text{full}} - \\log L_{\\text{reduced}} \\right]\n",
    "$$\n",
    "\n",
    "Where:\n",
    "\n",
    "- $ \\log L_{\\text{full}}  $ = Log-likelihood of the full model  \n",
    "-  $ \\log L_{\\text{reduced}} $ = Log-likelihood of the reduced model\n",
    "\n",
    "This statistic approximately follows a  $ \\chi^2  $ distribution with degrees of freedom equal to the number of additional parameters in the full model.\n"
   ]
  },
  {
   "cell_type": "code",
   "execution_count": 8,
   "id": "cbfd0bb3",
   "metadata": {},
   "outputs": [
    {
     "name": "stdout",
     "output_type": "stream",
     "text": [
      "Optimization terminated successfully.\n",
      "         Current function value: 0.549819\n",
      "         Iterations 6\n",
      "Optimization terminated successfully.\n",
      "         Current function value: 0.549941\n",
      "         Iterations 6\n"
     ]
    }
   ],
   "source": [
    "full_model = smf.logit(formula = \"low ~ smoke + age + C(race) + lwt + ftv + ht\", data = df).fit()\n",
    "reduced_model = smf.logit(formula = \"low ~ smoke + age + C(race) + lwt + ht\", data = df).fit()"
   ]
  },
  {
   "cell_type": "code",
   "execution_count": 9,
   "id": "e0f90ee0",
   "metadata": {},
   "outputs": [
    {
     "name": "stdout",
     "output_type": "stream",
     "text": [
      "LR stat: 0.046, df diff: 1.0, p-value: 0.8304\n"
     ]
    }
   ],
   "source": [
    "test_stat, p_value = likelihood_ratio_test(full_model, reduced_model)"
   ]
  },
  {
   "cell_type": "markdown",
   "id": "0cecac6b",
   "metadata": {},
   "source": [
    "p-value > 0.05. Therefore `fwt` can be dropped."
   ]
  },
  {
   "cell_type": "markdown",
   "id": "8793b2c7",
   "metadata": {},
   "source": [
    "## Confounding\n",
    "\n",
    "Are `race` and `smoke` confounding variables?"
   ]
  },
  {
   "cell_type": "code",
   "execution_count": 10,
   "id": "8fddede2",
   "metadata": {},
   "outputs": [
    {
     "data": {
      "text/plain": [
       "<Figure size 640x480 with 0 Axes>"
      ]
     },
     "metadata": {},
     "output_type": "display_data"
    },
    {
     "data": {
      "image/png": "[encoded data removed]",
      "text/plain": [
       "<Figure size 640x480 with 3 Axes>"
      ]
     },
     "metadata": {},
     "output_type": "display_data"
    }
   ],
   "source": [
    "plt.figure()\n",
    "mosaicplot.mosaic(df, ['race', 'smoke'])\n",
    "plt.show()"
   ]
  },
  {
   "cell_type": "markdown",
   "id": "040280ad",
   "metadata": {},
   "source": [
    "From the plot, white people smoke more. This makes the `race` category a confounding variable. Let's check the relation between these two variables using Cramer's V:"
   ]
  },
  {
   "cell_type": "code",
   "execution_count": 11,
   "id": "30e4e050",
   "metadata": {},
   "outputs": [
    {
     "data": {
      "text/plain": [
       "np.float64(0.33945972698574406)"
      ]
     },
     "execution_count": 11,
     "metadata": {},
     "output_type": "execute_result"
    }
   ],
   "source": [
    "cramers_v(df[\"race\"], df[\"smoke\"])"
   ]
  },
  {
   "cell_type": "markdown",
   "id": "52d02983",
   "metadata": {},
   "source": [
    "Two variables are moderately correlated like we typically expect from confounding variables. Let's add them to our logistic model one by one."
   ]
  },
  {
   "cell_type": "code",
   "execution_count": 12,
   "id": "83f6169b",
   "metadata": {},
   "outputs": [
    {
     "name": "stdout",
     "output_type": "stream",
     "text": [
      "Optimization terminated successfully.\n",
      "         Current function value: 0.607949\n",
      "         Iterations 5\n",
      "                           Logit Regression Results                           \n",
      "==============================================================================\n",
      "Dep. Variable:                    low   No. Observations:                  189\n",
      "Model:                          Logit   Df Residuals:                      187\n",
      "Method:                           MLE   Df Model:                            1\n",
      "Date:                Wed, 09 Jul 2025   Pseudo R-squ.:                 0.02074\n",
      "Time:                        12:25:30   Log-Likelihood:                -114.90\n",
      "converged:                       True   LL-Null:                       -117.34\n",
      "Covariance Type:            nonrobust   LLR p-value:                   0.02737\n",
      "==============================================================================\n",
      "                 coef    std err          z      P>|z|      [0.025      0.975]\n",
      "------------------------------------------------------------------------------\n",
      "Intercept     -1.0871      0.215     -5.062      0.000      -1.508      -0.666\n",
      "smoke          0.7041      0.320      2.203      0.028       0.078       1.331\n",
      "==============================================================================\n"
     ]
    }
   ],
   "source": [
    "model0 = smf.logit(formula = \"low ~ smoke\", data = df).fit()\n",
    "print(model0.summary())"
   ]
  },
  {
   "cell_type": "code",
   "execution_count": 13,
   "id": "0914f8ea",
   "metadata": {},
   "outputs": [
    {
     "name": "stdout",
     "output_type": "stream",
     "text": [
      "Optimization terminated successfully.\n",
      "         Current function value: 0.581944\n",
      "         Iterations 5\n",
      "                           Logit Regression Results                           \n",
      "==============================================================================\n",
      "Dep. Variable:                    low   No. Observations:                  189\n",
      "Model:                          Logit   Df Residuals:                      185\n",
      "Method:                           MLE   Df Model:                            3\n",
      "Date:                Wed, 09 Jul 2025   Pseudo R-squ.:                 0.06263\n",
      "Time:                        12:25:30   Log-Likelihood:                -109.99\n",
      "converged:                       True   LL-Null:                       -117.34\n",
      "Covariance Type:            nonrobust   LLR p-value:                  0.002094\n",
      "================================================================================\n",
      "                   coef    std err          z      P>|z|      [0.025      0.975]\n",
      "--------------------------------------------------------------------------------\n",
      "Intercept       -1.8405      0.353     -5.216      0.000      -2.532      -1.149\n",
      "C(race)[T.2]     1.0841      0.490      2.212      0.027       0.124       2.044\n",
      "C(race)[T.3]     1.1086      0.400      2.769      0.006       0.324       1.893\n",
      "smoke            1.1160      0.369      3.023      0.003       0.392       1.840\n",
      "================================================================================\n"
     ]
    }
   ],
   "source": [
    "model1 = smf.logit(formula = \"low ~ smoke + C(race)\", data = df).fit()\n",
    "print(model1.summary())"
   ]
  },
  {
   "cell_type": "markdown",
   "id": "f3c3bae4",
   "metadata": {},
   "source": [
    "The standard error of `smoking` did not increased (inflated) significantly and model performance improved. Therefore, we are sure that `race` is a confounding variable."
   ]
  },
  {
   "cell_type": "markdown",
   "id": "4f23fc24",
   "metadata": {},
   "source": [
    "## Model Comparison with AIC and BIC\n",
    "\n",
    "AIC and BIC scores are used to compare two not necessarily nested models. They penalize the model complexity and reward model performance. Since our goal is to build the simplest model that predicts the outcome well, the model with the lowest AIC and BIC scores should be chosen. \n",
    "\n",
    "| ΔAIC | Model Explanation                                       |\n",
    "| ---- | --------------------------------------------------- |\n",
    "| 0–2  | Similar models there is no significant difference                   |\n",
    "| 4–7  | Mid level difference – smaller one should be chosen   |\n",
    "| >10  | High difference – smaller one needs to be chosen |\n"
   ]
  },
  {
   "cell_type": "code",
   "execution_count": 14,
   "id": "f0fff32e",
   "metadata": {},
   "outputs": [
    {
     "data": {
      "text/plain": [
       "np.float64(-5.829888995849274)"
      ]
     },
     "execution_count": 14,
     "metadata": {},
     "output_type": "execute_result"
    }
   ],
   "source": [
    "model1.aic - model0.aic"
   ]
  },
  {
   "cell_type": "markdown",
   "id": "d50a1553",
   "metadata": {},
   "source": [
    "`Model0` is more prefferable."
   ]
  },
  {
   "cell_type": "markdown",
   "id": "bd545d2d",
   "metadata": {},
   "source": [
    "## Checking Linearity Assumptions\n",
    "\n",
    "1. Divide data into 4 bins according to $x_i$ interested using quantiles.\n",
    "2. Calculate the median of $x_i$ in each bin.\n",
    "3. Calculate the mean of $y_i$ in each bin (it gives y=1 / all).\n",
    "4. Plot the median of $x_i$ on the x-axis and the mean of $y_i$ on the y-axis.\n",
    "\n",
    "If the line is not linear then the model assumption for $x_i$ is violated.\n",
    "\n",
    "Possible solutions:\n",
    "\n",
    "- Polynomial fit\n",
    "- Binning\n",
    "- Log transforms"
   ]
  },
  {
   "cell_type": "code",
   "execution_count": 15,
   "id": "da08edd9",
   "metadata": {},
   "outputs": [
    {
     "data": {
      "image/png": "[encoded data removed]",
      "text/plain": [
       "<Figure size 640x480 with 1 Axes>"
      ]
     },
     "metadata": {},
     "output_type": "display_data"
    }
   ],
   "source": [
    "summary = check_linearity(\"lwt\", \"low\", df)"
   ]
  },
  {
   "cell_type": "markdown",
   "id": "c084abf3",
   "metadata": {},
   "source": [
    "when the weight is less than 110, then the probability of low birth weight is significantly higher whereas when the weight is greater than 110, the probability of low birth weight does not change much."
   ]
  },
  {
   "cell_type": "code",
   "execution_count": 16,
   "id": "9a0fdfc0",
   "metadata": {},
   "outputs": [],
   "source": [
    "#df[\"lwt_cat\"] = df[\"lwt\"] < 110"
   ]
  },
  {
   "cell_type": "code",
   "execution_count": 17,
   "id": "73f997d0",
   "metadata": {},
   "outputs": [
    {
     "data": {
      "image/png": "[encoded data removed]",
      "text/plain": [
       "<Figure size 640x480 with 1 Axes>"
      ]
     },
     "metadata": {},
     "output_type": "display_data"
    }
   ],
   "source": [
    "summary = check_linearity(\"age\", \"low\", df, 3)"
   ]
  },
  {
   "cell_type": "markdown",
   "id": "35d33400",
   "metadata": {},
   "source": [
    "## Effect Size Model Selection"
   ]
  },
  {
   "cell_type": "code",
   "execution_count": 18,
   "id": "e8f0e1ec",
   "metadata": {},
   "outputs": [
    {
     "name": "stdout",
     "output_type": "stream",
     "text": [
      "                           Logit Regression Results                           \n",
      "==============================================================================\n",
      "Dep. Variable:                    low   No. Observations:                  189\n",
      "Model:                          Logit   Df Residuals:                      182\n",
      "Method:                           MLE   Df Model:                            6\n",
      "Date:                Wed, 09 Jul 2025   Pseudo R-squ.:                  0.1142\n",
      "Time:                        12:25:31   Log-Likelihood:                -103.94\n",
      "converged:                       True   LL-Null:                       -117.34\n",
      "Covariance Type:            nonrobust   LLR p-value:                 0.0001582\n",
      "================================================================================\n",
      "                   coef    std err          z      P>|z|      [0.025      0.975]\n",
      "--------------------------------------------------------------------------------\n",
      "Intercept        0.7773      1.160      0.670      0.503      -1.497       3.052\n",
      "C(race)[T.2]     1.2387      0.526      2.354      0.019       0.207       2.270\n",
      "C(race)[T.3]     0.9191      0.427      2.151      0.031       0.082       1.756\n",
      "smoke            1.0647      0.389      2.736      0.006       0.302       1.827\n",
      "age             -0.0212      0.035     -0.605      0.545      -0.090       0.047\n",
      "lwt             -0.0173      0.007     -2.519      0.012      -0.031      -0.004\n",
      "ht               1.7330      0.688      2.519      0.012       0.385       3.081\n",
      "================================================================================\n"
     ]
    }
   ],
   "source": [
    "print(reduced_model.summary())"
   ]
  },
  {
   "cell_type": "code",
   "execution_count": 19,
   "id": "bd711b9e",
   "metadata": {},
   "outputs": [
    {
     "name": "stdout",
     "output_type": "stream",
     "text": [
      "Optimization terminated successfully.\n",
      "         Current function value: 0.550919\n",
      "         Iterations 6\n",
      "                           Logit Regression Results                           \n",
      "==============================================================================\n",
      "Dep. Variable:                    low   No. Observations:                  189\n",
      "Model:                          Logit   Df Residuals:                      183\n",
      "Method:                           MLE   Df Model:                            5\n",
      "Date:                Wed, 09 Jul 2025   Pseudo R-squ.:                  0.1126\n",
      "Time:                        12:25:31   Log-Likelihood:                -104.12\n",
      "converged:                       True   LL-Null:                       -117.34\n",
      "Covariance Type:            nonrobust   LLR p-value:                 7.381e-05\n",
      "================================================================================\n",
      "                   coef    std err          z      P>|z|      [0.025      0.975]\n",
      "--------------------------------------------------------------------------------\n",
      "Intercept        0.3520      0.924      0.381      0.703      -1.460       2.164\n",
      "C(race)[T.2]     1.2877      0.522      2.468      0.014       0.265       2.310\n",
      "C(race)[T.3]     0.9436      0.423      2.229      0.026       0.114       1.773\n",
      "smoke            1.0716      0.388      2.765      0.006       0.312       1.831\n",
      "lwt             -0.0179      0.007     -2.634      0.008      -0.031      -0.005\n",
      "ht               1.7492      0.691      2.532      0.011       0.395       3.103\n",
      "================================================================================\n"
     ]
    }
   ],
   "source": [
    "reduced_model2 = smf.logit(formula = \"low ~ smoke + C(race) + lwt + ht\", data = df).fit()\n",
    "print(reduced_model2.summary())"
   ]
  },
  {
   "cell_type": "code",
   "execution_count": 20,
   "id": "6a9d134c",
   "metadata": {},
   "outputs": [
    {
     "data": {
      "text/plain": [
       "np.float64(-1.6300954682983217)"
      ]
     },
     "execution_count": 20,
     "metadata": {},
     "output_type": "execute_result"
    }
   ],
   "source": [
    "reduced_model2.aic - reduced_model.aic"
   ]
  },
  {
   "cell_type": "markdown",
   "id": "5526a4a1",
   "metadata": {},
   "source": [
    "we can drop `age` since delta aic < 2."
   ]
  },
  {
   "cell_type": "code",
   "execution_count": 21,
   "id": "9de08085",
   "metadata": {},
   "outputs": [
    {
     "name": "stdout",
     "output_type": "stream",
     "text": [
      "Optimization terminated successfully.\n",
      "         Current function value: 0.572355\n",
      "         Iterations 6\n",
      "                           Logit Regression Results                           \n",
      "==============================================================================\n",
      "Dep. Variable:                    low   No. Observations:                  189\n",
      "Model:                          Logit   Df Residuals:                      184\n",
      "Method:                           MLE   Df Model:                            4\n",
      "Date:                Wed, 09 Jul 2025   Pseudo R-squ.:                 0.07807\n",
      "Time:                        12:25:31   Log-Likelihood:                -108.18\n",
      "converged:                       True   LL-Null:                       -117.34\n",
      "Covariance Type:            nonrobust   LLR p-value:                  0.001068\n",
      "================================================================================\n",
      "                   coef    std err          z      P>|z|      [0.025      0.975]\n",
      "--------------------------------------------------------------------------------\n",
      "Intercept       -1.9314      0.363     -5.324      0.000      -2.642      -1.220\n",
      "C(race)[T.2]     1.0308      0.497      2.074      0.038       0.057       2.005\n",
      "C(race)[T.3]     1.1202      0.405      2.768      0.006       0.327       1.913\n",
      "smoke            1.1297      0.373      3.026      0.002       0.398       1.861\n",
      "ht               1.1795      0.624      1.892      0.059      -0.043       2.402\n",
      "================================================================================\n"
     ]
    }
   ],
   "source": [
    "reduced_model3 = smf.logit(formula = \"low ~ smoke + C(race) + ht\", data = df).fit()\n",
    "print(reduced_model3.summary())"
   ]
  },
  {
   "cell_type": "code",
   "execution_count": 22,
   "id": "3faaeb92",
   "metadata": {},
   "outputs": [
    {
     "name": "stdout",
     "output_type": "stream",
     "text": [
      "LR stat: 8.103, df diff: 1.0, p-value: 0.0044\n"
     ]
    }
   ],
   "source": [
    "test_stat, p_value = likelihood_ratio_test(reduced_model2, reduced_model3)"
   ]
  },
  {
   "cell_type": "markdown",
   "id": "50fe43d7",
   "metadata": {},
   "source": [
    "We can not drop `lwt` since likelihood ratio test indicates that `reduced_model2` is better."
   ]
  },
  {
   "cell_type": "code",
   "execution_count": 23,
   "id": "1106f7e5",
   "metadata": {},
   "outputs": [
    {
     "name": "stdout",
     "output_type": "stream",
     "text": [
      "Optimization terminated successfully.\n",
      "         Current function value: 0.542057\n",
      "         Iterations 6\n",
      "                           Logit Regression Results                           \n",
      "==============================================================================\n",
      "Dep. Variable:                    low   No. Observations:                  189\n",
      "Model:                          Logit   Df Residuals:                      182\n",
      "Method:                           MLE   Df Model:                            6\n",
      "Date:                Wed, 09 Jul 2025   Pseudo R-squ.:                  0.1269\n",
      "Time:                        12:25:31   Log-Likelihood:                -102.45\n",
      "converged:                       True   LL-Null:                       -117.34\n",
      "Covariance Type:            nonrobust   LLR p-value:                 4.339e-05\n",
      "================================================================================\n",
      "                   coef    std err          z      P>|z|      [0.025      0.975]\n",
      "--------------------------------------------------------------------------------\n",
      "Intercept        0.1179      0.944      0.125      0.901      -1.733       1.968\n",
      "C(race)[T.2]     1.2904      0.522      2.470      0.014       0.267       2.314\n",
      "C(race)[T.3]     0.9103      0.428      2.126      0.034       0.071       1.750\n",
      "smoke            0.9462      0.395      2.396      0.017       0.172       1.720\n",
      "lwt             -0.0166      0.007     -2.418      0.016      -0.030      -0.003\n",
      "ht               1.7451      0.695      2.511      0.012       0.383       3.107\n",
      "ptl              0.6025      0.335      1.797      0.072      -0.055       1.260\n",
      "================================================================================\n"
     ]
    }
   ],
   "source": [
    "\n",
    "reduced_model4 = smf.logit(formula = \"low ~ smoke + C(race) + lwt + ht + ptl\", data = df).fit()\n",
    "print(reduced_model4.summary())"
   ]
  },
  {
   "cell_type": "code",
   "execution_count": 24,
   "id": "77a39243",
   "metadata": {},
   "outputs": [
    {
     "name": "stdout",
     "output_type": "stream",
     "text": [
      "LR stat: 3.350, df diff: 1.0, p-value: 0.0672\n",
      "-1.3497304031875785\n"
     ]
    }
   ],
   "source": [
    "test_stat, p_value = likelihood_ratio_test(reduced_model4, reduced_model2)\n",
    "print(reduced_model4.aic - reduced_model2.aic)"
   ]
  },
  {
   "cell_type": "markdown",
   "id": "2d86269a",
   "metadata": {},
   "source": [
    "Adding `ptl` does not improve the model."
   ]
  },
  {
   "cell_type": "code",
   "execution_count": 25,
   "id": "ed29815a",
   "metadata": {},
   "outputs": [
    {
     "name": "stdout",
     "output_type": "stream",
     "text": [
      "Optimization terminated successfully.\n",
      "         Current function value: 0.540256\n",
      "         Iterations 6\n",
      "                           Logit Regression Results                           \n",
      "==============================================================================\n",
      "Dep. Variable:                    low   No. Observations:                  189\n",
      "Model:                          Logit   Df Residuals:                      182\n",
      "Method:                           MLE   Df Model:                            6\n",
      "Date:                Wed, 09 Jul 2025   Pseudo R-squ.:                  0.1298\n",
      "Time:                        12:25:31   Log-Likelihood:                -102.11\n",
      "converged:                       True   LL-Null:                       -117.34\n",
      "Covariance Type:            nonrobust   LLR p-value:                 3.220e-05\n",
      "================================================================================\n",
      "                   coef    std err          z      P>|z|      [0.025      0.975]\n",
      "--------------------------------------------------------------------------------\n",
      "Intercept        0.0563      0.938      0.060      0.952      -1.782       1.894\n",
      "C(race)[T.2]     1.3246      0.521      2.540      0.011       0.303       2.347\n",
      "C(race)[T.3]     0.9262      0.430      2.152      0.031       0.083       1.770\n",
      "smoke            1.0358      0.393      2.639      0.008       0.266       1.805\n",
      "lwt             -0.0167      0.007     -2.459      0.014      -0.030      -0.003\n",
      "ht               1.8714      0.691      2.709      0.007       0.517       3.226\n",
      "ui               0.9050      0.448      2.022      0.043       0.028       1.782\n",
      "================================================================================\n"
     ]
    }
   ],
   "source": [
    "reduced_model5 = smf.logit(formula = \"low ~ smoke + C(race) + lwt + ht + ui\", data = df).fit()\n",
    "print(reduced_model5.summary())"
   ]
  },
  {
   "cell_type": "code",
   "execution_count": 26,
   "id": "93d98955",
   "metadata": {},
   "outputs": [
    {
     "name": "stdout",
     "output_type": "stream",
     "text": [
      "LR stat: 4.031, df diff: 1.0, p-value: 0.0447\n",
      "-2.030796196156558\n"
     ]
    }
   ],
   "source": [
    "test_stat, p_value = likelihood_ratio_test(reduced_model5, reduced_model2)\n",
    "print(reduced_model5.aic - reduced_model2.aic)"
   ]
  },
  {
   "cell_type": "code",
   "execution_count": 27,
   "id": "197b60f2",
   "metadata": {},
   "outputs": [
    {
     "name": "stdout",
     "output_type": "stream",
     "text": [
      "Optimization terminated successfully.\n",
      "         Current function value: 0.549695\n",
      "         Iterations 6\n",
      "                           Logit Regression Results                           \n",
      "==============================================================================\n",
      "Dep. Variable:                    low   No. Observations:                  189\n",
      "Model:                          Logit   Df Residuals:                      182\n",
      "Method:                           MLE   Df Model:                            6\n",
      "Date:                Wed, 09 Jul 2025   Pseudo R-squ.:                  0.1146\n",
      "Time:                        12:25:31   Log-Likelihood:                -103.89\n",
      "converged:                       True   LL-Null:                       -117.34\n",
      "Covariance Type:            nonrobust   LLR p-value:                 0.0001520\n",
      "================================================================================\n",
      "                   coef    std err          z      P>|z|      [0.025      0.975]\n",
      "--------------------------------------------------------------------------------\n",
      "Intercept        1.0102      1.368      0.738      0.460      -1.671       3.692\n",
      "C(race)[T.2]     1.2871      0.523      2.462      0.014       0.262       2.312\n",
      "C(race)[T.3]     0.8946      0.427      2.093      0.036       0.057       1.732\n",
      "smoke           -0.0282      1.675     -0.017      0.987      -3.310       3.254\n",
      "lwt             -0.0230      0.010     -2.203      0.028      -0.043      -0.003\n",
      "ht               1.7070      0.697      2.451      0.014       0.342       3.072\n",
      "smoke:lwt        0.0087      0.013      0.673      0.501      -0.017       0.034\n",
      "================================================================================\n",
      "LR stat: 0.463, df diff: 1.0, p-value: 0.4963\n",
      "1.5371381007916511\n"
     ]
    }
   ],
   "source": [
    "reduced_model6 = smf.logit(formula = \"low ~ smoke + C(race) + lwt + ht + smoke*lwt\", data = df).fit()\n",
    "print(reduced_model6.summary())\n",
    "test_stat, p_value = likelihood_ratio_test(reduced_model6, reduced_model2)\n",
    "print(reduced_model6.aic - reduced_model2.aic)"
   ]
  },
  {
   "cell_type": "markdown",
   "id": "4b26e9c0",
   "metadata": {},
   "source": [
    "Interaction term did not improved the model so we won't include it in our model."
   ]
  }
 ],
 "metadata": {
  "kernelspec": {
   "display_name": "Python 3",
   "language": "python",
   "name": "python3"
  },
  "language_info": {
   "codemirror_mode": {
    "name": "ipython",
    "version": 3
   },
   "file_extension": ".py",
   "mimetype": "text/x-python",
   "name": "python",
   "nbconvert_exporter": "python",
   "pygments_lexer": "ipython3",
   "version": "3.12.6"
  }
 },
 "nbformat": 4,
 "nbformat_minor": 5
}
