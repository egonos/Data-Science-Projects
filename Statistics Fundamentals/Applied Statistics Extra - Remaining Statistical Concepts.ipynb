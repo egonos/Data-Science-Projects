{
  "cells": [
    {
      "cell_type": "code",
      "execution_count": 1,
      "metadata": {
        "id": "Aayy0fPHDBPi"
      },
      "outputs": [],
      "source": [
        "import pandas as pd\n",
        "import numpy as np\n",
        "import statsmodels.api as sm\n",
        "import statsmodels.formula.api as smf\n",
        "from statsmodels.discrete.count_model import ZeroInflatedPoisson\n",
        "from statsmodels.stats.outliers_influence import variance_inflation_factor\n",
        "import seaborn as sns\n",
        "import matplotlib.pyplot as plt\n",
        "import pathlib\n",
        "\n",
        "DATA_PATH = pathlib.Path().cwd() / \"data\""
      ]
    },
    {
      "cell_type": "markdown",
      "metadata": {
        "id": "K53yT5yfHBKa"
      },
      "source": [
        "# Poisson Regression\n",
        "\n",
        "## Basic Definitions\n",
        "\n",
        "- **y**: Number of events observed  \n",
        "- **t**: Time or exposure  \n",
        "- **λ = y / t**: Event rate  \n",
        "\n",
        "Poisson probability distribution:\n",
        "\n",
        "$$\n",
        "P(Y = y) = \\frac{e^{-λt} (λt)^y}{y!}\n",
        "$$\n",
        "\n",
        "## Model Formulation\n",
        "\n",
        "- **Expected Value**:  \n",
        "  $$\n",
        "  \\mathbb{E}[Y] = λt\n",
        "  $$\n",
        "\n",
        "- **Variance**:  \n",
        "  $$\n",
        "  \\text{Var}(Y) = λt\n",
        "  $$\n",
        "\n",
        "- **Model Equation**:\n",
        "  $$\n",
        "  λ = e^{β_0 + β_1 x_1 + ... + β_k x_k}\n",
        "  $$\n",
        "  $$\n",
        "  \\log(λ) = β_0 + β_1 x_1 + ... + β_k x_k\n",
        "  $$\n",
        "\n",
        "Log transformation ensures positivity and enables linear modeling.\n",
        "\n",
        "\n",
        "## Model Assumptions\n",
        "\n",
        "1. Mean equals variance:  \n",
        "   $$\n",
        "   \\mathbb{E}[Y] = \\text{Var}(Y)\n",
        "   $$\n",
        "2. Observations are independent  \n",
        "3. Errors follow a Poisson distribution  \n",
        "\n",
        "\n",
        "## Overdispersion Diagnosis\n",
        "\n",
        "To test if **mean = variance** assumption holds:\n",
        "\n",
        "**Overdispersion factor:**\n",
        "\n",
        "$$\n",
        "\\text{OD} = \\frac{\\sum_i \\left( \\frac{y_i - \\hat{y}_i}{\\sqrt{\\hat{y}_i}} \\right)^2}{n - p} = \\frac{\\chi^2_{\\text{Pearson}}}{\\text{df}_{\\text{resid}}}\n",
        "$$\n",
        "\n",
        "### Interpretation:\n",
        "\n",
        "| Value of OD  | Meaning                          |\n",
        "|--------------|----------------------------------|\n",
        "| ≈ 1.0        | No overdispersion (ideal)        |\n",
        "| > 1.5        | Overdispersion → use Neg. Binomial |\n",
        "| < 1.0        | Underdispersion (rare)           |\n",
        "\n",
        "Poisson regression does **not** have a true R², but several Pseudo R² metrics exist (e.g., McFadden's, Cragg-Uhler, Cox-Snell).\n",
        "\n",
        "Typical interpretation:\n",
        "\n",
        "| Pseudo R² Range | Interpretation           |\n",
        "|------------------|--------------------------|\n",
        "| < 0.1            | Weak fit (common in count models) |\n",
        "| 0.1 – 0.2        | Moderate explanatory power |\n",
        "| 0.2 – 0.4        | Good fit for Poisson data |\n",
        "| > 0.4            | Rare, indicates very strong relationship or overfitting |\n",
        "\n",
        "\n",
        "\n",
        "\n",
        "## Summary\n",
        "\n",
        "- Use **count model** if time/exposure is constant  \n",
        "- Use **rate model** if exposure varies, with `log(t)` as offset  \n",
        "- Always check for **overdispersion**"
      ]
    },
    {
      "cell_type": "markdown",
      "metadata": {
        "id": "TOyC68v_LaTT"
      },
      "source": [
        "# Poisson Regression For Count Data\n",
        "\n",
        "If every observation covers the same time window, the model equation would be:\n",
        "\n",
        "$$\n",
        "\\log(\\mathbb{E}[Y]) = β_0 + β_1 x_1 + ... + β_k x_k\n",
        "$$\n",
        "\n",
        "\n",
        "\n",
        "For this particular problem:\n",
        "\n",
        "$$\n",
        "\\text{satıs\\_sayısı} = e^{b_0 + b_1\\times\\text{musteri\\_sayisi} + b_2\\times{promosyon}}\n",
        "$$\n",
        "\n",
        "Timeframe of each instance is daily so model the count data directly."
      ]
    },
    {
      "cell_type": "code",
      "execution_count": 2,
      "metadata": {
        "id": "PCpJJOaMDBw4"
      },
      "outputs": [
        {
          "data": {
            "text/html": [
              "<div>\n",
              "<style scoped>\n",
              "    .dataframe tbody tr th:only-of-type {\n",
              "        vertical-align: middle;\n",
              "    }\n",
              "\n",
              "    .dataframe tbody tr th {\n",
              "        vertical-align: top;\n",
              "    }\n",
              "\n",
              "    .dataframe thead th {\n",
              "        text-align: right;\n",
              "    }\n",
              "</style>\n",
              "<table border=\"1\" class=\"dataframe\">\n",
              "  <thead>\n",
              "    <tr style=\"text-align: right;\">\n",
              "      <th></th>\n",
              "      <th>promosyon</th>\n",
              "      <th>musteri_sayisi</th>\n",
              "      <th>satis_adedi</th>\n",
              "    </tr>\n",
              "    <tr>\n",
              "      <th>gun</th>\n",
              "      <th></th>\n",
              "      <th></th>\n",
              "      <th></th>\n",
              "    </tr>\n",
              "  </thead>\n",
              "  <tbody>\n",
              "    <tr>\n",
              "      <th>1</th>\n",
              "      <td>0</td>\n",
              "      <td>51</td>\n",
              "      <td>1</td>\n",
              "    </tr>\n",
              "    <tr>\n",
              "      <th>2</th>\n",
              "      <td>1</td>\n",
              "      <td>67</td>\n",
              "      <td>2</td>\n",
              "    </tr>\n",
              "    <tr>\n",
              "      <th>3</th>\n",
              "      <td>1</td>\n",
              "      <td>53</td>\n",
              "      <td>2</td>\n",
              "    </tr>\n",
              "  </tbody>\n",
              "</table>\n",
              "</div>"
            ],
            "text/plain": [
              "     promosyon  musteri_sayisi  satis_adedi\n",
              "gun                                        \n",
              "1            0              51            1\n",
              "2            1              67            2\n",
              "3            1              53            2"
            ]
          },
          "execution_count": 2,
          "metadata": {},
          "output_type": "execute_result"
        }
      ],
      "source": [
        "data = pd.read_csv(DATA_PATH / \"SalesData.csv\",index_col=0)\n",
        "data.head(3)"
      ]
    },
    {
      "cell_type": "code",
      "execution_count": 3,
      "metadata": {
        "colab": {
          "base_uri": "https://localhost:8080/",
          "height": 450
        },
        "id": "0Bp-1MofndcE",
        "outputId": "dfe33bfd-01e8-4035-efa2-c64dd1332c8d"
      },
      "outputs": [
        {
          "data": {
            "image/png": "[encoded data removed]",
            "text/plain": [
              "<Figure size 640x480 with 1 Axes>"
            ]
          },
          "metadata": {},
          "output_type": "display_data"
        }
      ],
      "source": [
        "plt.plot()\n",
        "sns.histplot(data[\"satis_adedi\"])\n",
        "plt.show()"
      ]
    },
    {
      "cell_type": "code",
      "execution_count": 4,
      "metadata": {
        "id": "1EAYY_xADpXi"
      },
      "outputs": [
        {
          "name": "stdout",
          "output_type": "stream",
          "text": [
            "                 Generalized Linear Model Regression Results                  \n",
            "==============================================================================\n",
            "Dep. Variable:            satis_adedi   No. Observations:                  100\n",
            "Model:                            GLM   Df Residuals:                       97\n",
            "Model Family:                 Poisson   Df Model:                            2\n",
            "Link Function:                    Log   Scale:                          1.0000\n",
            "Method:                          IRLS   Log-Likelihood:                -164.13\n",
            "Date:                Tue, 08 Jul 2025   Deviance:                       125.72\n",
            "Time:                        10:09:05   Pearson chi2:                     109.\n",
            "No. Iterations:                     4   Pseudo R-squ. (CS):             0.2280\n",
            "Covariance Type:            nonrobust                                         \n",
            "==================================================================================\n",
            "                     coef    std err          z      P>|z|      [0.025      0.975]\n",
            "----------------------------------------------------------------------------------\n",
            "Intercept         -1.2836      0.573     -2.239      0.025      -2.407      -0.160\n",
            "promosyon          0.5903      0.149      3.971      0.000       0.299       0.882\n",
            "musteri_sayisi     0.0286      0.010      2.898      0.004       0.009       0.048\n",
            "==================================================================================\n"
          ]
        }
      ],
      "source": [
        "formula = \"satis_adedi ~ promosyon + musteri_sayisi\"\n",
        "model = smf.glm(formula,data,family=sm.families.Poisson())\n",
        "result = model.fit()\n",
        "print(result.summary())"
      ]
    },
    {
      "cell_type": "markdown",
      "metadata": {
        "id": "eiVf3kNpLiMw"
      },
      "source": [
        "Pseudo $R^2$ = 0.22 $→$ Good Fit\n",
        "\n",
        "$\\frac{Pearson χ}{dof} = \\frac {109} {97} ≈ 1$ $→$ No Overdispersion"
      ]
    },
    {
      "cell_type": "markdown",
      "metadata": {
        "id": "xcG8K7cAMVku"
      },
      "source": [
        "#Poisson Regression for the Rate Data\n",
        "\n",
        "If time or exposure varies across observations, the model equation would be:\n",
        "\n",
        "$$\n",
        "\\log(\\mathbb{E}[Y]) = β_0 + β_1 x_1 + ... + β_k x_k + \\log(t)\n",
        "$$\n",
        "\n",
        "Where `log(t)` is an **offset** (added, not estimated).\n",
        "\n",
        "$$\n",
        "log(\\text{donusum\\_sayısı}) = b_0 + b_1\\times\\text{kampanya} + log(\\text{ziyaret\\_sayısı})\n",
        "$$"
      ]
    },
    {
      "cell_type": "code",
      "execution_count": 5,
      "metadata": {
        "id": "XKhwFgmWELA0"
      },
      "outputs": [
        {
          "data": {
            "text/html": [
              "<div>\n",
              "<style scoped>\n",
              "    .dataframe tbody tr th:only-of-type {\n",
              "        vertical-align: middle;\n",
              "    }\n",
              "\n",
              "    .dataframe tbody tr th {\n",
              "        vertical-align: top;\n",
              "    }\n",
              "\n",
              "    .dataframe thead th {\n",
              "        text-align: right;\n",
              "    }\n",
              "</style>\n",
              "<table border=\"1\" class=\"dataframe\">\n",
              "  <thead>\n",
              "    <tr style=\"text-align: right;\">\n",
              "      <th></th>\n",
              "      <th>kampanya</th>\n",
              "      <th>ziyaret_sayisi</th>\n",
              "      <th>donusum_sayisi</th>\n",
              "    </tr>\n",
              "    <tr>\n",
              "      <th>gun</th>\n",
              "      <th></th>\n",
              "      <th></th>\n",
              "      <th></th>\n",
              "    </tr>\n",
              "  </thead>\n",
              "  <tbody>\n",
              "    <tr>\n",
              "      <th>1</th>\n",
              "      <td>1</td>\n",
              "      <td>301</td>\n",
              "      <td>1</td>\n",
              "    </tr>\n",
              "    <tr>\n",
              "      <th>2</th>\n",
              "      <td>0</td>\n",
              "      <td>274</td>\n",
              "      <td>1</td>\n",
              "    </tr>\n",
              "    <tr>\n",
              "      <th>3</th>\n",
              "      <td>0</td>\n",
              "      <td>291</td>\n",
              "      <td>4</td>\n",
              "    </tr>\n",
              "  </tbody>\n",
              "</table>\n",
              "</div>"
            ],
            "text/plain": [
              "     kampanya  ziyaret_sayisi  donusum_sayisi\n",
              "gun                                          \n",
              "1           1             301               1\n",
              "2           0             274               1\n",
              "3           0             291               4"
            ]
          },
          "execution_count": 5,
          "metadata": {},
          "output_type": "execute_result"
        }
      ],
      "source": [
        "df = pd.read_csv(DATA_PATH / \"PoissonRateData.csv\",index_col=0)\n",
        "df.head(3)"
      ]
    },
    {
      "cell_type": "code",
      "execution_count": 6,
      "metadata": {
        "colab": {
          "base_uri": "https://localhost:8080/",
          "height": 175
        },
        "id": "B9fCPLcsFBJ7",
        "outputId": "695bddee-8c37-4743-a147-7657ad06020c"
      },
      "outputs": [
        {
          "data": {
            "image/png": "[encoded data removed]",
            "text/plain": [
              "<Figure size 640x480 with 1 Axes>"
            ]
          },
          "metadata": {},
          "output_type": "display_data"
        }
      ],
      "source": [
        "plt.figure()\n",
        "sns.histplot(df[\"donusum_sayisi\"])\n",
        "plt.show()"
      ]
    },
    {
      "cell_type": "code",
      "execution_count": 7,
      "metadata": {
        "colab": {
          "base_uri": "https://localhost:8080/"
        },
        "id": "AnMaTNulFBqj",
        "outputId": "c2cac961-d0a8-451b-cc39-8a9a731d5011"
      },
      "outputs": [
        {
          "name": "stdout",
          "output_type": "stream",
          "text": [
            "                 Generalized Linear Model Regression Results                  \n",
            "==============================================================================\n",
            "Dep. Variable:         donusum_sayisi   No. Observations:                  100\n",
            "Model:                            GLM   Df Residuals:                       98\n",
            "Model Family:                 Poisson   Df Model:                            1\n",
            "Link Function:                    Log   Scale:                          1.0000\n",
            "Method:                          IRLS   Log-Likelihood:                -166.39\n",
            "Date:                Tue, 08 Jul 2025   Deviance:                       116.05\n",
            "Time:                        10:09:05   Pearson chi2:                     104.\n",
            "No. Iterations:                     4   Pseudo R-squ. (CS):            0.05872\n",
            "Covariance Type:            nonrobust                                         \n",
            "==============================================================================\n",
            "                 coef    std err          z      P>|z|      [0.025      0.975]\n",
            "------------------------------------------------------------------------------\n",
            "Intercept     -5.2270      0.100    -52.270      0.000      -5.423      -5.031\n",
            "kampanya       0.3619      0.146      2.476      0.013       0.075       0.648\n",
            "==============================================================================\n"
          ]
        }
      ],
      "source": [
        "formula = \"donusum_sayisi ~ kampanya\"\n",
        "model = smf.glm(\n",
        "    formula=formula,\n",
        "    data=df,\n",
        "    family=sm.families.Poisson(),\n",
        "    offset=np.log(df[\"ziyaret_sayisi\"])\n",
        ")\n",
        "result = model.fit()\n",
        "print(result.summary())"
      ]
    },
    {
      "cell_type": "markdown",
      "metadata": {
        "id": "kORipOG0nEQM"
      },
      "source": [
        "# Zero-Inflated Poisson Regression (ZIP)\n",
        "\n",
        "**Zero-Inflated Poisson (ZIP)** regression is used when the dataset contains more zero observations than expected under a standard Poisson model — **but there is no significant overdispersion** (i.e., mean ≈ variance for non-zero counts). It is a two-component mixture model.\n",
        "\n",
        "## 1. Logistic Model (Inflation Part)\n",
        "A logistic regression is used to model the probability that an observation is from the **\"always-zero\" group** (structural zeros).  \n",
        "This component separates:\n",
        "\n",
        "- **Structural zeros**: Observations that are always zero due to some underlying condition  \n",
        "- **Non-structural zeros**: Observations that could have been positive, but happened to be zero\n",
        "\n",
        "Formally:\n",
        "$$\n",
        "P(Y_i = 0) = \\pi_i + (1 - \\pi_i) \\cdot e^{-\\lambda_i}\n",
        "$$\n",
        "where  $\\pi_i$  is the probability of being an always-zero case.\n",
        "\n",
        "\n",
        "\n",
        "## 2. Poisson Model (Count Part)\n",
        "The standard Poisson regression is fitted to model the **count process** for the remaining observations (including both non-zero values and Poisson-generated zeros).\n",
        "\n",
        "Formally:\n",
        "$$\n",
        "\\log(\\lambda_i) = \\beta_0 + \\beta_1 x_{i1} + \\dots + \\beta_k x_{ik}\n",
        "$$\n",
        "\n",
        "## Interpreting Pseudo R² in ZIP Models\n",
        "\n",
        "While Pseudo R² in Zero-Inflated Poisson (ZIP) models is not directly comparable to R² in linear regression, it still provides a useful heuristic for model fit.\n",
        "\n",
        "| Pseudo R² Range  | Interpretation (for ZIP models)                                   |\n",
        "|------------------|--------------------------------------------------------------------|\n",
        "| < 0.05           | Weak fit — predictors explain very little variation               |\n",
        "| 0.05 – 0.15      | Typical and acceptable — especially in zero-heavy count data       |\n",
        "| > 0.20           | Strong model — relatively rare, shows substantial explanatory power|\n",
        "| > 0.40           | Suspiciously high — may indicate overfitting or data leakage       |\n",
        "\n",
        "If LLR p-value < 0.05, then it means that the model is meaningful.\n",
        "\n",
        "\n",
        "## Use Cases\n",
        "\n",
        "Use ZIP when:\n",
        "\n",
        "- The data has **excess zeros**\n",
        "- But the variance is **not significantly greater than** the mean (i.e., no overdispersion)\n",
        "- There is reason to believe that some zeros are **structural**\n",
        "\n",
        "If both **excess zeros** and **overdispersion** are present, consider using a **Zero-Inflated Negative Binomial (ZINB)** model instead.\n",
        "\n",
        "Don't use ZIP if 0's are not structured!\n",
        "\n"
      ]
    },
    {
      "cell_type": "code",
      "execution_count": 8,
      "metadata": {
        "id": "Fihpqp-ynQpJ"
      },
      "outputs": [
        {
          "data": {
            "text/html": [
              "<div>\n",
              "<style scoped>\n",
              "    .dataframe tbody tr th:only-of-type {\n",
              "        vertical-align: middle;\n",
              "    }\n",
              "\n",
              "    .dataframe tbody tr th {\n",
              "        vertical-align: top;\n",
              "    }\n",
              "\n",
              "    .dataframe thead th {\n",
              "        text-align: right;\n",
              "    }\n",
              "</style>\n",
              "<table border=\"1\" class=\"dataframe\">\n",
              "  <thead>\n",
              "    <tr style=\"text-align: right;\">\n",
              "      <th></th>\n",
              "      <th>kampanya</th>\n",
              "      <th>donusum_sayisi</th>\n",
              "      <th>kullanici_turu</th>\n",
              "    </tr>\n",
              "  </thead>\n",
              "  <tbody>\n",
              "    <tr>\n",
              "      <th>0</th>\n",
              "      <td>1</td>\n",
              "      <td>0</td>\n",
              "      <td>1</td>\n",
              "    </tr>\n",
              "    <tr>\n",
              "      <th>1</th>\n",
              "      <td>0</td>\n",
              "      <td>1</td>\n",
              "      <td>0</td>\n",
              "    </tr>\n",
              "    <tr>\n",
              "      <th>2</th>\n",
              "      <td>0</td>\n",
              "      <td>1</td>\n",
              "      <td>1</td>\n",
              "    </tr>\n",
              "  </tbody>\n",
              "</table>\n",
              "</div>"
            ],
            "text/plain": [
              "   kampanya  donusum_sayisi  kullanici_turu\n",
              "0         1               0               1\n",
              "1         0               1               0\n",
              "2         0               1               1"
            ]
          },
          "execution_count": 8,
          "metadata": {},
          "output_type": "execute_result"
        }
      ],
      "source": [
        "zip_data = pd.read_csv(DATA_PATH / \"ZIPData.csv\")\n",
        "zip_data.head(3)"
      ]
    },
    {
      "cell_type": "code",
      "execution_count": 9,
      "metadata": {
        "colab": {
          "base_uri": "https://localhost:8080/",
          "height": 450
        },
        "id": "j4fk6mlYoL6t",
        "outputId": "ab677029-a126-428d-8165-237ae2db9f50"
      },
      "outputs": [
        {
          "data": {
            "image/png": "[encoded data removed]",
            "text/plain": [
              "<Figure size 640x480 with 1 Axes>"
            ]
          },
          "metadata": {},
          "output_type": "display_data"
        }
      ],
      "source": [
        "plt.figure()\n",
        "sns.histplot(zip_data[\"donusum_sayisi\"])\n",
        "plt.show()"
      ]
    },
    {
      "cell_type": "code",
      "execution_count": 10,
      "metadata": {
        "colab": {
          "base_uri": "https://localhost:8080/"
        },
        "id": "EZPE4dQZoPwu",
        "outputId": "3882f5cc-26e0-4bb3-a149-73addb76abd5"
      },
      "outputs": [
        {
          "name": "stdout",
          "output_type": "stream",
          "text": [
            "                     ZeroInflatedPoisson Regression Results                    \n",
            "===============================================================================\n",
            "Dep. Variable:          donusum_sayisi   No. Observations:                  200\n",
            "Model:             ZeroInflatedPoisson   Df Residuals:                      197\n",
            "Method:                            MLE   Df Model:                            2\n",
            "Date:                 Tue, 08 Jul 2025   Pseudo R-squ.:                 0.07592\n",
            "Time:                         10:09:05   Log-Likelihood:                -249.24\n",
            "converged:                        True   LL-Null:                       -269.72\n",
            "Covariance Type:             nonrobust   LLR p-value:                 1.281e-09\n",
            "==========================================================================================\n",
            "                             coef    std err          z      P>|z|      [0.025      0.975]\n",
            "------------------------------------------------------------------------------------------\n",
            "inflate_const             -0.7651      0.475     -1.611      0.107      -1.696       0.166\n",
            "inflate_kampanya          -1.5589      0.763     -2.043      0.041      -3.055      -0.063\n",
            "inflate_kullanici_turu     0.2211      0.616      0.359      0.719      -0.986       1.428\n",
            "const                     -0.2973      0.154     -1.925      0.054      -0.600       0.005\n",
            "kampanya                   0.7571      0.166      4.563      0.000       0.432       1.082\n",
            "kullanici_turu             0.2622      0.157      1.670      0.095      -0.046       0.570\n",
            "==========================================================================================\n"
          ]
        }
      ],
      "source": [
        "X = sm.add_constant(zip_data[[\"kampanya\", \"kullanici_turu\"]])\n",
        "y = zip_data[\"donusum_sayisi\"]\n",
        "\n",
        "zip_model = ZeroInflatedPoisson(endog=y, exog=X, exog_infl=X, inflation='logit')\n",
        "zip_result = zip_model.fit(method='bfgs', maxiter=100, disp=0)\n",
        "\n",
        "print(zip_result.summary())"
      ]
    },
    {
      "cell_type": "markdown",
      "metadata": {
        "id": "Kjm3DvRuszFX"
      },
      "source": [
        "# Negative Binomial Poisson Regression"
      ]
    },
    {
      "cell_type": "code",
      "execution_count": 11,
      "metadata": {
        "id": "IZaEP25Qs3jw"
      },
      "outputs": [
        {
          "data": {
            "text/html": [
              "<div>\n",
              "<style scoped>\n",
              "    .dataframe tbody tr th:only-of-type {\n",
              "        vertical-align: middle;\n",
              "    }\n",
              "\n",
              "    .dataframe tbody tr th {\n",
              "        vertical-align: top;\n",
              "    }\n",
              "\n",
              "    .dataframe thead th {\n",
              "        text-align: right;\n",
              "    }\n",
              "</style>\n",
              "<table border=\"1\" class=\"dataframe\">\n",
              "  <thead>\n",
              "    <tr style=\"text-align: right;\">\n",
              "      <th></th>\n",
              "      <th>kampanya</th>\n",
              "      <th>kullanici_turu</th>\n",
              "      <th>satis_adedi</th>\n",
              "    </tr>\n",
              "  </thead>\n",
              "  <tbody>\n",
              "    <tr>\n",
              "      <th>0</th>\n",
              "      <td>0</td>\n",
              "      <td>0</td>\n",
              "      <td>0</td>\n",
              "    </tr>\n",
              "    <tr>\n",
              "      <th>1</th>\n",
              "      <td>1</td>\n",
              "      <td>1</td>\n",
              "      <td>0</td>\n",
              "    </tr>\n",
              "    <tr>\n",
              "      <th>2</th>\n",
              "      <td>1</td>\n",
              "      <td>1</td>\n",
              "      <td>0</td>\n",
              "    </tr>\n",
              "  </tbody>\n",
              "</table>\n",
              "</div>"
            ],
            "text/plain": [
              "   kampanya  kullanici_turu  satis_adedi\n",
              "0         0               0            0\n",
              "1         1               1            0\n",
              "2         1               1            0"
            ]
          },
          "execution_count": 11,
          "metadata": {},
          "output_type": "execute_result"
        }
      ],
      "source": [
        "nb_data = pd.read_csv(DATA_PATH / \"NegativeBinomialData.csv\")\n",
        "nb_data.head(3)"
      ]
    },
    {
      "cell_type": "code",
      "execution_count": 12,
      "metadata": {
        "colab": {
          "base_uri": "https://localhost:8080/",
          "height": 450
        },
        "id": "9eOx6DV1t9xS",
        "outputId": "b4004332-ec34-4493-f622-fc7ec3412989"
      },
      "outputs": [
        {
          "data": {
            "image/png": "[encoded data removed]",
            "text/plain": [
              "<Figure size 640x480 with 1 Axes>"
            ]
          },
          "metadata": {},
          "output_type": "display_data"
        }
      ],
      "source": [
        "plt.figure()\n",
        "sns.histplot(nb_data[\"satis_adedi\"])\n",
        "plt.show()"
      ]
    },
    {
      "cell_type": "markdown",
      "metadata": {},
      "source": [
        "Sales assumed not to have structural 0's. Therefore a zero inflated model did not employed."
      ]
    },
    {
      "cell_type": "code",
      "execution_count": 13,
      "metadata": {
        "colab": {
          "base_uri": "https://localhost:8080/"
        },
        "id": "T5WbdBBwtnKs",
        "outputId": "afa67908-e60c-4fe4-b22f-919cdd7d3da3"
      },
      "outputs": [
        {
          "data": {
            "text/plain": [
              "(966.5851746336996, np.int64(297), np.float64(3.254495537487204))"
            ]
          },
          "execution_count": 13,
          "metadata": {},
          "output_type": "execute_result"
        }
      ],
      "source": [
        "temp_model = smf.glm(\n",
        "    formula=\"satis_adedi ~ kampanya + kullanici_turu\",\n",
        "    data=nb_data,\n",
        "    family=sm.families.Poisson()\n",
        ").fit()\n",
        "\n",
        "pearson_chi2 = sum(temp_model.resid_pearson**2)\n",
        "df_resid = temp_model.df_resid\n",
        "overdispersion_factor = pearson_chi2 / df_resid\n",
        "\n",
        "pearson_chi2, df_resid, overdispersion_factor"
      ]
    },
    {
      "cell_type": "markdown",
      "metadata": {
        "id": "youAl8wjtp3_"
      },
      "source": [
        "$3.25 > 1.5$; Overdispersion exists. Therefore Negative Binomial Poisson Regression should be used."
      ]
    },
    {
      "cell_type": "code",
      "execution_count": 14,
      "metadata": {
        "colab": {
          "base_uri": "https://localhost:8080/"
        },
        "id": "AfmT1HlztBJh",
        "outputId": "9196dc95-5a05-4530-8d92-6cee031809a1"
      },
      "outputs": [
        {
          "name": "stdout",
          "output_type": "stream",
          "text": [
            "                 Generalized Linear Model Regression Results                  \n",
            "==============================================================================\n",
            "Dep. Variable:            satis_adedi   No. Observations:                  300\n",
            "Model:                            GLM   Df Residuals:                      297\n",
            "Model Family:        NegativeBinomial   Df Model:                            2\n",
            "Link Function:                    Log   Scale:                          1.0000\n",
            "Method:                          IRLS   Log-Likelihood:                -533.47\n",
            "Date:                Tue, 08 Jul 2025   Deviance:                       340.57\n",
            "Time:                        10:09:05   Pearson chi2:                     351.\n",
            "No. Iterations:                     5   Pseudo R-squ. (CS):            0.06451\n",
            "Covariance Type:            nonrobust                                         \n",
            "==================================================================================\n",
            "                     coef    std err          z      P>|z|      [0.025      0.975]\n",
            "----------------------------------------------------------------------------------\n",
            "Intercept          0.1105      0.131      0.845      0.398      -0.146       0.367\n",
            "kullanici_turu     0.3267      0.147      2.220      0.026       0.038       0.615\n",
            "kampanya           0.5807      0.147      3.951      0.000       0.293       0.869\n",
            "==================================================================================\n"
          ]
        },
        {
          "name": "stderr",
          "output_type": "stream",
          "text": [
            "c:\\Users\\Egemen\\AppData\\Local\\Programs\\Python\\Python312\\Lib\\site-packages\\statsmodels\\genmod\\families\\family.py:1367: ValueWarning: Negative binomial dispersion parameter alpha not set. Using default value alpha=1.0.\n",
            "  warnings.warn(\"Negative binomial dispersion parameter alpha not \"\n"
          ]
        }
      ],
      "source": [
        "formula = \"satis_adedi ~ kullanici_turu + kampanya\"\n",
        "nb_model = smf.glm(formula, data = nb_data, family=sm.families.NegativeBinomial())\n",
        "nb_result = nb_model.fit()\n",
        "print(nb_result.summary())"
      ]
    },
    {
      "cell_type": "markdown",
      "metadata": {},
      "source": [
        "# Variance Inflation Factor (VIF)\n",
        "\n",
        "VIF is used to detect multicollinearity between the predictor variables in a regression model.  \n",
        "It tells us how much the **variance** of a regression coefficient is increased because the variable is **correlated with other predictors**.\n",
        "\n",
        "$$\n",
        "VIF_{x_1} = \\frac{1}{1 - R^2_{x_1}}\n",
        "$$\n",
        "\n",
        "Where $R^2_{x_1}$ is the R-squared value from a regression of $x_1$ on all the other predictors:\n",
        "\n",
        "$$\n",
        "x_1 = b_0 + b_2x_2 + b_3x_3 + \\ldots + b_kx_k\n",
        "$$\n",
        "\n",
        "\n",
        "| VIF Range | Interpretation                                  |\n",
        "|-----------|--------------------------------------------------|\n",
        "| 1         | No multicollinearity                            |\n",
        "| 1–5       | Low to moderate multicollinearity (acceptable)  |\n",
        "| 5–10      | High multicollinearity (potential concern)       |\n",
        "| > 10      | Very high multicollinearity (serious problem)    |\n",
        "\n",
        "\n",
        "\n"
      ]
    },
    {
      "cell_type": "code",
      "execution_count": null,
      "metadata": {},
      "outputs": [
        {
          "name": "stdout",
          "output_type": "stream",
          "text": [
            "  feature        VIF\n",
            "0   const  74.701754\n",
            "1      x1   5.194730\n",
            "2      x2   5.205396\n",
            "3      x3   1.043826\n"
          ]
        }
      ],
      "source": [
        "np.random.seed(1)\n",
        "x1 = np.random.normal(50, 10, 100)\n",
        "x2 = x1 + np.random.normal(0, 5, 100) \n",
        "x3 = np.random.normal(30, 5, 100)\n",
        "\n",
        "df = pd.DataFrame({\n",
        "    \"x1\": x1,\n",
        "    \"x2\": x2,\n",
        "    \"x3\": x3\n",
        "})\n",
        "\n",
        "X = sm.add_constant(df)\n",
        "vif = pd.DataFrame()\n",
        "vif[\"feature\"] = X.columns\n",
        "vif[\"VIF\"] = [variance_inflation_factor(X.values, i) for i in range(X.shape[1])]\n",
        "print(vif)"
      ]
    },
    {
      "cell_type": "markdown",
      "metadata": {},
      "source": [
        "# Confounding\n",
        "\n",
        "**Confounding** occurs when a predictor variable shares a hidden association with both the outcome variable and another predictor, leading to a distorted estimation of the true relationship.\n",
        "\n",
        "A **confounding variable** is one that:\n",
        "- Is associated with the independent variable,\n",
        "- Influences the dependent variable,\n",
        "- And is **not included** in the model, which results in **overstated or misleading effects** of the predictor on the outcome.\n",
        "\n",
        "## How to Detect a Confounding Variable?\n",
        "\n",
        "1. **Domain Expertise:** Use subject-matter knowledge to identify variables that are logically related to both the predictor and the outcome.\n",
        "\n",
        "2. **Correlation Analysis:** Look for variables that are correlated with both the independent variable and the dependent variable. High correlations in both directions are strong indicators of potential confounding.\n",
        "\n",
        "\n",
        "Confounding shouldn't be mixed up with multicollinearity. Confounding happens when an outside variable affects both the predictor and the outcome, making the effect look stronger or weaker than it really is. Multicollinearity means that two or more predictors are too similar, which makes it hard to tell which one really matters. \n",
        "\n",
        "How to differentiate multicollinearity from confounding? Use the Variance Inflation Factor (VIF) to detect multicollinearity, or check for very high correlations between predictor variables (typically above 0.8).\n"
      ]
    },
    {
      "cell_type": "code",
      "execution_count": 16,
      "metadata": {},
      "outputs": [
        {
          "data": {
            "text/html": [
              "<div>\n",
              "<style scoped>\n",
              "    .dataframe tbody tr th:only-of-type {\n",
              "        vertical-align: middle;\n",
              "    }\n",
              "\n",
              "    .dataframe tbody tr th {\n",
              "        vertical-align: top;\n",
              "    }\n",
              "\n",
              "    .dataframe thead th {\n",
              "        text-align: right;\n",
              "    }\n",
              "</style>\n",
              "<table border=\"1\" class=\"dataframe\">\n",
              "  <thead>\n",
              "    <tr style=\"text-align: right;\">\n",
              "      <th></th>\n",
              "      <th>kampanya</th>\n",
              "      <th>kullanici_tipi</th>\n",
              "      <th>satis</th>\n",
              "    </tr>\n",
              "  </thead>\n",
              "  <tbody>\n",
              "    <tr>\n",
              "      <th>0</th>\n",
              "      <td>1</td>\n",
              "      <td>1</td>\n",
              "      <td>2</td>\n",
              "    </tr>\n",
              "    <tr>\n",
              "      <th>1</th>\n",
              "      <td>0</td>\n",
              "      <td>0</td>\n",
              "      <td>2</td>\n",
              "    </tr>\n",
              "    <tr>\n",
              "      <th>2</th>\n",
              "      <td>1</td>\n",
              "      <td>0</td>\n",
              "      <td>2</td>\n",
              "    </tr>\n",
              "    <tr>\n",
              "      <th>3</th>\n",
              "      <td>1</td>\n",
              "      <td>1</td>\n",
              "      <td>2</td>\n",
              "    </tr>\n",
              "    <tr>\n",
              "      <th>4</th>\n",
              "      <td>0</td>\n",
              "      <td>1</td>\n",
              "      <td>2</td>\n",
              "    </tr>\n",
              "  </tbody>\n",
              "</table>\n",
              "</div>"
            ],
            "text/plain": [
              "   kampanya  kullanici_tipi  satis\n",
              "0         1               1      2\n",
              "1         0               0      2\n",
              "2         1               0      2\n",
              "3         1               1      2\n",
              "4         0               1      2"
            ]
          },
          "execution_count": 16,
          "metadata": {},
          "output_type": "execute_result"
        }
      ],
      "source": [
        "confounding_data = pd.read_csv(DATA_PATH / \"ConfoundingData.csv\")\n",
        "confounding_data.head()"
      ]
    },
    {
      "cell_type": "code",
      "execution_count": 17,
      "metadata": {},
      "outputs": [
        {
          "data": {
            "image/png": "[encoded data removed]",
            "text/plain": [
              "<Figure size 640x480 with 1 Axes>"
            ]
          },
          "metadata": {},
          "output_type": "display_data"
        }
      ],
      "source": [
        "sns.histplot(confounding_data[\"satis\"]);"
      ]
    },
    {
      "cell_type": "code",
      "execution_count": 22,
      "metadata": {},
      "outputs": [
        {
          "data": {
            "text/html": [
              "<div>\n",
              "<style scoped>\n",
              "    .dataframe tbody tr th:only-of-type {\n",
              "        vertical-align: middle;\n",
              "    }\n",
              "\n",
              "    .dataframe tbody tr th {\n",
              "        vertical-align: top;\n",
              "    }\n",
              "\n",
              "    .dataframe thead th {\n",
              "        text-align: right;\n",
              "    }\n",
              "</style>\n",
              "<table border=\"1\" class=\"dataframe\">\n",
              "  <thead>\n",
              "    <tr style=\"text-align: right;\">\n",
              "      <th></th>\n",
              "      <th>kampanya</th>\n",
              "      <th>kullanici_tipi</th>\n",
              "      <th>satis</th>\n",
              "    </tr>\n",
              "  </thead>\n",
              "  <tbody>\n",
              "    <tr>\n",
              "      <th>kampanya</th>\n",
              "      <td>1.000000</td>\n",
              "      <td>0.512411</td>\n",
              "      <td>0.384706</td>\n",
              "    </tr>\n",
              "    <tr>\n",
              "      <th>kullanici_tipi</th>\n",
              "      <td>0.512411</td>\n",
              "      <td>1.000000</td>\n",
              "      <td>0.451553</td>\n",
              "    </tr>\n",
              "    <tr>\n",
              "      <th>satis</th>\n",
              "      <td>0.384706</td>\n",
              "      <td>0.451553</td>\n",
              "      <td>1.000000</td>\n",
              "    </tr>\n",
              "  </tbody>\n",
              "</table>\n",
              "</div>"
            ],
            "text/plain": [
              "                kampanya  kullanici_tipi     satis\n",
              "kampanya        1.000000        0.512411  0.384706\n",
              "kullanici_tipi  0.512411        1.000000  0.451553\n",
              "satis           0.384706        0.451553  1.000000"
            ]
          },
          "execution_count": 22,
          "metadata": {},
          "output_type": "execute_result"
        }
      ],
      "source": [
        "confounding_data.corr()"
      ]
    },
    {
      "cell_type": "code",
      "execution_count": null,
      "metadata": {},
      "outputs": [
        {
          "data": {
            "text/html": [
              "<div>\n",
              "<style scoped>\n",
              "    .dataframe tbody tr th:only-of-type {\n",
              "        vertical-align: middle;\n",
              "    }\n",
              "\n",
              "    .dataframe tbody tr th {\n",
              "        vertical-align: top;\n",
              "    }\n",
              "\n",
              "    .dataframe thead th {\n",
              "        text-align: right;\n",
              "    }\n",
              "</style>\n",
              "<table border=\"1\" class=\"dataframe\">\n",
              "  <thead>\n",
              "    <tr style=\"text-align: right;\">\n",
              "      <th></th>\n",
              "      <th>feature</th>\n",
              "      <th>VIF</th>\n",
              "    </tr>\n",
              "  </thead>\n",
              "  <tbody>\n",
              "    <tr>\n",
              "      <th>0</th>\n",
              "      <td>const</td>\n",
              "      <td>2.153636</td>\n",
              "    </tr>\n",
              "    <tr>\n",
              "      <th>1</th>\n",
              "      <td>kampanya</td>\n",
              "      <td>1.356051</td>\n",
              "    </tr>\n",
              "    <tr>\n",
              "      <th>2</th>\n",
              "      <td>kullanici_tipi</td>\n",
              "      <td>1.356051</td>\n",
              "    </tr>\n",
              "  </tbody>\n",
              "</table>\n",
              "</div>"
            ],
            "text/plain": [
              "          feature       VIF\n",
              "0           const  2.153636\n",
              "1        kampanya  1.356051\n",
              "2  kullanici_tipi  1.356051"
            ]
          },
          "execution_count": 25,
          "metadata": {},
          "output_type": "execute_result"
        }
      ],
      "source": [
        "X = sm.add_constant(confounding_data[[\"kampanya\", \"kullanici_tipi\"]])\n",
        "vif = pd.DataFrame()\n",
        "vif[\"feature\"] = X.columns\n",
        "vif[\"VIF\"] = [variance_inflation_factor(X.values, i) for i in range(X.shape[1])]\n",
        "vif"
      ]
    },
    {
      "cell_type": "markdown",
      "metadata": {},
      "source": [
        "The 0.51 correlation between kampanya and kullanici_tipi suggests that kullanici_tipi may confound the effect of kampanya on satis. However, the VIF values indicate that there is no multicollinearity between the predictors."
      ]
    },
    {
      "cell_type": "code",
      "execution_count": 20,
      "metadata": {},
      "outputs": [
        {
          "name": "stdout",
          "output_type": "stream",
          "text": [
            "                 Generalized Linear Model Regression Results                  \n",
            "==============================================================================\n",
            "Dep. Variable:                  satis   No. Observations:                  500\n",
            "Model:                            GLM   Df Residuals:                      498\n",
            "Model Family:                 Poisson   Df Model:                            1\n",
            "Link Function:                    Log   Scale:                          1.0000\n",
            "Method:                          IRLS   Log-Likelihood:                -885.98\n",
            "Date:                Mon, 07 Jul 2025   Deviance:                       563.69\n",
            "Time:                        15:56:30   Pearson chi2:                     506.\n",
            "No. Iterations:                     4   Pseudo R-squ. (CS):             0.2340\n",
            "Covariance Type:            nonrobust                                         \n",
            "==================================================================================\n",
            "                     coef    std err          z      P>|z|      [0.025      0.975]\n",
            "----------------------------------------------------------------------------------\n",
            "Intercept          0.4816      0.049      9.823      0.000       0.386       0.578\n",
            "kullanici_tipi     0.6833      0.061     11.253      0.000       0.564       0.802\n",
            "==================================================================================\n"
          ]
        }
      ],
      "source": [
        "formula1 = \"satis ~ kullanici_tipi\"\n",
        "formula2 = \"satis ~ kampanya + kullanici_tipi\"\n",
        "no_confound_model = smf.glm(formula = formula1, data = confounding_data, family=sm.families.Poisson())\n",
        "confound_model = smf.glm(formula=formula2, data = confounding_data, family=sm.families.Poisson())\n",
        "\n",
        "print(no_confound_model.fit().summary())\n"
      ]
    },
    {
      "cell_type": "code",
      "execution_count": 21,
      "metadata": {},
      "outputs": [
        {
          "name": "stdout",
          "output_type": "stream",
          "text": [
            "                 Generalized Linear Model Regression Results                  \n",
            "==============================================================================\n",
            "Dep. Variable:                  satis   No. Observations:                  500\n",
            "Model:                            GLM   Df Residuals:                      497\n",
            "Model Family:                 Poisson   Df Model:                            2\n",
            "Link Function:                    Log   Scale:                          1.0000\n",
            "Method:                          IRLS   Log-Likelihood:                -876.03\n",
            "Date:                Mon, 07 Jul 2025   Deviance:                       543.78\n",
            "Time:                        15:56:37   Pearson chi2:                     485.\n",
            "No. Iterations:                     4   Pseudo R-squ. (CS):             0.2639\n",
            "Covariance Type:            nonrobust                                         \n",
            "==================================================================================\n",
            "                     coef    std err          z      P>|z|      [0.025      0.975]\n",
            "----------------------------------------------------------------------------------\n",
            "Intercept          0.4158      0.052      8.032      0.000       0.314       0.517\n",
            "kampanya           0.2997      0.068      4.428      0.000       0.167       0.432\n",
            "kullanici_tipi     0.5293      0.070      7.554      0.000       0.392       0.667\n",
            "==================================================================================\n"
          ]
        }
      ],
      "source": [
        "print(confound_model.fit().summary())"
      ]
    }
  ],
  "metadata": {
    "colab": {
      "provenance": []
    },
    "kernelspec": {
      "display_name": "Python 3",
      "name": "python3"
    },
    "language_info": {
      "codemirror_mode": {
        "name": "ipython",
        "version": 3
      },
      "file_extension": ".py",
      "mimetype": "text/x-python",
      "name": "python",
      "nbconvert_exporter": "python",
      "pygments_lexer": "ipython3",
      "version": "3.12.6"
    }
  },
  "nbformat": 4,
  "nbformat_minor": 0
}
