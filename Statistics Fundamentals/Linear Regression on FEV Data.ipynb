{
 "cells": [
  {
   "cell_type": "code",
   "execution_count": null,
   "id": "967bc114",
   "metadata": {},
   "outputs": [],
   "source": [
    "import pandas as pd\n",
    "import numpy as np\n",
    "import matplotlib.pyplot as plt\n",
    "import seaborn as sns\n",
    "import statsmodels.api as sm\n",
    "import statsmodels.formula.api as smf\n",
    "from statsmodels.stats.outliers_influence import variance_inflation_factor\n",
    "from statsmodels.stats.anova import anova_lm\n"
   ]
  },
  {
   "cell_type": "markdown",
   "id": "3bd8ebc8",
   "metadata": {},
   "source": [
    "# Keys To Build a Predictive Model\n",
    "\n",
    "1. Don't include all the X's. It leads overfitting.\n",
    "2. Use a validation set to evaluate performance.\n",
    "3. Just include one colinear variable and remove the rest.\n",
    "4. Adding more X's always improve R^2 (as well as the risk of overfitting), so use adjusted R^2 instead.\n",
    "\n",
    "\n",
    "Recall model equation:\n",
    "\n",
    "$$\n",
    "Y = b_0 + b_1x_1 + b_2x_2...b_kx_k + \\epsilon\n",
    "$$\n",
    "\n",
    "$$\n",
    "Y \\sim N(\\mu,\\sigma^2); \\quad \\epsilon \\sim N(0,\\sigma^2)\n",
    "$$"
   ]
  },
  {
   "cell_type": "code",
   "execution_count": 2,
   "id": "789358ff",
   "metadata": {},
   "outputs": [
    {
     "data": {
      "text/html": [
       "<div>\n",
       "<style scoped>\n",
       "    .dataframe tbody tr th:only-of-type {\n",
       "        vertical-align: middle;\n",
       "    }\n",
       "\n",
       "    .dataframe tbody tr th {\n",
       "        vertical-align: top;\n",
       "    }\n",
       "\n",
       "    .dataframe thead th {\n",
       "        text-align: right;\n",
       "    }\n",
       "</style>\n",
       "<table border=\"1\" class=\"dataframe\">\n",
       "  <thead>\n",
       "    <tr style=\"text-align: right;\">\n",
       "      <th></th>\n",
       "      <th>age</th>\n",
       "      <th>fev</th>\n",
       "      <th>height</th>\n",
       "      <th>gender</th>\n",
       "      <th>smoking</th>\n",
       "    </tr>\n",
       "  </thead>\n",
       "  <tbody>\n",
       "    <tr>\n",
       "      <th>0</th>\n",
       "      <td>9</td>\n",
       "      <td>1.708</td>\n",
       "      <td>57.0</td>\n",
       "      <td>0</td>\n",
       "      <td>0</td>\n",
       "    </tr>\n",
       "    <tr>\n",
       "      <th>1</th>\n",
       "      <td>8</td>\n",
       "      <td>1.724</td>\n",
       "      <td>67.5</td>\n",
       "      <td>0</td>\n",
       "      <td>0</td>\n",
       "    </tr>\n",
       "    <tr>\n",
       "      <th>2</th>\n",
       "      <td>7</td>\n",
       "      <td>1.720</td>\n",
       "      <td>54.5</td>\n",
       "      <td>0</td>\n",
       "      <td>0</td>\n",
       "    </tr>\n",
       "  </tbody>\n",
       "</table>\n",
       "</div>"
      ],
      "text/plain": [
       "   age    fev  height  gender  smoking\n",
       "0    9  1.708    57.0       0        0\n",
       "1    8  1.724    67.5       0        0\n",
       "2    7  1.720    54.5       0        0"
      ]
     },
     "execution_count": 2,
     "metadata": {},
     "output_type": "execute_result"
    }
   ],
   "source": [
    "url = \"https://raw.githubusercontent.com/GTPB/PSLS20/master/data/fev.txt\"\n",
    "data = pd.read_csv(url, sep=\"\\t\")\n",
    "data[\"gender\"] = data[\"gender\"].map({\"f\": 0, \"m\": 1})\n",
    "data.head(3)"
   ]
  },
  {
   "cell_type": "code",
   "execution_count": 3,
   "id": "7d64f6cb",
   "metadata": {},
   "outputs": [
    {
     "name": "stdout",
     "output_type": "stream",
     "text": [
      "                            OLS Regression Results                            \n",
      "==============================================================================\n",
      "Dep. Variable:                    fev   R-squared:                       0.048\n",
      "Model:                            OLS   Adj. R-squared:                  0.047\n",
      "Method:                 Least Squares   F-statistic:                     30.65\n",
      "Date:                Tue, 08 Jul 2025   Prob (F-statistic):           4.60e-08\n",
      "Time:                        11:55:41   Log-Likelihood:                -731.10\n",
      "No. Observations:                 606   AIC:                             1466.\n",
      "Df Residuals:                     604   BIC:                             1475.\n",
      "Df Model:                           1                                         \n",
      "Covariance Type:            nonrobust                                         \n",
      "==============================================================================\n",
      "                 coef    std err          t      P>|t|      [0.025      0.975]\n",
      "------------------------------------------------------------------------------\n",
      "Intercept      2.6346      0.035     75.943      0.000       2.566       2.703\n",
      "smoking        0.6054      0.109      5.537      0.000       0.391       0.820\n",
      "==============================================================================\n",
      "Omnibus:                       59.649   Durbin-Watson:                   1.095\n",
      "Prob(Omnibus):                  0.000   Jarque-Bera (JB):               75.532\n",
      "Skew:                           0.802   Prob(JB):                     3.97e-17\n",
      "Kurtosis:                       3.648   Cond. No.                         3.36\n",
      "==============================================================================\n",
      "\n",
      "Notes:\n",
      "[1] Standard Errors assume that the covariance matrix of the errors is correctly specified.\n"
     ]
    }
   ],
   "source": [
    "model0 = smf.ols(formula = \"fev ~ smoking\", data = data).fit()\n",
    "print(model0.summary())"
   ]
  },
  {
   "cell_type": "markdown",
   "id": "e19eb5e8",
   "metadata": {},
   "source": [
    "The `smoking` is a significant predictor of FEV. It has p-value < 0.05. The standard error is 0.1. In the next step, we will include the confounding variable `age`. (As age increases people tend to smoke more). It can be displayed via the correlation coefficient:"
   ]
  },
  {
   "cell_type": "code",
   "execution_count": 4,
   "id": "c748a829",
   "metadata": {},
   "outputs": [
    {
     "data": {
      "text/html": [
       "<div>\n",
       "<style scoped>\n",
       "    .dataframe tbody tr th:only-of-type {\n",
       "        vertical-align: middle;\n",
       "    }\n",
       "\n",
       "    .dataframe tbody tr th {\n",
       "        vertical-align: top;\n",
       "    }\n",
       "\n",
       "    .dataframe thead th {\n",
       "        text-align: right;\n",
       "    }\n",
       "</style>\n",
       "<table border=\"1\" class=\"dataframe\">\n",
       "  <thead>\n",
       "    <tr style=\"text-align: right;\">\n",
       "      <th></th>\n",
       "      <th>smoking</th>\n",
       "      <th>age</th>\n",
       "    </tr>\n",
       "  </thead>\n",
       "  <tbody>\n",
       "    <tr>\n",
       "      <th>smoking</th>\n",
       "      <td>1.000000</td>\n",
       "      <td>0.400417</td>\n",
       "    </tr>\n",
       "    <tr>\n",
       "      <th>age</th>\n",
       "      <td>0.400417</td>\n",
       "      <td>1.000000</td>\n",
       "    </tr>\n",
       "  </tbody>\n",
       "</table>\n",
       "</div>"
      ],
      "text/plain": [
       "          smoking       age\n",
       "smoking  1.000000  0.400417\n",
       "age      0.400417  1.000000"
      ]
     },
     "execution_count": 4,
     "metadata": {},
     "output_type": "execute_result"
    }
   ],
   "source": [
    "data[[\"smoking\",\"age\"]].corr()"
   ]
  },
  {
   "cell_type": "markdown",
   "id": "940a61b8",
   "metadata": {},
   "source": [
    "0.4 correlation suggests that there is a medium correlation between these variables which we typically see in confounding variables. Before including `age` in our model, let's check whether `age` is an important predictor:"
   ]
  },
  {
   "cell_type": "code",
   "execution_count": 5,
   "id": "fc0c4c54",
   "metadata": {},
   "outputs": [
    {
     "data": {
      "text/plain": [
       "<Axes: xlabel='age', ylabel='fev'>"
      ]
     },
     "execution_count": 5,
     "metadata": {},
     "output_type": "execute_result"
    },
    {
     "data": {
      "image/png": "[encoded data removed]",
      "text/plain": [
       "<Figure size 640x480 with 1 Axes>"
      ]
     },
     "metadata": {},
     "output_type": "display_data"
    }
   ],
   "source": [
    "sns.regplot(x=\"age\", y=\"fev\", data=data, line_kws={\"color\": \"darkblue\"}, scatter_kws={\"color\": \"lightgrey\"})"
   ]
  },
  {
   "cell_type": "markdown",
   "id": "22840430",
   "metadata": {},
   "source": [
    "It is an important predictor so let's include it on our model."
   ]
  },
  {
   "cell_type": "code",
   "execution_count": 6,
   "id": "25c8baeb",
   "metadata": {},
   "outputs": [
    {
     "name": "stdout",
     "output_type": "stream",
     "text": [
      "                            OLS Regression Results                            \n",
      "==============================================================================\n",
      "Dep. Variable:                    fev   R-squared:                       0.537\n",
      "Model:                            OLS   Adj. R-squared:                  0.535\n",
      "Method:                 Least Squares   F-statistic:                     349.3\n",
      "Date:                Tue, 08 Jul 2025   Prob (F-statistic):          1.80e-101\n",
      "Time:                        11:55:41   Log-Likelihood:                -512.97\n",
      "No. Observations:                 606   AIC:                             1032.\n",
      "Df Residuals:                     603   BIC:                             1045.\n",
      "Df Model:                           2                                         \n",
      "Covariance Type:            nonrobust                                         \n",
      "==============================================================================\n",
      "                 coef    std err          t      P>|t|      [0.025      0.975]\n",
      "------------------------------------------------------------------------------\n",
      "Intercept      0.2040      0.099      2.052      0.041       0.009       0.399\n",
      "age            0.2479      0.010     25.213      0.000       0.229       0.267\n",
      "smoking       -0.2358      0.083     -2.830      0.005      -0.399      -0.072\n",
      "==============================================================================\n",
      "Omnibus:                       32.077   Durbin-Watson:                   1.642\n",
      "Prob(Omnibus):                  0.000   Jarque-Bera (JB):               39.636\n",
      "Skew:                           0.494   Prob(JB):                     2.47e-09\n",
      "Kurtosis:                       3.769   Cond. No.                         49.1\n",
      "==============================================================================\n",
      "\n",
      "Notes:\n",
      "[1] Standard Errors assume that the covariance matrix of the errors is correctly specified.\n"
     ]
    }
   ],
   "source": [
    "model1 = smf.ols(formula = \"fev ~ age + smoking\", data = data).fit()\n",
    "print(model1.summary())"
   ]
  },
  {
   "cell_type": "markdown",
   "id": "e50c83c3",
   "metadata": {},
   "source": [
    "The p-values of the model1 suggest that both `age` and `smoking` variable are significant. Since `age` is a confounding variable, the standard error of `smoking` did not increased (inflated) significantly.\n",
    "\n",
    "Now we will include `height` variable. But let's analyze it first:"
   ]
  },
  {
   "cell_type": "code",
   "execution_count": 7,
   "id": "80325bd6",
   "metadata": {},
   "outputs": [
    {
     "data": {
      "image/png": "[encoded data removed]",
      "text/plain": [
       "<Figure size 1000x500 with 2 Axes>"
      ]
     },
     "metadata": {},
     "output_type": "display_data"
    }
   ],
   "source": [
    "fig, ax = plt.subplots(1,2,figsize = (10,5))\n",
    "sns.regplot(x=\"height\", y=\"fev\", data=data, line_kws={\"color\": \"darkblue\"}, scatter_kws={\"color\": \"lightgrey\"},ax = ax[0])\n",
    "sns.residplot(x = \"height\", y = \"fev\", data = data, line_kws={\"color\": \"darkblue\"}, scatter_kws={\"color\": \"lightgrey\"})\n",
    "plt.show()"
   ]
  },
  {
   "cell_type": "markdown",
   "id": "2a2d703a",
   "metadata": {},
   "source": [
    "`Height` is strongly correlated with `fev`. Let's check the correlation between `age` and `height`:"
   ]
  },
  {
   "cell_type": "code",
   "execution_count": 8,
   "id": "47c85f79",
   "metadata": {},
   "outputs": [
    {
     "data": {
      "text/html": [
       "<div>\n",
       "<style scoped>\n",
       "    .dataframe tbody tr th:only-of-type {\n",
       "        vertical-align: middle;\n",
       "    }\n",
       "\n",
       "    .dataframe tbody tr th {\n",
       "        vertical-align: top;\n",
       "    }\n",
       "\n",
       "    .dataframe thead th {\n",
       "        text-align: right;\n",
       "    }\n",
       "</style>\n",
       "<table border=\"1\" class=\"dataframe\">\n",
       "  <thead>\n",
       "    <tr style=\"text-align: right;\">\n",
       "      <th></th>\n",
       "      <th>age</th>\n",
       "      <th>height</th>\n",
       "    </tr>\n",
       "  </thead>\n",
       "  <tbody>\n",
       "    <tr>\n",
       "      <th>age</th>\n",
       "      <td>1.000000</td>\n",
       "      <td>0.757948</td>\n",
       "    </tr>\n",
       "    <tr>\n",
       "      <th>height</th>\n",
       "      <td>0.757948</td>\n",
       "      <td>1.000000</td>\n",
       "    </tr>\n",
       "  </tbody>\n",
       "</table>\n",
       "</div>"
      ],
      "text/plain": [
       "             age    height\n",
       "age     1.000000  0.757948\n",
       "height  0.757948  1.000000"
      ]
     },
     "execution_count": 8,
     "metadata": {},
     "output_type": "execute_result"
    }
   ],
   "source": [
    "data[[\"age\",\"height\"]].corr()"
   ]
  },
  {
   "cell_type": "markdown",
   "id": "cb317b4f",
   "metadata": {},
   "source": [
    "This is expected. As `age` increases, `height` also increases. We need to see whether colinearity exists between these variables."
   ]
  },
  {
   "cell_type": "code",
   "execution_count": 9,
   "id": "02ab6bb4",
   "metadata": {},
   "outputs": [
    {
     "data": {
      "text/html": [
       "<div>\n",
       "<style scoped>\n",
       "    .dataframe tbody tr th:only-of-type {\n",
       "        vertical-align: middle;\n",
       "    }\n",
       "\n",
       "    .dataframe tbody tr th {\n",
       "        vertical-align: top;\n",
       "    }\n",
       "\n",
       "    .dataframe thead th {\n",
       "        text-align: right;\n",
       "    }\n",
       "</style>\n",
       "<table border=\"1\" class=\"dataframe\">\n",
       "  <thead>\n",
       "    <tr style=\"text-align: right;\">\n",
       "      <th></th>\n",
       "      <th>feature</th>\n",
       "      <th>VIF</th>\n",
       "    </tr>\n",
       "  </thead>\n",
       "  <tbody>\n",
       "    <tr>\n",
       "      <th>0</th>\n",
       "      <td>const</td>\n",
       "      <td>207.924778</td>\n",
       "    </tr>\n",
       "    <tr>\n",
       "      <th>1</th>\n",
       "      <td>age</td>\n",
       "      <td>2.638383</td>\n",
       "    </tr>\n",
       "    <tr>\n",
       "      <th>2</th>\n",
       "      <td>height</td>\n",
       "      <td>2.461848</td>\n",
       "    </tr>\n",
       "    <tr>\n",
       "      <th>3</th>\n",
       "      <td>smoking</td>\n",
       "      <td>1.205689</td>\n",
       "    </tr>\n",
       "    <tr>\n",
       "      <th>4</th>\n",
       "      <td>gender</td>\n",
       "      <td>1.055816</td>\n",
       "    </tr>\n",
       "  </tbody>\n",
       "</table>\n",
       "</div>"
      ],
      "text/plain": [
       "   feature         VIF\n",
       "0    const  207.924778\n",
       "1      age    2.638383\n",
       "2   height    2.461848\n",
       "3  smoking    1.205689\n",
       "4   gender    1.055816"
      ]
     },
     "execution_count": 9,
     "metadata": {},
     "output_type": "execute_result"
    }
   ],
   "source": [
    "X = sm.add_constant(data[[\"age\", \"height\", \"smoking\",\"gender\"]])\n",
    "\n",
    "vif_df = pd.DataFrame()\n",
    "vif_df[\"feature\"] = X.columns\n",
    "vif_df[\"VIF\"] = [variance_inflation_factor(X.values, i) for i in range(X.shape[1])]\n",
    "\n",
    "vif_df"
   ]
  },
  {
   "cell_type": "markdown",
   "id": "4459c56f",
   "metadata": {},
   "source": [
    "Although `height` and `age` are correlated, they are not colinear. This can be seen from the VIF values. Let's include `height` in our model."
   ]
  },
  {
   "cell_type": "code",
   "execution_count": 10,
   "id": "62fe86ec",
   "metadata": {},
   "outputs": [
    {
     "name": "stdout",
     "output_type": "stream",
     "text": [
      "                            OLS Regression Results                            \n",
      "==============================================================================\n",
      "Dep. Variable:                    fev   R-squared:                       0.747\n",
      "Model:                            OLS   Adj. R-squared:                  0.745\n",
      "Method:                 Least Squares   F-statistic:                     591.2\n",
      "Date:                Tue, 08 Jul 2025   Prob (F-statistic):          6.13e-179\n",
      "Time:                        11:55:41   Log-Likelihood:                -330.17\n",
      "No. Observations:                 606   AIC:                             668.3\n",
      "Df Residuals:                     602   BIC:                             686.0\n",
      "Df Model:                           3                                         \n",
      "Covariance Type:            nonrobust                                         \n",
      "==============================================================================\n",
      "                 coef    std err          t      P>|t|      [0.025      0.975]\n",
      "------------------------------------------------------------------------------\n",
      "Intercept     -4.9611      0.243    -20.437      0.000      -5.438      -4.484\n",
      "age            0.0706      0.011      6.559      0.000       0.049       0.092\n",
      "height         0.1127      0.005     22.328      0.000       0.103       0.123\n",
      "smoking       -0.1527      0.062     -2.471      0.014      -0.274      -0.031\n",
      "==============================================================================\n",
      "Omnibus:                       24.864   Durbin-Watson:                   1.615\n",
      "Prob(Omnibus):                  0.000   Jarque-Bera (JB):               51.464\n",
      "Skew:                           0.220   Prob(JB):                     6.68e-12\n",
      "Kurtosis:                       4.358   Cond. No.                         897.\n",
      "==============================================================================\n",
      "\n",
      "Notes:\n",
      "[1] Standard Errors assume that the covariance matrix of the errors is correctly specified.\n"
     ]
    }
   ],
   "source": [
    "model2 = smf.ols(formula = \"fev ~ age + height + smoking\", data = data).fit()\n",
    "print(model2.summary())"
   ]
  },
  {
   "cell_type": "markdown",
   "id": "ea099743",
   "metadata": {},
   "source": [
    "Especially from the residual plot it could be seen that as `height` increases, the error on `FEV` also increase. Therefore this time we will include the `square of the height` in our model as well. While including the `square of height`, we won't drop `height` from the model because only including the `square of height` will intercept the effect of `height` on `FEV` in a U shape. Including both enables us to capture larger deviations in `FEV` in larger `height` values."
   ]
  },
  {
   "cell_type": "code",
   "execution_count": 11,
   "id": "1360a63b",
   "metadata": {},
   "outputs": [
    {
     "name": "stdout",
     "output_type": "stream",
     "text": [
      "                            OLS Regression Results                            \n",
      "==============================================================================\n",
      "Dep. Variable:                    fev   R-squared:                       0.764\n",
      "Model:                            OLS   Adj. R-squared:                  0.763\n",
      "Method:                 Least Squares   F-statistic:                     486.9\n",
      "Date:                Tue, 08 Jul 2025   Prob (F-statistic):          6.60e-187\n",
      "Time:                        11:55:41   Log-Likelihood:                -308.35\n",
      "No. Observations:                 606   AIC:                             626.7\n",
      "Df Residuals:                     601   BIC:                             648.7\n",
      "Df Model:                           4                                         \n",
      "Covariance Type:            nonrobust                                         \n",
      "==================================================================================\n",
      "                     coef    std err          t      P>|t|      [0.025      0.975]\n",
      "----------------------------------------------------------------------------------\n",
      "Intercept          7.6633      1.899      4.036      0.000       3.934      11.393\n",
      "age                0.0731      0.010      7.023      0.000       0.053       0.094\n",
      "height            -0.3008      0.062     -4.859      0.000      -0.422      -0.179\n",
      "I(height ** 2)     0.0034      0.001      6.700      0.000       0.002       0.004\n",
      "smoking           -0.1669      0.060     -2.796      0.005      -0.284      -0.050\n",
      "==============================================================================\n",
      "Omnibus:                       24.941   Durbin-Watson:                   1.639\n",
      "Prob(Omnibus):                  0.000   Jarque-Bera (JB):               66.862\n",
      "Skew:                           0.025   Prob(JB):                     3.03e-15\n",
      "Kurtosis:                       4.626   Cond. No.                     4.50e+05\n",
      "==============================================================================\n",
      "\n",
      "Notes:\n",
      "[1] Standard Errors assume that the covariance matrix of the errors is correctly specified.\n",
      "[2] The condition number is large, 4.5e+05. This might indicate that there are\n",
      "strong multicollinearity or other numerical problems.\n"
     ]
    }
   ],
   "source": [
    "model3 = smf.ols(formula = \"fev ~ age + height + I(height**2) +smoking\", data = data).fit()\n",
    "print(model3.summary())"
   ]
  },
  {
   "cell_type": "markdown",
   "id": "81f2d969",
   "metadata": {},
   "source": [
    "Let's check whether including the `square of height` in our model improved the model performance."
   ]
  },
  {
   "cell_type": "code",
   "execution_count": 12,
   "id": "a2b34fba",
   "metadata": {},
   "outputs": [
    {
     "data": {
      "text/html": [
       "<div>\n",
       "<style scoped>\n",
       "    .dataframe tbody tr th:only-of-type {\n",
       "        vertical-align: middle;\n",
       "    }\n",
       "\n",
       "    .dataframe tbody tr th {\n",
       "        vertical-align: top;\n",
       "    }\n",
       "\n",
       "    .dataframe thead th {\n",
       "        text-align: right;\n",
       "    }\n",
       "</style>\n",
       "<table border=\"1\" class=\"dataframe\">\n",
       "  <thead>\n",
       "    <tr style=\"text-align: right;\">\n",
       "      <th></th>\n",
       "      <th>df_resid</th>\n",
       "      <th>ssr</th>\n",
       "      <th>df_diff</th>\n",
       "      <th>ss_diff</th>\n",
       "      <th>F</th>\n",
       "      <th>Pr(&gt;F)</th>\n",
       "    </tr>\n",
       "  </thead>\n",
       "  <tbody>\n",
       "    <tr>\n",
       "      <th>0</th>\n",
       "      <td>602.0</td>\n",
       "      <td>105.497231</td>\n",
       "      <td>0.0</td>\n",
       "      <td>NaN</td>\n",
       "      <td>NaN</td>\n",
       "      <td>NaN</td>\n",
       "    </tr>\n",
       "    <tr>\n",
       "      <th>1</th>\n",
       "      <td>601.0</td>\n",
       "      <td>98.165912</td>\n",
       "      <td>1.0</td>\n",
       "      <td>7.331318</td>\n",
       "      <td>44.884443</td>\n",
       "      <td>4.813322e-11</td>\n",
       "    </tr>\n",
       "  </tbody>\n",
       "</table>\n",
       "</div>"
      ],
      "text/plain": [
       "   df_resid         ssr  df_diff   ss_diff          F        Pr(>F)\n",
       "0     602.0  105.497231      0.0       NaN        NaN           NaN\n",
       "1     601.0   98.165912      1.0  7.331318  44.884443  4.813322e-11"
      ]
     },
     "execution_count": 12,
     "metadata": {},
     "output_type": "execute_result"
    }
   ],
   "source": [
    "anova_lm(model2,model3)"
   ]
  },
  {
   "cell_type": "markdown",
   "id": "4f7bd401",
   "metadata": {},
   "source": [
    "p-value < 0.05 means that including the `square of height` in our model improved the model performance.\n",
    "\n",
    "Now we will include `gender` in our model. But let's see whether it has a significant effect on `FEV`."
   ]
  },
  {
   "cell_type": "code",
   "execution_count": 13,
   "id": "8a724f3e",
   "metadata": {},
   "outputs": [
    {
     "data": {
      "text/plain": [
       "<Axes: xlabel='gender', ylabel='fev'>"
      ]
     },
     "execution_count": 13,
     "metadata": {},
     "output_type": "execute_result"
    },
    {
     "data": {
      "image/png": "[encoded data removed]",
      "text/plain": [
       "<Figure size 640x480 with 1 Axes>"
      ]
     },
     "metadata": {},
     "output_type": "display_data"
    }
   ],
   "source": [
    "sns.boxplot(x = \"gender\", y = \"fev\", data = data)"
   ]
  },
  {
   "cell_type": "markdown",
   "id": "af7c706a",
   "metadata": {},
   "source": [
    "It has a slight effect on `FEV`. After including `gender` in our model we shall see whether it has a significant effect on model performance or not via ANOVA."
   ]
  },
  {
   "cell_type": "code",
   "execution_count": 14,
   "id": "549e96d4",
   "metadata": {},
   "outputs": [
    {
     "name": "stdout",
     "output_type": "stream",
     "text": [
      "                            OLS Regression Results                            \n",
      "==============================================================================\n",
      "Dep. Variable:                    fev   R-squared:                       0.766\n",
      "Model:                            OLS   Adj. R-squared:                  0.764\n",
      "Method:                 Least Squares   F-statistic:                     393.5\n",
      "Date:                Tue, 08 Jul 2025   Prob (F-statistic):          1.01e-186\n",
      "Time:                        11:55:42   Log-Likelihood:                -305.59\n",
      "No. Observations:                 606   AIC:                             623.2\n",
      "Df Residuals:                     600   BIC:                             649.6\n",
      "Df Model:                           5                                         \n",
      "Covariance Type:            nonrobust                                         \n",
      "==================================================================================\n",
      "                     coef    std err          t      P>|t|      [0.025      0.975]\n",
      "----------------------------------------------------------------------------------\n",
      "Intercept          6.3017      1.979      3.184      0.002       2.415      10.189\n",
      "age                0.0756      0.010      7.251      0.000       0.055       0.096\n",
      "height            -0.2560      0.065     -3.965      0.000      -0.383      -0.129\n",
      "I(height ** 2)     0.0030      0.001      5.658      0.000       0.002       0.004\n",
      "smoking           -0.1516      0.060     -2.534      0.012      -0.269      -0.034\n",
      "gender             0.0829      0.035      2.342      0.019       0.013       0.152\n",
      "==============================================================================\n",
      "Omnibus:                       21.578   Durbin-Watson:                   1.629\n",
      "Prob(Omnibus):                  0.000   Jarque-Bera (JB):               52.695\n",
      "Skew:                           0.014   Prob(JB):                     3.61e-12\n",
      "Kurtosis:                       4.444   Cond. No.                     4.71e+05\n",
      "==============================================================================\n",
      "\n",
      "Notes:\n",
      "[1] Standard Errors assume that the covariance matrix of the errors is correctly specified.\n",
      "[2] The condition number is large, 4.71e+05. This might indicate that there are\n",
      "strong multicollinearity or other numerical problems.\n"
     ]
    }
   ],
   "source": [
    "model4 = smf.ols(formula = \"fev ~ age + height + I(height**2) +smoking + gender\", data = data).fit()\n",
    "print(model4.summary())"
   ]
  },
  {
   "cell_type": "code",
   "execution_count": 15,
   "id": "804e4078",
   "metadata": {},
   "outputs": [
    {
     "data": {
      "text/html": [
       "<div>\n",
       "<style scoped>\n",
       "    .dataframe tbody tr th:only-of-type {\n",
       "        vertical-align: middle;\n",
       "    }\n",
       "\n",
       "    .dataframe tbody tr th {\n",
       "        vertical-align: top;\n",
       "    }\n",
       "\n",
       "    .dataframe thead th {\n",
       "        text-align: right;\n",
       "    }\n",
       "</style>\n",
       "<table border=\"1\" class=\"dataframe\">\n",
       "  <thead>\n",
       "    <tr style=\"text-align: right;\">\n",
       "      <th></th>\n",
       "      <th>df_resid</th>\n",
       "      <th>ssr</th>\n",
       "      <th>df_diff</th>\n",
       "      <th>ss_diff</th>\n",
       "      <th>F</th>\n",
       "      <th>Pr(&gt;F)</th>\n",
       "    </tr>\n",
       "  </thead>\n",
       "  <tbody>\n",
       "    <tr>\n",
       "      <th>0</th>\n",
       "      <td>601.0</td>\n",
       "      <td>98.165912</td>\n",
       "      <td>0.0</td>\n",
       "      <td>NaN</td>\n",
       "      <td>NaN</td>\n",
       "      <td>NaN</td>\n",
       "    </tr>\n",
       "    <tr>\n",
       "      <th>1</th>\n",
       "      <td>600.0</td>\n",
       "      <td>97.276414</td>\n",
       "      <td>1.0</td>\n",
       "      <td>0.889498</td>\n",
       "      <td>5.486418</td>\n",
       "      <td>0.019491</td>\n",
       "    </tr>\n",
       "  </tbody>\n",
       "</table>\n",
       "</div>"
      ],
      "text/plain": [
       "   df_resid        ssr  df_diff   ss_diff         F    Pr(>F)\n",
       "0     601.0  98.165912      0.0       NaN       NaN       NaN\n",
       "1     600.0  97.276414      1.0  0.889498  5.486418  0.019491"
      ]
     },
     "execution_count": 15,
     "metadata": {},
     "output_type": "execute_result"
    }
   ],
   "source": [
    "anova_lm(model3,model4)"
   ]
  },
  {
   "cell_type": "markdown",
   "id": "bed15944",
   "metadata": {},
   "source": [
    "`Gender` has a significant effect on model performance so we will include it on our model.\n",
    "\n",
    "As a side note, we only should compare the models statistically when we are not sure about the difference. Because the more tests we do, the more likely we make a type I error. A correction is needed as we do more tests."
   ]
  },
  {
   "cell_type": "markdown",
   "id": "640a7b05",
   "metadata": {},
   "source": [
    "References:\n",
    "\n",
    "StatsMarines Lecture 4.4: Model Building and Variable Selection: Example Effect Size Model in R\n"
   ]
  }
 ],
 "metadata": {
  "kernelspec": {
   "display_name": "Python 3",
   "language": "python",
   "name": "python3"
  },
  "language_info": {
   "codemirror_mode": {
    "name": "ipython",
    "version": 3
   },
   "file_extension": ".py",
   "mimetype": "text/x-python",
   "name": "python",
   "nbconvert_exporter": "python",
   "pygments_lexer": "ipython3",
   "version": "3.12.6"
  }
 },
 "nbformat": 4,
 "nbformat_minor": 5
}
