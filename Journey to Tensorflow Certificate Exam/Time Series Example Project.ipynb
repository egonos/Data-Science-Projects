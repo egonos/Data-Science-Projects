{
  "nbformat": 4,
  "nbformat_minor": 0,
  "metadata": {
    "colab": {
      "provenance": [],
      "gpuType": "T4"
    },
    "kernelspec": {
      "name": "python3",
      "display_name": "Python 3"
    },
    "language_info": {
      "name": "python"
    },
    "accelerator": "GPU"
  },
  "cells": [
    {
      "cell_type": "code",
      "execution_count": 1,
      "metadata": {
        "id": "1dOuJRqSH3U_"
      },
      "outputs": [],
      "source": [
        "#import libraries\n",
        "import tensorflow as tf\n",
        "from tensorflow.keras import layers\n",
        "import pandas as pd\n",
        "import numpy as np\n",
        "import matplotlib.pyplot as plt\n",
        "import zipfile"
      ]
    },
    {
      "cell_type": "code",
      "source": [
        "#extract the files from zip file\n",
        "zipref = zipfile.ZipFile('archive.zip')\n",
        "zipref.extractall()\n",
        "zipref.close()"
      ],
      "metadata": {
        "id": "6kcObX8fIblp"
      },
      "execution_count": 2,
      "outputs": []
    },
    {
      "cell_type": "code",
      "source": [
        "df = pd.read_csv('sp500_index.csv')\n",
        "df.head()"
      ],
      "metadata": {
        "colab": {
          "base_uri": "https://localhost:8080/",
          "height": 206
        },
        "id": "khsVqcNeIz6Y",
        "outputId": "64ea15bc-5b76-4cc8-b2e4-1a4a75b42865"
      },
      "execution_count": 3,
      "outputs": [
        {
          "output_type": "execute_result",
          "data": {
            "text/plain": [
              "         Date   S&P500\n",
              "0  2013-09-30  1681.55\n",
              "1  2013-10-01  1695.00\n",
              "2  2013-10-02  1693.87\n",
              "3  2013-10-03  1678.66\n",
              "4  2013-10-04  1690.50"
            ],
            "text/html": [
              "\n",
              "  <div id=\"df-88da7b61-34b8-4398-bb2b-8a4db5505988\" class=\"colab-df-container\">\n",
              "    <div>\n",
              "<style scoped>\n",
              "    .dataframe tbody tr th:only-of-type {\n",
              "        vertical-align: middle;\n",
              "    }\n",
              "\n",
              "    .dataframe tbody tr th {\n",
              "        vertical-align: top;\n",
              "    }\n",
              "\n",
              "    .dataframe thead th {\n",
              "        text-align: right;\n",
              "    }\n",
              "</style>\n",
              "<table border=\"1\" class=\"dataframe\">\n",
              "  <thead>\n",
              "    <tr style=\"text-align: right;\">\n",
              "      <th></th>\n",
              "      <th>Date</th>\n",
              "      <th>S&amp;P500</th>\n",
              "    </tr>\n",
              "  </thead>\n",
              "  <tbody>\n",
              "    <tr>\n",
              "      <th>0</th>\n",
              "      <td>2013-09-30</td>\n",
              "      <td>1681.55</td>\n",
              "    </tr>\n",
              "    <tr>\n",
              "      <th>1</th>\n",
              "      <td>2013-10-01</td>\n",
              "      <td>1695.00</td>\n",
              "    </tr>\n",
              "    <tr>\n",
              "      <th>2</th>\n",
              "      <td>2013-10-02</td>\n",
              "      <td>1693.87</td>\n",
              "    </tr>\n",
              "    <tr>\n",
              "      <th>3</th>\n",
              "      <td>2013-10-03</td>\n",
              "      <td>1678.66</td>\n",
              "    </tr>\n",
              "    <tr>\n",
              "      <th>4</th>\n",
              "      <td>2013-10-04</td>\n",
              "      <td>1690.50</td>\n",
              "    </tr>\n",
              "  </tbody>\n",
              "</table>\n",
              "</div>\n",
              "    <div class=\"colab-df-buttons\">\n",
              "\n",
              "  <div class=\"colab-df-container\">\n",
              "    <button class=\"colab-df-convert\" onclick=\"convertToInteractive('df-88da7b61-34b8-4398-bb2b-8a4db5505988')\"\n",
              "            title=\"Convert this dataframe to an interactive table.\"\n",
              "            style=\"display:none;\">\n",
              "\n",
              "  <svg xmlns=\"http://www.w3.org/2000/svg\" height=\"24px\" viewBox=\"0 -960 960 960\">\n",
              "    <path d=\"M120-120v-720h720v720H120Zm60-500h600v-160H180v160Zm220 220h160v-160H400v160Zm0 220h160v-160H400v160ZM180-400h160v-160H180v160Zm440 0h160v-160H620v160ZM180-180h160v-160H180v160Zm440 0h160v-160H620v160Z\"/>\n",
              "  </svg>\n",
              "    </button>\n",
              "\n",
              "  <style>\n",
              "    .colab-df-container {\n",
              "      display:flex;\n",
              "      gap: 12px;\n",
              "    }\n",
              "\n",
              "    .colab-df-convert {\n",
              "      background-color: #E8F0FE;\n",
              "      border: none;\n",
              "      border-radius: 50%;\n",
              "      cursor: pointer;\n",
              "      display: none;\n",
              "      fill: #1967D2;\n",
              "      height: 32px;\n",
              "      padding: 0 0 0 0;\n",
              "      width: 32px;\n",
              "    }\n",
              "\n",
              "    .colab-df-convert:hover {\n",
              "      background-color: #E2EBFA;\n",
              "      box-shadow: 0px 1px 2px rgba(60, 64, 67, 0.3), 0px 1px 3px 1px rgba(60, 64, 67, 0.15);\n",
              "      fill: #174EA6;\n",
              "    }\n",
              "\n",
              "    .colab-df-buttons div {\n",
              "      margin-bottom: 4px;\n",
              "    }\n",
              "\n",
              "    [theme=dark] .colab-df-convert {\n",
              "      background-color: #3B4455;\n",
              "      fill: #D2E3FC;\n",
              "    }\n",
              "\n",
              "    [theme=dark] .colab-df-convert:hover {\n",
              "      background-color: #434B5C;\n",
              "      box-shadow: 0px 1px 3px 1px rgba(0, 0, 0, 0.15);\n",
              "      filter: drop-shadow(0px 1px 2px rgba(0, 0, 0, 0.3));\n",
              "      fill: #FFFFFF;\n",
              "    }\n",
              "  </style>\n",
              "\n",
              "    <script>\n",
              "      const buttonEl =\n",
              "        document.querySelector('#df-88da7b61-34b8-4398-bb2b-8a4db5505988 button.colab-df-convert');\n",
              "      buttonEl.style.display =\n",
              "        google.colab.kernel.accessAllowed ? 'block' : 'none';\n",
              "\n",
              "      async function convertToInteractive(key) {\n",
              "        const element = document.querySelector('#df-88da7b61-34b8-4398-bb2b-8a4db5505988');\n",
              "        const dataTable =\n",
              "          await google.colab.kernel.invokeFunction('convertToInteractive',\n",
              "                                                    [key], {});\n",
              "        if (!dataTable) return;\n",
              "\n",
              "        const docLinkHtml = 'Like what you see? Visit the ' +\n",
              "          '<a target=\"_blank\" href=https://colab.research.google.com/notebooks/data_table.ipynb>data table notebook</a>'\n",
              "          + ' to learn more about interactive tables.';\n",
              "        element.innerHTML = '';\n",
              "        dataTable['output_type'] = 'display_data';\n",
              "        await google.colab.output.renderOutput(dataTable, element);\n",
              "        const docLink = document.createElement('div');\n",
              "        docLink.innerHTML = docLinkHtml;\n",
              "        element.appendChild(docLink);\n",
              "      }\n",
              "    </script>\n",
              "  </div>\n",
              "\n",
              "\n",
              "<div id=\"df-cb48c077-e259-426c-ac90-1db891bb0aa0\">\n",
              "  <button class=\"colab-df-quickchart\" onclick=\"quickchart('df-cb48c077-e259-426c-ac90-1db891bb0aa0')\"\n",
              "            title=\"Suggest charts.\"\n",
              "            style=\"display:none;\">\n",
              "\n",
              "<svg xmlns=\"http://www.w3.org/2000/svg\" height=\"24px\"viewBox=\"0 0 24 24\"\n",
              "     width=\"24px\">\n",
              "    <g>\n",
              "        <path d=\"M19 3H5c-1.1 0-2 .9-2 2v14c0 1.1.9 2 2 2h14c1.1 0 2-.9 2-2V5c0-1.1-.9-2-2-2zM9 17H7v-7h2v7zm4 0h-2V7h2v10zm4 0h-2v-4h2v4z\"/>\n",
              "    </g>\n",
              "</svg>\n",
              "  </button>\n",
              "\n",
              "<style>\n",
              "  .colab-df-quickchart {\n",
              "      --bg-color: #E8F0FE;\n",
              "      --fill-color: #1967D2;\n",
              "      --hover-bg-color: #E2EBFA;\n",
              "      --hover-fill-color: #174EA6;\n",
              "      --disabled-fill-color: #AAA;\n",
              "      --disabled-bg-color: #DDD;\n",
              "  }\n",
              "\n",
              "  [theme=dark] .colab-df-quickchart {\n",
              "      --bg-color: #3B4455;\n",
              "      --fill-color: #D2E3FC;\n",
              "      --hover-bg-color: #434B5C;\n",
              "      --hover-fill-color: #FFFFFF;\n",
              "      --disabled-bg-color: #3B4455;\n",
              "      --disabled-fill-color: #666;\n",
              "  }\n",
              "\n",
              "  .colab-df-quickchart {\n",
              "    background-color: var(--bg-color);\n",
              "    border: none;\n",
              "    border-radius: 50%;\n",
              "    cursor: pointer;\n",
              "    display: none;\n",
              "    fill: var(--fill-color);\n",
              "    height: 32px;\n",
              "    padding: 0;\n",
              "    width: 32px;\n",
              "  }\n",
              "\n",
              "  .colab-df-quickchart:hover {\n",
              "    background-color: var(--hover-bg-color);\n",
              "    box-shadow: 0 1px 2px rgba(60, 64, 67, 0.3), 0 1px 3px 1px rgba(60, 64, 67, 0.15);\n",
              "    fill: var(--button-hover-fill-color);\n",
              "  }\n",
              "\n",
              "  .colab-df-quickchart-complete:disabled,\n",
              "  .colab-df-quickchart-complete:disabled:hover {\n",
              "    background-color: var(--disabled-bg-color);\n",
              "    fill: var(--disabled-fill-color);\n",
              "    box-shadow: none;\n",
              "  }\n",
              "\n",
              "  .colab-df-spinner {\n",
              "    border: 2px solid var(--fill-color);\n",
              "    border-color: transparent;\n",
              "    border-bottom-color: var(--fill-color);\n",
              "    animation:\n",
              "      spin 1s steps(1) infinite;\n",
              "  }\n",
              "\n",
              "  @keyframes spin {\n",
              "    0% {\n",
              "      border-color: transparent;\n",
              "      border-bottom-color: var(--fill-color);\n",
              "      border-left-color: var(--fill-color);\n",
              "    }\n",
              "    20% {\n",
              "      border-color: transparent;\n",
              "      border-left-color: var(--fill-color);\n",
              "      border-top-color: var(--fill-color);\n",
              "    }\n",
              "    30% {\n",
              "      border-color: transparent;\n",
              "      border-left-color: var(--fill-color);\n",
              "      border-top-color: var(--fill-color);\n",
              "      border-right-color: var(--fill-color);\n",
              "    }\n",
              "    40% {\n",
              "      border-color: transparent;\n",
              "      border-right-color: var(--fill-color);\n",
              "      border-top-color: var(--fill-color);\n",
              "    }\n",
              "    60% {\n",
              "      border-color: transparent;\n",
              "      border-right-color: var(--fill-color);\n",
              "    }\n",
              "    80% {\n",
              "      border-color: transparent;\n",
              "      border-right-color: var(--fill-color);\n",
              "      border-bottom-color: var(--fill-color);\n",
              "    }\n",
              "    90% {\n",
              "      border-color: transparent;\n",
              "      border-bottom-color: var(--fill-color);\n",
              "    }\n",
              "  }\n",
              "</style>\n",
              "\n",
              "  <script>\n",
              "    async function quickchart(key) {\n",
              "      const quickchartButtonEl =\n",
              "        document.querySelector('#' + key + ' button');\n",
              "      quickchartButtonEl.disabled = true;  // To prevent multiple clicks.\n",
              "      quickchartButtonEl.classList.add('colab-df-spinner');\n",
              "      try {\n",
              "        const charts = await google.colab.kernel.invokeFunction(\n",
              "            'suggestCharts', [key], {});\n",
              "      } catch (error) {\n",
              "        console.error('Error during call to suggestCharts:', error);\n",
              "      }\n",
              "      quickchartButtonEl.classList.remove('colab-df-spinner');\n",
              "      quickchartButtonEl.classList.add('colab-df-quickchart-complete');\n",
              "    }\n",
              "    (() => {\n",
              "      let quickchartButtonEl =\n",
              "        document.querySelector('#df-cb48c077-e259-426c-ac90-1db891bb0aa0 button');\n",
              "      quickchartButtonEl.style.display =\n",
              "        google.colab.kernel.accessAllowed ? 'block' : 'none';\n",
              "    })();\n",
              "  </script>\n",
              "</div>\n",
              "    </div>\n",
              "  </div>\n"
            ]
          },
          "metadata": {},
          "execution_count": 3
        }
      ]
    },
    {
      "cell_type": "code",
      "source": [
        "len(df)"
      ],
      "metadata": {
        "colab": {
          "base_uri": "https://localhost:8080/"
        },
        "id": "yvkyM4ZEI8VY",
        "outputId": "39b14431-5db5-49a7-8136-36b7a962b00b"
      },
      "execution_count": 4,
      "outputs": [
        {
          "output_type": "execute_result",
          "data": {
            "text/plain": [
              "2518"
            ]
          },
          "metadata": {},
          "execution_count": 4
        }
      ]
    },
    {
      "cell_type": "code",
      "source": [
        "#convert to numpy array\n",
        "data = df[\"S&P500\"].values\n",
        "\n",
        "#define a timeseries converting function\n",
        "def create_train_and_test_datasets(DATA,TRAIN_MULTIPLIER,SEQUENCE_LENGTH,BATCH_SIZE = 128):\n",
        "\n",
        "  \"\"\"\n",
        "  Creates tensorflow train and test datasets.\n",
        "  Note: Test horizon is only 1.\n",
        "\n",
        "  PARAMETERS\n",
        "  ----------\n",
        "  DATA: Sequential timeseries data without dates\n",
        "  TRAIN_MULTIPLIER: Multiplier for train dataset\n",
        "  SEQUENCE_LENGTH: Length of each input sequence\n",
        "  BATCH_SIZE: Batch size\n",
        "  \"\"\"\n",
        "  X = DATA[:-1] #fixed arrangements\n",
        "  y = DATA[SEQUENCE_LENGTH:]\n",
        "  dataset = tf.keras.utils.timeseries_dataset_from_array(data = X, targets=y,sequence_length = SEQUENCE_LENGTH,batch_size = None) #no batches first to count the number of instances\n",
        "  dataset_size = tf.data.experimental.cardinality(dataset).numpy() #count the number of instances\n",
        "  TRAIN_SIZE = int(TRAIN_MULTIPLIER*dataset_size)\n",
        "\n",
        "  #create train and test datasets\n",
        "  train_dataset = dataset.take(TRAIN_SIZE)\n",
        "  test_dataset = dataset.skip(TRAIN_SIZE)\n",
        "\n",
        "  #prep the datasets\n",
        "  train_dataset = train_dataset.batch(BATCH_SIZE).prefetch(tf.data.AUTOTUNE)\n",
        "  test_dataset = test_dataset.batch(BATCH_SIZE).prefetch(tf.data.AUTOTUNE)\n",
        "\n",
        "  return train_dataset,test_dataset\n",
        "\n",
        "def define_callbacks(model):\n",
        "  #es = tf.keras.callbacks.EarlyStopping(patience = 5,verbose = 1, restore_best_weights = True)\n",
        "  mc = tf.keras.callbacks.ModelCheckpoint(filepath = f\"./ModelCheckpoints/{model.name}.ckpt\",\n",
        "                                         save_best_only = True,\n",
        "                                         save_weights_only = True)\n",
        " # tb = tf.keras.callbacks.TensorBoard(log_dir = f\"./TensorboardLogs/{model.name}\")\n",
        "\n",
        "  return mc"
      ],
      "metadata": {
        "id": "PwnUgFN5I-Rf"
      },
      "execution_count": 5,
      "outputs": []
    },
    {
      "cell_type": "code",
      "source": [
        "#define global variables\n",
        "TRAIN_MULTIPLIER = 0.8\n",
        "SEQUENCE_LENGTH = 7\n",
        "\n",
        "#create the datasets\n",
        "train_dataset_7,test_dataset_7 = create_train_and_test_datasets(DATA = data,\n",
        "                                                            TRAIN_MULTIPLIER=TRAIN_MULTIPLIER,\n",
        "                                                            SEQUENCE_LENGTH = SEQUENCE_LENGTH)"
      ],
      "metadata": {
        "id": "4Lc-tsFRJhio"
      },
      "execution_count": 6,
      "outputs": []
    },
    {
      "cell_type": "code",
      "source": [
        "train_dataset_7,test_dataset_7"
      ],
      "metadata": {
        "colab": {
          "base_uri": "https://localhost:8080/"
        },
        "id": "iiq4_Mq7KHcO",
        "outputId": "6ffdb880-572a-424c-c375-368c4a55e7d2"
      },
      "execution_count": 7,
      "outputs": [
        {
          "output_type": "execute_result",
          "data": {
            "text/plain": [
              "(<_PrefetchDataset element_spec=(TensorSpec(shape=(None, None), dtype=tf.float64, name=None), TensorSpec(shape=(None,), dtype=tf.float64, name=None))>,\n",
              " <_PrefetchDataset element_spec=(TensorSpec(shape=(None, None), dtype=tf.float64, name=None), TensorSpec(shape=(None,), dtype=tf.float64, name=None))>)"
            ]
          },
          "metadata": {},
          "execution_count": 7
        }
      ]
    },
    {
      "cell_type": "code",
      "source": [
        "LOSS = 'mae'\n",
        "MODEL_NAME ='model1'\n",
        "\n",
        "#create the baseline model\n",
        "model = tf.keras.Sequential([\n",
        "    layers.Lambda(lambda x: tf.expand_dims(x,-1)),\n",
        "    layers.LSTM(16,return_sequences = False),\n",
        "    layers.Dense(1,activation = 'linear')\n",
        "],name = MODEL_NAME)\n",
        "\n",
        "#compile the model\n",
        "model.compile(\n",
        "    optimizer = 'adam',\n",
        "    loss = LOSS,\n",
        "    metrics = 'mae'\n",
        ")\n",
        "#define model checkpoint\n",
        "mc = define_callbacks(model)\n",
        "\n",
        "#fit the model\n",
        "history = model.fit(train_dataset_7,\n",
        "                    validation_data = test_dataset_7,\n",
        "                    epochs = 100,\n",
        "                    verbose = 0\n",
        "                    callbacks = [mc])"
      ],
      "metadata": {
        "colab": {
          "base_uri": "https://localhost:8080/"
        },
        "collapsed": true,
        "id": "_oo6blS5KLF2",
        "outputId": "c04f7ace-b722-4bff-e917-e3a075dd8f85"
      },
      "execution_count": 8,
      "outputs": [
        {
          "output_type": "stream",
          "name": "stdout",
          "text": [
            "Epoch 1/100\n",
            "16/16 [==============================] - 16s 156ms/step - loss: 2622.9521 - mae: 2622.9521 - val_loss: 4208.8799 - val_mae: 4208.8799\n",
            "Epoch 2/100\n",
            "16/16 [==============================] - 1s 78ms/step - loss: 2622.8955 - mae: 2622.8955 - val_loss: 4208.8232 - val_mae: 4208.8232\n",
            "Epoch 3/100\n",
            "16/16 [==============================] - 2s 110ms/step - loss: 2622.8391 - mae: 2622.8391 - val_loss: 4208.7666 - val_mae: 4208.7666\n",
            "Epoch 4/100\n",
            "16/16 [==============================] - 1s 37ms/step - loss: 2622.7830 - mae: 2622.7830 - val_loss: 4208.7104 - val_mae: 4208.7104\n",
            "Epoch 5/100\n",
            "16/16 [==============================] - 1s 37ms/step - loss: 2622.7266 - mae: 2622.7266 - val_loss: 4208.6543 - val_mae: 4208.6543\n",
            "Epoch 6/100\n",
            "16/16 [==============================] - 1s 38ms/step - loss: 2622.6699 - mae: 2622.6699 - val_loss: 4208.5977 - val_mae: 4208.5977\n",
            "Epoch 7/100\n",
            "16/16 [==============================] - 1s 36ms/step - loss: 2622.6135 - mae: 2622.6135 - val_loss: 4208.5405 - val_mae: 4208.5405\n",
            "Epoch 8/100\n",
            "16/16 [==============================] - 1s 38ms/step - loss: 2622.5576 - mae: 2622.5576 - val_loss: 4208.4849 - val_mae: 4208.4849\n",
            "Epoch 9/100\n",
            "16/16 [==============================] - 1s 41ms/step - loss: 2622.5007 - mae: 2622.5007 - val_loss: 4208.4282 - val_mae: 4208.4282\n",
            "Epoch 10/100\n",
            "16/16 [==============================] - 1s 35ms/step - loss: 2622.4446 - mae: 2622.4446 - val_loss: 4208.3716 - val_mae: 4208.3716\n",
            "Epoch 11/100\n",
            "16/16 [==============================] - 1s 38ms/step - loss: 2622.3882 - mae: 2622.3882 - val_loss: 4208.3159 - val_mae: 4208.3159\n",
            "Epoch 12/100\n",
            "16/16 [==============================] - 1s 38ms/step - loss: 2622.3320 - mae: 2622.3320 - val_loss: 4208.2593 - val_mae: 4208.2593\n",
            "Epoch 13/100\n",
            "16/16 [==============================] - 1s 37ms/step - loss: 2622.2754 - mae: 2622.2754 - val_loss: 4208.2026 - val_mae: 4208.2026\n",
            "Epoch 14/100\n",
            "16/16 [==============================] - 1s 38ms/step - loss: 2622.2192 - mae: 2622.2192 - val_loss: 4208.1460 - val_mae: 4208.1460\n",
            "Epoch 15/100\n",
            "16/16 [==============================] - 1s 37ms/step - loss: 2622.1631 - mae: 2622.1631 - val_loss: 4208.0903 - val_mae: 4208.0903\n",
            "Epoch 16/100\n",
            "16/16 [==============================] - 1s 37ms/step - loss: 2622.1064 - mae: 2622.1064 - val_loss: 4208.0337 - val_mae: 4208.0337\n",
            "Epoch 17/100\n",
            "16/16 [==============================] - 1s 40ms/step - loss: 2622.0500 - mae: 2622.0500 - val_loss: 4207.9771 - val_mae: 4207.9771\n",
            "Epoch 18/100\n",
            "16/16 [==============================] - 1s 68ms/step - loss: 2621.9934 - mae: 2621.9934 - val_loss: 4207.9204 - val_mae: 4207.9204\n",
            "Epoch 19/100\n",
            "16/16 [==============================] - 1s 70ms/step - loss: 2621.9375 - mae: 2621.9375 - val_loss: 4207.8647 - val_mae: 4207.8647\n",
            "Epoch 20/100\n",
            "16/16 [==============================] - 1s 36ms/step - loss: 2621.8806 - mae: 2621.8806 - val_loss: 4207.8081 - val_mae: 4207.8081\n",
            "Epoch 21/100\n",
            "16/16 [==============================] - 1s 35ms/step - loss: 2621.8245 - mae: 2621.8245 - val_loss: 4207.7515 - val_mae: 4207.7515\n",
            "Epoch 22/100\n",
            "16/16 [==============================] - 1s 36ms/step - loss: 2621.7681 - mae: 2621.7681 - val_loss: 4207.6953 - val_mae: 4207.6953\n",
            "Epoch 23/100\n",
            "16/16 [==============================] - 1s 36ms/step - loss: 2621.7117 - mae: 2621.7117 - val_loss: 4207.6396 - val_mae: 4207.6392\n",
            "Epoch 24/100\n",
            "16/16 [==============================] - 1s 36ms/step - loss: 2621.6553 - mae: 2621.6553 - val_loss: 4207.5825 - val_mae: 4207.5825\n",
            "Epoch 25/100\n",
            "16/16 [==============================] - 1s 39ms/step - loss: 2621.5991 - mae: 2621.5991 - val_loss: 4207.5259 - val_mae: 4207.5259\n",
            "Epoch 26/100\n",
            "16/16 [==============================] - 1s 37ms/step - loss: 2621.5427 - mae: 2621.5427 - val_loss: 4207.4702 - val_mae: 4207.4702\n",
            "Epoch 27/100\n",
            "16/16 [==============================] - 1s 38ms/step - loss: 2621.4863 - mae: 2621.4863 - val_loss: 4207.4136 - val_mae: 4207.4136\n",
            "Epoch 28/100\n",
            "16/16 [==============================] - 1s 40ms/step - loss: 2621.4299 - mae: 2621.4299 - val_loss: 4207.3574 - val_mae: 4207.3574\n",
            "Epoch 29/100\n",
            "16/16 [==============================] - 1s 39ms/step - loss: 2621.3738 - mae: 2621.3738 - val_loss: 4207.3013 - val_mae: 4207.3013\n",
            "Epoch 30/100\n",
            "16/16 [==============================] - 1s 35ms/step - loss: 2621.3171 - mae: 2621.3171 - val_loss: 4207.2446 - val_mae: 4207.2451\n",
            "Epoch 31/100\n",
            "16/16 [==============================] - 1s 42ms/step - loss: 2621.2610 - mae: 2621.2610 - val_loss: 4207.1885 - val_mae: 4207.1885\n",
            "Epoch 32/100\n",
            "16/16 [==============================] - 1s 36ms/step - loss: 2621.2041 - mae: 2621.2041 - val_loss: 4207.1318 - val_mae: 4207.1318\n",
            "Epoch 33/100\n",
            "16/16 [==============================] - 1s 36ms/step - loss: 2621.1482 - mae: 2621.1482 - val_loss: 4207.0757 - val_mae: 4207.0757\n",
            "Epoch 34/100\n",
            "16/16 [==============================] - 1s 63ms/step - loss: 2621.0916 - mae: 2621.0916 - val_loss: 4207.0195 - val_mae: 4207.0195\n",
            "Epoch 35/100\n",
            "16/16 [==============================] - 1s 53ms/step - loss: 2621.0352 - mae: 2621.0352 - val_loss: 4206.9629 - val_mae: 4206.9629\n",
            "Epoch 36/100\n",
            "16/16 [==============================] - 1s 37ms/step - loss: 2620.9790 - mae: 2620.9790 - val_loss: 4206.9062 - val_mae: 4206.9062\n",
            "Epoch 37/100\n",
            "16/16 [==============================] - 1s 41ms/step - loss: 2620.9226 - mae: 2620.9226 - val_loss: 4206.8506 - val_mae: 4206.8506\n",
            "Epoch 38/100\n",
            "16/16 [==============================] - 1s 36ms/step - loss: 2620.8665 - mae: 2620.8665 - val_loss: 4206.7939 - val_mae: 4206.7939\n",
            "Epoch 39/100\n",
            "16/16 [==============================] - 1s 39ms/step - loss: 2620.8098 - mae: 2620.8098 - val_loss: 4206.7373 - val_mae: 4206.7373\n",
            "Epoch 40/100\n",
            "16/16 [==============================] - 1s 37ms/step - loss: 2620.7537 - mae: 2620.7537 - val_loss: 4206.6816 - val_mae: 4206.6812\n",
            "Epoch 41/100\n",
            "16/16 [==============================] - 1s 38ms/step - loss: 2620.6973 - mae: 2620.6973 - val_loss: 4206.6245 - val_mae: 4206.6240\n",
            "Epoch 42/100\n",
            "16/16 [==============================] - 1s 38ms/step - loss: 2620.6406 - mae: 2620.6406 - val_loss: 4206.5679 - val_mae: 4206.5679\n",
            "Epoch 43/100\n",
            "16/16 [==============================] - 1s 38ms/step - loss: 2620.5845 - mae: 2620.5845 - val_loss: 4206.5112 - val_mae: 4206.5112\n",
            "Epoch 44/100\n",
            "16/16 [==============================] - 1s 38ms/step - loss: 2620.5278 - mae: 2620.5278 - val_loss: 4206.4556 - val_mae: 4206.4556\n",
            "Epoch 45/100\n",
            "16/16 [==============================] - 1s 37ms/step - loss: 2620.4719 - mae: 2620.4719 - val_loss: 4206.3989 - val_mae: 4206.3989\n",
            "Epoch 46/100\n",
            "16/16 [==============================] - 1s 39ms/step - loss: 2620.4150 - mae: 2620.4150 - val_loss: 4206.3423 - val_mae: 4206.3423\n",
            "Epoch 47/100\n",
            "16/16 [==============================] - 1s 39ms/step - loss: 2620.3591 - mae: 2620.3591 - val_loss: 4206.2856 - val_mae: 4206.2856\n",
            "Epoch 48/100\n",
            "16/16 [==============================] - 1s 36ms/step - loss: 2620.3022 - mae: 2620.3022 - val_loss: 4206.2300 - val_mae: 4206.2300\n",
            "Epoch 49/100\n",
            "16/16 [==============================] - 1s 38ms/step - loss: 2620.2461 - mae: 2620.2461 - val_loss: 4206.1733 - val_mae: 4206.1733\n",
            "Epoch 50/100\n",
            "16/16 [==============================] - 1s 38ms/step - loss: 2620.1895 - mae: 2620.1895 - val_loss: 4206.1167 - val_mae: 4206.1167\n",
            "Epoch 51/100\n",
            "16/16 [==============================] - 1s 38ms/step - loss: 2620.1335 - mae: 2620.1335 - val_loss: 4206.0605 - val_mae: 4206.0605\n",
            "Epoch 52/100\n",
            "16/16 [==============================] - 1s 69ms/step - loss: 2620.0771 - mae: 2620.0771 - val_loss: 4206.0044 - val_mae: 4206.0044\n",
            "Epoch 53/100\n",
            "16/16 [==============================] - 1s 70ms/step - loss: 2620.0208 - mae: 2620.0208 - val_loss: 4205.9482 - val_mae: 4205.9478\n",
            "Epoch 54/100\n",
            "16/16 [==============================] - 1s 38ms/step - loss: 2619.9644 - mae: 2619.9644 - val_loss: 4205.8911 - val_mae: 4205.8911\n",
            "Epoch 55/100\n",
            "16/16 [==============================] - 1s 41ms/step - loss: 2619.9080 - mae: 2619.9080 - val_loss: 4205.8354 - val_mae: 4205.8354\n",
            "Epoch 56/100\n",
            "16/16 [==============================] - 1s 41ms/step - loss: 2619.8516 - mae: 2619.8516 - val_loss: 4205.7793 - val_mae: 4205.7793\n",
            "Epoch 57/100\n",
            "16/16 [==============================] - 1s 38ms/step - loss: 2619.7949 - mae: 2619.7949 - val_loss: 4205.7227 - val_mae: 4205.7227\n",
            "Epoch 58/100\n",
            "16/16 [==============================] - 1s 41ms/step - loss: 2619.7388 - mae: 2619.7388 - val_loss: 4205.6665 - val_mae: 4205.6660\n",
            "Epoch 59/100\n",
            "16/16 [==============================] - 1s 37ms/step - loss: 2619.6826 - mae: 2619.6826 - val_loss: 4205.6099 - val_mae: 4205.6104\n",
            "Epoch 60/100\n",
            "16/16 [==============================] - 1s 40ms/step - loss: 2619.6260 - mae: 2619.6260 - val_loss: 4205.5537 - val_mae: 4205.5537\n",
            "Epoch 61/100\n",
            "16/16 [==============================] - 1s 38ms/step - loss: 2619.5696 - mae: 2619.5696 - val_loss: 4205.4971 - val_mae: 4205.4971\n",
            "Epoch 62/100\n",
            "16/16 [==============================] - 1s 38ms/step - loss: 2619.5132 - mae: 2619.5132 - val_loss: 4205.4409 - val_mae: 4205.4409\n",
            "Epoch 63/100\n",
            "16/16 [==============================] - 1s 38ms/step - loss: 2619.4570 - mae: 2619.4570 - val_loss: 4205.3848 - val_mae: 4205.3848\n",
            "Epoch 64/100\n",
            "16/16 [==============================] - 1s 41ms/step - loss: 2619.4004 - mae: 2619.4004 - val_loss: 4205.3281 - val_mae: 4205.3281\n",
            "Epoch 65/100\n",
            "16/16 [==============================] - 1s 41ms/step - loss: 2619.3442 - mae: 2619.3442 - val_loss: 4205.2715 - val_mae: 4205.2715\n",
            "Epoch 66/100\n",
            "16/16 [==============================] - 1s 37ms/step - loss: 2619.2881 - mae: 2619.2881 - val_loss: 4205.2158 - val_mae: 4205.2158\n",
            "Epoch 67/100\n",
            "16/16 [==============================] - 1s 37ms/step - loss: 2619.2314 - mae: 2619.2314 - val_loss: 4205.1592 - val_mae: 4205.1592\n",
            "Epoch 68/100\n",
            "16/16 [==============================] - 1s 37ms/step - loss: 2619.1750 - mae: 2619.1750 - val_loss: 4205.1025 - val_mae: 4205.1025\n",
            "Epoch 69/100\n",
            "16/16 [==============================] - 1s 49ms/step - loss: 2619.1189 - mae: 2619.1189 - val_loss: 4205.0464 - val_mae: 4205.0464\n",
            "Epoch 70/100\n",
            "16/16 [==============================] - 1s 72ms/step - loss: 2619.0625 - mae: 2619.0625 - val_loss: 4204.9902 - val_mae: 4204.9897\n",
            "Epoch 71/100\n",
            "16/16 [==============================] - 1s 47ms/step - loss: 2619.0056 - mae: 2619.0056 - val_loss: 4204.9336 - val_mae: 4204.9336\n",
            "Epoch 72/100\n",
            "16/16 [==============================] - 1s 38ms/step - loss: 2618.9495 - mae: 2618.9495 - val_loss: 4204.8770 - val_mae: 4204.8770\n",
            "Epoch 73/100\n",
            "16/16 [==============================] - 1s 42ms/step - loss: 2618.8933 - mae: 2618.8933 - val_loss: 4204.8213 - val_mae: 4204.8213\n",
            "Epoch 74/100\n",
            "16/16 [==============================] - 1s 37ms/step - loss: 2618.8367 - mae: 2618.8367 - val_loss: 4204.7646 - val_mae: 4204.7646\n",
            "Epoch 75/100\n",
            "16/16 [==============================] - 1s 42ms/step - loss: 2618.7803 - mae: 2618.7803 - val_loss: 4204.7075 - val_mae: 4204.7075\n",
            "Epoch 76/100\n",
            "16/16 [==============================] - 1s 38ms/step - loss: 2618.7241 - mae: 2618.7241 - val_loss: 4204.6509 - val_mae: 4204.6509\n",
            "Epoch 77/100\n",
            "16/16 [==============================] - 1s 43ms/step - loss: 2618.6680 - mae: 2618.6677 - val_loss: 4204.5947 - val_mae: 4204.5952\n",
            "Epoch 78/100\n",
            "16/16 [==============================] - 1s 42ms/step - loss: 2618.6113 - mae: 2618.6113 - val_loss: 4204.5386 - val_mae: 4204.5386\n",
            "Epoch 79/100\n",
            "16/16 [==============================] - 1s 40ms/step - loss: 2618.5549 - mae: 2618.5549 - val_loss: 4204.4819 - val_mae: 4204.4819\n",
            "Epoch 80/100\n",
            "16/16 [==============================] - 1s 38ms/step - loss: 2618.4988 - mae: 2618.4988 - val_loss: 4204.4258 - val_mae: 4204.4258\n",
            "Epoch 81/100\n",
            "16/16 [==============================] - 1s 60ms/step - loss: 2618.4421 - mae: 2618.4421 - val_loss: 4204.3696 - val_mae: 4204.3696\n",
            "Epoch 82/100\n",
            "16/16 [==============================] - 1s 59ms/step - loss: 2618.3860 - mae: 2618.3860 - val_loss: 4204.3130 - val_mae: 4204.3130\n",
            "Epoch 83/100\n",
            "16/16 [==============================] - 1s 37ms/step - loss: 2618.3293 - mae: 2618.3293 - val_loss: 4204.2563 - val_mae: 4204.2563\n",
            "Epoch 84/100\n",
            "16/16 [==============================] - 1s 38ms/step - loss: 2618.2732 - mae: 2618.2732 - val_loss: 4204.2007 - val_mae: 4204.2007\n",
            "Epoch 85/100\n",
            "16/16 [==============================] - 1s 54ms/step - loss: 2618.2166 - mae: 2618.2166 - val_loss: 4204.1440 - val_mae: 4204.1440\n",
            "Epoch 86/100\n",
            "16/16 [==============================] - 1s 36ms/step - loss: 2618.1602 - mae: 2618.1602 - val_loss: 4204.0874 - val_mae: 4204.0874\n",
            "Epoch 87/100\n",
            "16/16 [==============================] - 1s 38ms/step - loss: 2618.1040 - mae: 2618.1040 - val_loss: 4204.0308 - val_mae: 4204.0308\n",
            "Epoch 88/100\n",
            "16/16 [==============================] - 1s 37ms/step - loss: 2618.0476 - mae: 2618.0476 - val_loss: 4203.9751 - val_mae: 4203.9751\n",
            "Epoch 89/100\n",
            "16/16 [==============================] - 1s 42ms/step - loss: 2617.9915 - mae: 2617.9915 - val_loss: 4203.9185 - val_mae: 4203.9185\n",
            "Epoch 90/100\n",
            "16/16 [==============================] - 1s 38ms/step - loss: 2617.9348 - mae: 2617.9348 - val_loss: 4203.8618 - val_mae: 4203.8618\n",
            "Epoch 91/100\n",
            "16/16 [==============================] - 1s 38ms/step - loss: 2617.8787 - mae: 2617.8787 - val_loss: 4203.8062 - val_mae: 4203.8062\n",
            "Epoch 92/100\n",
            "16/16 [==============================] - 1s 37ms/step - loss: 2617.8223 - mae: 2617.8223 - val_loss: 4203.7495 - val_mae: 4203.7495\n",
            "Epoch 93/100\n",
            "16/16 [==============================] - 1s 37ms/step - loss: 2617.7656 - mae: 2617.7656 - val_loss: 4203.6929 - val_mae: 4203.6929\n",
            "Epoch 94/100\n",
            "16/16 [==============================] - 1s 35ms/step - loss: 2617.7095 - mae: 2617.7095 - val_loss: 4203.6362 - val_mae: 4203.6362\n",
            "Epoch 95/100\n",
            "16/16 [==============================] - 1s 39ms/step - loss: 2617.6528 - mae: 2617.6528 - val_loss: 4203.5806 - val_mae: 4203.5806\n",
            "Epoch 96/100\n",
            "16/16 [==============================] - 1s 39ms/step - loss: 2617.5969 - mae: 2617.5969 - val_loss: 4203.5244 - val_mae: 4203.5244\n",
            "Epoch 97/100\n",
            "16/16 [==============================] - 1s 36ms/step - loss: 2617.5400 - mae: 2617.5400 - val_loss: 4203.4673 - val_mae: 4203.4678\n",
            "Epoch 98/100\n",
            "16/16 [==============================] - 1s 36ms/step - loss: 2617.4841 - mae: 2617.4841 - val_loss: 4203.4111 - val_mae: 4203.4111\n",
            "Epoch 99/100\n",
            "16/16 [==============================] - 1s 38ms/step - loss: 2617.4275 - mae: 2617.4275 - val_loss: 4203.3550 - val_mae: 4203.3550\n",
            "Epoch 100/100\n",
            "16/16 [==============================] - 1s 42ms/step - loss: 2617.3711 - mae: 2617.3711 - val_loss: 4203.2988 - val_mae: 4203.2988\n"
          ]
        }
      ]
    },
    {
      "cell_type": "code",
      "source": [
        "val_mae = history3.history['val_mae']\n",
        "mae = history3.history['mae']\n",
        "epochs = range(1,101)\n",
        "\n",
        "plt.figure()\n",
        "plt.plot(epochs,mae)\n",
        "plt.plot(epochs,val_mae)"
      ],
      "metadata": {
        "colab": {
          "base_uri": "https://localhost:8080/",
          "height": 447
        },
        "id": "Lf_FuGPGPG7O",
        "outputId": "fbc67af0-c5c6-47ca-f1d6-e749830d2e50"
      },
      "execution_count": 20,
      "outputs": [
        {
          "output_type": "execute_result",
          "data": {
            "text/plain": [
              "[<matplotlib.lines.Line2D at 0x7ed98cc50e50>]"
            ]
          },
          "metadata": {},
          "execution_count": 20
        },
        {
          "output_type": "display_data",
          "data": {
            "text/plain": [
              "<Figure size 640x480 with 1 Axes>"
            ],
            "image/png": "[encoded data removed]"
          },
          "metadata": {}
        }
      ]
    },
    {
      "cell_type": "code",
      "source": [
        "#load the best model\n",
        "best_model = tf.keras.models.clone_model(model)\n",
        "\n",
        "#load the weights\n",
        "best_model.load_weights(\"./ModelCheckpoints/model1.ckpt\")\n",
        "\n",
        "#compile the new model\n",
        "best_model.compile(\n",
        "    optimizer = 'adam',\n",
        "    loss = LOSS,\n",
        "    metrics = 'mae'\n",
        ")\n",
        "\n",
        "best_model.evaluate(test_dataset_7)"
      ],
      "metadata": {
        "colab": {
          "base_uri": "https://localhost:8080/"
        },
        "id": "VITV3ZNMNcos",
        "outputId": "ce4ca9fc-e1d8-4fc5-f9d7-da370fdd4573"
      },
      "execution_count": 11,
      "outputs": [
        {
          "output_type": "stream",
          "name": "stdout",
          "text": [
            "4/4 [==============================] - 1s 13ms/step - loss: 4203.2988 - mae: 4203.2988\n"
          ]
        },
        {
          "output_type": "execute_result",
          "data": {
            "text/plain": [
              "[4203.298828125, 4203.298828125]"
            ]
          },
          "metadata": {},
          "execution_count": 11
        }
      ]
    },
    {
      "cell_type": "code",
      "source": [
        "#model2: increase the lstm neurons\n",
        "\n",
        "LOSS = 'mae'\n",
        "MODEL_NAME ='model2'\n",
        "\n",
        "#create the baseline model\n",
        "model2 = tf.keras.Sequential([\n",
        "    layers.Lambda(lambda x: tf.expand_dims(x,-1)),\n",
        "    layers.LSTM(128,return_sequences = False),\n",
        "    layers.Dense(1,activation = 'linear')\n",
        "],name = MODEL_NAME)\n",
        "\n",
        "#compile the model\n",
        "model2.compile(\n",
        "    optimizer = 'adam',\n",
        "    loss = LOSS,\n",
        "    metrics = 'mae'\n",
        ")\n",
        "#define model checkpoint\n",
        "mc = define_callbacks(model2)\n",
        "\n",
        "#fit the model\n",
        "history2 = model2.fit(train_dataset_7,\n",
        "                    validation_data = test_dataset_7,\n",
        "                    epochs = 100,\n",
        "                    verbose = 0,\n",
        "                    callbacks = [mc])"
      ],
      "metadata": {
        "id": "ISW9Ut-XP9f9"
      },
      "execution_count": 13,
      "outputs": []
    },
    {
      "cell_type": "code",
      "source": [
        "#load the best model\n",
        "best_model2 = tf.keras.models.clone_model(model2)\n",
        "\n",
        "#load the weights\n",
        "best_model2.load_weights(\"./ModelCheckpoints/model2.ckpt\")\n",
        "\n",
        "#compile the new model\n",
        "best_model2.compile(\n",
        "    optimizer = 'adam',\n",
        "    loss = LOSS,\n",
        "    metrics = 'mae'\n",
        ")\n",
        "\n",
        "best_model2.evaluate(test_dataset_7)"
      ],
      "metadata": {
        "colab": {
          "base_uri": "https://localhost:8080/"
        },
        "id": "DS1-mq3AQZsW",
        "outputId": "7816ce79-7038-4a65-b6df-70ece18c9daf"
      },
      "execution_count": 15,
      "outputs": [
        {
          "output_type": "stream",
          "name": "stdout",
          "text": [
            "4/4 [==============================] - 1s 15ms/step - loss: 4165.1309 - mae: 4165.1309\n"
          ]
        },
        {
          "output_type": "execute_result",
          "data": {
            "text/plain": [
              "[4165.130859375, 4165.130859375]"
            ]
          },
          "metadata": {},
          "execution_count": 15
        }
      ]
    },
    {
      "cell_type": "code",
      "source": [
        "#model3: increase lstm lyaers\n",
        "\n",
        "LOSS = 'mae'\n",
        "MODEL_NAME ='model3'\n",
        "\n",
        "#create the baseline model\n",
        "model3 = tf.keras.Sequential([\n",
        "    layers.Lambda(lambda x: tf.expand_dims(x,-1)),\n",
        "    layers.LSTM(128,return_sequences = True),\n",
        "    layers.LSTM(128, return_sequences = False),\n",
        "    layers.Dense(1,activation = 'linear')\n",
        "],name = MODEL_NAME)\n",
        "\n",
        "#compile the model\n",
        "model3.compile(\n",
        "    optimizer = 'adam',\n",
        "    loss = LOSS,\n",
        "    metrics = 'mae'\n",
        ")\n",
        "#define model checkpoint\n",
        "mc = define_callbacks(model3)\n",
        "\n",
        "#fit the model\n",
        "history3 = model3.fit(train_dataset_7,\n",
        "                    validation_data = test_dataset_7,\n",
        "                    epochs = 100,\n",
        "                    verbose = 0,\n",
        "                    callbacks = [mc])"
      ],
      "metadata": {
        "id": "rqM08rWhQ7oo"
      },
      "execution_count": 18,
      "outputs": []
    },
    {
      "cell_type": "code",
      "source": [
        "#load the best model\n",
        "best_model3 = tf.keras.models.clone_model(model3)\n",
        "\n",
        "#load the weights\n",
        "best_model3.load_weights(\"./ModelCheckpoints/model3.ckpt\")\n",
        "\n",
        "#compile the new model\n",
        "best_model3.compile(\n",
        "    optimizer = 'adam',\n",
        "    loss = LOSS,\n",
        "    metrics = 'mae'\n",
        ")\n",
        "\n",
        "best_model3.evaluate(test_dataset_7)"
      ],
      "metadata": {
        "colab": {
          "base_uri": "https://localhost:8080/"
        },
        "id": "-UVOsQNTRYCP",
        "outputId": "5c8e1334-87c6-4763-db6f-4b4fdecae2ff"
      },
      "execution_count": 24,
      "outputs": [
        {
          "output_type": "stream",
          "name": "stdout",
          "text": [
            "4/4 [==============================] - 2s 13ms/step - loss: 3984.9417 - mae: 3984.9417\n"
          ]
        },
        {
          "output_type": "execute_result",
          "data": {
            "text/plain": [
              "[3984.941650390625, 3984.941650390625]"
            ]
          },
          "metadata": {},
          "execution_count": 24
        }
      ]
    },
    {
      "cell_type": "code",
      "source": [
        "#model4 add a dense\n",
        "\n",
        "LOSS = 'mae'\n",
        "MODEL_NAME ='model4'\n",
        "\n",
        "#create the baseline model\n",
        "model4 = tf.keras.Sequential([\n",
        "    layers.Lambda(lambda x: tf.expand_dims(x,-1)),\n",
        "    layers.LSTM(128,return_sequences = True),\n",
        "    layers.LSTM(128,return_sequences = False),\n",
        "    layers.Dense(64,activation = 'relu'),\n",
        "    layers.Dense(1,activation = 'linear')\n",
        "],name = MODEL_NAME)\n",
        "\n",
        "#compile the model\n",
        "model4.compile(\n",
        "    optimizer = 'adam',\n",
        "    loss = LOSS,\n",
        "    metrics = 'mae'\n",
        ")\n",
        "#define model checkpoint\n",
        "mc = define_callbacks(model4)\n",
        "\n",
        "#fit the model\n",
        "history4 = model4.fit(train_dataset_7,\n",
        "                    validation_data = test_dataset_7,\n",
        "                    epochs = 100,\n",
        "                    verbose = 0,\n",
        "                    callbacks = [mc])"
      ],
      "metadata": {
        "id": "LgsKZUHrRylQ"
      },
      "execution_count": 25,
      "outputs": []
    },
    {
      "cell_type": "code",
      "source": [
        "#load the best model\n",
        "best_model4 = tf.keras.models.clone_model(model4)\n",
        "\n",
        "#load the weights\n",
        "best_model4.load_weights(\"./ModelCheckpoints/model4.ckpt\")\n",
        "\n",
        "#compile the new model\n",
        "best_model4.compile(\n",
        "    optimizer = 'adam',\n",
        "    loss = LOSS,\n",
        "    metrics = 'mae'\n",
        ")\n",
        "\n",
        "best_model4.evaluate(test_dataset_7)"
      ],
      "metadata": {
        "colab": {
          "base_uri": "https://localhost:8080/"
        },
        "id": "ip2H2g6XULhG",
        "outputId": "518f4a78-4353-4306-fe62-b84235a5f6a4"
      },
      "execution_count": 26,
      "outputs": [
        {
          "output_type": "stream",
          "name": "stdout",
          "text": [
            "4/4 [==============================] - 1s 12ms/step - loss: 1690.2316 - mae: 1690.2316\n"
          ]
        },
        {
          "output_type": "execute_result",
          "data": {
            "text/plain": [
              "[1690.2315673828125, 1690.2315673828125]"
            ]
          },
          "metadata": {},
          "execution_count": 26
        }
      ]
    },
    {
      "cell_type": "code",
      "source": [
        "#model5: add a Conv1D layer\n",
        "LOSS = 'mae'\n",
        "MODEL_NAME ='model5'\n",
        "\n",
        "#create the baseline model\n",
        "model5 = tf.keras.Sequential([\n",
        "    layers.Lambda(lambda x: tf.expand_dims(x,-1)),\n",
        "    layers.Conv1D(filters = 64,kernel_size = 3,activation = 'relu'),\n",
        "    layers.LSTM(128,return_sequences = True),\n",
        "    layers.LSTM(128,return_sequences = False),\n",
        "    layers.Dense(64,activation = 'relu'),\n",
        "    layers.Dense(1,activation = 'linear')\n",
        "],name = MODEL_NAME)\n",
        "\n",
        "#compile the model\n",
        "model5.compile(\n",
        "    optimizer = 'adam',\n",
        "    loss = LOSS,\n",
        "    metrics = 'mae'\n",
        ")\n",
        "#define model checkpoint\n",
        "mc = define_callbacks(model5)\n",
        "\n",
        "#fit the model\n",
        "history5 = model5.fit(train_dataset_7,\n",
        "                    validation_data = test_dataset_7,\n",
        "                    epochs = 100,\n",
        "                    verbose = 0,\n",
        "                    callbacks = [mc])"
      ],
      "metadata": {
        "id": "FwxpXIWJUkD9"
      },
      "execution_count": 28,
      "outputs": []
    },
    {
      "cell_type": "code",
      "source": [
        "#load the best model\n",
        "best_model5 = tf.keras.models.clone_model(model5)\n",
        "\n",
        "#load the weights\n",
        "best_model5.load_weights(\"./ModelCheckpoints/model5.ckpt\")\n",
        "\n",
        "#compile the new model\n",
        "best_model5.compile(\n",
        "    optimizer = 'adam',\n",
        "    loss = LOSS,\n",
        "    metrics = 'mae'\n",
        ")\n",
        "\n",
        "best_model5.evaluate(test_dataset_7)"
      ],
      "metadata": {
        "colab": {
          "base_uri": "https://localhost:8080/"
        },
        "id": "RmBGQwjsVxql",
        "outputId": "ba6189fd-a499-4573-f618-f310e3f5866c"
      },
      "execution_count": 30,
      "outputs": [
        {
          "output_type": "stream",
          "name": "stdout",
          "text": [
            "4/4 [==============================] - 2s 12ms/step - loss: 1690.2577 - mae: 1690.2577\n"
          ]
        },
        {
          "output_type": "execute_result",
          "data": {
            "text/plain": [
              "[1690.2576904296875, 1690.2576904296875]"
            ]
          },
          "metadata": {},
          "execution_count": 30
        }
      ]
    },
    {
      "cell_type": "code",
      "source": [
        "#model6: change the horizon\n",
        "\n",
        "train_dataset_5,test_dataset_5 = create_train_and_test_datasets(data,0.8,5)\n",
        "\n",
        "LOSS = 'mae'\n",
        "MODEL_NAME ='model6'\n",
        "\n",
        "#create the baseline model\n",
        "model6 = tf.keras.Sequential([\n",
        "    layers.Lambda(lambda x: tf.expand_dims(x,-1)),\n",
        "    layers.LSTM(128,return_sequences = True),\n",
        "    layers.LSTM(128,return_sequences = False),\n",
        "    layers.Dense(64,activation = 'relu'),\n",
        "    layers.Dense(1,activation = 'linear')\n",
        "],name = MODEL_NAME)\n",
        "\n",
        "#compile the model\n",
        "model6.compile(\n",
        "    optimizer = 'adam',\n",
        "    loss = LOSS,\n",
        "    metrics = 'mae'\n",
        ")\n",
        "#define model checkpoint\n",
        "mc = define_callbacks(model6)\n",
        "\n",
        "#fit the model\n",
        "history6 = model6.fit(train_dataset_5,\n",
        "                    validation_data = test_dataset_5,\n",
        "                    epochs = 100,\n",
        "                    verbose = 0,\n",
        "                    callbacks = [mc])\n"
      ],
      "metadata": {
        "id": "pwobohVNWP4t"
      },
      "execution_count": 31,
      "outputs": []
    },
    {
      "cell_type": "code",
      "source": [
        "#load the best model\n",
        "best_model6 = tf.keras.models.clone_model(model6)\n",
        "\n",
        "#load the weights\n",
        "best_model6.load_weights(\"./ModelCheckpoints/model6.ckpt\")\n",
        "\n",
        "#compile the new model\n",
        "best_model6.compile(\n",
        "    optimizer = 'adam',\n",
        "    loss = LOSS,\n",
        "    metrics = 'mae'\n",
        ")\n",
        "\n",
        "best_model6.evaluate(test_dataset_7)"
      ],
      "metadata": {
        "colab": {
          "base_uri": "https://localhost:8080/"
        },
        "id": "x3Pp7Y1XW-bl",
        "outputId": "6452b364-5787-4ad1-82cd-9d532add49a2"
      },
      "execution_count": 34,
      "outputs": [
        {
          "output_type": "stream",
          "name": "stdout",
          "text": [
            "4/4 [==============================] - 2s 16ms/step - loss: 1692.9987 - mae: 1693.4987\n"
          ]
        },
        {
          "output_type": "execute_result",
          "data": {
            "text/plain": [
              "[1692.9986572265625, 1693.4986572265625]"
            ]
          },
          "metadata": {},
          "execution_count": 34
        }
      ]
    },
    {
      "cell_type": "code",
      "source": [
        "#change the loss\n",
        "\n",
        "LOSS = 'huber'\n",
        "MODEL_NAME ='model7'\n",
        "\n",
        "#create the baseline model\n",
        "model7 = tf.keras.Sequential([\n",
        "    layers.Lambda(lambda x: tf.expand_dims(x,-1)),\n",
        "    layers.LSTM(128,return_sequences = True),\n",
        "    layers.LSTM(128,return_sequences = False),\n",
        "    layers.Dense(64,activation = 'relu'),\n",
        "    layers.Dense(1,activation = 'linear')\n",
        "],name = MODEL_NAME)\n",
        "\n",
        "#compile the model\n",
        "model7.compile(\n",
        "    optimizer = 'adam',\n",
        "    loss = LOSS,\n",
        "    metrics = 'mae'\n",
        ")\n",
        "\n",
        "#define model checkpoint\n",
        "mc = define_callbacks(model7)\n",
        "\n",
        "#fit the model\n",
        "history7 = model7.fit(train_dataset_7,\n",
        "                    validation_data = test_dataset_7,\n",
        "                    epochs = 100,\n",
        "                    verbose = 0,\n",
        "                    callbacks = [mc])"
      ],
      "metadata": {
        "id": "q_jEckEeXZN8"
      },
      "execution_count": 33,
      "outputs": []
    },
    {
      "cell_type": "code",
      "source": [
        "#load the best model\n",
        "best_model7 = tf.keras.models.clone_model(model7)\n",
        "\n",
        "#load the weights\n",
        "best_model7.load_weights(\"./ModelCheckpoints/model7.ckpt\")\n",
        "\n",
        "#compile the new model\n",
        "best_model7.compile(\n",
        "    optimizer = 'adam',\n",
        "    loss = LOSS,\n",
        "    metrics = 'mae'\n",
        ")\n",
        "\n",
        "best_model7.evaluate(test_dataset_7)"
      ],
      "metadata": {
        "colab": {
          "base_uri": "https://localhost:8080/"
        },
        "id": "sw4Loy7cXvmt",
        "outputId": "de792a9f-2c9c-4840-d040-6062edab075f"
      },
      "execution_count": 35,
      "outputs": [
        {
          "output_type": "stream",
          "name": "stdout",
          "text": [
            "4/4 [==============================] - 2s 17ms/step - loss: 1689.7123 - mae: 1690.2123\n"
          ]
        },
        {
          "output_type": "execute_result",
          "data": {
            "text/plain": [
              "[1689.7122802734375, 1690.2122802734375]"
            ]
          },
          "metadata": {},
          "execution_count": 35
        }
      ]
    },
    {
      "cell_type": "code",
      "source": [
        "tf.keras.backend.clear_session()"
      ],
      "metadata": {
        "id": "Zjkx7nwaYYf9"
      },
      "execution_count": 37,
      "outputs": []
    },
    {
      "cell_type": "code",
      "source": [
        "#change the loss mse\n",
        "\n",
        "LOSS = 'mse'\n",
        "MODEL_NAME ='model8'\n",
        "\n",
        "#create the baseline model\n",
        "model8 = tf.keras.Sequential([\n",
        "    layers.Lambda(lambda x: tf.expand_dims(x,-1)),\n",
        "    layers.LSTM(128,return_sequences = True),\n",
        "    layers.LSTM(128,return_sequences = False),\n",
        "    layers.Dense(64,activation = 'relu'),\n",
        "    layers.Dense(1,activation = 'linear')\n",
        "],name = MODEL_NAME)\n",
        "\n",
        "#compile the model\n",
        "model8.compile(\n",
        "    optimizer = 'adam',\n",
        "    loss = LOSS,\n",
        "    metrics = 'mae'\n",
        ")\n",
        "\n",
        "#define model checkpoint\n",
        "mc = define_callbacks(model8)\n",
        "\n",
        "#fit the model\n",
        "history8 = model8.fit(train_dataset_7,\n",
        "                    validation_data = test_dataset_7,\n",
        "                    epochs = 100,\n",
        "                    verbose = 0,\n",
        "                    callbacks = [mc])"
      ],
      "metadata": {
        "id": "GMurju2UYPct"
      },
      "execution_count": 38,
      "outputs": []
    },
    {
      "cell_type": "code",
      "source": [
        "#load the best model\n",
        "best_model8 = tf.keras.models.clone_model(model8)\n",
        "\n",
        "#load the weights\n",
        "best_model8.load_weights(\"./ModelCheckpoints/model8.ckpt\")\n",
        "\n",
        "#compile the new model\n",
        "best_model8.compile(\n",
        "    optimizer = 'adam',\n",
        "    loss = LOSS,\n",
        "    metrics = 'mae'\n",
        ")\n",
        "\n",
        "best_model8.evaluate(test_dataset_7)"
      ],
      "metadata": {
        "colab": {
          "base_uri": "https://localhost:8080/"
        },
        "id": "DP6F5bbpZK0a",
        "outputId": "4f37adaf-bc84-42c3-eaf6-e7f307eec95b"
      },
      "execution_count": 39,
      "outputs": [
        {
          "output_type": "stream",
          "name": "stdout",
          "text": [
            "4/4 [==============================] - 2s 13ms/step - loss: 2494463.5000 - mae: 1551.7977\n"
          ]
        },
        {
          "output_type": "execute_result",
          "data": {
            "text/plain": [
              "[2494463.5, 1551.7977294921875]"
            ]
          },
          "metadata": {},
          "execution_count": 39
        }
      ]
    },
    {
      "cell_type": "code",
      "source": [
        "#change the loss mape\n",
        "\n",
        "LOSS = 'mape'\n",
        "MODEL_NAME ='model9'\n",
        "\n",
        "#create the baseline model\n",
        "model9 = tf.keras.Sequential([\n",
        "    layers.Lambda(lambda x: tf.expand_dims(x,-1)),\n",
        "    layers.LSTM(128,return_sequences = True),\n",
        "    layers.LSTM(128,return_sequences = False),\n",
        "    layers.Dense(64,activation = 'relu'),\n",
        "    layers.Dense(1,activation = 'linear')\n",
        "],name = MODEL_NAME)\n",
        "\n",
        "#compile the model\n",
        "model9.compile(\n",
        "    optimizer = 'adam',\n",
        "    loss = LOSS,\n",
        "    metrics = 'mae'\n",
        ")\n",
        "\n",
        "#define model checkpoint\n",
        "mc = define_callbacks(model9)\n",
        "\n",
        "#fit the model\n",
        "history9 = model9.fit(train_dataset_7,\n",
        "                    validation_data = test_dataset_7,\n",
        "                    epochs = 100,\n",
        "                    verbose = 0,\n",
        "                    callbacks = [mc])"
      ],
      "metadata": {
        "id": "kAPHAav1ayha"
      },
      "execution_count": 40,
      "outputs": []
    },
    {
      "cell_type": "code",
      "source": [
        "#load the best model\n",
        "best_model9 = tf.keras.models.clone_model(model9)\n",
        "\n",
        "#load the weights\n",
        "best_model9.load_weights(\"./ModelCheckpoints/model9.ckpt\")\n",
        "\n",
        "#compile the new model\n",
        "best_model9.compile(\n",
        "    optimizer = 'adam',\n",
        "    loss = LOSS,\n",
        "    metrics = 'mae'\n",
        ")\n",
        "\n",
        "best_model9.evaluate(test_dataset_7)"
      ],
      "metadata": {
        "colab": {
          "base_uri": "https://localhost:8080/"
        },
        "id": "rOIDpH8FcSRA",
        "outputId": "744fbc40-1bbb-4055-a418-3479e477e052"
      },
      "execution_count": 42,
      "outputs": [
        {
          "output_type": "stream",
          "name": "stdout",
          "text": [
            "4/4 [==============================] - 2s 13ms/step - loss: 45.6695 - mae: 1933.4944\n"
          ]
        },
        {
          "output_type": "execute_result",
          "data": {
            "text/plain": [
              "[45.66946029663086, 1933.494384765625]"
            ]
          },
          "metadata": {},
          "execution_count": 42
        }
      ]
    },
    {
      "cell_type": "code",
      "source": [
        "#arrange the learning rate\n",
        "LOSS = 'mse'\n",
        "MODEL_NAME ='model10'\n",
        "\n",
        "#create the baseline model\n",
        "model10 = tf.keras.Sequential([\n",
        "    layers.Lambda(lambda x: tf.expand_dims(x,-1)),\n",
        "    layers.LSTM(128,return_sequences = True),\n",
        "    layers.LSTM(128,return_sequences = False),\n",
        "    layers.Dense(64,activation = 'relu'),\n",
        "    layers.Dense(1,activation = 'linear')\n",
        "],name = MODEL_NAME)\n",
        "\n",
        "#compile the model\n",
        "model10.compile(\n",
        "    optimizer = 'adam',\n",
        "    loss = LOSS,\n",
        "    metrics = 'mae'\n",
        ")\n",
        "\n",
        "#define model checkpoint\n",
        "lr_schedule = tf.keras.callbacks.LearningRateScheduler(lambda epoch: 1e-4 * 10**(epoch / 20))\n",
        "\n",
        "#fit the model\n",
        "history10 = model10.fit(train_dataset_7,\n",
        "                    validation_data = test_dataset_7,\n",
        "                    epochs = 100,\n",
        "                    verbose = 0,\n",
        "                    callbacks = [lr_schedule])"
      ],
      "metadata": {
        "id": "kLI27zwfdhDe"
      },
      "execution_count": 43,
      "outputs": []
    },
    {
      "cell_type": "code",
      "source": [
        "plt.semilogx(history10.history['lr'],history10.history['loss'])"
      ],
      "metadata": {
        "colab": {
          "base_uri": "https://localhost:8080/",
          "height": 467
        },
        "id": "aRxqtvuXeBPO",
        "outputId": "8b1e5f34-5752-4cfd-8f08-a4b68fb6cd84"
      },
      "execution_count": 45,
      "outputs": [
        {
          "output_type": "execute_result",
          "data": {
            "text/plain": [
              "[<matplotlib.lines.Line2D at 0x7ed92e2fda80>]"
            ]
          },
          "metadata": {},
          "execution_count": 45
        },
        {
          "output_type": "display_data",
          "data": {
            "text/plain": [
              "<Figure size 640x480 with 1 Axes>"
            ],
            "image/png": "[encoded data removed]"
          },
          "metadata": {}
        }
      ]
    },
    {
      "cell_type": "code",
      "source": [
        "#change it to optimal learning rate\n",
        "#arrange the learning rate\n",
        "LOSS = 'mse'\n",
        "MODEL_NAME ='model10'\n",
        "\n",
        "#create the baseline model\n",
        "model10 = tf.keras.Sequential([\n",
        "    layers.Lambda(lambda x: tf.expand_dims(x,-1)),\n",
        "    layers.LSTM(128,return_sequences = True),\n",
        "    layers.LSTM(128,return_sequences = False),\n",
        "    layers.Dense(64,activation = 'relu'),\n",
        "    layers.Dense(1,activation = 'linear')\n",
        "],name = MODEL_NAME)\n",
        "\n",
        "#compile the model\n",
        "model10.compile(\n",
        "    optimizer = tf.keras.optimizers.Adam(5e-3),\n",
        "    loss = LOSS,\n",
        "    metrics = 'mae'\n",
        ")\n",
        "\n",
        "#define model checkpoint\n",
        "mc = define_callbacks(model10)\n",
        "\n",
        "#fit the model\n",
        "history10 = model10.fit(train_dataset_7,\n",
        "                    validation_data = test_dataset_7,\n",
        "                    epochs = 100,\n",
        "                    verbose = 0,\n",
        "                    callbacks = [mc])"
      ],
      "metadata": {
        "id": "VvC_8fTpe-j-"
      },
      "execution_count": 47,
      "outputs": []
    },
    {
      "cell_type": "code",
      "source": [
        "#load the best model\n",
        "best_model10 = tf.keras.models.clone_model(model10)\n",
        "\n",
        "#load the weights\n",
        "best_model10.load_weights(\"./ModelCheckpoints/model10.ckpt\")\n",
        "\n",
        "#compile the new model\n",
        "best_model10.compile(\n",
        "    optimizer = 'adam',\n",
        "    loss = LOSS,\n",
        "    metrics = 'mae'\n",
        ")\n",
        "\n",
        "best_model10.evaluate(test_dataset_7)"
      ],
      "metadata": {
        "colab": {
          "base_uri": "https://localhost:8080/"
        },
        "id": "Qsxk1hA6fgAd",
        "outputId": "453d560b-2a55-438e-d1f9-5ca687ac8be8"
      },
      "execution_count": 49,
      "outputs": [
        {
          "output_type": "stream",
          "name": "stdout",
          "text": [
            "4/4 [==============================] - 1s 12ms/step - loss: 2472165.2500 - mae: 1544.5963\n"
          ]
        },
        {
          "output_type": "execute_result",
          "data": {
            "text/plain": [
              "[2472165.25, 1544.5963134765625]"
            ]
          },
          "metadata": {},
          "execution_count": 49
        }
      ]
    },
    {
      "cell_type": "code",
      "source": [
        "best_model.save('best_model.h5')"
      ],
      "metadata": {
        "colab": {
          "base_uri": "https://localhost:8080/"
        },
        "id": "G_OqM6xZgPhz",
        "outputId": "1f442bf3-28b5-4bf7-dab8-ca14c46117a2"
      },
      "execution_count": 50,
      "outputs": [
        {
          "output_type": "stream",
          "name": "stderr",
          "text": [
            "/usr/local/lib/python3.10/dist-packages/keras/src/engine/training.py:3000: UserWarning: You are saving your model as an HDF5 file via `model.save()`. This file format is considered legacy. We recommend using instead the native Keras format, e.g. `model.save('my_model.keras')`.\n",
            "  saving_api.save_model(\n",
            "WARNING:tensorflow:Compiled the loaded model, but the compiled metrics have yet to be built. `model.compile_metrics` will be empty until you train or evaluate the model.\n"
          ]
        }
      ]
    },
    {
      "cell_type": "code",
      "source": [],
      "metadata": {
        "id": "p042kxbcikoR"
      },
      "execution_count": null,
      "outputs": []
    }
  ]
}