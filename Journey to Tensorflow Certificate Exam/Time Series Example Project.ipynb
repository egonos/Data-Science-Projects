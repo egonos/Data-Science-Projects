{
  "cells": [
    {
      "cell_type": "code",
      "execution_count": 1,
      "metadata": {
        "id": "1dOuJRqSH3U_"
      },
      "outputs": [],
      "source": [
        "#import libraries\n",
        "import tensorflow as tf\n",
        "from tensorflow.keras import layers\n",
        "import pandas as pd\n",
        "import numpy as np\n",
        "import matplotlib.pyplot as plt\n",
        "import zipfile\n",
        "import random\n",
        "\n",
        "random.seed(42)\n",
        "tf.random.set_seed(42)\n",
        "np.random.seed(42)"
      ]
    },
    {
      "cell_type": "code",
      "execution_count": 2,
      "metadata": {
        "id": "6kcObX8fIblp"
      },
      "outputs": [],
      "source": [
        "#extract the files from zip file\n",
        "zipref = zipfile.ZipFile('archive.zip')\n",
        "zipref.extractall()\n",
        "zipref.close()"
      ]
    },
    {
      "cell_type": "code",
      "execution_count": 3,
      "metadata": {
        "colab": {
          "base_uri": "https://localhost:8080/",
          "height": 206
        },
        "id": "khsVqcNeIz6Y",
        "outputId": "ee46fb26-3e82-4bbc-ecc8-972f600024bb"
      },
      "outputs": [
        {
          "data": {
            "text/html": [
              "\n",
              "  <div id=\"df-ef907648-b54c-4ae0-9022-a6c5079d1a00\" class=\"colab-df-container\">\n",
              "    <div>\n",
              "<style scoped>\n",
              "    .dataframe tbody tr th:only-of-type {\n",
              "        vertical-align: middle;\n",
              "    }\n",
              "\n",
              "    .dataframe tbody tr th {\n",
              "        vertical-align: top;\n",
              "    }\n",
              "\n",
              "    .dataframe thead th {\n",
              "        text-align: right;\n",
              "    }\n",
              "</style>\n",
              "<table border=\"1\" class=\"dataframe\">\n",
              "  <thead>\n",
              "    <tr style=\"text-align: right;\">\n",
              "      <th></th>\n",
              "      <th>Date</th>\n",
              "      <th>S&amp;P500</th>\n",
              "    </tr>\n",
              "  </thead>\n",
              "  <tbody>\n",
              "    <tr>\n",
              "      <th>0</th>\n",
              "      <td>2013-09-30</td>\n",
              "      <td>1681.55</td>\n",
              "    </tr>\n",
              "    <tr>\n",
              "      <th>1</th>\n",
              "      <td>2013-10-01</td>\n",
              "      <td>1695.00</td>\n",
              "    </tr>\n",
              "    <tr>\n",
              "      <th>2</th>\n",
              "      <td>2013-10-02</td>\n",
              "      <td>1693.87</td>\n",
              "    </tr>\n",
              "    <tr>\n",
              "      <th>3</th>\n",
              "      <td>2013-10-03</td>\n",
              "      <td>1678.66</td>\n",
              "    </tr>\n",
              "    <tr>\n",
              "      <th>4</th>\n",
              "      <td>2013-10-04</td>\n",
              "      <td>1690.50</td>\n",
              "    </tr>\n",
              "  </tbody>\n",
              "</table>\n",
              "</div>\n",
              "    <div class=\"colab-df-buttons\">\n",
              "\n",
              "  <div class=\"colab-df-container\">\n",
              "    <button class=\"colab-df-convert\" onclick=\"convertToInteractive('df-ef907648-b54c-4ae0-9022-a6c5079d1a00')\"\n",
              "            title=\"Convert this dataframe to an interactive table.\"\n",
              "            style=\"display:none;\">\n",
              "\n",
              "  <svg xmlns=\"http://www.w3.org/2000/svg\" height=\"24px\" viewBox=\"0 -960 960 960\">\n",
              "    <path d=\"M120-120v-720h720v720H120Zm60-500h600v-160H180v160Zm220 220h160v-160H400v160Zm0 220h160v-160H400v160ZM180-400h160v-160H180v160Zm440 0h160v-160H620v160ZM180-180h160v-160H180v160Zm440 0h160v-160H620v160Z\"/>\n",
              "  </svg>\n",
              "    </button>\n",
              "\n",
              "  <style>\n",
              "    .colab-df-container {\n",
              "      display:flex;\n",
              "      gap: 12px;\n",
              "    }\n",
              "\n",
              "    .colab-df-convert {\n",
              "      background-color: #E8F0FE;\n",
              "      border: none;\n",
              "      border-radius: 50%;\n",
              "      cursor: pointer;\n",
              "      display: none;\n",
              "      fill: #1967D2;\n",
              "      height: 32px;\n",
              "      padding: 0 0 0 0;\n",
              "      width: 32px;\n",
              "    }\n",
              "\n",
              "    .colab-df-convert:hover {\n",
              "      background-color: #E2EBFA;\n",
              "      box-shadow: 0px 1px 2px rgba(60, 64, 67, 0.3), 0px 1px 3px 1px rgba(60, 64, 67, 0.15);\n",
              "      fill: #174EA6;\n",
              "    }\n",
              "\n",
              "    .colab-df-buttons div {\n",
              "      margin-bottom: 4px;\n",
              "    }\n",
              "\n",
              "    [theme=dark] .colab-df-convert {\n",
              "      background-color: #3B4455;\n",
              "      fill: #D2E3FC;\n",
              "    }\n",
              "\n",
              "    [theme=dark] .colab-df-convert:hover {\n",
              "      background-color: #434B5C;\n",
              "      box-shadow: 0px 1px 3px 1px rgba(0, 0, 0, 0.15);\n",
              "      filter: drop-shadow(0px 1px 2px rgba(0, 0, 0, 0.3));\n",
              "      fill: #FFFFFF;\n",
              "    }\n",
              "  </style>\n",
              "\n",
              "    <script>\n",
              "      const buttonEl =\n",
              "        document.querySelector('#df-ef907648-b54c-4ae0-9022-a6c5079d1a00 button.colab-df-convert');\n",
              "      buttonEl.style.display =\n",
              "        google.colab.kernel.accessAllowed ? 'block' : 'none';\n",
              "\n",
              "      async function convertToInteractive(key) {\n",
              "        const element = document.querySelector('#df-ef907648-b54c-4ae0-9022-a6c5079d1a00');\n",
              "        const dataTable =\n",
              "          await google.colab.kernel.invokeFunction('convertToInteractive',\n",
              "                                                    [key], {});\n",
              "        if (!dataTable) return;\n",
              "\n",
              "        const docLinkHtml = 'Like what you see? Visit the ' +\n",
              "          '<a target=\"_blank\" href=https://colab.research.google.com/notebooks/data_table.ipynb>data table notebook</a>'\n",
              "          + ' to learn more about interactive tables.';\n",
              "        element.innerHTML = '';\n",
              "        dataTable['output_type'] = 'display_data';\n",
              "        await google.colab.output.renderOutput(dataTable, element);\n",
              "        const docLink = document.createElement('div');\n",
              "        docLink.innerHTML = docLinkHtml;\n",
              "        element.appendChild(docLink);\n",
              "      }\n",
              "    </script>\n",
              "  </div>\n",
              "\n",
              "\n",
              "<div id=\"df-b6940c98-9d8d-451d-8400-67eded858a49\">\n",
              "  <button class=\"colab-df-quickchart\" onclick=\"quickchart('df-b6940c98-9d8d-451d-8400-67eded858a49')\"\n",
              "            title=\"Suggest charts.\"\n",
              "            style=\"display:none;\">\n",
              "\n",
              "<svg xmlns=\"http://www.w3.org/2000/svg\" height=\"24px\"viewBox=\"0 0 24 24\"\n",
              "     width=\"24px\">\n",
              "    <g>\n",
              "        <path d=\"M19 3H5c-1.1 0-2 .9-2 2v14c0 1.1.9 2 2 2h14c1.1 0 2-.9 2-2V5c0-1.1-.9-2-2-2zM9 17H7v-7h2v7zm4 0h-2V7h2v10zm4 0h-2v-4h2v4z\"/>\n",
              "    </g>\n",
              "</svg>\n",
              "  </button>\n",
              "\n",
              "<style>\n",
              "  .colab-df-quickchart {\n",
              "      --bg-color: #E8F0FE;\n",
              "      --fill-color: #1967D2;\n",
              "      --hover-bg-color: #E2EBFA;\n",
              "      --hover-fill-color: #174EA6;\n",
              "      --disabled-fill-color: #AAA;\n",
              "      --disabled-bg-color: #DDD;\n",
              "  }\n",
              "\n",
              "  [theme=dark] .colab-df-quickchart {\n",
              "      --bg-color: #3B4455;\n",
              "      --fill-color: #D2E3FC;\n",
              "      --hover-bg-color: #434B5C;\n",
              "      --hover-fill-color: #FFFFFF;\n",
              "      --disabled-bg-color: #3B4455;\n",
              "      --disabled-fill-color: #666;\n",
              "  }\n",
              "\n",
              "  .colab-df-quickchart {\n",
              "    background-color: var(--bg-color);\n",
              "    border: none;\n",
              "    border-radius: 50%;\n",
              "    cursor: pointer;\n",
              "    display: none;\n",
              "    fill: var(--fill-color);\n",
              "    height: 32px;\n",
              "    padding: 0;\n",
              "    width: 32px;\n",
              "  }\n",
              "\n",
              "  .colab-df-quickchart:hover {\n",
              "    background-color: var(--hover-bg-color);\n",
              "    box-shadow: 0 1px 2px rgba(60, 64, 67, 0.3), 0 1px 3px 1px rgba(60, 64, 67, 0.15);\n",
              "    fill: var(--button-hover-fill-color);\n",
              "  }\n",
              "\n",
              "  .colab-df-quickchart-complete:disabled,\n",
              "  .colab-df-quickchart-complete:disabled:hover {\n",
              "    background-color: var(--disabled-bg-color);\n",
              "    fill: var(--disabled-fill-color);\n",
              "    box-shadow: none;\n",
              "  }\n",
              "\n",
              "  .colab-df-spinner {\n",
              "    border: 2px solid var(--fill-color);\n",
              "    border-color: transparent;\n",
              "    border-bottom-color: var(--fill-color);\n",
              "    animation:\n",
              "      spin 1s steps(1) infinite;\n",
              "  }\n",
              "\n",
              "  @keyframes spin {\n",
              "    0% {\n",
              "      border-color: transparent;\n",
              "      border-bottom-color: var(--fill-color);\n",
              "      border-left-color: var(--fill-color);\n",
              "    }\n",
              "    20% {\n",
              "      border-color: transparent;\n",
              "      border-left-color: var(--fill-color);\n",
              "      border-top-color: var(--fill-color);\n",
              "    }\n",
              "    30% {\n",
              "      border-color: transparent;\n",
              "      border-left-color: var(--fill-color);\n",
              "      border-top-color: var(--fill-color);\n",
              "      border-right-color: var(--fill-color);\n",
              "    }\n",
              "    40% {\n",
              "      border-color: transparent;\n",
              "      border-right-color: var(--fill-color);\n",
              "      border-top-color: var(--fill-color);\n",
              "    }\n",
              "    60% {\n",
              "      border-color: transparent;\n",
              "      border-right-color: var(--fill-color);\n",
              "    }\n",
              "    80% {\n",
              "      border-color: transparent;\n",
              "      border-right-color: var(--fill-color);\n",
              "      border-bottom-color: var(--fill-color);\n",
              "    }\n",
              "    90% {\n",
              "      border-color: transparent;\n",
              "      border-bottom-color: var(--fill-color);\n",
              "    }\n",
              "  }\n",
              "</style>\n",
              "\n",
              "  <script>\n",
              "    async function quickchart(key) {\n",
              "      const quickchartButtonEl =\n",
              "        document.querySelector('#' + key + ' button');\n",
              "      quickchartButtonEl.disabled = true;  // To prevent multiple clicks.\n",
              "      quickchartButtonEl.classList.add('colab-df-spinner');\n",
              "      try {\n",
              "        const charts = await google.colab.kernel.invokeFunction(\n",
              "            'suggestCharts', [key], {});\n",
              "      } catch (error) {\n",
              "        console.error('Error during call to suggestCharts:', error);\n",
              "      }\n",
              "      quickchartButtonEl.classList.remove('colab-df-spinner');\n",
              "      quickchartButtonEl.classList.add('colab-df-quickchart-complete');\n",
              "    }\n",
              "    (() => {\n",
              "      let quickchartButtonEl =\n",
              "        document.querySelector('#df-b6940c98-9d8d-451d-8400-67eded858a49 button');\n",
              "      quickchartButtonEl.style.display =\n",
              "        google.colab.kernel.accessAllowed ? 'block' : 'none';\n",
              "    })();\n",
              "  </script>\n",
              "</div>\n",
              "    </div>\n",
              "  </div>\n"
            ],
            "text/plain": [
              "         Date   S&P500\n",
              "0  2013-09-30  1681.55\n",
              "1  2013-10-01  1695.00\n",
              "2  2013-10-02  1693.87\n",
              "3  2013-10-03  1678.66\n",
              "4  2013-10-04  1690.50"
            ]
          },
          "execution_count": 3,
          "metadata": {},
          "output_type": "execute_result"
        }
      ],
      "source": [
        "df = pd.read_csv('sp500_index.csv')\n",
        "df.head()"
      ]
    },
    {
      "cell_type": "code",
      "execution_count": 4,
      "metadata": {
        "colab": {
          "base_uri": "https://localhost:8080/"
        },
        "id": "yvkyM4ZEI8VY",
        "outputId": "308d03e5-b2e6-4acf-edbf-0449084eb372"
      },
      "outputs": [
        {
          "data": {
            "text/plain": [
              "2518"
            ]
          },
          "execution_count": 4,
          "metadata": {},
          "output_type": "execute_result"
        }
      ],
      "source": [
        "len(df)"
      ]
    },
    {
      "cell_type": "code",
      "execution_count": 5,
      "metadata": {
        "id": "PwnUgFN5I-Rf"
      },
      "outputs": [],
      "source": [
        "#convert to numpy array\n",
        "data = df[\"S&P500\"].values\n",
        "\n",
        "#define a timeseries converting function\n",
        "def create_train_and_test_datasets(DATA,TRAIN_MULTIPLIER,SEQUENCE_LENGTH,BATCH_SIZE = 128):\n",
        "\n",
        "  \"\"\"\n",
        "  Creates tensorflow train and test datasets.\n",
        "  Note: Test horizon is only 1.\n",
        "\n",
        "  PARAMETERS\n",
        "  ----------\n",
        "  DATA: Sequential timeseries data without dates\n",
        "  TRAIN_MULTIPLIER: Multiplier for train dataset\n",
        "  SEQUENCE_LENGTH: Length of each input sequence\n",
        "  BATCH_SIZE: Batch size\n",
        "  \"\"\"\n",
        "  X = DATA[:-1] #fixed arrangements\n",
        "  y = DATA[SEQUENCE_LENGTH:]\n",
        "  dataset = tf.keras.utils.timeseries_dataset_from_array(data = X, targets=y,sequence_length = SEQUENCE_LENGTH,batch_size = None) #no batches first to count the number of instances\n",
        "  dataset_size = tf.data.experimental.cardinality(dataset).numpy() #count the number of instances\n",
        "  TRAIN_SIZE = int(TRAIN_MULTIPLIER*dataset_size)\n",
        "\n",
        "  #create train and test datasets\n",
        "  train_dataset = dataset.take(TRAIN_SIZE)\n",
        "  test_dataset = dataset.skip(TRAIN_SIZE)\n",
        "\n",
        "  #prep the datasets\n",
        "  train_dataset = train_dataset.batch(BATCH_SIZE).prefetch(tf.data.AUTOTUNE)\n",
        "  test_dataset = test_dataset.batch(BATCH_SIZE).prefetch(tf.data.AUTOTUNE)\n",
        "\n",
        "  return train_dataset,test_dataset\n",
        "\n",
        "def define_callbacks(model):\n",
        "  #es = tf.keras.callbacks.EarlyStopping(patience = 5,verbose = 1, restore_best_weights = True)\n",
        "  mc = tf.keras.callbacks.ModelCheckpoint(filepath = f\"./ModelCheckpoints/{model.name}.ckpt\",\n",
        "                                         save_best_only = True,\n",
        "                                         save_weights_only = True)\n",
        " # tb = tf.keras.callbacks.TensorBoard(log_dir = f\"./TensorboardLogs/{model.name}\")\n",
        "\n",
        "  return mc"
      ]
    },
    {
      "cell_type": "code",
      "execution_count": 6,
      "metadata": {
        "id": "4Lc-tsFRJhio"
      },
      "outputs": [],
      "source": [
        "#define global variables\n",
        "TRAIN_MULTIPLIER = 0.8\n",
        "SEQUENCE_LENGTH = 7\n",
        "\n",
        "#create the datasets\n",
        "train_dataset_7,test_dataset_7 = create_train_and_test_datasets(DATA = data,\n",
        "                                                            TRAIN_MULTIPLIER=TRAIN_MULTIPLIER,\n",
        "                                                            SEQUENCE_LENGTH = SEQUENCE_LENGTH)"
      ]
    },
    {
      "cell_type": "code",
      "execution_count": 7,
      "metadata": {
        "colab": {
          "base_uri": "https://localhost:8080/"
        },
        "id": "iiq4_Mq7KHcO",
        "outputId": "5074739f-782f-40c1-d503-c4919324c846"
      },
      "outputs": [
        {
          "data": {
            "text/plain": [
              "(<_PrefetchDataset element_spec=(TensorSpec(shape=(None, None), dtype=tf.float64, name=None), TensorSpec(shape=(None,), dtype=tf.float64, name=None))>,\n",
              " <_PrefetchDataset element_spec=(TensorSpec(shape=(None, None), dtype=tf.float64, name=None), TensorSpec(shape=(None,), dtype=tf.float64, name=None))>)"
            ]
          },
          "execution_count": 7,
          "metadata": {},
          "output_type": "execute_result"
        }
      ],
      "source": [
        "train_dataset_7,test_dataset_7"
      ]
    },
    {
      "cell_type": "code",
      "execution_count": 8,
      "metadata": {
        "collapsed": true,
        "id": "_oo6blS5KLF2"
      },
      "outputs": [],
      "source": [
        "LOSS = 'mae'\n",
        "MODEL_NAME ='model1'\n",
        "\n",
        "#create the baseline model\n",
        "model = tf.keras.Sequential([\n",
        "    layers.Lambda(lambda x: tf.expand_dims(x,-1)),\n",
        "    layers.LSTM(16,return_sequences = False),\n",
        "    layers.Dense(1,activation = 'linear')\n",
        "],name = MODEL_NAME)\n",
        "\n",
        "#compile the model\n",
        "model.compile(\n",
        "    optimizer = 'adam',\n",
        "    loss = LOSS,\n",
        "    metrics = 'mae'\n",
        ")\n",
        "#define model checkpoint\n",
        "mc = define_callbacks(model)\n",
        "\n",
        "#fit the model\n",
        "history = model.fit(train_dataset_7,\n",
        "                    validation_data = test_dataset_7,\n",
        "                    epochs = 100,\n",
        "                    verbose = 0,\n",
        "                    callbacks = [mc])"
      ]
    },
    {
      "cell_type": "code",
      "execution_count": 9,
      "metadata": {
        "colab": {
          "base_uri": "https://localhost:8080/"
        },
        "id": "VITV3ZNMNcos",
        "outputId": "f35823be-8dc9-4cdb-9211-4437ebe974b9"
      },
      "outputs": [
        {
          "name": "stdout",
          "output_type": "stream",
          "text": [
            "4/4 [==============================] - 1s 9ms/step - loss: 4200.4619 - mae: 4200.4619\n"
          ]
        },
        {
          "data": {
            "text/plain": [
              "[4200.4619140625, 4200.4619140625]"
            ]
          },
          "execution_count": 9,
          "metadata": {},
          "output_type": "execute_result"
        }
      ],
      "source": [
        "#load the best model\n",
        "best_model = tf.keras.models.clone_model(model)\n",
        "\n",
        "#load the weights\n",
        "best_model.load_weights(\"./ModelCheckpoints/model1.ckpt\")\n",
        "\n",
        "#compile the new model\n",
        "best_model.compile(\n",
        "    optimizer = 'adam',\n",
        "    loss = LOSS,\n",
        "    metrics = 'mae'\n",
        ")\n",
        "\n",
        "best_model.evaluate(test_dataset_7)"
      ]
    },
    {
      "cell_type": "code",
      "execution_count": 10,
      "metadata": {
        "id": "ISW9Ut-XP9f9"
      },
      "outputs": [],
      "source": [
        "#model2: increase the lstm neurons\n",
        "\n",
        "LOSS = 'mae'\n",
        "MODEL_NAME ='model2'\n",
        "\n",
        "#create the baseline model\n",
        "model2 = tf.keras.Sequential([\n",
        "    layers.Lambda(lambda x: tf.expand_dims(x,-1)),\n",
        "    layers.LSTM(128,return_sequences = False),\n",
        "    layers.Dense(1,activation = 'linear')\n",
        "],name = MODEL_NAME)\n",
        "\n",
        "#compile the model\n",
        "model2.compile(\n",
        "    optimizer = 'adam',\n",
        "    loss = LOSS,\n",
        "    metrics = 'mae'\n",
        ")\n",
        "#define model checkpoint\n",
        "mc = define_callbacks(model2)\n",
        "\n",
        "#fit the model\n",
        "history2 = model2.fit(train_dataset_7,\n",
        "                    validation_data = test_dataset_7,\n",
        "                    epochs = 100,\n",
        "                    verbose = 0,\n",
        "                    callbacks = [mc])"
      ]
    },
    {
      "cell_type": "code",
      "execution_count": 11,
      "metadata": {
        "colab": {
          "base_uri": "https://localhost:8080/"
        },
        "id": "DS1-mq3AQZsW",
        "outputId": "1f86487e-3307-4e45-aed1-c26d873ce491"
      },
      "outputs": [
        {
          "name": "stdout",
          "output_type": "stream",
          "text": [
            "4/4 [==============================] - 1s 14ms/step - loss: 4150.9834 - mae: 4150.9834\n"
          ]
        },
        {
          "data": {
            "text/plain": [
              "[4150.9833984375, 4150.9833984375]"
            ]
          },
          "execution_count": 11,
          "metadata": {},
          "output_type": "execute_result"
        }
      ],
      "source": [
        "#load the best model\n",
        "best_model2 = tf.keras.models.clone_model(model2)\n",
        "\n",
        "#load the weights\n",
        "best_model2.load_weights(\"./ModelCheckpoints/model2.ckpt\")\n",
        "\n",
        "#compile the new model\n",
        "best_model2.compile(\n",
        "    optimizer = 'adam',\n",
        "    loss = LOSS,\n",
        "    metrics = 'mae'\n",
        ")\n",
        "\n",
        "best_model2.evaluate(test_dataset_7)"
      ]
    },
    {
      "cell_type": "code",
      "execution_count": 12,
      "metadata": {
        "id": "rqM08rWhQ7oo"
      },
      "outputs": [],
      "source": [
        "#model3: increase lstm lyaers\n",
        "\n",
        "LOSS = 'mae'\n",
        "MODEL_NAME ='model3'\n",
        "\n",
        "#create the baseline model\n",
        "model3 = tf.keras.Sequential([\n",
        "    layers.Lambda(lambda x: tf.expand_dims(x,-1)),\n",
        "    layers.LSTM(128,return_sequences = True),\n",
        "    layers.LSTM(128, return_sequences = False),\n",
        "    layers.Dense(1,activation = 'linear')\n",
        "],name = MODEL_NAME)\n",
        "\n",
        "#compile the model\n",
        "model3.compile(\n",
        "    optimizer = 'adam',\n",
        "    loss = LOSS,\n",
        "    metrics = 'mae'\n",
        ")\n",
        "#define model checkpoint\n",
        "mc = define_callbacks(model3)\n",
        "\n",
        "#fit the model\n",
        "history3 = model3.fit(train_dataset_7,\n",
        "                    validation_data = test_dataset_7,\n",
        "                    epochs = 100,\n",
        "                    verbose = 0,\n",
        "                    callbacks = [mc])"
      ]
    },
    {
      "cell_type": "code",
      "execution_count": 13,
      "metadata": {
        "colab": {
          "base_uri": "https://localhost:8080/"
        },
        "id": "-UVOsQNTRYCP",
        "outputId": "4b6252a2-75be-4b65-f8c3-968489433b56"
      },
      "outputs": [
        {
          "name": "stdout",
          "output_type": "stream",
          "text": [
            "4/4 [==============================] - 1s 21ms/step - loss: 3986.9875 - mae: 3986.9878\n"
          ]
        },
        {
          "data": {
            "text/plain": [
              "[3986.987548828125, 3986.98779296875]"
            ]
          },
          "execution_count": 13,
          "metadata": {},
          "output_type": "execute_result"
        }
      ],
      "source": [
        "#load the best model\n",
        "best_model3 = tf.keras.models.clone_model(model3)\n",
        "\n",
        "#load the weights\n",
        "best_model3.load_weights(\"./ModelCheckpoints/model3.ckpt\")\n",
        "\n",
        "#compile the new model\n",
        "best_model3.compile(\n",
        "    optimizer = 'adam',\n",
        "    loss = LOSS,\n",
        "    metrics = 'mae'\n",
        ")\n",
        "\n",
        "best_model3.evaluate(test_dataset_7)"
      ]
    },
    {
      "cell_type": "code",
      "execution_count": 14,
      "metadata": {
        "id": "LgsKZUHrRylQ"
      },
      "outputs": [],
      "source": [
        "#model4 add a dense\n",
        "\n",
        "LOSS = 'mae'\n",
        "MODEL_NAME ='model4'\n",
        "\n",
        "#create the baseline model\n",
        "model4 = tf.keras.Sequential([\n",
        "    layers.Lambda(lambda x: tf.expand_dims(x,-1)),\n",
        "    layers.LSTM(128,return_sequences = True),\n",
        "    layers.LSTM(128,return_sequences = False),\n",
        "    layers.Dense(64,activation = 'relu'),\n",
        "    layers.Dense(1,activation = 'linear')\n",
        "],name = MODEL_NAME)\n",
        "\n",
        "#compile the model\n",
        "model4.compile(\n",
        "    optimizer = 'adam',\n",
        "    loss = LOSS,\n",
        "    metrics = 'mae'\n",
        ")\n",
        "#define model checkpoint\n",
        "mc = define_callbacks(model4)\n",
        "\n",
        "#fit the model\n",
        "history4 = model4.fit(train_dataset_7,\n",
        "                    validation_data = test_dataset_7,\n",
        "                    epochs = 100,\n",
        "                    verbose = 0,\n",
        "                    callbacks = [mc])"
      ]
    },
    {
      "cell_type": "code",
      "execution_count": 15,
      "metadata": {
        "colab": {
          "base_uri": "https://localhost:8080/"
        },
        "id": "ip2H2g6XULhG",
        "outputId": "f236f0b4-6a51-4d42-acca-14ddf21d14ad"
      },
      "outputs": [
        {
          "name": "stdout",
          "output_type": "stream",
          "text": [
            "4/4 [==============================] - 2s 16ms/step - loss: 1689.4584 - mae: 1689.4584\n"
          ]
        },
        {
          "data": {
            "text/plain": [
              "[1689.4583740234375, 1689.4583740234375]"
            ]
          },
          "execution_count": 15,
          "metadata": {},
          "output_type": "execute_result"
        }
      ],
      "source": [
        "#load the best model\n",
        "best_model4 = tf.keras.models.clone_model(model4)\n",
        "\n",
        "#load the weights\n",
        "best_model4.load_weights(\"./ModelCheckpoints/model4.ckpt\")\n",
        "\n",
        "#compile the new model\n",
        "best_model4.compile(\n",
        "    optimizer = 'adam',\n",
        "    loss = LOSS,\n",
        "    metrics = 'mae'\n",
        ")\n",
        "\n",
        "best_model4.evaluate(test_dataset_7)"
      ]
    },
    {
      "cell_type": "code",
      "execution_count": 16,
      "metadata": {
        "id": "FwxpXIWJUkD9"
      },
      "outputs": [],
      "source": [
        "#model5: add a Conv1D layer\n",
        "LOSS = 'mae'\n",
        "MODEL_NAME ='model5'\n",
        "\n",
        "#create the baseline model\n",
        "model5 = tf.keras.Sequential([\n",
        "    layers.Lambda(lambda x: tf.expand_dims(x,-1)),\n",
        "    layers.Conv1D(filters = 64,kernel_size = 3,activation = 'relu'),\n",
        "    layers.LSTM(128,return_sequences = True),\n",
        "    layers.LSTM(128,return_sequences = False),\n",
        "    layers.Dense(64,activation = 'relu'),\n",
        "    layers.Dense(1,activation = 'linear')\n",
        "],name = MODEL_NAME)\n",
        "\n",
        "#compile the model\n",
        "model5.compile(\n",
        "    optimizer = 'adam',\n",
        "    loss = LOSS,\n",
        "    metrics = 'mae'\n",
        ")\n",
        "#define model checkpoint\n",
        "mc = define_callbacks(model5)\n",
        "\n",
        "#fit the model\n",
        "history5 = model5.fit(train_dataset_7,\n",
        "                    validation_data = test_dataset_7,\n",
        "                    epochs = 100,\n",
        "                    verbose = 0,\n",
        "                    callbacks = [mc])"
      ]
    },
    {
      "cell_type": "code",
      "execution_count": 17,
      "metadata": {
        "colab": {
          "base_uri": "https://localhost:8080/"
        },
        "id": "RmBGQwjsVxql",
        "outputId": "d9ece706-499e-4580-a773-abee6a93d604"
      },
      "outputs": [
        {
          "name": "stdout",
          "output_type": "stream",
          "text": [
            "4/4 [==============================] - 1s 17ms/step - loss: 1687.5499 - mae: 1687.5499\n"
          ]
        },
        {
          "data": {
            "text/plain": [
              "[1687.5499267578125, 1687.5499267578125]"
            ]
          },
          "execution_count": 17,
          "metadata": {},
          "output_type": "execute_result"
        }
      ],
      "source": [
        "#load the best model\n",
        "best_model5 = tf.keras.models.clone_model(model5)\n",
        "\n",
        "#load the weights\n",
        "best_model5.load_weights(\"./ModelCheckpoints/model5.ckpt\")\n",
        "\n",
        "#compile the new model\n",
        "best_model5.compile(\n",
        "    optimizer = 'adam',\n",
        "    loss = LOSS,\n",
        "    metrics = 'mae'\n",
        ")\n",
        "\n",
        "best_model5.evaluate(test_dataset_7)"
      ]
    },
    {
      "cell_type": "code",
      "execution_count": 18,
      "metadata": {
        "id": "pwobohVNWP4t"
      },
      "outputs": [],
      "source": [
        "#model6: change the horizon\n",
        "train_dataset_5,test_dataset_5 = create_train_and_test_datasets(data,0.8,5)\n",
        "\n",
        "LOSS = 'mae'\n",
        "MODEL_NAME ='model6'\n",
        "\n",
        "#create the baseline model\n",
        "model6 = tf.keras.Sequential([\n",
        "    layers.Lambda(lambda x: tf.expand_dims(x,-1)),\n",
        "    layers.LSTM(128,return_sequences = True),\n",
        "    layers.LSTM(128,return_sequences = False),\n",
        "    layers.Dense(64,activation = 'relu'),\n",
        "    layers.Dense(1,activation = 'linear')\n",
        "],name = MODEL_NAME)\n",
        "\n",
        "#compile the model\n",
        "model6.compile(\n",
        "    optimizer = 'adam',\n",
        "    loss = LOSS,\n",
        "    metrics = 'mae'\n",
        ")\n",
        "#define model checkpoint\n",
        "mc = define_callbacks(model6)\n",
        "\n",
        "#fit the model\n",
        "history6 = model6.fit(train_dataset_5,\n",
        "                    validation_data = test_dataset_5,\n",
        "                    epochs = 100,\n",
        "                    verbose = 0,\n",
        "                    callbacks = [mc])\n"
      ]
    },
    {
      "cell_type": "code",
      "execution_count": 19,
      "metadata": {
        "colab": {
          "base_uri": "https://localhost:8080/"
        },
        "id": "x3Pp7Y1XW-bl",
        "outputId": "15ffb1b3-54ea-48a1-998a-c7f1ba5a9fc7"
      },
      "outputs": [
        {
          "name": "stdout",
          "output_type": "stream",
          "text": [
            "4/4 [==============================] - 1s 23ms/step - loss: 1691.2837 - mae: 1691.2837\n"
          ]
        },
        {
          "data": {
            "text/plain": [
              "[1691.28369140625, 1691.28369140625]"
            ]
          },
          "execution_count": 19,
          "metadata": {},
          "output_type": "execute_result"
        }
      ],
      "source": [
        "#load the best model\n",
        "best_model6 = tf.keras.models.clone_model(model6)\n",
        "\n",
        "#load the weights\n",
        "best_model6.load_weights(\"./ModelCheckpoints/model6.ckpt\")\n",
        "\n",
        "#compile the new model\n",
        "best_model6.compile(\n",
        "    optimizer = 'adam',\n",
        "    loss = LOSS,\n",
        "    metrics = 'mae'\n",
        ")\n",
        "\n",
        "best_model6.evaluate(test_dataset_7)"
      ]
    },
    {
      "cell_type": "code",
      "execution_count": 20,
      "metadata": {
        "id": "q_jEckEeXZN8"
      },
      "outputs": [],
      "source": [
        "#change the loss: huber\n",
        "\n",
        "LOSS = 'huber'\n",
        "MODEL_NAME ='model7'\n",
        "\n",
        "#create the baseline model\n",
        "model7 = tf.keras.Sequential([\n",
        "    layers.Lambda(lambda x: tf.expand_dims(x,-1)),\n",
        "    layers.LSTM(128,return_sequences = True),\n",
        "    layers.LSTM(128,return_sequences = False),\n",
        "    layers.Dense(64,activation = 'relu'),\n",
        "    layers.Dense(1,activation = 'linear')\n",
        "],name = MODEL_NAME)\n",
        "\n",
        "#compile the model\n",
        "model7.compile(\n",
        "    optimizer = 'adam',\n",
        "    loss = LOSS,\n",
        "    metrics = 'mae'\n",
        ")\n",
        "\n",
        "#define model checkpoint\n",
        "mc = define_callbacks(model7)\n",
        "\n",
        "#fit the model\n",
        "history7 = model7.fit(train_dataset_7,\n",
        "                    validation_data = test_dataset_7,\n",
        "                    epochs = 100,\n",
        "                    verbose = 0,\n",
        "                    callbacks = [mc])"
      ]
    },
    {
      "cell_type": "code",
      "execution_count": 21,
      "metadata": {
        "colab": {
          "base_uri": "https://localhost:8080/"
        },
        "id": "sw4Loy7cXvmt",
        "outputId": "012340ed-0496-4160-e325-fdb79aeb6876"
      },
      "outputs": [
        {
          "name": "stdout",
          "output_type": "stream",
          "text": [
            "4/4 [==============================] - 1s 19ms/step - loss: 1690.3575 - mae: 1690.8575\n"
          ]
        },
        {
          "data": {
            "text/plain": [
              "[1690.3575439453125, 1690.8575439453125]"
            ]
          },
          "execution_count": 21,
          "metadata": {},
          "output_type": "execute_result"
        }
      ],
      "source": [
        "#load the best model\n",
        "best_model7 = tf.keras.models.clone_model(model7)\n",
        "\n",
        "#load the weights\n",
        "best_model7.load_weights(\"./ModelCheckpoints/model7.ckpt\")\n",
        "\n",
        "#compile the new model\n",
        "best_model7.compile(\n",
        "    optimizer = 'adam',\n",
        "    loss = LOSS,\n",
        "    metrics = 'mae'\n",
        ")\n",
        "\n",
        "best_model7.evaluate(test_dataset_7)"
      ]
    },
    {
      "cell_type": "code",
      "execution_count": 22,
      "metadata": {
        "id": "Zjkx7nwaYYf9"
      },
      "outputs": [],
      "source": [
        "#clear session outputs\n",
        "tf.keras.backend.clear_session()"
      ]
    },
    {
      "cell_type": "code",
      "execution_count": 23,
      "metadata": {
        "id": "GMurju2UYPct"
      },
      "outputs": [],
      "source": [
        "#change the loss: mse\n",
        "LOSS = 'mse'\n",
        "MODEL_NAME ='model8'\n",
        "\n",
        "#create the baseline model\n",
        "model8 = tf.keras.Sequential([\n",
        "    layers.Lambda(lambda x: tf.expand_dims(x,-1)),\n",
        "    layers.LSTM(128,return_sequences = True),\n",
        "    layers.LSTM(128,return_sequences = False),\n",
        "    layers.Dense(64,activation = 'relu'),\n",
        "    layers.Dense(1,activation = 'linear')\n",
        "],name = MODEL_NAME)\n",
        "\n",
        "#compile the model\n",
        "model8.compile(\n",
        "    optimizer = 'adam',\n",
        "    loss = LOSS,\n",
        "    metrics = 'mae'\n",
        ")\n",
        "\n",
        "#define model checkpoint\n",
        "mc = define_callbacks(model8)\n",
        "\n",
        "#fit the model\n",
        "history8 = model8.fit(train_dataset_7,\n",
        "                    validation_data = test_dataset_7,\n",
        "                    epochs = 100,\n",
        "                    verbose = 0,\n",
        "                    callbacks = [mc])"
      ]
    },
    {
      "cell_type": "code",
      "execution_count": 24,
      "metadata": {
        "colab": {
          "base_uri": "https://localhost:8080/"
        },
        "id": "DP6F5bbpZK0a",
        "outputId": "511a400c-8886-407c-f3fb-f2e403f06853"
      },
      "outputs": [
        {
          "name": "stdout",
          "output_type": "stream",
          "text": [
            "4/4 [==============================] - 1s 20ms/step - loss: 2493323.5000 - mae: 1551.4303\n"
          ]
        },
        {
          "data": {
            "text/plain": [
              "[2493323.5, 1551.4302978515625]"
            ]
          },
          "execution_count": 24,
          "metadata": {},
          "output_type": "execute_result"
        }
      ],
      "source": [
        "#load the best model\n",
        "best_model8 = tf.keras.models.clone_model(model8)\n",
        "\n",
        "#load the weights\n",
        "best_model8.load_weights(\"./ModelCheckpoints/model8.ckpt\")\n",
        "\n",
        "#compile the new model\n",
        "best_model8.compile(\n",
        "    optimizer = 'adam',\n",
        "    loss = LOSS,\n",
        "    metrics = 'mae'\n",
        ")\n",
        "\n",
        "best_model8.evaluate(test_dataset_7)"
      ]
    },
    {
      "cell_type": "code",
      "execution_count": 25,
      "metadata": {
        "id": "kAPHAav1ayha"
      },
      "outputs": [],
      "source": [
        "#change the loss: mape\n",
        "LOSS = 'mape'\n",
        "MODEL_NAME ='model9'\n",
        "\n",
        "#create the baseline model\n",
        "model9 = tf.keras.Sequential([\n",
        "    layers.Lambda(lambda x: tf.expand_dims(x,-1)),\n",
        "    layers.LSTM(128,return_sequences = True),\n",
        "    layers.LSTM(128,return_sequences = False),\n",
        "    layers.Dense(64,activation = 'relu'),\n",
        "    layers.Dense(1,activation = 'linear')\n",
        "],name = MODEL_NAME)\n",
        "\n",
        "#compile the model\n",
        "model9.compile(\n",
        "    optimizer = 'adam',\n",
        "    loss = LOSS,\n",
        "    metrics = 'mae'\n",
        ")\n",
        "\n",
        "#define model checkpoint\n",
        "mc = define_callbacks(model9)\n",
        "\n",
        "#fit the model\n",
        "history9 = model9.fit(train_dataset_7,\n",
        "                    validation_data = test_dataset_7,\n",
        "                    epochs = 100,\n",
        "                    verbose = 0,\n",
        "                    callbacks = [mc])"
      ]
    },
    {
      "cell_type": "code",
      "execution_count": 26,
      "metadata": {
        "colab": {
          "base_uri": "https://localhost:8080/"
        },
        "id": "rOIDpH8FcSRA",
        "outputId": "06df3e75-5843-4a1e-d933-6c57324f6e40"
      },
      "outputs": [
        {
          "name": "stdout",
          "output_type": "stream",
          "text": [
            "4/4 [==============================] - 1s 20ms/step - loss: 45.6584 - mae: 1933.0291\n"
          ]
        },
        {
          "data": {
            "text/plain": [
              "[45.65835189819336, 1933.029052734375]"
            ]
          },
          "execution_count": 26,
          "metadata": {},
          "output_type": "execute_result"
        }
      ],
      "source": [
        "#load the best model\n",
        "best_model9 = tf.keras.models.clone_model(model9)\n",
        "\n",
        "#load the weights\n",
        "best_model9.load_weights(\"./ModelCheckpoints/model9.ckpt\")\n",
        "\n",
        "#compile the new model\n",
        "best_model9.compile(\n",
        "    optimizer = 'adam',\n",
        "    loss = LOSS,\n",
        "    metrics = 'mae'\n",
        ")\n",
        "\n",
        "best_model9.evaluate(test_dataset_7)"
      ]
    },
    {
      "cell_type": "code",
      "execution_count": 27,
      "metadata": {
        "id": "kLI27zwfdhDe"
      },
      "outputs": [],
      "source": [
        "#arrange the learning rate\n",
        "LOSS = 'mse'\n",
        "MODEL_NAME ='model10'\n",
        "\n",
        "#create the baseline model\n",
        "model10 = tf.keras.Sequential([\n",
        "    layers.Lambda(lambda x: tf.expand_dims(x,-1)),\n",
        "    layers.LSTM(128,return_sequences = True),\n",
        "    layers.LSTM(128,return_sequences = False),\n",
        "    layers.Dense(64,activation = 'relu'),\n",
        "    layers.Dense(1,activation = 'linear')\n",
        "],name = MODEL_NAME)\n",
        "\n",
        "#compile the model\n",
        "model10.compile(\n",
        "    optimizer = 'adam',\n",
        "    loss = LOSS,\n",
        "    metrics = 'mae'\n",
        ")\n",
        "\n",
        "#define model checkpoint\n",
        "lr_schedule = tf.keras.callbacks.LearningRateScheduler(lambda epoch: 1e-4 * 10**(epoch / 20))\n",
        "\n",
        "#fit the model\n",
        "history10 = model10.fit(train_dataset_7,\n",
        "                    validation_data = test_dataset_7,\n",
        "                    epochs = 100,\n",
        "                    verbose = 0,\n",
        "                    callbacks = [lr_schedule])"
      ]
    },
    {
      "cell_type": "code",
      "execution_count": 28,
      "metadata": {
        "colab": {
          "base_uri": "https://localhost:8080/",
          "height": 467
        },
        "id": "aRxqtvuXeBPO",
        "outputId": "0105c3d0-35ed-4338-cb66-1919dc1279e5"
      },
      "outputs": [
        {
          "data": {
            "text/plain": [
              "[<matplotlib.lines.Line2D at 0x7be00ae84d90>]"
            ]
          },
          "execution_count": 28,
          "metadata": {},
          "output_type": "execute_result"
        },
        {
          "data": {
            "image/png": "[encoded data removed]",
            "text/plain": [
              "<Figure size 640x480 with 1 Axes>"
            ]
          },
          "metadata": {},
          "output_type": "display_data"
        }
      ],
      "source": [
        "plt.semilogx(history10.history['lr'],history10.history['loss'])"
      ]
    },
    {
      "cell_type": "code",
      "execution_count": 29,
      "metadata": {
        "id": "VvC_8fTpe-j-"
      },
      "outputs": [],
      "source": [
        "#assign the optimal learning rate\n",
        "LOSS = 'mse'\n",
        "MODEL_NAME ='model10'\n",
        "\n",
        "#create the baseline model\n",
        "model10 = tf.keras.Sequential([\n",
        "    layers.Lambda(lambda x: tf.expand_dims(x,-1)),\n",
        "    layers.LSTM(128,return_sequences = True),\n",
        "    layers.LSTM(128,return_sequences = False),\n",
        "    layers.Dense(64,activation = 'relu'),\n",
        "    layers.Dense(1,activation = 'linear')\n",
        "],name = MODEL_NAME)\n",
        "\n",
        "#compile the model\n",
        "model10.compile(\n",
        "    optimizer = tf.keras.optimizers.Adam(5e-3),\n",
        "    loss = LOSS,\n",
        "    metrics = 'mae'\n",
        ")\n",
        "\n",
        "#define model checkpoint\n",
        "mc = define_callbacks(model10)\n",
        "\n",
        "#fit the model\n",
        "history10 = model10.fit(train_dataset_7,\n",
        "                    validation_data = test_dataset_7,\n",
        "                    epochs = 100,\n",
        "                    verbose = 0,\n",
        "                    callbacks = [mc])"
      ]
    },
    {
      "cell_type": "code",
      "execution_count": 30,
      "metadata": {
        "colab": {
          "base_uri": "https://localhost:8080/"
        },
        "id": "Qsxk1hA6fgAd",
        "outputId": "613e2d05-7239-459f-f779-e1e78360fb1b"
      },
      "outputs": [
        {
          "name": "stdout",
          "output_type": "stream",
          "text": [
            "4/4 [==============================] - 1s 16ms/step - loss: 2482314.0000 - mae: 1547.8779\n"
          ]
        },
        {
          "data": {
            "text/plain": [
              "[2482314.0, 1547.8779296875]"
            ]
          },
          "execution_count": 30,
          "metadata": {},
          "output_type": "execute_result"
        }
      ],
      "source": [
        "#load the best model\n",
        "best_model10 = tf.keras.models.clone_model(model10)\n",
        "\n",
        "#load the weights\n",
        "best_model10.load_weights(\"./ModelCheckpoints/model10.ckpt\")\n",
        "\n",
        "#compile the new model\n",
        "best_model10.compile(\n",
        "    optimizer = 'adam',\n",
        "    loss = LOSS,\n",
        "    metrics = 'mae'\n",
        ")\n",
        "\n",
        "best_model10.evaluate(test_dataset_7)"
      ]
    },
    {
      "cell_type": "code",
      "execution_count": 33,
      "metadata": {
        "id": "leZ01l7TqBNF"
      },
      "outputs": [],
      "source": [
        "#increase the layers\n",
        "LOSS = 'mse'\n",
        "MODEL_NAME ='model11'\n",
        "\n",
        "#create the baseline model\n",
        "model11 = tf.keras.Sequential([\n",
        "    layers.Lambda(lambda x: tf.expand_dims(x,-1)),\n",
        "    layers.LSTM(128,return_sequences = True),\n",
        "    layers.LSTM(128,return_sequences = False),\n",
        "    layers.Dense(128,activation = 'relu'),\n",
        "    layers.Dense(64,activation = 'relu'),\n",
        "    layers.Dense(1,activation = 'linear')\n",
        "],name = MODEL_NAME)\n",
        "\n",
        "#compile the model\n",
        "model11.compile(\n",
        "    optimizer = tf.keras.optimizers.Adam(5e-3),\n",
        "    loss = LOSS,\n",
        "    metrics = 'mae'\n",
        ")\n",
        "\n",
        "#define model checkpoint\n",
        "mc = define_callbacks(model11)\n",
        "\n",
        "#fit the model\n",
        "history11 = model11.fit(train_dataset_7,\n",
        "                    validation_data = test_dataset_7,\n",
        "                    epochs = 100,\n",
        "                    verbose = 0,\n",
        "                    callbacks = [mc])"
      ]
    },
    {
      "cell_type": "code",
      "execution_count": 34,
      "metadata": {
        "colab": {
          "base_uri": "https://localhost:8080/"
        },
        "id": "Yk9btNEMq_DD",
        "outputId": "4e8b758d-d141-49e0-aa9e-df03feee2592"
      },
      "outputs": [
        {
          "name": "stdout",
          "output_type": "stream",
          "text": [
            "4/4 [==============================] - 1s 19ms/step - loss: 1013614.3125 - mae: 962.9261\n"
          ]
        },
        {
          "data": {
            "text/plain": [
              "[1013614.3125, 962.9260864257812]"
            ]
          },
          "execution_count": 34,
          "metadata": {},
          "output_type": "execute_result"
        }
      ],
      "source": [
        "#load the best model\n",
        "best_model11 = tf.keras.models.clone_model(model11)\n",
        "\n",
        "#load the weights\n",
        "best_model11.load_weights(\"./ModelCheckpoints/model11.ckpt\")\n",
        "\n",
        "#compile the new model\n",
        "best_model11.compile(\n",
        "    optimizer = 'adam',\n",
        "    loss = LOSS,\n",
        "    metrics = 'mae'\n",
        ")\n",
        "\n",
        "best_model11.evaluate(test_dataset_7)"
      ]
    },
    {
      "cell_type": "code",
      "execution_count": 35,
      "metadata": {
        "id": "Jczr_9yHrYd0"
      },
      "outputs": [],
      "source": [
        "#increase the layers\n",
        "LOSS = 'mse'\n",
        "MODEL_NAME ='model12'\n",
        "\n",
        "#create the baseline model\n",
        "model12 = tf.keras.Sequential([\n",
        "    layers.Lambda(lambda x: tf.expand_dims(x,-1)),\n",
        "    layers.LSTM(128,return_sequences = True),\n",
        "    layers.LSTM(128,return_sequences = False),\n",
        "    layers.Dense(128,activation = 'relu'),\n",
        "    layers.Dense(128,activation = 'relu'),\n",
        "    layers.Dense(64,activation = 'relu'),\n",
        "    layers.Dense(1,activation = 'linear')\n",
        "],name = MODEL_NAME)\n",
        "\n",
        "#compile the model\n",
        "model12.compile(\n",
        "    optimizer = tf.keras.optimizers.Adam(5e-3),\n",
        "    loss = LOSS,\n",
        "    metrics = 'mae'\n",
        ")\n",
        "\n",
        "#define model checkpoint\n",
        "mc = define_callbacks(model12)\n",
        "\n",
        "#fit the model\n",
        "history12 = model12.fit(train_dataset_7,\n",
        "                    validation_data = test_dataset_7,\n",
        "                    epochs = 100,\n",
        "                    verbose = 0,\n",
        "                    callbacks = [mc])"
      ]
    },
    {
      "cell_type": "code",
      "execution_count": 36,
      "metadata": {
        "colab": {
          "base_uri": "https://localhost:8080/"
        },
        "id": "PCSnbvbyrunL",
        "outputId": "345aadfc-91bb-447c-84f4-9b0487e6628d"
      },
      "outputs": [
        {
          "name": "stdout",
          "output_type": "stream",
          "text": [
            "4/4 [==============================] - 1s 17ms/step - loss: 529708.6250 - mae: 665.8235\n"
          ]
        },
        {
          "data": {
            "text/plain": [
              "[529708.625, 665.8235473632812]"
            ]
          },
          "execution_count": 36,
          "metadata": {},
          "output_type": "execute_result"
        }
      ],
      "source": [
        "#load the best model\n",
        "best_model12 = tf.keras.models.clone_model(model12)\n",
        "\n",
        "#load the weights\n",
        "best_model12.load_weights(\"./ModelCheckpoints/model12.ckpt\")\n",
        "\n",
        "#compile the new model\n",
        "best_model12.compile(\n",
        "    optimizer = 'adam',\n",
        "    loss = LOSS,\n",
        "    metrics = 'mae'\n",
        ")\n",
        "\n",
        "best_model12.evaluate(test_dataset_7)"
      ]
    },
    {
      "cell_type": "code",
      "execution_count": 37,
      "metadata": {
        "id": "tznJzpM-sGTe"
      },
      "outputs": [],
      "source": [
        "#increase the layers\n",
        "LOSS = 'mse'\n",
        "MODEL_NAME ='model13'\n",
        "\n",
        "#create the baseline model\n",
        "model13 = tf.keras.Sequential([\n",
        "    layers.Lambda(lambda x: tf.expand_dims(x,-1)),\n",
        "    layers.LSTM(128,return_sequences = True),\n",
        "    layers.LSTM(128,return_sequences = False),\n",
        "    layers.Dense(128,activation = 'relu'),\n",
        "    layers.Dense(128,activation = 'relu'),\n",
        "    layers.Dense(128,activation = 'relu'),\n",
        "    layers.Dense(64,activation = 'relu'),\n",
        "    layers.Dense(1,activation = 'linear')\n",
        "],name = MODEL_NAME)\n",
        "\n",
        "#compile the model\n",
        "model13.compile(\n",
        "    optimizer = tf.keras.optimizers.Adam(5e-3),\n",
        "    loss = LOSS,\n",
        "    metrics = 'mae'\n",
        ")\n",
        "\n",
        "#define model checkpoint\n",
        "mc = define_callbacks(model13)\n",
        "\n",
        "#fit the model\n",
        "history13 = model13.fit(train_dataset_7,\n",
        "                    validation_data = test_dataset_7,\n",
        "                    epochs = 100,\n",
        "                    verbose = 0,\n",
        "                    callbacks = [mc])"
      ]
    },
    {
      "cell_type": "code",
      "execution_count": 38,
      "metadata": {
        "colab": {
          "base_uri": "https://localhost:8080/"
        },
        "id": "Uhy9OYWvsXCa",
        "outputId": "c40a779b-7e41-4087-8c56-8a01bcab1652"
      },
      "outputs": [
        {
          "name": "stdout",
          "output_type": "stream",
          "text": [
            "4/4 [==============================] - 1s 18ms/step - loss: 2006041.3750 - mae: 1385.5156\n"
          ]
        },
        {
          "data": {
            "text/plain": [
              "[2006041.375, 1385.515625]"
            ]
          },
          "execution_count": 38,
          "metadata": {},
          "output_type": "execute_result"
        }
      ],
      "source": [
        "#load the best model\n",
        "best_model13 = tf.keras.models.clone_model(model13)\n",
        "\n",
        "#load the weights\n",
        "best_model13.load_weights(\"./ModelCheckpoints/model13.ckpt\")\n",
        "\n",
        "#compile the new model\n",
        "best_model13.compile(\n",
        "    optimizer = 'adam',\n",
        "    loss = LOSS,\n",
        "    metrics = 'mae'\n",
        ")\n",
        "\n",
        "best_model13.evaluate(test_dataset_7)"
      ]
    },
    {
      "cell_type": "code",
      "execution_count": 39,
      "metadata": {
        "id": "vF9_QK1WswoT"
      },
      "outputs": [],
      "source": [
        "best_model12.save('best_model12.h5')"
      ]
    }
  ],
  "metadata": {
    "colab": {
      "provenance": []
    },
    "kernelspec": {
      "display_name": "Python 3",
      "name": "python3"
    },
    "language_info": {
      "name": "python"
    }
  },
  "nbformat": 4,
  "nbformat_minor": 0
}
