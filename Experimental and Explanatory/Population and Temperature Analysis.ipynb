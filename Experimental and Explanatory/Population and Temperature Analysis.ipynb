{
 "cells": [
  {
   "cell_type": "code",
   "execution_count": 1,
   "id": "2be9ba03",
   "metadata": {
    "_cell_guid": "b1076dfc-b9ad-4769-8c92-a6c4dae69d19",
    "_uuid": "8f2839f25d086af736a60e9eeb907d3b93b6e0e5",
    "execution": {
     "iopub.execute_input": "2022-01-13T04:43:12.301732Z",
     "iopub.status.busy": "2022-01-13T04:43:12.300652Z",
     "iopub.status.idle": "2022-01-13T04:43:13.787836Z",
     "shell.execute_reply": "2022-01-13T04:43:13.787160Z",
     "shell.execute_reply.started": "2022-01-13T04:28:02.952822Z"
    },
    "papermill": {
     "duration": 1.512696,
     "end_time": "2022-01-13T04:43:13.788045",
     "exception": false,
     "start_time": "2022-01-13T04:43:12.275349",
     "status": "completed"
    },
    "tags": []
   },
   "outputs": [],
   "source": [
    "import numpy as np \n",
    "import pandas as pd \n",
    "import matplotlib.pyplot as plt\n",
    "from statsmodels.tsa.api import VAR\n",
    "from statsmodels.tsa.stattools import grangercausalitytests, adfuller\n",
    "from sklearn.metrics import mean_squared_error\n",
    "\n",
    "import warnings\n",
    "warnings.filterwarnings(\"ignore\")"
   ]
  },
  {
   "cell_type": "markdown",
   "id": "8337274b",
   "metadata": {
    "papermill": {
     "duration": 0.019693,
     "end_time": "2022-01-13T04:43:13.830064",
     "exception": false,
     "start_time": "2022-01-13T04:43:13.810371",
     "status": "completed"
    },
    "tags": []
   },
   "source": [
    "# Content of This Notebook\n",
    "\n",
    "1. [Introduction](#1)\n",
    "1. [Granger Causality Test](#2)\n",
    "1. [Augmented Dickey–Fuller Test](#3)\n",
    "1. [Z Score Normalization](#4)\n",
    "1. [VAR Model and Predictions](#5)\n",
    "1. [Sources that I Utilized During Preparation](#6)"
   ]
  },
  {
   "cell_type": "markdown",
   "id": "e10c8d7f",
   "metadata": {
    "papermill": {
     "duration": 0.01974,
     "end_time": "2022-01-13T04:43:13.869565",
     "exception": false,
     "start_time": "2022-01-13T04:43:13.849825",
     "status": "completed"
    },
    "tags": []
   },
   "source": [
    "<a id='1'></a>\n",
    "# Introduction\n",
    "\n",
    "**Warning:** The arguments in this part, have been written according to my knowledge. It may contain wrong, biased, and/or missing arguments.\n",
    "\n",
    "Global warming is a serious problem. The modern technology that we built is doing an amazing job to meet the needs of that many people. However, to do that, it needs an energy source and petroleum is by far the most efficient one. On the other hand, CO2 emission resulting from petroleum usage is threatening. Because increased CO2 in the atmosphere, absorbs the sunbeams then reflects all the angles and that results in an increase in the temperature of the atmosphere. These facts are not new. But until these days we did not see the serious outcomes of this process. Today, we started to see considerable changes yet we are still using the petroleum because, \n",
    "\n",
    "1. Per energy it provides, it is the cheapest.\n",
    "2. It can be transported in big amounts (unlike electricity, we don't have batteries that are capable to store an equivalent amount of energy.)\n",
    "3. Petroleum market is one of the most profitable ones and to keep their values in the stock market high, they have to continue to invest in that area.\n",
    "4. Changing all the technology to utilize the alternative resources is neither easy nor cheap.\n",
    "5. Countries are likely to blame themselves rather than collaborate.\n",
    "\n",
    "There are more things to consider but I think this is enough because the following arguments will be biased a bit so I think it is good to end there.\n",
    "\n",
    "In this notebook, I will try to use Vector AutoRegression (VAR) on 2 different time series and try to construct a model for temperature increase. Hope you'll enjoy."
   ]
  },
  {
   "cell_type": "code",
   "execution_count": 2,
   "id": "c5283b4d",
   "metadata": {
    "execution": {
     "iopub.execute_input": "2022-01-13T04:43:13.915483Z",
     "iopub.status.busy": "2022-01-13T04:43:13.914841Z",
     "iopub.status.idle": "2022-01-13T04:43:14.098411Z",
     "shell.execute_reply": "2022-01-13T04:43:14.097857Z",
     "shell.execute_reply.started": "2022-01-13T04:19:48.356908Z"
    },
    "papermill": {
     "duration": 0.209653,
     "end_time": "2022-01-13T04:43:14.098563",
     "exception": false,
     "start_time": "2022-01-13T04:43:13.888910",
     "status": "completed"
    },
    "tags": []
   },
   "outputs": [],
   "source": [
    "temperature_data = pd.read_csv(\"../input/temperature-change/Environment_Temperature_change_E_All_Data_NOFLAG.csv\",parse_dates = True, encoding=\"ISO-8859-1\")"
   ]
  },
  {
   "cell_type": "code",
   "execution_count": 3,
   "id": "0e2c804e",
   "metadata": {
    "execution": {
     "iopub.execute_input": "2022-01-13T04:43:14.147239Z",
     "iopub.status.busy": "2022-01-13T04:43:14.146553Z",
     "iopub.status.idle": "2022-01-13T04:43:14.157252Z",
     "shell.execute_reply": "2022-01-13T04:43:14.157741Z",
     "shell.execute_reply.started": "2022-01-13T04:19:48.478431Z"
    },
    "papermill": {
     "duration": 0.03987,
     "end_time": "2022-01-13T04:43:14.157912",
     "exception": false,
     "start_time": "2022-01-13T04:43:14.118042",
     "status": "completed"
    },
    "tags": []
   },
   "outputs": [],
   "source": [
    "temperature_data.drop([\"Area Code\",\"Months\",\"Element Code\", \"Element\",\"Unit\",\"Months Code\"], axis = 1, inplace = True)"
   ]
  },
  {
   "cell_type": "code",
   "execution_count": 4,
   "id": "ccf5c581",
   "metadata": {
    "execution": {
     "iopub.execute_input": "2022-01-13T04:43:14.200839Z",
     "iopub.status.busy": "2022-01-13T04:43:14.200211Z",
     "iopub.status.idle": "2022-01-13T04:43:14.233087Z",
     "shell.execute_reply": "2022-01-13T04:43:14.233604Z",
     "shell.execute_reply.started": "2022-01-13T04:19:48.488058Z"
    },
    "papermill": {
     "duration": 0.05592,
     "end_time": "2022-01-13T04:43:14.233788",
     "exception": false,
     "start_time": "2022-01-13T04:43:14.177868",
     "status": "completed"
    },
    "tags": []
   },
   "outputs": [
    {
     "data": {
      "text/html": [
       "<div>\n",
       "<style scoped>\n",
       "    .dataframe tbody tr th:only-of-type {\n",
       "        vertical-align: middle;\n",
       "    }\n",
       "\n",
       "    .dataframe tbody tr th {\n",
       "        vertical-align: top;\n",
       "    }\n",
       "\n",
       "    .dataframe thead th {\n",
       "        text-align: right;\n",
       "    }\n",
       "</style>\n",
       "<table border=\"1\" class=\"dataframe\">\n",
       "  <thead>\n",
       "    <tr style=\"text-align: right;\">\n",
       "      <th></th>\n",
       "      <th>Area</th>\n",
       "      <th>Y1961</th>\n",
       "      <th>Y1962</th>\n",
       "      <th>Y1963</th>\n",
       "      <th>Y1964</th>\n",
       "      <th>Y1965</th>\n",
       "      <th>Y1966</th>\n",
       "      <th>Y1967</th>\n",
       "      <th>Y1968</th>\n",
       "      <th>Y1969</th>\n",
       "      <th>...</th>\n",
       "      <th>Y2010</th>\n",
       "      <th>Y2011</th>\n",
       "      <th>Y2012</th>\n",
       "      <th>Y2013</th>\n",
       "      <th>Y2014</th>\n",
       "      <th>Y2015</th>\n",
       "      <th>Y2016</th>\n",
       "      <th>Y2017</th>\n",
       "      <th>Y2018</th>\n",
       "      <th>Y2019</th>\n",
       "    </tr>\n",
       "  </thead>\n",
       "  <tbody>\n",
       "    <tr>\n",
       "      <th>0</th>\n",
       "      <td>Afghanistan</td>\n",
       "      <td>0.777</td>\n",
       "      <td>0.062</td>\n",
       "      <td>2.744</td>\n",
       "      <td>-5.232</td>\n",
       "      <td>1.868</td>\n",
       "      <td>3.629</td>\n",
       "      <td>-1.432</td>\n",
       "      <td>0.389</td>\n",
       "      <td>-2.298</td>\n",
       "      <td>...</td>\n",
       "      <td>3.601</td>\n",
       "      <td>1.179</td>\n",
       "      <td>-0.583</td>\n",
       "      <td>1.233</td>\n",
       "      <td>1.755</td>\n",
       "      <td>1.943</td>\n",
       "      <td>3.416</td>\n",
       "      <td>1.201</td>\n",
       "      <td>1.996</td>\n",
       "      <td>2.951</td>\n",
       "    </tr>\n",
       "    <tr>\n",
       "      <th>1</th>\n",
       "      <td>Afghanistan</td>\n",
       "      <td>1.950</td>\n",
       "      <td>1.950</td>\n",
       "      <td>1.950</td>\n",
       "      <td>1.950</td>\n",
       "      <td>1.950</td>\n",
       "      <td>1.950</td>\n",
       "      <td>1.950</td>\n",
       "      <td>1.950</td>\n",
       "      <td>1.950</td>\n",
       "      <td>...</td>\n",
       "      <td>1.950</td>\n",
       "      <td>1.950</td>\n",
       "      <td>1.950</td>\n",
       "      <td>1.950</td>\n",
       "      <td>1.950</td>\n",
       "      <td>1.950</td>\n",
       "      <td>1.950</td>\n",
       "      <td>1.950</td>\n",
       "      <td>1.950</td>\n",
       "      <td>1.950</td>\n",
       "    </tr>\n",
       "    <tr>\n",
       "      <th>2</th>\n",
       "      <td>Afghanistan</td>\n",
       "      <td>-1.743</td>\n",
       "      <td>2.465</td>\n",
       "      <td>3.919</td>\n",
       "      <td>-0.202</td>\n",
       "      <td>-0.096</td>\n",
       "      <td>3.397</td>\n",
       "      <td>0.296</td>\n",
       "      <td>-2.055</td>\n",
       "      <td>-3.167</td>\n",
       "      <td>...</td>\n",
       "      <td>1.212</td>\n",
       "      <td>0.321</td>\n",
       "      <td>-3.201</td>\n",
       "      <td>1.494</td>\n",
       "      <td>-3.187</td>\n",
       "      <td>2.699</td>\n",
       "      <td>2.251</td>\n",
       "      <td>-0.323</td>\n",
       "      <td>2.705</td>\n",
       "      <td>0.086</td>\n",
       "    </tr>\n",
       "    <tr>\n",
       "      <th>3</th>\n",
       "      <td>Afghanistan</td>\n",
       "      <td>2.597</td>\n",
       "      <td>2.597</td>\n",
       "      <td>2.597</td>\n",
       "      <td>2.597</td>\n",
       "      <td>2.597</td>\n",
       "      <td>2.597</td>\n",
       "      <td>2.597</td>\n",
       "      <td>2.597</td>\n",
       "      <td>2.597</td>\n",
       "      <td>...</td>\n",
       "      <td>2.597</td>\n",
       "      <td>2.597</td>\n",
       "      <td>2.597</td>\n",
       "      <td>2.597</td>\n",
       "      <td>2.597</td>\n",
       "      <td>2.597</td>\n",
       "      <td>2.597</td>\n",
       "      <td>2.597</td>\n",
       "      <td>2.597</td>\n",
       "      <td>2.597</td>\n",
       "    </tr>\n",
       "    <tr>\n",
       "      <th>4</th>\n",
       "      <td>Afghanistan</td>\n",
       "      <td>0.516</td>\n",
       "      <td>1.336</td>\n",
       "      <td>0.403</td>\n",
       "      <td>1.659</td>\n",
       "      <td>-0.909</td>\n",
       "      <td>-0.069</td>\n",
       "      <td>-0.759</td>\n",
       "      <td>0.496</td>\n",
       "      <td>2.481</td>\n",
       "      <td>...</td>\n",
       "      <td>3.390</td>\n",
       "      <td>0.748</td>\n",
       "      <td>-0.527</td>\n",
       "      <td>2.246</td>\n",
       "      <td>-0.076</td>\n",
       "      <td>-0.497</td>\n",
       "      <td>2.296</td>\n",
       "      <td>0.834</td>\n",
       "      <td>4.418</td>\n",
       "      <td>0.234</td>\n",
       "    </tr>\n",
       "  </tbody>\n",
       "</table>\n",
       "<p>5 rows × 60 columns</p>\n",
       "</div>"
      ],
      "text/plain": [
       "          Area  Y1961  Y1962  Y1963  Y1964  Y1965  Y1966  Y1967  Y1968  Y1969  \\\n",
       "0  Afghanistan  0.777  0.062  2.744 -5.232  1.868  3.629 -1.432  0.389 -2.298   \n",
       "1  Afghanistan  1.950  1.950  1.950  1.950  1.950  1.950  1.950  1.950  1.950   \n",
       "2  Afghanistan -1.743  2.465  3.919 -0.202 -0.096  3.397  0.296 -2.055 -3.167   \n",
       "3  Afghanistan  2.597  2.597  2.597  2.597  2.597  2.597  2.597  2.597  2.597   \n",
       "4  Afghanistan  0.516  1.336  0.403  1.659 -0.909 -0.069 -0.759  0.496  2.481   \n",
       "\n",
       "   ...  Y2010  Y2011  Y2012  Y2013  Y2014  Y2015  Y2016  Y2017  Y2018  Y2019  \n",
       "0  ...  3.601  1.179 -0.583  1.233  1.755  1.943  3.416  1.201  1.996  2.951  \n",
       "1  ...  1.950  1.950  1.950  1.950  1.950  1.950  1.950  1.950  1.950  1.950  \n",
       "2  ...  1.212  0.321 -3.201  1.494 -3.187  2.699  2.251 -0.323  2.705  0.086  \n",
       "3  ...  2.597  2.597  2.597  2.597  2.597  2.597  2.597  2.597  2.597  2.597  \n",
       "4  ...  3.390  0.748 -0.527  2.246 -0.076 -0.497  2.296  0.834  4.418  0.234  \n",
       "\n",
       "[5 rows x 60 columns]"
      ]
     },
     "execution_count": 4,
     "metadata": {},
     "output_type": "execute_result"
    }
   ],
   "source": [
    "temperature_data.head()"
   ]
  },
  {
   "cell_type": "code",
   "execution_count": 5,
   "id": "aaa3fc9e",
   "metadata": {
    "execution": {
     "iopub.execute_input": "2022-01-13T04:43:14.280134Z",
     "iopub.status.busy": "2022-01-13T04:43:14.279443Z",
     "iopub.status.idle": "2022-01-13T04:43:14.317599Z",
     "shell.execute_reply": "2022-01-13T04:43:14.317102Z",
     "shell.execute_reply.started": "2022-01-13T04:19:48.520275Z"
    },
    "papermill": {
     "duration": 0.062491,
     "end_time": "2022-01-13T04:43:14.317742",
     "exception": false,
     "start_time": "2022-01-13T04:43:14.255251",
     "status": "completed"
    },
    "tags": []
   },
   "outputs": [
    {
     "data": {
      "text/html": [
       "<div>\n",
       "<style scoped>\n",
       "    .dataframe tbody tr th:only-of-type {\n",
       "        vertical-align: middle;\n",
       "    }\n",
       "\n",
       "    .dataframe tbody tr th {\n",
       "        vertical-align: top;\n",
       "    }\n",
       "\n",
       "    .dataframe thead th {\n",
       "        text-align: right;\n",
       "    }\n",
       "</style>\n",
       "<table border=\"1\" class=\"dataframe\">\n",
       "  <thead>\n",
       "    <tr style=\"text-align: right;\">\n",
       "      <th></th>\n",
       "      <th>0</th>\n",
       "      <th>1</th>\n",
       "      <th>2</th>\n",
       "      <th>3</th>\n",
       "      <th>4</th>\n",
       "      <th>5</th>\n",
       "      <th>6</th>\n",
       "      <th>7</th>\n",
       "      <th>8</th>\n",
       "      <th>9</th>\n",
       "      <th>...</th>\n",
       "      <th>25</th>\n",
       "      <th>26</th>\n",
       "      <th>27</th>\n",
       "      <th>28</th>\n",
       "      <th>29</th>\n",
       "      <th>30</th>\n",
       "      <th>31</th>\n",
       "      <th>32</th>\n",
       "      <th>33</th>\n",
       "      <th>Mean_Temperature_Increase</th>\n",
       "    </tr>\n",
       "    <tr>\n",
       "      <th>Years</th>\n",
       "      <th></th>\n",
       "      <th></th>\n",
       "      <th></th>\n",
       "      <th></th>\n",
       "      <th></th>\n",
       "      <th></th>\n",
       "      <th></th>\n",
       "      <th></th>\n",
       "      <th></th>\n",
       "      <th></th>\n",
       "      <th></th>\n",
       "      <th></th>\n",
       "      <th></th>\n",
       "      <th></th>\n",
       "      <th></th>\n",
       "      <th></th>\n",
       "      <th></th>\n",
       "      <th></th>\n",
       "      <th></th>\n",
       "      <th></th>\n",
       "      <th></th>\n",
       "    </tr>\n",
       "  </thead>\n",
       "  <tbody>\n",
       "    <tr>\n",
       "      <th>1961</th>\n",
       "      <td>0.399</td>\n",
       "      <td>0.417</td>\n",
       "      <td>0.263</td>\n",
       "      <td>0.58</td>\n",
       "      <td>0.254</td>\n",
       "      <td>0.403</td>\n",
       "      <td>0.278</td>\n",
       "      <td>0.277</td>\n",
       "      <td>0.367</td>\n",
       "      <td>0.212</td>\n",
       "      <td>...</td>\n",
       "      <td>0.35</td>\n",
       "      <td>0.300</td>\n",
       "      <td>0.243</td>\n",
       "      <td>0.106</td>\n",
       "      <td>0.187</td>\n",
       "      <td>-0.016</td>\n",
       "      <td>0.22</td>\n",
       "      <td>0.207</td>\n",
       "      <td>0.201</td>\n",
       "      <td>0.220324</td>\n",
       "    </tr>\n",
       "    <tr>\n",
       "      <th>1962</th>\n",
       "      <td>0.104</td>\n",
       "      <td>0.417</td>\n",
       "      <td>0.218</td>\n",
       "      <td>0.58</td>\n",
       "      <td>0.279</td>\n",
       "      <td>0.403</td>\n",
       "      <td>0.027</td>\n",
       "      <td>0.277</td>\n",
       "      <td>-0.183</td>\n",
       "      <td>0.212</td>\n",
       "      <td>...</td>\n",
       "      <td>0.35</td>\n",
       "      <td>0.041</td>\n",
       "      <td>0.243</td>\n",
       "      <td>-0.084</td>\n",
       "      <td>0.187</td>\n",
       "      <td>0.143</td>\n",
       "      <td>0.22</td>\n",
       "      <td>0.034</td>\n",
       "      <td>0.201</td>\n",
       "      <td>0.168971</td>\n",
       "    </tr>\n",
       "    <tr>\n",
       "      <th>1963</th>\n",
       "      <td>-0.171</td>\n",
       "      <td>0.417</td>\n",
       "      <td>0.563</td>\n",
       "      <td>0.58</td>\n",
       "      <td>-0.237</td>\n",
       "      <td>0.403</td>\n",
       "      <td>0.002</td>\n",
       "      <td>0.277</td>\n",
       "      <td>-0.029</td>\n",
       "      <td>0.212</td>\n",
       "      <td>...</td>\n",
       "      <td>0.35</td>\n",
       "      <td>-0.088</td>\n",
       "      <td>0.243</td>\n",
       "      <td>0.082</td>\n",
       "      <td>0.187</td>\n",
       "      <td>0.473</td>\n",
       "      <td>0.22</td>\n",
       "      <td>0.159</td>\n",
       "      <td>0.201</td>\n",
       "      <td>0.211853</td>\n",
       "    </tr>\n",
       "    <tr>\n",
       "      <th>1964</th>\n",
       "      <td>-0.311</td>\n",
       "      <td>0.417</td>\n",
       "      <td>-0.409</td>\n",
       "      <td>0.58</td>\n",
       "      <td>-0.287</td>\n",
       "      <td>0.403</td>\n",
       "      <td>-0.167</td>\n",
       "      <td>0.277</td>\n",
       "      <td>-0.097</td>\n",
       "      <td>0.212</td>\n",
       "      <td>...</td>\n",
       "      <td>0.35</td>\n",
       "      <td>-0.184</td>\n",
       "      <td>0.243</td>\n",
       "      <td>-0.228</td>\n",
       "      <td>0.187</td>\n",
       "      <td>-0.284</td>\n",
       "      <td>0.22</td>\n",
       "      <td>-0.253</td>\n",
       "      <td>0.201</td>\n",
       "      <td>0.003676</td>\n",
       "    </tr>\n",
       "    <tr>\n",
       "      <th>1965</th>\n",
       "      <td>0.206</td>\n",
       "      <td>0.417</td>\n",
       "      <td>-0.450</td>\n",
       "      <td>0.58</td>\n",
       "      <td>-0.272</td>\n",
       "      <td>0.403</td>\n",
       "      <td>-0.574</td>\n",
       "      <td>0.277</td>\n",
       "      <td>-0.141</td>\n",
       "      <td>0.212</td>\n",
       "      <td>...</td>\n",
       "      <td>0.35</td>\n",
       "      <td>-0.329</td>\n",
       "      <td>0.243</td>\n",
       "      <td>-0.191</td>\n",
       "      <td>0.187</td>\n",
       "      <td>-0.086</td>\n",
       "      <td>0.22</td>\n",
       "      <td>-0.226</td>\n",
       "      <td>0.201</td>\n",
       "      <td>0.056882</td>\n",
       "    </tr>\n",
       "  </tbody>\n",
       "</table>\n",
       "<p>5 rows × 35 columns</p>\n",
       "</div>"
      ],
      "text/plain": [
       "           0      1      2     3      4      5      6      7      8      9  \\\n",
       "Years                                                                        \n",
       "1961   0.399  0.417  0.263  0.58  0.254  0.403  0.278  0.277  0.367  0.212   \n",
       "1962   0.104  0.417  0.218  0.58  0.279  0.403  0.027  0.277 -0.183  0.212   \n",
       "1963  -0.171  0.417  0.563  0.58 -0.237  0.403  0.002  0.277 -0.029  0.212   \n",
       "1964  -0.311  0.417 -0.409  0.58 -0.287  0.403 -0.167  0.277 -0.097  0.212   \n",
       "1965   0.206  0.417 -0.450  0.58 -0.272  0.403 -0.574  0.277 -0.141  0.212   \n",
       "\n",
       "       ...    25     26     27     28     29     30    31     32     33  \\\n",
       "Years  ...                                                                \n",
       "1961   ...  0.35  0.300  0.243  0.106  0.187 -0.016  0.22  0.207  0.201   \n",
       "1962   ...  0.35  0.041  0.243 -0.084  0.187  0.143  0.22  0.034  0.201   \n",
       "1963   ...  0.35 -0.088  0.243  0.082  0.187  0.473  0.22  0.159  0.201   \n",
       "1964   ...  0.35 -0.184  0.243 -0.228  0.187 -0.284  0.22 -0.253  0.201   \n",
       "1965   ...  0.35 -0.329  0.243 -0.191  0.187 -0.086  0.22 -0.226  0.201   \n",
       "\n",
       "       Mean_Temperature_Increase  \n",
       "Years                             \n",
       "1961                    0.220324  \n",
       "1962                    0.168971  \n",
       "1963                    0.211853  \n",
       "1964                    0.003676  \n",
       "1965                    0.056882  \n",
       "\n",
       "[5 rows x 35 columns]"
      ]
     },
     "execution_count": 5,
     "metadata": {},
     "output_type": "execute_result"
    }
   ],
   "source": [
    "temperature_data = temperature_data[temperature_data.Area==\"World\"].drop(\"Area\",axis = 1).T\n",
    "cols = list(range(34))\n",
    "temperature_data.columns = cols\n",
    "temperature_data = temperature_data.reset_index()\n",
    "temperature_data = temperature_data.rename(columns = {\"index\" : \"Years\"})\n",
    "temperature_data[\"Years\"] = temperature_data[\"Years\"].apply(lambda x: x.lstrip(\"Y\"))\n",
    "temperature_data.set_index(\"Years\", inplace = True)\n",
    "temperature_data[\"Mean_Temperature_Increase\"] = temperature_data.mean(axis = 1)\n",
    "temperature_data.head()\n"
   ]
  },
  {
   "cell_type": "code",
   "execution_count": 6,
   "id": "746d595f",
   "metadata": {
    "execution": {
     "iopub.execute_input": "2022-01-13T04:43:14.361924Z",
     "iopub.status.busy": "2022-01-13T04:43:14.361321Z",
     "iopub.status.idle": "2022-01-13T04:43:14.383619Z",
     "shell.execute_reply": "2022-01-13T04:43:14.384186Z",
     "shell.execute_reply.started": "2022-01-13T04:19:48.558926Z"
    },
    "papermill": {
     "duration": 0.045927,
     "end_time": "2022-01-13T04:43:14.384360",
     "exception": false,
     "start_time": "2022-01-13T04:43:14.338433",
     "status": "completed"
    },
    "tags": []
   },
   "outputs": [
    {
     "data": {
      "text/html": [
       "<div>\n",
       "<style scoped>\n",
       "    .dataframe tbody tr th:only-of-type {\n",
       "        vertical-align: middle;\n",
       "    }\n",
       "\n",
       "    .dataframe tbody tr th {\n",
       "        vertical-align: top;\n",
       "    }\n",
       "\n",
       "    .dataframe thead th {\n",
       "        text-align: right;\n",
       "    }\n",
       "</style>\n",
       "<table border=\"1\" class=\"dataframe\">\n",
       "  <thead>\n",
       "    <tr style=\"text-align: right;\">\n",
       "      <th></th>\n",
       "      <th>Year</th>\n",
       "      <th>Population</th>\n",
       "      <th>ChangePerc</th>\n",
       "      <th>NetChange</th>\n",
       "      <th>Density</th>\n",
       "      <th>Urban</th>\n",
       "      <th>UrbanPerc</th>\n",
       "    </tr>\n",
       "  </thead>\n",
       "  <tbody>\n",
       "    <tr>\n",
       "      <th>0</th>\n",
       "      <td>2020</td>\n",
       "      <td>7794798739</td>\n",
       "      <td>1.05</td>\n",
       "      <td>81330639</td>\n",
       "      <td>52</td>\n",
       "      <td>4378993944</td>\n",
       "      <td>56</td>\n",
       "    </tr>\n",
       "    <tr>\n",
       "      <th>1</th>\n",
       "      <td>2019</td>\n",
       "      <td>7713468100</td>\n",
       "      <td>1.08</td>\n",
       "      <td>82377060</td>\n",
       "      <td>52</td>\n",
       "      <td>4299438618</td>\n",
       "      <td>56</td>\n",
       "    </tr>\n",
       "    <tr>\n",
       "      <th>2</th>\n",
       "      <td>2018</td>\n",
       "      <td>7631091040</td>\n",
       "      <td>1.10</td>\n",
       "      <td>83232115</td>\n",
       "      <td>51</td>\n",
       "      <td>4219817318</td>\n",
       "      <td>55</td>\n",
       "    </tr>\n",
       "    <tr>\n",
       "      <th>3</th>\n",
       "      <td>2017</td>\n",
       "      <td>7547858925</td>\n",
       "      <td>1.12</td>\n",
       "      <td>83836876</td>\n",
       "      <td>51</td>\n",
       "      <td>4140188594</td>\n",
       "      <td>55</td>\n",
       "    </tr>\n",
       "    <tr>\n",
       "      <th>4</th>\n",
       "      <td>2016</td>\n",
       "      <td>7464022049</td>\n",
       "      <td>1.14</td>\n",
       "      <td>84224910</td>\n",
       "      <td>50</td>\n",
       "      <td>4060652683</td>\n",
       "      <td>54</td>\n",
       "    </tr>\n",
       "  </tbody>\n",
       "</table>\n",
       "</div>"
      ],
      "text/plain": [
       "   Year  Population  ChangePerc  NetChange  Density       Urban  UrbanPerc\n",
       "0  2020  7794798739        1.05   81330639       52  4378993944         56\n",
       "1  2019  7713468100        1.08   82377060       52  4299438618         56\n",
       "2  2018  7631091040        1.10   83232115       51  4219817318         55\n",
       "3  2017  7547858925        1.12   83836876       51  4140188594         55\n",
       "4  2016  7464022049        1.14   84224910       50  4060652683         54"
      ]
     },
     "execution_count": 6,
     "metadata": {},
     "output_type": "execute_result"
    }
   ],
   "source": [
    "population_data = pd.read_csv(\"../input/world-population-by-year/WorldPopulation.csv\")\n",
    "population_data.head()"
   ]
  },
  {
   "cell_type": "code",
   "execution_count": 7,
   "id": "d4f3ebfd",
   "metadata": {
    "execution": {
     "iopub.execute_input": "2022-01-13T04:43:14.429118Z",
     "iopub.status.busy": "2022-01-13T04:43:14.428461Z",
     "iopub.status.idle": "2022-01-13T04:43:14.439655Z",
     "shell.execute_reply": "2022-01-13T04:43:14.440237Z",
     "shell.execute_reply.started": "2022-01-13T04:19:48.577195Z"
    },
    "papermill": {
     "duration": 0.03498,
     "end_time": "2022-01-13T04:43:14.440410",
     "exception": false,
     "start_time": "2022-01-13T04:43:14.405430",
     "status": "completed"
    },
    "tags": []
   },
   "outputs": [
    {
     "data": {
      "text/html": [
       "<div>\n",
       "<style scoped>\n",
       "    .dataframe tbody tr th:only-of-type {\n",
       "        vertical-align: middle;\n",
       "    }\n",
       "\n",
       "    .dataframe tbody tr th {\n",
       "        vertical-align: top;\n",
       "    }\n",
       "\n",
       "    .dataframe thead th {\n",
       "        text-align: right;\n",
       "    }\n",
       "</style>\n",
       "<table border=\"1\" class=\"dataframe\">\n",
       "  <thead>\n",
       "    <tr style=\"text-align: right;\">\n",
       "      <th></th>\n",
       "      <th>Population</th>\n",
       "    </tr>\n",
       "    <tr>\n",
       "      <th>Year</th>\n",
       "      <th></th>\n",
       "    </tr>\n",
       "  </thead>\n",
       "  <tbody>\n",
       "    <tr>\n",
       "      <th>1961</th>\n",
       "      <td>3091843507</td>\n",
       "    </tr>\n",
       "    <tr>\n",
       "      <th>1962</th>\n",
       "      <td>3150420795</td>\n",
       "    </tr>\n",
       "    <tr>\n",
       "      <th>1963</th>\n",
       "      <td>3211001009</td>\n",
       "    </tr>\n",
       "    <tr>\n",
       "      <th>1964</th>\n",
       "      <td>3273978338</td>\n",
       "    </tr>\n",
       "    <tr>\n",
       "      <th>1965</th>\n",
       "      <td>3339583597</td>\n",
       "    </tr>\n",
       "  </tbody>\n",
       "</table>\n",
       "</div>"
      ],
      "text/plain": [
       "      Population\n",
       "Year            \n",
       "1961  3091843507\n",
       "1962  3150420795\n",
       "1963  3211001009\n",
       "1964  3273978338\n",
       "1965  3339583597"
      ]
     },
     "execution_count": 7,
     "metadata": {},
     "output_type": "execute_result"
    }
   ],
   "source": [
    "population_data = population_data[[\"Year\", \"Population\"]]\n",
    "population_data = population_data[(1961 <= population_data.Year) & (population_data.Year <=2019)]\n",
    "population_data.set_index(\"Year\", inplace = True)\n",
    "population_data = population_data.reindex(index=population_data.index[::-1])\n",
    "population_data.head()"
   ]
  },
  {
   "cell_type": "code",
   "execution_count": 8,
   "id": "b7a4c6d7",
   "metadata": {
    "execution": {
     "iopub.execute_input": "2022-01-13T04:43:14.487695Z",
     "iopub.status.busy": "2022-01-13T04:43:14.487059Z",
     "iopub.status.idle": "2022-01-13T04:43:14.492222Z",
     "shell.execute_reply": "2022-01-13T04:43:14.492872Z",
     "shell.execute_reply.started": "2022-01-13T04:19:48.592072Z"
    },
    "papermill": {
     "duration": 0.031555,
     "end_time": "2022-01-13T04:43:14.493136",
     "exception": false,
     "start_time": "2022-01-13T04:43:14.461581",
     "status": "completed"
    },
    "tags": []
   },
   "outputs": [],
   "source": [
    "temperature_data[\"Population\"] = list(population_data.Population)"
   ]
  },
  {
   "cell_type": "code",
   "execution_count": 9,
   "id": "b17704ec",
   "metadata": {
    "execution": {
     "iopub.execute_input": "2022-01-13T04:43:14.549806Z",
     "iopub.status.busy": "2022-01-13T04:43:14.541833Z",
     "iopub.status.idle": "2022-01-13T04:43:14.552425Z",
     "shell.execute_reply": "2022-01-13T04:43:14.552887Z",
     "shell.execute_reply.started": "2022-01-13T04:19:48.603505Z"
    },
    "papermill": {
     "duration": 0.036911,
     "end_time": "2022-01-13T04:43:14.553083",
     "exception": false,
     "start_time": "2022-01-13T04:43:14.516172",
     "status": "completed"
    },
    "tags": []
   },
   "outputs": [
    {
     "data": {
      "text/html": [
       "<div>\n",
       "<style scoped>\n",
       "    .dataframe tbody tr th:only-of-type {\n",
       "        vertical-align: middle;\n",
       "    }\n",
       "\n",
       "    .dataframe tbody tr th {\n",
       "        vertical-align: top;\n",
       "    }\n",
       "\n",
       "    .dataframe thead th {\n",
       "        text-align: right;\n",
       "    }\n",
       "</style>\n",
       "<table border=\"1\" class=\"dataframe\">\n",
       "  <thead>\n",
       "    <tr style=\"text-align: right;\">\n",
       "      <th></th>\n",
       "      <th>Mean_Temperature_Increase</th>\n",
       "      <th>Population</th>\n",
       "    </tr>\n",
       "    <tr>\n",
       "      <th>Years</th>\n",
       "      <th></th>\n",
       "      <th></th>\n",
       "    </tr>\n",
       "  </thead>\n",
       "  <tbody>\n",
       "    <tr>\n",
       "      <th>1961</th>\n",
       "      <td>0.220324</td>\n",
       "      <td>3091843507</td>\n",
       "    </tr>\n",
       "    <tr>\n",
       "      <th>1962</th>\n",
       "      <td>0.168971</td>\n",
       "      <td>3150420795</td>\n",
       "    </tr>\n",
       "    <tr>\n",
       "      <th>1963</th>\n",
       "      <td>0.211853</td>\n",
       "      <td>3211001009</td>\n",
       "    </tr>\n",
       "    <tr>\n",
       "      <th>1964</th>\n",
       "      <td>0.003676</td>\n",
       "      <td>3273978338</td>\n",
       "    </tr>\n",
       "    <tr>\n",
       "      <th>1965</th>\n",
       "      <td>0.056882</td>\n",
       "      <td>3339583597</td>\n",
       "    </tr>\n",
       "  </tbody>\n",
       "</table>\n",
       "</div>"
      ],
      "text/plain": [
       "       Mean_Temperature_Increase  Population\n",
       "Years                                       \n",
       "1961                    0.220324  3091843507\n",
       "1962                    0.168971  3150420795\n",
       "1963                    0.211853  3211001009\n",
       "1964                    0.003676  3273978338\n",
       "1965                    0.056882  3339583597"
      ]
     },
     "execution_count": 9,
     "metadata": {},
     "output_type": "execute_result"
    }
   ],
   "source": [
    "data = temperature_data\n",
    "data = data[[\"Mean_Temperature_Increase\",\"Population\"]]\n",
    "data.head()"
   ]
  },
  {
   "cell_type": "code",
   "execution_count": 10,
   "id": "174b60dc",
   "metadata": {
    "execution": {
     "iopub.execute_input": "2022-01-13T04:43:14.606679Z",
     "iopub.status.busy": "2022-01-13T04:43:14.605948Z",
     "iopub.status.idle": "2022-01-13T04:43:15.258344Z",
     "shell.execute_reply": "2022-01-13T04:43:15.259085Z",
     "shell.execute_reply.started": "2022-01-13T04:19:48.619997Z"
    },
    "papermill": {
     "duration": 0.684802,
     "end_time": "2022-01-13T04:43:15.259347",
     "exception": false,
     "start_time": "2022-01-13T04:43:14.574545",
     "status": "completed"
    },
    "tags": []
   },
   "outputs": [
    {
     "data": {
      "image/png": "[encoded data removed]",
      "text/plain": [
       "<Figure size 1080x432 with 1 Axes>"
      ]
     },
     "metadata": {
      "needs_background": "light"
     },
     "output_type": "display_data"
    }
   ],
   "source": [
    "plt.figure(figsize = (15,6))\n",
    "plt.plot(data[\"Mean_Temperature_Increase\"], linewidth = 3)\n",
    "plt.title(\"Mean Temperature Increase Through the World From 1961 to 2019\")\n",
    "plt.xticks(rotation = 90)\n",
    "plt.ylabel(\"Temperature (Degrees)\", fontsize = 18)\n",
    "plt.show()\n"
   ]
  },
  {
   "cell_type": "code",
   "execution_count": 11,
   "id": "8f2c0f58",
   "metadata": {
    "execution": {
     "iopub.execute_input": "2022-01-13T04:43:15.310238Z",
     "iopub.status.busy": "2022-01-13T04:43:15.309510Z",
     "iopub.status.idle": "2022-01-13T04:43:15.905819Z",
     "shell.execute_reply": "2022-01-13T04:43:15.906438Z",
     "shell.execute_reply.started": "2022-01-13T04:19:49.237084Z"
    },
    "papermill": {
     "duration": 0.623175,
     "end_time": "2022-01-13T04:43:15.906615",
     "exception": false,
     "start_time": "2022-01-13T04:43:15.283440",
     "status": "completed"
    },
    "tags": []
   },
   "outputs": [
    {
     "data": {
      "image/png": "[encoded data removed]",
      "text/plain": [
       "<Figure size 1080x432 with 1 Axes>"
      ]
     },
     "metadata": {
      "needs_background": "light"
     },
     "output_type": "display_data"
    }
   ],
   "source": [
    "plt.figure(figsize = (15,6))\n",
    "plt.plot(data[\"Population\"], linewidth = 3)\n",
    "plt.title(\"Population Among the World From 1961 to 2019\")\n",
    "plt.xticks(rotation = 90)\n",
    "plt.ylabel(\"Population\", fontsize = 18)\n",
    "plt.show()\n"
   ]
  },
  {
   "cell_type": "markdown",
   "id": "237e821d",
   "metadata": {
    "papermill": {
     "duration": 0.024006,
     "end_time": "2022-01-13T04:43:15.955112",
     "exception": false,
     "start_time": "2022-01-13T04:43:15.931106",
     "status": "completed"
    },
    "tags": []
   },
   "source": [
    "<a id='2'></a>\n",
    "# Granger Causality Test\n",
    "\n",
    "Granger Causality Test is used for determining whether there is a relationship between two-time series. Without using this test, we already know there is a relationship between population and temperature increase by intuition. (There are different opinions regarding this relation, but I'll keep it simple for the convenience)"
   ]
  },
  {
   "cell_type": "code",
   "execution_count": 12,
   "id": "ee3b9383",
   "metadata": {
    "execution": {
     "iopub.execute_input": "2022-01-13T04:43:16.007656Z",
     "iopub.status.busy": "2022-01-13T04:43:16.007068Z",
     "iopub.status.idle": "2022-01-13T04:43:16.045842Z",
     "shell.execute_reply": "2022-01-13T04:43:16.045337Z",
     "shell.execute_reply.started": "2022-01-13T04:19:52.392804Z"
    },
    "papermill": {
     "duration": 0.066029,
     "end_time": "2022-01-13T04:43:16.045989",
     "exception": false,
     "start_time": "2022-01-13T04:43:15.979960",
     "status": "completed"
    },
    "tags": []
   },
   "outputs": [
    {
     "name": "stdout",
     "output_type": "stream",
     "text": [
      "\n",
      "Granger Causality\n",
      "number of lags (no zero) 1\n",
      "ssr based F test:         F=44.5771 , p=0.0000  , df_denom=55, df_num=1\n",
      "ssr based chi2 test:   chi2=47.0086 , p=0.0000  , df=1\n",
      "likelihood ratio test: chi2=34.4287 , p=0.0000  , df=1\n",
      "parameter F test:         F=44.5771 , p=0.0000  , df_denom=55, df_num=1\n",
      "\n",
      "Granger Causality\n",
      "number of lags (no zero) 2\n",
      "ssr based F test:         F=15.9738 , p=0.0000  , df_denom=52, df_num=2\n",
      "ssr based chi2 test:   chi2=35.0196 , p=0.0000  , df=2\n",
      "likelihood ratio test: chi2=27.3002 , p=0.0000  , df=2\n",
      "parameter F test:         F=15.9738 , p=0.0000  , df_denom=52, df_num=2\n",
      "\n",
      "Granger Causality\n",
      "number of lags (no zero) 3\n",
      "ssr based F test:         F=10.4443 , p=0.0000  , df_denom=49, df_num=3\n",
      "ssr based chi2 test:   chi2=35.8092 , p=0.0000  , df=3\n",
      "likelihood ratio test: chi2=27.6842 , p=0.0000  , df=3\n",
      "parameter F test:         F=10.4443 , p=0.0000  , df_denom=49, df_num=3\n",
      "\n",
      "Granger Causality\n",
      "number of lags (no zero) 4\n",
      "ssr based F test:         F=5.4503  , p=0.0011  , df_denom=46, df_num=4\n",
      "ssr based chi2 test:   chi2=26.0668 , p=0.0000  , df=4\n",
      "likelihood ratio test: chi2=21.3367 , p=0.0003  , df=4\n",
      "parameter F test:         F=5.4503  , p=0.0011  , df_denom=46, df_num=4\n"
     ]
    }
   ],
   "source": [
    "granger_result = grangercausalitytests(data[[\"Mean_Temperature_Increase\",\"Population\"]], 4)"
   ]
  },
  {
   "cell_type": "markdown",
   "id": "b93a4672",
   "metadata": {
    "papermill": {
     "duration": 0.02589,
     "end_time": "2022-01-13T04:43:16.096737",
     "exception": false,
     "start_time": "2022-01-13T04:43:16.070847",
     "status": "completed"
    },
    "tags": []
   },
   "source": [
    "As expected, population increase correlated with temperature increase from lag 1. (p-value < 0.05)"
   ]
  },
  {
   "cell_type": "markdown",
   "id": "79078862",
   "metadata": {
    "papermill": {
     "duration": 0.024976,
     "end_time": "2022-01-13T04:43:16.147709",
     "exception": false,
     "start_time": "2022-01-13T04:43:16.122733",
     "status": "completed"
    },
    "tags": []
   },
   "source": [
    "<a id='3'></a>\n",
    "# Augmented Dickey–Fuller Test\n",
    "\n",
    "Adfuller Test is used for determining whether the data is stationary or not. In a nutshell, if p-value is smaller than 0.05, then we can conclude that the data is stationary."
   ]
  },
  {
   "cell_type": "code",
   "execution_count": 13,
   "id": "8cb9ffbf",
   "metadata": {
    "execution": {
     "iopub.execute_input": "2022-01-13T04:43:16.208940Z",
     "iopub.status.busy": "2022-01-13T04:43:16.204117Z",
     "iopub.status.idle": "2022-01-13T04:43:16.227556Z",
     "shell.execute_reply": "2022-01-13T04:43:16.227988Z",
     "shell.execute_reply.started": "2022-01-13T04:19:57.208099Z"
    },
    "papermill": {
     "duration": 0.051779,
     "end_time": "2022-01-13T04:43:16.228182",
     "exception": false,
     "start_time": "2022-01-13T04:43:16.176403",
     "status": "completed"
    },
    "tags": []
   },
   "outputs": [
    {
     "name": "stdout",
     "output_type": "stream",
     "text": [
      "Adfuller Statistical Value:  1.2099732305898157\n",
      "P-value:  0.9960540695758707\n",
      "\n",
      "\n",
      "Critical Values:\n",
      "\n",
      "\n",
      "1%:  -3.5656240522121956\n",
      "5%:  -2.920142229157715\n",
      "10%:  -2.598014675124952\n",
      "\n",
      "**************\n",
      "\n",
      "Adfuller Statistical Value:  1.2099732305898157\n",
      "P-value:  0.9960540695758707\n",
      "\n",
      "\n",
      "Critical Values:\n",
      "\n",
      "\n",
      "1%:  -3.5778480370438146\n",
      "5%:  -2.925338105429433\n",
      "10%:  -2.6007735310095064\n"
     ]
    }
   ],
   "source": [
    "adfuller_temp = adfuller(data.Mean_Temperature_Increase)\n",
    "\n",
    "print(\"Adfuller Statistical Value: \", adfuller_temp[0])\n",
    "print(\"P-value: \", adfuller_temp[1])\n",
    "print(\"\\n\")\n",
    "print(\"Critical Values:\")\n",
    "print(\"\\n\")\n",
    "print(\"1%: \",adfuller_temp[4][\"1%\"])\n",
    "print(\"5%: \", adfuller_temp[4][\"5%\"])\n",
    "print(\"10%: \", adfuller_temp[4][\"10%\"])\n",
    "print(\"\\n**************\\n\")\n",
    "\n",
    "adfuller_pop = adfuller(data.Population)\n",
    "\n",
    "print(\"Adfuller Statistical Value: \", adfuller_temp[0])\n",
    "print(\"P-value: \", adfuller_temp[1])\n",
    "print(\"\\n\")\n",
    "print(\"Critical Values:\")\n",
    "print(\"\\n\")\n",
    "print(\"1%: \",adfuller_pop[4][\"1%\"])\n",
    "print(\"5%: \", adfuller_pop[4][\"5%\"])\n",
    "print(\"10%: \", adfuller_pop[4][\"10%\"])"
   ]
  },
  {
   "cell_type": "markdown",
   "id": "8fe5c97e",
   "metadata": {
    "papermill": {
     "duration": 0.02521,
     "end_time": "2022-01-13T04:43:16.278971",
     "exception": false,
     "start_time": "2022-01-13T04:43:16.253761",
     "status": "completed"
    },
    "tags": []
   },
   "source": [
    "P-values are much greater than 0.05. That means our data is non-stationary and we should manipulate the data so it becomes stationary. The most common way is taking first difference of the data."
   ]
  },
  {
   "cell_type": "code",
   "execution_count": 14,
   "id": "8edbd30d",
   "metadata": {
    "execution": {
     "iopub.execute_input": "2022-01-13T04:43:16.335339Z",
     "iopub.status.busy": "2022-01-13T04:43:16.334213Z",
     "iopub.status.idle": "2022-01-13T04:43:16.365953Z",
     "shell.execute_reply": "2022-01-13T04:43:16.365244Z",
     "shell.execute_reply.started": "2022-01-13T04:20:00.054727Z"
    },
    "papermill": {
     "duration": 0.06148,
     "end_time": "2022-01-13T04:43:16.366161",
     "exception": false,
     "start_time": "2022-01-13T04:43:16.304681",
     "status": "completed"
    },
    "tags": []
   },
   "outputs": [
    {
     "name": "stdout",
     "output_type": "stream",
     "text": [
      "Adfuller Statistical Value:  -4.99094935417244\n",
      "P-value:  2.3126930533486127e-05\n",
      "\n",
      "\n",
      "Critical Values:\n",
      "\n",
      "\n",
      "1%:  -3.5656240522121956\n",
      "5%:  -2.920142229157715\n",
      "10%:  -2.598014675124952\n",
      "\n",
      "**************\n",
      "\n",
      "Adfuller Statistical Value:  -4.99094935417244\n",
      "P-value:  2.3126930533486127e-05\n",
      "\n",
      "\n",
      "Critical Values:\n",
      "\n",
      "\n",
      "1%:  -3.5812576580093696\n",
      "5%:  -2.9267849124681518\n",
      "10%:  -2.6015409829867675\n"
     ]
    }
   ],
   "source": [
    "data = data.diff().dropna()\n",
    "\n",
    "adfuller_temp = adfuller(data.Mean_Temperature_Increase)\n",
    "\n",
    "print(\"Adfuller Statistical Value: \", adfuller_temp[0])\n",
    "print(\"P-value: \", adfuller_temp[1])\n",
    "print(\"\\n\")\n",
    "print(\"Critical Values:\")\n",
    "print(\"\\n\")\n",
    "print(\"1%: \",adfuller_temp[4][\"1%\"])\n",
    "print(\"5%: \", adfuller_temp[4][\"5%\"])\n",
    "print(\"10%: \", adfuller_temp[4][\"10%\"])\n",
    "print(\"\\n**************\\n\")\n",
    "\n",
    "adfuller_pop = adfuller(data.Population)\n",
    "\n",
    "print(\"Adfuller Statistical Value: \", adfuller_temp[0])\n",
    "print(\"P-value: \", adfuller_temp[1])\n",
    "print(\"\\n\")\n",
    "print(\"Critical Values:\")\n",
    "print(\"\\n\")\n",
    "print(\"1%: \",adfuller_pop[4][\"1%\"])\n",
    "print(\"5%: \", adfuller_pop[4][\"5%\"])\n",
    "print(\"10%: \", adfuller_pop[4][\"10%\"])"
   ]
  },
  {
   "cell_type": "markdown",
   "id": "0075222e",
   "metadata": {
    "papermill": {
     "duration": 0.02572,
     "end_time": "2022-01-13T04:43:16.418864",
     "exception": false,
     "start_time": "2022-01-13T04:43:16.393144",
     "status": "completed"
    },
    "tags": []
   },
   "source": [
    "Now our data became stationary. We can also plot and see how it looks like after the first difference."
   ]
  },
  {
   "cell_type": "code",
   "execution_count": 15,
   "id": "9bad0fbe",
   "metadata": {
    "execution": {
     "iopub.execute_input": "2022-01-13T04:43:16.474798Z",
     "iopub.status.busy": "2022-01-13T04:43:16.473801Z",
     "iopub.status.idle": "2022-01-13T04:43:17.120939Z",
     "shell.execute_reply": "2022-01-13T04:43:17.121704Z",
     "shell.execute_reply.started": "2022-01-13T04:20:03.450953Z"
    },
    "papermill": {
     "duration": 0.676715,
     "end_time": "2022-01-13T04:43:17.121916",
     "exception": false,
     "start_time": "2022-01-13T04:43:16.445201",
     "status": "completed"
    },
    "tags": []
   },
   "outputs": [
    {
     "data": {
      "image/png": "[encoded data removed]",
      "text/plain": [
       "<Figure size 1080x432 with 1 Axes>"
      ]
     },
     "metadata": {
      "needs_background": "light"
     },
     "output_type": "display_data"
    }
   ],
   "source": [
    "plt.figure(figsize = (15,6))\n",
    "plt.plot(data[\"Mean_Temperature_Increase\"], linewidth = 3)\n",
    "plt.title(\"Mean Temperature Increase Through the World From 1961 to 2019\")\n",
    "plt.xticks(rotation = 90)\n",
    "plt.axhline(y = 0, linestyle = \"--\", color = \"black\" )\n",
    "plt.ylabel(\"Temperature (Degrees)\", fontsize = 18)\n",
    "plt.show()"
   ]
  },
  {
   "cell_type": "code",
   "execution_count": 16,
   "id": "5e46e16e",
   "metadata": {
    "execution": {
     "iopub.execute_input": "2022-01-13T04:43:17.199660Z",
     "iopub.status.busy": "2022-01-13T04:43:17.198624Z",
     "iopub.status.idle": "2022-01-13T04:43:17.933245Z",
     "shell.execute_reply": "2022-01-13T04:43:17.933734Z",
     "shell.execute_reply.started": "2022-01-13T04:20:06.278613Z"
    },
    "papermill": {
     "duration": 0.78401,
     "end_time": "2022-01-13T04:43:17.933908",
     "exception": false,
     "start_time": "2022-01-13T04:43:17.149898",
     "status": "completed"
    },
    "tags": []
   },
   "outputs": [
    {
     "data": {
      "image/png": "[encoded data removed]",
      "text/plain": [
       "<Figure size 1080x432 with 1 Axes>"
      ]
     },
     "metadata": {
      "needs_background": "light"
     },
     "output_type": "display_data"
    }
   ],
   "source": [
    "plt.figure(figsize = (15,6))\n",
    "plt.plot(data[\"Population\"], linewidth = 3)\n",
    "plt.title(\"Population Increase Through the World From 1961 to 2019\")\n",
    "plt.xticks(rotation = 90)\n",
    "plt.ylabel(\"Population\", fontsize = 18)\n",
    "plt.show()\n",
    "# This plot can also be obtained from the\"NetChange\" column in population dataset. "
   ]
  },
  {
   "cell_type": "markdown",
   "id": "68555a55",
   "metadata": {
    "papermill": {
     "duration": 0.028688,
     "end_time": "2022-01-13T04:43:17.992745",
     "exception": false,
     "start_time": "2022-01-13T04:43:17.964057",
     "status": "completed"
    },
    "tags": []
   },
   "source": [
    "<a id='4'></a>\n",
    "# Z Score Normalization\n",
    "\n",
    "To place the population data around y = 0, we'll use Z-score Normalization. For more information you can check [here](https://developers.google.com/machine-learning/data-prep/transform/normalization).\n"
   ]
  },
  {
   "cell_type": "code",
   "execution_count": 17,
   "id": "540d0388",
   "metadata": {
    "execution": {
     "iopub.execute_input": "2022-01-13T04:43:18.054954Z",
     "iopub.status.busy": "2022-01-13T04:43:18.053973Z",
     "iopub.status.idle": "2022-01-13T04:43:18.058342Z",
     "shell.execute_reply": "2022-01-13T04:43:18.058925Z",
     "shell.execute_reply.started": "2022-01-13T04:20:10.559096Z"
    },
    "papermill": {
     "duration": 0.03683,
     "end_time": "2022-01-13T04:43:18.059114",
     "exception": false,
     "start_time": "2022-01-13T04:43:18.022284",
     "status": "completed"
    },
    "tags": []
   },
   "outputs": [],
   "source": [
    "average = data.Population.mean()\n",
    "st_dev = data.Population.std()"
   ]
  },
  {
   "cell_type": "code",
   "execution_count": 18,
   "id": "06fa78b1",
   "metadata": {
    "execution": {
     "iopub.execute_input": "2022-01-13T04:43:18.125883Z",
     "iopub.status.busy": "2022-01-13T04:43:18.124717Z",
     "iopub.status.idle": "2022-01-13T04:43:18.740529Z",
     "shell.execute_reply": "2022-01-13T04:43:18.740979Z",
     "shell.execute_reply.started": "2022-01-13T04:20:13.995111Z"
    },
    "papermill": {
     "duration": 0.652786,
     "end_time": "2022-01-13T04:43:18.741164",
     "exception": false,
     "start_time": "2022-01-13T04:43:18.088378",
     "status": "completed"
    },
    "tags": []
   },
   "outputs": [
    {
     "data": {
      "image/png": "[encoded data removed]",
      "text/plain": [
       "<Figure size 1080x432 with 1 Axes>"
      ]
     },
     "metadata": {
      "needs_background": "light"
     },
     "output_type": "display_data"
    }
   ],
   "source": [
    "data.Population = data.Population.apply(lambda x: (x-average)/st_dev)\n",
    "plt.figure(figsize = (15,6))\n",
    "plt.plot(data[\"Population\"], linewidth = 3)\n",
    "plt.title(\"Normalized Population Increase Through the World From 1961 to 2019\")\n",
    "plt.xticks(rotation = 90)\n",
    "plt.ylabel(\"Population\", fontsize = 18)\n",
    "plt.axhline(y = 0, linestyle = \"--\", color = \"black\" )\n",
    "plt.show()"
   ]
  },
  {
   "cell_type": "markdown",
   "id": "9c3bd3d3",
   "metadata": {
    "papermill": {
     "duration": 0.030315,
     "end_time": "2022-01-13T04:43:18.801471",
     "exception": false,
     "start_time": "2022-01-13T04:43:18.771156",
     "status": "completed"
    },
    "tags": []
   },
   "source": [
    "<a id='5'></a>\n",
    "# VAR Model and Predictions"
   ]
  },
  {
   "cell_type": "code",
   "execution_count": 19,
   "id": "97452c54",
   "metadata": {
    "execution": {
     "iopub.execute_input": "2022-01-13T04:43:18.865522Z",
     "iopub.status.busy": "2022-01-13T04:43:18.864506Z",
     "iopub.status.idle": "2022-01-13T04:43:18.869433Z",
     "shell.execute_reply": "2022-01-13T04:43:18.870078Z",
     "shell.execute_reply.started": "2022-01-13T04:20:25.608043Z"
    },
    "papermill": {
     "duration": 0.038577,
     "end_time": "2022-01-13T04:43:18.870257",
     "exception": false,
     "start_time": "2022-01-13T04:43:18.831680",
     "status": "completed"
    },
    "tags": []
   },
   "outputs": [],
   "source": [
    "train_df = data.iloc[:int(0.8*len(data)),:]\n",
    "test_df = data.iloc[int(0.8*len(data)):,:]"
   ]
  },
  {
   "cell_type": "code",
   "execution_count": 20,
   "id": "b50e2302",
   "metadata": {
    "execution": {
     "iopub.execute_input": "2022-01-13T04:43:18.935326Z",
     "iopub.status.busy": "2022-01-13T04:43:18.934312Z",
     "iopub.status.idle": "2022-01-13T04:43:18.937527Z",
     "shell.execute_reply": "2022-01-13T04:43:18.938107Z",
     "shell.execute_reply.started": "2022-01-13T04:24:27.352263Z"
    },
    "papermill": {
     "duration": 0.037249,
     "end_time": "2022-01-13T04:43:18.938288",
     "exception": false,
     "start_time": "2022-01-13T04:43:18.901039",
     "status": "completed"
    },
    "tags": []
   },
   "outputs": [],
   "source": [
    "#model = VAR(train_df)\n",
    "#x = model.select_order(maxlags=12) \n",
    "#x.summary()\n",
    "# to optimize the lag number one can use this"
   ]
  },
  {
   "cell_type": "code",
   "execution_count": 21,
   "id": "85d4e15a",
   "metadata": {
    "execution": {
     "iopub.execute_input": "2022-01-13T04:43:19.003782Z",
     "iopub.status.busy": "2022-01-13T04:43:19.002760Z",
     "iopub.status.idle": "2022-01-13T04:43:19.044233Z",
     "shell.execute_reply": "2022-01-13T04:43:19.045069Z",
     "shell.execute_reply.started": "2022-01-13T04:26:32.753106Z"
    },
    "papermill": {
     "duration": 0.076139,
     "end_time": "2022-01-13T04:43:19.045356",
     "exception": false,
     "start_time": "2022-01-13T04:43:18.969217",
     "status": "completed"
    },
    "tags": []
   },
   "outputs": [
    {
     "data": {
      "text/plain": [
       "  Summary of Regression Results   \n",
       "==================================\n",
       "Model:                         VAR\n",
       "Method:                        OLS\n",
       "Date:           Thu, 13, Jan, 2022\n",
       "Time:                     04:43:19\n",
       "--------------------------------------------------------------------\n",
       "No. of Equations:         2.00000    BIC:                   -9.60923\n",
       "Nobs:                     36.0000    HQIC:                  -10.8119\n",
       "Log likelihood:           146.056    FPE:                1.48131e-05\n",
       "AIC:                     -11.4567    Det(Omega_mle):     5.90881e-06\n",
       "--------------------------------------------------------------------\n",
       "Results for equation Mean_Temperature_Increase\n",
       "================================================================================================\n",
       "                                   coefficient       std. error           t-stat            prob\n",
       "------------------------------------------------------------------------------------------------\n",
       "const                                 0.189456         0.041949            4.516           0.000\n",
       "L1.Mean_Temperature_Increase         -1.383326         0.220776           -6.266           0.000\n",
       "L1.Population                         0.893417         0.532233            1.679           0.093\n",
       "L2.Mean_Temperature_Increase         -1.036591         0.342527           -3.026           0.002\n",
       "L2.Population                        -3.214882         1.689422           -1.903           0.057\n",
       "L3.Mean_Temperature_Increase         -1.086501         0.346799           -3.133           0.002\n",
       "L3.Population                         4.842492         2.629256            1.842           0.066\n",
       "L4.Mean_Temperature_Increase         -1.103257         0.341986           -3.226           0.001\n",
       "L4.Population                        -3.322654         2.959818           -1.123           0.262\n",
       "L5.Mean_Temperature_Increase         -1.360185         0.340795           -3.991           0.000\n",
       "L5.Population                        -0.473194         2.955011           -0.160           0.873\n",
       "L6.Mean_Temperature_Increase         -1.796613         0.390936           -4.596           0.000\n",
       "L6.Population                         2.635938         2.940019            0.897           0.370\n",
       "L7.Mean_Temperature_Increase         -1.398759         0.432282           -3.236           0.001\n",
       "L7.Population                        -2.366689         2.986032           -0.793           0.428\n",
       "L8.Mean_Temperature_Increase         -0.805328         0.386375           -2.084           0.037\n",
       "L8.Population                         2.454000         2.695381            0.910           0.363\n",
       "L9.Mean_Temperature_Increase         -0.570561         0.303688           -1.879           0.060\n",
       "L9.Population                        -2.536910         1.719300           -1.476           0.140\n",
       "L10.Mean_Temperature_Increase        -0.206536         0.197392           -1.046           0.295\n",
       "L10.Population                        1.123664         0.527394            2.131           0.033\n",
       "================================================================================================\n",
       "\n",
       "Results for equation Population\n",
       "================================================================================================\n",
       "                                   coefficient       std. error           t-stat            prob\n",
       "------------------------------------------------------------------------------------------------\n",
       "const                                 0.001897         0.020031            0.095           0.925\n",
       "L1.Mean_Temperature_Increase         -0.150994         0.105420           -1.432           0.152\n",
       "L1.Population                         3.025062         0.254141           11.903           0.000\n",
       "L2.Mean_Temperature_Increase         -0.138653         0.163556           -0.848           0.397\n",
       "L2.Population                        -3.776747         0.806697           -4.682           0.000\n",
       "L3.Mean_Temperature_Increase         -0.004788         0.165596           -0.029           0.977\n",
       "L3.Population                         2.511991         1.255467            2.001           0.045\n",
       "L4.Mean_Temperature_Increase          0.086599         0.163298            0.530           0.596\n",
       "L4.Population                        -0.730498         1.413310           -0.517           0.605\n",
       "L5.Mean_Temperature_Increase          0.217780         0.162729            1.338           0.181\n",
       "L5.Population                        -0.523014         1.411015           -0.371           0.711\n",
       "L6.Mean_Temperature_Increase          0.188787         0.186672            1.011           0.312\n",
       "L6.Population                         0.941419         1.403856            0.671           0.502\n",
       "L7.Mean_Temperature_Increase          0.063352         0.206414            0.307           0.759\n",
       "L7.Population                        -0.703738         1.425827           -0.494           0.622\n",
       "L8.Mean_Temperature_Increase          0.032878         0.184494            0.178           0.859\n",
       "L8.Population                         0.224574         1.287041            0.174           0.861\n",
       "L9.Mean_Temperature_Increase          0.031140         0.145011            0.215           0.830\n",
       "L9.Population                         0.082546         0.820964            0.101           0.920\n",
       "L10.Mean_Temperature_Increase        -0.045524         0.094254           -0.483           0.629\n",
       "L10.Population                       -0.065529         0.251830           -0.260           0.795\n",
       "================================================================================================\n",
       "\n",
       "Correlation matrix of residuals\n",
       "                             Mean_Temperature_Increase  Population\n",
       "Mean_Temperature_Increase                     1.000000   -0.045221\n",
       "Population                                   -0.045221    1.000000\n",
       "\n"
      ]
     },
     "execution_count": 21,
     "metadata": {},
     "output_type": "execute_result"
    }
   ],
   "source": [
    "model = VAR(train_df)\n",
    "fitted_model = model.fit(maxlags = 10)\n",
    "fitted_model.summary()"
   ]
  },
  {
   "cell_type": "markdown",
   "id": "9ae0dc5b",
   "metadata": {
    "papermill": {
     "duration": 0.047979,
     "end_time": "2022-01-13T04:43:19.156859",
     "exception": false,
     "start_time": "2022-01-13T04:43:19.108880",
     "status": "completed"
    },
    "tags": []
   },
   "source": [
    "So our goal is to construct a function having lagged population terms to predict the future outcomes (or in this case predict the test data). Therefore we will use the first table. Prob stands for p-value and each term having prob <=0.05 can be considered as a serious (non-negligable) independent variable for the equation we want to build. The equation will look something like this (to predict the train part of course):\n",
    "\n",
    "T(t) = 0.189456 + (-1.383326)xT(t-1) + (-1.036591)xT(t-2) + ....... + (1.123664)xP(t-10) + e(t)\n",
    "\n",
    "for maxlag = 10"
   ]
  },
  {
   "cell_type": "code",
   "execution_count": 22,
   "id": "33487ea4",
   "metadata": {
    "execution": {
     "iopub.execute_input": "2022-01-13T04:43:19.224685Z",
     "iopub.status.busy": "2022-01-13T04:43:19.221217Z",
     "iopub.status.idle": "2022-01-13T04:43:19.300112Z",
     "shell.execute_reply": "2022-01-13T04:43:19.300629Z",
     "shell.execute_reply.started": "2022-01-13T04:26:47.512858Z"
    },
    "papermill": {
     "duration": 0.113116,
     "end_time": "2022-01-13T04:43:19.300807",
     "exception": false,
     "start_time": "2022-01-13T04:43:19.187691",
     "status": "completed"
    },
    "tags": []
   },
   "outputs": [],
   "source": [
    "temperature_predictions = []\n",
    "for timestamp in range(len(test_df)):\n",
    "    train = data.iloc[timestamp: timestamp + len(train_df)]\n",
    "    preds = VAR(train).fit().forecast(VAR(train).fit().y, steps = 2)\n",
    "    temperature_predictions.append(preds[:,0])\n",
    "\n",
    "temperature_predictions = np.array(temperature_predictions)"
   ]
  },
  {
   "cell_type": "code",
   "execution_count": 23,
   "id": "73093f15",
   "metadata": {
    "execution": {
     "iopub.execute_input": "2022-01-13T04:43:19.399352Z",
     "iopub.status.busy": "2022-01-13T04:43:19.379614Z",
     "iopub.status.idle": "2022-01-13T04:43:19.586523Z",
     "shell.execute_reply": "2022-01-13T04:43:19.586981Z",
     "shell.execute_reply.started": "2022-01-13T04:29:42.177420Z"
    },
    "papermill": {
     "duration": 0.255466,
     "end_time": "2022-01-13T04:43:19.587168",
     "exception": false,
     "start_time": "2022-01-13T04:43:19.331702",
     "status": "completed"
    },
    "tags": []
   },
   "outputs": [
    {
     "data": {
      "image/png": "[encoded data removed]",
      "text/plain": [
       "<Figure size 1080x432 with 1 Axes>"
      ]
     },
     "metadata": {
      "needs_background": "light"
     },
     "output_type": "display_data"
    }
   ],
   "source": [
    "plt.figure(figsize = (15,6))\n",
    "plt.plot(test_df[\"Mean_Temperature_Increase\"], linewidth = 3)\n",
    "plt.plot(temperature_predictions[:,0], linewidth = 3)\n",
    "plt.title(\"Comparison of the Predictions and the Test Data\")\n",
    "plt.show()    \n"
   ]
  },
  {
   "cell_type": "code",
   "execution_count": 24,
   "id": "2c3f2f2c",
   "metadata": {
    "execution": {
     "iopub.execute_input": "2022-01-13T04:43:19.661089Z",
     "iopub.status.busy": "2022-01-13T04:43:19.660364Z",
     "iopub.status.idle": "2022-01-13T04:43:19.663660Z",
     "shell.execute_reply": "2022-01-13T04:43:19.664364Z",
     "shell.execute_reply.started": "2022-01-13T04:31:47.471907Z"
    },
    "papermill": {
     "duration": 0.043522,
     "end_time": "2022-01-13T04:43:19.664604",
     "exception": false,
     "start_time": "2022-01-13T04:43:19.621082",
     "status": "completed"
    },
    "tags": []
   },
   "outputs": [
    {
     "name": "stdout",
     "output_type": "stream",
     "text": [
      "Mean Sqaured Error:  0.011734955778719122\n"
     ]
    }
   ],
   "source": [
    "print(\"Mean Sqaured Error: \", mean_squared_error(test_df[\"Mean_Temperature_Increase\"],temperature_predictions[:,0]))"
   ]
  },
  {
   "cell_type": "markdown",
   "id": "3a8321a9",
   "metadata": {
    "papermill": {
     "duration": 0.032645,
     "end_time": "2022-01-13T04:43:19.731800",
     "exception": false,
     "start_time": "2022-01-13T04:43:19.699155",
     "status": "completed"
    },
    "tags": []
   },
   "source": [
    "<a id='6'></a>\n",
    "# Sources that I Utilized During Preparation"
   ]
  },
  {
   "cell_type": "markdown",
   "id": "82c1c756",
   "metadata": {
    "papermill": {
     "duration": 0.032539,
     "end_time": "2022-01-13T04:43:19.797342",
     "exception": false,
     "start_time": "2022-01-13T04:43:19.764803",
     "status": "completed"
    },
    "tags": []
   },
   "source": [
    "1. https://www.machinelearningplus.com/time-series/vector-autoregression-examples-python/\n",
    "1. \"ritvikmath\" channel found in Youtube\n",
    "1. https://www.kaggle.com/jam74001/google-stock-prediction-var-model/notebook"
   ]
  },
  {
   "cell_type": "markdown",
   "id": "749aa2a7",
   "metadata": {
    "papermill": {
     "duration": 0.032745,
     "end_time": "2022-01-13T04:43:19.863512",
     "exception": false,
     "start_time": "2022-01-13T04:43:19.830767",
     "status": "completed"
    },
    "tags": []
   },
   "source": [
    "Thanks..."
   ]
  }
 ],
 "metadata": {
  "kernelspec": {
   "display_name": "Python 3",
   "language": "python",
   "name": "python3"
  },
  "language_info": {
   "codemirror_mode": {
    "name": "ipython",
    "version": 3
   },
   "file_extension": ".py",
   "mimetype": "text/x-python",
   "name": "python",
   "nbconvert_exporter": "python",
   "pygments_lexer": "ipython3",
   "version": "3.7.12"
  },
  "papermill": {
   "default_parameters": {},
   "duration": 17.133637,
   "end_time": "2022-01-13T04:43:20.607257",
   "environment_variables": {},
   "exception": null,
   "input_path": "__notebook__.ipynb",
   "output_path": "__notebook__.ipynb",
   "parameters": {},
   "start_time": "2022-01-13T04:43:03.473620",
   "version": "2.3.3"
  }
 },
 "nbformat": 4,
 "nbformat_minor": 5
}
