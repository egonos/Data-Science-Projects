{
 "cells": [
  {
   "cell_type": "markdown",
   "id": "dd1b62bc",
   "metadata": {
    "id": "FMQbxPARxRmv",
    "papermill": {
     "duration": 0.019887,
     "end_time": "2023-11-07T12:30:35.699545",
     "exception": false,
     "start_time": "2023-11-07T12:30:35.679658",
     "status": "completed"
    },
    "tags": []
   },
   "source": [
    "Welcome to the 4th part of NLP Concept Series. We have covered lots of things but we still have lot more to cover. In this notebook, we will start with Name Entity Recognition (NER) then we will continue with the Recurrent Neural Networks (RNN)."
   ]
  },
  {
   "cell_type": "markdown",
   "id": "ad544497",
   "metadata": {
    "id": "3QMAOC8KypYh",
    "papermill": {
     "duration": 0.01954,
     "end_time": "2023-11-07T12:30:35.738880",
     "exception": false,
     "start_time": "2023-11-07T12:30:35.719340",
     "status": "completed"
    },
    "tags": []
   },
   "source": [
    "# NER\n",
    "\n",
    "NER is an NLP task in which the model labels the words or fhrasesas person, location, organization etc. Currently, this is one of the most successful NLP task, we can apply so far. We will see the reason in a bit.\n",
    "\n",
    "Let's build a baseline algorithm for this task (I'll use the same baseline model in the book):\n",
    "\n",
    ">If the given word is ambiguous:\n",
    "\n",
    ">$\\hspace{0.5cm}$ Choose the most frequent tag in the training corpus.\n",
    "\n",
    "The success rate of this algorithm is 92%. Therefore, it is not suprising that a more comprehensive model have an accuracy rate of 97-98%.\n",
    "\n",
    "The book covers two tagging methods. The links will direct the reader to the mathematical explanations that I have prepared.\n",
    "\n",
    "1. Hidden Markov Models (HMM) [(Link)](https://github.com/egonos/NLP-Concepts/blob/main/Images/HMM%20Decoding.jpg)\n",
    "2. Conditional Random Fields (CRF) [(Link)](https://github.com/egonos/NLP-Concepts/blob/main/Images/CRF.jpg)\n",
    "\n",
    "\n",
    "Now, let's shift our attention more on th practical side. We can use several modules for tagging. I'll provide a couple of them:\n",
    "\n"
   ]
  },
  {
   "cell_type": "code",
   "execution_count": 1,
   "id": "2fbecc9d",
   "metadata": {
    "execution": {
     "iopub.execute_input": "2023-11-07T12:30:35.779902Z",
     "iopub.status.busy": "2023-11-07T12:30:35.779479Z",
     "iopub.status.idle": "2023-11-07T12:30:37.870041Z",
     "shell.execute_reply": "2023-11-07T12:30:37.868435Z"
    },
    "id": "tPjn8ycVyo4J",
    "outputId": "4c841b54-e81b-4d6d-9f79-5732de7ea0fe",
    "papermill": {
     "duration": 2.114877,
     "end_time": "2023-11-07T12:30:37.873290",
     "exception": false,
     "start_time": "2023-11-07T12:30:35.758413",
     "status": "completed"
    },
    "tags": []
   },
   "outputs": [
    {
     "name": "stdout",
     "output_type": "stream",
     "text": [
      "[nltk_data] Downloading package punkt to /usr/share/nltk_data...\n",
      "[nltk_data]   Package punkt is already up-to-date!\n",
      "[nltk_data] Downloading package averaged_perceptron_tagger to\n",
      "[nltk_data]     /usr/share/nltk_data...\n",
      "[nltk_data]   Package averaged_perceptron_tagger is already up-to-\n",
      "[nltk_data]       date!\n"
     ]
    },
    {
     "data": {
      "text/plain": [
       "True"
      ]
     },
     "execution_count": 1,
     "metadata": {},
     "output_type": "execute_result"
    }
   ],
   "source": [
    "import textblob\n",
    "import nltk\n",
    "\n",
    "nltk.download('punkt')\n",
    "nltk.download('averaged_perceptron_tagger')"
   ]
  },
  {
   "cell_type": "markdown",
   "id": "5c2047e4",
   "metadata": {
    "id": "zPdtvz0b4_Z5",
    "papermill": {
     "duration": 0.020191,
     "end_time": "2023-11-07T12:30:37.914385",
     "exception": false,
     "start_time": "2023-11-07T12:30:37.894194",
     "status": "completed"
    },
    "tags": []
   },
   "source": [
    "##TextBlob"
   ]
  },
  {
   "cell_type": "code",
   "execution_count": 2,
   "id": "a4662f20",
   "metadata": {
    "execution": {
     "iopub.execute_input": "2023-11-07T12:30:37.956902Z",
     "iopub.status.busy": "2023-11-07T12:30:37.956390Z",
     "iopub.status.idle": "2023-11-07T12:30:38.206585Z",
     "shell.execute_reply": "2023-11-07T12:30:38.205210Z"
    },
    "id": "Zt5hY1D24nKE",
    "outputId": "3e999499-be83-43e5-9832-7dce79406c3d",
    "papermill": {
     "duration": 0.274323,
     "end_time": "2023-11-07T12:30:38.209210",
     "exception": false,
     "start_time": "2023-11-07T12:30:37.934887",
     "status": "completed"
    },
    "tags": []
   },
   "outputs": [
    {
     "name": "stdout",
     "output_type": "stream",
     "text": [
      "[('Mr', 'NNP'), ('and', 'CC'), ('Mrs', 'NNP'), ('Dursley', 'NNP'), ('of', 'IN'), ('number', 'NN'), ('four', 'CD'), ('Privet', 'NNP'), ('Drive', 'NNP'), ('were', 'VBD'), ('proud', 'JJ'), ('to', 'TO'), ('say', 'VB'), ('that', 'IN'), ('they', 'PRP'), ('were', 'VBD'), ('perfectly', 'RB'), ('normal', 'JJ'), ('thank', 'NN'), ('you', 'PRP'), ('very', 'RB'), ('much', 'RB'), ('They', 'PRP'), ('were', 'VBD'), ('the', 'DT'), ('last', 'JJ'), ('people', 'NNS'), ('you', 'PRP'), ('’', 'VBP'), ('d', 'JJ'), ('expect', 'VBP'), ('to', 'TO'), ('be', 'VB'), ('involved', 'VBN'), ('in', 'IN'), ('anything', 'NN'), ('strange', 'JJ'), ('or', 'CC'), ('mysterious', 'JJ'), ('because', 'IN'), ('they', 'PRP'), ('just', 'RB'), ('didn', 'VBP'), ('’', 'JJ'), ('t', 'NN'), ('hold', 'NN'), ('with', 'IN'), ('such', 'JJ'), ('nonsense', 'NN')]\n"
     ]
    }
   ],
   "source": [
    "sentence = \"Mr and Mrs Dursley, of number four, Privet Drive, were proud to say \\\n",
    "that they were perfectly normal, thank you very much. They \\\n",
    "were the last people you’d expect to be involved in anything \\\n",
    "strange or mysterious, because they just didn’t hold with such \\\n",
    "nonsense.\"\n",
    "\n",
    "text = textblob.TextBlob(sentence)\n",
    "print(text.tags)"
   ]
  },
  {
   "cell_type": "markdown",
   "id": "001fbef4",
   "metadata": {
    "id": "uhLLJb5W5pyA",
    "papermill": {
     "duration": 0.019948,
     "end_time": "2023-11-07T12:30:38.249699",
     "exception": false,
     "start_time": "2023-11-07T12:30:38.229751",
     "status": "completed"
    },
    "tags": []
   },
   "source": [
    "##NLTK"
   ]
  },
  {
   "cell_type": "code",
   "execution_count": 3,
   "id": "708c3136",
   "metadata": {
    "execution": {
     "iopub.execute_input": "2023-11-07T12:30:38.292297Z",
     "iopub.status.busy": "2023-11-07T12:30:38.291874Z",
     "iopub.status.idle": "2023-11-07T12:30:38.303211Z",
     "shell.execute_reply": "2023-11-07T12:30:38.301990Z"
    },
    "id": "AZzpnLFc5OVU",
    "outputId": "de9ac216-7f4b-4c3a-af2e-b3102a1d084d",
    "papermill": {
     "duration": 0.035685,
     "end_time": "2023-11-07T12:30:38.305461",
     "exception": false,
     "start_time": "2023-11-07T12:30:38.269776",
     "status": "completed"
    },
    "tags": []
   },
   "outputs": [
    {
     "name": "stdout",
     "output_type": "stream",
     "text": [
      "[('Mr', 'NNP'), ('and', 'CC'), ('Mrs', 'NNP'), ('Dursley', 'NNP'), (',', ','), ('of', 'IN'), ('number', 'NN'), ('four', 'CD'), (',', ','), ('Privet', 'NNP'), ('Drive', 'NNP'), (',', ','), ('were', 'VBD'), ('proud', 'JJ'), ('to', 'TO'), ('say', 'VB'), ('that', 'IN'), ('they', 'PRP'), ('were', 'VBD'), ('perfectly', 'RB'), ('normal', 'JJ'), (',', ','), ('thank', 'NN'), ('you', 'PRP'), ('very', 'RB'), ('much', 'RB'), ('.', '.'), ('They', 'PRP'), ('were', 'VBD'), ('the', 'DT'), ('last', 'JJ'), ('people', 'NNS'), ('you', 'PRP'), ('’', 'VBP'), ('d', 'JJ'), ('expect', 'VBP'), ('to', 'TO'), ('be', 'VB'), ('involved', 'VBN'), ('in', 'IN'), ('anything', 'NN'), ('strange', 'JJ'), ('or', 'CC'), ('mysterious', 'JJ'), (',', ','), ('because', 'IN'), ('they', 'PRP'), ('just', 'RB'), ('didn', 'VBP'), ('’', 'JJ'), ('t', 'NN'), ('hold', 'NN'), ('with', 'IN'), ('such', 'JJ'), ('nonsense', 'NN'), ('.', '.')]\n"
     ]
    }
   ],
   "source": [
    "sentence = \"Mr and Mrs Dursley, of number four, Privet Drive, were proud to say \\\n",
    "that they were perfectly normal, thank you very much. They \\\n",
    "were the last people you’d expect to be involved in anything \\\n",
    "strange or mysterious, because they just didn’t hold with such \\\n",
    "nonsense.\"\n",
    "\n",
    "tokenized_sentence = nltk.word_tokenize(sentence)\n",
    "print(nltk.pos_tag(tokenized_sentence))"
   ]
  },
  {
   "cell_type": "markdown",
   "id": "f598f7f4",
   "metadata": {
    "id": "LcSn6vw46GHC",
    "papermill": {
     "duration": 0.020486,
     "end_time": "2023-11-07T12:30:38.346711",
     "exception": false,
     "start_time": "2023-11-07T12:30:38.326225",
     "status": "completed"
    },
    "tags": []
   },
   "source": [
    "## Transformer\n",
    "\n",
    "\n",
    "Transformers can be fine-tuned for NER."
   ]
  },
  {
   "cell_type": "code",
   "execution_count": 4,
   "id": "563353a8",
   "metadata": {
    "execution": {
     "iopub.execute_input": "2023-11-07T12:30:38.390114Z",
     "iopub.status.busy": "2023-11-07T12:30:38.389714Z",
     "iopub.status.idle": "2023-11-07T12:31:29.985015Z",
     "shell.execute_reply": "2023-11-07T12:31:29.983694Z"
    },
    "id": "TjPvcXLm54Mb",
    "outputId": "382e0419-7766-44b9-9ec9-997821a4f06b",
    "papermill": {
     "duration": 51.622509,
     "end_time": "2023-11-07T12:31:29.989860",
     "exception": false,
     "start_time": "2023-11-07T12:30:38.367351",
     "status": "completed"
    },
    "tags": []
   },
   "outputs": [
    {
     "name": "stdout",
     "output_type": "stream",
     "text": [
      "Requirement already satisfied: transformers in /opt/conda/lib/python3.10/site-packages (4.33.0)\r\n",
      "Requirement already satisfied: filelock in /opt/conda/lib/python3.10/site-packages (from transformers) (3.12.2)\r\n",
      "Requirement already satisfied: huggingface-hub<1.0,>=0.15.1 in /opt/conda/lib/python3.10/site-packages (from transformers) (0.16.4)\r\n",
      "Requirement already satisfied: numpy>=1.17 in /opt/conda/lib/python3.10/site-packages (from transformers) (1.23.5)\r\n",
      "Requirement already satisfied: packaging>=20.0 in /opt/conda/lib/python3.10/site-packages (from transformers) (21.3)\r\n",
      "Requirement already satisfied: pyyaml>=5.1 in /opt/conda/lib/python3.10/site-packages (from transformers) (6.0)\r\n",
      "Requirement already satisfied: regex!=2019.12.17 in /opt/conda/lib/python3.10/site-packages (from transformers) (2023.6.3)\r\n",
      "Requirement already satisfied: requests in /opt/conda/lib/python3.10/site-packages (from transformers) (2.31.0)\r\n",
      "Requirement already satisfied: tokenizers!=0.11.3,<0.14,>=0.11.1 in /opt/conda/lib/python3.10/site-packages (from transformers) (0.13.3)\r\n",
      "Requirement already satisfied: safetensors>=0.3.1 in /opt/conda/lib/python3.10/site-packages (from transformers) (0.3.3)\r\n",
      "Requirement already satisfied: tqdm>=4.27 in /opt/conda/lib/python3.10/site-packages (from transformers) (4.66.1)\r\n",
      "Requirement already satisfied: fsspec in /opt/conda/lib/python3.10/site-packages (from huggingface-hub<1.0,>=0.15.1->transformers) (2023.9.0)\r\n",
      "Requirement already satisfied: typing-extensions>=3.7.4.3 in /opt/conda/lib/python3.10/site-packages (from huggingface-hub<1.0,>=0.15.1->transformers) (4.6.3)\r\n",
      "Requirement already satisfied: pyparsing!=3.0.5,>=2.0.2 in /opt/conda/lib/python3.10/site-packages (from packaging>=20.0->transformers) (3.0.9)\r\n",
      "Requirement already satisfied: charset-normalizer<4,>=2 in /opt/conda/lib/python3.10/site-packages (from requests->transformers) (3.1.0)\r\n",
      "Requirement already satisfied: idna<4,>=2.5 in /opt/conda/lib/python3.10/site-packages (from requests->transformers) (3.4)\r\n",
      "Requirement already satisfied: urllib3<3,>=1.21.1 in /opt/conda/lib/python3.10/site-packages (from requests->transformers) (1.26.15)\r\n",
      "Requirement already satisfied: certifi>=2017.4.17 in /opt/conda/lib/python3.10/site-packages (from requests->transformers) (2023.7.22)\r\n"
     ]
    },
    {
     "data": {
      "application/vnd.jupyter.widget-view+json": {
       "model_id": "3f2e0e3d2d444099b8b872053d90081f",
       "version_major": 2,
       "version_minor": 0
      },
      "text/plain": [
       "Downloading (…)lve/main/config.json:   0%|          | 0.00/852 [00:00<?, ?B/s]"
      ]
     },
     "metadata": {},
     "output_type": "display_data"
    },
    {
     "data": {
      "application/vnd.jupyter.widget-view+json": {
       "model_id": "82d01acb0fe74c10b7ffdf7289f5b754",
       "version_major": 2,
       "version_minor": 0
      },
      "text/plain": [
       "Downloading (…)tencepiece.bpe.model:   0%|          | 0.00/5.07M [00:00<?, ?B/s]"
      ]
     },
     "metadata": {},
     "output_type": "display_data"
    },
    {
     "data": {
      "application/vnd.jupyter.widget-view+json": {
       "model_id": "8e2793f1552c4a6bad44f6bb99563d60",
       "version_major": 2,
       "version_minor": 0
      },
      "text/plain": [
       "Downloading (…)/main/tokenizer.json:   0%|          | 0.00/9.10M [00:00<?, ?B/s]"
      ]
     },
     "metadata": {},
     "output_type": "display_data"
    },
    {
     "data": {
      "application/vnd.jupyter.widget-view+json": {
       "model_id": "ad0ed299d005445bb432688a5c7e474a",
       "version_major": 2,
       "version_minor": 0
      },
      "text/plain": [
       "Downloading pytorch_model.bin:   0%|          | 0.00/2.24G [00:00<?, ?B/s]"
      ]
     },
     "metadata": {},
     "output_type": "display_data"
    },
    {
     "name": "stderr",
     "output_type": "stream",
     "text": [
      "Some weights of the model checkpoint at xlm-roberta-large-finetuned-conll03-english were not used when initializing XLMRobertaForTokenClassification: ['roberta.pooler.dense.bias', 'roberta.pooler.dense.weight']\n",
      "- This IS expected if you are initializing XLMRobertaForTokenClassification from the checkpoint of a model trained on another task or with another architecture (e.g. initializing a BertForSequenceClassification model from a BertForPreTraining model).\n",
      "- This IS NOT expected if you are initializing XLMRobertaForTokenClassification from the checkpoint of a model that you expect to be exactly identical (initializing a BertForSequenceClassification model from a BertForSequenceClassification model).\n"
     ]
    },
    {
     "name": "stdout",
     "output_type": "stream",
     "text": [
      "[{'entity': 'I-PER', 'score': 0.99999106, 'index': 4, 'word': '▁Dur', 'start': 11, 'end': 14}, {'entity': 'I-PER', 'score': 0.99996054, 'index': 5, 'word': 's', 'start': 14, 'end': 15}, {'entity': 'I-PER', 'score': 0.99997115, 'index': 6, 'word': 'ley', 'start': 15, 'end': 18}, {'entity': 'I-LOC', 'score': 0.9886058, 'index': 12, 'word': '▁Pri', 'start': 36, 'end': 39}, {'entity': 'I-LOC', 'score': 0.9981232, 'index': 13, 'word': 'vet', 'start': 39, 'end': 42}, {'entity': 'I-LOC', 'score': 0.9921381, 'index': 14, 'word': '▁Drive', 'start': 43, 'end': 48}]\n"
     ]
    }
   ],
   "source": [
    "! pip install transformers\n",
    "\n",
    "# ref: https://huggingface.co/51la5/roberta-large-NER\n",
    "from transformers import AutoTokenizer, AutoModelForTokenClassification\n",
    "from transformers import pipeline\n",
    "tokenizer = AutoTokenizer.from_pretrained(\"xlm-roberta-large-finetuned-conll03-english\")\n",
    "model = AutoModelForTokenClassification.from_pretrained(\"xlm-roberta-large-finetuned-conll03-english\")\n",
    "classifier = pipeline(\"ner\", model=model, tokenizer=tokenizer)\n",
    "\n",
    "sentence = \"Mr and Mrs Dursley, of number four, Privet Drive, were proud to say \\\n",
    "that they were perfectly normal, thank you very much. They \\\n",
    "were the last people you’d expect to be involved in anything \\\n",
    "strange or mysterious, because they just didn’t hold with such \\\n",
    "nonsense.\"\n",
    "\n",
    "ner_results = classifier(sentence)\n",
    "print(ner_results)"
   ]
  },
  {
   "cell_type": "markdown",
   "id": "aac4ea43",
   "metadata": {
    "id": "tF1u9yMGBdKO",
    "papermill": {
     "duration": 0.022742,
     "end_time": "2023-11-07T12:31:30.050680",
     "exception": false,
     "start_time": "2023-11-07T12:31:30.027938",
     "status": "completed"
    },
    "tags": []
   },
   "source": [
    "# Recurrent Neural Networks\n",
    "\n",
    "**Why do we need RNN's?**\n",
    "\n",
    "Think about a feed forward neural network (FFN). Let's say out model tries to find the next word using the previous ones. Since our memory and computational capacities are limited, we need to use n-grams:\n",
    "\n",
    "$x_{n+1} = f(x_1,x_2,x_3...x_n)$ where $f$ is the mapping function that FFN uses.\n",
    "\n",
    "This can raise the term called *limited context problem*. As we can only use n-prior words to predict the next one, the prediction usually becomes insufficient. In RNN, the weights are updated in each timestep in such a way that from beginning to end all the words  contribute to the final outcome (we will see how works).\n",
    "\n",
    "**The structure of RNN**\n",
    "\n",
    "![image.png](data:image/png;base64,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)\n",
    "\n",
    "\n",
    "&nbsp;\n",
    "\n",
    "## Training RNN\n",
    "\n",
    "The probability of next word being $i$ is:\n",
    "\n",
    "&nbsp;\n",
    "\n",
    "$P(w_{t+1} = i | w_1,w_2....w_t)$\n",
    "\n",
    "In RNN's the equation above is represented as $y[i]$.\n",
    "\n",
    "&nbsp;\n",
    "\n",
    "As sequence proceeds, weights are updated via *backpropagation*. The gradients are determined based on the alignment with the prediction probabilities and the next. How to measure this alignment? As always, cross entropy loss:\n",
    "\n",
    "&nbsp;\n",
    "\n",
    "$L_{CE} = - ∑y_t[w]*log(ŷ_t[w])$\n",
    "\n",
    " where $w$ is the word itself.\n",
    "\n",
    "\n",
    "\n"
   ]
  },
  {
   "cell_type": "markdown",
   "id": "9b2719f9",
   "metadata": {
    "id": "grpOwCwq5T-p",
    "papermill": {
     "duration": 0.021669,
     "end_time": "2023-11-07T12:31:30.099549",
     "exception": false,
     "start_time": "2023-11-07T12:31:30.077880",
     "status": "completed"
    },
    "tags": []
   },
   "source": [
    "## Coding RNN for Text Generation\n",
    "\n",
    "In practice, the text generation task consists the following steps:\n",
    "\n",
    "1. Create mapping functions (both ids from characters and characters from ids).\n",
    "2. Convert characters to ids and split the data like in the sliding windows.\n",
    "3. Create a model to train.\n",
    "4. Let the model generate text for you.\n",
    "\n",
    "I'm preparing this part utilizing the [text generation guide](https://www.tensorflow.org/text/tutorials/text_generation?hl=tr#download_the_shakespeare_dataset) published by Tensorflow. It is similar to that work, but I tried to explain each step as much as I could to ease up the learning process."
   ]
  },
  {
   "cell_type": "code",
   "execution_count": 5,
   "id": "c7e8b2af",
   "metadata": {
    "execution": {
     "iopub.execute_input": "2023-11-07T12:31:30.146031Z",
     "iopub.status.busy": "2023-11-07T12:31:30.145553Z",
     "iopub.status.idle": "2023-11-07T12:31:30.152174Z",
     "shell.execute_reply": "2023-11-07T12:31:30.150933Z"
    },
    "id": "16Hpk9HV6zB7",
    "papermill": {
     "duration": 0.0335,
     "end_time": "2023-11-07T12:31:30.155180",
     "exception": false,
     "start_time": "2023-11-07T12:31:30.121680",
     "status": "completed"
    },
    "tags": []
   },
   "outputs": [],
   "source": [
    "#import the libraries\n",
    "import tensorflow as tf\n",
    "from tensorflow.keras import layers\n",
    "import numpy as np"
   ]
  },
  {
   "cell_type": "code",
   "execution_count": 6,
   "id": "7b6bc46d",
   "metadata": {
    "execution": {
     "iopub.execute_input": "2023-11-07T12:31:30.226501Z",
     "iopub.status.busy": "2023-11-07T12:31:30.225874Z",
     "iopub.status.idle": "2023-11-07T12:31:30.625872Z",
     "shell.execute_reply": "2023-11-07T12:31:30.624362Z"
    },
    "id": "9_ESYmcFldzH",
    "outputId": "6967e940-4166-4829-9a8a-dc959ecd92b4",
    "papermill": {
     "duration": 0.439237,
     "end_time": "2023-11-07T12:31:30.628598",
     "exception": false,
     "start_time": "2023-11-07T12:31:30.189361",
     "status": "completed"
    },
    "tags": []
   },
   "outputs": [
    {
     "name": "stdout",
     "output_type": "stream",
     "text": [
      "Downloading data from https://storage.googleapis.com/download.tensorflow.org/data/shakespeare.txt\n",
      "1115394/1115394 [==============================] - 0s 0us/step\n",
      "First Citizen:\n",
      "Before we proceed any further, hear me speak.\n",
      "\n",
      "All:\n",
      "Speak, speak.\n",
      "\n",
      "First Citizen:\n",
      "You are all resolved rather to die than to famish?\n",
      "\n",
      "All:\n",
      "Resolved. resolved.\n",
      "\n",
      "First Citizen:\n",
      "First, you know Caius Marcius is chief enemy to the people.\n",
      "\n"
     ]
    }
   ],
   "source": [
    "#download the data from the source\n",
    "path_to_file = tf.keras.utils.get_file('shakespeare.txt', 'https://storage.googleapis.com/download.tensorflow.org/data/shakespeare.txt')\n",
    "\n",
    "#open and read the data\n",
    "with open(path_to_file,'rb') as f:\n",
    "  lines = f.read().decode(encoding='utf-8')\n",
    "f.close()\n",
    "\n",
    "#see how it looks like\n",
    "print(lines[:250])"
   ]
  },
  {
   "cell_type": "code",
   "execution_count": 7,
   "id": "2b145bc9",
   "metadata": {
    "execution": {
     "iopub.execute_input": "2023-11-07T12:31:30.741441Z",
     "iopub.status.busy": "2023-11-07T12:31:30.740916Z",
     "iopub.status.idle": "2023-11-07T12:31:30.747628Z",
     "shell.execute_reply": "2023-11-07T12:31:30.746450Z"
    },
    "id": "xbAc90NtuHBq",
    "papermill": {
     "duration": 0.098282,
     "end_time": "2023-11-07T12:31:30.749885",
     "exception": false,
     "start_time": "2023-11-07T12:31:30.651603",
     "status": "completed"
    },
    "tags": []
   },
   "outputs": [],
   "source": [
    "#remove the newline characters\n",
    "lines = lines.replace('\\n',' ')"
   ]
  },
  {
   "cell_type": "code",
   "execution_count": 8,
   "id": "1fd64b05",
   "metadata": {
    "execution": {
     "iopub.execute_input": "2023-11-07T12:31:30.797847Z",
     "iopub.status.busy": "2023-11-07T12:31:30.797048Z",
     "iopub.status.idle": "2023-11-07T12:31:30.821255Z",
     "shell.execute_reply": "2023-11-07T12:31:30.820373Z"
    },
    "id": "sm4PAL8WtcHD",
    "papermill": {
     "duration": 0.051446,
     "end_time": "2023-11-07T12:31:30.823897",
     "exception": false,
     "start_time": "2023-11-07T12:31:30.772451",
     "status": "completed"
    },
    "tags": []
   },
   "outputs": [],
   "source": [
    "#reduce the text into the letters using a set variable\n",
    "letters = sorted(set(lines))"
   ]
  },
  {
   "cell_type": "code",
   "execution_count": 9,
   "id": "d8d5c94a",
   "metadata": {
    "execution": {
     "iopub.execute_input": "2023-11-07T12:31:30.872285Z",
     "iopub.status.busy": "2023-11-07T12:31:30.871415Z",
     "iopub.status.idle": "2023-11-07T12:31:31.027572Z",
     "shell.execute_reply": "2023-11-07T12:31:31.026258Z"
    },
    "id": "0ByosDajtfrO",
    "outputId": "3fcde9e4-f0e1-4fa8-bfba-27f3f5b68f43",
    "papermill": {
     "duration": 0.184827,
     "end_time": "2023-11-07T12:31:31.031702",
     "exception": false,
     "start_time": "2023-11-07T12:31:30.846875",
     "status": "completed"
    },
    "tags": []
   },
   "outputs": [
    {
     "data": {
      "text/plain": [
       "<tf.Tensor: shape=(64,), dtype=int64, numpy=\n",
       "array([ 1,  2,  3,  4,  5,  6,  7,  8,  9, 10, 11, 12, 13, 14, 15, 16, 17,\n",
       "       18, 19, 20, 21, 22, 23, 24, 25, 26, 27, 28, 29, 30, 31, 32, 33, 34,\n",
       "       35, 36, 37, 38, 39, 40, 41, 42, 43, 44, 45, 46, 47, 48, 49, 50, 51,\n",
       "       52, 53, 54, 55, 56, 57, 58, 59, 60, 61, 62, 63, 64])>"
      ]
     },
     "execution_count": 9,
     "metadata": {},
     "output_type": "execute_result"
    }
   ],
   "source": [
    "#create char -> id mapping\n",
    "ids_from_chars = tf.keras.layers.StringLookup(vocabulary = list(letters))\n",
    "\n",
    "#encode the characters and see how its look like\n",
    "ids = ids_from_chars(letters)\n",
    "ids"
   ]
  },
  {
   "cell_type": "code",
   "execution_count": 10,
   "id": "5b1c140e",
   "metadata": {
    "execution": {
     "iopub.execute_input": "2023-11-07T12:31:31.080848Z",
     "iopub.status.busy": "2023-11-07T12:31:31.080072Z",
     "iopub.status.idle": "2023-11-07T12:31:31.107282Z",
     "shell.execute_reply": "2023-11-07T12:31:31.105650Z"
    },
    "id": "axB36t49vnTf",
    "outputId": "7aed6172-9594-4986-ff9c-55f63cd428d2",
    "papermill": {
     "duration": 0.054834,
     "end_time": "2023-11-07T12:31:31.110076",
     "exception": false,
     "start_time": "2023-11-07T12:31:31.055242",
     "status": "completed"
    },
    "tags": []
   },
   "outputs": [
    {
     "data": {
      "text/plain": [
       "<tf.Tensor: shape=(64,), dtype=string, numpy=\n",
       "array([b' ', b'!', b'$', b'&', b\"'\", b',', b'-', b'.', b'3', b':', b';',\n",
       "       b'?', b'A', b'B', b'C', b'D', b'E', b'F', b'G', b'H', b'I', b'J',\n",
       "       b'K', b'L', b'M', b'N', b'O', b'P', b'Q', b'R', b'S', b'T', b'U',\n",
       "       b'V', b'W', b'X', b'Y', b'Z', b'a', b'b', b'c', b'd', b'e', b'f',\n",
       "       b'g', b'h', b'i', b'j', b'k', b'l', b'm', b'n', b'o', b'p', b'q',\n",
       "       b'r', b's', b't', b'u', b'v', b'w', b'x', b'y', b'z'], dtype=object)>"
      ]
     },
     "execution_count": 10,
     "metadata": {},
     "output_type": "execute_result"
    }
   ],
   "source": [
    "#create id -> char mapping by using invert = True hyperparameter of StringLookup\n",
    "chars_from_ids = tf.keras.layers.StringLookup(vocabulary = letters, invert = True)\n",
    "\n",
    "#decode the ids\n",
    "chars = chars_from_ids(ids)\n",
    "chars"
   ]
  },
  {
   "cell_type": "markdown",
   "id": "8be85471",
   "metadata": {
    "id": "JmmaRD68wgrW",
    "papermill": {
     "duration": 0.023481,
     "end_time": "2023-11-07T12:31:31.159750",
     "exception": false,
     "start_time": "2023-11-07T12:31:31.136269",
     "status": "completed"
    },
    "tags": []
   },
   "source": [
    "Now, we will define a function that directly takes the outputs of the model, converts the outpus into the letters again and join them."
   ]
  },
  {
   "cell_type": "code",
   "execution_count": 11,
   "id": "d7c8534f",
   "metadata": {
    "execution": {
     "iopub.execute_input": "2023-11-07T12:31:31.213460Z",
     "iopub.status.busy": "2023-11-07T12:31:31.213034Z",
     "iopub.status.idle": "2023-11-07T12:31:31.218795Z",
     "shell.execute_reply": "2023-11-07T12:31:31.217402Z"
    },
    "id": "xp2YWSB5n-O_",
    "papermill": {
     "duration": 0.036747,
     "end_time": "2023-11-07T12:31:31.221337",
     "exception": false,
     "start_time": "2023-11-07T12:31:31.184590",
     "status": "completed"
    },
    "tags": []
   },
   "outputs": [],
   "source": [
    "#a function for joining the characters\n",
    "def text_from_ids(ids):\n",
    "  return tf.strings.reduce_join(chars_from_ids(ids), axis = -1)"
   ]
  },
  {
   "cell_type": "code",
   "execution_count": 12,
   "id": "564b9deb",
   "metadata": {
    "execution": {
     "iopub.execute_input": "2023-11-07T12:31:31.276702Z",
     "iopub.status.busy": "2023-11-07T12:31:31.275625Z",
     "iopub.status.idle": "2023-11-07T12:31:32.032407Z",
     "shell.execute_reply": "2023-11-07T12:31:32.031062Z"
    },
    "id": "QxCdG-uNosTW",
    "outputId": "d8a334a4-1a5d-4075-ecf8-87eedc6c38fa",
    "papermill": {
     "duration": 0.79072,
     "end_time": "2023-11-07T12:31:32.035623",
     "exception": false,
     "start_time": "2023-11-07T12:31:31.244903",
     "status": "completed"
    },
    "tags": []
   },
   "outputs": [
    {
     "data": {
      "text/plain": [
       "<tf.Tensor: shape=(1115394,), dtype=int64, numpy=array([18, 47, 56, ..., 45,  8,  1])>"
      ]
     },
     "execution_count": 12,
     "metadata": {},
     "output_type": "execute_result"
    }
   ],
   "source": [
    "#split the lines into characters and encode them using char -> id mapping function\n",
    "encoded_text = ids_from_chars(tf.strings.unicode_split(lines, 'UTF-8'))\n",
    "encoded_text"
   ]
  },
  {
   "cell_type": "code",
   "execution_count": 13,
   "id": "e52319f6",
   "metadata": {
    "execution": {
     "iopub.execute_input": "2023-11-07T12:31:32.102053Z",
     "iopub.status.busy": "2023-11-07T12:31:32.101642Z",
     "iopub.status.idle": "2023-11-07T12:31:32.110908Z",
     "shell.execute_reply": "2023-11-07T12:31:32.109159Z"
    },
    "id": "eDxrqo-mzAdN",
    "papermill": {
     "duration": 0.049223,
     "end_time": "2023-11-07T12:31:32.113817",
     "exception": false,
     "start_time": "2023-11-07T12:31:32.064594",
     "status": "completed"
    },
    "tags": []
   },
   "outputs": [],
   "source": [
    "#create a custom tensoflow dataset\n",
    "ids_dataset = tf.data.Dataset.from_tensor_slices(encoded_text)"
   ]
  },
  {
   "cell_type": "markdown",
   "id": "d0f1ae22",
   "metadata": {
    "id": "yx0719ECz5oU",
    "papermill": {
     "duration": 0.028785,
     "end_time": "2023-11-07T12:31:32.171530",
     "exception": false,
     "start_time": "2023-11-07T12:31:32.142745",
     "status": "completed"
    },
    "tags": []
   },
   "source": [
    "After defining the sequence length to calculate the examples per epoch we will devide sequence_length + 1. This +1 comes from the character to predict."
   ]
  },
  {
   "cell_type": "code",
   "execution_count": 14,
   "id": "1394bd30",
   "metadata": {
    "execution": {
     "iopub.execute_input": "2023-11-07T12:31:32.231237Z",
     "iopub.status.busy": "2023-11-07T12:31:32.229956Z",
     "iopub.status.idle": "2023-11-07T12:31:32.235769Z",
     "shell.execute_reply": "2023-11-07T12:31:32.234908Z"
    },
    "id": "2PWeDd_lzAgH",
    "papermill": {
     "duration": 0.034269,
     "end_time": "2023-11-07T12:31:32.238200",
     "exception": false,
     "start_time": "2023-11-07T12:31:32.203931",
     "status": "completed"
    },
    "tags": []
   },
   "outputs": [],
   "source": [
    "SEQ_LENGTH = 100\n",
    "example_per_epoch = len(lines)//(SEQ_LENGTH+1)"
   ]
  },
  {
   "cell_type": "code",
   "execution_count": 15,
   "id": "ca893e04",
   "metadata": {
    "execution": {
     "iopub.execute_input": "2023-11-07T12:31:32.290905Z",
     "iopub.status.busy": "2023-11-07T12:31:32.290354Z",
     "iopub.status.idle": "2023-11-07T12:31:32.304539Z",
     "shell.execute_reply": "2023-11-07T12:31:32.303720Z"
    },
    "id": "huEM4HAAzAi9",
    "papermill": {
     "duration": 0.043968,
     "end_time": "2023-11-07T12:31:32.307191",
     "exception": false,
     "start_time": "2023-11-07T12:31:32.263223",
     "status": "completed"
    },
    "tags": []
   },
   "outputs": [],
   "source": [
    "#create sequences automatically by batching the dataset\n",
    "sequences = ids_dataset.batch(SEQ_LENGTH+1,drop_remainder = True) #drop_remainder drops the residual characters that couldn't complete the sequence length"
   ]
  },
  {
   "cell_type": "code",
   "execution_count": 16,
   "id": "7837dc57",
   "metadata": {
    "execution": {
     "iopub.execute_input": "2023-11-07T12:31:32.367171Z",
     "iopub.status.busy": "2023-11-07T12:31:32.365903Z",
     "iopub.status.idle": "2023-11-07T12:31:32.452193Z",
     "shell.execute_reply": "2023-11-07T12:31:32.450264Z"
    },
    "id": "wG8PAEqTzAmD",
    "outputId": "dae21e25-575d-4a64-fdc4-23333e695f1b",
    "papermill": {
     "duration": 0.119973,
     "end_time": "2023-11-07T12:31:32.455421",
     "exception": false,
     "start_time": "2023-11-07T12:31:32.335448",
     "status": "completed"
    },
    "tags": []
   },
   "outputs": [
    {
     "name": "stdout",
     "output_type": "stream",
     "text": [
      "tf.Tensor(\n",
      "[b'F' b'i' b'r' b's' b't' b' ' b'C' b'i' b't' b'i' b'z' b'e' b'n' b':'\n",
      " b' ' b'B' b'e' b'f' b'o' b'r' b'e' b' ' b'w' b'e' b' ' b'p' b'r' b'o'\n",
      " b'c' b'e' b'e' b'd' b' ' b'a' b'n' b'y' b' ' b'f' b'u' b'r' b't' b'h'\n",
      " b'e' b'r' b',' b' ' b'h' b'e' b'a' b'r' b' ' b'm' b'e' b' ' b's' b'p'\n",
      " b'e' b'a' b'k' b'.' b' ' b' ' b'A' b'l' b'l' b':' b' ' b'S' b'p' b'e'\n",
      " b'a' b'k' b',' b' ' b's' b'p' b'e' b'a' b'k' b'.' b' ' b' ' b'F' b'i'\n",
      " b'r' b's' b't' b' ' b'C' b'i' b't' b'i' b'z' b'e' b'n' b':' b' ' b'Y'\n",
      " b'o' b'u' b' '], shape=(101,), dtype=string)\n"
     ]
    }
   ],
   "source": [
    "#see how it looks like\n",
    "for seq in sequences.take(1):\n",
    "  print(chars_from_ids(seq))"
   ]
  },
  {
   "cell_type": "code",
   "execution_count": 17,
   "id": "a6006e5e",
   "metadata": {
    "execution": {
     "iopub.execute_input": "2023-11-07T12:31:32.516018Z",
     "iopub.status.busy": "2023-11-07T12:31:32.514913Z",
     "iopub.status.idle": "2023-11-07T12:31:32.538669Z",
     "shell.execute_reply": "2023-11-07T12:31:32.537433Z"
    },
    "id": "6oibeSYQzAoX",
    "outputId": "534fd6cc-1368-4da5-f791-2e642d7f1510",
    "papermill": {
     "duration": 0.05748,
     "end_time": "2023-11-07T12:31:32.541543",
     "exception": false,
     "start_time": "2023-11-07T12:31:32.484063",
     "status": "completed"
    },
    "tags": []
   },
   "outputs": [
    {
     "name": "stdout",
     "output_type": "stream",
     "text": [
      "b'First Citizen: Before we proceed any further, hear me speak.  All: Speak, speak.  First Citizen: You '\n",
      "b'are all resolved rather to die than to famish?  All: Resolved. resolved.  First Citizen: First, you k'\n",
      "b\"now Caius Marcius is chief enemy to the people.  All: We know't, we know't.  First Citizen: Let us ki\"\n",
      "b\"ll him, and we'll have corn at our own price. Is't a verdict?  All: No more talking on't; let it be d\"\n",
      "b'one: away, away!  Second Citizen: One word, good citizens.  First Citizen: We are accounted poor citi'\n"
     ]
    }
   ],
   "source": [
    "#see how it looks like\n",
    "for seq in sequences.take(5):\n",
    "  print(text_from_ids(seq).numpy())"
   ]
  },
  {
   "cell_type": "markdown",
   "id": "0abe49a8",
   "metadata": {
    "id": "XX6MvKOs1Kll",
    "papermill": {
     "duration": 0.029159,
     "end_time": "2023-11-07T12:31:32.597709",
     "exception": false,
     "start_time": "2023-11-07T12:31:32.568550",
     "status": "completed"
    },
    "tags": []
   },
   "source": [
    "By using `map()` method of `tf.dataset`, we can group the characters to training and predicting."
   ]
  },
  {
   "cell_type": "code",
   "execution_count": 18,
   "id": "2312025e",
   "metadata": {
    "execution": {
     "iopub.execute_input": "2023-11-07T12:31:32.660788Z",
     "iopub.status.busy": "2023-11-07T12:31:32.660061Z",
     "iopub.status.idle": "2023-11-07T12:31:32.665634Z",
     "shell.execute_reply": "2023-11-07T12:31:32.664822Z"
    },
    "id": "uA2U3VAjzArD",
    "papermill": {
     "duration": 0.041908,
     "end_time": "2023-11-07T12:31:32.667981",
     "exception": false,
     "start_time": "2023-11-07T12:31:32.626073",
     "status": "completed"
    },
    "tags": []
   },
   "outputs": [],
   "source": [
    "#defining a function for map()\n",
    "def split_input_target(sequence):\n",
    "  input_text = sequence[:-1]\n",
    "  target_text = sequence[1:]\n",
    "  return input_text,target_text"
   ]
  },
  {
   "cell_type": "code",
   "execution_count": 19,
   "id": "e6b5bc62",
   "metadata": {
    "execution": {
     "iopub.execute_input": "2023-11-07T12:31:32.724806Z",
     "iopub.status.busy": "2023-11-07T12:31:32.724095Z",
     "iopub.status.idle": "2023-11-07T12:31:32.840556Z",
     "shell.execute_reply": "2023-11-07T12:31:32.839182Z"
    },
    "id": "mKwxV4olzAtX",
    "outputId": "a6094fea-dd3e-4324-9ef4-6d228c691269",
    "papermill": {
     "duration": 0.149814,
     "end_time": "2023-11-07T12:31:32.843253",
     "exception": false,
     "start_time": "2023-11-07T12:31:32.693439",
     "status": "completed"
    },
    "tags": []
   },
   "outputs": [
    {
     "name": "stdout",
     "output_type": "stream",
     "text": [
      "tf.Tensor(\n",
      "[18 47 56 57 58  1 15 47 58 47 64 43 52 10  1 14 43 44 53 56 43  1 61 43\n",
      "  1 54 56 53 41 43 43 42  1 39 52 63  1 44 59 56 58 46 43 56  6  1 46 43\n",
      " 39 56  1 51 43  1 57 54 43 39 49  8  1  1 13 50 50 10  1 31 54 43 39 49\n",
      "  6  1 57 54 43 39 49  8  1  1 18 47 56 57 58  1 15 47 58 47 64 43 52 10\n",
      "  1 37 53 59], shape=(100,), dtype=int64)\n",
      "tf.Tensor(\n",
      "[47 56 57 58  1 15 47 58 47 64 43 52 10  1 14 43 44 53 56 43  1 61 43  1\n",
      " 54 56 53 41 43 43 42  1 39 52 63  1 44 59 56 58 46 43 56  6  1 46 43 39\n",
      " 56  1 51 43  1 57 54 43 39 49  8  1  1 13 50 50 10  1 31 54 43 39 49  6\n",
      "  1 57 54 43 39 49  8  1  1 18 47 56 57 58  1 15 47 58 47 64 43 52 10  1\n",
      " 37 53 59  1], shape=(100,), dtype=int64)\n"
     ]
    }
   ],
   "source": [
    "#apply the function to the tf dataset\n",
    "dataset = sequences.map(split_input_target)\n",
    "\n",
    "#get samples\n",
    "for input_text, target_text in dataset.take(1):\n",
    "  print(input_text)\n",
    "  print(target_text)"
   ]
  },
  {
   "cell_type": "markdown",
   "id": "0d10b354",
   "metadata": {
    "id": "huiQ0ZKj2Ezu",
    "papermill": {
     "duration": 0.025312,
     "end_time": "2023-11-07T12:31:32.894700",
     "exception": false,
     "start_time": "2023-11-07T12:31:32.869388",
     "status": "completed"
    },
    "tags": []
   },
   "source": [
    "Let's do the same thing after reverting the characters back."
   ]
  },
  {
   "cell_type": "code",
   "execution_count": 20,
   "id": "cc42588f",
   "metadata": {
    "execution": {
     "iopub.execute_input": "2023-11-07T12:31:32.950483Z",
     "iopub.status.busy": "2023-11-07T12:31:32.949709Z",
     "iopub.status.idle": "2023-11-07T12:31:32.995013Z",
     "shell.execute_reply": "2023-11-07T12:31:32.993044Z"
    },
    "id": "csvAj0wS2L6-",
    "outputId": "2dcb10b5-8d8c-4d2c-dcf5-31b71dec341e",
    "papermill": {
     "duration": 0.076644,
     "end_time": "2023-11-07T12:31:32.997490",
     "exception": false,
     "start_time": "2023-11-07T12:31:32.920846",
     "status": "completed"
    },
    "tags": []
   },
   "outputs": [
    {
     "name": "stdout",
     "output_type": "stream",
     "text": [
      "b'First Citizen: Before we proceed any further, hear me speak.  All: Speak, speak.  First Citizen: You'\n",
      "b'irst Citizen: Before we proceed any further, hear me speak.  All: Speak, speak.  First Citizen: You '\n"
     ]
    }
   ],
   "source": [
    "for input_text, target_text in dataset.take(1):\n",
    "  print(text_from_ids(input_text).numpy())\n",
    "  print(text_from_ids(target_text).numpy())"
   ]
  },
  {
   "cell_type": "code",
   "execution_count": 21,
   "id": "e01ea440",
   "metadata": {
    "execution": {
     "iopub.execute_input": "2023-11-07T12:31:33.052174Z",
     "iopub.status.busy": "2023-11-07T12:31:33.051416Z",
     "iopub.status.idle": "2023-11-07T12:31:33.065679Z",
     "shell.execute_reply": "2023-11-07T12:31:33.064535Z"
    },
    "id": "dypI0vpX21Eo",
    "papermill": {
     "duration": 0.045643,
     "end_time": "2023-11-07T12:31:33.068282",
     "exception": false,
     "start_time": "2023-11-07T12:31:33.022639",
     "status": "completed"
    },
    "tags": []
   },
   "outputs": [],
   "source": [
    "#prepare the dataset for optimal performance\n",
    "dataset = dataset.shuffle(1000).batch(64).prefetch(tf.data.AUTOTUNE)"
   ]
  },
  {
   "cell_type": "code",
   "execution_count": 22,
   "id": "28e39f66",
   "metadata": {
    "execution": {
     "iopub.execute_input": "2023-11-07T12:31:33.120900Z",
     "iopub.status.busy": "2023-11-07T12:31:33.120479Z",
     "iopub.status.idle": "2023-11-07T12:39:43.186087Z",
     "shell.execute_reply": "2023-11-07T12:39:43.184711Z"
    },
    "id": "dddElv-z21Hl",
    "outputId": "923afc7d-0382-419c-c3c4-3f4fa790a0f6",
    "papermill": {
     "duration": 490.094697,
     "end_time": "2023-11-07T12:39:43.188713",
     "exception": false,
     "start_time": "2023-11-07T12:31:33.094016",
     "status": "completed"
    },
    "tags": []
   },
   "outputs": [
    {
     "name": "stdout",
     "output_type": "stream",
     "text": [
      "173/173 [==============================] - 490s 3s/step - loss: 2.6928\n"
     ]
    }
   ],
   "source": [
    "#copy from the source\n",
    "class MyModel(tf.keras.Model):\n",
    "  def __init__(self, vocab_size, embedding_dim, rnn_units):\n",
    "    super().__init__(self)\n",
    "    self.embedding = tf.keras.layers.Embedding(vocab_size, embedding_dim)\n",
    "    self.gru = tf.keras.layers.GRU(rnn_units,\n",
    "                                   return_sequences=True,\n",
    "                                   return_state=True)\n",
    "    self.dense = tf.keras.layers.Dense(vocab_size)\n",
    "\n",
    "  def call(self, inputs, states=None, return_state=False, training=False):\n",
    "    x = inputs\n",
    "    x = self.embedding(x, training=training)\n",
    "    if states is None:\n",
    "      states = self.gru.get_initial_state(x)\n",
    "    x, states = self.gru(x, initial_state=states, training=training)\n",
    "    x = self.dense(x, training=training)\n",
    "\n",
    "    if return_state:\n",
    "      return x, states\n",
    "    else:\n",
    "      return x\n",
    "\n",
    "# Length of the vocabulary in chars\n",
    "vocab_size = len(letters)\n",
    "\n",
    "# The embedding dimension\n",
    "embedding_dim = 256\n",
    "\n",
    "# Number of RNN units\n",
    "rnn_units = 1024\n",
    "\n",
    "model = MyModel(\n",
    "    # Be sure the vocabulary size matches the `StringLookup` layers.\n",
    "    vocab_size=len(ids_from_chars.get_vocabulary()),\n",
    "    embedding_dim=embedding_dim,\n",
    "    rnn_units=rnn_units)\n",
    "\n",
    "loss = tf.losses.SparseCategoricalCrossentropy(from_logits=True)\n",
    "model.compile(optimizer='adam', loss=loss)\n",
    "history = model.fit(dataset, epochs=1)"
   ]
  },
  {
   "cell_type": "markdown",
   "id": "450c281b",
   "metadata": {
    "id": "CAFysC-gG3qa",
    "papermill": {
     "duration": 0.040587,
     "end_time": "2023-11-07T12:39:43.270724",
     "exception": false,
     "start_time": "2023-11-07T12:39:43.230137",
     "status": "completed"
    },
    "tags": []
   },
   "source": [
    "## NER with RNN's\n",
    "\n",
    "Named Entity Recognition using RNN's are pretty similar with the text generation. In text generation the output probabilities are calculated using $|V|$ (vocabulary in the corpus) number of neurons and softmax activation. In sequence labeling, we use tag number of neurons and softmax activation.\n",
    "\n"
   ]
  },
  {
   "cell_type": "markdown",
   "id": "ad2fcb2f",
   "metadata": {
    "id": "ZxZ9glbheIYV",
    "papermill": {
     "duration": 0.040279,
     "end_time": "2023-11-07T12:39:43.351571",
     "exception": false,
     "start_time": "2023-11-07T12:39:43.311292",
     "status": "completed"
    },
    "tags": []
   },
   "source": [
    "## Text Classification Using RNN's\n",
    "\n",
    "To use RNN's for text classification, we also need to employ a FFN. While building architecture, we have two options:\n",
    "\n",
    "1. Feeding the hidden state at time $t = t_{n}$ (last time step) to the FFN structure (source: Jurafsky, D., Martin, J. H. (2009). Speech and language processing).\n",
    "\n",
    "![image.png](data:image/png;base64,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)\n",
    "\n",
    "2. Averaging the hidden states from the beginning and feed this average to the FFN:\n",
    "\n",
    "$h_{avg} = \\frac 1 n ∑_{i=1}^n h_i$"
   ]
  },
  {
   "cell_type": "code",
   "execution_count": 23,
   "id": "0287eaee",
   "metadata": {
    "execution": {
     "iopub.execute_input": "2023-11-07T12:39:43.436911Z",
     "iopub.status.busy": "2023-11-07T12:39:43.435615Z",
     "iopub.status.idle": "2023-11-07T12:39:43.443008Z",
     "shell.execute_reply": "2023-11-07T12:39:43.441984Z"
    },
    "id": "VAAfdiN2c18Z",
    "papermill": {
     "duration": 0.052259,
     "end_time": "2023-11-07T12:39:43.445477",
     "exception": false,
     "start_time": "2023-11-07T12:39:43.393218",
     "status": "completed"
    },
    "tags": []
   },
   "outputs": [],
   "source": [
    "#import the libraries\n",
    "import tensorflow as tf\n",
    "from tensorflow.keras import layers\n",
    "from tensorflow.keras.datasets import imdb\n",
    "from tensorflow.keras.preprocessing.sequence import pad_sequences"
   ]
  },
  {
   "cell_type": "code",
   "execution_count": 24,
   "id": "635ac231",
   "metadata": {
    "execution": {
     "iopub.execute_input": "2023-11-07T12:39:43.529294Z",
     "iopub.status.busy": "2023-11-07T12:39:43.528890Z",
     "iopub.status.idle": "2023-11-07T12:39:50.588240Z",
     "shell.execute_reply": "2023-11-07T12:39:50.586677Z"
    },
    "id": "cAGyoj_2c2NQ",
    "outputId": "6c5df1ec-f2b1-479d-e157-eaa11c1f3041",
    "papermill": {
     "duration": 7.104446,
     "end_time": "2023-11-07T12:39:50.591204",
     "exception": false,
     "start_time": "2023-11-07T12:39:43.486758",
     "status": "completed"
    },
    "tags": []
   },
   "outputs": [
    {
     "name": "stdout",
     "output_type": "stream",
     "text": [
      "Downloading data from https://storage.googleapis.com/tensorflow/tf-keras-datasets/imdb.npz\n",
      "17464789/17464789 [==============================] - 1s 0us/step\n"
     ]
    }
   ],
   "source": [
    "NUMBER_OF_WORDS = 1000 #set the number of words to get from the dataset amnually\n",
    "MAX_LEN = 500 #set the padding length\n",
    "(x_train,y_train),(x_test,y_test) = imdb.load_data(num_words = NUMBER_OF_WORDS)"
   ]
  },
  {
   "cell_type": "code",
   "execution_count": 25,
   "id": "d5411881",
   "metadata": {
    "execution": {
     "iopub.execute_input": "2023-11-07T12:39:50.678351Z",
     "iopub.status.busy": "2023-11-07T12:39:50.677693Z",
     "iopub.status.idle": "2023-11-07T12:39:50.682850Z",
     "shell.execute_reply": "2023-11-07T12:39:50.681873Z"
    },
    "id": "jbAbXk2mhNFz",
    "outputId": "419e8744-de89-4eb7-b2ba-ccf9dae8cb8f",
    "papermill": {
     "duration": 0.051538,
     "end_time": "2023-11-07T12:39:50.685157",
     "exception": false,
     "start_time": "2023-11-07T12:39:50.633619",
     "status": "completed"
    },
    "tags": []
   },
   "outputs": [
    {
     "name": "stdout",
     "output_type": "stream",
     "text": [
      "[1, 14, 22, 16, 43, 530, 973, 2, 2, 65, 458, 2, 66, 2, 4, 173, 36, 256, 5, 25, 100, 43, 838, 112, 50, 670, 2, 9, 35, 480, 284, 5, 150, 4, 172, 112, 167, 2, 336, 385, 39, 4, 172, 2, 2, 17, 546, 38, 13, 447, 4, 192, 50, 16, 6, 147, 2, 19, 14, 22, 4, 2, 2, 469, 4, 22, 71, 87, 12, 16, 43, 530, 38, 76, 15, 13, 2, 4, 22, 17, 515, 17, 12, 16, 626, 18, 2, 5, 62, 386, 12, 8, 316, 8, 106, 5, 4, 2, 2, 16, 480, 66, 2, 33, 4, 130, 12, 16, 38, 619, 5, 25, 124, 51, 36, 135, 48, 25, 2, 33, 6, 22, 12, 215, 28, 77, 52, 5, 14, 407, 16, 82, 2, 8, 4, 107, 117, 2, 15, 256, 4, 2, 7, 2, 5, 723, 36, 71, 43, 530, 476, 26, 400, 317, 46, 7, 4, 2, 2, 13, 104, 88, 4, 381, 15, 297, 98, 32, 2, 56, 26, 141, 6, 194, 2, 18, 4, 226, 22, 21, 134, 476, 26, 480, 5, 144, 30, 2, 18, 51, 36, 28, 224, 92, 25, 104, 4, 226, 65, 16, 38, 2, 88, 12, 16, 283, 5, 16, 2, 113, 103, 32, 15, 16, 2, 19, 178, 32]\n",
      "(25000,) (25000,)\n"
     ]
    }
   ],
   "source": [
    "#get samples\n",
    "print(x_train[0])\n",
    "print(x_train.shape,y_train.shape)"
   ]
  },
  {
   "cell_type": "markdown",
   "id": "08b16829",
   "metadata": {
    "id": "_jP1PPOmh93m",
    "papermill": {
     "duration": 0.042073,
     "end_time": "2023-11-07T12:39:50.770358",
     "exception": false,
     "start_time": "2023-11-07T12:39:50.728285",
     "status": "completed"
    },
    "tags": []
   },
   "source": [
    "The words have already been tokenized. All we have to do is to stabilize the dimensions (The reviews have different length, therefore we can not feed them directly to an Embedding layer.). To accomplish this, we can use padding operation.\n",
    "\n",
    "Padding operation is an attempt for the stabilizing the input dimensions by adding zeros to either beginning or to the end of a sequence.\n",
    "\n",
    "\n",
    "\n"
   ]
  },
  {
   "cell_type": "code",
   "execution_count": 26,
   "id": "9328a5dd",
   "metadata": {
    "execution": {
     "iopub.execute_input": "2023-11-07T12:39:50.859658Z",
     "iopub.status.busy": "2023-11-07T12:39:50.858593Z",
     "iopub.status.idle": "2023-11-07T12:39:50.866279Z",
     "shell.execute_reply": "2023-11-07T12:39:50.865047Z"
    },
    "id": "XCq_Z0Rfkhpf",
    "outputId": "74d447a8-3da9-45df-99ab-bb861e7dcb83",
    "papermill": {
     "duration": 0.055491,
     "end_time": "2023-11-07T12:39:50.868796",
     "exception": false,
     "start_time": "2023-11-07T12:39:50.813305",
     "status": "completed"
    },
    "tags": []
   },
   "outputs": [
    {
     "data": {
      "text/plain": [
       "(218, 189)"
      ]
     },
     "execution_count": 26,
     "metadata": {},
     "output_type": "execute_result"
    }
   ],
   "source": [
    "#we have to equalize the length of the sequences\n",
    "len(x_train[0]),len(x_train[1])"
   ]
  },
  {
   "cell_type": "code",
   "execution_count": 27,
   "id": "f99a9038",
   "metadata": {
    "execution": {
     "iopub.execute_input": "2023-11-07T12:39:50.958181Z",
     "iopub.status.busy": "2023-11-07T12:39:50.957766Z",
     "iopub.status.idle": "2023-11-07T12:39:52.396590Z",
     "shell.execute_reply": "2023-11-07T12:39:52.395400Z"
    },
    "id": "Lb650YS3lgez",
    "papermill": {
     "duration": 1.485816,
     "end_time": "2023-11-07T12:39:52.399419",
     "exception": false,
     "start_time": "2023-11-07T12:39:50.913603",
     "status": "completed"
    },
    "tags": []
   },
   "outputs": [],
   "source": [
    "#pad training and test sequences\n",
    "x_train = pad_sequences(x_train,maxlen = MAX_LEN)\n",
    "x_test = pad_sequences(x_test,maxlen = MAX_LEN)"
   ]
  },
  {
   "cell_type": "code",
   "execution_count": 28,
   "id": "097069d2",
   "metadata": {
    "execution": {
     "iopub.execute_input": "2023-11-07T12:39:52.486918Z",
     "iopub.status.busy": "2023-11-07T12:39:52.486542Z",
     "iopub.status.idle": "2023-11-07T12:39:52.493640Z",
     "shell.execute_reply": "2023-11-07T12:39:52.492491Z"
    },
    "id": "3Nc1tkl1lu9q",
    "outputId": "1d67faf8-f49f-4eb7-acee-a5aee7aad94d",
    "papermill": {
     "duration": 0.053894,
     "end_time": "2023-11-07T12:39:52.496122",
     "exception": false,
     "start_time": "2023-11-07T12:39:52.442228",
     "status": "completed"
    },
    "tags": []
   },
   "outputs": [
    {
     "data": {
      "text/plain": [
       "((25000, 500), (25000, 500))"
      ]
     },
     "execution_count": 28,
     "metadata": {},
     "output_type": "execute_result"
    }
   ],
   "source": [
    "x_train.shape,x_test.shape"
   ]
  },
  {
   "cell_type": "markdown",
   "id": "1df8191d",
   "metadata": {
    "id": "Hv-cTyb3l5GG",
    "papermill": {
     "duration": 0.042623,
     "end_time": "2023-11-07T12:39:52.581318",
     "exception": false,
     "start_time": "2023-11-07T12:39:52.538695",
     "status": "completed"
    },
    "tags": []
   },
   "source": [
    "Now our sequences have constant length. Therefore they can be put into an Embedding layer."
   ]
  },
  {
   "cell_type": "code",
   "execution_count": 29,
   "id": "96be9b01",
   "metadata": {
    "execution": {
     "iopub.execute_input": "2023-11-07T12:39:52.669717Z",
     "iopub.status.busy": "2023-11-07T12:39:52.669322Z",
     "iopub.status.idle": "2023-11-07T12:42:16.250574Z",
     "shell.execute_reply": "2023-11-07T12:42:16.249297Z"
    },
    "id": "-qIBnbgbc2Rj",
    "outputId": "5c24f8dd-f973-4ca3-ec6f-dd2d0b34fae0",
    "papermill": {
     "duration": 143.742681,
     "end_time": "2023-11-07T12:42:16.366817",
     "exception": false,
     "start_time": "2023-11-07T12:39:52.624136",
     "status": "completed"
    },
    "tags": []
   },
   "outputs": [
    {
     "name": "stdout",
     "output_type": "stream",
     "text": [
      "782/782 [==============================] - 90s 114ms/step - loss: 0.6581 - accuracy: 0.6080\n"
     ]
    },
    {
     "data": {
      "text/plain": [
       "<keras.callbacks.History at 0x7b08c4265e10>"
      ]
     },
     "execution_count": 29,
     "metadata": {},
     "output_type": "execute_result"
    }
   ],
   "source": [
    "model = tf.keras.Sequential([\n",
    "    layers.Embedding(input_dim = NUMBER_OF_WORDS,output_dim = 32,input_length = MAX_LEN),\n",
    "    layers.SimpleRNN(units = 32),\n",
    "    layers.Dense(1,activation = 'sigmoid')\n",
    "])\n",
    "\n",
    "model.compile(optimizer = 'adam',\n",
    "              loss = 'binary_crossentropy',\n",
    "              metrics = ['accuracy'])\n",
    "\n",
    "model.fit(x_train,y_train,batch_size = 32)"
   ]
  },
  {
   "cell_type": "code",
   "execution_count": 30,
   "id": "5753fae4",
   "metadata": {
    "execution": {
     "iopub.execute_input": "2023-11-07T12:42:16.597889Z",
     "iopub.status.busy": "2023-11-07T12:42:16.597471Z",
     "iopub.status.idle": "2023-11-07T12:42:16.620333Z",
     "shell.execute_reply": "2023-11-07T12:42:16.619110Z"
    },
    "id": "Y9sw-XdapY34",
    "outputId": "604f6256-51c6-4df6-9a11-e91ccd708863",
    "papermill": {
     "duration": 0.143547,
     "end_time": "2023-11-07T12:42:16.624998",
     "exception": false,
     "start_time": "2023-11-07T12:42:16.481451",
     "status": "completed"
    },
    "tags": []
   },
   "outputs": [
    {
     "name": "stdout",
     "output_type": "stream",
     "text": [
      "Model: \"sequential\"\n",
      "_________________________________________________________________\n",
      " Layer (type)                Output Shape              Param #   \n",
      "=================================================================\n",
      " embedding_1 (Embedding)     (None, 500, 32)           32000     \n",
      "                                                                 \n",
      " simple_rnn (SimpleRNN)      (None, 32)                2080      \n",
      "                                                                 \n",
      " dense_1 (Dense)             (None, 1)                 33        \n",
      "                                                                 \n",
      "=================================================================\n",
      "Total params: 34,113\n",
      "Trainable params: 34,113\n",
      "Non-trainable params: 0\n",
      "_________________________________________________________________\n"
     ]
    }
   ],
   "source": [
    "model.summary()"
   ]
  },
  {
   "cell_type": "markdown",
   "id": "22c78b80",
   "metadata": {
    "id": "rIt4-qpBteA4",
    "papermill": {
     "duration": 0.116451,
     "end_time": "2023-11-07T12:42:16.857087",
     "exception": false,
     "start_time": "2023-11-07T12:42:16.740636",
     "status": "completed"
    },
    "tags": []
   },
   "source": [
    "## Stacked RNN's\n",
    "\n",
    "We can arrange the configuration of a text classification model different from the previous one to improve the prediction performance.\n",
    "\n",
    "\n",
    "A common way to build a RNN architecture is to stack a couple of RNN units together.\n",
    "\n",
    "(source: Jurafsky, D., Martin, J. H. (2009). Speech and language processing)\n",
    "\n",
    "![image.png](data:image/png;base64,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)\n",
    "\n",
    "Each member of the stack, gets *all* the hidden states from the previous one `(return_sequences = True)`. This operation generally increases the performance of the model. Similar to the CNN architecture, stacking more than one RNN layers may further improve the abstraction quality.\n",
    "\n"
   ]
  },
  {
   "cell_type": "code",
   "execution_count": 31,
   "id": "1a1eb9c3",
   "metadata": {
    "execution": {
     "iopub.execute_input": "2023-11-07T12:42:17.088213Z",
     "iopub.status.busy": "2023-11-07T12:42:17.087750Z",
     "iopub.status.idle": "2023-11-07T12:45:41.568895Z",
     "shell.execute_reply": "2023-11-07T12:45:41.567569Z"
    },
    "id": "aYIBOwponubY",
    "outputId": "7d67c482-ad1a-43fe-e1e0-2f1974a8d0b6",
    "papermill": {
     "duration": 204.804494,
     "end_time": "2023-11-07T12:45:41.776537",
     "exception": false,
     "start_time": "2023-11-07T12:42:16.972043",
     "status": "completed"
    },
    "tags": []
   },
   "outputs": [
    {
     "name": "stdout",
     "output_type": "stream",
     "text": [
      "782/782 [==============================] - 177s 224ms/step - loss: 0.6153 - accuracy: 0.6514\n"
     ]
    },
    {
     "data": {
      "text/plain": [
       "<keras.callbacks.History at 0x7b088a182770>"
      ]
     },
     "execution_count": 31,
     "metadata": {},
     "output_type": "execute_result"
    }
   ],
   "source": [
    "model = tf.keras.Sequential([\n",
    "    layers.Embedding(input_dim = NUMBER_OF_WORDS,output_dim = 32,input_length = MAX_LEN),\n",
    "    layers.SimpleRNN(units = 32,return_sequences = True),\n",
    "    layers.SimpleRNN(units = 32),\n",
    "    layers.Dense(1,activation = 'sigmoid')\n",
    "])\n",
    "\n",
    "model.compile(optimizer = 'adam',\n",
    "              loss = 'binary_crossentropy',\n",
    "              metrics = ['accuracy'])\n",
    "\n",
    "model.fit(x_train,y_train,batch_size = 32)"
   ]
  },
  {
   "cell_type": "markdown",
   "id": "c529f1df",
   "metadata": {
    "id": "x9AaZKBQw-9y",
    "papermill": {
     "duration": 0.186744,
     "end_time": "2023-11-07T12:45:42.149812",
     "exception": false,
     "start_time": "2023-11-07T12:45:41.963068",
     "status": "completed"
    },
    "tags": []
   },
   "source": [
    "## Bidirectional RNN's\n",
    "\n",
    "In Bidirectional RNN, instead of one, we are using two RNN structures. One of them is trained as usual (RNN 1) and the other one is trained in reverse (RNN 2).\n",
    "\n",
    "(source: Jurafsky, D., Martin, J. H. (2009). Speech and language processing)\n",
    "\n",
    "![image.png](data:image/png;base64,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)\n",
    "\n",
    " While training, the hidden output at time t ($h_t$) is calculated by averaging the forward ($h_t^f$) and backward ($h_t^b$) hidden outputs.\n",
    "\n",
    "$h_t = [h_t^f;h_t^b]$ ($;$ for elementwise averaging)"
   ]
  },
  {
   "cell_type": "code",
   "execution_count": 32,
   "id": "6de5ed72",
   "metadata": {
    "execution": {
     "iopub.execute_input": "2023-11-07T12:45:42.528901Z",
     "iopub.status.busy": "2023-11-07T12:45:42.528052Z",
     "iopub.status.idle": "2023-11-07T12:47:53.108355Z",
     "shell.execute_reply": "2023-11-07T12:47:53.107153Z"
    },
    "id": "okjr5zplvuUU",
    "outputId": "8ac51f60-a48e-43d1-82a2-d18ccad1bfb6",
    "papermill": {
     "duration": 130.772264,
     "end_time": "2023-11-07T12:47:53.110709",
     "exception": false,
     "start_time": "2023-11-07T12:45:42.338445",
     "status": "completed"
    },
    "tags": []
   },
   "outputs": [
    {
     "name": "stdout",
     "output_type": "stream",
     "text": [
      "782/782 [==============================] - 130s 164ms/step - loss: 0.5826 - accuracy: 0.6817\n"
     ]
    },
    {
     "data": {
      "text/plain": [
       "<keras.callbacks.History at 0x7b08784a68c0>"
      ]
     },
     "execution_count": 32,
     "metadata": {},
     "output_type": "execute_result"
    }
   ],
   "source": [
    "model = tf.keras.Sequential([\n",
    "    layers.Embedding(input_dim = NUMBER_OF_WORDS,output_dim = 32,input_length = MAX_LEN),\n",
    "    layers.Bidirectional(layers.SimpleRNN(units = 32)),\n",
    "    layers.Dense(1,activation = 'sigmoid')\n",
    "])\n",
    "\n",
    "model.compile(optimizer = 'adam',\n",
    "              loss = 'binary_crossentropy',\n",
    "              metrics = ['accuracy'])\n",
    "\n",
    "model.fit(x_train,y_train,batch_size = 32)"
   ]
  },
  {
   "cell_type": "markdown",
   "id": "dfe1c780",
   "metadata": {
    "id": "9fvzH2OE2FAJ",
    "papermill": {
     "duration": 0.260313,
     "end_time": "2023-11-07T12:47:53.635306",
     "exception": false,
     "start_time": "2023-11-07T12:47:53.374993",
     "status": "completed"
    },
    "tags": []
   },
   "source": [
    "## LSTM\n",
    "\n",
    "RNNs are prone to suffer from vanishing gradient problem:\n",
    "\n",
    "![image.png](data:image/png;base64,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)\n",
    "\n",
    "as $t$ increases, to compute $7$, we need to use long chains of derivatives. This causes gradients to vanish. Weights in the early stages are not updated so their contribution in forward pass is not evolving.\n",
    "\n",
    "Here is the tricky part (at least it was to me while learning): We need *all* $W \\& U $ matricies for generating the final output.\n",
    "\n",
    "LSTM is developed to enhance RNN's capabilities. It has two main duties:\n",
    "\n",
    "(Rephrasing the following two bullet points directly from the book)\n",
    "\n",
    "1. Remove the information that is not needed anymore.\n",
    "2. Adding the information that is likely to be needed in the future.\n",
    "\n",
    "**Gates** are used for adding and/or removing information from an LSTM cell. They use *sigmoid* activation for this purpose:\n",
    "\n",
    "1. **Forget Gate:** The goal of the forget gate is to remove the information that is not needed anymore.\n",
    "2. **Add Gate:** Add gate is used for determining the information to be added to the LSTM cell.\n",
    "3. **Output Gate:** Output gate selectively picks information that is needed for the current hidden state.\n",
    "\n",
    "(source: Jurafsky, D., Martin, J. H. (2009). Speech and language processing)\n",
    "\n",
    "![image.png](data:image/png;base64,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)"
   ]
  },
  {
   "cell_type": "code",
   "execution_count": 33,
   "id": "9ea6fbc4",
   "metadata": {
    "execution": {
     "iopub.execute_input": "2023-11-07T12:47:54.165038Z",
     "iopub.status.busy": "2023-11-07T12:47:54.163888Z",
     "iopub.status.idle": "2023-11-07T12:51:19.372411Z",
     "shell.execute_reply": "2023-11-07T12:51:19.371347Z"
    },
    "id": "WqlqeM2GyTZF",
    "outputId": "d913a375-e722-4a8e-f3b7-3c868e321806",
    "papermill": {
     "duration": 205.816262,
     "end_time": "2023-11-07T12:51:19.712902",
     "exception": false,
     "start_time": "2023-11-07T12:47:53.896640",
     "status": "completed"
    },
    "tags": []
   },
   "outputs": [
    {
     "name": "stdout",
     "output_type": "stream",
     "text": [
      "782/782 [==============================] - 153s 192ms/step - loss: 0.5122 - accuracy: 0.7478\n"
     ]
    },
    {
     "data": {
      "text/plain": [
       "<keras.callbacks.History at 0x7b088bdf6890>"
      ]
     },
     "execution_count": 33,
     "metadata": {},
     "output_type": "execute_result"
    }
   ],
   "source": [
    "model = tf.keras.Sequential([\n",
    "    layers.Embedding(input_dim = NUMBER_OF_WORDS,output_dim = 32,input_length = MAX_LEN),\n",
    "    layers.LSTM(units = 32),\n",
    "    layers.Dense(1,activation = 'sigmoid')\n",
    "])\n",
    "\n",
    "model.compile(optimizer = 'adam',\n",
    "              loss = 'binary_crossentropy',\n",
    "              metrics = ['accuracy'])\n",
    "\n",
    "model.fit(x_train,y_train,batch_size = 32)"
   ]
  },
  {
   "cell_type": "markdown",
   "id": "ecb8bbd1",
   "metadata": {
    "id": "Ts5PrA7P4n9y",
    "papermill": {
     "duration": 0.41957,
     "end_time": "2023-11-07T12:51:20.476074",
     "exception": false,
     "start_time": "2023-11-07T12:51:20.056504",
     "status": "completed"
    },
    "tags": []
   },
   "source": [
    "## GRU\n",
    "\n",
    "GRU is similar to the LSTM but it has a simpler architecture leading to a faster computation."
   ]
  },
  {
   "cell_type": "code",
   "execution_count": 34,
   "id": "adb35c67",
   "metadata": {
    "execution": {
     "iopub.execute_input": "2023-11-07T12:51:21.155690Z",
     "iopub.status.busy": "2023-11-07T12:51:21.155269Z",
     "iopub.status.idle": "2023-11-07T12:54:20.102528Z",
     "shell.execute_reply": "2023-11-07T12:54:20.101553Z"
    },
    "id": "CHDeEUE24URS",
    "outputId": "b7beb007-5301-4199-8241-6e6b3f57caab",
    "papermill": {
     "duration": 179.291807,
     "end_time": "2023-11-07T12:54:20.105215",
     "exception": false,
     "start_time": "2023-11-07T12:51:20.813408",
     "status": "completed"
    },
    "tags": []
   },
   "outputs": [
    {
     "name": "stdout",
     "output_type": "stream",
     "text": [
      "782/782 [==============================] - 178s 225ms/step - loss: 0.4697 - accuracy: 0.7693\n"
     ]
    },
    {
     "data": {
      "text/plain": [
       "<keras.callbacks.History at 0x7b08c44236a0>"
      ]
     },
     "execution_count": 34,
     "metadata": {},
     "output_type": "execute_result"
    }
   ],
   "source": [
    "model = tf.keras.Sequential([\n",
    "    layers.Embedding(input_dim = NUMBER_OF_WORDS,output_dim = 32,input_length = MAX_LEN),\n",
    "    layers.GRU(units = 32),\n",
    "    layers.Dense(1,activation = 'sigmoid')\n",
    "])\n",
    "\n",
    "model.compile(optimizer = 'adam',\n",
    "              loss = 'binary_crossentropy',\n",
    "              metrics = ['accuracy'])\n",
    "\n",
    "model.fit(x_train,y_train,batch_size = 32)"
   ]
  },
  {
   "cell_type": "markdown",
   "id": "abf77aa8",
   "metadata": {
    "id": "k44NCyNG521f",
    "papermill": {
     "duration": 0.406064,
     "end_time": "2023-11-07T12:54:20.925498",
     "exception": false,
     "start_time": "2023-11-07T12:54:20.519434",
     "status": "completed"
    },
    "tags": []
   },
   "source": [
    "## Encoder Decoder Model with RNN\n",
    "\n",
    "Encoder - Decoder models are often used for machine translation. They are sometimes called *sequence-to-sequence* models.\n",
    "\n",
    "![image.png](data:image/png;base64,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)\n",
    "\n",
    "\n",
    "Recall the output joint probability of predicting the next word:\n",
    "\n",
    "&nbsp;\n",
    "\n",
    "$P(y|y_1,...y_n) = P(y_1)*P(y_2|y_1)*P(y_3|y_1,y_2)...P(y_m|y_1....y_n)$\n",
    "\n",
    "&nbsp;\n",
    "\n",
    "To get an Encoder - Decoder model, all we need to do is to adding a sentence separator $<s>$. Once we get the input sequence $X$, we just need to compute the same probability given $X$:\n",
    "\n",
    "&nbsp;\n",
    "\n",
    "$P(y|y_1,...y_n,X) = P(y_1|X)*P(y_2|y_1,X)*P(y_3|y_1,y_2,X)...P(y_m|y_1....y_n,X)$\n",
    "\n",
    "(source: Jurafsky, D., Martin, J. H. (2009). Speech and language processing)\n",
    "\n",
    "![image.png](data:image/png;base64,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)\n",
    "\n",
    "&nbsp;\n",
    "\n",
    "$ŷ = argmax_{w∈|V|}*P(w|y_1,y_2,....,X)$"
   ]
  },
  {
   "cell_type": "markdown",
   "id": "fa074609",
   "metadata": {
    "id": "5qk_vOnkJfrN",
    "papermill": {
     "duration": 0.422205,
     "end_time": "2023-11-07T12:54:21.747005",
     "exception": false,
     "start_time": "2023-11-07T12:54:21.324800",
     "status": "completed"
    },
    "tags": []
   },
   "source": [
    "Unfortunetely, I have no prior experience with building sequence-to-sequence models so instead of coding I will [link](https://www.tensorflow.org/text/tutorials/nmt_with_attention) to an example published by TensorFlow and pass this section."
   ]
  }
 ],
 "metadata": {
  "kernelspec": {
   "display_name": "Python 3",
   "language": "python",
   "name": "python3"
  },
  "language_info": {
   "codemirror_mode": {
    "name": "ipython",
    "version": 3
   },
   "file_extension": ".py",
   "mimetype": "text/x-python",
   "name": "python",
   "nbconvert_exporter": "python",
   "pygments_lexer": "ipython3",
   "version": "3.10.12"
  },
  "papermill": {
   "default_parameters": {},
   "duration": 1433.456613,
   "end_time": "2023-11-07T12:54:25.506032",
   "environment_variables": {},
   "exception": null,
   "input_path": "__notebook__.ipynb",
   "output_path": "__notebook__.ipynb",
   "parameters": {},
   "start_time": "2023-11-07T12:30:32.049419",
   "version": "2.4.0"
  },
  "widgets": {
   "application/vnd.jupyter.widget-state+json": {
    "state": {
     "06fc7ed7cf9740b3baef579b7b9f8289": {
      "model_module": "@jupyter-widgets/base",
      "model_module_version": "1.2.0",
      "model_name": "LayoutModel",
      "state": {
       "_model_module": "@jupyter-widgets/base",
       "_model_module_version": "1.2.0",
       "_model_name": "LayoutModel",
       "_view_count": null,
       "_view_module": "@jupyter-widgets/base",
       "_view_module_version": "1.2.0",
       "_view_name": "LayoutView",
       "align_content": null,
       "align_items": null,
       "align_self": null,
       "border": null,
       "bottom": null,
       "display": null,
       "flex": null,
       "flex_flow": null,
       "grid_area": null,
       "grid_auto_columns": null,
       "grid_auto_flow": null,
       "grid_auto_rows": null,
       "grid_column": null,
       "grid_gap": null,
       "grid_row": null,
       "grid_template_areas": null,
       "grid_template_columns": null,
       "grid_template_rows": null,
       "height": null,
       "justify_content": null,
       "justify_items": null,
       "left": null,
       "margin": null,
       "max_height": null,
       "max_width": null,
       "min_height": null,
       "min_width": null,
       "object_fit": null,
       "object_position": null,
       "order": null,
       "overflow": null,
       "overflow_x": null,
       "overflow_y": null,
       "padding": null,
       "right": null,
       "top": null,
       "visibility": null,
       "width": null
      }
     },
     "0a2c476bb6124afcbd824e30b64a6564": {
      "model_module": "@jupyter-widgets/controls",
      "model_module_version": "1.5.0",
      "model_name": "FloatProgressModel",
      "state": {
       "_dom_classes": [],
       "_model_module": "@jupyter-widgets/controls",
       "_model_module_version": "1.5.0",
       "_model_name": "FloatProgressModel",
       "_view_count": null,
       "_view_module": "@jupyter-widgets/controls",
       "_view_module_version": "1.5.0",
       "_view_name": "ProgressView",
       "bar_style": "success",
       "description": "",
       "description_tooltip": null,
       "layout": "IPY_MODEL_7a35e0fdecfc451ba8742f8adbb96352",
       "max": 2239692364.0,
       "min": 0.0,
       "orientation": "horizontal",
       "style": "IPY_MODEL_9ae1960060424814b55f33c40911f62f",
       "value": 2239692364.0
      }
     },
     "0f6fbcea5db6442a81fee6c06002171c": {
      "model_module": "@jupyter-widgets/base",
      "model_module_version": "1.2.0",
      "model_name": "LayoutModel",
      "state": {
       "_model_module": "@jupyter-widgets/base",
       "_model_module_version": "1.2.0",
       "_model_name": "LayoutModel",
       "_view_count": null,
       "_view_module": "@jupyter-widgets/base",
       "_view_module_version": "1.2.0",
       "_view_name": "LayoutView",
       "align_content": null,
       "align_items": null,
       "align_self": null,
       "border": null,
       "bottom": null,
       "display": null,
       "flex": null,
       "flex_flow": null,
       "grid_area": null,
       "grid_auto_columns": null,
       "grid_auto_flow": null,
       "grid_auto_rows": null,
       "grid_column": null,
       "grid_gap": null,
       "grid_row": null,
       "grid_template_areas": null,
       "grid_template_columns": null,
       "grid_template_rows": null,
       "height": null,
       "justify_content": null,
       "justify_items": null,
       "left": null,
       "margin": null,
       "max_height": null,
       "max_width": null,
       "min_height": null,
       "min_width": null,
       "object_fit": null,
       "object_position": null,
       "order": null,
       "overflow": null,
       "overflow_x": null,
       "overflow_y": null,
       "padding": null,
       "right": null,
       "top": null,
       "visibility": null,
       "width": null
      }
     },
     "109f773667664cf1b2ec31bc7df1f4f6": {
      "model_module": "@jupyter-widgets/base",
      "model_module_version": "1.2.0",
      "model_name": "LayoutModel",
      "state": {
       "_model_module": "@jupyter-widgets/base",
       "_model_module_version": "1.2.0",
       "_model_name": "LayoutModel",
       "_view_count": null,
       "_view_module": "@jupyter-widgets/base",
       "_view_module_version": "1.2.0",
       "_view_name": "LayoutView",
       "align_content": null,
       "align_items": null,
       "align_self": null,
       "border": null,
       "bottom": null,
       "display": null,
       "flex": null,
       "flex_flow": null,
       "grid_area": null,
       "grid_auto_columns": null,
       "grid_auto_flow": null,
       "grid_auto_rows": null,
       "grid_column": null,
       "grid_gap": null,
       "grid_row": null,
       "grid_template_areas": null,
       "grid_template_columns": null,
       "grid_template_rows": null,
       "height": null,
       "justify_content": null,
       "justify_items": null,
       "left": null,
       "margin": null,
       "max_height": null,
       "max_width": null,
       "min_height": null,
       "min_width": null,
       "object_fit": null,
       "object_position": null,
       "order": null,
       "overflow": null,
       "overflow_x": null,
       "overflow_y": null,
       "padding": null,
       "right": null,
       "top": null,
       "visibility": null,
       "width": null
      }
     },
     "1dcb979d18814b40ac993b68ecf43e9c": {
      "model_module": "@jupyter-widgets/controls",
      "model_module_version": "1.5.0",
      "model_name": "ProgressStyleModel",
      "state": {
       "_model_module": "@jupyter-widgets/controls",
       "_model_module_version": "1.5.0",
       "_model_name": "ProgressStyleModel",
       "_view_count": null,
       "_view_module": "@jupyter-widgets/base",
       "_view_module_version": "1.2.0",
       "_view_name": "StyleView",
       "bar_color": null,
       "description_width": ""
      }
     },
     "22366a8a8ed04e879c9cc6da32ee0723": {
      "model_module": "@jupyter-widgets/controls",
      "model_module_version": "1.5.0",
      "model_name": "FloatProgressModel",
      "state": {
       "_dom_classes": [],
       "_model_module": "@jupyter-widgets/controls",
       "_model_module_version": "1.5.0",
       "_model_name": "FloatProgressModel",
       "_view_count": null,
       "_view_module": "@jupyter-widgets/controls",
       "_view_module_version": "1.5.0",
       "_view_name": "ProgressView",
       "bar_style": "success",
       "description": "",
       "description_tooltip": null,
       "layout": "IPY_MODEL_d127ca28b237465496457c78d92817ea",
       "max": 5069051.0,
       "min": 0.0,
       "orientation": "horizontal",
       "style": "IPY_MODEL_1dcb979d18814b40ac993b68ecf43e9c",
       "value": 5069051.0
      }
     },
     "273497ad9b814fc4aa605993e4306ec3": {
      "model_module": "@jupyter-widgets/controls",
      "model_module_version": "1.5.0",
      "model_name": "HTMLModel",
      "state": {
       "_dom_classes": [],
       "_model_module": "@jupyter-widgets/controls",
       "_model_module_version": "1.5.0",
       "_model_name": "HTMLModel",
       "_view_count": null,
       "_view_module": "@jupyter-widgets/controls",
       "_view_module_version": "1.5.0",
       "_view_name": "HTMLView",
       "description": "",
       "description_tooltip": null,
       "layout": "IPY_MODEL_4d99bd6755c04439af807d970b0a19bc",
       "placeholder": "​",
       "style": "IPY_MODEL_dd27a4ca79e3475fa539d0aa62ad9181",
       "value": "Downloading pytorch_model.bin: 100%"
      }
     },
     "28a321853c384c8297c8984819a8542a": {
      "model_module": "@jupyter-widgets/base",
      "model_module_version": "1.2.0",
      "model_name": "LayoutModel",
      "state": {
       "_model_module": "@jupyter-widgets/base",
       "_model_module_version": "1.2.0",
       "_model_name": "LayoutModel",
       "_view_count": null,
       "_view_module": "@jupyter-widgets/base",
       "_view_module_version": "1.2.0",
       "_view_name": "LayoutView",
       "align_content": null,
       "align_items": null,
       "align_self": null,
       "border": null,
       "bottom": null,
       "display": null,
       "flex": null,
       "flex_flow": null,
       "grid_area": null,
       "grid_auto_columns": null,
       "grid_auto_flow": null,
       "grid_auto_rows": null,
       "grid_column": null,
       "grid_gap": null,
       "grid_row": null,
       "grid_template_areas": null,
       "grid_template_columns": null,
       "grid_template_rows": null,
       "height": null,
       "justify_content": null,
       "justify_items": null,
       "left": null,
       "margin": null,
       "max_height": null,
       "max_width": null,
       "min_height": null,
       "min_width": null,
       "object_fit": null,
       "object_position": null,
       "order": null,
       "overflow": null,
       "overflow_x": null,
       "overflow_y": null,
       "padding": null,
       "right": null,
       "top": null,
       "visibility": null,
       "width": null
      }
     },
     "2f0ddd8ace034aa1ad84462aae51b38c": {
      "model_module": "@jupyter-widgets/controls",
      "model_module_version": "1.5.0",
      "model_name": "HTMLModel",
      "state": {
       "_dom_classes": [],
       "_model_module": "@jupyter-widgets/controls",
       "_model_module_version": "1.5.0",
       "_model_name": "HTMLModel",
       "_view_count": null,
       "_view_module": "@jupyter-widgets/controls",
       "_view_module_version": "1.5.0",
       "_view_name": "HTMLView",
       "description": "",
       "description_tooltip": null,
       "layout": "IPY_MODEL_0f6fbcea5db6442a81fee6c06002171c",
       "placeholder": "​",
       "style": "IPY_MODEL_ca167149c42940cea6e434c011e79a27",
       "value": " 5.07M/5.07M [00:00&lt;00:00, 28.5MB/s]"
      }
     },
     "390874e5611d4905b377800cb01e569d": {
      "model_module": "@jupyter-widgets/controls",
      "model_module_version": "1.5.0",
      "model_name": "DescriptionStyleModel",
      "state": {
       "_model_module": "@jupyter-widgets/controls",
       "_model_module_version": "1.5.0",
       "_model_name": "DescriptionStyleModel",
       "_view_count": null,
       "_view_module": "@jupyter-widgets/base",
       "_view_module_version": "1.2.0",
       "_view_name": "StyleView",
       "description_width": ""
      }
     },
     "3f2e0e3d2d444099b8b872053d90081f": {
      "model_module": "@jupyter-widgets/controls",
      "model_module_version": "1.5.0",
      "model_name": "HBoxModel",
      "state": {
       "_dom_classes": [],
       "_model_module": "@jupyter-widgets/controls",
       "_model_module_version": "1.5.0",
       "_model_name": "HBoxModel",
       "_view_count": null,
       "_view_module": "@jupyter-widgets/controls",
       "_view_module_version": "1.5.0",
       "_view_name": "HBoxView",
       "box_style": "",
       "children": [
        "IPY_MODEL_773d5ef92de547c59e0acb99154edce5",
        "IPY_MODEL_d162232aff0f4c02a5627a1c2a7db45d",
        "IPY_MODEL_eb354bd0fae9493a9b706fb1e7d73305"
       ],
       "layout": "IPY_MODEL_d7933566b32e4fb0991f1c2be0e2791f"
      }
     },
     "48edf337a51a4760b20994f7d9e1d8c9": {
      "model_module": "@jupyter-widgets/base",
      "model_module_version": "1.2.0",
      "model_name": "LayoutModel",
      "state": {
       "_model_module": "@jupyter-widgets/base",
       "_model_module_version": "1.2.0",
       "_model_name": "LayoutModel",
       "_view_count": null,
       "_view_module": "@jupyter-widgets/base",
       "_view_module_version": "1.2.0",
       "_view_name": "LayoutView",
       "align_content": null,
       "align_items": null,
       "align_self": null,
       "border": null,
       "bottom": null,
       "display": null,
       "flex": null,
       "flex_flow": null,
       "grid_area": null,
       "grid_auto_columns": null,
       "grid_auto_flow": null,
       "grid_auto_rows": null,
       "grid_column": null,
       "grid_gap": null,
       "grid_row": null,
       "grid_template_areas": null,
       "grid_template_columns": null,
       "grid_template_rows": null,
       "height": null,
       "justify_content": null,
       "justify_items": null,
       "left": null,
       "margin": null,
       "max_height": null,
       "max_width": null,
       "min_height": null,
       "min_width": null,
       "object_fit": null,
       "object_position": null,
       "order": null,
       "overflow": null,
       "overflow_x": null,
       "overflow_y": null,
       "padding": null,
       "right": null,
       "top": null,
       "visibility": null,
       "width": null
      }
     },
     "4d99bd6755c04439af807d970b0a19bc": {
      "model_module": "@jupyter-widgets/base",
      "model_module_version": "1.2.0",
      "model_name": "LayoutModel",
      "state": {
       "_model_module": "@jupyter-widgets/base",
       "_model_module_version": "1.2.0",
       "_model_name": "LayoutModel",
       "_view_count": null,
       "_view_module": "@jupyter-widgets/base",
       "_view_module_version": "1.2.0",
       "_view_name": "LayoutView",
       "align_content": null,
       "align_items": null,
       "align_self": null,
       "border": null,
       "bottom": null,
       "display": null,
       "flex": null,
       "flex_flow": null,
       "grid_area": null,
       "grid_auto_columns": null,
       "grid_auto_flow": null,
       "grid_auto_rows": null,
       "grid_column": null,
       "grid_gap": null,
       "grid_row": null,
       "grid_template_areas": null,
       "grid_template_columns": null,
       "grid_template_rows": null,
       "height": null,
       "justify_content": null,
       "justify_items": null,
       "left": null,
       "margin": null,
       "max_height": null,
       "max_width": null,
       "min_height": null,
       "min_width": null,
       "object_fit": null,
       "object_position": null,
       "order": null,
       "overflow": null,
       "overflow_x": null,
       "overflow_y": null,
       "padding": null,
       "right": null,
       "top": null,
       "visibility": null,
       "width": null
      }
     },
     "4eacb044c0cd4058b6f7ca382096f843": {
      "model_module": "@jupyter-widgets/base",
      "model_module_version": "1.2.0",
      "model_name": "LayoutModel",
      "state": {
       "_model_module": "@jupyter-widgets/base",
       "_model_module_version": "1.2.0",
       "_model_name": "LayoutModel",
       "_view_count": null,
       "_view_module": "@jupyter-widgets/base",
       "_view_module_version": "1.2.0",
       "_view_name": "LayoutView",
       "align_content": null,
       "align_items": null,
       "align_self": null,
       "border": null,
       "bottom": null,
       "display": null,
       "flex": null,
       "flex_flow": null,
       "grid_area": null,
       "grid_auto_columns": null,
       "grid_auto_flow": null,
       "grid_auto_rows": null,
       "grid_column": null,
       "grid_gap": null,
       "grid_row": null,
       "grid_template_areas": null,
       "grid_template_columns": null,
       "grid_template_rows": null,
       "height": null,
       "justify_content": null,
       "justify_items": null,
       "left": null,
       "margin": null,
       "max_height": null,
       "max_width": null,
       "min_height": null,
       "min_width": null,
       "object_fit": null,
       "object_position": null,
       "order": null,
       "overflow": null,
       "overflow_x": null,
       "overflow_y": null,
       "padding": null,
       "right": null,
       "top": null,
       "visibility": null,
       "width": null
      }
     },
     "7026ee3e17984940a49e11aafd0aece6": {
      "model_module": "@jupyter-widgets/controls",
      "model_module_version": "1.5.0",
      "model_name": "ProgressStyleModel",
      "state": {
       "_model_module": "@jupyter-widgets/controls",
       "_model_module_version": "1.5.0",
       "_model_name": "ProgressStyleModel",
       "_view_count": null,
       "_view_module": "@jupyter-widgets/base",
       "_view_module_version": "1.2.0",
       "_view_name": "StyleView",
       "bar_color": null,
       "description_width": ""
      }
     },
     "773d5ef92de547c59e0acb99154edce5": {
      "model_module": "@jupyter-widgets/controls",
      "model_module_version": "1.5.0",
      "model_name": "HTMLModel",
      "state": {
       "_dom_classes": [],
       "_model_module": "@jupyter-widgets/controls",
       "_model_module_version": "1.5.0",
       "_model_name": "HTMLModel",
       "_view_count": null,
       "_view_module": "@jupyter-widgets/controls",
       "_view_module_version": "1.5.0",
       "_view_name": "HTMLView",
       "description": "",
       "description_tooltip": null,
       "layout": "IPY_MODEL_28a321853c384c8297c8984819a8542a",
       "placeholder": "​",
       "style": "IPY_MODEL_ba124823fb9e417dae1124b377c4b502",
       "value": "Downloading (…)lve/main/config.json: 100%"
      }
     },
     "7a35e0fdecfc451ba8742f8adbb96352": {
      "model_module": "@jupyter-widgets/base",
      "model_module_version": "1.2.0",
      "model_name": "LayoutModel",
      "state": {
       "_model_module": "@jupyter-widgets/base",
       "_model_module_version": "1.2.0",
       "_model_name": "LayoutModel",
       "_view_count": null,
       "_view_module": "@jupyter-widgets/base",
       "_view_module_version": "1.2.0",
       "_view_name": "LayoutView",
       "align_content": null,
       "align_items": null,
       "align_self": null,
       "border": null,
       "bottom": null,
       "display": null,
       "flex": null,
       "flex_flow": null,
       "grid_area": null,
       "grid_auto_columns": null,
       "grid_auto_flow": null,
       "grid_auto_rows": null,
       "grid_column": null,
       "grid_gap": null,
       "grid_row": null,
       "grid_template_areas": null,
       "grid_template_columns": null,
       "grid_template_rows": null,
       "height": null,
       "justify_content": null,
       "justify_items": null,
       "left": null,
       "margin": null,
       "max_height": null,
       "max_width": null,
       "min_height": null,
       "min_width": null,
       "object_fit": null,
       "object_position": null,
       "order": null,
       "overflow": null,
       "overflow_x": null,
       "overflow_y": null,
       "padding": null,
       "right": null,
       "top": null,
       "visibility": null,
       "width": null
      }
     },
     "7f06ec570d14448eae658365e5e6d6fd": {
      "model_module": "@jupyter-widgets/base",
      "model_module_version": "1.2.0",
      "model_name": "LayoutModel",
      "state": {
       "_model_module": "@jupyter-widgets/base",
       "_model_module_version": "1.2.0",
       "_model_name": "LayoutModel",
       "_view_count": null,
       "_view_module": "@jupyter-widgets/base",
       "_view_module_version": "1.2.0",
       "_view_name": "LayoutView",
       "align_content": null,
       "align_items": null,
       "align_self": null,
       "border": null,
       "bottom": null,
       "display": null,
       "flex": null,
       "flex_flow": null,
       "grid_area": null,
       "grid_auto_columns": null,
       "grid_auto_flow": null,
       "grid_auto_rows": null,
       "grid_column": null,
       "grid_gap": null,
       "grid_row": null,
       "grid_template_areas": null,
       "grid_template_columns": null,
       "grid_template_rows": null,
       "height": null,
       "justify_content": null,
       "justify_items": null,
       "left": null,
       "margin": null,
       "max_height": null,
       "max_width": null,
       "min_height": null,
       "min_width": null,
       "object_fit": null,
       "object_position": null,
       "order": null,
       "overflow": null,
       "overflow_x": null,
       "overflow_y": null,
       "padding": null,
       "right": null,
       "top": null,
       "visibility": null,
       "width": null
      }
     },
     "82d01acb0fe74c10b7ffdf7289f5b754": {
      "model_module": "@jupyter-widgets/controls",
      "model_module_version": "1.5.0",
      "model_name": "HBoxModel",
      "state": {
       "_dom_classes": [],
       "_model_module": "@jupyter-widgets/controls",
       "_model_module_version": "1.5.0",
       "_model_name": "HBoxModel",
       "_view_count": null,
       "_view_module": "@jupyter-widgets/controls",
       "_view_module_version": "1.5.0",
       "_view_name": "HBoxView",
       "box_style": "",
       "children": [
        "IPY_MODEL_8f5a5b1437064e06b55887ff5ae72608",
        "IPY_MODEL_22366a8a8ed04e879c9cc6da32ee0723",
        "IPY_MODEL_2f0ddd8ace034aa1ad84462aae51b38c"
       ],
       "layout": "IPY_MODEL_8cfc6cf28ac04709a7943c628451490c"
      }
     },
     "8cfc6cf28ac04709a7943c628451490c": {
      "model_module": "@jupyter-widgets/base",
      "model_module_version": "1.2.0",
      "model_name": "LayoutModel",
      "state": {
       "_model_module": "@jupyter-widgets/base",
       "_model_module_version": "1.2.0",
       "_model_name": "LayoutModel",
       "_view_count": null,
       "_view_module": "@jupyter-widgets/base",
       "_view_module_version": "1.2.0",
       "_view_name": "LayoutView",
       "align_content": null,
       "align_items": null,
       "align_self": null,
       "border": null,
       "bottom": null,
       "display": null,
       "flex": null,
       "flex_flow": null,
       "grid_area": null,
       "grid_auto_columns": null,
       "grid_auto_flow": null,
       "grid_auto_rows": null,
       "grid_column": null,
       "grid_gap": null,
       "grid_row": null,
       "grid_template_areas": null,
       "grid_template_columns": null,
       "grid_template_rows": null,
       "height": null,
       "justify_content": null,
       "justify_items": null,
       "left": null,
       "margin": null,
       "max_height": null,
       "max_width": null,
       "min_height": null,
       "min_width": null,
       "object_fit": null,
       "object_position": null,
       "order": null,
       "overflow": null,
       "overflow_x": null,
       "overflow_y": null,
       "padding": null,
       "right": null,
       "top": null,
       "visibility": null,
       "width": null
      }
     },
     "8e2793f1552c4a6bad44f6bb99563d60": {
      "model_module": "@jupyter-widgets/controls",
      "model_module_version": "1.5.0",
      "model_name": "HBoxModel",
      "state": {
       "_dom_classes": [],
       "_model_module": "@jupyter-widgets/controls",
       "_model_module_version": "1.5.0",
       "_model_name": "HBoxModel",
       "_view_count": null,
       "_view_module": "@jupyter-widgets/controls",
       "_view_module_version": "1.5.0",
       "_view_name": "HBoxView",
       "box_style": "",
       "children": [
        "IPY_MODEL_f5b8088d8ca0400cabcdea12223aa00d",
        "IPY_MODEL_b230509e2c0049c0adff8454e20ce3c3",
        "IPY_MODEL_ba887c07e467412cb189bc9df2237c55"
       ],
       "layout": "IPY_MODEL_06fc7ed7cf9740b3baef579b7b9f8289"
      }
     },
     "8f5a5b1437064e06b55887ff5ae72608": {
      "model_module": "@jupyter-widgets/controls",
      "model_module_version": "1.5.0",
      "model_name": "HTMLModel",
      "state": {
       "_dom_classes": [],
       "_model_module": "@jupyter-widgets/controls",
       "_model_module_version": "1.5.0",
       "_model_name": "HTMLModel",
       "_view_count": null,
       "_view_module": "@jupyter-widgets/controls",
       "_view_module_version": "1.5.0",
       "_view_name": "HTMLView",
       "description": "",
       "description_tooltip": null,
       "layout": "IPY_MODEL_109f773667664cf1b2ec31bc7df1f4f6",
       "placeholder": "​",
       "style": "IPY_MODEL_bdbbe0a869ce4205a88b527175d54b8f",
       "value": "Downloading (…)tencepiece.bpe.model: 100%"
      }
     },
     "9ae1960060424814b55f33c40911f62f": {
      "model_module": "@jupyter-widgets/controls",
      "model_module_version": "1.5.0",
      "model_name": "ProgressStyleModel",
      "state": {
       "_model_module": "@jupyter-widgets/controls",
       "_model_module_version": "1.5.0",
       "_model_name": "ProgressStyleModel",
       "_view_count": null,
       "_view_module": "@jupyter-widgets/base",
       "_view_module_version": "1.2.0",
       "_view_name": "StyleView",
       "bar_color": null,
       "description_width": ""
      }
     },
     "9d8908d03b8741f9882ddc41658fe73c": {
      "model_module": "@jupyter-widgets/base",
      "model_module_version": "1.2.0",
      "model_name": "LayoutModel",
      "state": {
       "_model_module": "@jupyter-widgets/base",
       "_model_module_version": "1.2.0",
       "_model_name": "LayoutModel",
       "_view_count": null,
       "_view_module": "@jupyter-widgets/base",
       "_view_module_version": "1.2.0",
       "_view_name": "LayoutView",
       "align_content": null,
       "align_items": null,
       "align_self": null,
       "border": null,
       "bottom": null,
       "display": null,
       "flex": null,
       "flex_flow": null,
       "grid_area": null,
       "grid_auto_columns": null,
       "grid_auto_flow": null,
       "grid_auto_rows": null,
       "grid_column": null,
       "grid_gap": null,
       "grid_row": null,
       "grid_template_areas": null,
       "grid_template_columns": null,
       "grid_template_rows": null,
       "height": null,
       "justify_content": null,
       "justify_items": null,
       "left": null,
       "margin": null,
       "max_height": null,
       "max_width": null,
       "min_height": null,
       "min_width": null,
       "object_fit": null,
       "object_position": null,
       "order": null,
       "overflow": null,
       "overflow_x": null,
       "overflow_y": null,
       "padding": null,
       "right": null,
       "top": null,
       "visibility": null,
       "width": null
      }
     },
     "9ec3f08a48fa43c18b053591e20952c6": {
      "model_module": "@jupyter-widgets/controls",
      "model_module_version": "1.5.0",
      "model_name": "ProgressStyleModel",
      "state": {
       "_model_module": "@jupyter-widgets/controls",
       "_model_module_version": "1.5.0",
       "_model_name": "ProgressStyleModel",
       "_view_count": null,
       "_view_module": "@jupyter-widgets/base",
       "_view_module_version": "1.2.0",
       "_view_name": "StyleView",
       "bar_color": null,
       "description_width": ""
      }
     },
     "a810540c1ca748a1adab04b20893f9cb": {
      "model_module": "@jupyter-widgets/base",
      "model_module_version": "1.2.0",
      "model_name": "LayoutModel",
      "state": {
       "_model_module": "@jupyter-widgets/base",
       "_model_module_version": "1.2.0",
       "_model_name": "LayoutModel",
       "_view_count": null,
       "_view_module": "@jupyter-widgets/base",
       "_view_module_version": "1.2.0",
       "_view_name": "LayoutView",
       "align_content": null,
       "align_items": null,
       "align_self": null,
       "border": null,
       "bottom": null,
       "display": null,
       "flex": null,
       "flex_flow": null,
       "grid_area": null,
       "grid_auto_columns": null,
       "grid_auto_flow": null,
       "grid_auto_rows": null,
       "grid_column": null,
       "grid_gap": null,
       "grid_row": null,
       "grid_template_areas": null,
       "grid_template_columns": null,
       "grid_template_rows": null,
       "height": null,
       "justify_content": null,
       "justify_items": null,
       "left": null,
       "margin": null,
       "max_height": null,
       "max_width": null,
       "min_height": null,
       "min_width": null,
       "object_fit": null,
       "object_position": null,
       "order": null,
       "overflow": null,
       "overflow_x": null,
       "overflow_y": null,
       "padding": null,
       "right": null,
       "top": null,
       "visibility": null,
       "width": null
      }
     },
     "ad0ed299d005445bb432688a5c7e474a": {
      "model_module": "@jupyter-widgets/controls",
      "model_module_version": "1.5.0",
      "model_name": "HBoxModel",
      "state": {
       "_dom_classes": [],
       "_model_module": "@jupyter-widgets/controls",
       "_model_module_version": "1.5.0",
       "_model_name": "HBoxModel",
       "_view_count": null,
       "_view_module": "@jupyter-widgets/controls",
       "_view_module_version": "1.5.0",
       "_view_name": "HBoxView",
       "box_style": "",
       "children": [
        "IPY_MODEL_273497ad9b814fc4aa605993e4306ec3",
        "IPY_MODEL_0a2c476bb6124afcbd824e30b64a6564",
        "IPY_MODEL_d243b27f9eec400c9f6f64b5abf8de62"
       ],
       "layout": "IPY_MODEL_d8aa7ce5aacf44d0a92418ba45398080"
      }
     },
     "ad5527817c5f42fe9a658df8b8561c46": {
      "model_module": "@jupyter-widgets/controls",
      "model_module_version": "1.5.0",
      "model_name": "DescriptionStyleModel",
      "state": {
       "_model_module": "@jupyter-widgets/controls",
       "_model_module_version": "1.5.0",
       "_model_name": "DescriptionStyleModel",
       "_view_count": null,
       "_view_module": "@jupyter-widgets/base",
       "_view_module_version": "1.2.0",
       "_view_name": "StyleView",
       "description_width": ""
      }
     },
     "b230509e2c0049c0adff8454e20ce3c3": {
      "model_module": "@jupyter-widgets/controls",
      "model_module_version": "1.5.0",
      "model_name": "FloatProgressModel",
      "state": {
       "_dom_classes": [],
       "_model_module": "@jupyter-widgets/controls",
       "_model_module_version": "1.5.0",
       "_model_name": "FloatProgressModel",
       "_view_count": null,
       "_view_module": "@jupyter-widgets/controls",
       "_view_module_version": "1.5.0",
       "_view_name": "ProgressView",
       "bar_style": "success",
       "description": "",
       "description_tooltip": null,
       "layout": "IPY_MODEL_48edf337a51a4760b20994f7d9e1d8c9",
       "max": 9096718.0,
       "min": 0.0,
       "orientation": "horizontal",
       "style": "IPY_MODEL_7026ee3e17984940a49e11aafd0aece6",
       "value": 9096718.0
      }
     },
     "b3846a8d8d40410380791123fbaa08ac": {
      "model_module": "@jupyter-widgets/controls",
      "model_module_version": "1.5.0",
      "model_name": "DescriptionStyleModel",
      "state": {
       "_model_module": "@jupyter-widgets/controls",
       "_model_module_version": "1.5.0",
       "_model_name": "DescriptionStyleModel",
       "_view_count": null,
       "_view_module": "@jupyter-widgets/base",
       "_view_module_version": "1.2.0",
       "_view_name": "StyleView",
       "description_width": ""
      }
     },
     "ba124823fb9e417dae1124b377c4b502": {
      "model_module": "@jupyter-widgets/controls",
      "model_module_version": "1.5.0",
      "model_name": "DescriptionStyleModel",
      "state": {
       "_model_module": "@jupyter-widgets/controls",
       "_model_module_version": "1.5.0",
       "_model_name": "DescriptionStyleModel",
       "_view_count": null,
       "_view_module": "@jupyter-widgets/base",
       "_view_module_version": "1.2.0",
       "_view_name": "StyleView",
       "description_width": ""
      }
     },
     "ba887c07e467412cb189bc9df2237c55": {
      "model_module": "@jupyter-widgets/controls",
      "model_module_version": "1.5.0",
      "model_name": "HTMLModel",
      "state": {
       "_dom_classes": [],
       "_model_module": "@jupyter-widgets/controls",
       "_model_module_version": "1.5.0",
       "_model_name": "HTMLModel",
       "_view_count": null,
       "_view_module": "@jupyter-widgets/controls",
       "_view_module_version": "1.5.0",
       "_view_name": "HTMLView",
       "description": "",
       "description_tooltip": null,
       "layout": "IPY_MODEL_c7326fd115c94adab6d16c12e541a696",
       "placeholder": "​",
       "style": "IPY_MODEL_b3846a8d8d40410380791123fbaa08ac",
       "value": " 9.10M/9.10M [00:00&lt;00:00, 13.8MB/s]"
      }
     },
     "bdbbe0a869ce4205a88b527175d54b8f": {
      "model_module": "@jupyter-widgets/controls",
      "model_module_version": "1.5.0",
      "model_name": "DescriptionStyleModel",
      "state": {
       "_model_module": "@jupyter-widgets/controls",
       "_model_module_version": "1.5.0",
       "_model_name": "DescriptionStyleModel",
       "_view_count": null,
       "_view_module": "@jupyter-widgets/base",
       "_view_module_version": "1.2.0",
       "_view_name": "StyleView",
       "description_width": ""
      }
     },
     "c7326fd115c94adab6d16c12e541a696": {
      "model_module": "@jupyter-widgets/base",
      "model_module_version": "1.2.0",
      "model_name": "LayoutModel",
      "state": {
       "_model_module": "@jupyter-widgets/base",
       "_model_module_version": "1.2.0",
       "_model_name": "LayoutModel",
       "_view_count": null,
       "_view_module": "@jupyter-widgets/base",
       "_view_module_version": "1.2.0",
       "_view_name": "LayoutView",
       "align_content": null,
       "align_items": null,
       "align_self": null,
       "border": null,
       "bottom": null,
       "display": null,
       "flex": null,
       "flex_flow": null,
       "grid_area": null,
       "grid_auto_columns": null,
       "grid_auto_flow": null,
       "grid_auto_rows": null,
       "grid_column": null,
       "grid_gap": null,
       "grid_row": null,
       "grid_template_areas": null,
       "grid_template_columns": null,
       "grid_template_rows": null,
       "height": null,
       "justify_content": null,
       "justify_items": null,
       "left": null,
       "margin": null,
       "max_height": null,
       "max_width": null,
       "min_height": null,
       "min_width": null,
       "object_fit": null,
       "object_position": null,
       "order": null,
       "overflow": null,
       "overflow_x": null,
       "overflow_y": null,
       "padding": null,
       "right": null,
       "top": null,
       "visibility": null,
       "width": null
      }
     },
     "ca167149c42940cea6e434c011e79a27": {
      "model_module": "@jupyter-widgets/controls",
      "model_module_version": "1.5.0",
      "model_name": "DescriptionStyleModel",
      "state": {
       "_model_module": "@jupyter-widgets/controls",
       "_model_module_version": "1.5.0",
       "_model_name": "DescriptionStyleModel",
       "_view_count": null,
       "_view_module": "@jupyter-widgets/base",
       "_view_module_version": "1.2.0",
       "_view_name": "StyleView",
       "description_width": ""
      }
     },
     "d127ca28b237465496457c78d92817ea": {
      "model_module": "@jupyter-widgets/base",
      "model_module_version": "1.2.0",
      "model_name": "LayoutModel",
      "state": {
       "_model_module": "@jupyter-widgets/base",
       "_model_module_version": "1.2.0",
       "_model_name": "LayoutModel",
       "_view_count": null,
       "_view_module": "@jupyter-widgets/base",
       "_view_module_version": "1.2.0",
       "_view_name": "LayoutView",
       "align_content": null,
       "align_items": null,
       "align_self": null,
       "border": null,
       "bottom": null,
       "display": null,
       "flex": null,
       "flex_flow": null,
       "grid_area": null,
       "grid_auto_columns": null,
       "grid_auto_flow": null,
       "grid_auto_rows": null,
       "grid_column": null,
       "grid_gap": null,
       "grid_row": null,
       "grid_template_areas": null,
       "grid_template_columns": null,
       "grid_template_rows": null,
       "height": null,
       "justify_content": null,
       "justify_items": null,
       "left": null,
       "margin": null,
       "max_height": null,
       "max_width": null,
       "min_height": null,
       "min_width": null,
       "object_fit": null,
       "object_position": null,
       "order": null,
       "overflow": null,
       "overflow_x": null,
       "overflow_y": null,
       "padding": null,
       "right": null,
       "top": null,
       "visibility": null,
       "width": null
      }
     },
     "d162232aff0f4c02a5627a1c2a7db45d": {
      "model_module": "@jupyter-widgets/controls",
      "model_module_version": "1.5.0",
      "model_name": "FloatProgressModel",
      "state": {
       "_dom_classes": [],
       "_model_module": "@jupyter-widgets/controls",
       "_model_module_version": "1.5.0",
       "_model_name": "FloatProgressModel",
       "_view_count": null,
       "_view_module": "@jupyter-widgets/controls",
       "_view_module_version": "1.5.0",
       "_view_name": "ProgressView",
       "bar_style": "success",
       "description": "",
       "description_tooltip": null,
       "layout": "IPY_MODEL_4eacb044c0cd4058b6f7ca382096f843",
       "max": 852.0,
       "min": 0.0,
       "orientation": "horizontal",
       "style": "IPY_MODEL_9ec3f08a48fa43c18b053591e20952c6",
       "value": 852.0
      }
     },
     "d243b27f9eec400c9f6f64b5abf8de62": {
      "model_module": "@jupyter-widgets/controls",
      "model_module_version": "1.5.0",
      "model_name": "HTMLModel",
      "state": {
       "_dom_classes": [],
       "_model_module": "@jupyter-widgets/controls",
       "_model_module_version": "1.5.0",
       "_model_name": "HTMLModel",
       "_view_count": null,
       "_view_module": "@jupyter-widgets/controls",
       "_view_module_version": "1.5.0",
       "_view_name": "HTMLView",
       "description": "",
       "description_tooltip": null,
       "layout": "IPY_MODEL_a810540c1ca748a1adab04b20893f9cb",
       "placeholder": "​",
       "style": "IPY_MODEL_ad5527817c5f42fe9a658df8b8561c46",
       "value": " 2.24G/2.24G [00:06&lt;00:00, 389MB/s]"
      }
     },
     "d7933566b32e4fb0991f1c2be0e2791f": {
      "model_module": "@jupyter-widgets/base",
      "model_module_version": "1.2.0",
      "model_name": "LayoutModel",
      "state": {
       "_model_module": "@jupyter-widgets/base",
       "_model_module_version": "1.2.0",
       "_model_name": "LayoutModel",
       "_view_count": null,
       "_view_module": "@jupyter-widgets/base",
       "_view_module_version": "1.2.0",
       "_view_name": "LayoutView",
       "align_content": null,
       "align_items": null,
       "align_self": null,
       "border": null,
       "bottom": null,
       "display": null,
       "flex": null,
       "flex_flow": null,
       "grid_area": null,
       "grid_auto_columns": null,
       "grid_auto_flow": null,
       "grid_auto_rows": null,
       "grid_column": null,
       "grid_gap": null,
       "grid_row": null,
       "grid_template_areas": null,
       "grid_template_columns": null,
       "grid_template_rows": null,
       "height": null,
       "justify_content": null,
       "justify_items": null,
       "left": null,
       "margin": null,
       "max_height": null,
       "max_width": null,
       "min_height": null,
       "min_width": null,
       "object_fit": null,
       "object_position": null,
       "order": null,
       "overflow": null,
       "overflow_x": null,
       "overflow_y": null,
       "padding": null,
       "right": null,
       "top": null,
       "visibility": null,
       "width": null
      }
     },
     "d8aa7ce5aacf44d0a92418ba45398080": {
      "model_module": "@jupyter-widgets/base",
      "model_module_version": "1.2.0",
      "model_name": "LayoutModel",
      "state": {
       "_model_module": "@jupyter-widgets/base",
       "_model_module_version": "1.2.0",
       "_model_name": "LayoutModel",
       "_view_count": null,
       "_view_module": "@jupyter-widgets/base",
       "_view_module_version": "1.2.0",
       "_view_name": "LayoutView",
       "align_content": null,
       "align_items": null,
       "align_self": null,
       "border": null,
       "bottom": null,
       "display": null,
       "flex": null,
       "flex_flow": null,
       "grid_area": null,
       "grid_auto_columns": null,
       "grid_auto_flow": null,
       "grid_auto_rows": null,
       "grid_column": null,
       "grid_gap": null,
       "grid_row": null,
       "grid_template_areas": null,
       "grid_template_columns": null,
       "grid_template_rows": null,
       "height": null,
       "justify_content": null,
       "justify_items": null,
       "left": null,
       "margin": null,
       "max_height": null,
       "max_width": null,
       "min_height": null,
       "min_width": null,
       "object_fit": null,
       "object_position": null,
       "order": null,
       "overflow": null,
       "overflow_x": null,
       "overflow_y": null,
       "padding": null,
       "right": null,
       "top": null,
       "visibility": null,
       "width": null
      }
     },
     "dd27a4ca79e3475fa539d0aa62ad9181": {
      "model_module": "@jupyter-widgets/controls",
      "model_module_version": "1.5.0",
      "model_name": "DescriptionStyleModel",
      "state": {
       "_model_module": "@jupyter-widgets/controls",
       "_model_module_version": "1.5.0",
       "_model_name": "DescriptionStyleModel",
       "_view_count": null,
       "_view_module": "@jupyter-widgets/base",
       "_view_module_version": "1.2.0",
       "_view_name": "StyleView",
       "description_width": ""
      }
     },
     "e45b6e8185a2479ca0793b0cb37bc772": {
      "model_module": "@jupyter-widgets/controls",
      "model_module_version": "1.5.0",
      "model_name": "DescriptionStyleModel",
      "state": {
       "_model_module": "@jupyter-widgets/controls",
       "_model_module_version": "1.5.0",
       "_model_name": "DescriptionStyleModel",
       "_view_count": null,
       "_view_module": "@jupyter-widgets/base",
       "_view_module_version": "1.2.0",
       "_view_name": "StyleView",
       "description_width": ""
      }
     },
     "eb354bd0fae9493a9b706fb1e7d73305": {
      "model_module": "@jupyter-widgets/controls",
      "model_module_version": "1.5.0",
      "model_name": "HTMLModel",
      "state": {
       "_dom_classes": [],
       "_model_module": "@jupyter-widgets/controls",
       "_model_module_version": "1.5.0",
       "_model_name": "HTMLModel",
       "_view_count": null,
       "_view_module": "@jupyter-widgets/controls",
       "_view_module_version": "1.5.0",
       "_view_name": "HTMLView",
       "description": "",
       "description_tooltip": null,
       "layout": "IPY_MODEL_7f06ec570d14448eae658365e5e6d6fd",
       "placeholder": "​",
       "style": "IPY_MODEL_390874e5611d4905b377800cb01e569d",
       "value": " 852/852 [00:00&lt;00:00, 55.4kB/s]"
      }
     },
     "f5b8088d8ca0400cabcdea12223aa00d": {
      "model_module": "@jupyter-widgets/controls",
      "model_module_version": "1.5.0",
      "model_name": "HTMLModel",
      "state": {
       "_dom_classes": [],
       "_model_module": "@jupyter-widgets/controls",
       "_model_module_version": "1.5.0",
       "_model_name": "HTMLModel",
       "_view_count": null,
       "_view_module": "@jupyter-widgets/controls",
       "_view_module_version": "1.5.0",
       "_view_name": "HTMLView",
       "description": "",
       "description_tooltip": null,
       "layout": "IPY_MODEL_9d8908d03b8741f9882ddc41658fe73c",
       "placeholder": "​",
       "style": "IPY_MODEL_e45b6e8185a2479ca0793b0cb37bc772",
       "value": "Downloading (…)/main/tokenizer.json: 100%"
      }
     }
    },
    "version_major": 2,
    "version_minor": 0
   }
  }
 },
 "nbformat": 4,
 "nbformat_minor": 5
}
