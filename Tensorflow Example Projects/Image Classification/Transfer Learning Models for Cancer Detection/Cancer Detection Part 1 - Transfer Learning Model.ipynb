{
 "cells": [
  {
   "cell_type": "code",
   "execution_count": 1,
   "id": "f4f1ec7f",
   "metadata": {
    "execution": {
     "iopub.execute_input": "2023-05-04T04:54:51.638872Z",
     "iopub.status.busy": "2023-05-04T04:54:51.638407Z",
     "iopub.status.idle": "2023-05-04T04:55:07.924041Z",
     "shell.execute_reply": "2023-05-04T04:55:07.921866Z"
    },
    "papermill": {
     "duration": 16.296506,
     "end_time": "2023-05-04T04:55:07.927369",
     "exception": false,
     "start_time": "2023-05-04T04:54:51.630863",
     "status": "completed"
    },
    "tags": []
   },
   "outputs": [],
   "source": [
    "import os\n",
    "import shutil\n",
    "import numpy as np\n",
    "import pandas as pd \n",
    "import matplotlib.pyplot as plt\n",
    "%matplotlib inline\n",
    "import cv2 \n",
    "import glob\n",
    "import random\n",
    "import tensorflow as tf\n",
    "import keras.utils as image\n",
    "\n",
    "random.seed(42)\n",
    "tf.random.set_seed(42)\n",
    "\n",
    "from tensorflow.keras import layers\n",
    "from tensorflow.keras.applications import MobileNetV2\n",
    "from tensorflow.keras.utils import to_categorical\n",
    "from sklearn.model_selection import train_test_split\n",
    "from tensorflow.keras.preprocessing.image import ImageDataGenerator\n",
    "import tensorflow_addons as tfa\n",
    "import pickle\n",
    "import keras_tuner as kt\n",
    "import tensorflow.keras.backend as K"
   ]
  },
  {
   "cell_type": "markdown",
   "id": "f9ac3903",
   "metadata": {
    "papermill": {
     "duration": 0.009646,
     "end_time": "2023-05-04T04:55:07.948892",
     "exception": false,
     "start_time": "2023-05-04T04:55:07.939246",
     "status": "completed"
    },
    "tags": []
   },
   "source": [
    "# Introduction\n",
    "\n",
    "The goal of this notebook is to test the claims made in the [MobileNet paper](https://arxiv.org/abs/1704.04861). In summary, the paper asserts that by employing Depthwise Separable Convolution, width multiplier, and resolution multiplier, it is possible to create a fast model without sacrificing performance.\n",
    "\n",
    "To investigate these claims, I built several models and compared their performance and computational requirements. Please note that this experiment is spread across multiple notebooks. I have numbered them to help readers follow the content without feeling overwhelmed. Each title indicates the focus of the corresponding notebook.\n",
    "\n",
    "**Additional Notes**\n",
    "\n",
    "* This is an imbalanced dataset. However, although I used only a portion of the total data (80,000 instances), I didn't alter its structure because I wanted to see whether the claims hold under different circumstances. I used 70% of the data for training and 15% each for validation and testing.\n",
    "\n",
    "* To address imbalances, instead of using the accuracy metric, I used precision, recall, and F1 Score. If you can install tf.nightly, you can use tf.keras.metrics.F1Score(). I couldn't. I also tried to use tfa.metrics.F1Score() but since I used a single node in the last layer of the head, I had to set the number of classes to 1, which produced unreliable results (stuck at 0.44 from beginning to end). In addition, I assigned class weights. In other cases, I observed that the learning becomes unstable, primarily due to the disproportional distribution of the minority class among the batches.\n",
    "\n",
    "* The references section can be found at the end of the last notebook.\n",
    "\n",
    "* For hyperparameter optimization, I used Hyperband.\n",
    "\n",
    "* The commented part in cell 5 is to create a data DataFrame. This helps shorten the preprocessing duration.\n",
    "\n",
    "* Besides rescaling, I did not do any data augmentation techniques.\n",
    "\n",
    "**Links for the Other Parts**\n",
    "\n",
    "* [Part 2](https://www.kaggle.com/code/egemenuurdalg/cancer-detection-part-2-cnn-model/notebook)\n",
    "* [Part 3](https://www.kaggle.com/code/egemenuurdalg/cancer-detection-part-3-vgg16-model/notebook)\n",
    "* [Part 4](https://www.kaggle.com/code/egemenuurdalg/cancer-detection-part-4-resnet-model/notebook)\n",
    "* [Part 5](https://www.kaggle.com/code/egemenuurdalg/cancer-detection-part-5-model-comparison?scriptVersionId=128244790)"
   ]
  },
  {
   "cell_type": "markdown",
   "id": "0cae1a33",
   "metadata": {
    "papermill": {
     "duration": 0.007335,
     "end_time": "2023-05-04T04:55:07.966023",
     "exception": false,
     "start_time": "2023-05-04T04:55:07.958688",
     "status": "completed"
    },
    "tags": []
   },
   "source": [
    "# About the Model\n",
    "\n",
    "The model used in this notebook is a combination of MobileNetV2 and a classification head. I froze the MobileNet part and only optimized the classification head. To achieve even better results, you can also unfreeze some parts of the MobileNet"
   ]
  },
  {
   "cell_type": "markdown",
   "id": "281bde54",
   "metadata": {
    "papermill": {
     "duration": 0.007346,
     "end_time": "2023-05-04T04:55:07.980868",
     "exception": false,
     "start_time": "2023-05-04T04:55:07.973522",
     "status": "completed"
    },
    "tags": []
   },
   "source": [
    "# Content\n",
    "\n",
    "1. [Reading the Data](#1)\n",
    "2. [Model Optimization](#2)\n",
    "3. [Training the Final Model](#3)\n",
    "4. [Calculating the Number of Parameters and Amount of Mult Adds Needed](#4)"
   ]
  },
  {
   "cell_type": "markdown",
   "id": "aeb5d010",
   "metadata": {
    "papermill": {
     "duration": 0.007146,
     "end_time": "2023-05-04T04:55:07.995085",
     "exception": false,
     "start_time": "2023-05-04T04:55:07.987939",
     "status": "completed"
    },
    "tags": []
   },
   "source": [
    "<a id='1'></a>\n",
    "## 1. Reading the Data"
   ]
  },
  {
   "cell_type": "code",
   "execution_count": 2,
   "id": "2412e86f",
   "metadata": {
    "execution": {
     "iopub.execute_input": "2023-05-04T04:55:08.011958Z",
     "iopub.status.busy": "2023-05-04T04:55:08.011078Z",
     "iopub.status.idle": "2023-05-04T04:59:07.665855Z",
     "shell.execute_reply": "2023-05-04T04:59:07.664761Z"
    },
    "papermill": {
     "duration": 239.666561,
     "end_time": "2023-05-04T04:59:07.668969",
     "exception": false,
     "start_time": "2023-05-04T04:55:08.002408",
     "status": "completed"
    },
    "tags": []
   },
   "outputs": [],
   "source": [
    "breast_img = glob.glob('/kaggle/input/breast-histopathology-images/IDC_regular_ps50_idx5/**/*.png', recursive = True,)"
   ]
  },
  {
   "cell_type": "code",
   "execution_count": 3,
   "id": "d66175cb",
   "metadata": {
    "execution": {
     "iopub.execute_input": "2023-05-04T04:59:07.681196Z",
     "iopub.status.busy": "2023-05-04T04:59:07.680887Z",
     "iopub.status.idle": "2023-05-04T04:59:07.686767Z",
     "shell.execute_reply": "2023-05-04T04:59:07.685766Z"
    },
    "papermill": {
     "duration": 0.014625,
     "end_time": "2023-05-04T04:59:07.689222",
     "exception": false,
     "start_time": "2023-05-04T04:59:07.674597",
     "status": "completed"
    },
    "tags": []
   },
   "outputs": [
    {
     "name": "stdout",
     "output_type": "stream",
     "text": [
      "/kaggle/input/breast-histopathology-images/IDC_regular_ps50_idx5/10295/0/10295_idx5_x1351_y1101_class0.png\n",
      "/kaggle/input/breast-histopathology-images/IDC_regular_ps50_idx5/10295/0/10295_idx5_x1501_y501_class0.png\n",
      "/kaggle/input/breast-histopathology-images/IDC_regular_ps50_idx5/10295/0/10295_idx5_x1501_y1101_class0.png\n",
      "/kaggle/input/breast-histopathology-images/IDC_regular_ps50_idx5/10295/0/10295_idx5_x451_y901_class0.png\n",
      "/kaggle/input/breast-histopathology-images/IDC_regular_ps50_idx5/10295/0/10295_idx5_x801_y451_class0.png\n"
     ]
    }
   ],
   "source": [
    "for i in range(5):\n",
    "    print(breast_img[i])"
   ]
  },
  {
   "cell_type": "code",
   "execution_count": 4,
   "id": "01d9e354",
   "metadata": {
    "execution": {
     "iopub.execute_input": "2023-05-04T04:59:07.701624Z",
     "iopub.status.busy": "2023-05-04T04:59:07.700666Z",
     "iopub.status.idle": "2023-05-04T04:59:07.710628Z",
     "shell.execute_reply": "2023-05-04T04:59:07.709134Z"
    },
    "papermill": {
     "duration": 0.018483,
     "end_time": "2023-05-04T04:59:07.712887",
     "exception": false,
     "start_time": "2023-05-04T04:59:07.694404",
     "status": "completed"
    },
    "tags": []
   },
   "outputs": [
    {
     "name": "stdout",
     "output_type": "stream",
     "text": [
      "1\n",
      "0\n",
      "1\n",
      "0\n",
      "1\n"
     ]
    }
   ],
   "source": [
    "#difference occurs at -5 index\n",
    "np.random.seed(42)\n",
    "rand_list = np.random.randint(0,len(breast_img),5)\n",
    "for i in rand_list:\n",
    "    print(breast_img[i][-5])"
   ]
  },
  {
   "cell_type": "code",
   "execution_count": 5,
   "id": "5d2f6895",
   "metadata": {
    "execution": {
     "iopub.execute_input": "2023-05-04T04:59:07.726116Z",
     "iopub.status.busy": "2023-05-04T04:59:07.725256Z",
     "iopub.status.idle": "2023-05-04T04:59:08.146582Z",
     "shell.execute_reply": "2023-05-04T04:59:08.145545Z"
    },
    "papermill": {
     "duration": 0.430099,
     "end_time": "2023-05-04T04:59:08.149258",
     "exception": false,
     "start_time": "2023-05-04T04:59:07.719159",
     "status": "completed"
    },
    "tags": []
   },
   "outputs": [],
   "source": [
    "#split the negative and positive cases\n",
    "#negative_cases = []\n",
    "#positive_cases = []\n",
    "\n",
    "#for image in breast_img:\n",
    "#    if image[-5] == \"0\": \n",
    "#        negative_cases.append(image)\n",
    "        \n",
    "#    elif image[-5] == \"1\":\n",
    "#        positive_cases.append(image)\n",
    "        \n",
    "#combine the classes in a list of tuples and randomly sample 80,000 instances\n",
    "#combined_images = [(path, 0) for path in negative_cases] + [(path, 1) for path in positive_cases]\n",
    "#random.shuffle(combined_images)\n",
    "#selected_images = combined_images[:80000]\n",
    "\n",
    "\n",
    "#data = pd.DataFrame(selected_images, columns=[\"path\", \"label\"])\n",
    "#data.to_csv(\"selected_images.csv\", index=False)\n",
    "\n",
    "data = pd.read_csv(\"/kaggle/input/selected-images/selected_images.csv\")"
   ]
  },
  {
   "cell_type": "code",
   "execution_count": 6,
   "id": "fc849bc6",
   "metadata": {
    "execution": {
     "iopub.execute_input": "2023-05-04T04:59:08.163583Z",
     "iopub.status.busy": "2023-05-04T04:59:08.161846Z",
     "iopub.status.idle": "2023-05-04T05:00:54.719901Z",
     "shell.execute_reply": "2023-05-04T05:00:54.718826Z"
    },
    "papermill": {
     "duration": 106.567538,
     "end_time": "2023-05-04T05:00:54.722674",
     "exception": false,
     "start_time": "2023-05-04T04:59:08.155136",
     "status": "completed"
    },
    "tags": []
   },
   "outputs": [
    {
     "name": "stdout",
     "output_type": "stream",
     "text": [
      "Found 56000 validated image filenames.\n",
      "Found 12000 validated image filenames.\n",
      "Found 12000 validated image filenames.\n"
     ]
    }
   ],
   "source": [
    "# Split the data into training and validation sets\n",
    "train_data, val_data = train_test_split(data, test_size=0.3, random_state=42)\n",
    "val_data,test_data = train_test_split(val_data,test_size = 0.5, random_state = 42)\n",
    "\n",
    "\n",
    "# Set preprocessing and hyperparameter settings\n",
    "datagen = ImageDataGenerator(rescale=1./255)\n",
    "target_size = (50, 50)\n",
    "batch_size = 32\n",
    "\n",
    "# Create the training, validation and test generators\n",
    "train_generator = datagen.flow_from_dataframe(\n",
    "    dataframe=train_data,\n",
    "    x_col=\"path\",\n",
    "    y_col=\"label\",\n",
    "    target_size=target_size,\n",
    "    batch_size=batch_size,\n",
    "    class_mode='raw')\n",
    "\n",
    "val_generator = datagen.flow_from_dataframe(\n",
    "    dataframe=val_data,\n",
    "    x_col=\"path\",\n",
    "    y_col=\"label\",\n",
    "    target_size=target_size,\n",
    "    batch_size=batch_size,\n",
    "    class_mode='raw')\n",
    "\n",
    "test_generator = datagen.flow_from_dataframe(\n",
    "    dataframe=test_data,\n",
    "    x_col=\"path\",\n",
    "    y_col=\"label\",\n",
    "    target_size=target_size,\n",
    "    batch_size=batch_size,\n",
    "    class_mode='raw')\n",
    "\n"
   ]
  },
  {
   "cell_type": "code",
   "execution_count": 7,
   "id": "b976f053",
   "metadata": {
    "execution": {
     "iopub.execute_input": "2023-05-04T05:00:54.735136Z",
     "iopub.status.busy": "2023-05-04T05:00:54.734625Z",
     "iopub.status.idle": "2023-05-04T05:00:54.741377Z",
     "shell.execute_reply": "2023-05-04T05:00:54.740473Z"
    },
    "papermill": {
     "duration": 0.015523,
     "end_time": "2023-05-04T05:00:54.743698",
     "exception": false,
     "start_time": "2023-05-04T05:00:54.728175",
     "status": "completed"
    },
    "tags": []
   },
   "outputs": [],
   "source": [
    "#determine the class weights based on frequencies of classes in training data\n",
    "A,B = np.unique(train_generator.labels, return_counts = True)\n",
    "n = len(train_generator.labels)\n",
    "cls_weights = {i:(n-j)/n for i,j in zip(A,B)}"
   ]
  },
  {
   "cell_type": "code",
   "execution_count": 8,
   "id": "f289bc6c",
   "metadata": {
    "execution": {
     "iopub.execute_input": "2023-05-04T05:00:54.756605Z",
     "iopub.status.busy": "2023-05-04T05:00:54.755735Z",
     "iopub.status.idle": "2023-05-04T05:00:54.762984Z",
     "shell.execute_reply": "2023-05-04T05:00:54.761896Z"
    },
    "papermill": {
     "duration": 0.016139,
     "end_time": "2023-05-04T05:00:54.765197",
     "exception": false,
     "start_time": "2023-05-04T05:00:54.749058",
     "status": "completed"
    },
    "tags": []
   },
   "outputs": [],
   "source": [
    "# If tf.nightly works in your notebook you can also use tf.keras.metrics.F1Score()\n",
    "# Don't recommend to use tfa.metrics.F1Score() cause the results are not reliable. You have to enter number of classes as 1 since output node has one units.\n",
    "# When you run the model based on that the F1 Score stucks at 0.44 in all iterations\n",
    "def f1_score(y_true, y_pred):\n",
    "    true_positives = K.sum(K.round(K.clip(y_true * y_pred, 0, 1)))\n",
    "    possible_positives = K.sum(K.round(K.clip(y_true, 0, 1)))\n",
    "    predicted_positives = K.sum(K.round(K.clip(y_pred, 0, 1)))\n",
    "    precision = true_positives / (predicted_positives + K.epsilon())\n",
    "    recall = true_positives / (possible_positives + K.epsilon())\n",
    "    f1_val = 2 * (precision * recall) / (precision + recall + K.epsilon())\n",
    "    return f1_val"
   ]
  },
  {
   "cell_type": "markdown",
   "id": "061f44ae",
   "metadata": {
    "papermill": {
     "duration": 0.005353,
     "end_time": "2023-05-04T05:00:54.775943",
     "exception": false,
     "start_time": "2023-05-04T05:00:54.770590",
     "status": "completed"
    },
    "tags": []
   },
   "source": [
    "<a id='2'></a>\n",
    "## 2. Model Optimization"
   ]
  },
  {
   "cell_type": "code",
   "execution_count": 9,
   "id": "5c2fc1a2",
   "metadata": {
    "execution": {
     "iopub.execute_input": "2023-05-04T05:00:54.788077Z",
     "iopub.status.busy": "2023-05-04T05:00:54.787230Z",
     "iopub.status.idle": "2023-05-04T05:00:54.792412Z",
     "shell.execute_reply": "2023-05-04T05:00:54.791429Z"
    },
    "papermill": {
     "duration": 0.013518,
     "end_time": "2023-05-04T05:00:54.794567",
     "exception": false,
     "start_time": "2023-05-04T05:00:54.781049",
     "status": "completed"
    },
    "tags": []
   },
   "outputs": [],
   "source": [
    "#build transfer learning model\n",
    "#def hp_model(hp):\n",
    "    \n",
    "#    pre = MobileNetV2(input_shape = (50, 50, 3),\n",
    "#               include_top=False,\n",
    "#               pooling = 'max')\n",
    "\n",
    "    #Freeze the model\n",
    "#    for layer in pre.layers:\n",
    "#        layer.trainable = False\n",
    "\n",
    "#    units = hp.Int(\"Dense_units\",min_value = 50, max_value = 100, step = 10)\n",
    "#    x = tf.keras.layers.Dense(units, activation = 'relu')(pre.output)\n",
    "#    x = tf.keras.layers.Dense(units/2,activation = 'relu')(x)\n",
    "#    out = tf.keras.layers.Dense(1, activation = 'sigmoid')(x)\n",
    "\n",
    "#    transfer_learning_model = tf.keras.models.Model(pre.input,out)\n",
    "\n",
    "#    hp_learning_rate = hp.Choice('learning_rate',[1e-2,1e-3,1e-4])\n",
    "#    transfer_learning_model.compile(optimizer = tf.keras.optimizers.Adam(learning_rate = hp_learning_rate),\n",
    "#                                   loss = tf.keras.losses.BinaryCrossentropy(),\n",
    "#                                   metrics = [tf.keras.metrics.Recall(),\n",
    "#                                             tf.keras.metrics.Precision(),\n",
    "#                                             f1_score])\n",
    "\n",
    "#    return transfer_learning_model "
   ]
  },
  {
   "cell_type": "code",
   "execution_count": 10,
   "id": "ed573547",
   "metadata": {
    "execution": {
     "iopub.execute_input": "2023-05-04T05:00:54.806060Z",
     "iopub.status.busy": "2023-05-04T05:00:54.805795Z",
     "iopub.status.idle": "2023-05-04T05:00:54.809611Z",
     "shell.execute_reply": "2023-05-04T05:00:54.808638Z"
    },
    "papermill": {
     "duration": 0.012105,
     "end_time": "2023-05-04T05:00:54.811825",
     "exception": false,
     "start_time": "2023-05-04T05:00:54.799720",
     "status": "completed"
    },
    "tags": []
   },
   "outputs": [],
   "source": [
    "#tuner = kt.Hyperband(hp_model,\n",
    "#                     objective=kt.Objective('f1_score', 'max'),\n",
    "#                     max_epochs=10,\n",
    "#                     factor=3,\n",
    "#                     directory='my_dir',\n",
    "#                     project_name='MobileNet_Optimization')"
   ]
  },
  {
   "cell_type": "code",
   "execution_count": 11,
   "id": "4a0d9a43",
   "metadata": {
    "execution": {
     "iopub.execute_input": "2023-05-04T05:00:54.824061Z",
     "iopub.status.busy": "2023-05-04T05:00:54.823212Z",
     "iopub.status.idle": "2023-05-04T05:00:54.827819Z",
     "shell.execute_reply": "2023-05-04T05:00:54.826933Z"
    },
    "papermill": {
     "duration": 0.012765,
     "end_time": "2023-05-04T05:00:54.829778",
     "exception": false,
     "start_time": "2023-05-04T05:00:54.817013",
     "status": "completed"
    },
    "tags": []
   },
   "outputs": [],
   "source": [
    "#stop_early = tf.keras.callbacks.EarlyStopping(monitor='val_loss', patience=5)\n",
    "#tuner.search(train_generator, epochs=50, validation_data = val_generator, callbacks=[stop_early])\n",
    "\n",
    "# Get the optimal hyperparameters\n",
    "#best_hps=tuner.get_best_hyperparameters(num_trials=1)[0]\n",
    "\n"
   ]
  },
  {
   "cell_type": "code",
   "execution_count": 12,
   "id": "5d9b0f4d",
   "metadata": {
    "execution": {
     "iopub.execute_input": "2023-05-04T05:00:54.842123Z",
     "iopub.status.busy": "2023-05-04T05:00:54.841230Z",
     "iopub.status.idle": "2023-05-04T05:00:54.845755Z",
     "shell.execute_reply": "2023-05-04T05:00:54.844862Z"
    },
    "papermill": {
     "duration": 0.012429,
     "end_time": "2023-05-04T05:00:54.847792",
     "exception": false,
     "start_time": "2023-05-04T05:00:54.835363",
     "status": "completed"
    },
    "tags": []
   },
   "outputs": [],
   "source": [
    "#print(f\"\"\"\n",
    "#The hyperparameter search is complete. The optimal number of units in the first densely-connected\n",
    "#layer is {best_hps.get('Dense_units')} and the optimal learning rate for the optimizer\n",
    "#is {best_hps.get('learning_rate')}.\n",
    "#\"\"\")"
   ]
  },
  {
   "cell_type": "markdown",
   "id": "4b8ff629",
   "metadata": {
    "papermill": {
     "duration": 0.004919,
     "end_time": "2023-05-04T05:00:54.857905",
     "exception": false,
     "start_time": "2023-05-04T05:00:54.852986",
     "status": "completed"
    },
    "tags": []
   },
   "source": [
    "<a id='3'></a>\n",
    "## 3. Training the Final Model"
   ]
  },
  {
   "cell_type": "code",
   "execution_count": 13,
   "id": "0a369f5d",
   "metadata": {
    "execution": {
     "iopub.execute_input": "2023-05-04T05:00:54.870052Z",
     "iopub.status.busy": "2023-05-04T05:00:54.869206Z",
     "iopub.status.idle": "2023-05-04T05:00:54.878119Z",
     "shell.execute_reply": "2023-05-04T05:00:54.877255Z"
    },
    "papermill": {
     "duration": 0.016985,
     "end_time": "2023-05-04T05:00:54.880183",
     "exception": false,
     "start_time": "2023-05-04T05:00:54.863198",
     "status": "completed"
    },
    "tags": []
   },
   "outputs": [],
   "source": [
    " def train_best_model(learning_rate,units):\n",
    "        \n",
    "    \n",
    "    pre = MobileNetV2(input_shape = (50, 50, 3),\n",
    "               include_top=False,\n",
    "               pooling = 'max')\n",
    "\n",
    "    #Freeze the model\n",
    "    for layer in pre.layers:\n",
    "        layer.trainable = False\n",
    "\n",
    "    \n",
    "    x = tf.keras.layers.Dense(units, activation = 'relu')(pre.output)\n",
    "    x = tf.keras.layers.Dense(units/2,activation = 'relu')(x)\n",
    "    out = tf.keras.layers.Dense(1, activation = 'sigmoid')(x)\n",
    "\n",
    "    transfer_learning_model = tf.keras.models.Model(pre.input,out)\n",
    "\n",
    "    \n",
    "    transfer_learning_model.compile(optimizer = tf.keras.optimizers.Adam(learning_rate = learning_rate),\n",
    "                                   loss = tf.keras.losses.BinaryCrossentropy(),\n",
    "                                   metrics = [tf.keras.metrics.Recall(),\n",
    "                                             tf.keras.metrics.Precision(),\n",
    "                                             f1_score])\n",
    "    \n",
    "    history = transfer_learning_model.fit(train_generator,epochs = 300, validation_data = val_generator,\n",
    "                                         callbacks = tf.keras.callbacks.EarlyStopping(patience = 5,\n",
    "                                                                                     min_delta = 0.001),\n",
    "                                         class_weight = cls_weights)\n",
    "    test_results = transfer_learning_model.evaluate(test_generator)\n",
    "    \n",
    "    return transfer_learning_model,history,test_results"
   ]
  },
  {
   "cell_type": "code",
   "execution_count": 14,
   "id": "292b78d1",
   "metadata": {
    "execution": {
     "iopub.execute_input": "2023-05-04T05:00:54.892319Z",
     "iopub.status.busy": "2023-05-04T05:00:54.891456Z",
     "iopub.status.idle": "2023-05-04T05:30:05.641893Z",
     "shell.execute_reply": "2023-05-04T05:30:05.640757Z"
    },
    "papermill": {
     "duration": 1750.759208,
     "end_time": "2023-05-04T05:30:05.644713",
     "exception": false,
     "start_time": "2023-05-04T05:00:54.885505",
     "status": "completed"
    },
    "tags": []
   },
   "outputs": [
    {
     "name": "stdout",
     "output_type": "stream",
     "text": [
      "Downloading data from https://storage.googleapis.com/tensorflow/keras-applications/mobilenet_v2/mobilenet_v2_weights_tf_dim_ordering_tf_kernels_1.0_224_no_top.h5\n",
      "9406464/9406464 [==============================] - 0s 0us/step\n",
      "Epoch 1/300\n",
      "1750/1750 [==============================] - 514s 285ms/step - loss: 0.1907 - recall: 0.7674 - precision: 0.6083 - f1_score: 0.6685 - val_loss: 0.5787 - val_recall: 0.9019 - val_precision: 0.4797 - val_f1_score: 0.6159\n",
      "Epoch 2/300\n",
      "1750/1750 [==============================] - 124s 71ms/step - loss: 0.1787 - recall: 0.7943 - precision: 0.6229 - f1_score: 0.6873 - val_loss: 0.4450 - val_recall: 0.8207 - val_precision: 0.6032 - val_f1_score: 0.6849\n",
      "Epoch 3/300\n",
      "1750/1750 [==============================] - 117s 67ms/step - loss: 0.1732 - recall: 0.8028 - precision: 0.6289 - f1_score: 0.6946 - val_loss: 0.4295 - val_recall: 0.7962 - val_precision: 0.6244 - val_f1_score: 0.6901\n",
      "Epoch 4/300\n",
      "1750/1750 [==============================] - 116s 66ms/step - loss: 0.1677 - recall: 0.8122 - precision: 0.6390 - f1_score: 0.7056 - val_loss: 0.4584 - val_recall: 0.8314 - val_precision: 0.5940 - val_f1_score: 0.6828\n",
      "Epoch 5/300\n",
      "1750/1750 [==============================] - 115s 66ms/step - loss: 0.1632 - recall: 0.8243 - precision: 0.6478 - f1_score: 0.7150 - val_loss: 0.4108 - val_recall: 0.7646 - val_precision: 0.6489 - val_f1_score: 0.6890\n",
      "Epoch 6/300\n",
      "1750/1750 [==============================] - 118s 67ms/step - loss: 0.1583 - recall: 0.8285 - precision: 0.6555 - f1_score: 0.7229 - val_loss: 0.4155 - val_recall: 0.7782 - val_precision: 0.6449 - val_f1_score: 0.6925\n",
      "Epoch 7/300\n",
      "1750/1750 [==============================] - 115s 66ms/step - loss: 0.1522 - recall: 0.8409 - precision: 0.6657 - f1_score: 0.7334 - val_loss: 0.4139 - val_recall: 0.7457 - val_precision: 0.6724 - val_f1_score: 0.6945\n",
      "Epoch 8/300\n",
      "1750/1750 [==============================] - 117s 67ms/step - loss: 0.1466 - recall: 0.8494 - precision: 0.6753 - f1_score: 0.7423 - val_loss: 0.4463 - val_recall: 0.7862 - val_precision: 0.6194 - val_f1_score: 0.6819\n",
      "Epoch 9/300\n",
      "1750/1750 [==============================] - 120s 69ms/step - loss: 0.1409 - recall: 0.8586 - precision: 0.6881 - f1_score: 0.7551 - val_loss: 0.4692 - val_recall: 0.8071 - val_precision: 0.6121 - val_f1_score: 0.6860\n",
      "Epoch 10/300\n",
      "1750/1750 [==============================] - 119s 68ms/step - loss: 0.1354 - recall: 0.8666 - precision: 0.6966 - f1_score: 0.7647 - val_loss: 0.4336 - val_recall: 0.7265 - val_precision: 0.6578 - val_f1_score: 0.6782\n",
      "375/375 [==============================] - 95s 254ms/step - loss: 0.4391 - recall: 0.7247 - precision: 0.6432 - f1_score: 0.6677\n"
     ]
    }
   ],
   "source": [
    "#results obtained from keras tuner\n",
    "best_params = {\n",
    "    'units':90,\n",
    "    'learning_rate' : 0.001\n",
    "}\n",
    "\n",
    "model,history,test_results = train_best_model(**best_params)"
   ]
  },
  {
   "cell_type": "code",
   "execution_count": 15,
   "id": "43c5c20e",
   "metadata": {
    "execution": {
     "iopub.execute_input": "2023-05-04T05:30:07.632795Z",
     "iopub.status.busy": "2023-05-04T05:30:07.631644Z",
     "iopub.status.idle": "2023-05-04T05:30:07.984182Z",
     "shell.execute_reply": "2023-05-04T05:30:07.983030Z"
    },
    "papermill": {
     "duration": 1.311447,
     "end_time": "2023-05-04T05:30:07.986959",
     "exception": false,
     "start_time": "2023-05-04T05:30:06.675512",
     "status": "completed"
    },
    "tags": []
   },
   "outputs": [],
   "source": [
    "model.save('transfer_learning_model.h5')\n",
    "\n",
    "with open('transfer_learning_history.pkl', 'wb') as file:\n",
    "    pickle.dump(history.history, file)\n",
    "    \n",
    "with open('transfer_learning_test_results.pkl', 'wb') as file:\n",
    "    pickle.dump(test_results, file)\n",
    "    "
   ]
  },
  {
   "cell_type": "code",
   "execution_count": 16,
   "id": "f510a14c",
   "metadata": {
    "execution": {
     "iopub.execute_input": "2023-05-04T05:30:09.977396Z",
     "iopub.status.busy": "2023-05-04T05:30:09.976702Z",
     "iopub.status.idle": "2023-05-04T05:30:10.711738Z",
     "shell.execute_reply": "2023-05-04T05:30:10.710696Z"
    },
    "papermill": {
     "duration": 1.701613,
     "end_time": "2023-05-04T05:30:10.714025",
     "exception": false,
     "start_time": "2023-05-04T05:30:09.012412",
     "status": "completed"
    },
    "tags": []
   },
   "outputs": [
    {
     "data": {
      "image/png": "[encoded data removed]",
      "text/plain": [
       "<Figure size 1000x500 with 1 Axes>"
      ]
     },
     "metadata": {},
     "output_type": "display_data"
    },
    {
     "data": {
      "image/png": "[encoded data removed]",
      "text/plain": [
       "<Figure size 1000x500 with 1 Axes>"
      ]
     },
     "metadata": {},
     "output_type": "display_data"
    },
    {
     "data": {
      "image/png": "[encoded data removed]",
      "text/plain": [
       "<Figure size 1000x500 with 1 Axes>"
      ]
     },
     "metadata": {},
     "output_type": "display_data"
    }
   ],
   "source": [
    "def plot_the_results(history):\n",
    "    plt.style.use('seaborn')\n",
    "    plt.figure(figsize = (10,5))\n",
    "    plt.plot(history.epoch,history.history['val_f1_score'], label = 'Val F1 Score',linewidth=2)\n",
    "    plt.plot(history.epoch,history.history['f1_score'], label = 'f1_score',linewidth=2)\n",
    "    plt.legend()\n",
    "    plt.title('F1 Score')\n",
    "    plt.show()\n",
    "\n",
    "    plt.figure(figsize = (10,5))\n",
    "    plt.plot(history.epoch,history.history['val_precision'], label = 'Val Precision',linewidth=2)\n",
    "    plt.plot(history.epoch,history.history['precision'], label = 'Precision',linewidth=2)\n",
    "    plt.legend()\n",
    "    plt.title('Precision')\n",
    "    plt.show()\n",
    "    \n",
    "    plt.figure(figsize = (10,5))\n",
    "    plt.plot(history.epoch,history.history['val_recall'], label = 'Val Recall',linewidth=2)\n",
    "    plt.plot(history.epoch,history.history['recall'], label = 'Recall',linewidth=2)\n",
    "    plt.legend()\n",
    "    plt.title('Recall')\n",
    "    plt.show()\n",
    "    \n",
    "plot_the_results(history)"
   ]
  },
  {
   "cell_type": "code",
   "execution_count": 17,
   "id": "06bf40e9",
   "metadata": {
    "execution": {
     "iopub.execute_input": "2023-05-04T05:30:13.298114Z",
     "iopub.status.busy": "2023-05-04T05:30:13.297526Z",
     "iopub.status.idle": "2023-05-04T05:30:13.306790Z",
     "shell.execute_reply": "2023-05-04T05:30:13.305794Z"
    },
    "papermill": {
     "duration": 1.200384,
     "end_time": "2023-05-04T05:30:13.309374",
     "exception": false,
     "start_time": "2023-05-04T05:30:12.108990",
     "status": "completed"
    },
    "tags": []
   },
   "outputs": [
    {
     "name": "stdout",
     "output_type": "stream",
     "text": [
      "Test Results\n",
      "\n",
      "-------------\n",
      "\n",
      "Test Loss: 0.439\n",
      "Test Precision:  0.725\n",
      "Test Recall:  0.643\n"
     ]
    }
   ],
   "source": [
    "print(\"Test Results\")\n",
    "print(\"\\n-------------\\n\")\n",
    "print(\"Test Loss:\",format(test_results[0],'.3f'))\n",
    "print(\"Test Precision: \",format(test_results[1], '.3f'))\n",
    "print(\"Test Recall: \", format(test_results[2],'.3f'))"
   ]
  },
  {
   "cell_type": "markdown",
   "id": "00849743",
   "metadata": {
    "papermill": {
     "duration": 0.96201,
     "end_time": "2023-05-04T05:30:15.306408",
     "exception": false,
     "start_time": "2023-05-04T05:30:14.344398",
     "status": "completed"
    },
    "tags": []
   },
   "source": [
    "<a id='4'></a>\n",
    "## 4. Calculating the Number of Parameters and Amount of Mult Adds Needed"
   ]
  },
  {
   "cell_type": "code",
   "execution_count": 18,
   "id": "128ad51a",
   "metadata": {
    "execution": {
     "iopub.execute_input": "2023-05-04T05:30:17.496541Z",
     "iopub.status.busy": "2023-05-04T05:30:17.496132Z",
     "iopub.status.idle": "2023-05-04T05:30:17.510536Z",
     "shell.execute_reply": "2023-05-04T05:30:17.509483Z"
    },
    "papermill": {
     "duration": 1.123095,
     "end_time": "2023-05-04T05:30:17.513308",
     "exception": false,
     "start_time": "2023-05-04T05:30:16.390213",
     "status": "completed"
    },
    "tags": []
   },
   "outputs": [
    {
     "name": "stdout",
     "output_type": "stream",
     "text": [
      "Total parameters: 2377415\n",
      "Total number of multipy-accumulates: 21583104\n"
     ]
    }
   ],
   "source": [
    "total_parameters = model.count_params()\n",
    "mult_adds_total = 0\n",
    "for layer in model.layers:\n",
    "    if isinstance(layer, tf.keras.layers.Conv2D):\n",
    "        height, width, channels_in = layer.input_shape[1:]\n",
    "        _, _, channels_out = layer.output_shape[1:]\n",
    "        kernel_height, kernel_width = layer.kernel_size\n",
    "\n",
    "        mult_adds = height * width * channels_in * channels_out * kernel_height * kernel_width\n",
    "        mult_adds_total += mult_adds\n",
    "        \n",
    "        \n",
    "print(\"Total parameters:\", total_parameters)\n",
    "print(\"Total number of multipy-accumulates:\", mult_adds_total)"
   ]
  }
 ],
 "metadata": {
  "kernelspec": {
   "display_name": "Python 3",
   "language": "python",
   "name": "python3"
  },
  "language_info": {
   "codemirror_mode": {
    "name": "ipython",
    "version": 3
   },
   "file_extension": ".py",
   "mimetype": "text/x-python",
   "name": "python",
   "nbconvert_exporter": "python",
   "pygments_lexer": "ipython3",
   "version": "3.7.12"
  },
  "papermill": {
   "default_parameters": {},
   "duration": 2143.159014,
   "end_time": "2023-05-04T05:30:21.803007",
   "environment_variables": {},
   "exception": null,
   "input_path": "__notebook__.ipynb",
   "output_path": "__notebook__.ipynb",
   "parameters": {},
   "start_time": "2023-05-04T04:54:38.643993",
   "version": "2.4.0"
  }
 },
 "nbformat": 4,
 "nbformat_minor": 5
}
